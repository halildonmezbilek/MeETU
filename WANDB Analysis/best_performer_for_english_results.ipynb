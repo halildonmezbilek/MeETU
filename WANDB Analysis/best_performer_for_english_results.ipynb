{
 "cells": [
  {
   "cell_type": "code",
   "execution_count": 1,
   "metadata": {},
   "outputs": [],
   "source": [
    "import scipy.stats as stats\n",
    "from scipy.stats import wilcoxon, kruskal\n",
    "import scikit_posthocs as sp\n",
    "import pandas as pd\n",
    "import xlrd\n",
    "import itertools\n",
    "import matplotlib.pyplot as plt\n",
    "import seaborn as sns\n",
    "from scikit_posthocs import posthoc_dunn\n",
    "import numpy as np"
   ]
  },
  {
   "cell_type": "code",
   "execution_count": 2,
   "metadata": {},
   "outputs": [],
   "source": [
    "test_results = pd.read_excel(\"C:\\\\Users\\\\MERVE EKİZ\\\\Downloads\\\\wandb_test_results_for_english.xlsx\")"
   ]
  },
  {
   "cell_type": "code",
   "execution_count": 3,
   "metadata": {},
   "outputs": [
    {
     "data": {
      "text/html": [
       "<div>\n",
       "<style scoped>\n",
       "    .dataframe tbody tr th:only-of-type {\n",
       "        vertical-align: middle;\n",
       "    }\n",
       "\n",
       "    .dataframe tbody tr th {\n",
       "        vertical-align: top;\n",
       "    }\n",
       "\n",
       "    .dataframe thead th {\n",
       "        text-align: right;\n",
       "    }\n",
       "</style>\n",
       "<table border=\"1\" class=\"dataframe\">\n",
       "  <thead>\n",
       "    <tr style=\"text-align: right;\">\n",
       "      <th></th>\n",
       "      <th>model</th>\n",
       "      <th>user_input</th>\n",
       "      <th>context_recall</th>\n",
       "      <th>non_llm_context_precision_with_reference</th>\n",
       "      <th>factual_correctness</th>\n",
       "      <th>faithfulness</th>\n",
       "      <th>semantic_similarity</th>\n",
       "    </tr>\n",
       "  </thead>\n",
       "  <tbody>\n",
       "    <tr>\n",
       "      <th>0</th>\n",
       "      <td>model1</td>\n",
       "      <td>question1</td>\n",
       "      <td>0.75</td>\n",
       "      <td>0.250000</td>\n",
       "      <td>0.38</td>\n",
       "      <td>0.290323</td>\n",
       "      <td>0.925462</td>\n",
       "    </tr>\n",
       "    <tr>\n",
       "      <th>1</th>\n",
       "      <td>model1</td>\n",
       "      <td>question2</td>\n",
       "      <td>1.00</td>\n",
       "      <td>0.000000</td>\n",
       "      <td>0.24</td>\n",
       "      <td>0.750000</td>\n",
       "      <td>0.906159</td>\n",
       "    </tr>\n",
       "    <tr>\n",
       "      <th>2</th>\n",
       "      <td>model1</td>\n",
       "      <td>question3</td>\n",
       "      <td>1.00</td>\n",
       "      <td>1.000000</td>\n",
       "      <td>0.75</td>\n",
       "      <td>0.800000</td>\n",
       "      <td>0.972465</td>\n",
       "    </tr>\n",
       "    <tr>\n",
       "      <th>3</th>\n",
       "      <td>model1</td>\n",
       "      <td>question4</td>\n",
       "      <td>1.00</td>\n",
       "      <td>0.916667</td>\n",
       "      <td>0.80</td>\n",
       "      <td>1.000000</td>\n",
       "      <td>0.972109</td>\n",
       "    </tr>\n",
       "    <tr>\n",
       "      <th>4</th>\n",
       "      <td>model1</td>\n",
       "      <td>question5</td>\n",
       "      <td>0.00</td>\n",
       "      <td>0.000000</td>\n",
       "      <td>0.08</td>\n",
       "      <td>0.000000</td>\n",
       "      <td>0.937651</td>\n",
       "    </tr>\n",
       "  </tbody>\n",
       "</table>\n",
       "</div>"
      ],
      "text/plain": [
       "    model user_input  context_recall  \\\n",
       "0  model1  question1            0.75   \n",
       "1  model1  question2            1.00   \n",
       "2  model1  question3            1.00   \n",
       "3  model1  question4            1.00   \n",
       "4  model1  question5            0.00   \n",
       "\n",
       "   non_llm_context_precision_with_reference  factual_correctness  \\\n",
       "0                                  0.250000                 0.38   \n",
       "1                                  0.000000                 0.24   \n",
       "2                                  1.000000                 0.75   \n",
       "3                                  0.916667                 0.80   \n",
       "4                                  0.000000                 0.08   \n",
       "\n",
       "   faithfulness  semantic_similarity  \n",
       "0      0.290323             0.925462  \n",
       "1      0.750000             0.906159  \n",
       "2      0.800000             0.972465  \n",
       "3      1.000000             0.972109  \n",
       "4      0.000000             0.937651  "
      ]
     },
     "execution_count": 3,
     "metadata": {},
     "output_type": "execute_result"
    }
   ],
   "source": [
    "test_results.head()"
   ]
  },
  {
   "cell_type": "code",
   "execution_count": 4,
   "metadata": {},
   "outputs": [],
   "source": [
    "# define metrics \n",
    "all_metrics = [\n",
    "    \"context_recall\",\n",
    "    \"non_llm_context_precision_with_reference\",\n",
    "    \"factual_correctness\",\n",
    "    \"faithfulness\",\n",
    "    \"semantic_similarity\",\n",
    "]"
   ]
  },
  {
   "cell_type": "code",
   "execution_count": 5,
   "metadata": {},
   "outputs": [],
   "source": [
    "# group data for each model\n",
    "grouped_data = test_results.groupby(\"model\")"
   ]
  },
  {
   "cell_type": "markdown",
   "metadata": {},
   "source": [
    "### Kruskal-Wallis Test"
   ]
  },
  {
   "cell_type": "code",
   "execution_count": 6,
   "metadata": {},
   "outputs": [],
   "source": [
    "kruskal_results = {}\n",
    "for metric in all_metrics:\n",
    "    data_per_model = [group[metric].dropna().values for name, group in grouped_data]\n",
    "    kruskal_results[metric] = kruskal(*data_per_model)"
   ]
  },
  {
   "cell_type": "code",
   "execution_count": 7,
   "metadata": {},
   "outputs": [
    {
     "data": {
      "text/plain": [
       "{'context_recall': KruskalResult(statistic=np.float64(13.029981046073924), pvalue=np.float64(0.16125433813813433)),\n",
       " 'non_llm_context_precision_with_reference': KruskalResult(statistic=np.float64(34.19076314124592), pvalue=np.float64(8.269954462036544e-05)),\n",
       " 'factual_correctness': KruskalResult(statistic=np.float64(14.273470841023496), pvalue=np.float64(0.11292446362395579)),\n",
       " 'faithfulness': KruskalResult(statistic=np.float64(14.95037387056292), pvalue=np.float64(0.09230817208591681)),\n",
       " 'semantic_similarity': KruskalResult(statistic=np.float64(11.307978320985061), pvalue=np.float64(0.2551878706957111))}"
      ]
     },
     "execution_count": 7,
     "metadata": {},
     "output_type": "execute_result"
    }
   ],
   "source": [
    "kruskal_results"
   ]
  },
  {
   "cell_type": "markdown",
   "metadata": {},
   "source": [
    "Kruskal - Wallis Test Results:\n",
    "As it is seen from the code above, onyl non-llm context precision with reference metric has a significant difference among models because the p-value is less than 0.05 for this metric. \n",
    "\n",
    "1. Semantic Similarity: \n",
    "𝑝>0.05\n",
    "There is no significant differences among models.\n",
    "2. Factual Correctness: \n",
    "𝑝>0.05\n",
    "There is no significant differences among models.\n",
    "3. Context Recall:  \n",
    "𝑝>0.05\n",
    "There is no significant differences among models.\n",
    "4. Non-LLM Context Precision with Reference:\n",
    "p<0.05\n",
    "Significant differences exist among models.\n",
    "5. Faithfulness:\n",
    "𝑝>0.05\n",
    "There is no significant differences among models.\n"
   ]
  },
  {
   "cell_type": "markdown",
   "metadata": {},
   "source": [
    "#### Dunn's Test to compare all pairwise differences between groups"
   ]
  },
  {
   "cell_type": "code",
   "execution_count": 8,
   "metadata": {},
   "outputs": [
    {
     "data": {
      "image/png": "[encoded data removed]",
      "text/plain": [
       "<Figure size 1200x600 with 1 Axes>"
      ]
     },
     "metadata": {},
     "output_type": "display_data"
    }
   ],
   "source": [
    "# Perform Dunn's test\n",
    "dunn_results = posthoc_dunn(\n",
    "    test_results, val_col=\"non_llm_context_precision_with_reference\", group_col=\"model\", p_adjust=\"bonferroni\"\n",
    ")\n",
    "\n",
    "# Extract significant comparisons\n",
    "significant_pairs1 = [\n",
    "    (row, col, p_value)\n",
    "    for row, series in dunn_results.iterrows()\n",
    "    for col, p_value in series.items()\n",
    "    if row < col and p_value < 0.05\n",
    "]\n",
    "\n",
    "# Prepare visualization data\n",
    "x_labels = []\n",
    "x_values = []\n",
    "y_errors = []\n",
    "\n",
    "for i, (model1, model2, p_value) in enumerate(significant_pairs1):\n",
    "    x_labels.append(f\"{model1} - {model2}\")\n",
    "    x_values.append(p_value) \n",
    "    y_errors.append(0.01)  # Placeholder error bars\n",
    "\n",
    "# Plot the results\n",
    "plt.figure(figsize=(12, 6))\n",
    "plt.errorbar(x_labels, x_values, yerr=y_errors, fmt='o', color='blue', ecolor='gray', capsize=5)\n",
    "plt.axhline(0.05, color='red', linestyle='--', label=\"Significance Threshold\")\n",
    "plt.xticks(rotation=45, ha=\"right\")\n",
    "plt.xlabel(\"Model Comparisons\")\n",
    "plt.ylabel(\"p-value\")\n",
    "plt.title(f\"Dunn's Test Results for non llm context precision with reference\", fontsize=14)\n",
    "plt.legend()\n",
    "plt.tight_layout()\n",
    "plt.show()"
   ]
  },
  {
   "cell_type": "markdown",
   "metadata": {},
   "source": [
    "### One-sided Wilcoxon signed-rank test to find the statistically higher performance"
   ]
  },
  {
   "cell_type": "code",
   "execution_count": 9,
   "metadata": {},
   "outputs": [
    {
     "data": {
      "text/plain": [
       "[('model2', 'model9', np.float64(742.5), np.float64(0.0018964852114972772)),\n",
       " ('model3', 'model9', np.float64(662.5), np.float64(0.004065111743744949)),\n",
       " ('model4', 'model9', np.float64(637.0), np.float64(7.966861166277368e-06)),\n",
       " ('model5', 'model6', np.float64(585.0), np.float64(0.0009297464365598015)),\n",
       " ('model5', 'model7', np.float64(430.5), np.float64(0.003653959377403684)),\n",
       " ('model5', 'model8', np.float64(446.5), np.float64(0.005404332413877948)),\n",
       " ('model5', 'model9', np.float64(929.5), np.float64(1.5151058791519687e-06)),\n",
       " ('model5', 'model10', np.float64(325.0), np.float64(0.002659347564162181)),\n",
       " ('model6', 'model9', np.float64(638.5), np.float64(0.0010498676848276246)),\n",
       " ('model7', 'model9', np.float64(430.0), np.float64(0.00017604564010862203)),\n",
       " ('model8', 'model9', np.float64(528.0), np.float64(3.942098592199212e-05))]"
      ]
     },
     "execution_count": 9,
     "metadata": {},
     "output_type": "execute_result"
    }
   ],
   "source": [
    "# Filter data for Wilcoxon signed-rank test\n",
    "metric_data = test_results[[\"model\", \"non_llm_context_precision_with_reference\"]].dropna()\n",
    "\n",
    "# Prepare pairwise comparisons for one-sided Wilcoxon tests\n",
    "pairwise_results = []\n",
    "\n",
    "for model1, model2 in itertools.combinations(test_results[\"model\"].unique(), 2):\n",
    "    data1 = metric_data.loc[metric_data[\"model\"] == model1, \"non_llm_context_precision_with_reference\"].values\n",
    "    data2 = metric_data.loc[metric_data[\"model\"] == model2, \"non_llm_context_precision_with_reference\"].values\n",
    "    \n",
    "    # Ensure paired comparison by matching lengths\n",
    "    min_len = min(len(data1), len(data2))\n",
    "    data1, data2 = data1[:min_len], data2[:min_len]\n",
    "    \n",
    "    # Perform one-sided Wilcoxon test \n",
    "    stat, p_value = wilcoxon(data1, data2, alternative='greater')\n",
    "    pairwise_results.append((model1, model2, stat, p_value))\n",
    "\n",
    "# Filter significant results\n",
    "significant_results = [(m1, m2, stat, p) for m1, m2, stat, p in pairwise_results if p < 0.05]\n",
    "\n",
    "# Display significant one-sided Wilcoxon test results\n",
    "significant_results"
   ]
  },
  {
   "cell_type": "code",
   "execution_count": 10,
   "metadata": {},
   "outputs": [
    {
     "data": {
      "text/plain": [
       "model\n",
       "model5     0.654535\n",
       "model4     0.589368\n",
       "model8     0.532414\n",
       "model10    0.531746\n",
       "model2     0.524439\n",
       "model6     0.514853\n",
       "model7     0.514651\n",
       "model3     0.507048\n",
       "model1     0.332048\n",
       "model9     0.323961\n",
       "Name: non_llm_context_precision_with_reference, dtype: float64"
      ]
     },
     "execution_count": 10,
     "metadata": {},
     "output_type": "execute_result"
    }
   ],
   "source": [
    "mean_metric = (\n",
    "    test_results.groupby(\"model\")[\"non_llm_context_precision_with_reference\"].mean().sort_values(ascending=False)\n",
    ")\n",
    "\n",
    "mean_metric"
   ]
  },
  {
   "cell_type": "markdown",
   "metadata": {},
   "source": [
    "Mean of All Metrics"
   ]
  },
  {
   "cell_type": "code",
   "execution_count": 26,
   "metadata": {},
   "outputs": [
    {
     "data": {
      "text/plain": [
       "model\n",
       "model6     0.830335\n",
       "model5     0.791478\n",
       "model4     0.788813\n",
       "model7     0.764739\n",
       "model8     0.747058\n",
       "model10    0.712177\n",
       "model2     0.681185\n",
       "model9     0.678159\n",
       "model1     0.677828\n",
       "model3     0.659259\n",
       "Name: context_recall, dtype: float64"
      ]
     },
     "execution_count": 26,
     "metadata": {},
     "output_type": "execute_result"
    }
   ],
   "source": [
    "mean_metric = (\n",
    "    test_results.groupby(\"model\")[\"context_recall\"].mean().sort_values(ascending=False)\n",
    ")\n",
    "\n",
    "mean_metric"
   ]
  },
  {
   "cell_type": "code",
   "execution_count": 27,
   "metadata": {},
   "outputs": [
    {
     "data": {
      "text/plain": [
       "model\n",
       "model5     0.654535\n",
       "model4     0.589368\n",
       "model8     0.532414\n",
       "model10    0.531746\n",
       "model2     0.524439\n",
       "model6     0.514853\n",
       "model7     0.514651\n",
       "model3     0.507048\n",
       "model1     0.332048\n",
       "model9     0.323961\n",
       "Name: non_llm_context_precision_with_reference, dtype: float64"
      ]
     },
     "execution_count": 27,
     "metadata": {},
     "output_type": "execute_result"
    }
   ],
   "source": [
    "mean_metric = (\n",
    "    test_results.groupby(\"model\")[\"non_llm_context_precision_with_reference\"].mean().sort_values(ascending=False)\n",
    ")\n",
    "\n",
    "mean_metric"
   ]
  },
  {
   "cell_type": "code",
   "execution_count": 28,
   "metadata": {},
   "outputs": [
    {
     "data": {
      "text/plain": [
       "model\n",
       "model10    0.468413\n",
       "model5     0.466190\n",
       "model6     0.455079\n",
       "model8     0.440794\n",
       "model4     0.437143\n",
       "model7     0.422222\n",
       "model1     0.386349\n",
       "model2     0.362787\n",
       "model3     0.360794\n",
       "model9     0.357143\n",
       "Name: factual_correctness, dtype: float64"
      ]
     },
     "execution_count": 28,
     "metadata": {},
     "output_type": "execute_result"
    }
   ],
   "source": [
    "mean_metric = (\n",
    "    test_results.groupby(\"model\")[\"factual_correctness\"].mean().sort_values(ascending=False)\n",
    ")\n",
    "\n",
    "mean_metric"
   ]
  },
  {
   "cell_type": "code",
   "execution_count": 29,
   "metadata": {},
   "outputs": [
    {
     "data": {
      "text/plain": [
       "model\n",
       "model6     0.751381\n",
       "model5     0.695784\n",
       "model2     0.680926\n",
       "model7     0.676248\n",
       "model8     0.660316\n",
       "model4     0.659267\n",
       "model3     0.626087\n",
       "model1     0.622404\n",
       "model10    0.593411\n",
       "model9     0.570362\n",
       "Name: faithfulness, dtype: float64"
      ]
     },
     "execution_count": 29,
     "metadata": {},
     "output_type": "execute_result"
    }
   ],
   "source": [
    "mean_metric = (\n",
    "    test_results.groupby(\"model\")[\"faithfulness\"].mean().sort_values(ascending=False)\n",
    ")\n",
    "\n",
    "mean_metric"
   ]
  },
  {
   "cell_type": "code",
   "execution_count": 30,
   "metadata": {},
   "outputs": [
    {
     "data": {
      "text/plain": [
       "model\n",
       "model10    0.934510\n",
       "model8     0.933978\n",
       "model5     0.933950\n",
       "model4     0.933783\n",
       "model7     0.931414\n",
       "model9     0.930765\n",
       "model1     0.926254\n",
       "model6     0.921312\n",
       "model3     0.892985\n",
       "model2     0.891056\n",
       "Name: semantic_similarity, dtype: float64"
      ]
     },
     "execution_count": 30,
     "metadata": {},
     "output_type": "execute_result"
    }
   ],
   "source": [
    "mean_metric = (\n",
    "    test_results.groupby(\"model\")[\"semantic_similarity\"].mean().sort_values(ascending=False)\n",
    ")\n",
    "\n",
    "mean_metric"
   ]
  }
 ],
 "metadata": {
  "kernelspec": {
   "display_name": "Python 3",
   "language": "python",
   "name": "python3"
  },
  "language_info": {
   "codemirror_mode": {
    "name": "ipython",
    "version": 3
   },
   "file_extension": ".py",
   "mimetype": "text/x-python",
   "name": "python",
   "nbconvert_exporter": "python",
   "pygments_lexer": "ipython3",
   "version": "3.10.4"
  }
 },
 "nbformat": 4,
 "nbformat_minor": 2
}
