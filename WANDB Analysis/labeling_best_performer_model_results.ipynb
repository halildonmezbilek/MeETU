{
 "cells": [
  {
   "cell_type": "code",
   "execution_count": 15,
   "metadata": {},
   "outputs": [
    {
     "name": "stdout",
     "output_type": "stream",
     "text": [
      "                                          user_input  \\\n",
      "0                ODTÜ HAT nedir ve ne zaman kuruldu?   \n",
      "1  ODTÜ kulübü ve faaliyetleri hakkında daha fazl...   \n",
      "2  YKS Kayıt Programı kullanarak yurt başvurusu n...   \n",
      "3  What are the key architectural developments an...   \n",
      "4  As the Underwater Research Coordinator, I am i...   \n",
      "\n",
      "                                  retrieved_contexts  \\\n",
      "0  Sports Club Name: ODTÜ HAVACILIK TOPLULUĞU YAM...   \n",
      "1  Sports Club Name: ODTU SATRANÇ TOPLULUĞU\\nSpor...   \n",
      "2  mesaj düzgün olarak görüntülenemez. Örneğin me...   \n",
      "3  Course: ARCH427\\nDepartment: This course belon...   \n",
      "4  Sports Club Name: METU AIKIDO COMMUNITY\\nSport...   \n",
      "\n",
      "                                  reference_contexts  \\\n",
      "0  Sports Club Name: ODTÜ HAVACILIK TOPLULUĞU YAM...   \n",
      "1  Sports Club Name: ODTÜ DENİZCİLİK VE YELKEN TO...   \n",
      "2  Application for Dormitories: Students whose fa...   \n",
      "3  abea63f4-85ac-4646-ab2c-b2cbc87fdff2\\n\\nCourse...   \n",
      "4  303063e1-3f56-4b2a-aa0d-41b194cbde90\\n\\nSports...   \n",
      "\n",
      "                                            response  \\\n",
      "0  İstenen bilgiye uygun olarak ODTÜ HAT (ODTÜ Ha...   \n",
      "1  İşte ODTÜ Sualtı Topluluğu (ODTÜ SAT) hakkında...   \n",
      "2  İlk olarak, KS Kayıt Programı kullanarak yurt ...   \n",
      "3   In the ARCH112 course, you will study key arc...   \n",
      "4   The ODTÜ Aikido Topluluğu focuses on promotin...   \n",
      "\n",
      "                                           reference  context_recall  \\\n",
      "0  ODTÜ HAT nedir?  \\nODTÜ HAT, ODTÜ Havacılık To...            1.00   \n",
      "1  Spor Kulübü Adı: ODTÜ DENİZCİLİK VE YELKEN TOP...            1.00   \n",
      "2  Ankara dışında ailesi yaşayan öğrenciler yurtl...            0.50   \n",
      "3  The ARCH112 course provides a concise survey o...            0.75   \n",
      "4  The ODTÜ Aikido Topluluğu, through its Childre...            1.00   \n",
      "\n",
      "   non_llm_context_precision_with_reference  factual_correctness  \\\n",
      "0                                       1.0                 0.22   \n",
      "1                                       0.2                 0.00   \n",
      "2                                       0.0                 0.00   \n",
      "3                                       0.5                 0.10   \n",
      "4                                       0.5                 0.48   \n",
      "\n",
      "   faithfulness  semantic_similarity  \n",
      "0      0.923077             0.916312  \n",
      "1      0.611111             0.909967  \n",
      "2      0.000000             0.904784  \n",
      "3      0.153846             0.930277  \n",
      "4      0.615385             0.974794  \n"
     ]
    }
   ],
   "source": [
    "import pandas as pd\n",
    "\n",
    "df = pd.read_csv(\"/Users/faizeyildiz/Downloads/test_results.csv\") # results from best performing model-\n",
    "\n",
    "\n",
    "print(df.head())\n"
   ]
  },
  {
   "cell_type": "code",
   "execution_count": 16,
   "metadata": {},
   "outputs": [],
   "source": [
    "from langdetect import detect\n",
    "\n",
    "# Add a new column for the detected language\n",
    "df['Language'] = df['user_input'].apply(lambda x: detect(x))\n",
    "\n",
    "# Map detected language codes to full names\n",
    "df['Language'] = df['Language'].map({'tr': 'Turkish', 'en': 'English'})\n"
   ]
  },
  {
   "cell_type": "code",
   "execution_count": 17,
   "metadata": {},
   "outputs": [
    {
     "data": {
      "text/html": [
       "<div>\n",
       "<style scoped>\n",
       "    .dataframe tbody tr th:only-of-type {\n",
       "        vertical-align: middle;\n",
       "    }\n",
       "\n",
       "    .dataframe tbody tr th {\n",
       "        vertical-align: top;\n",
       "    }\n",
       "\n",
       "    .dataframe thead th {\n",
       "        text-align: right;\n",
       "    }\n",
       "</style>\n",
       "<table border=\"1\" class=\"dataframe\">\n",
       "  <thead>\n",
       "    <tr style=\"text-align: right;\">\n",
       "      <th></th>\n",
       "      <th>user_input</th>\n",
       "      <th>retrieved_contexts</th>\n",
       "      <th>reference_contexts</th>\n",
       "      <th>response</th>\n",
       "      <th>reference</th>\n",
       "      <th>context_recall</th>\n",
       "      <th>non_llm_context_precision_with_reference</th>\n",
       "      <th>factual_correctness</th>\n",
       "      <th>faithfulness</th>\n",
       "      <th>semantic_similarity</th>\n",
       "      <th>Language</th>\n",
       "    </tr>\n",
       "  </thead>\n",
       "  <tbody>\n",
       "    <tr>\n",
       "      <th>0</th>\n",
       "      <td>ODTÜ HAT nedir ve ne zaman kuruldu?</td>\n",
       "      <td>Sports Club Name: ODTÜ HAVACILIK TOPLULUĞU YAM...</td>\n",
       "      <td>Sports Club Name: ODTÜ HAVACILIK TOPLULUĞU YAM...</td>\n",
       "      <td>İstenen bilgiye uygun olarak ODTÜ HAT (ODTÜ Ha...</td>\n",
       "      <td>ODTÜ HAT nedir?  \\nODTÜ HAT, ODTÜ Havacılık To...</td>\n",
       "      <td>1.00</td>\n",
       "      <td>1.0</td>\n",
       "      <td>0.22</td>\n",
       "      <td>0.923077</td>\n",
       "      <td>0.916312</td>\n",
       "      <td>Turkish</td>\n",
       "    </tr>\n",
       "    <tr>\n",
       "      <th>1</th>\n",
       "      <td>ODTÜ kulübü ve faaliyetleri hakkında daha fazl...</td>\n",
       "      <td>Sports Club Name: ODTU SATRANÇ TOPLULUĞU\\nSpor...</td>\n",
       "      <td>Sports Club Name: ODTÜ DENİZCİLİK VE YELKEN TO...</td>\n",
       "      <td>İşte ODTÜ Sualtı Topluluğu (ODTÜ SAT) hakkında...</td>\n",
       "      <td>Spor Kulübü Adı: ODTÜ DENİZCİLİK VE YELKEN TOP...</td>\n",
       "      <td>1.00</td>\n",
       "      <td>0.2</td>\n",
       "      <td>0.00</td>\n",
       "      <td>0.611111</td>\n",
       "      <td>0.909967</td>\n",
       "      <td>Turkish</td>\n",
       "    </tr>\n",
       "    <tr>\n",
       "      <th>2</th>\n",
       "      <td>YKS Kayıt Programı kullanarak yurt başvurusu n...</td>\n",
       "      <td>mesaj düzgün olarak görüntülenemez. Örneğin me...</td>\n",
       "      <td>Application for Dormitories: Students whose fa...</td>\n",
       "      <td>İlk olarak, KS Kayıt Programı kullanarak yurt ...</td>\n",
       "      <td>Ankara dışında ailesi yaşayan öğrenciler yurtl...</td>\n",
       "      <td>0.50</td>\n",
       "      <td>0.0</td>\n",
       "      <td>0.00</td>\n",
       "      <td>0.000000</td>\n",
       "      <td>0.904784</td>\n",
       "      <td>Turkish</td>\n",
       "    </tr>\n",
       "    <tr>\n",
       "      <th>3</th>\n",
       "      <td>What are the key architectural developments an...</td>\n",
       "      <td>Course: ARCH427\\nDepartment: This course belon...</td>\n",
       "      <td>abea63f4-85ac-4646-ab2c-b2cbc87fdff2\\n\\nCourse...</td>\n",
       "      <td>In the ARCH112 course, you will study key arc...</td>\n",
       "      <td>The ARCH112 course provides a concise survey o...</td>\n",
       "      <td>0.75</td>\n",
       "      <td>0.5</td>\n",
       "      <td>0.10</td>\n",
       "      <td>0.153846</td>\n",
       "      <td>0.930277</td>\n",
       "      <td>English</td>\n",
       "    </tr>\n",
       "    <tr>\n",
       "      <th>4</th>\n",
       "      <td>As the Underwater Research Coordinator, I am i...</td>\n",
       "      <td>Sports Club Name: METU AIKIDO COMMUNITY\\nSport...</td>\n",
       "      <td>303063e1-3f56-4b2a-aa0d-41b194cbde90\\n\\nSports...</td>\n",
       "      <td>The ODTÜ Aikido Topluluğu focuses on promotin...</td>\n",
       "      <td>The ODTÜ Aikido Topluluğu, through its Childre...</td>\n",
       "      <td>1.00</td>\n",
       "      <td>0.5</td>\n",
       "      <td>0.48</td>\n",
       "      <td>0.615385</td>\n",
       "      <td>0.974794</td>\n",
       "      <td>English</td>\n",
       "    </tr>\n",
       "  </tbody>\n",
       "</table>\n",
       "</div>"
      ],
      "text/plain": [
       "                                          user_input  \\\n",
       "0                ODTÜ HAT nedir ve ne zaman kuruldu?   \n",
       "1  ODTÜ kulübü ve faaliyetleri hakkında daha fazl...   \n",
       "2  YKS Kayıt Programı kullanarak yurt başvurusu n...   \n",
       "3  What are the key architectural developments an...   \n",
       "4  As the Underwater Research Coordinator, I am i...   \n",
       "\n",
       "                                  retrieved_contexts  \\\n",
       "0  Sports Club Name: ODTÜ HAVACILIK TOPLULUĞU YAM...   \n",
       "1  Sports Club Name: ODTU SATRANÇ TOPLULUĞU\\nSpor...   \n",
       "2  mesaj düzgün olarak görüntülenemez. Örneğin me...   \n",
       "3  Course: ARCH427\\nDepartment: This course belon...   \n",
       "4  Sports Club Name: METU AIKIDO COMMUNITY\\nSport...   \n",
       "\n",
       "                                  reference_contexts  \\\n",
       "0  Sports Club Name: ODTÜ HAVACILIK TOPLULUĞU YAM...   \n",
       "1  Sports Club Name: ODTÜ DENİZCİLİK VE YELKEN TO...   \n",
       "2  Application for Dormitories: Students whose fa...   \n",
       "3  abea63f4-85ac-4646-ab2c-b2cbc87fdff2\\n\\nCourse...   \n",
       "4  303063e1-3f56-4b2a-aa0d-41b194cbde90\\n\\nSports...   \n",
       "\n",
       "                                            response  \\\n",
       "0  İstenen bilgiye uygun olarak ODTÜ HAT (ODTÜ Ha...   \n",
       "1  İşte ODTÜ Sualtı Topluluğu (ODTÜ SAT) hakkında...   \n",
       "2  İlk olarak, KS Kayıt Programı kullanarak yurt ...   \n",
       "3   In the ARCH112 course, you will study key arc...   \n",
       "4   The ODTÜ Aikido Topluluğu focuses on promotin...   \n",
       "\n",
       "                                           reference  context_recall  \\\n",
       "0  ODTÜ HAT nedir?  \\nODTÜ HAT, ODTÜ Havacılık To...            1.00   \n",
       "1  Spor Kulübü Adı: ODTÜ DENİZCİLİK VE YELKEN TOP...            1.00   \n",
       "2  Ankara dışında ailesi yaşayan öğrenciler yurtl...            0.50   \n",
       "3  The ARCH112 course provides a concise survey o...            0.75   \n",
       "4  The ODTÜ Aikido Topluluğu, through its Childre...            1.00   \n",
       "\n",
       "   non_llm_context_precision_with_reference  factual_correctness  \\\n",
       "0                                       1.0                 0.22   \n",
       "1                                       0.2                 0.00   \n",
       "2                                       0.0                 0.00   \n",
       "3                                       0.5                 0.10   \n",
       "4                                       0.5                 0.48   \n",
       "\n",
       "   faithfulness  semantic_similarity Language  \n",
       "0      0.923077             0.916312  Turkish  \n",
       "1      0.611111             0.909967  Turkish  \n",
       "2      0.000000             0.904784  Turkish  \n",
       "3      0.153846             0.930277  English  \n",
       "4      0.615385             0.974794  English  "
      ]
     },
     "execution_count": 17,
     "metadata": {},
     "output_type": "execute_result"
    }
   ],
   "source": [
    "df.head()"
   ]
  },
  {
   "cell_type": "code",
   "execution_count": 18,
   "metadata": {},
   "outputs": [
    {
     "data": {
      "text/plain": [
       "True"
      ]
     },
     "execution_count": 18,
     "metadata": {},
     "output_type": "execute_result"
    }
   ],
   "source": [
    "df['Language'].isnull().any()"
   ]
  },
  {
   "cell_type": "code",
   "execution_count": 19,
   "metadata": {},
   "outputs": [
    {
     "data": {
      "text/html": [
       "<div>\n",
       "<style scoped>\n",
       "    .dataframe tbody tr th:only-of-type {\n",
       "        vertical-align: middle;\n",
       "    }\n",
       "\n",
       "    .dataframe tbody tr th {\n",
       "        vertical-align: top;\n",
       "    }\n",
       "\n",
       "    .dataframe thead th {\n",
       "        text-align: right;\n",
       "    }\n",
       "</style>\n",
       "<table border=\"1\" class=\"dataframe\">\n",
       "  <thead>\n",
       "    <tr style=\"text-align: right;\">\n",
       "      <th></th>\n",
       "      <th>user_input</th>\n",
       "      <th>retrieved_contexts</th>\n",
       "      <th>reference_contexts</th>\n",
       "      <th>response</th>\n",
       "      <th>reference</th>\n",
       "      <th>context_recall</th>\n",
       "      <th>non_llm_context_precision_with_reference</th>\n",
       "      <th>factual_correctness</th>\n",
       "      <th>faithfulness</th>\n",
       "      <th>semantic_similarity</th>\n",
       "      <th>Language</th>\n",
       "    </tr>\n",
       "  </thead>\n",
       "  <tbody>\n",
       "    <tr>\n",
       "      <th>132</th>\n",
       "      <td>MODERN DİLLER BÖLÜMÜ'NÜN BİLİM KURGU VE FANTAS...</td>\n",
       "      <td>SAGAY, Türkiye’de düzenlenen ilk sualtı fotoğr...</td>\n",
       "      <td>Student Club Name: SCIENCE FICTION AND FANTASY...</td>\n",
       "      <td>İşte Modern Diller Bölümü'nün Bilim Kurgu ve F...</td>\n",
       "      <td>Modern Diller Bölümü, edebi bir tür ve kültüre...</td>\n",
       "      <td>0.0</td>\n",
       "      <td>0.0</td>\n",
       "      <td>0.2</td>\n",
       "      <td>0.846154</td>\n",
       "      <td>0.855923</td>\n",
       "      <td>NaN</td>\n",
       "    </tr>\n",
       "  </tbody>\n",
       "</table>\n",
       "</div>"
      ],
      "text/plain": [
       "                                            user_input  \\\n",
       "132  MODERN DİLLER BÖLÜMÜ'NÜN BİLİM KURGU VE FANTAS...   \n",
       "\n",
       "                                    retrieved_contexts  \\\n",
       "132  SAGAY, Türkiye’de düzenlenen ilk sualtı fotoğr...   \n",
       "\n",
       "                                    reference_contexts  \\\n",
       "132  Student Club Name: SCIENCE FICTION AND FANTASY...   \n",
       "\n",
       "                                              response  \\\n",
       "132  İşte Modern Diller Bölümü'nün Bilim Kurgu ve F...   \n",
       "\n",
       "                                             reference  context_recall  \\\n",
       "132  Modern Diller Bölümü, edebi bir tür ve kültüre...             0.0   \n",
       "\n",
       "     non_llm_context_precision_with_reference  factual_correctness  \\\n",
       "132                                       0.0                  0.2   \n",
       "\n",
       "     faithfulness  semantic_similarity Language  \n",
       "132      0.846154             0.855923      NaN  "
      ]
     },
     "execution_count": 19,
     "metadata": {},
     "output_type": "execute_result"
    }
   ],
   "source": [
    "df[df['Language'].isnull()]"
   ]
  },
  {
   "cell_type": "code",
   "execution_count": 20,
   "metadata": {},
   "outputs": [
    {
     "name": "stderr",
     "output_type": "stream",
     "text": [
      "/var/folders/vj/txtyr7vn1nq48xfpxglsg4_w0000gn/T/ipykernel_59702/3465148180.py:1: FutureWarning: A value is trying to be set on a copy of a DataFrame or Series through chained assignment using an inplace method.\n",
      "The behavior will change in pandas 3.0. This inplace method will never work because the intermediate object on which we are setting values always behaves as a copy.\n",
      "\n",
      "For example, when doing 'df[col].method(value, inplace=True)', try using 'df.method({col: value}, inplace=True)' or df[col] = df[col].method(value) instead, to perform the operation inplace on the original object.\n",
      "\n",
      "\n",
      "  df['Language'].fillna('Turkish', inplace=True)\n"
     ]
    }
   ],
   "source": [
    "df['Language'].fillna('Turkish', inplace=True)"
   ]
  },
  {
   "cell_type": "code",
   "execution_count": 21,
   "metadata": {},
   "outputs": [
    {
     "name": "stdout",
     "output_type": "stream",
     "text": [
      "                                            user_input Language\n",
      "128   KONTEMPORARY DANS GRUBU için kulüp odası nerede?  Turkish\n",
      "129  Yurt Bilgi Teknolojileri Destek Koordinatörü o...  Turkish\n",
      "130  MİMARLIK BÖLÜMÜ'nün tasarım kavramlarının tanı...  Turkish\n",
      "131  As the Dormitory IT Support Coordinator, I oft...  English\n",
      "132  MODERN DİLLER BÖLÜMÜ'NÜN BİLİM KURGU VE FANTAS...  Turkish\n"
     ]
    }
   ],
   "source": [
    "print(df[['user_input', 'Language']].tail())\n"
   ]
  },
  {
   "cell_type": "code",
   "execution_count": 22,
   "metadata": {},
   "outputs": [],
   "source": [
    "df.to_csv(path_or_buf=\"/Users/faizeyildiz/Downloads/labeled_test_set_results.csv\")\n"
   ]
  }
 ],
 "metadata": {
  "kernelspec": {
   "display_name": "base",
   "language": "python",
   "name": "python3"
  },
  "language_info": {
   "codemirror_mode": {
    "name": "ipython",
    "version": 3
   },
   "file_extension": ".py",
   "mimetype": "text/x-python",
   "name": "python",
   "nbconvert_exporter": "python",
   "pygments_lexer": "ipython3",
   "version": "3.12.8"
  }
 },
 "nbformat": 4,
 "nbformat_minor": 2
}
