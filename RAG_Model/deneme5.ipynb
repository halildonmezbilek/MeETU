{
 "cells": [
  {
   "cell_type": "code",
   "execution_count": 71,
   "metadata": {},
   "outputs": [],
   "source": [
    "from transformers import AutoTokenizer, AutoModelForCausalLM"
   ]
  },
  {
   "cell_type": "code",
   "execution_count": 72,
   "metadata": {},
   "outputs": [],
   "source": [
    "tokenizer = AutoTokenizer.from_pretrained(\"HuggingFaceH4/zephyr-7b-beta\",cache_dir=\"models\")"
   ]
  },
  {
   "cell_type": "code",
   "execution_count": null,
   "metadata": {},
   "outputs": [
    {
     "data": {
      "application/vnd.jupyter.widget-view+json": {
       "model_id": "c251c14c04184af2a86936588e05bff8",
       "version_major": 2,
       "version_minor": 0
      },
      "text/plain": [
       "Loading checkpoint shards:   0%|          | 0/8 [00:00<?, ?it/s]"
      ]
     },
     "metadata": {},
     "output_type": "display_data"
    }
   ],
   "source": [
    "model = AutoModelForCausalLM.from_pretrained(\"HuggingFaceH4/zephyr-7b-beta\",cache_dir=\"models\")"
   ]
  },
  {
   "cell_type": "code",
   "execution_count": 1,
   "metadata": {},
   "outputs": [
    {
     "name": "stderr",
     "output_type": "stream",
     "text": [
      "Repo card metadata block was not found. Setting CardData to empty.\n"
     ]
    }
   ],
   "source": [
    "\n",
    "from ragas.metrics import LLMContextRecall, Faithfulness, FactualCorrectness, SemanticSimilarity\n",
    "from ragas import evaluate\n",
    "\n",
    "from ragas.llms import LangchainLLMWrapper\n",
    "from ragas.embeddings import LangchainEmbeddingsWrapper\n",
    "from langchain_openai import ChatOpenAI\n",
    "from langchain_openai import OpenAIEmbeddings\n",
    "\n",
    "from datasets import load_dataset\n",
    "from ragas import EvaluationDataset\n",
    "\n",
    "dataset = load_dataset(\"explodinggradients/amnesty_qa\",\"english_v3\")\n",
    "\n",
    "eval_dataset = EvaluationDataset.from_hf_dataset(dataset[\"eval\"])"
   ]
  },
  {
   "cell_type": "code",
   "execution_count": 7,
   "metadata": {},
   "outputs": [],
   "source": [
    "df = eval_dataset.to_pandas()"
   ]
  },
  {
   "cell_type": "code",
   "execution_count": 8,
   "metadata": {},
   "outputs": [
    {
     "data": {
      "text/plain": [
       "Index(['user_input', 'retrieved_contexts', 'response', 'reference'], dtype='object')"
      ]
     },
     "execution_count": 8,
     "metadata": {},
     "output_type": "execute_result"
    }
   ],
   "source": [
    "df.columns"
   ]
  },
  {
   "cell_type": "code",
   "execution_count": 12,
   "metadata": {},
   "outputs": [
    {
     "data": {
      "text/plain": [
       "0     The global implications of the USA Supreme Cou...\n",
       "1     According to the Carbon Majors database, the m...\n",
       "2     The largest private companies in the Americas ...\n",
       "3     Amnesty International urged its supporters to ...\n",
       "4     The recommendations made by Amnesty Internatio...\n",
       "5     The target audience of the two books created b...\n",
       "6     The right that guarantees access to comprehens...\n",
       "7     The victims of gross human rights violations a...\n",
       "8     Individuals can be found guilty under Article ...\n",
       "9     The prosecution considers statements contrary ...\n",
       "10    The factors that have contributed to the decli...\n",
       "11    The conditions that designate wetlands as Rams...\n",
       "12          COP15 was held in Montreal, Canada in 2022.\n",
       "13    The purpose of the agreement known as 30x30 is...\n",
       "14    The States failed to explicitly recognize Indi...\n",
       "15    The consequences of criminalizing abortion for...\n",
       "16    Social media companies should have the respons...\n",
       "17    Social media companies play a role in protecti...\n",
       "18    Amnesty International documented labor abuses ...\n",
       "19    The government of Qatar started repealing rest...\n",
       "Name: reference, dtype: object"
      ]
     },
     "execution_count": 12,
     "metadata": {},
     "output_type": "execute_result"
    }
   ],
   "source": [
    "df.reference"
   ]
  },
  {
   "cell_type": "code",
   "execution_count": null,
   "metadata": {},
   "outputs": [],
   "source": [
    "import pandas as pd\n",
    "df = pd.read_excel(\"/home/halil/Desktop/MeETU/RAG_Model/ragasio/test_dataset_with_response.xlsx\")"
   ]
  },
  {
   "cell_type": "code",
   "execution_count": 51,
   "metadata": {},
   "outputs": [],
   "source": [
    "import re\n",
    "import ast\n",
    "def reference_contexts_formatter(row):\n",
    "    _t = row.replace(\"\\\\n\", \"\\n\")\n",
    "    _t = re.split(r'\\n{2}Entry \\d+\\n{2}', _t)[1:]\n",
    "    return _t"
   ]
  },
  {
   "cell_type": "code",
   "execution_count": 52,
   "metadata": {},
   "outputs": [],
   "source": [
    "df.reference_contexts = df.reference_contexts.apply(reference_contexts_formatter)"
   ]
  },
  {
   "cell_type": "code",
   "execution_count": 43,
   "metadata": {},
   "outputs": [
    {
     "data": {
      "text/plain": [
       "['PETE343: This course belongs to DEPARTMENT OF Petroleum and Natural Gas Engineering. The lecture aims to give basic understanding about petroleum reservoirs. At the end of the course, the student will know\\n\\nbasic scientific principles about petroleum reservoirs, how to estimate oil in place, material balance concept, water influx estimation methods, decline curve analysis\\n\\nEstimation of hydrocarbon pore volume and recovery factor. Classification of oil reservoirs. Reservoir performance prediction for solution gas drive, water drive, gas-cap drive, drainage and combination drive reservoirs using material balance approach. Decline Curve Analysis. Water influx theory. Water and gas coning in oil producing formations. Characterization of fractured reservoirs.\\n\\nCourse Link: https://catalog.metu.edu.tr/course.php?prog=566&course_code=5660343\\n\\n',\n",
       " 'PETE344: This course belongs to DEPARTMENT OF Petroleum and Natural Gas Engineering. The lecture aims to improve the knowledge about petroleum reservoirs and to give understanding about the flow of fluids in the porous medium. At the end of the course, the student will know\\n\\nhow to apply the basic and advanced reservoir engineering concepts to solve reservoir engineering problems how to solve flow equations for different fluid types how to interpret well tests fundementals of numerical reservoir simulation types of enhanced oil recovery methods\\n\\nSteady and unsteady state single phase flow equations through porous media, steady and unsteady superposition. Multiphase flow through porous media. Reservoir characterization in homogeneous and heterogeneous reservoirs by pressure and tracer testing. Course Link: https://catalog.metu.edu.tr/course.php?prog=566&course_code=5660344\\n\\n',\n",
       " 'PETE400: This course belongs to DEPARTMENT OF Petroleum and Natural Gas Engineering. The lecture is aimed to help students to observe the application of their theoretical knowledge, enhance their occupational experience, do engineering practice, get familiar with the industry and work conditions, and do a conscious career decision after graduation.\\n\\nA minimum of four weeks (20 working days) of summer practice is obligatory to fulfill the requirements for the B.Sc. degree. The second practice is for production and/or reservoir engineering after the third year of undergraduate education. The training is based on the content of the summer practice manual.\\n\\nCourse Link: https://catalog.metu.edu.tr/course.php?prog=566&course_code=5660400\\n\\n',\n",
       " \"PETE411: This course belongs to DEPARTMENT OF Petroleum and Natural Gas Engineering. - Evaluate economic feasibility of the projects related with development of oil and gas fields. -Apply the principles of engineering economics and time value of money to engineering projects. - Estimate the performance of a petroleum asset and convert the performance to a cash-flow analysis using prices and costs. -Incorporate government related laws such as taxes and royalty into the economic study. -Evaluate and compare different investment alternatives based on their economic indicators such as NPV, ROR, DPI, etc. and recommend a decision. -Analyze the recommended decision by conducting appropriate sensitivity and risk analysis through expected value concept, decision trees and visual analysis.\\n\\nEstimation of reserves. Optimization of production rate. Maximizing the oil recovery within economic limits. Investment required for exploration and development of oil gas fields. Investment required for improved recovery processes. Operating cost. Taxes, prices and depreciation. Profit analysis.\\n\\nCourse Link: https://catalog.metu.edu.tr/course.php?prog=566&course_code=5660411\\n\\n', '1f2a04c5-b433-41a5-833f-96aeb37fa045\",\n",
       " 'EE306: This course belongs to DEPARTMENT OF Electrical and Electronics Engineering. At this stage, students have already learned about probability and random variables in EE230. Moreover, they have learned about deterministic signals and systems in EE301. In EE306, EE230 and EE301 meet each other, and students learn about random/stochastic signals and processes, ones they encounter in real-life applications. Students will learn a variety of methods and tools that are adopted in a wide range of modern applications, including artificial intelligence, digital communications, and data storage. In particular,\\n\\nAfter probability and linear algebra reviews, students will learn about vectors and sums of random variables. They will learn parameter and random signal estimation. They will also learn basics of optimization as well as the gradient descent algorithm, which is used in machine learning. Students will learn the concept of random processes. They will learn autocorrelation and autocovariance. They will learn about stationarity and Gaussian processes, including white noise. They will also learn how to find and use the power spectral density of random processes. As examples of famous discrete stochastic processes, students will learn about Markov chains (transition probabilities, convergence and steady-state probabilities, ergodicity) and Poisson processes (counting processes, waiting time distribution).\\n\\nCorrelation of signals. Energy and power spectral densities. Hilbert transform. Principles of modulation. Stochastic processes: Characterization, correlation functions, stationarity, ergodicity, power spectral density, transmission of random signals through linear systems. Special stochastic processes. Noise.\\n\\nCourse Link: https://catalog.metu.edu.tr/course.php?prog=567&course_code=5670306\\n\\n',\n",
       " 'EE309: This course belongs to DEPARTMENT OF Electrical and Electronics Engineering. The student will be able to: 1. Describe the electrical characteristics of basic electric components (resistors, inductors, capacitors and op-amps) and employ basic tools to analyze circuits, 2: Apply systematic circuit analysis methods/tools on complex circuits, 3: Explain and apply sinusoidal steady-state analysis techniques.\\n\\nBasic electrical quantities. Fundamental circuit laws. Sinusoidal steady-state analysis and transformers. Three phase circuits. Principles of electromechanical energy conversion. DC and AC machines. Electrical safety.(Offered to non-EE students only).\\n\\nCourse Link: https://catalog.metu.edu.tr/course.php?prog=567&course_code=5670309\\n\\n',\n",
       " \"EE310: This course belongs to DEPARTMENT OF Electrical and Electronics Engineering. No objective Operation of electronic devices. BJT and FET small signal amplifiers; power amplifiers; operational amplifiers. Silicon controlled rectifiers. Digital circuits and systems. Selected electronic systems. Electronic instruments.(Offered to non-EE students only).\\n\\nCourse Link: https://catalog.metu.edu.tr/course.php?prog=567&course_code=5670310\\n\\n']\"]"
      ]
     },
     "execution_count": 43,
     "metadata": {},
     "output_type": "execute_result"
    }
   ],
   "source": [
    "df.reference_contexts[3]"
   ]
  },
  {
   "cell_type": "code",
   "execution_count": 31,
   "metadata": {},
   "outputs": [
    {
     "data": {
      "text/plain": [
       "['PETE343: This course belongs to DEPARTMENT OF Petroleum and Natural Gas Engineering. The lecture aims to give basic understanding about petroleum reservoirs. At the end of the course, the student will know\\n\\nbasic scientific principles about petroleum reservoirs, how to estimate oil in place, material balance concept, water influx estimation methods, decline curve analysis\\n\\nEstimation of hydrocarbon pore volume and recovery factor. Classification of oil reservoirs. Reservoir performance prediction for solution gas drive, water drive, gas-cap drive, drainage and combination drive reservoirs using material balance approach. Decline Curve Analysis. Water influx theory. Water and gas coning in oil producing formations. Characterization of fractured reservoirs.\\n\\nCourse Link: https://catalog.metu.edu.tr/course.php?prog=566&course_code=5660343\\n\\n',\n",
       " 'PETE344: This course belongs to DEPARTMENT OF Petroleum and Natural Gas Engineering. The lecture aims to improve the knowledge about petroleum reservoirs and to give understanding about the flow of fluids in the porous medium. At the end of the course, the student will know\\n\\nhow to apply the basic and advanced reservoir engineering concepts to solve reservoir engineering problems how to solve flow equations for different fluid types how to interpret well tests fundementals of numerical reservoir simulation types of enhanced oil recovery methods\\n\\nSteady and unsteady state single phase flow equations through porous media, steady and unsteady superposition. Multiphase flow through porous media. Reservoir characterization in homogeneous and heterogeneous reservoirs by pressure and tracer testing. Course Link: https://catalog.metu.edu.tr/course.php?prog=566&course_code=5660344\\n\\n',\n",
       " 'PETE400: This course belongs to DEPARTMENT OF Petroleum and Natural Gas Engineering. The lecture is aimed to help students to observe the application of their theoretical knowledge, enhance their occupational experience, do engineering practice, get familiar with the industry and work conditions, and do a conscious career decision after graduation.\\n\\nA minimum of four weeks (20 working days) of summer practice is obligatory to fulfill the requirements for the B.Sc. degree. The second practice is for production and/or reservoir engineering after the third year of undergraduate education. The training is based on the content of the summer practice manual.\\n\\nCourse Link: https://catalog.metu.edu.tr/course.php?prog=566&course_code=5660400\\n\\n',\n",
       " \"PETE411: This course belongs to DEPARTMENT OF Petroleum and Natural Gas Engineering. - Evaluate economic feasibility of the projects related with development of oil and gas fields. -Apply the principles of engineering economics and time value of money to engineering projects. - Estimate the performance of a petroleum asset and convert the performance to a cash-flow analysis using prices and costs. -Incorporate government related laws such as taxes and royalty into the economic study. -Evaluate and compare different investment alternatives based on their economic indicators such as NPV, ROR, DPI, etc. and recommend a decision. -Analyze the recommended decision by conducting appropriate sensitivity and risk analysis through expected value concept, decision trees and visual analysis.\\n\\nEstimation of reserves. Optimization of production rate. Maximizing the oil recovery within economic limits. Investment required for exploration and development of oil gas fields. Investment required for improved recovery processes. Operating cost. Taxes, prices and depreciation. Profit analysis.\\n\\nCourse Link: https://catalog.metu.edu.tr/course.php?prog=566&course_code=5660411\\n\\n', '1f2a04c5-b433-41a5-833f-96aeb37fa045\",\n",
       " 'EE306: This course belongs to DEPARTMENT OF Electrical and Electronics Engineering. At this stage, students have already learned about probability and random variables in EE230. Moreover, they have learned about deterministic signals and systems in EE301. In EE306, EE230 and EE301 meet each other, and students learn about random/stochastic signals and processes, ones they encounter in real-life applications. Students will learn a variety of methods and tools that are adopted in a wide range of modern applications, including artificial intelligence, digital communications, and data storage. In particular,\\n\\nAfter probability and linear algebra reviews, students will learn about vectors and sums of random variables. They will learn parameter and random signal estimation. They will also learn basics of optimization as well as the gradient descent algorithm, which is used in machine learning. Students will learn the concept of random processes. They will learn autocorrelation and autocovariance. They will learn about stationarity and Gaussian processes, including white noise. They will also learn how to find and use the power spectral density of random processes. As examples of famous discrete stochastic processes, students will learn about Markov chains (transition probabilities, convergence and steady-state probabilities, ergodicity) and Poisson processes (counting processes, waiting time distribution).\\n\\nCorrelation of signals. Energy and power spectral densities. Hilbert transform. Principles of modulation. Stochastic processes: Characterization, correlation functions, stationarity, ergodicity, power spectral density, transmission of random signals through linear systems. Special stochastic processes. Noise.\\n\\nCourse Link: https://catalog.metu.edu.tr/course.php?prog=567&course_code=5670306\\n\\n',\n",
       " 'EE309: This course belongs to DEPARTMENT OF Electrical and Electronics Engineering. The student will be able to: 1. Describe the electrical characteristics of basic electric components (resistors, inductors, capacitors and op-amps) and employ basic tools to analyze circuits, 2: Apply systematic circuit analysis methods/tools on complex circuits, 3: Explain and apply sinusoidal steady-state analysis techniques.\\n\\nBasic electrical quantities. Fundamental circuit laws. Sinusoidal steady-state analysis and transformers. Three phase circuits. Principles of electromechanical energy conversion. DC and AC machines. Electrical safety.(Offered to non-EE students only).\\n\\nCourse Link: https://catalog.metu.edu.tr/course.php?prog=567&course_code=5670309\\n\\n',\n",
       " \"EE310: This course belongs to DEPARTMENT OF Electrical and Electronics Engineering. No objective Operation of electronic devices. BJT and FET small signal amplifiers; power amplifiers; operational amplifiers. Silicon controlled rectifiers. Digital circuits and systems. Selected electronic systems. Electronic instruments.(Offered to non-EE students only).\\n\\nCourse Link: https://catalog.metu.edu.tr/course.php?prog=567&course_code=5670310\\n\\n']\"]"
      ]
     },
     "execution_count": 31,
     "metadata": {},
     "output_type": "execute_result"
    }
   ],
   "source": [
    "a = df.reference_contexts[509].replace(\"\\\\n\", \"\\n\")\n",
    "re.split(r'\\n{2}Entry \\d+\\n{2}', a)[1:]"
   ]
  },
  {
   "cell_type": "code",
   "execution_count": 22,
   "metadata": {},
   "outputs": [
    {
     "data": {
      "text/plain": [
       "1"
      ]
     },
     "execution_count": 22,
     "metadata": {},
     "output_type": "execute_result"
    }
   ],
   "source": [
    "len(a)"
   ]
  },
  {
   "cell_type": "code",
   "execution_count": null,
   "metadata": {},
   "outputs": [],
   "source": [
    "\\n\\\\n\\\\n\\\\nEntry 2817\\\\n\\\\n"
   ]
  },
  {
   "cell_type": "code",
   "execution_count": 1,
   "metadata": {},
   "outputs": [
    {
     "name": "stderr",
     "output_type": "stream",
     "text": [
      "2024-11-14 14:21:18.105 WARNING streamlit.runtime.scriptrunner_utils.script_run_context: Thread 'MainThread': missing ScriptRunContext! This warning can be ignored when running in bare mode.\n",
      "2024-11-14 14:21:18.245 \n",
      "  \u001b[33m\u001b[1mWarning:\u001b[0m to view this Streamlit app on a browser, run it with the following\n",
      "  command:\n",
      "\n",
      "    streamlit run /home/halil/.pyenv/versions/DI502/lib/python3.10/site-packages/ipykernel_launcher.py [ARGUMENTS]\n",
      "2024-11-14 14:21:18.245 Thread 'MainThread': missing ScriptRunContext! This warning can be ignored when running in bare mode.\n",
      "2024-11-14 14:21:18.245 Thread 'MainThread': missing ScriptRunContext! This warning can be ignored when running in bare mode.\n",
      "2024-11-14 14:21:18.327 Thread 'MainThread': missing ScriptRunContext! This warning can be ignored when running in bare mode.\n",
      "2024-11-14 14:21:18.328 Thread 'MainThread': missing ScriptRunContext! This warning can be ignored when running in bare mode.\n",
      "2024-11-14 14:21:18.329 Thread 'MainThread': missing ScriptRunContext! This warning can be ignored when running in bare mode.\n",
      "2024-11-14 14:21:18.329 Thread 'MainThread': missing ScriptRunContext! This warning can be ignored when running in bare mode.\n",
      "2024-11-14 14:21:18.330 Thread 'MainThread': missing ScriptRunContext! This warning can be ignored when running in bare mode.\n",
      "2024-11-14 14:21:18.858 Thread 'Thread-6': missing ScriptRunContext! This warning can be ignored when running in bare mode.\n",
      "2024-11-14 14:21:18.859 Thread 'Thread-6': missing ScriptRunContext! This warning can be ignored when running in bare mode.\n",
      "2024-11-14 14:21:23.717 Thread 'MainThread': missing ScriptRunContext! This warning can be ignored when running in bare mode.\n",
      "2024-11-14 14:21:23.717 Thread 'MainThread': missing ScriptRunContext! This warning can be ignored when running in bare mode.\n",
      "2024-11-14 14:21:23.718 Thread 'MainThread': missing ScriptRunContext! This warning can be ignored when running in bare mode.\n",
      "2024-11-14 14:21:23.718 Thread 'MainThread': missing ScriptRunContext! This warning can be ignored when running in bare mode.\n",
      "2024-11-14 14:21:23.718 Thread 'MainThread': missing ScriptRunContext! This warning can be ignored when running in bare mode.\n",
      "2024-11-14 14:21:23.728 Thread 'MainThread': missing ScriptRunContext! This warning can be ignored when running in bare mode.\n",
      "2024-11-14 14:21:23.728 Thread 'MainThread': missing ScriptRunContext! This warning can be ignored when running in bare mode.\n",
      "2024-11-14 14:21:23.729 Thread 'MainThread': missing ScriptRunContext! This warning can be ignored when running in bare mode.\n",
      "2024-11-14 14:21:23.729 Thread 'MainThread': missing ScriptRunContext! This warning can be ignored when running in bare mode.\n",
      "2024-11-14 14:21:23.730 Thread 'MainThread': missing ScriptRunContext! This warning can be ignored when running in bare mode.\n",
      "2024-11-14 14:21:23.731 Thread 'MainThread': missing ScriptRunContext! This warning can be ignored when running in bare mode.\n",
      "2024-11-14 14:21:23.731 Thread 'MainThread': missing ScriptRunContext! This warning can be ignored when running in bare mode.\n"
     ]
    }
   ],
   "source": [
    "from rag_model import generate_response"
   ]
  },
  {
   "cell_type": "code",
   "execution_count": 2,
   "metadata": {},
   "outputs": [
    {
     "name": "stderr",
     "output_type": "stream",
     "text": [
      "/home/halil/Desktop/MeETU/RAG_Model/rag_model.py:100: LangChainDeprecationWarning: The method `BaseRetriever.get_relevant_documents` was deprecated in langchain-core 0.1.46 and will be removed in 1.0. Use :meth:`~invoke` instead.\n",
      "  docs = retriever.get_relevant_documents(question)\n"
     ]
    },
    {
     "name": "stdout",
     "output_type": "stream",
     "text": [
      "Question: What are the programs offered at METU?\n",
      "Context: ['Q: No question provided A: METE500 Program of research leading to M.S. degree, arranged between student and a faculty member. Students register to this course in all semesters starting from the beginning of their first semester while the research program or write-up of thesis is in progress.', 'Q: On which platforms can I use my METU user code and password? A: Academic staff can access METU-SIS (https://sis.metu.edu.tr/) Accessing Learning Management System (ODTÜCLASS - https://odtuclass.metu.edu.tr) Utilizing METU Portal (https://portal.metu.edu.tr) Reaching most of services provided by METU units.', 'Q: No question provided A: METE600 Program of research leading to Ph.D. degree, arranged between student and a faculty member. Students register to this course in all semesters starting from the beginning of their first semester while the research program or write-up of thesis is in progress.', 'Q: What are the procedures applied for students who re-enroll to an undergraduate program at METU via university entrance exams? A: What are the procedures applied for students who re-enroll to an undergraduate program at METU via university entrance exams? Students who have not been able to complete the English Preparatory Class at DBE previously and re-enroll to an undergraduate program may attend the preparatory class for one more year. Students who were in their freshman year or above at METU during the past two years may not attend the English Preparatory Class if they re-enroll at the university via the Undergraduate Placement Test (LYS) or an equivalent exam. They are to start their studies as freshman students.']\n",
      "\n",
      "###########################\n",
      "\n"
     ]
    }
   ],
   "source": [
    "questions = [\"What are the programs offered at METU?\"]\n",
    "contexts = await aretrieve_contexts(questions)\n",
    "\n",
    "for question, context in zip(questions, contexts):\n",
    "    print(f\"Question: {question}\")\n",
    "    print(f\"Context: {context}\")\n",
    "    print(\"\\n###########################\\n\")\n"
   ]
  },
  {
   "cell_type": "code",
   "execution_count": 5,
   "metadata": {},
   "outputs": [
    {
     "data": {
      "text/plain": [
       "4"
      ]
     },
     "execution_count": 5,
     "metadata": {},
     "output_type": "execute_result"
    }
   ],
   "source": [
    "len(contexts[0])"
   ]
  },
  {
   "cell_type": "code",
   "execution_count": 3,
   "metadata": {},
   "outputs": [
    {
     "name": "stderr",
     "output_type": "stream",
     "text": [
      "/home/halil/Desktop/MeETU/RAG_Model/rag_model.py:83: LangChainDeprecationWarning: The method `BaseRetriever.get_relevant_documents` was deprecated in langchain-core 0.1.46 and will be removed in 1.0. Use :meth:`~invoke` instead.\n",
      "  docs = self.retriever.get_relevant_documents(question)\n"
     ]
    },
    {
     "ename": "TypeError",
     "evalue": "string indices must be integers",
     "output_type": "error",
     "traceback": [
      "\u001b[0;31m---------------------------------------------------------------------------\u001b[0m",
      "\u001b[0;31mTypeError\u001b[0m                                 Traceback (most recent call last)",
      "Cell \u001b[0;32mIn[3], line 1\u001b[0m\n\u001b[0;32m----> 1\u001b[0m r, c \u001b[38;5;241m=\u001b[39m \u001b[43mgenerate_response_with_context\u001b[49m\u001b[43m(\u001b[49m\u001b[38;5;124;43m\"\u001b[39;49m\u001b[38;5;124;43mhi?\u001b[39;49m\u001b[38;5;124;43m\"\u001b[39;49m\u001b[43m)\u001b[49m\n",
      "File \u001b[0;32m~/Desktop/MeETU/RAG_Model/rag_model.py:112\u001b[0m, in \u001b[0;36mgenerate_response_with_context\u001b[0;34m(question)\u001b[0m\n\u001b[1;32m    109\u001b[0m \u001b[38;5;28;01mdef\u001b[39;00m \u001b[38;5;21mgenerate_response_with_context\u001b[39m(question):\n\u001b[1;32m    110\u001b[0m     \u001b[38;5;66;03m# Using the updated rag_chain that separates context and question handling\u001b[39;00m\n\u001b[1;32m    111\u001b[0m     result \u001b[38;5;241m=\u001b[39m rag_chain\u001b[38;5;241m.\u001b[39minvoke(question)\n\u001b[0;32m--> 112\u001b[0m     response \u001b[38;5;241m=\u001b[39m \u001b[43mresult\u001b[49m\u001b[43m[\u001b[49m\u001b[38;5;124;43m\"\u001b[39;49m\u001b[38;5;124;43moutput\u001b[39;49m\u001b[38;5;124;43m\"\u001b[39;49m\u001b[43m]\u001b[49m\n\u001b[1;32m    113\u001b[0m     context \u001b[38;5;241m=\u001b[39m result[\u001b[38;5;124m\"\u001b[39m\u001b[38;5;124mcontext\u001b[39m\u001b[38;5;124m\"\u001b[39m]\n\u001b[1;32m    114\u001b[0m     \u001b[38;5;28;01mreturn\u001b[39;00m response, context\n",
      "\u001b[0;31mTypeError\u001b[0m: string indices must be integers"
     ]
    }
   ],
   "source": [
    "r, c = generate_response_with_context(\"hi?\")"
   ]
  },
  {
   "cell_type": "code",
   "execution_count": 7,
   "metadata": {},
   "outputs": [
    {
     "name": "stderr",
     "output_type": "stream",
     "text": [
      "/home/halil/.pyenv/versions/DI502/lib/python3.10/site-packages/huggingface_hub/inference/_generated/types/base.py:139: FutureWarning: Accessing 'ChatCompletionOutput' values through dict is deprecated and will be removed from version '0.25'. Use dataclass attributes instead.\n",
      "  warnings.warn(\n"
     ]
    }
   ],
   "source": [
    "a = generate_response(\"How can I connect wifi in the school\")"
   ]
  },
  {
   "cell_type": "code",
   "execution_count": 8,
   "metadata": {},
   "outputs": [
    {
     "name": "stdout",
     "output_type": "stream",
     "text": [
      "To connect WiFi on campus, follow these steps:\n",
      "\n",
      "1. Ensure your device supports WiFi connectivity.\n",
      "\n",
      "2. Search for available networks within range and select \"METU_eduroam\" or \"NG2k.\"\n",
      "\n",
      "3. If selecting \"METU_eduroam,\" enter your METU email address and password (in the format of username@metu.edu.tr) to authenticate. If selecting \"NG2k,\" no authentication is required.\n",
      "\n",
      "4. If you encounter any issues, check if your device supports the 802.11g encryption standard used in the METU WiFi network. This is available in the \"eduroam\" SSID.\n",
      "\n",
      "5. You can also try connecting to the \"METU_Ng2k\" SSID, which provides an unsecured and unencrypted connection, or view the map of wireless network points on METU's website to verify coverage in your area.\n",
      "\n",
      "6. If you are a visitor, you can also connect to the WiFi network by registering your device's Media Access Control (MAC) address at the Cultural and Convention Center or at guest houses for temporary usage.\n",
      "\n",
      "7. For technical support or further information regarding the METU WiFi network, visit the university's IT support website at https://itsupport.metu.edu.tr.\n",
      "\n",
      "8. It is also suggested to read the dormitory rooms computer network rules and follow them for better WiFi connectivity.\n",
      "\n",
      "9. If facing any network connection issues at the dormitories, refer to the steps provided in the answer to the specific question regarding how to find the source of network connection failure at the dormitories.\n",
      "\n",
      "10. Remember to ensure that your device recognizes your Ethernet card and completes TCP/IP settings correctly to successfully connect to the METU WiFi network or the cable network.\n",
      "\n",
      "Note: Changing TCP/IP settings is not necessary for users staying in the dormitories since DHCP (automatic recognition) is used in all dormitories to connect to the internet. However, users can still complete TCP/IP settings manually if desired. \n",
      "\n",
      "Overall, staying connected at METU is straightforward, and whether you choose WiFi or a cable connection, these guidelines should help ensure a successful and reliable connectivity experience.\n"
     ]
    }
   ],
   "source": [
    "print(a)"
   ]
  },
  {
   "cell_type": "code",
   "execution_count": 14,
   "metadata": {},
   "outputs": [
    {
     "data": {
      "text/plain": [
       "{'response': 'Connecting to WiFi at METU sounds like a great question!\\n\\nTo connect to the METU wireless network, you have a few options depending on your device and operating system. Here\\'s a brief summary:\\n\\n**For Windows devices:**\\n\\n* Make sure your device supports WPA2 Enterprise with PEAP/MSCHAPv2.\\n* Go to the NETREG website ([https://netregister.metu.edu.tr](https://netregister.metu.edu.tr)) and click on the \"Wireless\" icon, then select \"meturoam\".\\n* Enter your METU usercode and password to create a new password for meturoam.\\n* Follow the instructions to connect to the meturoam wireless network.\\n\\n**For Mac devices:**\\n\\n* Download and execute the configuration file from the NETREG website ([https://netregister.metu.edu.tr](https://netregister.metu.edu.tr)).\\n* Install Apple Configurator from the App Store.\\n* Create a new profile in Apple Configurator, select \"eduroam\" as the wireless network, and enter your METU username and password.\\n* Export the profile to your computer and install it.\\n\\n**For Linux devices:**\\n\\n* Install the wpa_supplicant application using apt-get or your package manager.\\n* Generate a file named wpa_supplicant.conf in the /etc/wpa_supplicant folder and configure it with your METU username and password.\\n* Connect to the wireless network by entering the command `wpa_supplicant -B -i eth2 -c /etc/wpa_supplicant/wpa_supplicant.conf -D wext`.\\n\\n**For Android devices:**\\n\\n* Make sure your device supports WPA2 Enterprise with PEAP/MSCHAPv2.\\n* Go to Settings > Wireless & networks > Wi-Fi and select the meturoam network.\\n* Enter your METU usercode and password when prompted.\\n\\nIf you\\'re still having trouble connecting, feel free to ask, and I\\'ll do my best to help!',\n",
       " 'context': [Document(metadata={'answer': '\\n\\nA device must support WPA2 Enterprise with PEAP/MSCHAPv2 in order to be able to connect to METU wireless network, meturoam. Please click here for a list of some popular devices that are known to NOT work on the meturoam wireless network.\\nTo connect to the meturoam wireless network, you need a METU usercode and a password for meturoam. If you have a password, please continue to HOW-TO\\xa0 section.\\nIf\\xa0you didn\\'t create a password for meturoam or you want to renew your password, please visit https://netregister.metu.edu.tr and click Wireless icon, then click\\xa0\"meturoam\"\\xa0icon.\\n\\nIn the meturoam menu, please provide a new password to be used only for this service with your user code.\\xa0(In some Android and IOS devices, some special characters like #, \\', $ in the password may cause problems to connect to meturoam. If you can connect to meturoam via a computer but having problems with Android or IOS devices, please check your password for special characters and create a new password with other characters.)\\n\\n\\xa0\\nConnecting to meturoam\\nAfter you set your new password, please connect to meturoam SSID from your wireless device. You can use this password with every device you own, you do not have to set passwords for each device.\\nBe sure to set the protocols as\\xa0PEAP\\xa0and\\xa0MSCHAPv2.\\xa0\\nUse your METU usercode and password for the meturoam service. (Please make sure you use your usercode like e123456metu.edu.tr, not your email aliases in the form of name.surnamemetu.edu.tr)\\nIn Windows 10, protocol settings are done automatically. You do not need to set the protocols. For Linux operating systems\\xa0or Windows 7 and below, you may also need to select\\xa0WPA2-Enterprise\\xa0and\\xa0AES.\\nIn mobile devices, if you use the autocomplete function in your keyboard, a blank space may be added to your usercode. Pay attention to last character in your usercode. It should not be a blank space.\\nIf you are asked for a certificate, you may select \"Do not validate\" and skip it. (For some Android devices, certificate field might be compulsory. You can select \"Use System Certificate\" and type border.metu.edu.tr\\xa0netlogin.metu.edu.tr)\\nIf you are asked for anonymous identity, you may type anonymous@metu.edu.tr.\\n\\nFor\\xa0Raspberry\\xa0pi devices, add the following conf to wpa_supplicant.conf file.network={ssid=\"meturoam\"key_mgmt=WPA-EAPpairwise=CCMPeap=PEAPidentity=\"< username >\"anonymous_identity=\"anonymous@metu.edu.tr\"password=\"< password >\"}\\nThen restart wpa_supplicant. Actual filenames and paths may vary.killall wpa_supplicantwpa_supplicant -B -Dwext -i wlan0 -c /etc/wpa_supplicant/wpa_supplicant.conf -f /var/log/wpa_supplicant.log\\n\\n\\xa0\\n\\n\\xa0If you forgot your password, you can set a new one in order to use the wireless network.\\nThose users who do not prefer to create a meturoam password can also connect to eduroam.\\n!!!\\xa0Wireless network connection problems are observed in some of Android devices using Android 6 and prior versions. Occasionally these devices display there is an established wireless connection on the screen but when you try to connect to the Internet, they fail. This problem is originated from a bug in the operating system. The bug cause Android devices to continue to use DHCP-leased IP addresses after the leases expire, and cause Android devices to resume using IP addresses from expired DHCP leases. When you face the the same problem please disable your Wi-Fi connection and enable it again.\\n\\n', 'link': 'https://faq.cc.metu.edu.tr/faq/meturoam', 'original_doc_id': 'doc_1', 'question': 'How can I connect to meturoam network?', 'type': 'FAQ'}, page_content='Q: How can I connect to meturoam network? A: How can I connect to meturoam network? A device must support WPA2 Enterprise with PEAP/MSCHAPv2 in order to be able to connect to METU wireless network, meturoam. Please click here for a list of some popular devices that are known to NOT work on the meturoam wireless network. To connect to the meturoam wireless network, you need a METU usercode and a password for meturoam. If you have a password, please continue to HOW-TO section. If you didn\\'t create a password for meturoam or you want to renew your password, please visit https://netregister.metu.edu.tr and click Wireless icon, then click \"meturoam\" icon. In the meturoam menu, please provide a new password to be used only for this service with your user code. (In some Android and IOS devices, some special characters like #, \\', $ in the password may cause problems to connect to meturoam. If you can connect to meturoam via a computer but having problems with Android or IOS devices, please check your password for special characters and create a new password with other characters.)'),\n",
       "  Document(metadata={'answer': '\\n\\nYou can connect to eduroam by downloading and executing the configuration file to your iOS device.\\nDownload configuration file for iOS devices.\\non User Account option, user_namemetu.edu.tr\\xa0and password should be entered.\\n\\xa0\\nPlease follow the steps below if you would like to create the configuration file by using your MAC OSX device.\\n\\xa0To connect to the eduroam network, please install Apple Configurator from AppStore.\\n\\nRun the application and click Start Preparing Devices.\\n\\n\\xa0\\n\\xa0\\nActivate Supervision. (Turn ON)\\n\\xa0\\n\\n\\xa0\\n\\xa0\\n\\nClick + at the bottom of the window and select\\xa0Create New Profile\\xa0in the menu.\\n\\xa0\\n\\n\\xa0\\n\\xa0\\nIn the popup window, click Wifi and then\\xa0configure.\\n\\xa0\\n\\n\\xa0\\n\\xa0\\nType eduroam\\xa0and select WPA/WPA2 Enterprise\\xa0in the Security Type combo box.\\n\\n\\xa0\\n\\xa0\\nSelect TTLS under\\xa0Accepted EAP types heading.\\n\\xa0\\n\\n\\xa0\\n\\xa0\\nType your METU user name and password. Then, select PAP in the\\xa0Inner Authentication heading and click\\xa0Save to save the profile.\\n\\xa0\\n\\n\\xa0\\nClick on the profile name and export it to your computer by clicking the + at the bottom of the window.\\n\\n\\xa0\\n\\xa0\\n\\xa0\\n\\xa0\\n\\n\\xa0\\nLocate the exported profile and install it to your computer double clicking it.\\n\\xa0\\n\\xa0\\n\\n\\xa0\\n\\n\\xa0\\n\\n\\xa0\\n\\xa0\\n\\n\\xa0\\n\\xa0\\n\\n', 'link': 'https://faq.cc.metu.edu.tr/faq/how-can-i-connect-eduroam-wireless-network-using-my-mac-computer', 'original_doc_id': 'doc_27', 'question': 'How can I connect to eduroam wireless network using my Mac computer?', 'type': 'FAQ'}, page_content='Q: How can I connect to eduroam wireless network using my Mac computer? A: How can I connect to eduroam wireless network using my Mac computer? You can connect to eduroam by downloading and executing the configuration file to your iOS device. Download configuration file for iOS devices. on User Account option, user_namemetu.edu.tr and password should be entered. Please follow the steps below if you would like to create the configuration file by using your MAC OSX device. To connect to the eduroam network, please install Apple Configurator from AppStore. Run the application and click Start Preparing Devices. Activate Supervision. (Turn ON) Click + at the bottom of the window and select Create New Profile in the menu. In the popup window, click Wifi and then configure. Type eduroam and select WPA/WPA2 Enterprise in the Security Type combo box. Select TTLS under Accepted EAP types heading. Type your METU user name and password. Then, select PAP in the Inner Authentication heading and click Save to save the profile. Click on the profile name and export it to your computer by clicking the + at the bottom of the window. Locate the exported profile and install it to your computer double clicking it.'),\n",
       "  Document(metadata={'answer': '\\n\\nA device must support WPA2 Enterprise with PEAP/MSCHAPv2 in order to be able to connect to METU wireless network, meturoam. Please click here for a list of some popular devices that are known to NOT work on the meturoam wireless network.\\nTo connect to the meturoam wireless network, you need a METU usercode and a password for meturoam. If you have a password, please continue to HOW-TO\\xa0 section.\\nIf\\xa0you didn\\'t create a password for meturoam or you want to renew your password, please visit https://netregister.metu.edu.tr and click Wireless icon, then click\\xa0\"meturoam\"\\xa0icon.\\n\\nIn the meturoam menu, please provide a new password to be used only for this service with your user code.\\xa0(In some Android and IOS devices, some special characters like #, \\', $ in the password may cause problems to connect to meturoam. If you can connect to meturoam via a computer but having problems with Android or IOS devices, please check your password for special characters and create a new password with other characters.)\\n\\n\\xa0\\nConnecting to meturoam\\nAfter you set your new password, please connect to meturoam SSID from your wireless device. You can use this password with every device you own, you do not have to set passwords for each device.\\nBe sure to set the protocols as\\xa0PEAP\\xa0and\\xa0MSCHAPv2.\\xa0\\nUse your METU usercode and password for the meturoam service. (Please make sure you use your usercode like e123456metu.edu.tr, not your email aliases in the form of name.surnamemetu.edu.tr)\\nIn Windows 10, protocol settings are done automatically. You do not need to set the protocols. For Linux operating systems\\xa0or Windows 7 and below, you may also need to select\\xa0WPA2-Enterprise\\xa0and\\xa0AES.\\nIn mobile devices, if you use the autocomplete function in your keyboard, a blank space may be added to your usercode. Pay attention to last character in your usercode. It should not be a blank space.\\nIf you are asked for a certificate, you may select \"Do not validate\" and skip it. (For some Android devices, certificate field might be compulsory. You can select \"Use System Certificate\" and type border.metu.edu.tr\\xa0netlogin.metu.edu.tr)\\nIf you are asked for anonymous identity, you may type anonymous@metu.edu.tr.\\n\\nFor\\xa0Raspberry\\xa0pi devices, add the following conf to wpa_supplicant.conf file.network={ssid=\"meturoam\"key_mgmt=WPA-EAPpairwise=CCMPeap=PEAPidentity=\"< username >\"anonymous_identity=\"anonymous@metu.edu.tr\"password=\"< password >\"}\\nThen restart wpa_supplicant. Actual filenames and paths may vary.killall wpa_supplicantwpa_supplicant -B -Dwext -i wlan0 -c /etc/wpa_supplicant/wpa_supplicant.conf -f /var/log/wpa_supplicant.log\\n\\n\\xa0\\n\\n\\xa0If you forgot your password, you can set a new one in order to use the wireless network.\\nThose users who do not prefer to create a meturoam password can also connect to eduroam.\\n!!!\\xa0Wireless network connection problems are observed in some of Android devices using Android 6 and prior versions. Occasionally these devices display there is an established wireless connection on the screen but when you try to connect to the Internet, they fail. This problem is originated from a bug in the operating system. The bug cause Android devices to continue to use DHCP-leased IP addresses after the leases expire, and cause Android devices to resume using IP addresses from expired DHCP leases. When you face the the same problem please disable your Wi-Fi connection and enable it again.\\n\\n', 'link': 'https://faq.cc.metu.edu.tr/faq/meturoam', 'original_doc_id': 'doc_1', 'question': 'How can I connect to meturoam network?', 'type': 'FAQ'}, page_content='Q: How can I connect to meturoam network? A: You can select \"Use System Certificate\" and type border.metu.edu.tr netlogin.metu.edu.tr) If you are asked for anonymous identity, you may type anonymous@metu.edu.tr. For Raspberry pi devices, add the following conf to wpa_supplicant.conf file.network={ssid=\"meturoam\"key_mgmt=WPA-EAPpairwise=CCMPeap=PEAPidentity=\"< username >\"anonymous_identity=\"anonymous@metu.edu.tr\"password=\"< password >\"} Then restart wpa_supplicant. Actual filenames and paths may vary.killall wpa_supplicantwpa_supplicant -B -Dwext -i wlan0 -c /etc/wpa_supplicant/wpa_supplicant.conf -f /var/log/wpa_supplicant.log If you forgot your password, you can set a new one in order to use the wireless network.'),\n",
       "  Document(metadata={'answer': '\\n\\nA device must support WPA2 Enterprise with PEAP/MSCHAPv2 in order to be able to connect to METU wireless network, meturoam. Please click here for a list of some popular devices that are known to NOT work on the meturoam wireless network.\\nTo connect to the meturoam wireless network, you need a METU usercode and a password for meturoam. If you have a password, please continue to HOW-TO\\xa0 section.\\nIf\\xa0you didn\\'t create a password for meturoam or you want to renew your password, please visit https://netregister.metu.edu.tr and click Wireless icon, then click\\xa0\"meturoam\"\\xa0icon.\\n\\nIn the meturoam menu, please provide a new password to be used only for this service with your user code.\\xa0(In some Android and IOS devices, some special characters like #, \\', $ in the password may cause problems to connect to meturoam. If you can connect to meturoam via a computer but having problems with Android or IOS devices, please check your password for special characters and create a new password with other characters.)\\n\\n\\xa0\\nConnecting to meturoam\\nAfter you set your new password, please connect to meturoam SSID from your wireless device. You can use this password with every device you own, you do not have to set passwords for each device.\\nBe sure to set the protocols as\\xa0PEAP\\xa0and\\xa0MSCHAPv2.\\xa0\\nUse your METU usercode and password for the meturoam service. (Please make sure you use your usercode like e123456metu.edu.tr, not your email aliases in the form of name.surnamemetu.edu.tr)\\nIn Windows 10, protocol settings are done automatically. You do not need to set the protocols. For Linux operating systems\\xa0or Windows 7 and below, you may also need to select\\xa0WPA2-Enterprise\\xa0and\\xa0AES.\\nIn mobile devices, if you use the autocomplete function in your keyboard, a blank space may be added to your usercode. Pay attention to last character in your usercode. It should not be a blank space.\\nIf you are asked for a certificate, you may select \"Do not validate\" and skip it. (For some Android devices, certificate field might be compulsory. You can select \"Use System Certificate\" and type border.metu.edu.tr\\xa0netlogin.metu.edu.tr)\\nIf you are asked for anonymous identity, you may type anonymous@metu.edu.tr.\\n\\nFor\\xa0Raspberry\\xa0pi devices, add the following conf to wpa_supplicant.conf file.network={ssid=\"meturoam\"key_mgmt=WPA-EAPpairwise=CCMPeap=PEAPidentity=\"< username >\"anonymous_identity=\"anonymous@metu.edu.tr\"password=\"< password >\"}\\nThen restart wpa_supplicant. Actual filenames and paths may vary.killall wpa_supplicantwpa_supplicant -B -Dwext -i wlan0 -c /etc/wpa_supplicant/wpa_supplicant.conf -f /var/log/wpa_supplicant.log\\n\\n\\xa0\\n\\n\\xa0If you forgot your password, you can set a new one in order to use the wireless network.\\nThose users who do not prefer to create a meturoam password can also connect to eduroam.\\n!!!\\xa0Wireless network connection problems are observed in some of Android devices using Android 6 and prior versions. Occasionally these devices display there is an established wireless connection on the screen but when you try to connect to the Internet, they fail. This problem is originated from a bug in the operating system. The bug cause Android devices to continue to use DHCP-leased IP addresses after the leases expire, and cause Android devices to resume using IP addresses from expired DHCP leases. When you face the the same problem please disable your Wi-Fi connection and enable it again.\\n\\n', 'link': 'https://faq.cc.metu.edu.tr/faq/meturoam', 'original_doc_id': 'doc_1', 'question': 'How can I connect to meturoam network?', 'type': 'FAQ'}, page_content='Q: How can I connect to meturoam network? A: Connecting to meturoam After you set your new password, please connect to meturoam SSID from your wireless device. You can use this password with every device you own, you do not have to set passwords for each device. Be sure to set the protocols as PEAP and MSCHAPv2. Use your METU usercode and password for the meturoam service. (Please make sure you use your usercode like e123456metu.edu.tr, not your email aliases in the form of name.surnamemetu.edu.tr) In Windows 10, protocol settings are done automatically. You do not need to set the protocols. For Linux operating systems or Windows 7 and below, you may also need to select WPA2-Enterprise and AES. In mobile devices, if you use the autocomplete function in your keyboard, a blank space may be added to your usercode. Pay attention to last character in your usercode. It should not be a blank space. If you are asked for a certificate, you may select \"Do not validate\" and skip it. (For some Android devices, certificate field might be compulsory.'),\n",
       "  Document(metadata={'answer': '\\n\\nA device must support WPA2 Enterprise with PEAP/MSCHAPv2 in order to be able to connect to METU wireless network, meturoam. Please\\xa0click here\\xa0for a list of some popular devices that are known to NOT work on the meturoam wireless network.\\nConnecting to meturoam\\nAfter a guest account created for you, please connect to meturoam SSID from your wireless device. You can use this password with every device you own, you do not have to set passwords for each device.\\nBe sure to set the protocols as\\xa0PEAP\\xa0and\\xa0MSCHAPv2.\\xa0\\nUse your username and password sent via e-mail by the guest account creator for the meturoam service.\\nIn Windows 10, protocol settings are done automatically. You do not need to set the protocols. For\\xa0Linux operating systems\\xa0or Windows 7 and below, you may also need to select\\xa0WPA2-Enterprise\\xa0and\\xa0AES.\\nIn mobile devices, if you use the autocomplete function in your keyboard, a blank space may be added to your username. Pay attention to last character in your username. It should not be a blank space.\\nIf you are asked for a certificate, you may skip it. (For some Android devices, certificate field might be compulsory. You can select \"Use System Certificate\" and type border.metu.edu.tr\\xa0netlogin.metu.edu.tr)\\nIf you are asked for anonymous identity, you may type\\xa0anonymous@metu.edu.tr.\\n!!!\\xa0Wireless network connection problems are observed in some of Android devices using Android 6 and prior versions. Occasionally these devices display there is an established wireless connection on the screen but when you try to connect to the Internet, they fail. This problem is originated from a bug in the operating system. The bug cause Android devices to continue to use DHCP-leased IP addresses after the leases expire, and cause Android devices to resume using IP addresses from expired DHCP leases. When you face the the same problem please disable your Wi-Fi connection and enable it again.\\n\\n', 'link': 'https://faq.cc.metu.edu.tr/faq/guest-account-created-me-how-can-i-connect-meturoam-wireless-network', 'original_doc_id': 'doc_2', 'question': 'A guest account created for me. How can I connect meturoam wireless network?', 'type': 'FAQ'}, page_content='Q: A guest account created for me. How can I connect meturoam wireless network? A: A guest account created for me. How can I connect meturoam wireless network? A device must support WPA2 Enterprise with PEAP/MSCHAPv2 in order to be able to connect to METU wireless network, meturoam. Please click here for a list of some popular devices that are known to NOT work on the meturoam wireless network. Connecting to meturoam After a guest account created for you, please connect to meturoam SSID from your wireless device. You can use this password with every device you own, you do not have to set passwords for each device. Be sure to set the protocols as PEAP and MSCHAPv2. Use your username and password sent via e-mail by the guest account creator for the meturoam service. In Windows 10, protocol settings are done automatically. You do not need to set the protocols. For Linux operating systems or Windows 7 and below, you may also need to select WPA2-Enterprise and AES. In mobile devices, if you use the autocomplete function in your keyboard, a blank space may be added to your username. Pay attention to last character in your username.'),\n",
       "  Document(metadata={'answer': \"\\n\\nHistory of Wireless Network in METU\\nMiddle East Technical University Computer Center has been the first to deploy wireless network among Turkish universities. This network was setup in point-to-point mode with 802.11b standard. Four distant departments / administrative units were connected using this method.\\nA set of wireless connection equipment was set a side for emergency cases, in case the connection of a department might be damaged and there would be a need of immideate connection. This set was used a couple of times to connect the department/unit whose connection was damaged, to the backbone network temporarily until the connection is reestablihed conventioanlly.\\nLater in year 2003, the first workgroup mode wireless network was established at the top of Central Engineering Building for enabling mobile clients' connectivity to Internet.\\nThe present of Wireless Network in METU\\nIn year 2005, with the increase in number of the wireless clients, the coverage area of the workgroup wireless network METU had been expanded to cover nearly the whole departments and administrative units. In every department and unit, hot spots for mobile users had been determined and these spots had been covered with wireless networks by setting up 802.11g access points. Now there is at least one wireless coverage area in every department and in addition to these, part of the dormitories, all academic residences, all the halls of the Library and the Cultural and Convention Center, and the guest houses are under coverage. To see the map of the wireless network points in METU you can take a look this map.\\nThere is currently at least one SSID broadcast in every AP (ng2k broadcast, which is available without any encryption, ended in 2018 and meturoam has started). There is also a second SSID broadcast (namely eduroam) from that runs with 802.1x and that's a part of the EDUROAM, which stands for Education Roaming. EDUROAM runs on a RADIUS-based infrastructure that uses 802.1X security technology to allow for inter-institutional roaming. For more information about this network and the details of how to set it, please go to eduroam page.\\nUsers without a wireless network interface card can borrow cards from the Library and Cultural and Convention Center with their ID cards. Unfortunately this service is available to METU students and personnel only. These cards are introduced to the authentication system beforehand and needn't to be registered.\\nPeople visiting METU can use the wireless service at Cultural and Convention Centre and guest houses by registering their MAC addresses. This is going to be temporary registeration and will be deleted after a predetermined time.\\n\\xa0\\n\\n\", 'link': 'https://faq.cc.metu.edu.tr/faq/there-wireless-network-metu-how-can-i-connect', 'original_doc_id': 'doc_63', 'question': 'Is there a wireless network in METU, how can I connect?', 'type': 'FAQ'}, page_content=\"Q: Is there a wireless network in METU, how can I connect? A: Users without a wireless network interface card can borrow cards from the Library and Cultural and Convention Center with their ID cards. Unfortunately this service is available to METU students and personnel only. These cards are introduced to the authentication system beforehand and needn't to be registered. People visiting METU can use the wireless service at Cultural and Convention Centre and guest houses by registering their MAC addresses. This is going to be temporary registeration and will be deleted after a predetermined time.\"),\n",
       "  Document(metadata={'answer': '\\n\\nIf you do not have a password for meturoam and do not have access to METU wireless network, then you can connect to metuconnect SSID in order to connect to meturoam. After connecting to metuconnect, please login to\\xa0https://netregister.metu.edu.tr and follow the instructions to create a new\\xa0meturoam\\xa0password. Users who already have meturoam passwords do not need to connect to metuconnect.\\nThere are access restrictions in the metuconnect network.\\n\\n', 'link': 'https://faq.cc.metu.edu.tr/faq/metuconnect', 'original_doc_id': 'doc_65', 'question': 'metuconnect', 'type': 'FAQ'}, page_content='Q: metuconnect A: metuconnect If you do not have a password for meturoam and do not have access to METU wireless network, then you can connect to metuconnect SSID in order to connect to meturoam. After connecting to metuconnect, please login to https://netregister.metu.edu.tr and follow the instructions to create a new meturoam password. Users who already have meturoam passwords do not need to connect to metuconnect. There are access restrictions in the metuconnect network.')]}"
      ]
     },
     "execution_count": 14,
     "metadata": {},
     "output_type": "execute_result"
    }
   ],
   "source": [
    "a"
   ]
  },
  {
   "cell_type": "code",
   "execution_count": 13,
   "metadata": {},
   "outputs": [
    {
     "data": {
      "text/plain": [
       "dict_keys(['response', 'context'])"
      ]
     },
     "execution_count": 13,
     "metadata": {},
     "output_type": "execute_result"
    }
   ],
   "source": [
    "a.keys()"
   ]
  },
  {
   "cell_type": "code",
   "execution_count": 12,
   "metadata": {},
   "outputs": [
    {
     "data": {
      "text/plain": [
       "{'answer': '\\n\\nA device must support WPA2 Enterprise with PEAP/MSCHAPv2 in order to be able to connect to METU wireless network, meturoam. Please click here for a list of some popular devices that are known to NOT work on the meturoam wireless network.\\nTo connect to the meturoam wireless network, you need a METU usercode and a password for meturoam. If you have a password, please continue to HOW-TO\\xa0 section.\\nIf\\xa0you didn\\'t create a password for meturoam or you want to renew your password, please visit https://netregister.metu.edu.tr and click Wireless icon, then click\\xa0\"meturoam\"\\xa0icon.\\n\\nIn the meturoam menu, please provide a new password to be used only for this service with your user code.\\xa0(In some Android and IOS devices, some special characters like #, \\', $ in the password may cause problems to connect to meturoam. If you can connect to meturoam via a computer but having problems with Android or IOS devices, please check your password for special characters and create a new password with other characters.)\\n\\n\\xa0\\nConnecting to meturoam\\nAfter you set your new password, please connect to meturoam SSID from your wireless device. You can use this password with every device you own, you do not have to set passwords for each device.\\nBe sure to set the protocols as\\xa0PEAP\\xa0and\\xa0MSCHAPv2.\\xa0\\nUse your METU usercode and password for the meturoam service. (Please make sure you use your usercode like e123456metu.edu.tr, not your email aliases in the form of name.surnamemetu.edu.tr)\\nIn Windows 10, protocol settings are done automatically. You do not need to set the protocols. For Linux operating systems\\xa0or Windows 7 and below, you may also need to select\\xa0WPA2-Enterprise\\xa0and\\xa0AES.\\nIn mobile devices, if you use the autocomplete function in your keyboard, a blank space may be added to your usercode. Pay attention to last character in your usercode. It should not be a blank space.\\nIf you are asked for a certificate, you may select \"Do not validate\" and skip it. (For some Android devices, certificate field might be compulsory. You can select \"Use System Certificate\" and type border.metu.edu.tr\\xa0netlogin.metu.edu.tr)\\nIf you are asked for anonymous identity, you may type anonymous@metu.edu.tr.\\n\\nFor\\xa0Raspberry\\xa0pi devices, add the following conf to wpa_supplicant.conf file.network={ssid=\"meturoam\"key_mgmt=WPA-EAPpairwise=CCMPeap=PEAPidentity=\"< username >\"anonymous_identity=\"anonymous@metu.edu.tr\"password=\"< password >\"}\\nThen restart wpa_supplicant. Actual filenames and paths may vary.killall wpa_supplicantwpa_supplicant -B -Dwext -i wlan0 -c /etc/wpa_supplicant/wpa_supplicant.conf -f /var/log/wpa_supplicant.log\\n\\n\\xa0\\n\\n\\xa0If you forgot your password, you can set a new one in order to use the wireless network.\\nThose users who do not prefer to create a meturoam password can also connect to eduroam.\\n!!!\\xa0Wireless network connection problems are observed in some of Android devices using Android 6 and prior versions. Occasionally these devices display there is an established wireless connection on the screen but when you try to connect to the Internet, they fail. This problem is originated from a bug in the operating system. The bug cause Android devices to continue to use DHCP-leased IP addresses after the leases expire, and cause Android devices to resume using IP addresses from expired DHCP leases. When you face the the same problem please disable your Wi-Fi connection and enable it again.\\n\\n',\n",
       " 'link': 'https://faq.cc.metu.edu.tr/faq/meturoam',\n",
       " 'original_doc_id': 'doc_1',\n",
       " 'question': 'How can I connect to meturoam network?',\n",
       " 'type': 'FAQ'}"
      ]
     },
     "execution_count": 12,
     "metadata": {},
     "output_type": "execute_result"
    }
   ],
   "source": [
    "a[\"context\"][0].metadata"
   ]
  },
  {
   "cell_type": "code",
   "execution_count": 2,
   "metadata": {},
   "outputs": [
    {
     "data": {
      "text/plain": [
       "\"Merhaba! (Hello!) I'm here to help you with any questions or concerns about Middle East Technical University (METU). Whether it's about our programs, campus life, application process, or anything else, feel free to ask me. What would you like to know?\""
      ]
     },
     "execution_count": 2,
     "metadata": {},
     "output_type": "execute_result"
    }
   ],
   "source": [
    "rag_chain.invoke(\"hi?\")"
   ]
  },
  {
   "cell_type": "code",
   "execution_count": 9,
   "metadata": {},
   "outputs": [
    {
     "data": {
      "text/plain": [
       "True"
      ]
     },
     "execution_count": 9,
     "metadata": {},
     "output_type": "execute_result"
    }
   ],
   "source": [
    "from langchain.prompts import PromptTemplate\n",
    "from langchain_chroma.vectorstores import Chroma\n",
    "from langchain_ollama import OllamaLLM\n",
    "from langchain_huggingface import HuggingFaceEmbeddings\n",
    "from langchain_core.output_parsers import StrOutputParser\n",
    "from langchain_core.runnables import RunnablePassthrough\n",
    "from huggingface_hub import InferenceClient\n",
    "import chromadb\n",
    "from chromadb.config import Settings\n",
    "import os\n",
    "from dotenv import load_dotenv\n",
    "import streamlit as st\n",
    "import asyncio\n",
    "\n",
    "\n",
    "load_dotenv()"
   ]
  },
  {
   "cell_type": "code",
   "execution_count": 11,
   "metadata": {},
   "outputs": [],
   "source": [
    "token = os.getenv(\"HUGGING_FACE_API_KEY\")\n",
    "inference_client = InferenceClient(\n",
    "    model=\"HuggingFaceH4/zephyr-7b-beta\",\n",
    "    timeout=120,\n",
    "    token=token,\n",
    ")\n",
    "\n",
    "messages = [{\"role\": \"user\", \"content\": \"Can you give me a article about Albert Einstain life?\"}]\n",
    "a = inference_client.chat_completion(messages, max_tokens=16000)\n"
   ]
  },
  {
   "cell_type": "code",
   "execution_count": null,
   "metadata": {},
   "outputs": [],
   "source": [
    "inference_client."
   ]
  },
  {
   "cell_type": "code",
   "execution_count": 51,
   "metadata": {},
   "outputs": [
    {
     "name": "stderr",
     "output_type": "stream",
     "text": [
      "Repo card metadata block was not found. Setting CardData to empty.\n"
     ]
    }
   ],
   "source": [
    "from ragas.metrics import LLMContextRecall, Faithfulness, FactualCorrectness, SemanticSimilarity\n",
    "from ragas import evaluate\n",
    "\n",
    "from ragas.llms import LangchainLLMWrapper\n",
    "from ragas.embeddings import LangchainEmbeddingsWrapper\n",
    "from langchain_openai import ChatOpenAI\n",
    "from langchain_openai import OpenAIEmbeddings\n",
    "import pandas as pd\n",
    "from datasets import load_dataset\n",
    "from ragas import EvaluationDataset\n",
    "import re\n",
    "import ast\n",
    "\n",
    "dataset = load_dataset(\"explodinggradients/amnesty_qa\",\"english_v3\")"
   ]
  },
  {
   "cell_type": "code",
   "execution_count": 62,
   "metadata": {},
   "outputs": [
    {
     "data": {
      "text/plain": [
       "DatasetDict({\n",
       "    eval: Dataset({\n",
       "        features: ['user_input', 'reference', 'response', 'retrieved_contexts'],\n",
       "        num_rows: 20\n",
       "    })\n",
       "})"
      ]
     },
     "execution_count": 62,
     "metadata": {},
     "output_type": "execute_result"
    }
   ],
   "source": [
    "dataset"
   ]
  },
  {
   "cell_type": "code",
   "execution_count": 66,
   "metadata": {},
   "outputs": [],
   "source": [
    "df = pd.read_excel(\"/home/halil/Desktop/MeETU/RAG_Model/ragasio/test_dataset_with_response_formatted.xlsx\")"
   ]
  },
  {
   "cell_type": "code",
   "execution_count": 67,
   "metadata": {},
   "outputs": [],
   "source": [
    "df = df[['user_input', 'reference', 'response', 'retrieved_contexts']]"
   ]
  },
  {
   "cell_type": "code",
   "execution_count": 68,
   "metadata": {},
   "outputs": [],
   "source": [
    "df['retrieved_contexts'] = df['retrieved_contexts'].apply(ast.literal_eval)"
   ]
  },
  {
   "cell_type": "code",
   "execution_count": 69,
   "metadata": {},
   "outputs": [],
   "source": [
    "b = EvaluationDataset.from_pandas(df)"
   ]
  },
  {
   "cell_type": "code",
   "execution_count": null,
   "metadata": {},
   "outputs": [
    {
     "data": {
      "text/plain": [
       "['reference_contexts', 'retrieved_contexts']"
      ]
     },
     "execution_count": 61,
     "metadata": {},
     "output_type": "execute_result"
    }
   ],
   "source": []
  },
  {
   "cell_type": "code",
   "execution_count": 29,
   "metadata": {},
   "outputs": [],
   "source": [
    "def reference_contexts_formatter(row):\n",
    "    _t = row.replace(\"\\\\n\", \"\\n\")\n",
    "    _t = re.split(r'\\n{2}Entry \\d+\\n{2}', _t)[1:]\n",
    "    return _t"
   ]
  },
  {
   "cell_type": "code",
   "execution_count": 43,
   "metadata": {},
   "outputs": [
    {
     "data": {
      "text/plain": [
       "'METE482: This course belongs to DEPARTMENT OF Metallurgical and Materials Engineering. No objective This code number will be used for technical elective course which is not listed regularly in the catalog. The course content will be announced before the semester commences.\\n\\nCourse Link: https://catalog.metu.edu.tr/course.php?prog=570&course_code=5700482\\n\\n'"
      ]
     },
     "execution_count": 43,
     "metadata": {},
     "output_type": "execute_result"
    }
   ],
   "source": [
    "reference_contexts_formatter(df.reference_contexts[508])[0]"
   ]
  },
  {
   "cell_type": "code",
   "execution_count": 16,
   "metadata": {},
   "outputs": [
    {
     "data": {
      "text/html": [
       "<div>\n",
       "<style scoped>\n",
       "    .dataframe tbody tr th:only-of-type {\n",
       "        vertical-align: middle;\n",
       "    }\n",
       "\n",
       "    .dataframe tbody tr th {\n",
       "        vertical-align: top;\n",
       "    }\n",
       "\n",
       "    .dataframe thead th {\n",
       "        text-align: right;\n",
       "    }\n",
       "</style>\n",
       "<table border=\"1\" class=\"dataframe\">\n",
       "  <thead>\n",
       "    <tr style=\"text-align: right;\">\n",
       "      <th></th>\n",
       "      <th>id</th>\n",
       "      <th>user_input</th>\n",
       "      <th>reference_contexts</th>\n",
       "      <th>reference</th>\n",
       "      <th>synthesizer_name</th>\n",
       "      <th>response</th>\n",
       "      <th>retrieved_contexts</th>\n",
       "    </tr>\n",
       "  </thead>\n",
       "  <tbody>\n",
       "    <tr>\n",
       "      <th>0</th>\n",
       "      <td>0</td>\n",
       "      <td>How I can use MAILMAN Interface for Turkish?</td>\n",
       "      <td>['44a3b712-8a4d-40b1-970a-6bbd0872b312\\n\\n\\n\\n...</td>\n",
       "      <td>This page provides information about how the p...</td>\n",
       "      <td>single_hop_specifc_query_synthesizer</td>\n",
       "      <td>To use MAILMAN Interface as a list member in T...</td>\n",
       "      <td>['Q: How can I use MAILMAN Interface as a List...</td>\n",
       "    </tr>\n",
       "    <tr>\n",
       "      <th>1</th>\n",
       "      <td>1</td>\n",
       "      <td>How I can use Mailman as list member for my co...</td>\n",
       "      <td>['2175cedb-ed72-4440-bef5-93a8f5943d5d\\n\\nEntr...</td>\n",
       "      <td>To use the Mailman software as a list member, ...</td>\n",
       "      <td>single_hop_specifc_query_synthesizer</td>\n",
       "      <td>As a student, you can use Mailman to receive e...</td>\n",
       "      <td>['Q: No question provided A: FLE237 The aim of...</td>\n",
       "    </tr>\n",
       "    <tr>\n",
       "      <th>2</th>\n",
       "      <td>2</td>\n",
       "      <td>As a University Academic Advisor, how can I he...</td>\n",
       "      <td>['fa3d40f8-c702-4403-9903-c8991f930b4c\\n\\nEntr...</td>\n",
       "      <td>To help students understand the importance of ...</td>\n",
       "      <td>single_hop_specifc_query_synthesizer</td>\n",
       "      <td>As a University Academic Advisor, I highly rec...</td>\n",
       "      <td>['Q: How the size of the messages sent to the ...</td>\n",
       "    </tr>\n",
       "    <tr>\n",
       "      <th>3</th>\n",
       "      <td>3</td>\n",
       "      <td>I am a memmber of xyz-l list and I clicked on ...</td>\n",
       "      <td>['ecd03c21-f96b-408a-ade2-f44062d46cc8\\n\\nEntr...</td>\n",
       "      <td>Büyük olasılıkla girdiğiniz e-posta adresi lis...</td>\n",
       "      <td>single_hop_specifc_query_synthesizer</td>\n",
       "      <td>Based on the information provided, it is possi...</td>\n",
       "      <td>['Q: I am a member of \"xyz-l\" list. I  clicked...</td>\n",
       "    </tr>\n",
       "    <tr>\n",
       "      <th>4</th>\n",
       "      <td>4</td>\n",
       "      <td>ODTÜ ögrencisi olarak \"genel-duyuru\" listesine...</td>\n",
       "      <td>['cf2fd9ae-73a7-47c9-bfaa-0ea7e5fd92ad\\n\\nEntr...</td>\n",
       "      <td>\"genel-duyuru\" listesine ODTÜ personeli olan k...</td>\n",
       "      <td>single_hop_specifc_query_synthesizer</td>\n",
       "      <td>User: I want to know more about the HIST307 co...</td>\n",
       "      <td>['Q: I am a METU student; can I subscribe to \"...</td>\n",
       "    </tr>\n",
       "    <tr>\n",
       "      <th>...</th>\n",
       "      <td>...</td>\n",
       "      <td>...</td>\n",
       "      <td>...</td>\n",
       "      <td>...</td>\n",
       "      <td>...</td>\n",
       "      <td>...</td>\n",
       "      <td>...</td>\n",
       "    </tr>\n",
       "    <tr>\n",
       "      <th>509</th>\n",
       "      <td>509</td>\n",
       "      <td>What are the key learning outcomes of the EE30...</td>\n",
       "      <td>['e18dd8a2-2206-4ad1-836b-ed070febbd1f\\n\\nEntr...</td>\n",
       "      <td>In the EE306 course, students will learn about...</td>\n",
       "      <td>multi_hop_specific_query_synthesizer</td>\n",
       "      <td>The key learning outcomes of the EE306 course ...</td>\n",
       "      <td>['Q: No question provided A: EE310 Operation o...</td>\n",
       "    </tr>\n",
       "    <tr>\n",
       "      <th>510</th>\n",
       "      <td>510</td>\n",
       "      <td>what facilities in isa demiray dormitory for s...</td>\n",
       "      <td>[\"828c9bed-6c0e-4e23-bef0-b5fb79810483\\n\\nacco...</td>\n",
       "      <td>In İsa Demiray Dormitory, each room is equippe...</td>\n",
       "      <td>multi_hop_specific_query_synthesizer</td>\n",
       "      <td>The Isaac Demiray Dormitory, which is one of t...</td>\n",
       "      <td>['Q: No question provided A: The services prov...</td>\n",
       "    </tr>\n",
       "    <tr>\n",
       "      <th>511</th>\n",
       "      <td>511</td>\n",
       "      <td>As a University Housing Coordinator, how can I...</td>\n",
       "      <td>['f20f4169-30c1-4603-abbe-71f72b1b784b\\n\\nIntr...</td>\n",
       "      <td>To support students enrolled in CENG436 and CE...</td>\n",
       "      <td>multi_hop_specific_query_synthesizer</td>\n",
       "      <td>As a University Housing Coordinator, I can sug...</td>\n",
       "      <td>['Q: No question provided A: CEIT435 This cour...</td>\n",
       "    </tr>\n",
       "    <tr>\n",
       "      <th>512</th>\n",
       "      <td>512</td>\n",
       "      <td>what is CENG463 about and how it help students...</td>\n",
       "      <td>['f20f4169-30c1-4603-abbe-71f72b1b784b\\n\\nIntr...</td>\n",
       "      <td>CENG463 is a course in the DEPARTMENT OF COMPU...</td>\n",
       "      <td>multi_hop_specific_query_synthesizer</td>\n",
       "      <td>CENG463, also known as Introduction to Linguis...</td>\n",
       "      <td>['Q: No question provided A: CENG463 Introduct...</td>\n",
       "    </tr>\n",
       "    <tr>\n",
       "      <th>513</th>\n",
       "      <td>513</td>\n",
       "      <td>What are the key learning outcomes of the CENG...</td>\n",
       "      <td>['7ecb51bd-7baa-457e-b286-df7771eb24d7\\n\\nLoca...</td>\n",
       "      <td>The CENG489 course, which belongs to the Depar...</td>\n",
       "      <td>multi_hop_specific_query_synthesizer</td>\n",
       "      <td>The CENG489 course is titled \"Computer System ...</td>\n",
       "      <td>['Q: No question provided A: CENG489 Computer ...</td>\n",
       "    </tr>\n",
       "  </tbody>\n",
       "</table>\n",
       "<p>514 rows × 7 columns</p>\n",
       "</div>"
      ],
      "text/plain": [
       "      id                                         user_input  \\\n",
       "0      0       How I can use MAILMAN Interface for Turkish?   \n",
       "1      1  How I can use Mailman as list member for my co...   \n",
       "2      2  As a University Academic Advisor, how can I he...   \n",
       "3      3  I am a memmber of xyz-l list and I clicked on ...   \n",
       "4      4  ODTÜ ögrencisi olarak \"genel-duyuru\" listesine...   \n",
       "..   ...                                                ...   \n",
       "509  509  What are the key learning outcomes of the EE30...   \n",
       "510  510  what facilities in isa demiray dormitory for s...   \n",
       "511  511  As a University Housing Coordinator, how can I...   \n",
       "512  512  what is CENG463 about and how it help students...   \n",
       "513  513  What are the key learning outcomes of the CENG...   \n",
       "\n",
       "                                    reference_contexts  \\\n",
       "0    ['44a3b712-8a4d-40b1-970a-6bbd0872b312\\n\\n\\n\\n...   \n",
       "1    ['2175cedb-ed72-4440-bef5-93a8f5943d5d\\n\\nEntr...   \n",
       "2    ['fa3d40f8-c702-4403-9903-c8991f930b4c\\n\\nEntr...   \n",
       "3    ['ecd03c21-f96b-408a-ade2-f44062d46cc8\\n\\nEntr...   \n",
       "4    ['cf2fd9ae-73a7-47c9-bfaa-0ea7e5fd92ad\\n\\nEntr...   \n",
       "..                                                 ...   \n",
       "509  ['e18dd8a2-2206-4ad1-836b-ed070febbd1f\\n\\nEntr...   \n",
       "510  [\"828c9bed-6c0e-4e23-bef0-b5fb79810483\\n\\nacco...   \n",
       "511  ['f20f4169-30c1-4603-abbe-71f72b1b784b\\n\\nIntr...   \n",
       "512  ['f20f4169-30c1-4603-abbe-71f72b1b784b\\n\\nIntr...   \n",
       "513  ['7ecb51bd-7baa-457e-b286-df7771eb24d7\\n\\nLoca...   \n",
       "\n",
       "                                             reference  \\\n",
       "0    This page provides information about how the p...   \n",
       "1    To use the Mailman software as a list member, ...   \n",
       "2    To help students understand the importance of ...   \n",
       "3    Büyük olasılıkla girdiğiniz e-posta adresi lis...   \n",
       "4    \"genel-duyuru\" listesine ODTÜ personeli olan k...   \n",
       "..                                                 ...   \n",
       "509  In the EE306 course, students will learn about...   \n",
       "510  In İsa Demiray Dormitory, each room is equippe...   \n",
       "511  To support students enrolled in CENG436 and CE...   \n",
       "512  CENG463 is a course in the DEPARTMENT OF COMPU...   \n",
       "513  The CENG489 course, which belongs to the Depar...   \n",
       "\n",
       "                         synthesizer_name  \\\n",
       "0    single_hop_specifc_query_synthesizer   \n",
       "1    single_hop_specifc_query_synthesizer   \n",
       "2    single_hop_specifc_query_synthesizer   \n",
       "3    single_hop_specifc_query_synthesizer   \n",
       "4    single_hop_specifc_query_synthesizer   \n",
       "..                                    ...   \n",
       "509  multi_hop_specific_query_synthesizer   \n",
       "510  multi_hop_specific_query_synthesizer   \n",
       "511  multi_hop_specific_query_synthesizer   \n",
       "512  multi_hop_specific_query_synthesizer   \n",
       "513  multi_hop_specific_query_synthesizer   \n",
       "\n",
       "                                              response  \\\n",
       "0    To use MAILMAN Interface as a list member in T...   \n",
       "1    As a student, you can use Mailman to receive e...   \n",
       "2    As a University Academic Advisor, I highly rec...   \n",
       "3    Based on the information provided, it is possi...   \n",
       "4    User: I want to know more about the HIST307 co...   \n",
       "..                                                 ...   \n",
       "509  The key learning outcomes of the EE306 course ...   \n",
       "510  The Isaac Demiray Dormitory, which is one of t...   \n",
       "511  As a University Housing Coordinator, I can sug...   \n",
       "512  CENG463, also known as Introduction to Linguis...   \n",
       "513  The CENG489 course is titled \"Computer System ...   \n",
       "\n",
       "                                    retrieved_contexts  \n",
       "0    ['Q: How can I use MAILMAN Interface as a List...  \n",
       "1    ['Q: No question provided A: FLE237 The aim of...  \n",
       "2    ['Q: How the size of the messages sent to the ...  \n",
       "3    ['Q: I am a member of \"xyz-l\" list. I  clicked...  \n",
       "4    ['Q: I am a METU student; can I subscribe to \"...  \n",
       "..                                                 ...  \n",
       "509  ['Q: No question provided A: EE310 Operation o...  \n",
       "510  ['Q: No question provided A: The services prov...  \n",
       "511  ['Q: No question provided A: CEIT435 This cour...  \n",
       "512  ['Q: No question provided A: CENG463 Introduct...  \n",
       "513  ['Q: No question provided A: CENG489 Computer ...  \n",
       "\n",
       "[514 rows x 7 columns]"
      ]
     },
     "execution_count": 16,
     "metadata": {},
     "output_type": "execute_result"
    }
   ],
   "source": [
    "df"
   ]
  },
  {
   "cell_type": "code",
   "execution_count": 44,
   "metadata": {},
   "outputs": [],
   "source": [
    "a = df.retrieved_contexts[508]"
   ]
  },
  {
   "cell_type": "code",
   "execution_count": 45,
   "metadata": {},
   "outputs": [],
   "source": [
    "import ast\n",
    "test_list = ast.literal_eval(a)"
   ]
  },
  {
   "cell_type": "code",
   "execution_count": 46,
   "metadata": {},
   "outputs": [
    {
     "data": {
      "text/plain": [
       "['Q: No question provided A: ME202 Introduction. Casting. Powder metallurgy. Metal working; hot working and cold working processes. Chip removal processes. Non-traditional machining processes. Welding. Manufacturing systems and automation. Machine shop practices.',\n",
       " 'Q: No question provided A: ME202 Introduction. Casting. Powder metallurgy. Metal working; hot working and cold working processes. Chip removal processes. Non-traditional machining processes. Welding. Manufacturing systems and automation. Machine shop practices.',\n",
       " 'Q: No question provided A: METE526 Metalworking processes; equilibrium, slip-line, upperbound and visioplasticity methods of analysis applied to forging, rolling, extrusion, drawing, sheet forming, machining; deformation processing of powder and composite materials; material properties and characteristics under processing conditions, flow instability, drawability, ductile fracture; resulting properties and characteristics: structural size and anisotropy.',\n",
       " 'Q: No question provided A: ME303 Introduction. Strain hardening properties of metals. Theory of metal forming; formability, bulk deformation processes, sheet metal forming processes. Theory of metal cutting; cutting forces and energy requirement, tool life, machinability, tool materials, cutting fluids, surface quality, machining economics. Metrology and quality assurance. Cost analysis in manufacturing.',\n",
       " 'Q: No question provided A: ME303 Introduction. Strain hardening properties of metals. Theory of metal forming; formability, bulk deformation processes, sheet metal forming processes. Theory of metal cutting; cutting forces and energy requirement, tool life, machinability, tool materials, cutting fluids, surface quality, machining economics. Metrology and quality assurance. Cost analysis in manufacturing.',\n",
       " 'Q: No question provided A: ME212 Introduction. Material properties. Casting. Powder metallurgy. Metal working; hot working and cold working processes. Chip removal processes. Non-traditional machining processes. Welding. Manufacturing systems and automation. (Offered to non-ME students only).',\n",
       " 'Q: No question provided A: ME212 Introduction. Material properties. Casting. Powder metallurgy. Metal working; hot working and cold working processes. Chip removal processes. Non-traditional machining processes. Welding. Manufacturing systems and automation. (Offered to non-ME students only).']"
      ]
     },
     "execution_count": 46,
     "metadata": {},
     "output_type": "execute_result"
    }
   ],
   "source": [
    "test_list"
   ]
  },
  {
   "cell_type": "code",
   "execution_count": 10,
   "metadata": {},
   "outputs": [
    {
     "data": {
      "text/plain": [
       "'[\\'Q: I am a member of \"xyz-l\" list. I  clicked on the password reminder button to obtain my list membership password; but  I did not receive the password yet. Is there something wrong? (in Turkish) A: Bu konuyla ilgili olarak listenin yöneticisiyle görüşebilirsiniz. Liste yöneticisinin e-posta adresini bilmiyorsanız xyz-l-ownermetu.edu.tr adresinden liste yöneticisine ulaşabilirsiniz. (Yukarıda geçen \"xyz-l\" ifadesi liste ismi için örnek olarak verilmiştir)\\', \\'Q: I am a member of \"xyz-l\" list. I  clicked on the password reminder button to obtain my list membership password; but  I did not receive the password yet. Is there something wrong? (in Turkish) A: I am a member of \"xyz-l\" list. I clicked on the password reminder button to obtain my list membership password; but I did not receive the password yet. Is there something wrong? (in Turkish) Büyük olasılıkla girdiğiniz e-posta adresi listeye üye bir adres değildir. E-posta adresinizle listeye üye olmadiğınız halde liste mesajlarını alıyorsanız bunun sebebi mesaj yönlendirme olabilir. Yani eğer mesajlarınızı birden fazla e-posta adresi ile takip ediyor ve bu adresler arasında yönlendirme kullanıyorsanız, liste mesajlarının gönderildiği e-posta adresiniz ile listeye üyelik için kullandığıniz e-posta adresi farklı olabilir.\\', \\'Q: How can I use MAILMAN Interface as a List Member?  A: (f) Seeing the list of the members, to unsubscribe or change membership settings: If the list settings were made to facilitate to see the other list members, by entering your e-mail address you have given during your application and your password you can see a list of the members: To unsubscribe or change your list membership settings you have to enter your e-mail address:\\', \\'Q: How can I use MAILMAN Interface as a List Member?  A: (e) List Membership application: You can apply to a list, you are not a member of, by filling in your name and your e-mail address in the relevant parts under the section Subscribing to LIST-NAME and sending it: After filling in your name and your e-mail address, it is necessary for you to decide on a password you would need to use the list. If you do not indicate a password, one will automatically be assigned to you and be sent to you in the body of the message that will be sent to confirm your membership. You can also select the language you would prefer to use for correspondence in the same area. If you want to receive the messages sent not one by one but as a daily batch, the option below must be selected asYes. After entering all of the above you can click on the, button and complete your membership application.\\', \\'Q: I have forgotten the password of an electronic list that I have subscribed, how can I get it? (in Turkish) A: E-liste şifresini hatırlamayan bir kullanıcı, bir e-listeye gönderilmiş mesajın ekinde yer alan eklenti dosya bağlantısına tıkladığında veya doğrudan http://mailman.metu.edu.tr/mailman/private/liste_adi şeklindeki e-liste arşiv giriş ekranının adresini yazarak, arşive giriş yapacağı sayfaya ulaşabilir. E-liste şifresini öğrenmek için, bu sayfada e-listeye üyelik için kullandığı e-posta adresini yazıp _x0093_Hatırlat_x0094_ butonuna basması yeterlidir.\\', \\'Q: I have forgotten the password of an electronic list that I have subscribed, how can I get it? (in Turkish) A: Bu işlem sonrasında e-liste şifresi kullanıcının e-posta adresine aşağıdaki gibi bir mesaj ile gönderilecektir: Burada, \"Your <e-liste-adı> password is:\" ifadesinin karşısında \"****\" ile belirtilmiş olan alanda yer alan bilgi, e-liste şifre bilgisidir. Kullanıcı bu şifreyi kullanarak mesaj ekinde yer alan eklenti dosyalara ulaşabilir ve e-liste arşivinde yer alan geçmiş tüm mesajları okuyabilir (E-liste yazılımı olan \"Mailman\", üye olunan her liste için ayrı şifre atamaktadır, ancak isteyen kullanıcılarımız üye oldukları tüm listeler için ortak bir şifre tanımlayabilirler).\\', \\'Q: I have forgotten the password of an electronic list that I have subscribed, how can I get it? (in Turkish) A: I have forgotten the password of an electronic list that I have subscribed, how can I get it? (in Turkish) E-listelerde kullanılan üyelik şifreleri, merkezi kullanıcı kodları için kullanılan şifrelerden farklı olup, herhangi bir listeye üye olunduğunda Mailman yazılımı tarafından otomatik olarak tanımlanıp e-liste üyelerine gönderilen şifrelerdir. E-liste servisi kapsamında merkezi e-posta adresleri dışındaki e-posta adresleri ile de e-listelere üye olunabildiği için, e-liste arşivlerine ulaşımda merkezi kullanıcı şifreleri kullanılamamaktadır.\\']'"
      ]
     },
     "execution_count": 10,
     "metadata": {},
     "output_type": "execute_result"
    }
   ],
   "source": [
    "a"
   ]
  },
  {
   "cell_type": "code",
   "execution_count": 7,
   "metadata": {},
   "outputs": [],
   "source": [
    "_t = a.replace(\"\\\\n\", \"\\n\")"
   ]
  },
  {
   "cell_type": "code",
   "execution_count": null,
   "metadata": {},
   "outputs": [],
   "source": [
    "re.split(r'\\n{2}Entry \\d+\\n{2}', _t)[1:]"
   ]
  },
  {
   "cell_type": "code",
   "execution_count": null,
   "metadata": {},
   "outputs": [],
   "source": [
    "EvaluationDataset.from_pandas(df)"
   ]
  },
  {
   "cell_type": "code",
   "execution_count": null,
   "metadata": {},
   "outputs": [
    {
     "data": {
      "text/plain": [
       "dict_keys(['finish_reason', 'index', 'message', 'logprobs'])"
      ]
     },
     "execution_count": 8,
     "metadata": {},
     "output_type": "execute_result"
    }
   ],
   "source": [
    "a.choices[0].keys()"
   ]
  },
  {
   "cell_type": "code",
   "execution_count": 3,
   "metadata": {},
   "outputs": [
    {
     "name": "stdout",
     "output_type": "stream",
     "text": [
      "Certainly! Here's an article about Albert Einstein's life:  Albert Einstein: The Man Who Changed the Face of Science  It's been over a century since\n",
      "Albert Einstein first published his theory of relativity, yet his name remains synonymous with genius. Born in Ulm, Germany, in 1879, Einstein was a\n",
      "child prodigy who showed an early aptitude for math and physics.  As a young man, Einstein struggled to find his place in the world. He failed his\n",
      "university entrance exams and moved to Zurich to study engineering. It was there that he discovered his passion for science. After completing his\n",
      "degree, Einstein landed a job at the Patent Office in Bern, Switzerland.  It was during his time at the Patent Office that Einstein made his\n",
      "groundbreaking discovery - the theory of relativity. The concept, which challenged the traditional laws of physics, was met with controversy at first.\n",
      "But Einstein's observations and experiments provided irrefutable evidence for his theory.  Einstein's work on relativity earned him international\n",
      "recognition and a Nobel Prize in Physics in 1921. But his fame also brought danger. The rise of the Nazi party in Germany forced Einstein to leave\n",
      "Germany and move to Princeton, New Jersey, in 1933.  Einstein spent the rest of his life in the United States, continuing to make groundbreaking\n",
      "contributions to physics. He also became a prominent voice for social justice and human rights.  Beyond his scientific achievements, Einstein was a\n",
      "beloved figure. His playful personality and mischievous humor earned him a reputation as a changeling. He even appeared in a few Hollywood\n",
      "productions, including a cameo in Woody Allen's \"Annie Hall.\"  In 1955, Einstein died in Princeton at the age of 76. His ashes were scattered at an\n",
      "undisclosed location in the United States, a piece left behind in a projector as a final tribute to the man who changed the course of science and left\n",
      "an indelible mark on the world.  Today, Einstein's legacy continues to inspire the next generation of scientists and innovators. His insatiable\n",
      "curiosity and unconventional thinking drive ongoing research and advance the fields of physics and mathematics.  As we continue to explore the\n",
      "mysteries of the universe, exciting new discoveries lie ahead. Just as Albert Einstein's groundbreaking work transformed our understanding of the\n",
      "world around us, the next Einstein will change the way we see the future - and it may be among us already, waiting to be discovered.\n"
     ]
    }
   ],
   "source": [
    "import textwrap\n",
    "\n",
    "wrapped_text = textwrap.fill(a.choices[0].message.content, width=150)\n",
    "print(wrapped_text)\n"
   ]
  },
  {
   "cell_type": "code",
   "execution_count": null,
   "metadata": {},
   "outputs": [],
   "source": [
    "inference_client.chat_completion()\n"
   ]
  },
  {
   "cell_type": "code",
   "execution_count": 18,
   "metadata": {},
   "outputs": [
    {
     "ename": "TypeError",
     "evalue": "InferenceClient.__init__() got an unexpected keyword argument 'task'",
     "output_type": "error",
     "traceback": [
      "\u001b[0;31m---------------------------------------------------------------------------\u001b[0m",
      "\u001b[0;31mTypeError\u001b[0m                                 Traceback (most recent call last)",
      "Cell \u001b[0;32mIn[18], line 1\u001b[0m\n\u001b[0;32m----> 1\u001b[0m a \u001b[38;5;241m=\u001b[39m \u001b[43mInferenceClient\u001b[49m\u001b[43m(\u001b[49m\u001b[43mmodel\u001b[49m\u001b[38;5;241;43m=\u001b[39;49m\u001b[38;5;124;43m\"\u001b[39;49m\u001b[38;5;124;43mmeta-llama/Llama-3.2-3B-Instruct\u001b[39;49m\u001b[38;5;124;43m\"\u001b[39;49m\u001b[43m,\u001b[49m\u001b[43m \u001b[49m\u001b[43mtoken\u001b[49m\u001b[38;5;241;43m=\u001b[39;49m\u001b[43mtoken\u001b[49m\u001b[43m,\u001b[49m\u001b[43m \u001b[49m\u001b[43mtask\u001b[49m\u001b[38;5;241;43m=\u001b[39;49m\u001b[38;5;124;43m\"\u001b[39;49m\u001b[38;5;124;43mchat-completion\u001b[39;49m\u001b[38;5;124;43m\"\u001b[39;49m\u001b[43m)\u001b[49m\n",
      "\u001b[0;31mTypeError\u001b[0m: InferenceClient.__init__() got an unexpected keyword argument 'task'"
     ]
    }
   ],
   "source": [
    "a = InferenceClient(model=\"meta-llama/Llama-3.2-3B-Instruct\", token=token)."
   ]
  }
 ],
 "metadata": {
  "kernelspec": {
   "display_name": "DI502",
   "language": "python",
   "name": "python3"
  },
  "language_info": {
   "codemirror_mode": {
    "name": "ipython",
    "version": 3
   },
   "file_extension": ".py",
   "mimetype": "text/x-python",
   "name": "python",
   "nbconvert_exporter": "python",
   "pygments_lexer": "ipython3",
   "version": "3.10.4"
  }
 },
 "nbformat": 4,
 "nbformat_minor": 2
}
