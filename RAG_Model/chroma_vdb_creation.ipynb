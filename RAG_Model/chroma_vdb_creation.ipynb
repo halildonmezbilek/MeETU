{
 "cells": [
  {
   "cell_type": "code",
   "execution_count": 1,
   "metadata": {},
   "outputs": [
    {
     "name": "stderr",
     "output_type": "stream",
     "text": [
      "/home/halil/.pyenv/versions/DI502/lib/python3.10/site-packages/sentence_transformers/cross_encoder/CrossEncoder.py:13: TqdmExperimentalWarning: Using `tqdm.autonotebook.tqdm` in notebook mode. Use `tqdm.tqdm` instead to force console mode (e.g. in jupyter console)\n",
      "  from tqdm.autonotebook import tqdm, trange\n"
     ]
    },
    {
     "name": "stdout",
     "output_type": "stream",
     "text": [
      "1731507489458347591\n"
     ]
    }
   ],
   "source": [
    "import os\n",
    "import chromadb\n",
    "from chromadb.config import Settings\n",
    "from dotenv import load_dotenv\n",
    "from langchain_ollama import OllamaEmbeddings\n",
    "import pandas as pd\n",
    "from sentence_transformers import SentenceTransformer\n",
    "from langchain_huggingface import HuggingFaceEmbeddings\n",
    "\n",
    "\n",
    "load_dotenv()\n",
    "\n",
    "client = chromadb.HttpClient(\n",
    "    host=\"localhost\",\n",
    "    port=6854,\n",
    "    settings=Settings(\n",
    "        chroma_client_auth_provider=\"chromadb.auth.basic_authn.BasicAuthClientProvider\",\n",
    "        chroma_client_auth_credentials=os.getenv(\"CHROMA_CLIENT_AUTH_CREDENTIALS\"),\n",
    "    )\n",
    ")\n",
    "\n",
    "print(client.heartbeat())\n",
    "    \n",
    "embedding_model = HuggingFaceEmbeddings(model_name=\"all-MiniLM-L6-v2\")\n"
   ]
  },
  {
   "cell_type": "code",
   "execution_count": 2,
   "metadata": {},
   "outputs": [],
   "source": [
    "cet = client.get_collection(\"MeETUVectorDB_Chunks\")\n",
    "result = cet.query(query_texts=\"How can I connect wifi?\", n_results=4)"
   ]
  },
  {
   "cell_type": "code",
   "execution_count": 3,
   "metadata": {},
   "outputs": [
    {
     "data": {
      "text/plain": [
       "['Q: How can I connect to meturoam network? A: How can I connect to meturoam network? A device must support WPA2 Enterprise with PEAP/MSCHAPv2 in order to be able to connect to METU wireless network, meturoam. Please click here for a list of some popular devices that are known to NOT work on the meturoam wireless network. To connect to the meturoam wireless network, you need a METU usercode and a password for meturoam. If you have a password, please continue to HOW-TO section. If you didn\\'t create a password for meturoam or you want to renew your password, please visit https://netregister.metu.edu.tr and click Wireless icon, then click \"meturoam\" icon. In the meturoam menu, please provide a new password to be used only for this service with your user code. (In some Android and IOS devices, some special characters like #, \\', $ in the password may cause problems to connect to meturoam. If you can connect to meturoam via a computer but having problems with Android or IOS devices, please check your password for special characters and create a new password with other characters.)',\n",
       " 'Q: How to connect to eduroam? A: After you authenticate the certificate, you are connected to eduroam network. IMPORTANT: If you upgraded from previous versions of Windows 10, you need to uninstall any connection utilities like SecureW2, click \"forget eduroam\" and reconnect it with the above instructions. Linux Operating Systems: Description with pictures for Ubuntu distribution In Linux operating systems, the the help of the wpa_supplicant, it\\'s possible to connect to 802.1x wireless networks running on WPA or above. So to connect to eduroam, the wpa_supplicant application should be installed beforehand. This operation can be held with the apt-get install wpasupplicant command in debian based operating systems. In other Linux distributions, you can use you package manager to make the installation.',\n",
       " 'Q: How can I connect to eduroam wireless network using my Mac computer? A: How can I connect to eduroam wireless network using my Mac computer? You can connect to eduroam by downloading and executing the configuration file to your iOS device. Download configuration file for iOS devices. on User Account option, user_namemetu.edu.tr and password should be entered. Please follow the steps below if you would like to create the configuration file by using your MAC OSX device. To connect to the eduroam network, please install Apple Configurator from AppStore. Run the application and click Start Preparing Devices. Activate Supervision. (Turn ON) Click + at the bottom of the window and select Create New Profile in the menu. In the popup window, click Wifi and then configure. Type eduroam and select WPA/WPA2 Enterprise in the Security Type combo box. Select TTLS under Accepted EAP types heading. Type your METU user name and password. Then, select PAP in the Inner Authentication heading and click Save to save the profile. Click on the profile name and export it to your computer by clicking the + at the bottom of the window. Locate the exported profile and install it to your computer double clicking it.',\n",
       " 'Q: How to connect to eduroam? A: Linux Configuration To the folder /etc/wpa_supplicant or to where the installation took place, generate a file named wpa_supplicant.conf and configure the file as follows (use your own username and password) network={ ssid=\"eduroam\" key_mgmt=WPA-EAP pairwise=AES group=AES eap=TTLS phase2=\"auth=PAP\" anonymous_identity=\"anonymousmetu.edu.tr\" identity=\"user_namemetu.edu.tr\" password=\"your_password\" } Connect to the wireless network by entering the command edited according to your network adapter: wpa_supplicant -B -i eth2 -c /etc/wpa_supplicant/wpa_supplicant.conf -D wext (for use of wpa_supplicant refer to man wpa_supplicant and man wpa_supplicant.conf commands) To get the ip address automatically, enter the command dhclient eth2 For the configuration to automatically, in /etc/network/interfaces file, the line regarding the adapter should be changed with this one.']"
      ]
     },
     "execution_count": 3,
     "metadata": {},
     "output_type": "execute_result"
    }
   ],
   "source": [
    "[doc for sublist in result[\"documents\"] for doc in sublist]"
   ]
  },
  {
   "cell_type": "code",
   "execution_count": null,
   "metadata": {},
   "outputs": [],
   "source": [
    "# client.list_collections()\n",
    "# client.delete_collection(\"MeETUVectorDB\")\n",
    "# client.delete_collection(\"MeETUVectorDB_Chunks\")"
   ]
  },
  {
   "cell_type": "code",
   "execution_count": 3,
   "metadata": {},
   "outputs": [],
   "source": [
    "def load_and_preprocess(file_path, file_name):\n",
    "    df = pd.read_excel(file_path)\n",
    "    \n",
    "    if file_name == \"FAQs_eng.xlsx\":\n",
    "        df[\"text_content\"] = df[\"question\"] + \" \" + df[\"answer\"]\n",
    "        df[\"metadata\"] = df.apply(lambda row: {\n",
    "            \"type\": \"FAQ\",\n",
    "            \"question\": row.get(\"question\", \"\"),\n",
    "            \"answer\": row.get(\"answer\", \"\"),\n",
    "            \"link\": row.get(\"link\", \"\")\n",
    "        }, axis=1)\n",
    "        \n",
    "    elif file_name == \"How_will_you_register.xlsx\":\n",
    "        df[\"text_content\"] = df[\"question\"] + \" \" + df[\"answer\"]\n",
    "        df[\"metadata\"] = df.apply(lambda row: {\n",
    "            \"type\": \"Registration\",\n",
    "            \"question\": row.get(\"question\", \"\"),\n",
    "            \"answer\": row.get(\"answer\", \"\"),\n",
    "            \"link\": row.get(\"link\", \"\")\n",
    "        }, axis=1)\n",
    "    \n",
    "    elif file_name == \"REGISTRATION_PROCEDURES.xlsx\":\n",
    "        df[\"text_content\"] = df[\"Question\"] + \" \" + df[\"Answer\"]\n",
    "        df[\"metadata\"] = df.apply(lambda row: {\n",
    "            \"type\": \"Registration\",\n",
    "            \"question\": row.get(\"Question\", \"\"),\n",
    "            \"answer\": row.get(\"Answer\", \"\")\n",
    "        }, axis=1)\n",
    "        \n",
    "    elif file_name in [\"courses_eng.xlsx\", \"courses_eng_undergrad.xlsx\"]:\n",
    "        df[\"text_content\"] = df[\"course\"] + \" \" + df[\"course_content\"]\n",
    "        df[\"metadata\"] = df.apply(lambda row: {\n",
    "            \"type\": \"Course\",\n",
    "            \"course_title\": row.get(\"course\", \"\"),\n",
    "            \"department\": row.get(\"Department\", \"\"),\n",
    "            \"course_objective\": row.get(\"course_objective\", \"\"),\n",
    "            \"course_content\": row.get(\"course_content\", \"\"),\n",
    "            \"link\": row.get(\"link\", \"\"),\n",
    "            \"level\": \"undergrad\" if \"undergrad\" in file_name else \"general\"\n",
    "        }, axis=1)\n",
    "        \n",
    "    elif file_name == \"accomadation_eng.xlsx\":\n",
    "        df.columns = [\"facility\", \"location\"]\n",
    "        df[\"text_content\"] = df[\"facility\"] + \" \" + df[\"location\"]\n",
    "        df[\"metadata\"] = df.apply(lambda row: {\n",
    "            \"type\": \"Accommodation\",\n",
    "            \"facility\": row.get(\"facility\", \"\"),\n",
    "            \"location\": row.get(\"location\", \"\")\n",
    "        }, axis=1)\n",
    "        \n",
    "    elif file_name == \"extras.xlsx\":\n",
    "        df.columns = [\"category\", \"details\"]\n",
    "        df[\"text_content\"] = df[\"category\"] + \" \" + df[\"details\"]\n",
    "        df[\"metadata\"] = df.apply(lambda row: {\n",
    "            \"type\": \"Extras\",\n",
    "            \"category\": row.get(\"category\", \"\"),\n",
    "            \"details\": row.get(\"details\", \"\")\n",
    "        }, axis=1)\n",
    "        \n",
    "    elif file_name == \"sport_clubs.xlsx\":\n",
    "        df[\"text_content\"] = df[\"club_name\"] + \" \" + df[\"description\"]\n",
    "        df[\"metadata\"] = df.apply(lambda row: {\n",
    "            \"type\": \"Club\",\n",
    "            \"club_name\": row.get(\"club_name\", \"\"),\n",
    "            \"category\": \"sport\",\n",
    "            \"description\": row.get(\"description\", \"\")\n",
    "        }, axis=1)\n",
    "        \n",
    "    elif file_name == \"student_clubs_eng.xlsx\":\n",
    "        df[\"text_content\"] = df[\"Student Club\"] + \" \" + df[\"information\"]\n",
    "        df[\"metadata\"] = df.apply(lambda row: {\n",
    "            \"type\": \"Club\",\n",
    "            \"club_name\": row.get(\"Student Club\", \"\"),\n",
    "            \"category\": \"student\",\n",
    "            \"description\": row.get(\"information\", \"\")\n",
    "        }, axis=1)\n",
    "        \n",
    "    df[\"text_content\"] = df[\"text_content\"].str.replace(r\"\\s+\", \" \", regex=True).str.strip()\n",
    "    df.dropna(subset=[\"text_content\"], inplace=True)\n",
    "    \n",
    "    return df[[\"text_content\", \"metadata\"]].to_dict(orient=\"records\")\n",
    "\n",
    "\n",
    "data_dir = \"/home/halil/Desktop/MeETU/Data\"\n",
    "file_paths = {\n",
    "    \"FAQs_eng.xlsx\": f\"{data_dir}/FAQs_eng.xlsx\",\n",
    "    \"How_will_you_register.xlsx\": f\"{data_dir}/How_will_you_register.xlsx\",\n",
    "    \"REGISTRATION_PROCEDURES.xlsx\": f\"{data_dir}/REGISTRATION_PROCEDURES.xlsx\",\n",
    "    \"accomadation_eng.xlsx\": f\"{data_dir}/accomadation_eng.xlsx\",\n",
    "    \"courses_eng.xlsx\": f\"{data_dir}/courses_eng.xlsx\",\n",
    "    \"courses_eng_undergrad.xlsx\": f\"{data_dir}/courses_eng_undergrad.xlsx\",\n",
    "    \"extras.xlsx\": f\"{data_dir}/extras.xlsx\",\n",
    "    \"sport_clubs.xlsx\": f\"{data_dir}/sport_clubs.xlsx\",\n",
    "    \"student_clubs_eng.xlsx\": f\"{data_dir}/student_clubs_eng.xlsx\"\n",
    "}\n",
    "\n",
    "all_docs = []\n",
    "for file_name, path in file_paths.items():\n",
    "    docs = load_and_preprocess(path, file_name)\n",
    "    all_docs.extend(docs)"
   ]
  },
  {
   "cell_type": "code",
   "execution_count": 4,
   "metadata": {},
   "outputs": [],
   "source": [
    "import json\n",
    "with open(\"all_docs.json\", \"w\", encoding=\"utf-8\") as f:\n",
    "    json.dump(all_docs, f, ensure_ascii=False, indent=4)"
   ]
  },
  {
   "cell_type": "code",
   "execution_count": 7,
   "metadata": {},
   "outputs": [],
   "source": [
    "collection_name = \"MeETUVectorDB\"\n",
    "if collection_name not in client.list_collections():\n",
    "    client.create_collection(collection_name)\n",
    "collection = client.get_collection(collection_name)\n",
    "\n",
    "for i, doc in enumerate(all_docs):\n",
    "    text = doc[\"text_content\"]\n",
    "    metadata = doc[\"metadata\"]\n",
    "    \n",
    "    embedding = embedding_model.embed_query(text)\n",
    "    doc_id = f\"doc_{i}\"  # Generate a unique ID for each document\n",
    "    \n",
    "    collection.add(\n",
    "        documents=[text],\n",
    "        metadatas=[metadata],\n",
    "        embeddings=[embedding],\n",
    "        ids=[doc_id]\n",
    "    )\n"
   ]
  },
  {
   "cell_type": "code",
   "execution_count": 8,
   "metadata": {},
   "outputs": [
    {
     "data": {
      "text/plain": [
       "7757"
      ]
     },
     "execution_count": 8,
     "metadata": {},
     "output_type": "execute_result"
    }
   ],
   "source": [
    "collection.count()"
   ]
  },
  {
   "cell_type": "code",
   "execution_count": 9,
   "metadata": {},
   "outputs": [
    {
     "name": "stdout",
     "output_type": "stream",
     "text": [
      "How can I connect to eduroam wireless network using my Windows 10 computer? If you are using Windows 10, then you do not need to install a program. In the list of wireless networks, please select eduroam and use your usercode and password to connect. Do not forget to add @metu.edu.tr to the usercode (like username@metu.edu.tr)\n",
      "How can I connect to meturoam network? A device must support WPA2 Enterprise with PEAP/MSCHAPv2 in order to be able to connect to METU wireless network, meturoam. Please click here for a list of some popular devices that are known to NOT work on the meturoam wireless network. To connect to the meturoam wireless network, you need a METU usercode and a password for meturoam. If you have a password, please continue to HOW-TO section. If you didn't create a password for meturoam or you want to renew your password, please visit https://netregister.metu.edu.tr and click Wireless icon, then click \"meturoam\" icon. In the meturoam menu, please provide a new password to be used only for this service with your user code. (In some Android and IOS devices, some special characters like #, ', $ in the password may cause problems to connect to meturoam. If you can connect to meturoam via a computer but having problems with Android or IOS devices, please check your password for special characters and create a new password with other characters.) Connecting to meturoam After you set your new password, please connect to meturoam SSID from your wireless device. You can use this password with every device you own, you do not have to set passwords for each device. Be sure to set the protocols as PEAP and MSCHAPv2. Use your METU usercode and password for the meturoam service. (Please make sure you use your usercode like e123456metu.edu.tr, not your email aliases in the form of name.surnamemetu.edu.tr) In Windows 10, protocol settings are done automatically. You do not need to set the protocols. For Linux operating systems or Windows 7 and below, you may also need to select WPA2-Enterprise and AES. In mobile devices, if you use the autocomplete function in your keyboard, a blank space may be added to your usercode. Pay attention to last character in your usercode. It should not be a blank space. If you are asked for a certificate, you may select \"Do not validate\" and skip it. (For some Android devices, certificate field might be compulsory. You can select \"Use System Certificate\" and type border.metu.edu.tr netlogin.metu.edu.tr) If you are asked for anonymous identity, you may type anonymous@metu.edu.tr. For Raspberry pi devices, add the following conf to wpa_supplicant.conf file.network={ssid=\"meturoam\"key_mgmt=WPA-EAPpairwise=CCMPeap=PEAPidentity=\"< username >\"anonymous_identity=\"anonymous@metu.edu.tr\"password=\"< password >\"} Then restart wpa_supplicant. Actual filenames and paths may vary.killall wpa_supplicantwpa_supplicant -B -Dwext -i wlan0 -c /etc/wpa_supplicant/wpa_supplicant.conf -f /var/log/wpa_supplicant.log If you forgot your password, you can set a new one in order to use the wireless network. Those users who do not prefer to create a meturoam password can also connect to eduroam. !!! Wireless network connection problems are observed in some of Android devices using Android 6 and prior versions. Occasionally these devices display there is an established wireless connection on the screen but when you try to connect to the Internet, they fail. This problem is originated from a bug in the operating system. The bug cause Android devices to continue to use DHCP-leased IP addresses after the leases expire, and cause Android devices to resume using IP addresses from expired DHCP leases. When you face the the same problem please disable your Wi-Fi connection and enable it again.\n",
      "A guest account created for me. How can I connect meturoam wireless network? A device must support WPA2 Enterprise with PEAP/MSCHAPv2 in order to be able to connect to METU wireless network, meturoam. Please click here for a list of some popular devices that are known to NOT work on the meturoam wireless network. Connecting to meturoam After a guest account created for you, please connect to meturoam SSID from your wireless device. You can use this password with every device you own, you do not have to set passwords for each device. Be sure to set the protocols as PEAP and MSCHAPv2. Use your username and password sent via e-mail by the guest account creator for the meturoam service. In Windows 10, protocol settings are done automatically. You do not need to set the protocols. For Linux operating systems or Windows 7 and below, you may also need to select WPA2-Enterprise and AES. In mobile devices, if you use the autocomplete function in your keyboard, a blank space may be added to your username. Pay attention to last character in your username. It should not be a blank space. If you are asked for a certificate, you may skip it. (For some Android devices, certificate field might be compulsory. You can select \"Use System Certificate\" and type border.metu.edu.tr netlogin.metu.edu.tr) If you are asked for anonymous identity, you may type anonymous@metu.edu.tr. !!! Wireless network connection problems are observed in some of Android devices using Android 6 and prior versions. Occasionally these devices display there is an established wireless connection on the screen but when you try to connect to the Internet, they fail. This problem is originated from a bug in the operating system. The bug cause Android devices to continue to use DHCP-leased IP addresses after the leases expire, and cause Android devices to resume using IP addresses from expired DHCP leases. When you face the the same problem please disable your Wi-Fi connection and enable it again.\n",
      "How can I access to The Resources of METU Library from outside of METU? Important Notice !!! Library Webcache Service was ended on 5th of August 2014. In order to access the Library Electronic Recources from outside of METU Campus please use the other services which explained in this link below:http://lib.metu.edu.tr/remote-access\n",
      "How to managed METU Departments/Units Wired Network? For more information about METU Departments/Units Wired Network please click here.\n",
      "I cannot make remote desktop connection, what should I do? If you are having trouble setting up a remote desktop connection, it may be possible for two reasons. a) The port number used for the connection should be changed b) There is a problem with the remote desktop connection settings or the username a) The port number used for the connection should be changed Some security measures has been taken about the port 3389 which is used for remote desktop connection to METU campus. Port 3389 keeps closed two-way (campus in and out) because of security reasons. In order to connect to your computer at METU from outside the campus using remote desktop connection, you should change the remote desktop port number for both of the computers. There are two ways to do so: Select Start > Run > regedit. On \"Registry Editor\" select HKEY_LOCAL_MACHINE \\ System \\ CurrentControlSet \\ Control \\ TerminalServer \\ WinStations \\ RDP-Tcp and change the \"PortNumber\" with any unused port number between 1025 and 65535. Then, you should give permission to this port number on Windows Firewall. For Windows 7, select Control Panel > System and Security > Windows Firewall > Advanced Settings. For Windows 10, select Start > Windows Administrative Tools > Windows Defender Firewall with Advanced Security. From the menu on the left side, select Outbound Rules on the computer you are using remote desktop connection, Inbound Rules on the computer you are going to connect remotely. Then click New Rule on the right. If you are going to use both computers to be connected remotely, you should create both inbound and outbound rules on both computers. On \"New Outbound Rule Wizard\", select Port as the rule type and click Next. On the next screen choose the protocol as TCP and write down the port number you have defined. Then, select Allow the connection and click Next. Finally, specify a name for the rule and click Finish If you are using a firewall software other than Windows Firewall, you should give permissions to the port number on that software. To activate the settings restart the computers. For using remote desktop connection, write down the computer name as IP:port number. b) There is a problem with the remote desktop connection settings or the username The username that should be entered for the remote desktop connection may not be the same as the username when computer is turned on. If you are having trouble making a remote desktop connection to your computer, it is necessary to check that the username. To do this, the you should start the Task Manager (press \"Ctrl + Alt + Delete\" and choose \"Start Task Manager\" or press right click on the taskbar and choose \"Start Task Manager\") and check the username on the \"Users\" tab. By establishing a remote connection you should use this username. If there is a version difference with the remote desktop connection provided between the two computers (eg, trying to connect a Windows 7 computer from a Windows XP computer), you should choose \"Allow connections from computers running any version of Remote Desktop (less secure)\" from the remote desktop connection settings. You could access these settings from \"Remote\" tab in the \"System Properties\".\n",
      "I forgot meturoam password, what can I do? Please set a new password, following the instruction on https://faq.cc.metu.edu.tr/faq/meturoam\n",
      "I get a certificate warning when connecting to the wireless meturoam network with my device. What should I do? When connecting to the meturoam wireless network, you may receive a certificate warning due to the operating system on your device and the antivirus software you use, if any. You can check the information on the alert screen and click Connect if the information is the same as the \"Fingerprint\" below: Radius Server: border.metu.edu.tr SHA-256 Fingerprint 52 FD 75 C8 9D 32 57 61 30 77 88 BA 9B 01 E0 6F F5 4C 1F 19 08 10 E5 F5 D4 F7 87 2E E4 6D A4 7A SHA-1 Fingerprint 5A 12 B5 A2 5E 20 D1 BC 73 74 2E 0E 35 60 B5 76 3D DB 14 A7\n",
      "Is there a Domain Name Service in METU? For more information about METU Domain Name Service please click here.\n",
      "Is there a FTP Service of METU CC? For more information about FTP Service of METU CC please click here.\n"
     ]
    }
   ],
   "source": [
    "for i in range(10):\n",
    "    print(collection.get(ids=f\"doc_{i}\")[\"documents\"][0])"
   ]
  },
  {
   "cell_type": "code",
   "execution_count": 10,
   "metadata": {},
   "outputs": [
    {
     "name": "stderr",
     "output_type": "stream",
     "text": [
      "Token indices sequence length is longer than the specified maximum sequence length for this model (875 > 512). Running this sequence through the model will result in indexing errors\n"
     ]
    },
    {
     "name": "stdout",
     "output_type": "stream",
     "text": [
      "Maximum token size: 3649\n"
     ]
    },
    {
     "data": {
      "image/png": "[encoded data removed]",
      "text/plain": [
       "<Figure size 640x480 with 1 Axes>"
      ]
     },
     "metadata": {},
     "output_type": "display_data"
    }
   ],
   "source": [
    "from transformers import AutoTokenizer\n",
    "import matplotlib.pyplot as plt\n",
    "\n",
    "tokenizer = AutoTokenizer.from_pretrained(\"bert-base-uncased\")\n",
    "\n",
    "token_sizes = []\n",
    "\n",
    "for i in range(collection.count()):\n",
    "    doc_text = collection.get(ids=[f\"doc_{i}\"])[\"documents\"][0]\n",
    "    \n",
    "    tokens = tokenizer(doc_text, truncation=False, add_special_tokens=False)[\"input_ids\"]\n",
    "    token_size = len(tokens)\n",
    "    token_sizes.append(token_size)\n",
    "\n",
    "max_token_size = max(token_sizes)\n",
    "print(\"Maximum token size:\", max_token_size)\n",
    "\n",
    "plt.hist(token_sizes, bins=100, edgecolor=\"black\")\n",
    "plt.xlabel(\"Token Size\")\n",
    "plt.ylabel(\"Frequency\")\n",
    "plt.title(\"Histogram of Token Sizes\")\n",
    "plt.show()\n"
   ]
  },
  {
   "cell_type": "code",
   "execution_count": 11,
   "metadata": {},
   "outputs": [
    {
     "name": "stderr",
     "output_type": "stream",
     "text": [
      "[nltk_data] Downloading package punkt to /home/halil/nltk_data...\n",
      "[nltk_data]   Package punkt is already up-to-date!\n"
     ]
    }
   ],
   "source": [
    "from transformers import AutoTokenizer\n",
    "import json\n",
    "import nltk\n",
    "from nltk.tokenize import sent_tokenize\n",
    "\n",
    "nltk.download('punkt')\n",
    "\n",
    "with open(\"all_docs.json\", \"r\", encoding=\"utf-8\") as f:\n",
    "    all_docs = json.load(f)\n",
    "\n",
    "tokenizer = AutoTokenizer.from_pretrained(\"bert-base-uncased\")\n",
    "\n",
    "chunk_size = 250  # Target chunk size\n",
    "min_chunk_size = 150  # Minimum tokens in a chunk\n",
    "\n",
    "chunked_collection_name = \"MeETUVectorDB_Chunks\"\n",
    "if chunked_collection_name not in client.list_collections():\n",
    "    client.create_collection(chunked_collection_name)\n",
    "chunked_collection = client.get_collection(chunked_collection_name)\n",
    "\n",
    "def count_tokens(text):\n",
    "    return len(tokenizer.encode(text, add_special_tokens=False))\n",
    "\n",
    "for i, doc in enumerate(all_docs):\n",
    "    doc_id = f\"doc_{i}\"\n",
    "\n",
    "    _question = doc[\"metadata\"].get(\"question\", \"No question provided\")\n",
    "    _text_content = doc.get(\"text_content\", \"No content provided\")\n",
    "    sentences = sent_tokenize(_text_content)\n",
    "\n",
    "    chunks = []\n",
    "    current_chunk = []\n",
    "    current_chunk_tokens = 0\n",
    "\n",
    "    for sentence in sentences:\n",
    "        sentence_tokens = count_tokens(sentence)\n",
    "\n",
    "        if current_chunk_tokens + sentence_tokens > chunk_size and current_chunk_tokens >= min_chunk_size:\n",
    "            chunks.append(\" \".join(current_chunk))\n",
    "            current_chunk = []\n",
    "            current_chunk_tokens = 0\n",
    "\n",
    "        current_chunk.append(sentence)\n",
    "        current_chunk_tokens += sentence_tokens\n",
    "\n",
    "    if current_chunk:\n",
    "        chunks.append(\" \".join(current_chunk))\n",
    "\n",
    "    for chunk_num, chunk_text in enumerate(chunks, start=1):\n",
    "        chunk_id = f\"{doc_id}_{chunk_num}\"\n",
    "        \n",
    "        chunk_with_question = f\"Q: {_question} A: {chunk_text}\"\n",
    "        \n",
    "        metadata = {**doc[\"metadata\"], \"original_doc_id\": doc_id}\n",
    "        \n",
    "        chunked_collection.add(\n",
    "            documents=[chunk_with_question],\n",
    "            metadatas=[metadata],\n",
    "            embeddings=[embedding_model.embed_query(chunk_with_question)],\n",
    "            ids=[chunk_id]\n",
    "        )\n"
   ]
  },
  {
   "cell_type": "code",
   "execution_count": 12,
   "metadata": {},
   "outputs": [
    {
     "name": "stdout",
     "output_type": "stream",
     "text": [
      "Maximum token size: 448\n"
     ]
    },
    {
     "data": {
      "image/png": "[encoded data removed]",
      "text/plain": [
       "<Figure size 640x480 with 1 Axes>"
      ]
     },
     "metadata": {},
     "output_type": "display_data"
    }
   ],
   "source": [
    "from transformers import AutoTokenizer\n",
    "import matplotlib.pyplot as plt\n",
    "\n",
    "tokenizer = AutoTokenizer.from_pretrained(\"bert-base-uncased\")\n",
    "all_doc_ids = chunked_collection.get(ids=None)[\"ids\"]  # Retrieve all IDs\n",
    "token_sizes = []\n",
    "\n",
    "for doc_id in all_doc_ids:\n",
    "    doc_text = chunked_collection.get(ids=[doc_id])[\"documents\"][0]\n",
    "    \n",
    "    tokens = tokenizer(doc_text, truncation=False, add_special_tokens=False)[\"input_ids\"]\n",
    "    token_size = len(tokens)\n",
    "    token_sizes.append(token_size)\n",
    "\n",
    "max_token_size = max(token_sizes)\n",
    "print(\"Maximum token size:\", max_token_size)\n",
    "\n",
    "plt.hist(token_sizes, bins=100, edgecolor=\"black\")\n",
    "plt.xlabel(\"Token Size\")\n",
    "plt.ylabel(\"Frequency\")\n",
    "plt.title(\"Histogram of Token Sizes\")\n",
    "plt.show()\n"
   ]
  },
  {
   "cell_type": "code",
   "execution_count": null,
   "metadata": {},
   "outputs": [],
   "source": []
  }
 ],
 "metadata": {
  "kernelspec": {
   "display_name": "DI502",
   "language": "python",
   "name": "python3"
  },
  "language_info": {
   "codemirror_mode": {
    "name": "ipython",
    "version": 3
   },
   "file_extension": ".py",
   "mimetype": "text/x-python",
   "name": "python",
   "nbconvert_exporter": "python",
   "pygments_lexer": "ipython3",
   "version": "3.10.4"
  }
 },
 "nbformat": 4,
 "nbformat_minor": 2
}
