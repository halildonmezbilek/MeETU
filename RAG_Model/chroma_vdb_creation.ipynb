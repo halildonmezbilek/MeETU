{
 "cells": [
  {
   "cell_type": "code",
   "execution_count": 1,
   "metadata": {},
   "outputs": [
    {
     "name": "stderr",
     "output_type": "stream",
     "text": [
      "/home/halil/.pyenv/versions/DI502/lib/python3.10/site-packages/sentence_transformers/cross_encoder/CrossEncoder.py:13: TqdmWarning: IProgress not found. Please update jupyter and ipywidgets. See https://ipywidgets.readthedocs.io/en/stable/user_install.html\n",
      "  from tqdm.autonotebook import tqdm, trange\n"
     ]
    },
    {
     "data": {
      "text/plain": [
       "1730827997743812809"
      ]
     },
     "execution_count": 1,
     "metadata": {},
     "output_type": "execute_result"
    }
   ],
   "source": [
    "import os\n",
    "import chromadb\n",
    "from chromadb.config import Settings\n",
    "from dotenv import load_dotenv\n",
    "from sentence_transformers import SentenceTransformer\n",
    "\n",
    "\n",
    "load_dotenv()\n",
    "\n",
    "client = chromadb.HttpClient(\n",
    "    host=\"localhost\",\n",
    "    port=6854,\n",
    "    settings=Settings(\n",
    "        chroma_client_auth_provider=\"chromadb.auth.basic_authn.BasicAuthClientProvider\",\n",
    "        chroma_client_auth_credentials=os.getenv(\"CHROMA_CLIENT_AUTH_CREDENTIALS\")\n",
    "    )\n",
    ")\n",
    "\n",
    "client.heartbeat()\n"
   ]
  },
  {
   "cell_type": "code",
   "execution_count": 2,
   "metadata": {},
   "outputs": [
    {
     "data": {
      "text/html": [
       "<div>\n",
       "<style scoped>\n",
       "    .dataframe tbody tr th:only-of-type {\n",
       "        vertical-align: middle;\n",
       "    }\n",
       "\n",
       "    .dataframe tbody tr th {\n",
       "        vertical-align: top;\n",
       "    }\n",
       "\n",
       "    .dataframe thead th {\n",
       "        text-align: right;\n",
       "    }\n",
       "</style>\n",
       "<table border=\"1\" class=\"dataframe\">\n",
       "  <thead>\n",
       "    <tr style=\"text-align: right;\">\n",
       "      <th></th>\n",
       "      <th>link</th>\n",
       "      <th>question</th>\n",
       "      <th>embeddings</th>\n",
       "      <th>combined_text</th>\n",
       "    </tr>\n",
       "  </thead>\n",
       "  <tbody>\n",
       "    <tr>\n",
       "      <th>0</th>\n",
       "      <td>https://faq.cc.metu.edu.tr/faq/how-can-i-conne...</td>\n",
       "      <td>How can I connect to eduroam wireless network ...</td>\n",
       "      <td>[-0.08665929, -0.019397035, -0.01732739, -0.01...</td>\n",
       "      <td>How can I connect to eduroam wireless network ...</td>\n",
       "    </tr>\n",
       "    <tr>\n",
       "      <th>1</th>\n",
       "      <td>https://faq.cc.metu.edu.tr/faq/meturoam</td>\n",
       "      <td>How can I connect to meturoam network?</td>\n",
       "      <td>[-0.07703145, -0.07036505, 0.0060302727, -0.02...</td>\n",
       "      <td>How can I connect to meturoam network? \\n\\nA d...</td>\n",
       "    </tr>\n",
       "    <tr>\n",
       "      <th>2</th>\n",
       "      <td>https://faq.cc.metu.edu.tr/faq/guest-account-c...</td>\n",
       "      <td>A guest account created for me. How can I conn...</td>\n",
       "      <td>[-0.07025432, 0.000523283, -0.022801565, -0.03...</td>\n",
       "      <td>A guest account created for me. How can I conn...</td>\n",
       "    </tr>\n",
       "    <tr>\n",
       "      <th>3</th>\n",
       "      <td>https://faq.cc.metu.edu.tr/faq/how-can-i-acces...</td>\n",
       "      <td>How can I access to The Resources of METU Libr...</td>\n",
       "      <td>[-0.015727324, -0.06908474, -0.073817015, -0.0...</td>\n",
       "      <td>How can I access to The Resources of METU Libr...</td>\n",
       "    </tr>\n",
       "    <tr>\n",
       "      <th>4</th>\n",
       "      <td>https://faq.cc.metu.edu.tr/faq/how-managed-met...</td>\n",
       "      <td>How to managed METU Departments/Units Wired Ne...</td>\n",
       "      <td>[0.018322488, -0.08207159, -0.005806347, 0.035...</td>\n",
       "      <td>How to managed METU Departments/Units Wired Ne...</td>\n",
       "    </tr>\n",
       "  </tbody>\n",
       "</table>\n",
       "</div>"
      ],
      "text/plain": [
       "                                                link  \\\n",
       "0  https://faq.cc.metu.edu.tr/faq/how-can-i-conne...   \n",
       "1            https://faq.cc.metu.edu.tr/faq/meturoam   \n",
       "2  https://faq.cc.metu.edu.tr/faq/guest-account-c...   \n",
       "3  https://faq.cc.metu.edu.tr/faq/how-can-i-acces...   \n",
       "4  https://faq.cc.metu.edu.tr/faq/how-managed-met...   \n",
       "\n",
       "                                            question  \\\n",
       "0  How can I connect to eduroam wireless network ...   \n",
       "1             How can I connect to meturoam network?   \n",
       "2  A guest account created for me. How can I conn...   \n",
       "3  How can I access to The Resources of METU Libr...   \n",
       "4  How to managed METU Departments/Units Wired Ne...   \n",
       "\n",
       "                                          embeddings  \\\n",
       "0  [-0.08665929, -0.019397035, -0.01732739, -0.01...   \n",
       "1  [-0.07703145, -0.07036505, 0.0060302727, -0.02...   \n",
       "2  [-0.07025432, 0.000523283, -0.022801565, -0.03...   \n",
       "3  [-0.015727324, -0.06908474, -0.073817015, -0.0...   \n",
       "4  [0.018322488, -0.08207159, -0.005806347, 0.035...   \n",
       "\n",
       "                                       combined_text  \n",
       "0  How can I connect to eduroam wireless network ...  \n",
       "1  How can I connect to meturoam network? \\n\\nA d...  \n",
       "2  A guest account created for me. How can I conn...  \n",
       "3  How can I access to The Resources of METU Libr...  \n",
       "4  How to managed METU Departments/Units Wired Ne...  "
      ]
     },
     "execution_count": 2,
     "metadata": {},
     "output_type": "execute_result"
    }
   ],
   "source": [
    "from sentence_transformers import SentenceTransformer\n",
    "import pandas as pd\n",
    "\n",
    "file_path = '/home/halil/Desktop/MeETU/Data/FAQs_eng.xlsx'\n",
    "excel_data = pd.read_excel(file_path)\n",
    "\n",
    "embedding_model = SentenceTransformer('all-MiniLM-L6-v2')\n",
    "excel_data['combined_text'] = excel_data['question'] + \" \" + excel_data['answer']\n",
    "excel_data['embeddings'] = excel_data['combined_text'].apply(lambda x: embedding_model.encode(x))\n",
    "excel_data[['link', 'question', 'embeddings','combined_text']].head()"
   ]
  },
  {
   "cell_type": "code",
   "execution_count": 6,
   "metadata": {},
   "outputs": [],
   "source": [
    "collection = client.get_or_create_collection(name=\"faq_embeddings\")\n",
    "for index, row in excel_data.iterrows():\n",
    "    collection.add(\n",
    "        embeddings=[row['embeddings']],\n",
    "        ids=[str(index)],\n",
    "        documents=[row['combined_text']],  # Store the combined question-answer text or other content\n",
    "        metadatas=[{\n",
    "            \"link\": row['link'],\n",
    "            \"question\": row['question']\n",
    "        }]\n",
    "    )"
   ]
  },
  {
   "cell_type": "code",
   "execution_count": 7,
   "metadata": {},
   "outputs": [],
   "source": [
    "collection = client.get_collection(name=\"faq_embeddings\")"
   ]
  },
  {
   "cell_type": "code",
   "execution_count": 67,
   "metadata": {},
   "outputs": [],
   "source": [
    "embedding_model = SentenceTransformer('all-MiniLM-L6-v2')\n",
    "test_question = \"How can I connect the Wifi in METU\"\n",
    "query_embedding = embedding_model.encode(test_question)\n",
    "\n",
    "results = collection.query(\n",
    "    query_embeddings=[query_embedding],\n",
    "    n_results=3\n",
    ")"
   ]
  },
  {
   "cell_type": "code",
   "execution_count": 68,
   "metadata": {},
   "outputs": [
    {
     "data": {
      "text/plain": [
       "[['1', '65', '62']]"
      ]
     },
     "execution_count": 68,
     "metadata": {},
     "output_type": "execute_result"
    }
   ],
   "source": [
    "results[\"ids\"]"
   ]
  },
  {
   "cell_type": "code",
   "execution_count": 79,
   "metadata": {},
   "outputs": [
    {
     "name": "stdout",
     "output_type": "stream",
     "text": [
      "metuconnect \n",
      "\n",
      "If you do not have a password for meturoam and do not have access to METU wireless network, then you can connect to metuconnect SSID in order to connect to meturoam. After connecting to metuconnect, please login to https://netregister.metu.edu.tr and follow the instructions to create a new meturoam password. Users who already have meturoam passwords do not need to connect to metuconnect.\n",
      "There are access restrictions in the metuconnect network.\n",
      "\n",
      "\n"
     ]
    }
   ],
   "source": [
    "print(collection.get(ids=\"65\")[\"documents\"][0])"
   ]
  },
  {
   "cell_type": "code",
   "execution_count": 96,
   "metadata": {},
   "outputs": [
    {
     "name": "stdout",
     "output_type": "stream",
     "text": [
      "{'link': 'https://faq.cc.metu.edu.tr/faq/meturoam', 'question': 'How can I connect to meturoam network?'}\n",
      "{'link': 'https://faq.cc.metu.edu.tr/faq/metuconnect', 'question': 'metuconnect'}\n",
      "{'link': 'https://faq.cc.metu.edu.tr/faq/how-metu-wireless-network-managed', 'question': 'How is METU Wireless Network managed?'}\n"
     ]
    }
   ],
   "source": [
    "documents = []\n",
    "for i in range(len(results['metadatas'][0])):\n",
    "    #print(results['ids'][0][i] if 'ids' in results and results['ids'][0] else None)\n",
    "    #print(results['metadatas'][0][i][0] if results['metadatas'][i] else {})\n",
    "    print(results['metadatas'][0][i])"
   ]
  },
  {
   "cell_type": "code",
   "execution_count": 94,
   "metadata": {},
   "outputs": [
    {
     "data": {
      "text/plain": [
       "[[{'link': 'https://faq.cc.metu.edu.tr/faq/meturoam',\n",
       "   'question': 'How can I connect to meturoam network?'},\n",
       "  {'link': 'https://faq.cc.metu.edu.tr/faq/metuconnect',\n",
       "   'question': 'metuconnect'},\n",
       "  {'link': 'https://faq.cc.metu.edu.tr/faq/how-metu-wireless-network-managed',\n",
       "   'question': 'How is METU Wireless Network managed?'}]]"
      ]
     },
     "execution_count": 94,
     "metadata": {},
     "output_type": "execute_result"
    }
   ],
   "source": [
    "results['metadatas']"
   ]
  },
  {
   "cell_type": "code",
   "execution_count": 83,
   "metadata": {},
   "outputs": [
    {
     "data": {
      "text/plain": [
       "3"
      ]
     },
     "execution_count": 83,
     "metadata": {},
     "output_type": "execute_result"
    }
   ],
   "source": [
    "len(results['metadatas'][0])"
   ]
  },
  {
   "cell_type": "code",
   "execution_count": 72,
   "metadata": {},
   "outputs": [
    {
     "name": "stdout",
     "output_type": "stream",
     "text": [
      "How can I connect to meturoam network? \n",
      "\n",
      "A device must support WPA2 Enterprise with PEAP/MSCHAPv2 in order to be able to connect to METU wireless network, meturoam. Please click here for a list of some popular devices that are known to NOT work on the meturoam wireless network.\n",
      "To connect to the meturoam wireless network, you need a METU usercode and a password for meturoam. If you have a password, please continue to HOW-TO  section.\n",
      "If you didn't create a password for meturoam or you want to renew your password, please visit https://netregister.metu.edu.tr and click Wireless icon, then click \"meturoam\" icon.\n",
      "\n",
      "In the meturoam menu, please provide a new password to be used only for this service with your user code. (In some Android and IOS devices, some special characters like #, ', $ in the password may cause problems to connect to meturoam. If you can connect to meturoam via a computer but having problems with Android or IOS devices, please check your password for special characters and create a new password with other characters.)\n",
      "\n",
      " \n",
      "Connecting to meturoam\n",
      "After you set your new password, please connect to meturoam SSID from your wireless device. You can use this password with every device you own, you do not have to set passwords for each device.\n",
      "Be sure to set the protocols as PEAP and MSCHAPv2. \n",
      "Use your METU usercode and password for the meturoam service. (Please make sure you use your usercode like e123456metu.edu.tr, not your email aliases in the form of name.surnamemetu.edu.tr)\n",
      "In Windows 10, protocol settings are done automatically. You do not need to set the protocols. For Linux operating systems or Windows 7 and below, you may also need to select WPA2-Enterprise and AES.\n",
      "In mobile devices, if you use the autocomplete function in your keyboard, a blank space may be added to your usercode. Pay attention to last character in your usercode. It should not be a blank space.\n",
      "If you are asked for a certificate, you may select \"Do not validate\" and skip it. (For some Android devices, certificate field might be compulsory. You can select \"Use System Certificate\" and type border.metu.edu.tr netlogin.metu.edu.tr)\n",
      "If you are asked for anonymous identity, you may type anonymous@metu.edu.tr.\n",
      "\n",
      "For Raspberry pi devices, add the following conf to wpa_supplicant.conf file.network={ssid=\"meturoam\"key_mgmt=WPA-EAPpairwise=CCMPeap=PEAPidentity=\"< username >\"anonymous_identity=\"anonymous@metu.edu.tr\"password=\"< password >\"}\n",
      "Then restart wpa_supplicant. Actual filenames and paths may vary.killall wpa_supplicantwpa_supplicant -B -Dwext -i wlan0 -c /etc/wpa_supplicant/wpa_supplicant.conf -f /var/log/wpa_supplicant.log\n",
      "\n",
      " \n",
      "\n",
      " If you forgot your password, you can set a new one in order to use the wireless network.\n",
      "Those users who do not prefer to create a meturoam password can also connect to eduroam.\n",
      "!!! Wireless network connection problems are observed in some of Android devices using Android 6 and prior versions. Occasionally these devices display there is an established wireless connection on the screen but when you try to connect to the Internet, they fail. This problem is originated from a bug in the operating system. The bug cause Android devices to continue to use DHCP-leased IP addresses after the leases expire, and cause Android devices to resume using IP addresses from expired DHCP leases. When you face the the same problem please disable your Wi-Fi connection and enable it again.\n",
      "\n",
      "\n"
     ]
    }
   ],
   "source": [
    "print(documents[0][\"content\"])"
   ]
  },
  {
   "cell_type": "code",
   "execution_count": 100,
   "metadata": {},
   "outputs": [],
   "source": [
    "class ChromaDBRetriever:\n",
    "    def __init__(self, chroma_collection, embedding_model):\n",
    "        self.collection = chroma_collection\n",
    "        self.embedding_model = embedding_model\n",
    "\n",
    "    def get_relevant_documents(self, query_text):\n",
    "        query_embedding = self.embedding_model.encode(query_text)\n",
    "        results = self.collection.query(\n",
    "            query_embeddings=[query_embedding],\n",
    "            n_results=1\n",
    "        )\n",
    "        documents = []\n",
    "        for i in range(len(results['metadatas'][0])):\n",
    "            doc_id = results['ids'][0][i] if 'ids' in results and results['ids'][0] else None\n",
    "            metadata = results['metadatas'][0][i] if results['metadatas'][0][i] else {}\n",
    "            document_content = results['documents'][0][i] if 'documents' in results and results['documents'][0] else 'No content available'\n",
    "            \n",
    "            documents.append({\n",
    "                'id': doc_id,\n",
    "                'content': document_content,\n",
    "                'metadata': metadata\n",
    "            })\n",
    "            \n",
    "        return documents\n",
    "\n",
    "    \n",
    "embedding_model = SentenceTransformer('all-MiniLM-L6-v2')\n",
    "retriever = ChromaDBRetriever(collection, embedding_model)\n",
    "\n",
    "query_results = retriever.get_relevant_documents(\"How can I connect the Wifi?\")\n",
    "if query_results and 'id' in query_results[0]:\n",
    "    top_doc_id = query_results[0]['id']\n",
    "else:\n",
    "    top_doc_id = None\n"
   ]
  },
  {
   "cell_type": "code",
   "execution_count": 101,
   "metadata": {},
   "outputs": [],
   "source": [
    "relevant_docs = retriever.get_relevant_documents(\"How can I connect the Wifi?\")\n",
    "context = \" \".join([doc['content'] for doc in relevant_docs])"
   ]
  },
  {
   "cell_type": "code",
   "execution_count": 103,
   "metadata": {},
   "outputs": [
    {
     "data": {
      "text/plain": [
       "'1'"
      ]
     },
     "execution_count": 103,
     "metadata": {},
     "output_type": "execute_result"
    }
   ],
   "source": [
    "top_doc_id"
   ]
  },
  {
   "cell_type": "code",
   "execution_count": 102,
   "metadata": {},
   "outputs": [
    {
     "name": "stdout",
     "output_type": "stream",
     "text": [
      "How can I connect to meturoam network? \n",
      "\n",
      "A device must support WPA2 Enterprise with PEAP/MSCHAPv2 in order to be able to connect to METU wireless network, meturoam. Please click here for a list of some popular devices that are known to NOT work on the meturoam wireless network.\n",
      "To connect to the meturoam wireless network, you need a METU usercode and a password for meturoam. If you have a password, please continue to HOW-TO  section.\n",
      "If you didn't create a password for meturoam or you want to renew your password, please visit https://netregister.metu.edu.tr and click Wireless icon, then click \"meturoam\" icon.\n",
      "\n",
      "In the meturoam menu, please provide a new password to be used only for this service with your user code. (In some Android and IOS devices, some special characters like #, ', $ in the password may cause problems to connect to meturoam. If you can connect to meturoam via a computer but having problems with Android or IOS devices, please check your password for special characters and create a new password with other characters.)\n",
      "\n",
      " \n",
      "Connecting to meturoam\n",
      "After you set your new password, please connect to meturoam SSID from your wireless device. You can use this password with every device you own, you do not have to set passwords for each device.\n",
      "Be sure to set the protocols as PEAP and MSCHAPv2. \n",
      "Use your METU usercode and password for the meturoam service. (Please make sure you use your usercode like e123456metu.edu.tr, not your email aliases in the form of name.surnamemetu.edu.tr)\n",
      "In Windows 10, protocol settings are done automatically. You do not need to set the protocols. For Linux operating systems or Windows 7 and below, you may also need to select WPA2-Enterprise and AES.\n",
      "In mobile devices, if you use the autocomplete function in your keyboard, a blank space may be added to your usercode. Pay attention to last character in your usercode. It should not be a blank space.\n",
      "If you are asked for a certificate, you may select \"Do not validate\" and skip it. (For some Android devices, certificate field might be compulsory. You can select \"Use System Certificate\" and type border.metu.edu.tr netlogin.metu.edu.tr)\n",
      "If you are asked for anonymous identity, you may type anonymous@metu.edu.tr.\n",
      "\n",
      "For Raspberry pi devices, add the following conf to wpa_supplicant.conf file.network={ssid=\"meturoam\"key_mgmt=WPA-EAPpairwise=CCMPeap=PEAPidentity=\"< username >\"anonymous_identity=\"anonymous@metu.edu.tr\"password=\"< password >\"}\n",
      "Then restart wpa_supplicant. Actual filenames and paths may vary.killall wpa_supplicantwpa_supplicant -B -Dwext -i wlan0 -c /etc/wpa_supplicant/wpa_supplicant.conf -f /var/log/wpa_supplicant.log\n",
      "\n",
      " \n",
      "\n",
      " If you forgot your password, you can set a new one in order to use the wireless network.\n",
      "Those users who do not prefer to create a meturoam password can also connect to eduroam.\n",
      "!!! Wireless network connection problems are observed in some of Android devices using Android 6 and prior versions. Occasionally these devices display there is an established wireless connection on the screen but when you try to connect to the Internet, they fail. This problem is originated from a bug in the operating system. The bug cause Android devices to continue to use DHCP-leased IP addresses after the leases expire, and cause Android devices to resume using IP addresses from expired DHCP leases. When you face the the same problem please disable your Wi-Fi connection and enable it again.\n",
      "\n",
      "\n"
     ]
    }
   ],
   "source": [
    "print(context)"
   ]
  },
  {
   "cell_type": "code",
   "execution_count": 24,
   "metadata": {},
   "outputs": [],
   "source": [
    "\n",
    "results = collection.query(\n",
    "    query_embeddings=[embedding_model.encode(\"How can I connect\")],\n",
    "    n_results=5\n",
    ")\n",
    "\n",
    "documents = []\n",
    "for result_list in results['metadatas']:\n",
    "    result = result_list[0]\n",
    "    question = result.get('question', 'No question available')\n",
    "    content = question + \" \" + result.get('link', '')\n",
    "    documents.append({\n",
    "        'content': content,\n",
    "        'metadata': result\n",
    "    })"
   ]
  },
  {
   "cell_type": "code",
   "execution_count": 25,
   "metadata": {},
   "outputs": [],
   "source": [
    "\n",
    "documents = []\n",
    "for result_list in results['metadatas']:\n",
    "    result = result_list[0]\n",
    "    question = result.get('question', 'No question available')\n",
    "    content = question + \" \" + result.get('link', '')\n",
    "    documents.append({\n",
    "        'content': content,\n",
    "        'metadata': result\n",
    "    })"
   ]
  },
  {
   "cell_type": "code",
   "execution_count": 28,
   "metadata": {},
   "outputs": [
    {
     "data": {
      "text/plain": [
       "'How can I connect to meturoam network?'"
      ]
     },
     "execution_count": 28,
     "metadata": {},
     "output_type": "execute_result"
    }
   ],
   "source": [
    "result.get('question', 'No question available')"
   ]
  },
  {
   "cell_type": "code",
   "execution_count": 27,
   "metadata": {},
   "outputs": [
    {
     "data": {
      "text/plain": [
       "[[{'link': 'https://faq.cc.metu.edu.tr/faq/meturoam',\n",
       "   'question': 'How can I connect to meturoam network?'},\n",
       "  {'link': 'https://faq.cc.metu.edu.tr/faq/how-can-i-connect-eduroam-wireless-network-using-my-mac-computer',\n",
       "   'question': 'How can I connect to eduroam wireless network using my Mac computer?'},\n",
       "  {'link': 'https://faq.cc.metu.edu.tr/faq/it-seems-i-have-connection-wireless-network-i-cant-connect-internet-what-should-i-do',\n",
       "   'question': \"It seems I have a connection to the wireless network but I can't connect to the Internet. What should I do?\"}]]"
      ]
     },
     "execution_count": 27,
     "metadata": {},
     "output_type": "execute_result"
    }
   ],
   "source": [
    "results['metadatas']"
   ]
  },
  {
   "cell_type": "code",
   "execution_count": 22,
   "metadata": {},
   "outputs": [
    {
     "data": {
      "text/plain": [
       "[{'content': 'How can I connect to meturoam network? https://faq.cc.metu.edu.tr/faq/meturoam',\n",
       "  'metadata': {'link': 'https://faq.cc.metu.edu.tr/faq/meturoam',\n",
       "   'question': 'How can I connect to meturoam network?'}}]"
      ]
     },
     "execution_count": 22,
     "metadata": {},
     "output_type": "execute_result"
    }
   ],
   "source": [
    "query_results"
   ]
  },
  {
   "cell_type": "code",
   "execution_count": null,
   "metadata": {},
   "outputs": [
    {
     "name": "stderr",
     "output_type": "stream",
     "text": [
      "/home/halil/.pyenv/versions/DI502/lib/python3.10/site-packages/sentence_transformers/cross_encoder/CrossEncoder.py:13: TqdmWarning: IProgress not found. Please update jupyter and ipywidgets. See https://ipywidgets.readthedocs.io/en/stable/user_install.html\n",
      "  from tqdm.autonotebook import tqdm, trange\n"
     ]
    },
    {
     "name": "stdout",
     "output_type": "stream",
     "text": [
      "Document ID: 1\n",
      "Question: How can I connect to meturoam network?\n",
      "Link: https://faq.cc.metu.edu.tr/faq/meturoam\n",
      "Answer: How can I connect to meturoam network? \n",
      "\n",
      "A device must support WPA2 Enterprise with PEAP/MSCHAPv2 in order to be able to connect to METU wireless network, meturoam. Please click here for a list of some popular devices that are known to NOT work on the meturoam wireless network.\n",
      "To connect to the meturoam wireless network, you need a METU usercode and a password for meturoam. If you have a password, please continue to HOW-TO  section.\n",
      "If you didn't create a password for meturoam or you want to renew your password, please visit https://netregister.metu.edu.tr and click Wireless icon, then click \"meturoam\" icon.\n",
      "\n",
      "In the meturoam menu, please provide a new password to be used only for this service with your user code. (In some Android and IOS devices, some special characters like #, ', $ in the password may cause problems to connect to meturoam. If you can connect to meturoam via a computer but having problems with Android or IOS devices, please check your password for special characters and create a new password with other characters.)\n",
      "\n",
      " \n",
      "Connecting to meturoam\n",
      "After you set your new password, please connect to meturoam SSID from your wireless device. You can use this password with every device you own, you do not have to set passwords for each device.\n",
      "Be sure to set the protocols as PEAP and MSCHAPv2. \n",
      "Use your METU usercode and password for the meturoam service. (Please make sure you use your usercode like e123456metu.edu.tr, not your email aliases in the form of name.surnamemetu.edu.tr)\n",
      "In Windows 10, protocol settings are done automatically. You do not need to set the protocols. For Linux operating systems or Windows 7 and below, you may also need to select WPA2-Enterprise and AES.\n",
      "In mobile devices, if you use the autocomplete function in your keyboard, a blank space may be added to your usercode. Pay attention to last character in your usercode. It should not be a blank space.\n",
      "If you are asked for a certificate, you may select \"Do not validate\" and skip it. (For some Android devices, certificate field might be compulsory. You can select \"Use System Certificate\" and type border.metu.edu.tr netlogin.metu.edu.tr)\n",
      "If you are asked for anonymous identity, you may type anonymous@metu.edu.tr.\n",
      "\n",
      "For Raspberry pi devices, add the following conf to wpa_supplicant.conf file.network={ssid=\"meturoam\"key_mgmt=WPA-EAPpairwise=CCMPeap=PEAPidentity=\"< username >\"anonymous_identity=\"anonymous@metu.edu.tr\"password=\"< password >\"}\n",
      "Then restart wpa_supplicant. Actual filenames and paths may vary.killall wpa_supplicantwpa_supplicant -B -Dwext -i wlan0 -c /etc/wpa_supplicant/wpa_supplicant.conf -f /var/log/wpa_supplicant.log\n",
      "\n",
      " \n",
      "\n",
      " If you forgot your password, you can set a new one in order to use the wireless network.\n",
      "Those users who do not prefer to create a meturoam password can also connect to eduroam.\n",
      "!!! Wireless network connection problems are observed in some of Android devices using Android 6 and prior versions. Occasionally these devices display there is an established wireless connection on the screen but when you try to connect to the Internet, they fail. This problem is originated from a bug in the operating system. The bug cause Android devices to continue to use DHCP-leased IP addresses after the leases expire, and cause Android devices to resume using IP addresses from expired DHCP leases. When you face the the same problem please disable your Wi-Fi connection and enable it again.\n",
      "\n",
      "\n",
      "\n",
      "---\n",
      "\n",
      "Document ID: 65\n",
      "Question: metuconnect\n",
      "Link: https://faq.cc.metu.edu.tr/faq/metuconnect\n",
      "Answer: metuconnect \n",
      "\n",
      "If you do not have a password for meturoam and do not have access to METU wireless network, then you can connect to metuconnect SSID in order to connect to meturoam. After connecting to metuconnect, please login to https://netregister.metu.edu.tr and follow the instructions to create a new meturoam password. Users who already have meturoam passwords do not need to connect to metuconnect.\n",
      "There are access restrictions in the metuconnect network.\n",
      "\n",
      "\n",
      "\n",
      "---\n",
      "\n",
      "Document ID: 62\n",
      "Question: How is METU Wireless Network managed?\n",
      "Link: https://faq.cc.metu.edu.tr/faq/how-metu-wireless-network-managed\n",
      "Answer: How is METU Wireless Network managed? \n",
      "\n",
      "METU Wireless Zones\n",
      "\n",
      " \n",
      "\n",
      "\n",
      "\n",
      "---\n",
      "\n"
     ]
    }
   ],
   "source": [
    "embedding_model = SentenceTransformer('all-MiniLM-L6-v2')\n",
    "\n",
    "test_question = \"How can I connect the Wifi in METU\"\n",
    "query_embedding = embedding_model.encode(test_question)\n",
    "\n",
    "query_results = collection.query(\n",
    "    query_embeddings=[query_embedding],\n",
    "    n_results=3\n",
    ")\n",
    "\n",
    "for i, doc_id in enumerate(query_results['ids'][0]):\n",
    "    question = query_results['metadatas'][0][i]['question']\n",
    "    link = query_results['metadatas'][0][i]['link']\n",
    "    answer = query_results['documents'][0][i]\n",
    "\n",
    "    print(f\"Document ID: {doc_id}\")\n",
    "    print(f\"Question: {question}\")\n",
    "    print(f\"Link: {link}\")\n",
    "    print(f\"Answer: {answer}\")\n",
    "    print(\"\\n---\\n\")\n"
   ]
  },
  {
   "cell_type": "code",
   "execution_count": null,
   "metadata": {},
   "outputs": [],
   "source": []
  }
 ],
 "metadata": {
  "kernelspec": {
   "display_name": "DI502",
   "language": "python",
   "name": "python3"
  },
  "language_info": {
   "codemirror_mode": {
    "name": "ipython",
    "version": 3
   },
   "file_extension": ".py",
   "mimetype": "text/x-python",
   "name": "python",
   "nbconvert_exporter": "python",
   "pygments_lexer": "ipython3",
   "version": "3.10.4"
  }
 },
 "nbformat": 4,
 "nbformat_minor": 2
}
