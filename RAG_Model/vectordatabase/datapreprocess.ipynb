{
 "cells": [
  {
   "cell_type": "code",
   "execution_count": null,
   "metadata": {},
   "outputs": [],
   "source": [
    "import pandas as pd\n",
    "file_paths = {\n",
    "    \"accomadation\": \"raw_data/accomadation_eng.xlsx\",\n",
    "    \"courses\": \"raw_data/courses_eng_undergrad.xlsx\",\n",
    "    \"extras\": \"raw_data/extras.xlsx\",\n",
    "    \"faq\": \"raw_data/FAQ_Halil.xlsx\",\n",
    "    \"how_to_register\": \"raw_data/How_will_you_register.xlsx\",\n",
    "    \"registration_procedures\": \"raw_data/REGISTRATION_PROCEDURES.xlsx\",\n",
    "    \"sport_clubs\": \"raw_data/sport_clubs.xlsx\",\n",
    "    \"student_clubs\": \"raw_data/student_clubs_eng.xlsx\",\n",
    "}\n",
    "dataframes = {name: pd.ExcelFile(path) for name, path in file_paths.items()}\n",
    "sheets = {name: df.sheet_names for name, df in dataframes.items()}\n",
    "loaded_dataframes = {\n",
    "    name: {sheet: dataframes[name].parse(sheet) for sheet in sheets[name]}\n",
    "    for name in dataframes\n",
    "}"
   ]
  },
  {
   "cell_type": "code",
   "execution_count": null,
   "metadata": {},
   "outputs": [],
   "source": []
  },
  {
   "cell_type": "code",
   "execution_count": null,
   "metadata": {},
   "outputs": [],
   "source": []
  },
  {
   "cell_type": "code",
   "execution_count": null,
   "metadata": {},
   "outputs": [],
   "source": [
    "accomadation_df = loaded_dataframes[\"accomadation\"][\"Sheet1\"]\n",
    "accomadation_df = accomadation_df[0] + \": \" + accomadation_df[1]\n",
    "accomadation_df = pd.DataFrame(accomadation_df, columns=[\"Context\"])"
   ]
  },
  {
   "cell_type": "code",
   "execution_count": null,
   "metadata": {},
   "outputs": [],
   "source": []
  },
  {
   "cell_type": "code",
   "execution_count": null,
   "metadata": {},
   "outputs": [],
   "source": [
    "courses_df = loaded_dataframes[\"courses\"][\"data-1731101247619\"]\n",
    "courses_df.columns = courses_df.columns.str.strip()\n",
    "for col in courses_df.select_dtypes(include=['object']).columns:\n",
    "    courses_df[col] = courses_df[col].str.replace(r\"\\n\", \" \", regex=True)\n",
    "courses_df = courses_df.iloc[:,:-1]\n",
    "def create_context(row):\n",
    "    return (\n",
    "        f\"Course: {row['course']}\\n\"\n",
    "        f\"Department: {row['Department']}\\n\"\n",
    "        f\"Objective: {row['course_objective']}\\n\"\n",
    "        f\"Content: {row['course_content']}\"\n",
    "    )\n",
    "courses_df['context'] = courses_df.apply(create_context, axis=1)\n",
    "courses_df = pd.DataFrame(courses_df.context.values, columns=[\"Context\"])"
   ]
  },
  {
   "cell_type": "code",
   "execution_count": null,
   "metadata": {},
   "outputs": [],
   "source": []
  },
  {
   "cell_type": "code",
   "execution_count": null,
   "metadata": {},
   "outputs": [],
   "source": [
    "loaded_dataframes[\"extras\"][\"Sheet1\"].columns = [\"Type\", \"Context\"]\n",
    "extras_df = loaded_dataframes[\"extras\"][\"Sheet1\"]\n",
    "extras_df.loc[-1] = extras_df.columns\n",
    "extras_df.index = extras_df.index + 1\n",
    "extras_df = extras_df.sort_index()\n",
    "extras_df.columns = [0, 1]\n",
    "extras_df[\"Context\"] = extras_df[0] + \": \\n\" + extras_df[1]\n",
    "extras_df = pd.DataFrame(extras_df.Context.values, columns=[\"Context\"])"
   ]
  },
  {
   "cell_type": "code",
   "execution_count": null,
   "metadata": {},
   "outputs": [],
   "source": []
  },
  {
   "cell_type": "code",
   "execution_count": null,
   "metadata": {},
   "outputs": [],
   "source": [
    "faq_df = loaded_dataframes[\"faq\"][\"Sheet1\"][[\"link\",\"question\",\"answer\"]]\n",
    "faq_df.columns = faq_df.columns.str.strip()\n",
    "for col in faq_df.select_dtypes(include=['object']).columns:\n",
    "    faq_df.loc[:, col] = faq_df[col].str.replace(r\"\\n\", \" \", regex=True)\n",
    "def create_context(row):\n",
    "    return (\n",
    "        f\"FAQ Question: {row['question']}\\n\"\n",
    "        f\"FAQ Answer: {row['answer']}\\n\"\n",
    "        f\"FAQ Link: {row['link']}\\n\"\n",
    "    )\n",
    "\n",
    "faq_df = faq_df.copy()\n",
    "faq_df['context'] = faq_df.apply(create_context, axis=1)\n",
    "faq_df = pd.DataFrame(faq_df['context'].values, columns=[\"Context\"])\n"
   ]
  },
  {
   "cell_type": "code",
   "execution_count": null,
   "metadata": {},
   "outputs": [],
   "source": []
  },
  {
   "cell_type": "code",
   "execution_count": null,
   "metadata": {},
   "outputs": [],
   "source": [
    "how_to_register_df = loaded_dataframes[\"how_to_register\"][\"Sheet1\"]\n",
    "how_to_register_df.columns = how_to_register_df.columns.str.strip()\n",
    "for col in how_to_register_df.select_dtypes(include=['object']).columns:\n",
    "    how_to_register_df.loc[:, col] = how_to_register_df[col].str.replace(r\"\\n\", \" \", regex=True)\n",
    "def create_context(row):\n",
    "    return (\n",
    "        f\"How to Register Question: {row['question']}\\n\"\n",
    "        f\"How to Register Answer: {row['answer']}\\n\"\n",
    "        f\"How to Register Link: {row['link']}\\n\"\n",
    "    )\n",
    "how_to_register_df = how_to_register_df.copy()\n",
    "how_to_register_df['context'] = how_to_register_df.apply(create_context, axis=1)\n",
    "how_to_register_df = pd.DataFrame(how_to_register_df['context'].values, columns=[\"Context\"])\n"
   ]
  },
  {
   "cell_type": "code",
   "execution_count": null,
   "metadata": {},
   "outputs": [],
   "source": []
  },
  {
   "cell_type": "code",
   "execution_count": null,
   "metadata": {},
   "outputs": [],
   "source": [
    "registration_procedures_df = loaded_dataframes[\"registration_procedures\"][\"Sheet1\"]\n",
    "registration_procedures_df.columns = registration_procedures_df.columns.str.strip()\n",
    "for col in registration_procedures_df.select_dtypes(include=['object']).columns:\n",
    "    registration_procedures_df.loc[:, col] = registration_procedures_df[col].str.replace(r\"\\n\", \" \", regex=True)\n",
    "def create_context(row):\n",
    "    return (\n",
    "        f\"Registration Procedures Question: {row['Question']}\\n\"\n",
    "        f\"Registration Procedures Answer: {row['Answer']}\\n\"\n",
    "    )\n",
    "registration_procedures_df = registration_procedures_df.copy()\n",
    "registration_procedures_df['context'] = registration_procedures_df.apply(create_context, axis=1)\n",
    "registration_procedures_df = pd.DataFrame(registration_procedures_df['context'].values, columns=[\"Context\"])"
   ]
  },
  {
   "cell_type": "code",
   "execution_count": null,
   "metadata": {},
   "outputs": [],
   "source": []
  },
  {
   "cell_type": "code",
   "execution_count": null,
   "metadata": {},
   "outputs": [],
   "source": [
    "sports_club_tr = loaded_dataframes[\"sport_clubs\"][\"Turkish\"]\n",
    "sports_club_en = loaded_dataframes[\"sport_clubs\"][\"English\"]\n",
    "sports_club = pd.concat([sports_club_tr, sports_club_en])\n",
    "sports_club.columns = sports_club.columns.str.strip()\n",
    "for col in sports_club.select_dtypes(include=['object']).columns:\n",
    "    sports_club.loc[:, col] = sports_club[col].str.replace(r\"\\n\", \" \", regex=True)\n",
    "def create_context(row):\n",
    "    return (\n",
    "        f\"Sports Club Name: {row['club_name']}\\n\"\n",
    "        f\"Sports Club Description: {row['description']}\\n\"\n",
    "    )\n",
    "sports_club = sports_club.copy()\n",
    "sports_club['context'] = sports_club.apply(create_context, axis=1)\n",
    "sports_club = pd.DataFrame(sports_club['context'].values, columns=[\"Context\"])"
   ]
  },
  {
   "cell_type": "code",
   "execution_count": null,
   "metadata": {},
   "outputs": [],
   "source": []
  },
  {
   "cell_type": "code",
   "execution_count": null,
   "metadata": {},
   "outputs": [],
   "source": [
    "student_club = loaded_dataframes[\"student_clubs\"][\"Sheet1\"]\n",
    "student_club.columns = student_club.columns.str.strip()\n",
    "for col in student_club.select_dtypes(include=['object']).columns:\n",
    "    student_club.loc[:, col] = student_club[col].str.replace(r\"\\n\", \" \", regex=True)\n",
    "def create_context(row):\n",
    "    return (\n",
    "        f\"Student Club Name: {row['Student Club']}\\n\"\n",
    "        f\"Student Club Description: {row['information']}\\n\"\n",
    "    )\n",
    "student_club = student_club.copy()\n",
    "student_club['context'] = student_club.apply(create_context, axis=1)\n",
    "student_club = pd.DataFrame(student_club['context'].values, columns=[\"Context\"])"
   ]
  },
  {
   "cell_type": "code",
   "execution_count": null,
   "metadata": {},
   "outputs": [],
   "source": []
  },
  {
   "cell_type": "code",
   "execution_count": 133,
   "metadata": {},
   "outputs": [],
   "source": [
    "output_paths = {\n",
    "    \"accomadation\": \"data/accomadation.xlsx\",\n",
    "    \"courses\": \"data/courses.xlsx\",\n",
    "    \"extras\": \"data/extras.xlsx\",\n",
    "    \"faq\": \"data/faq.xlsx\",\n",
    "    \"how_to_register\": \"data/how_to_register.xlsx\",\n",
    "    \"registration_procedures\": \"data/registration_procedures.xlsx\",\n",
    "    \"sports_club\": \"data/sports_club.xlsx\",\n",
    "    \"student_club\": \"data/student_club.xlsx\"\n",
    "}\n",
    "\n",
    "accomadation_df.to_excel(output_paths[\"accomadation\"], index=False)\n",
    "courses_df.to_excel(output_paths[\"courses\"], index=False)\n",
    "extras_df.to_excel(output_paths[\"extras\"], index=False)\n",
    "faq_df.to_excel(output_paths[\"faq\"], index=False)\n",
    "how_to_register_df.to_excel(output_paths[\"how_to_register\"], index=False)\n",
    "registration_procedures_df.to_excel(output_paths[\"registration_procedures\"], index=False)\n",
    "sports_club.to_excel(output_paths[\"sports_club\"], index=False)\n",
    "student_club.to_excel(output_paths[\"student_club\"], index=False)\n"
   ]
  },
  {
   "cell_type": "code",
   "execution_count": null,
   "metadata": {},
   "outputs": [],
   "source": []
  }
 ],
 "metadata": {
  "kernelspec": {
   "display_name": "DI502",
   "language": "python",
   "name": "python3"
  },
  "language_info": {
   "codemirror_mode": {
    "name": "ipython",
    "version": 3
   },
   "file_extension": ".py",
   "mimetype": "text/x-python",
   "name": "python",
   "nbconvert_exporter": "python",
   "pygments_lexer": "ipython3",
   "version": "3.10.4"
  }
 },
 "nbformat": 4,
 "nbformat_minor": 2
}
