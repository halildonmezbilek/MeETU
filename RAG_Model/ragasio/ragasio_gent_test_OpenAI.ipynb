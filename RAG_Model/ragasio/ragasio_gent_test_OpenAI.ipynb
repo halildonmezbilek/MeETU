{
 "cells": [
  {
   "cell_type": "code",
   "execution_count": 15,
   "metadata": {},
   "outputs": [],
   "source": [
    "from langchain_openai import ChatOpenAI\n",
    "from langchain_openai import OpenAIEmbeddings\n",
    "\n",
    "from ragas.llms import LangchainLLMWrapper\n",
    "from ragas.embeddings import LangchainEmbeddingsWrapper\n",
    "from ragas.testset import TestsetGenerator\n",
    "\n",
    "from langchain_community.document_loaders import UnstructuredExcelLoader, UnstructuredMarkdownLoader\n",
    "from uuid import uuid4\n",
    "from pathlib import Path\n",
    "import pandas as pd\n",
    "\n",
    "import os\n",
    "from dotenv import load_dotenv\n",
    "load_dotenv()\n",
    "os.environ[\"OPENAI_API_KEY\"] = os.getenv(\"OPEN_AI\")\n"
   ]
  },
  {
   "cell_type": "code",
   "execution_count": null,
   "metadata": {},
   "outputs": [],
   "source": [
    "data_folder = Path(\"data\")\n",
    "files = [\n",
    "    \"fees_and_scholarships.md\", \"accomadation.xlsx\", \"courses.xlsx\", \"faq.xlsx\",\n",
    "    \"sports_club.xlsx\", \"student_club.xlsx\"\n",
    "]\n",
    "\n",
    "docs_dict = {}\n",
    "\n",
    "for file in files:\n",
    "    file_path = data_folder / file\n",
    "    if file.endswith('.xlsx'):\n",
    "        loader = UnstructuredExcelLoader(str(file_path), mode=\"elements\")\n",
    "    elif file.endswith('.md'):\n",
    "        loader = UnstructuredMarkdownLoader(str(file_path))\n",
    "    else:\n",
    "        print(f\"Unsupported file type: {file}\")\n",
    "        continue\n",
    "    \n",
    "    try:\n",
    "        doc = loader.load()\n",
    "        docs_dict[file] = doc\n",
    "    except Exception as e:\n",
    "        print(f\"Error loading {file}: {e}\")\n",
    "\n",
    "print(f\"Loaded documents for {len(docs_dict)} files.\")"
   ]
  },
  {
   "cell_type": "code",
   "execution_count": 3,
   "metadata": {},
   "outputs": [],
   "source": [
    "df_testests = {}"
   ]
  },
  {
   "cell_type": "code",
   "execution_count": null,
   "metadata": {},
   "outputs": [],
   "source": [
    "for f, docs in docs_dict.items():\n",
    "    if f not in df_testests.keys():\n",
    "        if len(docs) >= 100:\n",
    "            docs = docs[:100]\n",
    "        print(f\"generating test set for: {f}\")\n",
    "        generator_llm = LangchainLLMWrapper(ChatOpenAI(model=\"gpt-4o-mini\", temperature=0.1))\n",
    "        generator_embeddings = LangchainEmbeddingsWrapper(OpenAIEmbeddings())\n",
    "\n",
    "        generator = TestsetGenerator(llm=generator_llm, embedding_model=generator_embeddings)\n",
    "        testset = generator.generate_with_langchain_docs(docs, testset_size=30)\n",
    "        df = testset.to_pandas()\n",
    "        df_testests[f] = df\n",
    "        display(df)\n"
   ]
  },
  {
   "cell_type": "code",
   "execution_count": 9,
   "metadata": {},
   "outputs": [],
   "source": [
    "dataframes = []\n",
    "for file_name, df in df_testests.items():\n",
    "    df[\"filename\"] = file_name\n",
    "    dataframes.append(df)\n",
    "df = pd.concat(dataframes, ignore_index=True)"
   ]
  },
  {
   "cell_type": "code",
   "execution_count": 10,
   "metadata": {},
   "outputs": [],
   "source": [
    "df.to_pickle(\"test_data_generated.pkl\")"
   ]
  },
  {
   "cell_type": "code",
   "execution_count": 3,
   "metadata": {},
   "outputs": [],
   "source": [
    "import pandas as pd\n",
    "df = pd.read_pickle(\"test_data_generated.pkl\")"
   ]
  },
  {
   "cell_type": "code",
   "execution_count": 4,
   "metadata": {},
   "outputs": [],
   "source": [
    "import re\n",
    "def clean_reference_contexts(contexts):\n",
    "    if isinstance(contexts, list):\n",
    "        return [re.sub(r\"[a-f0-9-]{36}\\n\\n\", \"\", context) for context in contexts]\n",
    "    elif isinstance(contexts, str):\n",
    "        return re.sub(r\"[a-f0-9-]{36}\\n\\n\", \"\", contexts)\n",
    "    return contexts\n",
    "\n",
    "df['reference_contexts'] = df['reference_contexts'].apply(clean_reference_contexts)"
   ]
  },
  {
   "cell_type": "code",
   "execution_count": 26,
   "metadata": {},
   "outputs": [],
   "source": [
    "from langchain_openai import ChatOpenAI\n",
    "from langchain_core.prompts import ChatPromptTemplate\n",
    "from langchain_core.output_parsers import StrOutputParser\n"
   ]
  },
  {
   "cell_type": "code",
   "execution_count": 27,
   "metadata": {},
   "outputs": [],
   "source": [
    "template = \"\"\"\n",
    "You are an advanced AI trained to evaluate answers based on reference contexts. You will assess whether the provided answer is correct or incorrect according to the given reference contexts. \n",
    "\n",
    "You should respond when you are at least 90% confident in your evaluation. If the reference contexts are insufficient to answer the question accurately, provide a detailed explanation of the reason why the answer cannot be determined. \n",
    "\n",
    "Your response will be in the form of a tuple, following the examples below:\n",
    "\n",
    "(Correct, Explanation of why the answer is correct)\n",
    "(Incorrect, Explanation of why the answer is incorrect)\n",
    "\n",
    "---\n",
    "\n",
    "**Question:**\n",
    "{user_input}\n",
    "\n",
    "**Reference Contexts:**\n",
    "{reference_contexts}\n",
    "\n",
    "**Answer:**\n",
    "{reference}\n",
    "\n",
    "Assistant:\n",
    "\n",
    "\"\"\"\n",
    "\n",
    "prompt = ChatPromptTemplate.from_template(template) "
   ]
  },
  {
   "cell_type": "code",
   "execution_count": 28,
   "metadata": {},
   "outputs": [],
   "source": [
    "\n",
    "llm = ChatOpenAI(\n",
    "    model=\"gpt-4o-mini\",\n",
    "    temperature=0,\n",
    "    max_tokens=None,\n",
    "    timeout=None,\n",
    "    max_retries=2,\n",
    "    api_key=os.getenv(\"OPEN_AI\"),\n",
    ")\n"
   ]
  },
  {
   "cell_type": "code",
   "execution_count": 29,
   "metadata": {},
   "outputs": [],
   "source": [
    "rag_chain = (prompt | llm | StrOutputParser())"
   ]
  },
  {
   "cell_type": "code",
   "execution_count": 30,
   "metadata": {},
   "outputs": [
    {
     "name": "stdout",
     "output_type": "stream",
     "text": [
      "(Correct, The answer accurately reflects the information provided in the reference context, detailing how the Office of Dormitories obtained quality certification from the Turkish Standards Institution and the successful inspections that demonstrate their commitment to high standards in dormitory services.)\n",
      "(Correct, The answer accurately reflects the information provided in the reference context, which states that the Executive Board of Dormitories evaluates applications based on criteria established by regulations approved by the Rectorate.)\n",
      "(Correct, The answer accurately reflects the information provided in the reference context regarding the operating hours for buses and minibuses.)\n",
      "(Correct, The answer accurately reflects the information provided in the reference context, stating the operating hours of buses and minibuses between the city center and the dormitories.)\n",
      "(Correct, The answer accurately reflects the information provided in the reference context, which states that students whose family resides outside of Ankara can apply for the dormitories.)\n",
      "(Correct, The answer accurately reflects the information provided in the reference context regarding the application process for dormitories using the YKS Registration Program.)\n",
      "(Correct, The answer accurately describes the process for evaluating applications at the Office of Dormitories as outlined in the reference context, including the investigation of the economic and social situation of applicants, the consideration of YKS scores/rankings, and the announcement of results and registration details.)\n",
      "(Correct, The answer accurately describes the process for applying to the Office of Dormitories as outlined in the reference context, detailing the evaluation of applications based on family situation and YKS rankings, as well as the announcement of results and registration information.)\n",
      "(Correct, The answer accurately describes the role of the Office of Dormitories in the registration process, specifically mentioning the requirement for students to gather and submit necessary documents to complete their registration.)\n",
      "(Correct, The answer accurately describes the role of the Office of Dormitories in the registration process, including the requirement for students to gather and submit necessary documents and the method of placement based on scores.)\n",
      "(Correct, The answer accurately reflects the information provided in the reference context regarding the calculation of the Right to Stay in the dormitory and the conditions under which that right may be voided.)\n",
      "(Correct, The answer accurately reflects the information provided in the reference context regarding the rules for staying in the dormitory at METU, specifically how the duration of stay is calculated and the conditions under which it may be voided.)\n",
      "(Correct, The answer accurately reflects the information provided in the reference context, stating that students who do not register within the specified deadlines lose their right to register based on the announced points and that their points will be recalculated for late applications.)\n",
      "(Correct, The answer accurately reflects the information provided in the reference context regarding the consequences of not registering for dormitories on time and how the situation is handled.)\n",
      "(Correct, The answer accurately summarizes the information provided in the reference context regarding the management and availability of the Dormitory Regulations at METU.)\n",
      "(Correct, The answer accurately reflects the information provided in the reference context regarding the leave policy for students in the dormitories, including the duration of leave and the requirements for students under 18.)\n",
      "(Correct, The answer accurately describes the evaluation process for dormitory applications, detailing how both the economic and social situations of applicants' families are assessed through local administration units, and how this information is integrated with their academic performance as indicated by their YKS exam scores and rankings. It also correctly mentions the criteria established by the Executive Board of Dormitories and the special consideration given to high-ranking students in the YKS exam.)\n",
      "(Correct, The answer accurately summarizes the criteria and processes involved in the evaluation of student applications for dormitory placements at METU, including the investigation of the economic and social situation of students' families, the use of YKS exam scores, and the role of the Rectorate in approving the criteria established by the Executive Board of Dormitories.)\n",
      "(Correct, The answer accurately describes the criteria and processes involved in the evaluation of student applications for dormitory placements at METU, including the investigation of students' economic and social situations, the use of YKS exam scores, the role of the Executive Board of Dormitories and the Rectorate in determining criteria, and the announcement of results and registration information.)\n",
      "(Correct, The answer accurately reflects the main objective of the ARCH101 course as described in the reference context, detailing the preparation of architecture students for design and the emphasis on design thinking, exploration, and various design elements.)\n",
      "(Correct, The answer accurately summarizes the main focus of the course ARCH102 as described in the reference context, highlighting the relationship between design principles and architectural design, as well as the emphasis on designing sustainable and resilient spaces.)\n",
      "(Correct, The answer accurately describes the relationship between Arch 104 and Arch 103, stating that Arch 104 builds upon the foundational skills learned in Arch 103 and focuses on enhancing the ability to represent architectural works.)\n",
      "(Correct, The answer accurately reflects the content of the reference context, which states that orthographic drawings are part of the curriculum in ARCH104 and that students will explore further applications of these projection systems.)\n",
      "(Correct, The answer accurately reflects the content of the course ARCH111 as described in the reference context, specifically mentioning the focus on environmental and cultural influences on architectural form.)\n",
      "(Correct, The answer accurately summarizes the content and objectives of the ARCH112 course, specifically regarding the survey of architectural developments and major monuments from the Greek period. It correctly emphasizes the importance of understanding the socio-cultural context in relation to cultural heritage preservation, aligning with the course's focus on formal and stylistic characteristics.)\n",
      "(Correct, The answer accurately summarizes the purpose of the course ARCH121 as described in the reference context, including its focus on the scope and vocabulary of architecture, design activity, and the analysis of various influences on architectural form.)\n",
      "(Correct, The answer accurately summarizes the content of the ARCH122 course as described in the reference context, including its focus on conceptual and material aspects of architecture and the study of traditions, styles, and movements.)\n",
      "(Incorrect, The answer does not address the role of the DEPARTMENT OF ARCHITECTURE in the course ARCH190 or its importance in cultural heritage conservation, as the reference context does not provide sufficient information on these aspects.)\n",
      "(Correct, The answer accurately reflects the role of the DEPARTMENT OF ARCHITECTURE as described in the reference context, highlighting its involvement in identifying and interpreting design concepts, addressing functional necessities, and developing awareness of environmental and aesthetic values in relation to small size buildings.)\n",
      "(Correct, The answer accurately describes how the DEPARTMENT OF ARCHITECTURE, through its course ARCH202, fosters skills and awareness that are essential for interpreting and preserving cultural heritage. The emphasis on innovative and sustainable design solutions aligns with adaptive reuse strategies, which are important for the conservation of cultural heritage sites.)\n",
      "(Correct, The answer accurately describes the role of three dimensional modeling in architectural design courses by highlighting its importance in representation and communication of architectural design using digital media, as stated in the reference context.)\n",
      "(Correct, The answer accurately summarizes the content and objectives of the ARCH204 course, highlighting the introduction of BIM, its focus on theory, techniques, methodologies, and tools for modeling information for construction, as well as its application in building analysis and design representation.)\n",
      "(Correct, The answer accurately reflects the influence of the Renaissance period on the conservation and adaptive reuse of cultural heritage sites by discussing the introduction of architectural forms, types, and technologies. It aligns with the course content that emphasizes the importance of understanding functional, structural, cultural, and geographical factors in architectural history, which is essential for specialists in cultural heritage preservation.)\n",
      "(Correct, The answer accurately describes post-modernism in architecture as a movement that emerged in the mid- to late 20th century, highlighting its departure from modernism and its incorporation of historical references. It also correctly relates this movement to cultural heritage by discussing the balance between modern development and the conservation of cultural identity.)\n",
      "(Correct, The answer accurately summarizes the key objectives and content areas of both ARCH302 and ARCH321 courses as they relate to cultural heritage preservation. It correctly identifies the focus of ARCH302 on design projects that consider cultural heritage and the legal and ethical aspects of working in such contexts, as well as the historical context provided by ARCH321 that is essential for understanding architectural practices and their relation to cultural heritage.)\n",
      "(Correct, The answer accurately summarizes the key objectives of Arch 301 and Arch 302 courses as outlined in the reference contexts, including the focus on knowledge, attitudes, skills, and the importance of cultural heritage.)\n",
      "(Correct, The answer accurately summarizes the main goals of Arch 301 and 302, highlighting the acquisition of knowledge, attitudes, and skills necessary for complex design projects, with a specific emphasis on cultural heritage and the legal and ethical considerations involved.)\n",
      "(Correct, The answer accurately summarizes the objectives and content focus of both the ARCH302 and ARCH402 courses as described in the reference contexts. It correctly identifies the key elements of each course, including the emphasis on complex design projects, the development of skills and attitudes, and the specific content areas covered in the courses.)\n",
      "(Correct, The answer accurately describes how ARCH381 and ARCH382 contribute to understanding mechanical and electrical services in architectural design, particularly in the context of cultural heritage conservation. It highlights the focus of each course on relevant systems and their integration into architectural design, which is essential for preserving the integrity of historic structures while accommodating modern needs.)\n",
      "(Correct, The answer accurately summarizes the key components of mechanical services in buildings as outlined in the reference context for ARCH381, including the understanding of mechanical services, installation and maintenance requirements, technical drawings, sanitary services, and HVAC services.)\n",
      "(Correct, The answer accurately describes how ARCH460 contributes to the understanding and preservation of cultural heritage by emphasizing sustainable design practices that can protect historical sites. It also correctly identifies that ARCH466, while lacking a specific objective, helps develop visual skills that are important for appreciating and conserving cultural heritage.)\n",
      "(Correct, The answer accurately summarizes the key objectives and content focus of both ARCH460 and ARCH470 courses, highlighting their emphasis on sustainability, digital design, and the integration of appropriate technologies and materials in architectural practice.)\n",
      "(Correct, The answer accurately describes the contributions of both ARCH460 and ARCH463 to sustainable design and computational thinking in architecture. ARCH460 focuses on high-performance building design with low environmental impacts and addresses sustainability, while ARCH463 provides a theoretical foundation in shape grammars and visual computation, which supports computational thinking in design.)\n",
      "(Correct, The answer accurately describes how ARCH460 focuses on sustainable design and appropriate technologies, which are essential for preserving cultural heritage, while ARCH464 examines the relationship between food and urban space, highlighting the importance of gastronomic traditions in shaping urban identities. Both courses contribute to a deeper understanding of cultural heritage in urban environments.)\n",
      "(Correct, The answer accurately describes how ARCH460 focuses on sustainable building design, which is important for preserving heritage sites while addressing environmental concerns, and how ARCH490 provides skills in heritage interpretation and presentation, essential for engaging the public and ensuring the significance of cultural heritage is communicated effectively.)\n",
      "(Correct, The answer accurately describes how digital tools in the context of ARCH460 can be applied to cultural heritage sites by focusing on sustainability, energy efficiency, and appropriate technology, which are essential for preserving such sites.)\n",
      "(Correct, The answer accurately summarizes the objectives and content of both ARCH460 and ARCH467 as described in the reference contexts. ARCH460 focuses on high performance buildings, sustainability, and the use of digital tools, while ARCH467 emphasizes the design process and decision-making methods.)\n",
      "(Correct, The answer accurately describes how ARCH460 contributes to the conservation of cultural heritage sites by focusing on sustainable design practices that can be applied to preservation efforts. It also correctly identifies the role of ARCH462 in providing essential skills for visualizing and presenting conservation projects through computer-aided graphics, which is important for effectively communicating the value and details of cultural heritage sites.)\n",
      "(Correct, The answer accurately reflects how modernism and post-modernism can inform conservation and adaptive reuse strategies for cultural heritage sites. It discusses the principles of both movements and connects them to the objectives of the referenced courses, particularly ARCH403, which focuses on documenting modern architectural heritage in Ankara. The response highlights the importance of balancing preservation with contemporary needs, aligning well with the course content.)\n",
      "(Correct, The answer accurately reflects the information provided in the reference context regarding how to connect to the eduroam wireless network on Windows 10.)\n",
      "(Correct, The answer accurately summarizes the necessary steps and requirements to connect to the meturoam network, including the need for a device that supports WPA2 Enterprise with PEAP/MSCHAPv2, the requirement of a METU usercode and password, and the specific settings needed for different operating systems.)\n",
      "(Correct, The answer accurately summarizes the steps needed to connect to the meturoam wireless network using MSCHAPv2 after a guest account is created, as outlined in the reference context.)\n",
      "(Correct, The answer accurately reflects the information provided in the reference context regarding accessing METU Library resources from outside the campus and includes the relevant link for further details.)\n",
      "(Correct, The answer accurately provides the information about managing the METU Departments/Units Wired Network and includes the correct link for more information as stated in the reference context.)\n",
      "(Correct, The answer accurately describes the steps needed to connect to a Windows 7 computer using remote desktop, including changing the port number, configuring Windows Firewall, and ensuring the correct username is used.)\n",
      "(Correct, The answer correctly advises users to set a new password and provides the appropriate link for instructions, which aligns with the information in the reference context.)\n",
      "(Correct, The answer accurately reflects the guidance provided in the reference context regarding how to handle a certificate warning when connecting to the meturoam network. It correctly identifies the potential causes of the warning and instructs residents to verify the server information against the provided fingerprints before proceeding to connect.)\n",
      "(Correct, The answer correctly provides a link for more information about the Domain Name Service in METU, which is directly referenced in the provided context.)\n",
      "(Correct, The answer accurately provides the information about the FTP service at METU CC and includes the relevant links for further details as stated in the reference context.)\n",
      "(Correct, The answer correctly provides information about the VOIP service at METU by directing the user to the relevant link for more details.)\n",
      "(Correct, The answer accurately reflects the information provided in the reference context, which directs the reader to a link for more information about METU Campus Backbone (METU-NET) statistics.)\n",
      "(Correct, The answer accurately provides the information found in the reference context, directing the user to the appropriate link for more details about METU off-campus connection statistics.)\n",
      "(Correct, The answer accurately describes web caching as an efficient method for saving time and reducing network traffic by storing temporary copies of web objects. It correctly explains how cached objects are returned to users quickly and the benefits of reduced request times and increased bandwidth.)\n",
      "(Correct, The answer accurately reflects the information provided in the reference context regarding the reasons for the CC restricting IP access.)\n",
      "(Correct, The answer accurately describes the steps to connect to the eduroam network using an Android phone and addresses potential connection issues related to Android version 6 and earlier, as outlined in the reference contexts.)\n",
      "(Correct, The answer accurately summarizes the necessary steps and requirements to connect to the meturoam network, including the need for WPA2 Enterprise with PEAP/MSCHAPv2, a METU usercode, and a password, as well as addressing potential issues with special characters in passwords.)\n",
      "(Correct, The answer accurately describes the steps required to connect an iOS device to the eduroam wireless network, including downloading the configuration file, installing it, and entering the correct user credentials.)\n",
      "(Correct, The answer accurately summarizes the steps to connect to the meturoam network, including the necessary requirements, password creation, and specific settings for different operating systems as outlined in the reference context.)\n",
      "(Correct, The answer accurately summarizes the steps needed to connect to the meturoam network using a guest account, including device requirements, connection procedures, and troubleshooting tips as outlined in the reference contexts.)\n",
      "(Correct, The answer accurately provides the steps to contact the department coordinator and check cash payments based on the reference contexts.)\n",
      "(Correct, The answer accurately outlines the steps to load money onto the ODTU card as provided in the reference context, including logging in, entering the amount, confirming the transaction, making a payment, and transferring the money to the smart card.)\n",
      "(Correct, The answer accurately provides the necessary information on how to reach department coordinators and connect to the central server systems, including relevant links and resources as outlined in the reference contexts.)\n",
      "(Correct, The answer accurately reflects the steps provided in the reference context for downloading the VPN application.)\n",
      "(Correct, The answer accurately summarizes the steps to take if an IP address is suspected to be restricted, including checking the status on the provided link, potential reasons for restrictions, and the process for attempting to remove the restriction or contacting support if necessary.)\n",
      "(Correct, The answer accurately summarizes the steps provided in the reference context for troubleshooting VPN connection issues when the user code and password are entered correctly.)\n",
      "(Correct, The answer accurately describes the METU VPN Service and provides relevant information on how to access campus network resources using the VPN, as stated in the reference context.)\n",
      "(Correct, The answer accurately describes the METU VPN Service and its importance for accessing campus resources off-campus, as well as providing clear guidance on how to connect to the metuconnect network for those without access to the METU wireless network. It includes relevant details from the reference contexts.)\n",
      "(Correct, The answer accurately explains what the VPN service is and provides the correct steps to follow if a user is not prompted for their password during the connection process, as outlined in the reference contexts.)\n",
      "(Correct, The answer accurately describes the METU VPN Service and how to use it by installing a VPN Client and following the relevant steps for the device's operating system.)\n",
      "(Correct, The answer accurately reflects the initiatives and activities of the ODTÜ Aikido Topluluğu as described in the reference context, highlighting their focus on children's physical, social, and psychological development, as well as the values of respect, cooperation, and self-discipline.)\n",
      "(Correct, The answer accurately describes ODTÜ BRİÇ TOPLULUĞU as a sports club focused on teaching contact bridge, enhancing bridge knowledge, and participating in competitions, which aligns with the provided reference context.)\n",
      "(Correct, The answer accurately describes the purpose of Formasyon İlk Yardım Tartışmaları Eğitimi as a program aimed at raising awareness among university students about first aid and lifesaving, which aligns with the information provided in the reference context.)\n",
      "(Correct, The answer accurately reflects the information provided in the reference context, which states that the ODTÜ Capoeira community engages in teaching and popularizing Capoeira and promotes Brazilian culture through workshops and participation in various events.)\n",
      "(Correct, The answer accurately summarizes the purpose and activities of ODTÜ DAĞCILIK VE KIŞ SPORLARI KOLU (DKSK) as described in the reference context, highlighting their focus on promoting nature sports, enhancing athlete skills, and fostering relationships within the nature sports community.)\n",
      "(Correct, The answer accurately summarizes the activities and goals of the ODTÜ DENİZCİLİK VE YELKEN TOPLULUĞU (ODYT) as described in the reference context, including its focus on promoting sailing among students, providing training, and participating in competitions.)\n",
      "(Correct, The answer accurately describes the METU OPEN as a significant event that promotes cultural heritage and community engagement in Turkey by bringing together a diverse group of participants and spectators, thus fostering cultural exchange through dance.)\n",
      "(Correct, The answer correctly reflects the context provided, which states that the organization aims to raise awareness among its members and the university community through social responsibility projects.)\n",
      "(Correct, ODTÜ HAT is indeed the abbreviation for ODTÜ Havacılık Topluluğu Yamaç Paraşütü Grubu, which was established in 1991 and has been operating under the ODTÜ Kültür İşleri Müdürlüğü until 2016 and then under the ODTÜ Spor Müdürlüğü since that time, as stated in the reference context.)\n",
      "(Correct, The answer accurately reflects the main goal of ODTÜ JONGLÖRLER TOPLULUĞU as described in the reference context, which includes performing shows within the school, conducting workshops on juggling and flow arts, and promoting the school and contemporary circus arts through various events.)\n",
      "(Correct, The answer accurately reflects the information provided in the reference context, including the name of the sports club and its purpose.)\n",
      "(Correct, The answer accurately describes ODTÜ SAS as the underwater sports student community of Orta Doğu Teknik Üniversitesi and details its achievements, activities, and the structure of its teams, all of which are supported by the reference context provided.)\n",
      "(Correct, The answer accurately describes the ODTÜ Sualtı Topluluğu's involvement in the Akdeniz Foku'nu Koruma Projesi, initiated in the late 1980s, and correctly highlights their broader mission related to ecological values and underwater heritage.)\n",
      "(Correct, The answer accurately describes the collaboration between the METU Aikido Community and the Eurasian Aikido Organization by highlighting their joint organization of the International Aikido Festival, including details about its duration, participation, and the aim of promoting Aikido.)\n",
      "(Incorrect, The answer does not address the broader cultural engagement and educational outreach objectives of the METU BRIDGE COMMUNITY as it only focuses on the specifics of learning bridge and competition participation. There is no mention of how these activities intersect with cultural preservation efforts, which is a key aspect of the question.)\n",
      "(Correct, The answer accurately summarizes the key points about both ODTÜ AİKİDO TOPLULUĞU and ODTÜ BRİÇ TOPLULUĞU, highlighting their goals, activities, and importance in promoting sports and individual development.)\n",
      "(Correct, The answer accurately reflects the role of sailing and maritime activities in fostering a connection between students and the sea, as described in the reference contexts. It highlights the importance of physical and mental development through sailing, teamwork, and community awareness, which aligns with the objectives of the METU Maritime and Sailing Community. Additionally, it emphasizes the connection to marine conservation, which is relevant to the context of a Marine Conservation Student.)\n",
      "(Correct, The answer accurately summarizes the activities and contributions of both ODTÜ DENİZCİLİK VE YELKEN TOPLULUĞU and ODTÜ İZCİLİK TOPLULUĞU based on the provided reference contexts. It highlights their goals, the types of training they offer, and how they contribute to the development of young individuals.)\n",
      "(Correct, The answer accurately describes the significance of the May 2012 Metucation show, highlighting its role in telling the story of METU, its popularity among dance enthusiasts, and the contributions of the METU Partner Dances Ensemble to the promotion of partner dances in Turkey.)\n",
      "(Correct, The answer accurately describes ODTÜ HAT as the ODTÜ Havacılık Topluluğu Yamaç Paraşütü Grubu founded in 1991 and its affiliation with ODTÜ Kültür İşleri Müdürlüğü and ODTÜ Spor Müdürlüğü. It also correctly outlines ODTÜ SAS as the Orta Doğu Teknik Üniversitesi Su Altı Sporları student club, mentioning its achievements, activities, and the various underwater sports teams associated with it.)\n",
      "(Correct, The answer accurately describes the significant contributions of the METU Underwater Community to the underwater cultural heritage in Antakya, specifically mentioning the discovery of two 1600-year-old sunken ships and glass ingots, which are indeed highlighted in the reference contexts as important archaeological contributions.)\n",
      "(Correct, The answer accurately summarizes the main activities and goals of the METU Scouting Community as described in the reference context, including their focus on promoting scouting, organizing events and camps, developing beneficial individuals, providing training in nature skills, and engaging in social responsibility projects.)\n",
      "(Correct, The answer accurately summarizes the main activities of both the METU Fencing Team and the METU Tennis Team as described in the reference contexts. The Fencing Team's focus on skill development and competition in intercollegiate tournaments is correctly stated, as is the Tennis Team's aim to improve skills and compete in university tournaments.)\n",
      "(Correct, The answer accurately describes how the METU Football and Korfball teams contribute to promoting physical endurance, teamwork, and equality within the university community. It highlights the focus of the Football Team on physical endurance and team spirit, as well as the Korfball Team's emphasis on equality and teamwork through mixed-gender participation and tournament involvement.)\n",
      "(Correct, The answer accurately describes how the METU Frisbee Team promotes teamwork through practices and tournaments, and how the METU Freediving Team engages with marine ecosystems by teaching diving techniques and organizing activities. It highlights the contributions of both teams to environmental awareness and teamwork among students.)\n",
      "(Correct, The answer accurately summarizes the objectives and activities of both the METU Wrestling and Tennis teams as described in the reference contexts. It highlights the focus on physical strength and technique for wrestling, and skill improvement and competition for tennis, while also noting their contributions to student engagement in sports through physical activity and competitive events.)\n",
      "(Correct, The answer accurately summarizes the main focuses and activities of both the METU Judo and Rugby teams as described in the reference contexts. It correctly identifies the Judo team's emphasis on technical abilities and competition, as well as the Rugby team's focus on endurance, teamwork, and competitive matches.)\n",
      "(Correct, The answer correctly identifies Inst. Sedat Canlı as the academic advisor for the AMATEUR ASTRONOMY CLUB and mentions his association with the Central Laboratory, which aligns with the information provided in the reference context.)\n",
      "(Correct, The answer accurately identifies Asst. Prof. Dr. Salih Özçubukçu's role as the Academic Advisor for the AMATEUR PHOTOGRAPHY SOCIETY, as stated in the reference context.)\n",
      "(Correct, The answer accurately identifies Assoc. Prof.Dr. Ulaş Yaman as the academic advisor for the RESEARCH AND DEVELOPMENT SOCIETY, as stated in the reference context.)\n",
      "(Correct, The answer is correct because the reference context explicitly states that the Society Room for the ARCHEOLOGICAL SOCIETY is located in the Societies Barrack.)\n",
      "(Correct, The answer accurately describes Dr. Ahmet Cemal Durgun's role as the Academic Advisor for ATATURK's THOUGHT CLUB and highlights how his guidance aligns with the club's objectives of understanding and promoting Atatürk's ideology and conducting research on his reforms.)\n",
      "(Correct, The answer accurately reflects the purpose of the EURASIA CLUB as described in the reference context, which is to foster interaction and support for students from the Caucasus and Central Asia in adapting to their new environment.)\n",
      "(Correct, The answer accurately describes the role of AEGEE-Ankara in promoting student engagement and its contribution to understanding Europe among young people, as it highlights the club's support for active participation, creation of dialogue spaces, representation of students, and efforts to strengthen mutual understanding of European values.)\n",
      "(Correct, The answer accurately reflects the objectives and activities of the EUROPEAN SOCIETY OF TECHNOLOGY STUDENTS as described in the reference context, including strengthening ties between students, providing information flow, creating solutions to educational problems, and following international developments.)\n",
      "(Correct, The answer accurately summarizes the role of the COMPUTER CLUB as described in the reference context, highlighting its aims to promote and train students in computer-related fields, address questions about computer science, and support students in keeping up with evolving technologies. It also correctly mentions the academic advisor and the club's location.)\n",
      "(Correct, The answer accurately identifies the role of the Department of Modern Languages as being represented by the academic advisor, Inst. Başak Kösereisoğlu, in the context of the SCIENCE FICTION AND FANTASY SOCIETY, which focuses on promoting fantasy as a literary genre and cultural art form.)\n",
      "(Correct, Assoc. Prof. Dr. Mehmet Somel is indeed mentioned as an Academic Advisor for the SCIENCE AND FUTURE SOCIETY at METU, and the description of the society aligns with the answer provided.)\n",
      "(Correct, The answer accurately identifies Asst. Prof.Dr. H.Özlen Demircan as the academic advisor and correctly describes their role in guiding the society's mission related to children's understanding of science and fostering curiosity.)\n",
      "(Correct, The answer accurately reflects the initiatives of the Biology and Genetics Society as described in the reference context, including promoting studies in Biology and related fields, providing a scientific environment, and making the topics more interesting for students and the community.)\n",
      "(Correct, The answer accurately identifies Assoc. Inst. Figen Işık as the Academic Advisor for the JAZZ CLUB and correctly outlines the club's objectives, which include providing jazz music education, creating a library, establishing an archive, promoting jazz music, and organizing courses.)\n",
      "(Correct, The answer accurately reflects the information provided in the reference context, which states that the club room for the CONTEMPORARY DANCE GROUP is located in the 9th Dormitory, Ground Floor.)\n",
      "(Correct, The answer accurately describes the roles of Asst. Prof. Dr. Salih Özçubukçu and Asst. Prof. Dr. Banu Cingöz Ulu as academic advisors for their respective student clubs, detailing how these clubs foster student engagement and creativity through various activities and support.)\n",
      "(Correct, The answer accurately summarizes the purpose of the SUSTAINABLE PRODUCTION SOCIETY as described in the reference context, highlighting its focus on research, development, and the use of environmentally friendly processes and systems.)\n",
      "(Correct, The answer accurately summarizes the main objectives of both the ATATURK's THOUGHT CLUB and the IEEE METU STUDENT SOCIETY as described in the reference contexts.)\n",
      "(Correct, The answer accurately identifies Instr. Dr. Taner Zorbay as the academic advisor for both the SCIENCE AND FUTURE SOCIETY and the COMMUNICATION CLUB, as stated in the reference contexts.)\n",
      "(Correct, Instr. Dr. Taner Zorbay is indeed listed as the Academic Advisor for both the SCIENCE AND FUTURE SOCIETY and the YOUNG RED CRESCENT SOCIETY, indicating that he provides guidance and support to these clubs in their respective missions.)\n",
      "(Correct, The answer accurately describes the objectives and activities of both the Children's Language of Science Society and the Education Club, highlighting their focus on engaging students and contributing to professional development within the context of education.)\n",
      "(Correct, The answer accurately summarizes the main objectives of the Productivity Club as described in the reference context, including its aims to enhance knowledge, support development, and facilitate communication among various stakeholders.)\n",
      "(Correct, The answer accurately describes the JAZZ CLUB and the INTERNATIONAL STUDENT CLUB, detailing their purposes and how they help students engage with each other and learn new things. The JAZZ CLUB focuses on music education and collaboration, while the INTERNATIONAL STUDENT CLUB fosters cultural exchange and support for international students, both contributing to a rich university experience.)\n",
      "(Correct, The answer accurately describes the objectives and activities of both the Jazz Club and the Design Society as outlined in the reference contexts. It highlights how each club contributes to student engagement and professional development through education, collaboration, and networking opportunities.)\n",
      "(Correct, The answer accurately describes the roles and contributions of both the FOREIGN POLICY AND INTERNATIONAL RELATIONS SOCIETY and the DEBATE CLUB as outlined in the reference contexts. It correctly identifies the aims of each club, their academic advisors, and their locations, providing a comprehensive overview of their significance in fostering engagement and professional development in international relations.)\n",
      "(Correct, The answer accurately reflects the aims of the FINE ARTS SOCIETY as described in the reference context, including its focus on social and cultural development through art, training members as researchers and creative individuals, and promoting fine arts at METU through various courses.)\n",
      "(Correct, The answer accurately summarizes the main goals of the CONSTRUCTION CLUB as stated in the reference context and correctly identifies its location.)\n",
      "(Correct, The answer accurately summarizes the goals and activities of both the FOOD SOCIETY and GEOLOGY CLUB as described in the reference contexts. It highlights the focus on personal development, awareness of the respective industries, and the support from academic advisors, aligning well with the provided information.)\n",
      "(Correct, The answer accurately describes the clubs in the Department of Mining Engineering and the Department of Industrial Engineering, including their goals, activities, academic advisors, and locations, as provided in the reference contexts.)\n",
      "(Correct, The answer accurately describes the two student clubs related to the Departments of Mining Engineering and Industrial Engineering, detailing their goals, activities, and the support they provide to students in engaging with their fields and each other.)\n"
     ]
    }
   ],
   "source": [
    "df = df[[\"user_input\",\"reference_contexts\",\"reference\"]]\n",
    "results = {}\n",
    "for index, row in df.iterrows():\n",
    "    row_dict = row.to_dict()\n",
    "    _r = rag_chain.invoke(row_dict)\n",
    "    results[index] = _r\n",
    "    print(_r)"
   ]
  },
  {
   "cell_type": "code",
   "execution_count": 36,
   "metadata": {},
   "outputs": [],
   "source": [
    "results_df = pd.DataFrame(list(results.items()), columns=['Index_of_df', 'Answer'])"
   ]
  },
  {
   "cell_type": "code",
   "execution_count": 38,
   "metadata": {},
   "outputs": [],
   "source": [
    "results_df.to_json('test_data_control_results.json', orient='records', lines=True)"
   ]
  },
  {
   "cell_type": "code",
   "execution_count": 39,
   "metadata": {},
   "outputs": [
    {
     "data": {
      "text/html": [
       "<div>\n",
       "<style scoped>\n",
       "    .dataframe tbody tr th:only-of-type {\n",
       "        vertical-align: middle;\n",
       "    }\n",
       "\n",
       "    .dataframe tbody tr th {\n",
       "        vertical-align: top;\n",
       "    }\n",
       "\n",
       "    .dataframe thead th {\n",
       "        text-align: right;\n",
       "    }\n",
       "</style>\n",
       "<table border=\"1\" class=\"dataframe\">\n",
       "  <thead>\n",
       "    <tr style=\"text-align: right;\">\n",
       "      <th></th>\n",
       "      <th>Index_of_df</th>\n",
       "      <th>Answer</th>\n",
       "    </tr>\n",
       "  </thead>\n",
       "  <tbody>\n",
       "    <tr>\n",
       "      <th>0</th>\n",
       "      <td>0</td>\n",
       "      <td>(Correct, The answer accurately reflects the i...</td>\n",
       "    </tr>\n",
       "    <tr>\n",
       "      <th>1</th>\n",
       "      <td>1</td>\n",
       "      <td>(Correct, The answer accurately reflects the i...</td>\n",
       "    </tr>\n",
       "    <tr>\n",
       "      <th>2</th>\n",
       "      <td>2</td>\n",
       "      <td>(Correct, The answer accurately reflects the i...</td>\n",
       "    </tr>\n",
       "    <tr>\n",
       "      <th>3</th>\n",
       "      <td>3</td>\n",
       "      <td>(Correct, The answer accurately reflects the i...</td>\n",
       "    </tr>\n",
       "    <tr>\n",
       "      <th>4</th>\n",
       "      <td>4</td>\n",
       "      <td>(Correct, The answer accurately reflects the i...</td>\n",
       "    </tr>\n",
       "    <tr>\n",
       "      <th>...</th>\n",
       "      <td>...</td>\n",
       "      <td>...</td>\n",
       "    </tr>\n",
       "    <tr>\n",
       "      <th>131</th>\n",
       "      <td>131</td>\n",
       "      <td>(Correct, The answer accurately reflects the a...</td>\n",
       "    </tr>\n",
       "    <tr>\n",
       "      <th>132</th>\n",
       "      <td>132</td>\n",
       "      <td>(Correct, The answer accurately summarizes the...</td>\n",
       "    </tr>\n",
       "    <tr>\n",
       "      <th>133</th>\n",
       "      <td>133</td>\n",
       "      <td>(Correct, The answer accurately summarizes the...</td>\n",
       "    </tr>\n",
       "    <tr>\n",
       "      <th>134</th>\n",
       "      <td>134</td>\n",
       "      <td>(Correct, The answer accurately describes the ...</td>\n",
       "    </tr>\n",
       "    <tr>\n",
       "      <th>135</th>\n",
       "      <td>135</td>\n",
       "      <td>(Correct, The answer accurately describes the ...</td>\n",
       "    </tr>\n",
       "  </tbody>\n",
       "</table>\n",
       "<p>136 rows × 2 columns</p>\n",
       "</div>"
      ],
      "text/plain": [
       "     Index_of_df                                             Answer\n",
       "0              0  (Correct, The answer accurately reflects the i...\n",
       "1              1  (Correct, The answer accurately reflects the i...\n",
       "2              2  (Correct, The answer accurately reflects the i...\n",
       "3              3  (Correct, The answer accurately reflects the i...\n",
       "4              4  (Correct, The answer accurately reflects the i...\n",
       "..           ...                                                ...\n",
       "131          131  (Correct, The answer accurately reflects the a...\n",
       "132          132  (Correct, The answer accurately summarizes the...\n",
       "133          133  (Correct, The answer accurately summarizes the...\n",
       "134          134  (Correct, The answer accurately describes the ...\n",
       "135          135  (Correct, The answer accurately describes the ...\n",
       "\n",
       "[136 rows x 2 columns]"
      ]
     },
     "execution_count": 39,
     "metadata": {},
     "output_type": "execute_result"
    }
   ],
   "source": [
    "results_df"
   ]
  },
  {
   "cell_type": "code",
   "execution_count": 40,
   "metadata": {},
   "outputs": [],
   "source": [
    "results_df[['Correctness', 'Details']] = results_df['Answer'].str.extract(r'\\((\\w+),\\s*(.*)\\)')"
   ]
  },
  {
   "cell_type": "code",
   "execution_count": 42,
   "metadata": {},
   "outputs": [
    {
     "data": {
      "text/plain": [
       "array(['Correct', 'Incorrect'], dtype=object)"
      ]
     },
     "execution_count": 42,
     "metadata": {},
     "output_type": "execute_result"
    }
   ],
   "source": [
    "results_df.Correctness.unique()"
   ]
  },
  {
   "cell_type": "code",
   "execution_count": 44,
   "metadata": {},
   "outputs": [],
   "source": [
    "correct_idx = results_df[results_df.Correctness == \"Correct\"].Index_of_df"
   ]
  },
  {
   "cell_type": "code",
   "execution_count": 46,
   "metadata": {},
   "outputs": [],
   "source": [
    "df.loc[correct_idx].to_pickle(\"controlled_test_data.pkl\")"
   ]
  },
  {
   "cell_type": "code",
   "execution_count": null,
   "metadata": {},
   "outputs": [],
   "source": []
  }
 ],
 "metadata": {
  "kernelspec": {
   "display_name": "DI502",
   "language": "python",
   "name": "python3"
  },
  "language_info": {
   "codemirror_mode": {
    "name": "ipython",
    "version": 3
   },
   "file_extension": ".py",
   "mimetype": "text/x-python",
   "name": "python",
   "nbconvert_exporter": "python",
   "pygments_lexer": "ipython3",
   "version": "3.10.4"
  }
 },
 "nbformat": 4,
 "nbformat_minor": 2
}
