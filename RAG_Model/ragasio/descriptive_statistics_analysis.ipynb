{
 "cells": [
  {
   "cell_type": "markdown",
   "id": "583898b1",
   "metadata": {},
   "source": [
    "# Descriptive Statistics and Visualizations for Dataset"
   ]
  },
  {
   "cell_type": "code",
   "execution_count": null,
   "id": "94762ed3",
   "metadata": {},
   "outputs": [],
   "source": [
    "# Import necessary libraries\n",
    "import pandas as pd\n",
    "import matplotlib.pyplot as plt\n",
    "\n",
    "# Load the dataset\n",
    "file_path = 'final_test_data_set.pkl'\n",
    "dataset = pd.read_pickle(file_path)\n",
    "\n",
    "# Display basic info\n",
    "dataset.info()\n",
    "dataset.head()"
   ]
  },
  {
   "cell_type": "markdown",
   "id": "d8eb7b0b",
   "metadata": {},
   "source": [
    "## Descriptive Statistics"
   ]
  },
  {
   "cell_type": "code",
   "execution_count": null,
   "id": "36f5d088",
   "metadata": {},
   "outputs": [],
   "source": [
    "# Generate descriptive statistics\n",
    "descriptive_stats = dataset.describe(include='all')\n",
    "print(descriptive_stats)"
   ]
  },
  {
   "cell_type": "markdown",
   "id": "a12ed35f",
   "metadata": {},
   "source": [
    "### General Statistics"
   ]
  },
  {
   "cell_type": "code",
   "execution_count": null,
   "id": "576e374e",
   "metadata": {},
   "outputs": [],
   "source": [
    "# Count number of unique questions\n",
    "unique_questions = dataset['user_input'].nunique()\n",
    "\n",
    "# Average number of contexts per question\n",
    "average_contexts = dataset['reference_contexts'].apply(lambda x: len(x)).mean()\n",
    "\n",
    "# Average context length in characters\n",
    "average_context_length = dataset['reference_contexts'].apply(lambda x: sum(len(ctx) for ctx in x) / len(x)).mean()\n",
    "\n",
    "# Average answer length in characters\n",
    "average_answer_length = dataset['reference'].apply(len).mean()\n",
    "\n",
    "# Display summary statistics\n",
    "summary_stats = pd.DataFrame({\n",
    "    'Number of Unique Questions': [unique_questions],\n",
    "    'Average Contexts per Question': [average_contexts],\n",
    "    'Average Context Length (characters)': [average_context_length],\n",
    "    'Average Answer Length (characters)': [average_answer_length]\n",
    "})\n",
    "\n",
    "print(summary_stats)"
   ]
  },
  {
   "cell_type": "markdown",
   "id": "955f3dba",
   "metadata": {},
   "source": [
    "## Visualizations"
   ]
  },
  {
   "cell_type": "markdown",
   "id": "452db3cc",
   "metadata": {},
   "source": [
    "### Distribution of User Input Lengths"
   ]
  },
  {
   "cell_type": "code",
   "execution_count": null,
   "id": "af8d53e7",
   "metadata": {},
   "outputs": [],
   "source": [
    "# Generate user input length histogram\n",
    "user_input_lengths = dataset['user_input'].apply(len)\n",
    "\n",
    "plt.figure(figsize=(10, 6))\n",
    "plt.hist(user_input_lengths, bins=20, edgecolor='black', color='#FFA500')\n",
    "plt.title('Distribution of User Input Lengths')\n",
    "plt.xlabel('Length of User Input')\n",
    "plt.ylabel('Frequency')\n",
    "plt.tight_layout()\n",
    "plt.show()"
   ]
  },
  {
   "cell_type": "markdown",
   "id": "3212d4e4",
   "metadata": {},
   "source": [
    "### Distribution of Topics"
   ]
  },
  {
   "cell_type": "code",
   "execution_count": null,
   "id": "f8bbc8b0",
   "metadata": {},
   "outputs": [],
   "source": [
    "# Calculate topic distribution\n",
    "topic_counts = dataset['topics'].value_counts()\n",
    "\n",
    "plt.figure(figsize=(10, 6))\n",
    "topic_counts.plot(kind='bar', color='#FFA500', edgecolor='black')\n",
    "plt.title('Distribution of Topics')\n",
    "plt.xlabel('Topics')\n",
    "plt.ylabel('Count')\n",
    "plt.xticks(rotation=45)\n",
    "plt.tight_layout()\n",
    "plt.show()"
   ]
  },
  {
   "cell_type": "markdown",
   "id": "b8976d62",
   "metadata": {},
   "source": [
    "### Distribution of Single-Hop vs Multi-Hop Queries"
   ]
  },
  {
   "cell_type": "code",
   "execution_count": null,
   "id": "c8b12452",
   "metadata": {},
   "outputs": [],
   "source": [
    "# Synthesizer Name distribution\n",
    "synth_counts = dataset['synthesizer_name'].value_counts()\n",
    "\n",
    "plt.figure(figsize=(10, 6))\n",
    "synth_counts.plot(kind='bar', color='#FFA500', edgecolor='black')\n",
    "plt.title('Distribution of Single-Hop vs Multi-Hop')\n",
    "plt.ylabel('Count')\n",
    "plt.xlabel('Synthesizer Name')\n",
    "plt.xticks(rotation=45)\n",
    "plt.tight_layout()\n",
    "plt.show()"
   ]
  },
  {
   "cell_type": "markdown",
   "id": "7dfbbb5d",
   "metadata": {},
   "source": [
    "### Distribution of Languages"
   ]
  },
  {
   "cell_type": "code",
   "execution_count": null,
   "id": "7dbd1d91",
   "metadata": {},
   "outputs": [],
   "source": [
    "# Language distribution\n",
    "language_counts = dataset['language'].value_counts()\n",
    "\n",
    "plt.figure(figsize=(10, 6))\n",
    "language_counts.plot(kind='bar', color='#FFA500', edgecolor='black')\n",
    "plt.title('Distribution of Languages')\n",
    "plt.ylabel('Count')\n",
    "plt.xlabel('Language')\n",
    "plt.xticks(rotation=0)\n",
    "plt.tight_layout()\n",
    "plt.show()"
   ]
  },
  {
   "cell_type": "markdown",
   "id": "b005e628",
   "metadata": {},
   "source": [
    "### Final Remarks"
   ]
  },
  {
   "cell_type": "markdown",
   "id": "8b94f2f7",
   "metadata": {},
   "source": [
    "This notebook summarizes the descriptive statistics and visualizations for the dataset, covering user input lengths, topic distributions, query types, and language distributions."
   ]
  }
 ],
 "metadata": {},
 "nbformat": 4,
 "nbformat_minor": 5
}
