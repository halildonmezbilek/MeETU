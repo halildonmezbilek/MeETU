{
 "cells": [
  {
   "cell_type": "code",
   "execution_count": 1,
   "metadata": {},
   "outputs": [
    {
     "name": "stderr",
     "output_type": "stream",
     "text": [
      "/home/halil/.pyenv/versions/DI502/lib/python3.10/site-packages/tqdm/auto.py:21: TqdmWarning: IProgress not found. Please update jupyter and ipywidgets. See https://ipywidgets.readthedocs.io/en/stable/user_install.html\n",
      "  from .autonotebook import tqdm as notebook_tqdm\n"
     ]
    }
   ],
   "source": [
    "import time\n",
    "from bert_score import score as bert_score\n",
    "from rouge_score import rouge_scorer\n",
    "import pandas as pd\n",
    "from model import initialize_components, evaluate_performance, generate_response\n",
    "file_path = '/home/halil/Desktop/MeETU/Data/FAQs_eng_sythetic_questions.xlsx'\n",
    "\n",
    "df = pd.read_excel(file_path)\n"
   ]
  },
  {
   "cell_type": "code",
   "execution_count": 2,
   "metadata": {},
   "outputs": [
    {
     "name": "stderr",
     "output_type": "stream",
     "text": [
      "llama_model_loader: loaded meta data with 33 key-value pairs and 292 tensors from models/Meta-Llama-3.1-8B-Instruct-Q5_K_M.gguf (version GGUF V3 (latest))\n",
      "llama_model_loader: Dumping metadata keys/values. Note: KV overrides do not apply in this output.\n",
      "llama_model_loader: - kv   0:                       general.architecture str              = llama\n",
      "llama_model_loader: - kv   1:                               general.type str              = model\n",
      "llama_model_loader: - kv   2:                               general.name str              = Meta Llama 3.1 8B Instruct\n",
      "llama_model_loader: - kv   3:                           general.finetune str              = Instruct\n",
      "llama_model_loader: - kv   4:                           general.basename str              = Meta-Llama-3.1\n",
      "llama_model_loader: - kv   5:                         general.size_label str              = 8B\n",
      "llama_model_loader: - kv   6:                            general.license str              = llama3.1\n",
      "llama_model_loader: - kv   7:                               general.tags arr[str,6]       = [\"facebook\", \"meta\", \"pytorch\", \"llam...\n",
      "llama_model_loader: - kv   8:                          general.languages arr[str,8]       = [\"en\", \"de\", \"fr\", \"it\", \"pt\", \"hi\", ...\n",
      "llama_model_loader: - kv   9:                          llama.block_count u32              = 32\n",
      "llama_model_loader: - kv  10:                       llama.context_length u32              = 131072\n",
      "llama_model_loader: - kv  11:                     llama.embedding_length u32              = 4096\n",
      "llama_model_loader: - kv  12:                  llama.feed_forward_length u32              = 14336\n",
      "llama_model_loader: - kv  13:                 llama.attention.head_count u32              = 32\n",
      "llama_model_loader: - kv  14:              llama.attention.head_count_kv u32              = 8\n",
      "llama_model_loader: - kv  15:                       llama.rope.freq_base f32              = 500000.000000\n",
      "llama_model_loader: - kv  16:     llama.attention.layer_norm_rms_epsilon f32              = 0.000010\n",
      "llama_model_loader: - kv  17:                          general.file_type u32              = 17\n",
      "llama_model_loader: - kv  18:                           llama.vocab_size u32              = 128256\n",
      "llama_model_loader: - kv  19:                 llama.rope.dimension_count u32              = 128\n",
      "llama_model_loader: - kv  20:                       tokenizer.ggml.model str              = gpt2\n",
      "llama_model_loader: - kv  21:                         tokenizer.ggml.pre str              = llama-bpe\n",
      "llama_model_loader: - kv  22:                      tokenizer.ggml.tokens arr[str,128256]  = [\"!\", \"\\\"\", \"#\", \"$\", \"%\", \"&\", \"'\", ...\n",
      "llama_model_loader: - kv  23:                  tokenizer.ggml.token_type arr[i32,128256]  = [1, 1, 1, 1, 1, 1, 1, 1, 1, 1, 1, 1, ...\n",
      "llama_model_loader: - kv  24:                      tokenizer.ggml.merges arr[str,280147]  = [\"Ġ Ġ\", \"Ġ ĠĠĠ\", \"ĠĠ ĠĠ\", \"...\n",
      "llama_model_loader: - kv  25:                tokenizer.ggml.bos_token_id u32              = 128000\n",
      "llama_model_loader: - kv  26:                tokenizer.ggml.eos_token_id u32              = 128009\n",
      "llama_model_loader: - kv  27:                    tokenizer.chat_template str              = {{- bos_token }}\\n{%- if custom_tools ...\n",
      "llama_model_loader: - kv  28:               general.quantization_version u32              = 2\n",
      "llama_model_loader: - kv  29:                      quantize.imatrix.file str              = /models_out/Meta-Llama-3.1-8B-Instruc...\n",
      "llama_model_loader: - kv  30:                   quantize.imatrix.dataset str              = /training_dir/calibration_datav3.txt\n",
      "llama_model_loader: - kv  31:             quantize.imatrix.entries_count i32              = 224\n",
      "llama_model_loader: - kv  32:              quantize.imatrix.chunks_count i32              = 125\n",
      "llama_model_loader: - type  f32:   66 tensors\n",
      "llama_model_loader: - type q5_K:  193 tensors\n",
      "llama_model_loader: - type q6_K:   33 tensors\n",
      "llm_load_vocab: special tokens cache size = 256\n",
      "llm_load_vocab: token to piece cache size = 0.7999 MB\n",
      "llm_load_print_meta: format           = GGUF V3 (latest)\n",
      "llm_load_print_meta: arch             = llama\n",
      "llm_load_print_meta: vocab type       = BPE\n",
      "llm_load_print_meta: n_vocab          = 128256\n",
      "llm_load_print_meta: n_merges         = 280147\n",
      "llm_load_print_meta: vocab_only       = 0\n",
      "llm_load_print_meta: n_ctx_train      = 131072\n",
      "llm_load_print_meta: n_embd           = 4096\n",
      "llm_load_print_meta: n_layer          = 32\n",
      "llm_load_print_meta: n_head           = 32\n",
      "llm_load_print_meta: n_head_kv        = 8\n",
      "llm_load_print_meta: n_rot            = 128\n",
      "llm_load_print_meta: n_swa            = 0\n",
      "llm_load_print_meta: n_embd_head_k    = 128\n",
      "llm_load_print_meta: n_embd_head_v    = 128\n",
      "llm_load_print_meta: n_gqa            = 4\n",
      "llm_load_print_meta: n_embd_k_gqa     = 1024\n",
      "llm_load_print_meta: n_embd_v_gqa     = 1024\n",
      "llm_load_print_meta: f_norm_eps       = 0.0e+00\n",
      "llm_load_print_meta: f_norm_rms_eps   = 1.0e-05\n",
      "llm_load_print_meta: f_clamp_kqv      = 0.0e+00\n",
      "llm_load_print_meta: f_max_alibi_bias = 0.0e+00\n",
      "llm_load_print_meta: f_logit_scale    = 0.0e+00\n",
      "llm_load_print_meta: n_ff             = 14336\n",
      "llm_load_print_meta: n_expert         = 0\n",
      "llm_load_print_meta: n_expert_used    = 0\n",
      "llm_load_print_meta: causal attn      = 1\n",
      "llm_load_print_meta: pooling type     = 0\n",
      "llm_load_print_meta: rope type        = 0\n",
      "llm_load_print_meta: rope scaling     = linear\n",
      "llm_load_print_meta: freq_base_train  = 500000.0\n",
      "llm_load_print_meta: freq_scale_train = 1\n",
      "llm_load_print_meta: n_ctx_orig_yarn  = 131072\n",
      "llm_load_print_meta: rope_finetuned   = unknown\n",
      "llm_load_print_meta: ssm_d_conv       = 0\n",
      "llm_load_print_meta: ssm_d_inner      = 0\n",
      "llm_load_print_meta: ssm_d_state      = 0\n",
      "llm_load_print_meta: ssm_dt_rank      = 0\n",
      "llm_load_print_meta: ssm_dt_b_c_rms   = 0\n",
      "llm_load_print_meta: model type       = 8B\n",
      "llm_load_print_meta: model ftype      = Q5_K - Medium\n",
      "llm_load_print_meta: model params     = 8.03 B\n",
      "llm_load_print_meta: model size       = 5.33 GiB (5.70 BPW) \n",
      "llm_load_print_meta: general.name     = Meta Llama 3.1 8B Instruct\n",
      "llm_load_print_meta: BOS token        = 128000 '<|begin_of_text|>'\n",
      "llm_load_print_meta: EOS token        = 128009 '<|eot_id|>'\n",
      "llm_load_print_meta: LF token         = 128 'Ä'\n",
      "llm_load_print_meta: EOT token        = 128009 '<|eot_id|>'\n",
      "llm_load_print_meta: EOM token        = 128008 '<|eom_id|>'\n",
      "llm_load_print_meta: EOG token        = 128008 '<|eom_id|>'\n",
      "llm_load_print_meta: EOG token        = 128009 '<|eot_id|>'\n",
      "llm_load_print_meta: max token length = 256\n",
      "llm_load_tensors: ggml ctx size =    0.14 MiB\n",
      "llm_load_tensors:        CPU buffer size =  5459.93 MiB\n",
      ".........................................................................................\n",
      "llama_new_context_with_model: n_ctx      = 512\n",
      "llama_new_context_with_model: n_batch    = 512\n",
      "llama_new_context_with_model: n_ubatch   = 512\n",
      "llama_new_context_with_model: flash_attn = 0\n",
      "llama_new_context_with_model: freq_base  = 500000.0\n",
      "llama_new_context_with_model: freq_scale = 1\n",
      "llama_kv_cache_init:        CPU KV buffer size =    64.00 MiB\n",
      "llama_new_context_with_model: KV self size  =   64.00 MiB, K (f16):   32.00 MiB, V (f16):   32.00 MiB\n",
      "llama_new_context_with_model:        CPU  output buffer size =     0.49 MiB\n",
      "llama_new_context_with_model:        CPU compute buffer size =   258.50 MiB\n",
      "llama_new_context_with_model: graph nodes  = 1030\n",
      "llama_new_context_with_model: graph splits = 1\n",
      "AVX = 1 | AVX_VNNI = 1 | AVX2 = 1 | AVX512 = 0 | AVX512_VBMI = 0 | AVX512_VNNI = 0 | AVX512_BF16 = 0 | FMA = 1 | NEON = 0 | SVE = 0 | ARM_FMA = 0 | F16C = 1 | FP16_VA = 0 | RISCV_VECT = 0 | WASM_SIMD = 0 | BLAS = 0 | SSE3 = 1 | SSSE3 = 1 | VSX = 0 | MATMUL_INT8 = 0 | LLAMAFILE = 1 | \n",
      "Model metadata: {'quantize.imatrix.entries_count': '224', 'quantize.imatrix.dataset': '/training_dir/calibration_datav3.txt', 'quantize.imatrix.chunks_count': '125', 'quantize.imatrix.file': '/models_out/Meta-Llama-3.1-8B-Instruct-GGUF/Meta-Llama-3.1-8B-Instruct.imatrix', 'tokenizer.chat_template': '{{- bos_token }}\\n{%- if custom_tools is defined %}\\n    {%- set tools = custom_tools %}\\n{%- endif %}\\n{%- if not tools_in_user_message is defined %}\\n    {%- set tools_in_user_message = true %}\\n{%- endif %}\\n{%- if not date_string is defined %}\\n    {%- set date_string = \"26 Jul 2024\" %}\\n{%- endif %}\\n{%- if not tools is defined %}\\n    {%- set tools = none %}\\n{%- endif %}\\n\\n{#- This block extracts the system message, so we can slot it into the right place. #}\\n{%- if messages[0][\\'role\\'] == \\'system\\' %}\\n    {%- set system_message = messages[0][\\'content\\']|trim %}\\n    {%- set messages = messages[1:] %}\\n{%- else %}\\n    {%- set system_message = \"\" %}\\n{%- endif %}\\n\\n{#- System message + builtin tools #}\\n{{- \"<|start_header_id|>system<|end_header_id|>\\\\n\\\\n\" }}\\n{%- if builtin_tools is defined or tools is not none %}\\n    {{- \"Environment: ipython\\\\n\" }}\\n{%- endif %}\\n{%- if builtin_tools is defined %}\\n    {{- \"Tools: \" + builtin_tools | reject(\\'equalto\\', \\'code_interpreter\\') | join(\", \") + \"\\\\n\\\\n\"}}\\n{%- endif %}\\n{{- \"Cutting Knowledge Date: December 2023\\\\n\" }}\\n{{- \"Today Date: \" + date_string + \"\\\\n\\\\n\" }}\\n{%- if tools is not none and not tools_in_user_message %}\\n    {{- \"You have access to the following functions. To call a function, please respond with JSON for a function call.\" }}\\n    {{- \\'Respond in the format {\"name\": function name, \"parameters\": dictionary of argument name and its value}.\\' }}\\n    {{- \"Do not use variables.\\\\n\\\\n\" }}\\n    {%- for t in tools %}\\n        {{- t | tojson(indent=4) }}\\n        {{- \"\\\\n\\\\n\" }}\\n    {%- endfor %}\\n{%- endif %}\\n{{- system_message }}\\n{{- \"<|eot_id|>\" }}\\n\\n{#- Custom tools are passed in a user message with some extra guidance #}\\n{%- if tools_in_user_message and not tools is none %}\\n    {#- Extract the first user message so we can plug it in here #}\\n    {%- if messages | length != 0 %}\\n        {%- set first_user_message = messages[0][\\'content\\']|trim %}\\n        {%- set messages = messages[1:] %}\\n    {%- else %}\\n        {{- raise_exception(\"Cannot put tools in the first user message when there\\'s no first user message!\") }}\\n{%- endif %}\\n    {{- \\'<|start_header_id|>user<|end_header_id|>\\\\n\\\\n\\' -}}\\n    {{- \"Given the following functions, please respond with a JSON for a function call \" }}\\n    {{- \"with its proper arguments that best answers the given prompt.\\\\n\\\\n\" }}\\n    {{- \\'Respond in the format {\"name\": function name, \"parameters\": dictionary of argument name and its value}.\\' }}\\n    {{- \"Do not use variables.\\\\n\\\\n\" }}\\n    {%- for t in tools %}\\n        {{- t | tojson(indent=4) }}\\n        {{- \"\\\\n\\\\n\" }}\\n    {%- endfor %}\\n    {{- first_user_message + \"<|eot_id|>\"}}\\n{%- endif %}\\n\\n{%- for message in messages %}\\n    {%- if not (message.role == \\'ipython\\' or message.role == \\'tool\\' or \\'tool_calls\\' in message) %}\\n        {{- \\'<|start_header_id|>\\' + message[\\'role\\'] + \\'<|end_header_id|>\\\\n\\\\n\\'+ message[\\'content\\'] | trim + \\'<|eot_id|>\\' }}\\n    {%- elif \\'tool_calls\\' in message %}\\n        {%- if not message.tool_calls|length == 1 %}\\n            {{- raise_exception(\"This model only supports single tool-calls at once!\") }}\\n        {%- endif %}\\n        {%- set tool_call = message.tool_calls[0].function %}\\n        {%- if builtin_tools is defined and tool_call.name in builtin_tools %}\\n            {{- \\'<|start_header_id|>assistant<|end_header_id|>\\\\n\\\\n\\' -}}\\n            {{- \"<|python_tag|>\" + tool_call.name + \".call(\" }}\\n            {%- for arg_name, arg_val in tool_call.arguments | items %}\\n                {{- arg_name + \\'=\"\\' + arg_val + \\'\"\\' }}\\n                {%- if not loop.last %}\\n                    {{- \", \" }}\\n                {%- endif %}\\n                {%- endfor %}\\n            {{- \")\" }}\\n        {%- else  %}\\n            {{- \\'<|start_header_id|>assistant<|end_header_id|>\\\\n\\\\n\\' -}}\\n            {{- \\'{\"name\": \"\\' + tool_call.name + \\'\", \\' }}\\n            {{- \\'\"parameters\": \\' }}\\n            {{- tool_call.arguments | tojson }}\\n            {{- \"}\" }}\\n        {%- endif %}\\n        {%- if builtin_tools is defined %}\\n            {#- This means we\\'re in ipython mode #}\\n            {{- \"<|eom_id|>\" }}\\n        {%- else %}\\n            {{- \"<|eot_id|>\" }}\\n        {%- endif %}\\n    {%- elif message.role == \"tool\" or message.role == \"ipython\" %}\\n        {{- \"<|start_header_id|>ipython<|end_header_id|>\\\\n\\\\n\" }}\\n        {%- if message.content is mapping or message.content is iterable %}\\n            {{- message.content | tojson }}\\n        {%- else %}\\n            {{- message.content }}\\n        {%- endif %}\\n        {{- \"<|eot_id|>\" }}\\n    {%- endif %}\\n{%- endfor %}\\n{%- if add_generation_prompt %}\\n    {{- \\'<|start_header_id|>assistant<|end_header_id|>\\\\n\\\\n\\' }}\\n{%- endif %}\\n', 'tokenizer.ggml.eos_token_id': '128009', 'general.quantization_version': '2', 'tokenizer.ggml.model': 'gpt2', 'llama.rope.dimension_count': '128', 'llama.vocab_size': '128256', 'general.file_type': '17', 'llama.attention.layer_norm_rms_epsilon': '0.000010', 'llama.rope.freq_base': '500000.000000', 'general.architecture': 'llama', 'general.basename': 'Meta-Llama-3.1', 'tokenizer.ggml.bos_token_id': '128000', 'llama.attention.head_count': '32', 'tokenizer.ggml.pre': 'llama-bpe', 'llama.context_length': '131072', 'general.name': 'Meta Llama 3.1 8B Instruct', 'general.finetune': 'Instruct', 'general.type': 'model', 'general.size_label': '8B', 'general.license': 'llama3.1', 'llama.feed_forward_length': '14336', 'llama.embedding_length': '4096', 'llama.block_count': '32', 'llama.attention.head_count_kv': '8'}\n",
      "Available chat formats from metadata: chat_template.default\n",
      "Using gguf chat template: {{- bos_token }}\n",
      "{%- if custom_tools is defined %}\n",
      "    {%- set tools = custom_tools %}\n",
      "{%- endif %}\n",
      "{%- if not tools_in_user_message is defined %}\n",
      "    {%- set tools_in_user_message = true %}\n",
      "{%- endif %}\n",
      "{%- if not date_string is defined %}\n",
      "    {%- set date_string = \"26 Jul 2024\" %}\n",
      "{%- endif %}\n",
      "{%- if not tools is defined %}\n",
      "    {%- set tools = none %}\n",
      "{%- endif %}\n",
      "\n",
      "{#- This block extracts the system message, so we can slot it into the right place. #}\n",
      "{%- if messages[0]['role'] == 'system' %}\n",
      "    {%- set system_message = messages[0]['content']|trim %}\n",
      "    {%- set messages = messages[1:] %}\n",
      "{%- else %}\n",
      "    {%- set system_message = \"\" %}\n",
      "{%- endif %}\n",
      "\n",
      "{#- System message + builtin tools #}\n",
      "{{- \"<|start_header_id|>system<|end_header_id|>\\n\\n\" }}\n",
      "{%- if builtin_tools is defined or tools is not none %}\n",
      "    {{- \"Environment: ipython\\n\" }}\n",
      "{%- endif %}\n",
      "{%- if builtin_tools is defined %}\n",
      "    {{- \"Tools: \" + builtin_tools | reject('equalto', 'code_interpreter') | join(\", \") + \"\\n\\n\"}}\n",
      "{%- endif %}\n",
      "{{- \"Cutting Knowledge Date: December 2023\\n\" }}\n",
      "{{- \"Today Date: \" + date_string + \"\\n\\n\" }}\n",
      "{%- if tools is not none and not tools_in_user_message %}\n",
      "    {{- \"You have access to the following functions. To call a function, please respond with JSON for a function call.\" }}\n",
      "    {{- 'Respond in the format {\"name\": function name, \"parameters\": dictionary of argument name and its value}.' }}\n",
      "    {{- \"Do not use variables.\\n\\n\" }}\n",
      "    {%- for t in tools %}\n",
      "        {{- t | tojson(indent=4) }}\n",
      "        {{- \"\\n\\n\" }}\n",
      "    {%- endfor %}\n",
      "{%- endif %}\n",
      "{{- system_message }}\n",
      "{{- \"<|eot_id|>\" }}\n",
      "\n",
      "{#- Custom tools are passed in a user message with some extra guidance #}\n",
      "{%- if tools_in_user_message and not tools is none %}\n",
      "    {#- Extract the first user message so we can plug it in here #}\n",
      "    {%- if messages | length != 0 %}\n",
      "        {%- set first_user_message = messages[0]['content']|trim %}\n",
      "        {%- set messages = messages[1:] %}\n",
      "    {%- else %}\n",
      "        {{- raise_exception(\"Cannot put tools in the first user message when there's no first user message!\") }}\n",
      "{%- endif %}\n",
      "    {{- '<|start_header_id|>user<|end_header_id|>\\n\\n' -}}\n",
      "    {{- \"Given the following functions, please respond with a JSON for a function call \" }}\n",
      "    {{- \"with its proper arguments that best answers the given prompt.\\n\\n\" }}\n",
      "    {{- 'Respond in the format {\"name\": function name, \"parameters\": dictionary of argument name and its value}.' }}\n",
      "    {{- \"Do not use variables.\\n\\n\" }}\n",
      "    {%- for t in tools %}\n",
      "        {{- t | tojson(indent=4) }}\n",
      "        {{- \"\\n\\n\" }}\n",
      "    {%- endfor %}\n",
      "    {{- first_user_message + \"<|eot_id|>\"}}\n",
      "{%- endif %}\n",
      "\n",
      "{%- for message in messages %}\n",
      "    {%- if not (message.role == 'ipython' or message.role == 'tool' or 'tool_calls' in message) %}\n",
      "        {{- '<|start_header_id|>' + message['role'] + '<|end_header_id|>\\n\\n'+ message['content'] | trim + '<|eot_id|>' }}\n",
      "    {%- elif 'tool_calls' in message %}\n",
      "        {%- if not message.tool_calls|length == 1 %}\n",
      "            {{- raise_exception(\"This model only supports single tool-calls at once!\") }}\n",
      "        {%- endif %}\n",
      "        {%- set tool_call = message.tool_calls[0].function %}\n",
      "        {%- if builtin_tools is defined and tool_call.name in builtin_tools %}\n",
      "            {{- '<|start_header_id|>assistant<|end_header_id|>\\n\\n' -}}\n",
      "            {{- \"<|python_tag|>\" + tool_call.name + \".call(\" }}\n",
      "            {%- for arg_name, arg_val in tool_call.arguments | items %}\n",
      "                {{- arg_name + '=\"' + arg_val + '\"' }}\n",
      "                {%- if not loop.last %}\n",
      "                    {{- \", \" }}\n",
      "                {%- endif %}\n",
      "                {%- endfor %}\n",
      "            {{- \")\" }}\n",
      "        {%- else  %}\n",
      "            {{- '<|start_header_id|>assistant<|end_header_id|>\\n\\n' -}}\n",
      "            {{- '{\"name\": \"' + tool_call.name + '\", ' }}\n",
      "            {{- '\"parameters\": ' }}\n",
      "            {{- tool_call.arguments | tojson }}\n",
      "            {{- \"}\" }}\n",
      "        {%- endif %}\n",
      "        {%- if builtin_tools is defined %}\n",
      "            {#- This means we're in ipython mode #}\n",
      "            {{- \"<|eom_id|>\" }}\n",
      "        {%- else %}\n",
      "            {{- \"<|eot_id|>\" }}\n",
      "        {%- endif %}\n",
      "    {%- elif message.role == \"tool\" or message.role == \"ipython\" %}\n",
      "        {{- \"<|start_header_id|>ipython<|end_header_id|>\\n\\n\" }}\n",
      "        {%- if message.content is mapping or message.content is iterable %}\n",
      "            {{- message.content | tojson }}\n",
      "        {%- else %}\n",
      "            {{- message.content }}\n",
      "        {%- endif %}\n",
      "        {{- \"<|eot_id|>\" }}\n",
      "    {%- endif %}\n",
      "{%- endfor %}\n",
      "{%- if add_generation_prompt %}\n",
      "    {{- '<|start_header_id|>assistant<|end_header_id|>\\n\\n' }}\n",
      "{%- endif %}\n",
      "\n",
      "Using chat eos_token: <|eot_id|>\n",
      "Using chat bos_token: <|begin_of_text|>\n"
     ]
    }
   ],
   "source": [
    "retriever, wrapped_llm = initialize_components()"
   ]
  },
  {
   "cell_type": "code",
   "execution_count": 3,
   "metadata": {},
   "outputs": [
    {
     "name": "stderr",
     "output_type": "stream",
     "text": [
      "llama_perf_context_print:        load time =   19814.44 ms\n",
      "llama_perf_context_print: prompt eval time =       0.00 ms /   395 tokens (    0.00 ms per token,      inf tokens per second)\n",
      "llama_perf_context_print:        eval time =       0.00 ms /   116 runs   (    0.00 ms per token,      inf tokens per second)\n",
      "llama_perf_context_print:       total time =   32086.36 ms /   511 tokens\n"
     ]
    },
    {
     "name": "stdout",
     "output_type": "stream",
     "text": [
      "As a prospective student of Middle East Technical University (METU), I'm happy to help you with any questions you may have, including connecting to the university's wireless network.\n",
      "\n",
      "**Connecting to METU's Wireless Network:**\n",
      "\n",
      "To connect to METU's wireless network, you'll need to follow these steps:\n",
      "\n",
      "1. **Ensure your device is compatible:** Make sure your laptop, tablet, or mobile device is equipped with a wireless network adapter that supports Wi-Fi (802.11ac or higher).\n",
      "2. **Obtain a METU username and password:** If you're a newly\n"
     ]
    }
   ],
   "source": [
    "_respoonse = generate_response(retriever, wrapped_llm, \"wifi ye nasıl bağlanabilirim?\")\n",
    "print(_respoonse)"
   ]
  },
  {
   "cell_type": "code",
   "execution_count": 4,
   "metadata": {},
   "outputs": [
    {
     "name": "stderr",
     "output_type": "stream",
     "text": [
      "Llama.generate: 34 prefix-match hit, remaining 200 prompt tokens to eval\n",
      "llama_perf_context_print:        load time =   19814.44 ms\n",
      "llama_perf_context_print: prompt eval time =       0.00 ms /   200 tokens (    0.00 ms per token,      inf tokens per second)\n",
      "llama_perf_context_print:        eval time =       0.00 ms /   149 runs   (    0.00 ms per token,      inf tokens per second)\n",
      "llama_perf_context_print:       total time =   32012.98 ms /   349 tokens\n",
      "Some weights of RobertaModel were not initialized from the model checkpoint at roberta-large and are newly initialized: ['roberta.pooler.dense.bias', 'roberta.pooler.dense.weight']\n",
      "You should probably TRAIN this model on a down-stream task to be able to use it for predictions and inference.\n"
     ]
    },
    {
     "name": "stdout",
     "output_type": "stream",
     "text": [
      "{'generated_response': \"To connect to the eduroam network at METU using your Windows 10 device without installing any program:\\n\\n1.  Open the 'Network and Sharing Center' by searching for it in your Start menu or by typing 'Network and Sharing Center' in your search bar. \\n2.  Click 'Change adapter options'. \\n3.  Right-click on your Wi-Fi network and select 'Properties'. \\n4.  Click on the 'Security' tab. \\n5.  In the 'Choose a network authentication method' list, select 'PEAP' and select 'Microsoft: Smart Card or other Certificate'. \\n6.  Then click on 'Configure' and in 'PEAP settings', select 'secured password' as the authentication\", 'response_time': 32.01630115509033, 'precision_at_1': 1, 'bert_score': 0.845115065574646, 'rouge_l_score': 0.17687074829931973, 'id': 0, 'synthetic_question': 'How do I connect to the eduroam network at METU using my Windows 10 device without installing any program?', 'ground_truth_answer': '\\n\\nIf you are using Windows 10, then you do not need to install a program.\\nIn the list of wireless networks, please select eduroam and use your usercode and password to connect. Do not forget to add @metu.edu.tr to the usercode (like username@metu.edu.tr)\\n\\n', 'link': 'https://faq.cc.metu.edu.tr/faq/how-can-i-connect-eduroam-wireless-network-using-my-windows-10-computer'}\n"
     ]
    },
    {
     "name": "stderr",
     "output_type": "stream",
     "text": [
      "Llama.generate: 34 prefix-match hit, remaining 367 prompt tokens to eval\n",
      "llama_perf_context_print:        load time =   19814.44 ms\n",
      "llama_perf_context_print: prompt eval time =       0.00 ms /   367 tokens (    0.00 ms per token,      inf tokens per second)\n",
      "llama_perf_context_print:        eval time =       0.00 ms /   110 runs   (    0.00 ms per token,      inf tokens per second)\n",
      "llama_perf_context_print:       total time =   35100.31 ms /   477 tokens\n",
      "Some weights of RobertaModel were not initialized from the model checkpoint at roberta-large and are newly initialized: ['roberta.pooler.dense.bias', 'roberta.pooler.dense.weight']\n",
      "You should probably TRAIN this model on a down-stream task to be able to use it for predictions and inference.\n"
     ]
    },
    {
     "name": "stdout",
     "output_type": "stream",
     "text": [
      "{'generated_response': \"I'm here to help. You're experiencing some trouble setting up a remote desktop connection to access your computer on the Middle East Technical University (METU) campus from outside. Don't worry, I'm here to guide you through the process.\\n\\nAs you mentioned, the default port 3389 is closed for security reasons, which is why you can't connect remotely. However, you can change the port number to establish a secure remote desktop connection.\\n\\nTo do this, follow these steps:\\n\\n1. **Access the Registry Editor**: Press the Windows key +\", 'response_time': 35.10369539260864, 'precision_at_1': 1, 'bert_score': 0.8469405174255371, 'rouge_l_score': 0.12807881773399016, 'id': 5, 'synthetic_question': 'Why cant I connect to my computer at METU remotely, and what steps should I take to resolve this issue?', 'ground_truth_answer': '\\n\\nIf you are having trouble setting up a remote desktop connection, it may be possible for two reasons.\\na) The port number used for the connection should be changed\\nb) There is a problem with the remote desktop connection settings or the username\\n\\na) The port number used for the connection should be changed\\nSome security measures has been taken about the port 3389 which is used for remote desktop connection to METU campus. Port 3389 keeps closed two-way (campus in and out) because of security reasons. In order to connect to your computer at METU from outside the campus using remote desktop connection, you should change the remote desktop port number for both of the computers. There are two ways to do so:\\nSelect Start > Run > regedit. On \"Registry Editor\" select HKEY_LOCAL_MACHINE \\\\ System \\\\ CurrentControlSet \\\\ Control \\\\ TerminalServer \\\\ WinStations \\\\ RDP-Tcp and change the \"PortNumber\" with any unused port number between 1025 and 65535.\\n\\nThen, you should give permission to this port number on Windows Firewall. For\\xa0Windows 7, select Control Panel > System and Security > Windows Firewall > Advanced Settings. For Windows 10, select Start > Windows Administrative Tools > Windows Defender Firewall with Advanced Security.\\nFrom the menu on the left side, select Outbound Rules on the computer you are using remote desktop connection, Inbound Rules on the computer you are going to connect remotely. Then click New Rule on the right. If you are going to use both computers to be connected remotely, you should create both inbound and outbound rules on both computers.\\n\\n\\nOn \"New Outbound Rule Wizard\", select Port as the rule type and click Next. On the next screen choose the protocol as TCP and write down the port number you have defined.\\n\\n\\nThen, select Allow the connection and click Next. Finally, specify a name for the rule and click Finish\\n\\n\\nIf you are using a firewall software other than Windows Firewall, you should give permissions to the port number on that software.\\nTo activate the settings restart the computers. For using remote desktop connection, write down the computer name as IP:port number.\\n\\nb) There is a problem with the remote desktop connection settings or the username\\nThe username that should be entered for the remote desktop connection may not be the same as the username when computer is turned on. If you are having trouble making a remote desktop connection to your computer, it is necessary to check that the username. To do this, the you should start the Task Manager (press \"Ctrl + Alt + Delete\" and choose \"Start Task Manager\" or press right click on the taskbar and choose \"Start Task Manager\") and check the username on the \"Users\" tab.\\n\\n\\nBy establishing a remote connection you should use this username.\\n\\nIf there is a version difference with the remote desktop connection provided between the two computers (eg, trying to connect a Windows 7 computer from a Windows XP computer), you should choose \"Allow connections from computers running any version of Remote Desktop (less secure)\" from the remote desktop connection settings. You could access these settings from \"Remote\" tab in the \"System Properties\".\\n\\n\\n\\xa0\\n\\n', 'link': 'https://faq.cc.metu.edu.tr/faq/i-cannot-make-remote-desktop-connection-what-should-i-do'}\n"
     ]
    },
    {
     "name": "stderr",
     "output_type": "stream",
     "text": [
      "Llama.generate: 34 prefix-match hit, remaining 138 prompt tokens to eval\n",
      "llama_perf_context_print:        load time =   19814.44 ms\n",
      "llama_perf_context_print: prompt eval time =       0.00 ms /   138 tokens (    0.00 ms per token,      inf tokens per second)\n",
      "llama_perf_context_print:        eval time =       0.00 ms /   189 runs   (    0.00 ms per token,      inf tokens per second)\n",
      "llama_perf_context_print:       total time =   26602.71 ms /   327 tokens\n",
      "Some weights of RobertaModel were not initialized from the model checkpoint at roberta-large and are newly initialized: ['roberta.pooler.dense.bias', 'roberta.pooler.dense.weight']\n",
      "You should probably TRAIN this model on a down-stream task to be able to use it for predictions and inference.\n"
     ]
    },
    {
     "name": "stdout",
     "output_type": "stream",
     "text": [
      "{'generated_response': \"The File Transfer Protocol (FTP) Service of METU Computer Center is an essential resource for students, providing a secure and convenient way to transfer files between their personal devices and METU's servers. \\n\\nMETU's FTP service is a network service that allows users to transfer files to and from their personal computer and the central server of the Computer Center. \\n\\nTo access the FTP Service of METU Computer Center:\\n\\n1. **Username and Password:** First, you need to have a valid username and password. Your username is usually your METU email address without '@metu.edu.tr,' and your password is the same password you use to log in to the METU computer or access other university services.\\n\\n2. **FTP Client:** You will need an FTP client to connect to the server. Popular choices include FileZilla, WinSCP, or the built-in File Transfer in macOS and Windows. For a more user-friendly experience, you can use File\", 'response_time': 26.606326818466187, 'precision_at_1': 1, 'bert_score': 0.813515841960907, 'rouge_l_score': 0.05952380952380952, 'id': 9, 'synthetic_question': 'What is the FTP Service of METU Computer Center and how can I access it?', 'ground_truth_answer': '\\n\\nFor more information about FTP Service of METU CC\\xa0please click here.\\n\\n', 'link': 'https://faq.cc.metu.edu.tr/faq/there-ftp-service-metu-cc'}\n"
     ]
    },
    {
     "name": "stderr",
     "output_type": "stream",
     "text": [
      "Llama.generate: 115 prefix-match hit, remaining 46 prompt tokens to eval\n",
      "llama_perf_context_print:        load time =   19814.44 ms\n",
      "llama_perf_context_print: prompt eval time =       0.00 ms /    46 tokens (    0.00 ms per token,      inf tokens per second)\n",
      "llama_perf_context_print:        eval time =       0.00 ms /   203 runs   (    0.00 ms per token,      inf tokens per second)\n",
      "llama_perf_context_print:       total time =   25894.00 ms /   249 tokens\n",
      "Some weights of RobertaModel were not initialized from the model checkpoint at roberta-large and are newly initialized: ['roberta.pooler.dense.bias', 'roberta.pooler.dense.weight']\n",
      "You should probably TRAIN this model on a down-stream task to be able to use it for predictions and inference.\n"
     ]
    },
    {
     "name": "stdout",
     "output_type": "stream",
     "text": [
      "{'generated_response': \"You're referring to METU-NET, which is the wireless network provided by the Middle East Technical University (METU) to facilitate internet access on campus. METU-NET is a secure and reliable network that allows students, faculty members, and staff to access the internet from any location within the university.\\n\\nMETU-NET is designed to provide a stable and secure internet connection for users. Here are some key features of METU-NET:\\n\\n1.  **Authentication:** METU-NET uses a secure authentication system, which requires users to enter their username and password to access the network.\\n2.  **Encryption:** METU-NET uses WPA2 encryption, which ensures the secure transmission of data between the user's device and the network.\\n3.  **Internet Access:** METU-NET provides access to the internet, enabling users to browse the web, send emails, and access various online resources.\\n\\nYou can find more information about METU-NET and its usage at the following places:\\n\\n1\", 'response_time': 25.897528886795044, 'precision_at_1': 0, 'bert_score': 0.8321095108985901, 'rouge_l_score': 0.07185628742514971, 'id': 11, 'synthetic_question': ' What is METU-NET and where can I find more information about it?', 'ground_truth_answer': '\\n\\nFor more information about METU Campus Backbone (METU-NET) please\\xa0click here.\\n\\n', 'link': 'https://faq.cc.metu.edu.tr/faq/what-about-metu-campus-backbone-metu-net-statistics'}\n"
     ]
    },
    {
     "name": "stderr",
     "output_type": "stream",
     "text": [
      "Llama.generate: 34 prefix-match hit, remaining 369 prompt tokens to eval\n",
      "llama_perf_context_print:        load time =   19814.44 ms\n",
      "llama_perf_context_print: prompt eval time =       0.00 ms /   369 tokens (    0.00 ms per token,      inf tokens per second)\n",
      "llama_perf_context_print:        eval time =       0.00 ms /   108 runs   (    0.00 ms per token,      inf tokens per second)\n",
      "llama_perf_context_print:       total time =   37644.34 ms /   477 tokens\n",
      "Some weights of RobertaModel were not initialized from the model checkpoint at roberta-large and are newly initialized: ['roberta.pooler.dense.bias', 'roberta.pooler.dense.weight']\n",
      "You should probably TRAIN this model on a down-stream task to be able to use it for predictions and inference.\n"
     ]
    },
    {
     "name": "stdout",
     "output_type": "stream",
     "text": [
      "{'generated_response': \"Hello there! I'm excited to help you find the MAC (physical) address of your computer's wireless adapter, which is an essential piece of information, especially since it's used for authenticating with the cable network services at METU's dormitories.\\n\\nAs you're planning to attend Middle East Technical University, I'm happy to guide you through the process. \\n\\nSince you've asked about the MAC address, I'll provide the steps for both Windows and MAC OSX operating systems.\\n\\n**For Windows Operating Systems:**\\n\\n1. To find the MAC\", 'response_time': 37.6480278968811, 'precision_at_1': 1, 'bert_score': 0.834497332572937, 'rouge_l_score': 0.18354430379746833, 'id': 17, 'synthetic_question': 'What command should I use in Windows or Mac OSX to find my wireless network adapters MAC address?', 'ground_truth_answer': '\\n\\nMAC (Media Access Control) address defines the network interface hardware of a network device or a computer on a computer network. It is a hexadecimal expression that can contain numbers between 0-9 and letters between A-F. Each network interface (Ethernet, wireless, bluetooth etc) has a unique MAC address.\\nAn authentication system based on MAC address runs on the cable network services at the dormitories of METU Campus. To connect wireless network of METU (meturoam) you can follow\\xa0https://faq.cc.metu.edu.tr/tr/sss/meturoam guideline.\\nFor Windows operating systems;\\nTo open the command prompt window select;\\nStart > All Programs > Accessories > Command Prompt\\nor;\\nStart > Run > cmd\\nand click OK. Write down the command getmac /v and press Enter. MAC address of your wireless network adapter is on the line Wireless Network Connection on Physical Address column.\\n\\nUsing the command ipconfig /all on command prompt window, you can also find the MAC address of your wireless network adapter on the line Physical Address under Wireless LAN adapter Wireless Network Connection, as well as some network information such as IP address etc.\\n\\n\\xa0\\nFor MAC OSX operating systems;\\nSelect;\\nApple > System Preferences > Network\\nChoose AirPort on the list of connection points on the left side and click Advanced.\\n\\nSelect AirPort tab. MAC address of your wireless network adapter is on the line AirPort ID.\\n\\n\\n', 'link': 'https://faq.cc.metu.edu.tr/faq/how-can-i-find-out-mac-physical-address-wireless-adapter-my-computer'}\n"
     ]
    },
    {
     "name": "stderr",
     "output_type": "stream",
     "text": [
      "Llama.generate: 34 prefix-match hit, remaining 186 prompt tokens to eval\n",
      "llama_perf_context_print:        load time =   19814.44 ms\n",
      "llama_perf_context_print: prompt eval time =       0.00 ms /   186 tokens (    0.00 ms per token,      inf tokens per second)\n",
      "llama_perf_context_print:        eval time =       0.00 ms /   148 runs   (    0.00 ms per token,      inf tokens per second)\n",
      "llama_perf_context_print:       total time =   30864.75 ms /   334 tokens\n",
      "Some weights of RobertaModel were not initialized from the model checkpoint at roberta-large and are newly initialized: ['roberta.pooler.dense.bias', 'roberta.pooler.dense.weight']\n",
      "You should probably TRAIN this model on a down-stream task to be able to use it for predictions and inference.\n"
     ]
    },
    {
     "name": "stdout",
     "output_type": "stream",
     "text": [
      "{'generated_response': \"However, I want to clarify that the main purpose of our conversation was to provide information about the Middle East Technical University (METU). \\n\\nIf you are a prospective student or a student at METU, I'd be happy to assist you with any questions about the university.\\n\\nHowever, for your question about finding the MAC Address of your Nintendo DS:\\n\\nTo locate the MAC Address of your Nintendo DS, you will need a WiFi-enabled game for the Nintendo DS, then follow these steps:\\n1. Go to the Nintendo WiFi Connection Setup in the game's menu.\\n2. Select Options.\\n3. Select System Information.\\n4. The MAC Address is displayed on the top line.\\n\\nIf you have any questions about METU, I'd be happy to\", 'response_time': 30.868338584899902, 'precision_at_1': 1, 'bert_score': 0.9073980450630188, 'rouge_l_score': 0.5568181818181819, 'id': 19, 'synthetic_question': 'How can I find the MAC Address of my Nintendo DS using a WiFi-enabled game?', 'ground_truth_answer': \"\\n\\nTo locate the MAC Address of your Nintendo DS, you will need a WiFi-enabled game for the Nintendo DS, then follow these steps:\\nGo to the Nintendo WiFi Connection Setup in the game's menu.\\nSelect Options and System Information.\\nThe MAC Address is displayed on the top line.\\n \\n\", 'link': 'https://faq.cc.metu.edu.tr/faq/how-can-i-find-out-mac-physical-address-nintendo-ds'}\n"
     ]
    },
    {
     "name": "stderr",
     "output_type": "stream",
     "text": [
      "Llama.generate: 128 prefix-match hit, remaining 87 prompt tokens to eval\n",
      "llama_perf_context_print:        load time =   19814.44 ms\n",
      "llama_perf_context_print: prompt eval time =       0.00 ms /    87 tokens (    0.00 ms per token,      inf tokens per second)\n",
      "llama_perf_context_print:        eval time =       0.00 ms /   161 runs   (    0.00 ms per token,      inf tokens per second)\n",
      "llama_perf_context_print:       total time =   23498.65 ms /   248 tokens\n",
      "Some weights of RobertaModel were not initialized from the model checkpoint at roberta-large and are newly initialized: ['roberta.pooler.dense.bias', 'roberta.pooler.dense.weight']\n",
      "You should probably TRAIN this model on a down-stream task to be able to use it for predictions and inference.\n"
     ]
    },
    {
     "name": "stdout",
     "output_type": "stream",
     "text": [
      "{'generated_response': 'It seems you\\'re looking for the MAC address on your Windows device, not the physical address of Middle East Technical University. However, I\\'ll provide you with the necessary steps. If you\\'re having trouble finding the MAC address, I\\'ll also be here to guide you through it.\\n\\nTo locate the MAC address on your Windows device:\\n\\n1. Go to your phone\\'s Start menu by tapping on the Start button.\\n2. Swipe down to find the App list.\\n3. Tap on the Settings icon.\\n4. Tap on \"About\" or \"System\" (it might be labeled differently depending on your device).\\n5. Scroll down to find \"More info\" or \"About phone\" (this might be located at the bottom of the screen).\\n6. You should see your device\\'s MAC address listed under \"', 'response_time': 23.50206685066223, 'precision_at_1': 1, 'bert_score': 0.8546537756919861, 'rouge_l_score': 0.26666666666666666, 'id': 23, 'synthetic_question': 'How can I find the MAC address of my Windows Mobile device at Middle East Technical University?', 'ground_truth_answer': '\\n\\nTo locate the MAC Address of your Windows Mobile device, follow these steps:\\nOn\\xa0Start, click left to the\\xa0App\\xa0list. \\xa0\\nTap\\xa0Settings, then\\xa0About, then\\xa0More info.  \\xa0\\nNote the MAC Address.\\n \\n', 'link': 'https://faq.cc.metu.edu.tr/faq/how-can-i-find-out-mac-physical-address-windows-mobile-device'}\n"
     ]
    },
    {
     "name": "stderr",
     "output_type": "stream",
     "text": [
      "Llama.generate: 118 prefix-match hit, remaining 242 prompt tokens to eval\n",
      "llama_perf_context_print:        load time =   19814.44 ms\n",
      "llama_perf_context_print: prompt eval time =       0.00 ms /   242 tokens (    0.00 ms per token,      inf tokens per second)\n",
      "llama_perf_context_print:        eval time =       0.00 ms /    54 runs   (    0.00 ms per token,      inf tokens per second)\n",
      "llama_perf_context_print:       total time =   22378.60 ms /   296 tokens\n",
      "Some weights of RobertaModel were not initialized from the model checkpoint at roberta-large and are newly initialized: ['roberta.pooler.dense.bias', 'roberta.pooler.dense.weight']\n",
      "You should probably TRAIN this model on a down-stream task to be able to use it for predictions and inference.\n"
     ]
    },
    {
     "name": "stdout",
     "output_type": "stream",
     "text": [
      "{'generated_response': \"Don't worry if you find yourself in this situation! If your computer's IP access has been restricted at Middle East Technical University (METU), there are a few steps you can follow to resolve the issue.\\n\\nHere's what you can do:\\n\\n1. **Check the status\", 'response_time': 22.381768703460693, 'precision_at_1': 0, 'bert_score': 0.8390226364135742, 'rouge_l_score': 0.16949152542372883, 'id': 26, 'synthetic_question': 'What should I do if my computers IP access has been restricted at Middle East Technical University (METU), and how can I remove the restriction using the netregister.metu.edu.tr website?', 'ground_truth_answer': \"\\n\\nIf your computer's IP access has been restricted, you should first remove the cause of the problem which can be found on the list at www.netregister.metu.edu.tr -> Restiriction.\\nIn order to remove the network restriction on which IP-MAC matching is in use, such as dormitories, some departments and METU wireless network, sign in to www.netregister.metu.edu.tr with your user name and password. \\xa0 \\xa0\\xa0 If the IP access of a device which is registered to your use account is restricted, click\\xa0 Restriction(s) which is displayed on the screen.\\xa0 \\xa0 \\xa0\\xa0 You can see the restricted MAC address on the next screen. Click Details to see the details. \\xa0 \\xa0\\xa0 If you solve the problem that caused restriction click Remove Restriction to reactivate the MAC address. You can only do this once on the same day. \\xa0 \\xa0\\xa0 If you cannot see the Remove Restriction button, there may be a serious situation that you must talk to METU-CC. In this case open a support ticket via\\xa0https://itsupport.metu.edu.tr/\\xa0including\\xa0your MAC address.\\nThen you will receive a message that your IP restriction has been removed. \\xa0 \\n\\n\", 'link': 'https://faq.cc.metu.edu.tr/faq/what-should-i-do-reactivate-ip-access-my-computer'}\n"
     ]
    },
    {
     "name": "stderr",
     "output_type": "stream",
     "text": [
      "Llama.generate: 118 prefix-match hit, remaining 141 prompt tokens to eval\n",
      "llama_perf_context_print:        load time =   19814.44 ms\n",
      "llama_perf_context_print: prompt eval time =       0.00 ms /   141 tokens (    0.00 ms per token,      inf tokens per second)\n",
      "llama_perf_context_print:        eval time =       0.00 ms /   137 runs   (    0.00 ms per token,      inf tokens per second)\n",
      "llama_perf_context_print:       total time =   21806.00 ms /   278 tokens\n",
      "Some weights of RobertaModel were not initialized from the model checkpoint at roberta-large and are newly initialized: ['roberta.pooler.dense.bias', 'roberta.pooler.dense.weight']\n",
      "You should probably TRAIN this model on a down-stream task to be able to use it for predictions and inference.\n"
     ]
    },
    {
     "name": "stdout",
     "output_type": "stream",
     "text": [
      "{'generated_response': 'Connecting to the eduroam network at METU is a straightforward process that can be completed in a few steps using your iPhone. Here\\'s a step-by-step guide to help you connect:\\n\\n1. **Download the eduroam configuration file**: Open the Safari browser on your iPhone and navigate to the METU website. Click on the link to download the eduroam configuration file for iOS devices.\\n\\n2. **Install the configuration file**: Once the file has been downloaded, go to your iPhone\\'s \"Settings\" app, then tap on \"General\" and scroll down to \"Profiles.\" Tap on \"Imported\" and select the \"metu_eduroam.mobileconfig\" file to', 'response_time': 21.809539318084717, 'precision_at_1': 1, 'bert_score': 0.8717713356018066, 'rouge_l_score': 0.29069767441860467, 'id': 29, 'synthetic_question': 'How can I connect to eduroam at Middle East Technical University using my iPhone?', 'ground_truth_answer': '\\n\\nYou can connect to eduroam by downloading and executing the configuration file to your iOS device.\\nDownload configuration file for iOS devices via Safari webbrowser. Then please install downloaded config file (metu_eduroam.mobileconfig) from setting screen of Iphone device (settings-general-profile).\\xa0 After installation has been completed, select the eduroam wireless network to connect.\\nOn User Account\\xa0option screen,\\xa0user_namemetu.edu.tr\\xa0and password should be entered.\\n\\xa0\\n\\n', 'link': 'https://faq.cc.metu.edu.tr/faq/how-can-i-connect-eduroam-wireless-network-my-iphone'}\n"
     ]
    },
    {
     "name": "stderr",
     "output_type": "stream",
     "text": [
      "Llama.generate: 115 prefix-match hit, remaining 105 prompt tokens to eval\n",
      "llama_perf_context_print:        load time =   19814.44 ms\n",
      "llama_perf_context_print: prompt eval time =       0.00 ms /   105 tokens (    0.00 ms per token,      inf tokens per second)\n",
      "llama_perf_context_print:        eval time =       0.00 ms /   173 runs   (    0.00 ms per token,      inf tokens per second)\n",
      "llama_perf_context_print:       total time =   23454.92 ms /   278 tokens\n",
      "Some weights of RobertaModel were not initialized from the model checkpoint at roberta-large and are newly initialized: ['roberta.pooler.dense.bias', 'roberta.pooler.dense.weight']\n",
      "You should probably TRAIN this model on a down-stream task to be able to use it for predictions and inference.\n"
     ]
    },
    {
     "name": "stdout",
     "output_type": "stream",
     "text": [
      "{'generated_response': 'I\\'d be happy to help you with that.\\n\\nIf you\\'re a METU student and you\\'ve forgotten your eduroam password, here are the steps you can follow to regain access:\\n\\n1. Visit the METU IT Support website, specifically the Frequently Asked Questions (FAQ) section at http://faq.cc.metu.edu.tr/\\n2. Click on the question \"I forgot my password - Where can I apply?\" in the password management section.\\n3. Follow the instructions on the webpage to reset your password. This may involve verifying your identity, answering security questions, or providing additional information.\\n\\nOnce you\\'ve reset your password, you should be able to connect to the eduroam network using your METU usercode and your new password. \\n\\nIf you need further assistance or have any difficulties with the password reset process, I recommend contacting the METU IT Support team', 'response_time': 23.458308935165405, 'precision_at_1': 1, 'bert_score': 0.876386284828186, 'rouge_l_score': 0.2458100558659218, 'id': 32, 'synthetic_question': 'How can I connect to the eduroam network at Middle East Technical University (METU) if I forget my password?', 'ground_truth_answer': '\\n\\nTo connect to the eduroam network, you need to use your METU usercode and password. If you cannot remember your password, please visit\\xa0http://faq.cc.metu.edu.tr/faq/i-forgot-my-password-where-can-i-apply\\n\\n', 'link': 'https://faq.cc.metu.edu.tr/faq/i-forgot-eduroam-password-what-can-i-do'}\n"
     ]
    },
    {
     "name": "stderr",
     "output_type": "stream",
     "text": [
      "Llama.generate: 115 prefix-match hit, remaining 69 prompt tokens to eval\n",
      "llama_perf_context_print:        load time =   19814.44 ms\n",
      "llama_perf_context_print: prompt eval time =       0.00 ms /    69 tokens (    0.00 ms per token,      inf tokens per second)\n",
      "llama_perf_context_print:        eval time =       0.00 ms /   157 runs   (    0.00 ms per token,      inf tokens per second)\n",
      "llama_perf_context_print:       total time =   25177.10 ms /   226 tokens\n",
      "Some weights of RobertaModel were not initialized from the model checkpoint at roberta-large and are newly initialized: ['roberta.pooler.dense.bias', 'roberta.pooler.dense.weight']\n",
      "You should probably TRAIN this model on a down-stream task to be able to use it for predictions and inference.\n"
     ]
    },
    {
     "name": "stdout",
     "output_type": "stream",
     "text": [
      "{'generated_response': \"As a prospective student at Middle East Technical University (METU), you're interested in learning more about eduroam. You can easily find the up-to-date list of Turkish institutions that are members of eduroam on the official eduroam Türkiye website. I recommend visiting the following link to access this information:\\n\\nhttps://eduroam.tr\\n\\nYou can browse through the list to see which Turkish institutions are part of the eduroam network, allowing you to connect to the internet securely across campuses nationwide.\\n\\nBy the way, as a METU student, you'll be able to enjoy convenient and secure internet connectivity through eduroam, which will be a great asset for both academic and personal purposes.\\n\\nIf you have any more questions or need further assistance, feel free to ask!\", 'response_time': 25.180524587631226, 'precision_at_1': 1, 'bert_score': 0.8715931177139282, 'rouge_l_score': 0.18543046357615894, 'id': 37, 'synthetic_question': 'Where can I find the list of Turkish institutions that are members of eduroam?', 'ground_truth_answer': \"\\n\\n\\neduroam member institutions\\n\\xa0You can access the up to date list of Turkish participant institutions through eduroam Türkiye's web site.\\n\\n\\n\", 'link': 'https://faq.cc.metu.edu.tr/faq/who-are-turkiye-eduroam-members'}\n"
     ]
    },
    {
     "name": "stderr",
     "output_type": "stream",
     "text": [
      "Llama.generate: 34 prefix-match hit, remaining 384 prompt tokens to eval\n",
      "llama_perf_context_print:        load time =   19814.44 ms\n",
      "llama_perf_context_print: prompt eval time =       0.00 ms /   384 tokens (    0.00 ms per token,      inf tokens per second)\n",
      "llama_perf_context_print:        eval time =       0.00 ms /    93 runs   (    0.00 ms per token,      inf tokens per second)\n",
      "llama_perf_context_print:       total time =   29565.17 ms /   477 tokens\n",
      "Some weights of RobertaModel were not initialized from the model checkpoint at roberta-large and are newly initialized: ['roberta.pooler.dense.bias', 'roberta.pooler.dense.weight']\n",
      "You should probably TRAIN this model on a down-stream task to be able to use it for predictions and inference.\n"
     ]
    },
    {
     "name": "stdout",
     "output_type": "stream",
     "text": [
      "{'generated_response': \"To connect to the internet from your dormitory at Middle East Technical University (METU), follow these steps:\\n\\n1. **Register with the dormitory manager**: The first step is for your dormitory manager to register you in the dormitory automation system. This process usually happens during the registration to the dormitories, but if you're already staying in the dorm, make sure to check with your dormitory manager to confirm your registration.\\n\\n2. **Sign in to the\", 'response_time': 29.568612813949585, 'precision_at_1': 1, 'bert_score': 0.848702609539032, 'rouge_l_score': 0.11864406779661017, 'id': 41, 'synthetic_question': 'How do I register for the local cable network if Im staying in a dormitory at Middle East Technical University (METU)?', 'ground_truth_answer': '\\n\\nFor the users who stay in the dormitories and want to use the local cable network, the first step is that the dormitory manager registers the user in the dormitory automation system.\\nThis process is conducted by the manager of the dormitories for each student during the registration to the dormitories. After the dormitory manager completes the registration, users have to sign in with their central system user name and password at\\xa0https://netregister.metu.edu.tr\\nUsers can obtain access to the cable network after entering their MAC address information in Wired Network\\xa0menu in netregister.metu.edu.tr\\nUsers stay in the summer time dormitories should be sure about their dormitory registration made for right dormitory. To do this, they can consult their dormitory manager or Directorate of Dormitories (2nd dormitory building) to get information. If users are not registered to any dormitory or their registration was made to wrong dormitory, they won\\'t be able to make their own wired network registration on the netregister interface (https://netregister.metu.edu.tr/).\\nNote: Since DHCP is used (i.e. recognized automatically) in all dormitories, the users in the dormitories can connect to the internet after completing all the steps defined above. They do not have to enter TCP/IP settings. Moreover, users who stay in those dormitories can also reach\\xa0https://netregister.metu.edu.tr\\xa0through local cable network before registration in order to complete their registration.\\nSteps, in order to be connected to the internet after obtaining IP address information, are as follows:\\nBe sure that your computer recognizes your Ethernet card. You can find it by clicking right to the computer icon, choosing properties, then device manager and network card. If your computer recognizes Ethernet card, that is, the right software is installed, you can continue without any problem. If there is an exclamation mark on the device icon, that means your computer does not recognize the Ethernet card. Then, you have to install the right software.\\nNext step is the configuration of TCP/IP settings. Click right on the computer icon on the desktop, choose properties, then TCP/IP settings, and then choose properties. You can complete the settings by selecting \"Obtain automatically\" \\xa0in the relevant boxes and then clicking OK. Almost in all Windows operating systems, the configuration of TCP/IP settings is conducted similarly.\\nLastly, in order to connect to the cable network, it is necessary to obtain a UTP network cable from electronic stores. \\xa0You should measure the distance between the location of your computer and network plug. After connecting the UTP network cable to your computer and plug, you should be able to connect to METU cable network.\\nIt is suggested for the users who utilize network connection in the dormitory regions to read the Dormitory Rooms Computer Network Rules.\\n\\n\\n\\n\\n\\nYou can visit https://faq.cc.metu.edu.tr/faq/how-can-i-find-out-about-source-my-network-connection-failure-dormitories\\xa0if you have any problems connecting to the cable network. You can also\\xa0send an IT support request via https://itsupport.metu.edu.tr\\n\\n\\n\\n\\n\\n\\n', 'link': 'https://faq.cc.metu.edu.tr/faq/how-can-i-connect-internet-dormitories'}\n"
     ]
    },
    {
     "name": "stderr",
     "output_type": "stream",
     "text": [
      "Llama.generate: 116 prefix-match hit, remaining 280 prompt tokens to eval\n",
      "llama_perf_context_print:        load time =   19814.44 ms\n",
      "llama_perf_context_print: prompt eval time =       0.00 ms /   280 tokens (    0.00 ms per token,      inf tokens per second)\n",
      "llama_perf_context_print:        eval time =       0.00 ms /   115 runs   (    0.00 ms per token,      inf tokens per second)\n",
      "llama_perf_context_print:       total time =   24487.34 ms /   395 tokens\n",
      "Some weights of RobertaModel were not initialized from the model checkpoint at roberta-large and are newly initialized: ['roberta.pooler.dense.bias', 'roberta.pooler.dense.weight']\n",
      "You should probably TRAIN this model on a down-stream task to be able to use it for predictions and inference.\n"
     ]
    },
    {
     "name": "stdout",
     "output_type": "stream",
     "text": [
      "{'generated_response': \"I'm happy to help you set up the METU VPN service on your Windows device. \\n\\nTo use the METU VPN service on your Windows OS installed device, you'll need to follow these steps:\\n\\n1. **Login to netregister.metu.edu.tr**: First, go to the METU registration system and login to your account using your username and password.\\n2. **Download the VPN installation file**: After logging in, click on the VPN service option and download the installation file for your Windows operating system.\\n3. **Run the setup process**: Start the setup process by\", 'response_time': 24.490673542022705, 'precision_at_1': 1, 'bert_score': 0.8505932092666626, 'rouge_l_score': 0.20270270270270266, 'id': 55, 'synthetic_question': 'How can I set up the VPN Service on my Windows OS device to access METUs campus network resources when Im outside the campus, and what should I do after the setup is complete?', 'ground_truth_answer': '\\n\\n\\nWith METU VPN Service, by installing a packaged program (VPN Client) on personal computers and/or mobile devices, our members and students could access to our campus network resources when they are outside the campus.\\n\\nWarning: For users using VPN, the connection speed per user is defined as 8 Mbps. For this reason, in the cases that VPN connection is not necessary it is recommended that you disconnect from your VPN connection.\\nTo use VPN Service on your Windows OS installed device follow these steps:\\nLogin to netregister.metu.edu.tr\\nClick VPN service and download the installation file for your Operating System.\\nThen start the setup process.\\n\\n\\nOn the first screen click on Next option to start the setup process. Then continue by clicking Next buttons.\\n\\n\\n\\n\\nAfter you check the License Agreement, click on Next button.\\n\\n\\n\\n\\n\\n\\n\\n\\n\\n\\n\\nAfter you choose where to setup VPN software, click on Next button.\\n\\nContinue to setup by clicking on Install button.\\n\\n\\nClick on Finish button to finish installation process.\\n\\nAfter the VPN software launched,\\xa0Click on \"Click to download VPN profile\" button.\\n\\nThen fill in the blanks accordingly. You should write\\xa0border.metu.edu.tr\\xa0in the field Enter VPN Server URL. When you finish, click on Download button.\\n\\nSelect default profile.\\n\\n\\nThen write your METU username -which is like e000000 (or your usercode if you are a METU personnel)- in the Username field and write your password in the Password field. When you finish, click on Proceed button.\\n\\nNow you are connected to Metu VPN Network.After your login, application may be minimized into System Tray. You can bring the application to the foreground by double clicking. When you finish your work with Metu VPN connection you can right click on the symbol of the software in System Tray and click on Disconnect option.\\nIf you are having issue with VPN program and connection you can visit\\xa0https://faq.cc.metu.edu.tr/faq/i-cannot-connect-vpn-service-even-if-i-en... and https://faq.cc.metu.edu.tr/faq/i-have-problems-installing-vpn-services-w... addresses to get more information.\\xa0\\xa0\\n\\n', 'link': 'https://faq.cc.metu.edu.tr/faq/how-can-i-use-metu-vpn-service-windows-os-installed-devices'}\n"
     ]
    },
    {
     "name": "stderr",
     "output_type": "stream",
     "text": [
      "Llama.generate: 34 prefix-match hit, remaining 277 prompt tokens to eval\n",
      "llama_perf_context_print:        load time =   19814.44 ms\n",
      "llama_perf_context_print: prompt eval time =       0.00 ms /   277 tokens (    0.00 ms per token,      inf tokens per second)\n",
      "llama_perf_context_print:        eval time =       0.00 ms /   110 runs   (    0.00 ms per token,      inf tokens per second)\n",
      "llama_perf_context_print:       total time =   24057.82 ms /   387 tokens\n",
      "Some weights of RobertaModel were not initialized from the model checkpoint at roberta-large and are newly initialized: ['roberta.pooler.dense.bias', 'roberta.pooler.dense.weight']\n",
      "You should probably TRAIN this model on a down-stream task to be able to use it for predictions and inference.\n"
     ]
    },
    {
     "name": "stdout",
     "output_type": "stream",
     "text": [
      "{'generated_response': 'To clear your current VPN profile in Aruba VIA, download a new one from the METU server, and connect to METU VPN, follow these steps:\\n\\n1. **Delete your current VPN profile in Aruba VIA**:\\n   - Open Aruba VIA on your device.\\n   - Click on the \"Settings\" icon. This might be represented by a small gear or cogwheel icon.\\n   - In the settings menu, click on the \"VPN Profiles\" tab.\\n   - Click on the \"Clear Profiles\" button.\\n   - From the list', 'response_time': 24.061458110809326, 'precision_at_1': 1, 'bert_score': 0.8619281053543091, 'rouge_l_score': 0.22222222222222224, 'id': 57, 'synthetic_question': 'How do I clear my current VPN profile in Aruba VIA, download a new one from the METU server, and connect to METU VPN>?', 'ground_truth_answer': '\\n\\nOpen Aruba VIA and click \"Settings\" icon.\\n\\nClick on \"VPN Profiles\" tab and click\\xa0 \"Clear Profiles\".\\n\\nSelect current profile \"UserController1\" from the list and click\\xa0 \"-\" icon.\\n\\nConfirm the process. Click\\xa0 \"Continue\".\\n\\nClick\\xa0 \"Cancel\" to return \"VPN Profile Download\" section.\\n\\n\"Click to download VPN Profile\".\\n\\nEnter the \"border.metu.edu.tr\" url. Click\\xa0 \"Download\" button.\\n\\nSelect \"default\" profile from the list. \\n\\nEnter your \"username\" and \"password\". Click\\xa0 \"Proceed\". Download the profile.\\n\\nReboot your computer and open again Aruba-VIA. Enter your \"username\" and \"password\" to connect METU VPN.\\n\\n\\n', 'link': 'https://faq.cc.metu.edu.tr/faq/how-delete-vpn-profiles'}\n"
     ]
    },
    {
     "name": "stderr",
     "output_type": "stream",
     "text": [
      "Llama.generate: 117 prefix-match hit, remaining 94 prompt tokens to eval\n",
      "llama_perf_context_print:        load time =   19814.44 ms\n",
      "llama_perf_context_print: prompt eval time =       0.00 ms /    94 tokens (    0.00 ms per token,      inf tokens per second)\n",
      "llama_perf_context_print:        eval time =       0.00 ms /   166 runs   (    0.00 ms per token,      inf tokens per second)\n",
      "llama_perf_context_print:       total time =   20112.02 ms /   260 tokens\n",
      "Some weights of RobertaModel were not initialized from the model checkpoint at roberta-large and are newly initialized: ['roberta.pooler.dense.bias', 'roberta.pooler.dense.weight']\n",
      "You should probably TRAIN this model on a down-stream task to be able to use it for predictions and inference.\n"
     ]
    },
    {
     "name": "stdout",
     "output_type": "stream",
     "text": [
      "{'generated_response': 'You\\'re looking to download the VPN application for your device. Don\\'t worry, it\\'s a straightforward process. To download the VPN application for your operating system, follow these steps:\\n\\n1. Visit the Middle East Technical University\\'s registration website: https://netregister.metu.edu.tr\\n2. On the website, look for the \"VPN Service\" icon. Click on it to proceed.\\n3. Inside the VPN Service menu, you\\'ll find a \"Download\" or \"View\" link. Click on the link that corresponds to your operating system (Windows, macOS, Android, or iOS).\\n4. Once you click the link, you will be able to download the VPN application suitable for your operating system.\\n\\nIf you\\'re experiencing any issues or need further assistance, you can contact the university\\'s IT department for support. They\\'ll be', 'response_time': 20.115640878677368, 'precision_at_1': 1, 'bert_score': 0.8895865678787231, 'rouge_l_score': 0.3508771929824561, 'id': 58, 'synthetic_question': 'How can I download the VPN application for my Operating System from the Middle East Technical Universitys website?', 'ground_truth_answer': '\\n\\nTo download the VPN application, please visit https://netregister.metu.edu.tr and click \"VPN Service\" icon.\\n\\nIn the VPN Service menu,\\xa0 please click \"Download\" or \"View\" link to download\\xa0\\xa0the VPN application which suits your Operating System.\\n\\n\\n', 'link': 'https://faq.cc.metu.edu.tr/faq/how-download-vpn-application'}\n"
     ]
    },
    {
     "name": "stderr",
     "output_type": "stream",
     "text": [
      "Llama.generate: 115 prefix-match hit, remaining 250 prompt tokens to eval\n",
      "llama_perf_context_print:        load time =   19814.44 ms\n",
      "llama_perf_context_print: prompt eval time =       0.00 ms /   250 tokens (    0.00 ms per token,      inf tokens per second)\n",
      "llama_perf_context_print:        eval time =       0.00 ms /    80 runs   (    0.00 ms per token,      inf tokens per second)\n",
      "llama_perf_context_print:       total time =   21596.73 ms /   330 tokens\n",
      "Some weights of RobertaModel were not initialized from the model checkpoint at roberta-large and are newly initialized: ['roberta.pooler.dense.bias', 'roberta.pooler.dense.weight']\n",
      "You should probably TRAIN this model on a down-stream task to be able to use it for predictions and inference.\n"
     ]
    },
    {
     "name": "stdout",
     "output_type": "stream",
     "text": [
      "{'generated_response': 'I\\'m so glad you\\'re planning to join the METU community. Unfortunately, the devices you\\'ve listed are not supported on METU\\'s wireless network, \"meturoam\".\\n\\nHere are the details:\\n\\n1. **Kindle Wi-Fi or Wi-Fi + 3G**: Sorry, Kindle devices won\\'t be able to connect to METU\\'s network.\\n2. **Xbox 360 S or', 'response_time': 21.59956669807434, 'precision_at_1': 1, 'bert_score': 0.858878493309021, 'rouge_l_score': 0.26490066225165565, 'id': 68, 'synthetic_question': 'Can I use a Kindle Wi-Fi, Xbox 360 S, Sony Playstation 3, Nintendo Wii U, Nintendo Wii, Nintendo DS, Nintendo DSi, Nintendo 3DS, Apple TV 1st and 2nd Generation, Nook v1.5, Roku HD/XD/XDS Streaming Player, or TiVo Wireless Network Adapter to connect to the METU wireless network?', 'ground_truth_answer': '\\n\\nA device must support WPA2 Enterprise with PEAP/MSCHAPv2 in order to be able to connect to METU wireless network, meturoam. The following devices that are known to NOT work on the meturoam wireless network.\\nKindle Wi-Fi or Wi-Fi + 3G\\nXbox 360 S or Xbox wireless networking adapter\\nSony Playstation 3 and Sony PSP\\nNintendo Wii U, Nintendo Wii, Nintendo DS, Nintendo DSi and Nintendo 3DS (known to not work on any network)\\nApple TV 1st and 2nd Generation\\nNook v1.5\\nRoku HD/XD/XDS Streaming Player\\nTiVo Wireless Network Adapter\\n\\xa0\\n\\n', 'link': 'https://faq.cc.metu.edu.tr/faq/which-devices-are-known-not-support-meturoam'}\n"
     ]
    },
    {
     "name": "stderr",
     "output_type": "stream",
     "text": [
      "Llama.generate: 115 prefix-match hit, remaining 91 prompt tokens to eval\n",
      "llama_perf_context_print:        load time =   19814.44 ms\n",
      "llama_perf_context_print: prompt eval time =       0.00 ms /    91 tokens (    0.00 ms per token,      inf tokens per second)\n",
      "llama_perf_context_print:        eval time =       0.00 ms /   156 runs   (    0.00 ms per token,      inf tokens per second)\n",
      "llama_perf_context_print:       total time =   19638.47 ms /   247 tokens\n",
      "Some weights of RobertaModel were not initialized from the model checkpoint at roberta-large and are newly initialized: ['roberta.pooler.dense.bias', 'roberta.pooler.dense.weight']\n",
      "You should probably TRAIN this model on a down-stream task to be able to use it for predictions and inference.\n",
      "Llama.generate: 115 prefix-match hit, remaining 84 prompt tokens to eval\n"
     ]
    },
    {
     "name": "stdout",
     "output_type": "stream",
     "text": [
      "{'generated_response': \"Loading money onto your METU smartcard with a foreign bank card can sometimes be a bit tricky. \\n\\nThere are a few reasons why you may encounter an error message when trying to load money onto your smartcard with a foreign bank card:\\n\\n1. **Security measures**: The system might block transactions from foreign bank cards due to security concerns, such as potential scams or unauthorized transactions.\\n2. **Currency exchange rates**: The system may have difficulty processing transactions in certain currencies, especially if there are significant exchange rate fluctuations.\\n3. **Technical issues**: Sometimes, technical glitches or system downtime can cause issues with transactions.\\n\\nIf you're experiencing an error message when trying to load money onto your METU smartcard with a foreign bank card, here are some steps you can take to resolve the issue\", 'response_time': 19.64213538169861, 'precision_at_1': 1, 'bert_score': 0.8744818568229675, 'rouge_l_score': 0.2111801242236025, 'id': 69, 'synthetic_question': 'Why do I get an error message when I try to load money onto my smartcard using a foreign bank card, and how can I resolve this issue?', 'ground_truth_answer': '\\n\\nYou can get an error message while you are loading money to your smartcard with your foreign bank card. You may contact with your bank to check it.\\n\\n', 'link': 'https://faq.cc.metu.edu.tr/faq/can-i-load-money-my-smartcard-using-foreign-bank-card'}\n"
     ]
    },
    {
     "name": "stderr",
     "output_type": "stream",
     "text": [
      "llama_perf_context_print:        load time =   19814.44 ms\n",
      "llama_perf_context_print: prompt eval time =       0.00 ms /    84 tokens (    0.00 ms per token,      inf tokens per second)\n",
      "llama_perf_context_print:        eval time =       0.00 ms /   183 runs   (    0.00 ms per token,      inf tokens per second)\n",
      "llama_perf_context_print:       total time =   22440.52 ms /   267 tokens\n",
      "Some weights of RobertaModel were not initialized from the model checkpoint at roberta-large and are newly initialized: ['roberta.pooler.dense.bias', 'roberta.pooler.dense.weight']\n",
      "You should probably TRAIN this model on a down-stream task to be able to use it for predictions and inference.\n"
     ]
    },
    {
     "name": "stdout",
     "output_type": "stream",
     "text": [
      "{'generated_response': 'To check your cash loadings/payments at Middle East Technical University (METU), you can follow these steps:\\n\\n1. Visit the official METU Card Information website at https://cardinfo.metu.edu.tr.\\n2. Log in to the system using your username and password. If you\\'re having trouble with your login credentials, you can refer to the METU IT department or your department\\'s administration for assistance.\\n3. Once you\\'re logged in, navigate to the \"Transaction/Kart Hareketleri\" (Transaction/Transaction History) section.\\n4. From there, you can view your cash loadings/payments and any other transactions made on your card.\\n\\nIf you have any issues with your account or need further assistance, you can also contact the METU Card Center or the METU IT department for support.\\n\\nAlternatively, you can also check your account on the METU Mobile Application which is available for both', 'response_time': 22.44398784637451, 'precision_at_1': 1, 'bert_score': 0.8886175751686096, 'rouge_l_score': 0.15294117647058822, 'id': 73, 'synthetic_question': 'How can I check my cash loadings/payments at Middle East Technical University (METU)?', 'ground_truth_answer': '\\n\\nYou can see your cash loadings/payments from “Transaction/Kart Hareketleri” section on https://cardinfo.metu.edu.tr web page after you logged-in the system. \\n\\n', 'link': 'https://faq.cc.metu.edu.tr/faq/how-can-i-see-my-cash-payments-and-loadings'}\n"
     ]
    },
    {
     "name": "stderr",
     "output_type": "stream",
     "text": [
      "Llama.generate: 115 prefix-match hit, remaining 121 prompt tokens to eval\n",
      "llama_perf_context_print:        load time =   19814.44 ms\n",
      "llama_perf_context_print: prompt eval time =       0.00 ms /   121 tokens (    0.00 ms per token,      inf tokens per second)\n",
      "llama_perf_context_print:        eval time =       0.00 ms /   135 runs   (    0.00 ms per token,      inf tokens per second)\n",
      "llama_perf_context_print:       total time =   18728.05 ms /   256 tokens\n",
      "Some weights of RobertaModel were not initialized from the model checkpoint at roberta-large and are newly initialized: ['roberta.pooler.dense.bias', 'roberta.pooler.dense.weight']\n",
      "You should probably TRAIN this model on a down-stream task to be able to use it for predictions and inference.\n",
      "Llama.generate: 115 prefix-match hit, remaining 222 prompt tokens to eval"
     ]
    },
    {
     "name": "stdout",
     "output_type": "stream",
     "text": [
      "{'generated_response': \"It can be really frustrating when things like that happen. There could be a few reasons why your smartcard was canceled while you're still a student at METU. Here are some possible explanations:\\n\\n1. **Expiration of your card**: Smartcards at METU typically have a lifespan of 5-7 years. If your card is near the end of this period, it's possible that it has been canceled for replacement.\\n2. **Insufficient balance**: If your student card balance is empty, it may be canceled. You can check your balance online or at the card office.\\n3. **Incorrect information**: Your student information or card details might be outdated or incorrect in the\", 'response_time': 18.732515811920166, 'precision_at_1': 1, 'bert_score': 0.8535583019256592, 'rouge_l_score': 0.16666666666666666, 'id': 76, 'synthetic_question': 'Why was my smartcard canceled if Im still a student at METU?', 'ground_truth_answer': '\\n\\nYour smartcard might have been canceled since you’re retired/graduated or your working period has finished. If one of these conditions does not fit your case and you still get this message, you can apply to Student Affairs Office if you are a student and to Directorate of Personnel Affairs if you are a METU staff.\\n\\n', 'link': 'https://faq.cc.metu.edu.tr/faq/i-get-warning-message-says-your-smart-card-has-been-canceledout-use-please-apply-your-university'}\n"
     ]
    },
    {
     "name": "stderr",
     "output_type": "stream",
     "text": [
      "\n",
      "llama_perf_context_print:        load time =   19814.44 ms\n",
      "llama_perf_context_print: prompt eval time =       0.00 ms /   222 tokens (    0.00 ms per token,      inf tokens per second)\n",
      "llama_perf_context_print:        eval time =       0.00 ms /    56 runs   (    0.00 ms per token,      inf tokens per second)\n",
      "llama_perf_context_print:       total time =   17825.49 ms /   278 tokens\n",
      "Some weights of RobertaModel were not initialized from the model checkpoint at roberta-large and are newly initialized: ['roberta.pooler.dense.bias', 'roberta.pooler.dense.weight']\n",
      "You should probably TRAIN this model on a down-stream task to be able to use it for predictions and inference.\n",
      "Llama.generate: 115 prefix-match hit, remaining 77 prompt tokens to eval\n"
     ]
    },
    {
     "name": "stdout",
     "output_type": "stream",
     "text": [
      "{'generated_response': \"Congratulations on becoming a part of the METU community. Getting familiar with your Smart ID card is an exciting step. To start using your new Smart ID card at METU, here's a step-by-step guide:\\n\\n**Activation:**\\n1. **Initial Balance**: The card is initially\", 'response_time': 17.828283309936523, 'precision_at_1': 0, 'bert_score': 0.8596494793891907, 'rouge_l_score': 0.23529411764705882, 'id': 77, 'synthetic_question': 'How do I start using my new Smart ID card at Middle East Technical University (METU)?', 'ground_truth_answer': '\\n\\n\\nNo. Your new Smart ID card is provided you as the system recognize it, you can use your new smartcard upon receiving it.\\n\\xa0\\n\\n\\n\\n', 'link': 'https://faq.cc.metu.edu.tr/faq/i-have-changed-my-smart-id-card-do-i-have-reactivate-my-new-id-card'}\n"
     ]
    },
    {
     "name": "stderr",
     "output_type": "stream",
     "text": [
      "llama_perf_context_print:        load time =   19814.44 ms\n",
      "llama_perf_context_print: prompt eval time =       0.00 ms /    77 tokens (    0.00 ms per token,      inf tokens per second)\n",
      "llama_perf_context_print:        eval time =       0.00 ms /   176 runs   (    0.00 ms per token,      inf tokens per second)\n",
      "llama_perf_context_print:       total time =   23712.98 ms /   253 tokens\n",
      "Some weights of RobertaModel were not initialized from the model checkpoint at roberta-large and are newly initialized: ['roberta.pooler.dense.bias', 'roberta.pooler.dense.weight']\n",
      "You should probably TRAIN this model on a down-stream task to be able to use it for predictions and inference.\n",
      "Llama.generate: 115 prefix-match hit, remaining 168 prompt tokens to eval\n"
     ]
    },
    {
     "name": "stdout",
     "output_type": "stream",
     "text": [
      "{'generated_response': 'The Computer Engineering program at Middle East Technical University (METU) is highly competitive, and there are specific prerequisites to meet for enrollment. Here are the requirements:\\n\\n**Eligibility for Undergraduate Programs:**\\n\\nTo be eligible for the Computer Engineering program, you must meet one of the following conditions:\\n\\n1. **A-levels:** You should have at least A-levels in Physics, Mathematics, and Computer Science.\\n2. **International Baccalaureate (IB) Diploma:** You should have a minimum score of 32 points, with a score of 6 or higher in Physics, Mathematics, and Computer Science.\\n3. **Turkish High School Diploma:** You should have a minimum score of 200 points in the Turkish High School Diploma exam, with a minimum of 100 points in Mathematics and 60 points in Science.\\n4. **Foreign High School Diploma:**', 'response_time': 23.715914249420166, 'precision_at_1': 0, 'bert_score': 0.8313257694244385, 'rouge_l_score': 0.0, 'id': 78, 'synthetic_question': 'What are the prerequisites for enrolling in the Computer Engineering program at Middle East Technical University (METU)?', 'ground_truth_answer': '\\n\\nNo.\\n\\n', 'link': 'https://faq.cc.metu.edu.tr/faq/i-have-graduated-would-available-cash-my-revoked-card-be-returned-me'}\n"
     ]
    },
    {
     "name": "stderr",
     "output_type": "stream",
     "text": [
      "llama_perf_context_print:        load time =   19814.44 ms\n",
      "llama_perf_context_print: prompt eval time =       0.00 ms /   168 tokens (    0.00 ms per token,      inf tokens per second)\n",
      "llama_perf_context_print:        eval time =       0.00 ms /    85 runs   (    0.00 ms per token,      inf tokens per second)\n",
      "llama_perf_context_print:       total time =   17192.22 ms /   253 tokens\n",
      "Some weights of RobertaModel were not initialized from the model checkpoint at roberta-large and are newly initialized: ['roberta.pooler.dense.bias', 'roberta.pooler.dense.weight']\n",
      "You should probably TRAIN this model on a down-stream task to be able to use it for predictions and inference.\n",
      "Llama.generate: 115 prefix-match hit, remaining 225 prompt tokens to eval\n"
     ]
    },
    {
     "name": "stdout",
     "output_type": "stream",
     "text": [
      "{'generated_response': \"If you find your lost smart card before your new one is printed, you can take it to the Computer Center's Office (B-14) to reactivate it. After they verify and confirm that the card is working, they will set it to active mode again, provided your new card is not currently being printed. This way, you can avoid applying for a replacement card and get back to using your original smart card.\", 'response_time': 17.19530701637268, 'precision_at_1': 1, 'bert_score': 0.9036763906478882, 'rouge_l_score': 0.4025157232704402, 'id': 80, 'synthetic_question': 'What should I do if I find my lost smart card before my new one is printed, and how can I activate it again?', 'ground_truth_answer': '\\n\\nWhen you have lost your card and apply for a new one (with lost/stolen card option), your lost smartcard is automatically set to passive mode so that no one can not use it. If you find your lost card before your new card is printed, you can apply for a Computer Center (B-14 Office). After your card is controlled and seen as working, then it can be set to active mode again if only your new card application is not in print process.\\xa0\\n\\n', 'link': 'https://faq.cc.metu.edu.tr/faq/i-have-lost-my-smartcard-and-apply-new-one-after-short-time-i-found-my-lost-smartcard-what-can-i'}\n"
     ]
    },
    {
     "name": "stderr",
     "output_type": "stream",
     "text": [
      "llama_perf_context_print:        load time =   19814.44 ms\n",
      "llama_perf_context_print: prompt eval time =       0.00 ms /   225 tokens (    0.00 ms per token,      inf tokens per second)\n",
      "llama_perf_context_print:        eval time =       0.00 ms /    53 runs   (    0.00 ms per token,      inf tokens per second)\n",
      "llama_perf_context_print:       total time =   16169.96 ms /   278 tokens\n",
      "Some weights of RobertaModel were not initialized from the model checkpoint at roberta-large and are newly initialized: ['roberta.pooler.dense.bias', 'roberta.pooler.dense.weight']\n",
      "You should probably TRAIN this model on a down-stream task to be able to use it for predictions and inference.\n",
      "Llama.generate: 115 prefix-match hit, remaining 153 prompt tokens to eval\n"
     ]
    },
    {
     "name": "stdout",
     "output_type": "stream",
     "text": [
      "{'generated_response': \"The Smart Card project at Middle East Technical University (METU) has a rich history dating back to the early 2000s. As of my knowledge cutoff in 2023, here's the current status and future plans for the Smart Card project:\\n\\n**Current Status\", 'response_time': 16.17346477508545, 'precision_at_1': 1, 'bert_score': 0.8520801663398743, 'rouge_l_score': 0.1761658031088083, 'id': 83, 'synthetic_question': 'What is the current status and future plans for the Smart Card project at Middle East Technical University (METU)?', 'ground_truth_answer': '\\n\\n\\nThe Smart Card Technology, which has been under development since the early 2000s in METU, was put into effect as a project at the start of the 2002 - 2003 academic year when all students and staff were provided with Smart Card identification cards. \\nWithin the scope of the project, as planned, the Smart Card was put into use firstly as the e-wallet for the cafeteria, then as an e-ID application at seven department buildings, two PC rooms, and two campus gate entry barriers in 2005. \\n\\nWith the second stage of the Smart Card application, started at the end of 2006, the e-wallet application of the smart card has been extensively widespread within the campus. Later stages of the project is being devised and shaped according the needs and the requirements of the METU members. All information regarding the Smart Card project may be accessed at our web pages.\\n\\n', 'link': 'https://faq.cc.metu.edu.tr/faq/metu-smartcard-history'}\n"
     ]
    },
    {
     "name": "stderr",
     "output_type": "stream",
     "text": [
      "llama_perf_context_print:        load time =   19814.44 ms\n",
      "llama_perf_context_print: prompt eval time =       0.00 ms /   153 tokens (    0.00 ms per token,      inf tokens per second)\n",
      "llama_perf_context_print:        eval time =       0.00 ms /   110 runs   (    0.00 ms per token,      inf tokens per second)\n",
      "llama_perf_context_print:       total time =   17764.32 ms /   263 tokens\n",
      "Some weights of RobertaModel were not initialized from the model checkpoint at roberta-large and are newly initialized: ['roberta.pooler.dense.bias', 'roberta.pooler.dense.weight']\n",
      "You should probably TRAIN this model on a down-stream task to be able to use it for predictions and inference.\n",
      "Llama.generate: 115 prefix-match hit, remaining 153 prompt tokens to eval\n"
     ]
    },
    {
     "name": "stdout",
     "output_type": "stream",
     "text": [
      "{'generated_response': \"Sorry to hear that your METU smart ID card is broken or damaged. Don't worry, it's easy to get a replacement. \\n\\nTo get a new METU smart ID card, follow these steps:\\n\\n1. **Visit the Cardinfo website**: Go to [https://cardinfo.metu.edu.tr/](https://cardinfo.metu.edu.tr/) to apply for a new card online.\\n2. **Submit your request**: Fill out the online application form and submit your request.\\n3. **Pay the replacement fee**: You'll need to\", 'response_time': 17.766599416732788, 'precision_at_1': 1, 'bert_score': 0.8857132792472839, 'rouge_l_score': 0.33136094674556216, 'id': 86, 'synthetic_question': 'What should I do if my METU smart ID card is broken or damaged, and how can I get a new one?', 'ground_truth_answer': '\\n\\nWhen your smart ID card is broken or physically damaged, your smart ID card is changed for a certain fee. To renew your ID card, you can apply for a new card by using cardinfo website (https://cardinfo.metu.edu.tr/). To take your printed new card, you can apply to your department secretary if you are a student and to your unit secretary if you are a METU staff. You can get information about the documents required to apply for a new ID card from related offices.\\n\\n', 'link': 'https://faq.cc.metu.edu.tr/faq/my-smartcard-broken-what-should-i-do'}\n"
     ]
    },
    {
     "name": "stderr",
     "output_type": "stream",
     "text": [
      "llama_perf_context_print:        load time =   19814.44 ms\n",
      "llama_perf_context_print: prompt eval time =       0.00 ms /   153 tokens (    0.00 ms per token,      inf tokens per second)\n",
      "llama_perf_context_print:        eval time =       0.00 ms /   101 runs   (    0.00 ms per token,      inf tokens per second)\n",
      "llama_perf_context_print:       total time =   17193.10 ms /   254 tokens\n",
      "Some weights of RobertaModel were not initialized from the model checkpoint at roberta-large and are newly initialized: ['roberta.pooler.dense.bias', 'roberta.pooler.dense.weight']\n",
      "You should probably TRAIN this model on a down-stream task to be able to use it for predictions and inference.\n",
      "Llama.generate: 34 prefix-match hit, remaining 391 prompt tokens to eval\n"
     ]
    },
    {
     "name": "stdout",
     "output_type": "stream",
     "text": [
      "{'generated_response': \"I understand that your smart ID card's virtual money got deducted disproportionately. Don't worry, it's easily solvable at METU. Here's a step-by-step process to get it refunded:\\n\\n1. **Visit the METU CC IT support page**: Log in to the system with your username and password.\\n2. **Create a new case**: Click on the 'Report an issue' button and describe your problem, mentioning the discrepancy in your virtual money deductions.\\n3. **Contact the relevant departments**: If\", 'response_time': 17.196244716644287, 'precision_at_1': 1, 'bert_score': 0.8790311813354492, 'rouge_l_score': 0.2948717948717949, 'id': 90, 'synthetic_question': 'If my smart ID cards virtual money gets deducted disproportionately, how can I get it refunded at METU?', 'ground_truth_answer': '\\n\\nWhen the virtual money in your smart ID card is deducted from your account disproportionally compared to your uses, you can visit METU CC IT support page. After you login into the system, you can report your issue by opening a new case. In that case, it is necessary to make contact with relevant departments for the card to be examined and if the problem is determined, your money is paid back to your account.\\n\\n', 'link': 'https://faq.cc.metu.edu.tr/faq/virtual-money-i-have-deposited-my-smartcard-was-set-zero-just-after-i-deposited-or-after-i-used'}\n"
     ]
    },
    {
     "name": "stderr",
     "output_type": "stream",
     "text": [
      "llama_perf_context_print:        load time =   19814.44 ms\n",
      "llama_perf_context_print: prompt eval time =       0.00 ms /   391 tokens (    0.00 ms per token,      inf tokens per second)\n",
      "llama_perf_context_print:        eval time =       0.00 ms /    86 runs   (    0.00 ms per token,      inf tokens per second)\n",
      "llama_perf_context_print:       total time =   28453.86 ms /   477 tokens\n",
      "Some weights of RobertaModel were not initialized from the model checkpoint at roberta-large and are newly initialized: ['roberta.pooler.dense.bias', 'roberta.pooler.dense.weight']\n",
      "You should probably TRAIN this model on a down-stream task to be able to use it for predictions and inference.\n"
     ]
    },
    {
     "name": "stdout",
     "output_type": "stream",
     "text": [
      "{'generated_response': \"Welcome to the Middle East Technical University (METU) student assistant service! I'm here to provide you with information and support throughout your academic journey.\\n\\nAs a prospective student, you might have several questions about the university, its programs, and campus life. I'll do my best to address them.\\n\\nWhat can I help you with today? Would you like to know more about:\\n\\n1. METU's undergraduate or graduate programs?\\n2\", 'response_time': 28.45757246017456, 'precision_at_1': 1, 'bert_score': 0.7966504096984863, 'rouge_l_score': 0.0462962962962963, 'id': 93, 'synthetic_question': ' What happens to my student user account after I graduate from Middle East Technical University (METU)?', 'ground_truth_answer': '\\n\\nStudent User Accounts are terminated one (1) term after graduation. The user codes of the exchange students who are in the Erasmus or Special Student category are activated for one semester and are terminated automatically at the end of the semester. After the data of the termination processes are processed and before the termination date at particular times an e-mail informing the date of the termination is sent. Being effective from the 2003-2004 academic year graduated students, the e-mail addresses of the graduated students in the exxxxxxmetu.edu.tr format which are defined on the METU CC central servers are directed to another desired e-mail account. An information e-mail about the redirection services is sent one month before the student would able to use the service. For more information on e-mail forwarding, please visit\\xa0https://faq.cc.metu.edu.tr/faq/how-can-i-use-metu-e-mail-forwarding\\nUser account of the staff who left the university due to resignation, being dismissed or off-duty are terminated after 3 months. If desired, METU e-mail addresses of those who left the university may be redirected to another e-mail address.\\xa0For more information on e-mail forwarding, please visit\\xa0https://faq.cc.metu.edu.tr/faq/how-can-i-use-metu-e-mail-forwarding\\xa0User codes of the leaving staff may be terminated immediately if requested by the administrative supervisor of the related unit.\\nThe user accounts of the part-time academic members are terminated at the end of an academic year unless their departments prolong their employment. The user account of the retired staff is not subject to termination.\\nThe temporary user accounts which are activated under the conditions specified by CC, are terminated at the end of their given period.\\nThe user account of the deceased user is terminated.\\nThe accounts of the units which are in the context of EIS Project and the student groups are only terminated if an official requirement is made by the related units or groups, if not these accounts are kept active.\\nTerminating the user account due to misuse:\\nIn accordance with Information Technology Resources Usage Policies memorandum released on 24 March 2004;\\nIn the case of the use policies as may be required\\nIn the case of illegal uses defined by local laws\\nIn the case of the limit exceeding of the temporary accounts\\nIn the case of non-academic, commercial and/or illegal activities uses\\nWhen personal accounts are detected to be used by different persons instead of the users of the accounts.\\nIn the case of detected attempts of acquiring/stealing the passwords, intervention to the files, changing them etc. of the other users registered on Server Systems.\\nIn the case of the detection of unlicenced, illegal software on the allocated disk space of the user account\\nWhen the system integrity, security and the continuity of the service is obstructed\\nuser accounts are terminated temporarily by the CC without notice. In the cases th user account would be permanently shut down, the user is notified beforehand. An user account which has been terminated by the CC due to improper usage may be kept inactive while disciplinary investigation and legal action proceeds, and the user account is reactivated only when the investigation procedure is over and the defense is accepted by the CC.\\nThe University Administrative Board Decision on user code termination is available at the CC web page.\\n\\n', 'link': 'https://faq.cc.metu.edu.tr/faq/under-which-circumstances-would-user-account-be-terminated'}\n"
     ]
    },
    {
     "name": "stderr",
     "output_type": "stream",
     "text": [
      "Llama.generate: 34 prefix-match hit, remaining 273 prompt tokens to eval\n",
      "llama_perf_context_print:        load time =   19814.44 ms\n",
      "llama_perf_context_print: prompt eval time =       0.00 ms /   273 tokens (    0.00 ms per token,      inf tokens per second)\n",
      "llama_perf_context_print:        eval time =       0.00 ms /    85 runs   (    0.00 ms per token,      inf tokens per second)\n",
      "llama_perf_context_print:       total time =   21782.60 ms /   358 tokens\n",
      "Some weights of RobertaModel were not initialized from the model checkpoint at roberta-large and are newly initialized: ['roberta.pooler.dense.bias', 'roberta.pooler.dense.weight']\n",
      "You should probably TRAIN this model on a down-stream task to be able to use it for predictions and inference.\n"
     ]
    },
    {
     "name": "stdout",
     "output_type": "stream",
     "text": [
      "{'generated_response': \"To connect to the central servers Beluga and Orca at the Middle East Technical University (METU) campus, you have two main options: User Interface and Command Line. \\n\\n**Option 1: User Interface**\\n\\nFor a user-friendly interface, I recommend using WinSCP, an open-source FTP client software. It's available for free download from the official website:\\n\\nhttps://winscp.net/eng/download.php\\n\\nWith Win\", 'response_time': 21.78597927093506, 'precision_at_1': 1, 'bert_score': 0.8737839460372925, 'rouge_l_score': 0.2331288343558282, 'id': 95, 'synthetic_question': 'How can I connect to the central servers Beluga and Orca at METU Campus, and what programs can I use to perform operations like changing file permissions, copying/moving files and folders: User Interface or Command Line.', 'ground_truth_answer': '\\n\\nWithin the METU Campus you can reach the central servers named Beluga and Orca.\\n_x0093_To connect central servers, you can use the newest version of SSH or try a different program. WinSCP is the one of the FTP programs you can use. You can make operations like changing the permissions of your files in the server, copying/moving a files and folders.\\nAdditionally, for users who are more comfortable with command line PuTTY is a free software which enable to make necessary operations.\\nhttps://winscp.net/eng/download.php\\xa0address can be used to download these two programs.\\n\\n', 'link': 'https://faq.cc.metu.edu.tr/faq/how-can-i-connect-central-server-systems-campus'}\n"
     ]
    },
    {
     "name": "stderr",
     "output_type": "stream",
     "text": [
      "Llama.generate: 34 prefix-match hit, remaining 435 prompt tokens to eval\n",
      "llama_perf_context_print:        load time =   19814.44 ms\n",
      "llama_perf_context_print: prompt eval time =       0.00 ms /   435 tokens (    0.00 ms per token,      inf tokens per second)\n",
      "llama_perf_context_print:        eval time =       0.00 ms /    42 runs   (    0.00 ms per token,      inf tokens per second)\n",
      "llama_perf_context_print:       total time =   27198.21 ms /   477 tokens\n",
      "Some weights of RobertaModel were not initialized from the model checkpoint at roberta-large and are newly initialized: ['roberta.pooler.dense.bias', 'roberta.pooler.dense.weight']\n",
      "You should probably TRAIN this model on a down-stream task to be able to use it for predictions and inference.\n"
     ]
    },
    {
     "name": "stdout",
     "output_type": "stream",
     "text": [
      "{'generated_response': \"I'd be happy to help you with getting a user account with the @metu.edu.tr extension. \\n\\nAs a new student at Middle East Technical University (METU), you can follow these steps to get a\", 'response_time': 27.201363801956177, 'precision_at_1': 1, 'bert_score': 0.7921241521835327, 'rouge_l_score': 0.08304498269896193, 'id': 98, 'synthetic_question': 'As a new student, how can I obtain my user code with a @metu.edu.tr extension and set up my account at useraccount.metu.edu.tr?', 'ground_truth_answer': '\\n\\nAll user codes with\\xa0@metu.edu.tr extension are assigned to a real person and these codes are given to the students with a student number or the personnel with a social security number.\\nMETU Students\\nStudents who have registered to the university and assigned a student number should visit useraccount.metu.edu.tr address. They should use \"New Students\" link and complete the form with the related information. After this process they can use their user codes with\\xa0@metu.edu.tr extension. Aliases with @metu.edu.tr extension are not given for exchange students. \\xa0\\nÖİDB tarafından kayıt işlemi gerçekleştirilen ve öğrenci numarası bulunan tüm\\xa0öğrenciler useraccount.metu.edu.tr adresindeki Yeni Öğrenci bağlantısını kullanarak\\xa0TC Kimlik veya Öğrenci numarası ile kayıtlı olduğu bölüm bilgisini seçer, beyan ettiği\\xa0e-posta adresine Tek Kullanımlık Şifre iletilir. Bu şifre ile useraccount.metu.edu.tr\\xa0adresine giriş yaparak kalıcı şifre, kurtarma e-posta adresi ve ad.soyad şeklindeki e-posta adresini (özel öğrenciler hariç) tanımlayabilir.\\nMETU Personnel\\nThe METU personnel should fill the\\xa0F1 form\\xa0which should be signed by the Department/Unit administration. They must apply to the Computer Center office B-14\\xa0with the form in person. All the users are obliged to obey to the \"METU Information Technology Resources Use Policy\".\\nNo user code is provided for the users whose personnel ID number isn’t assigned by the METU Directorate of Personnel Affairs.\\n\\n', 'link': 'https://faq.cc.metu.edu.tr/faq/how-can-i-get-user-account-metuedutr-extension'}\n"
     ]
    },
    {
     "name": "stderr",
     "output_type": "stream",
     "text": [
      "Llama.generate: 468 prefix-match hit, remaining 1 prompt tokens to eval\n",
      "llama_perf_context_print:        load time =   19814.44 ms\n",
      "llama_perf_context_print: prompt eval time =       0.00 ms /     1 tokens (    0.00 ms per token,      inf tokens per second)\n",
      "llama_perf_context_print:        eval time =       0.00 ms /    43 runs   (    0.00 ms per token,      inf tokens per second)\n",
      "llama_perf_context_print:       total time =    4108.52 ms /    44 tokens\n",
      "Some weights of RobertaModel were not initialized from the model checkpoint at roberta-large and are newly initialized: ['roberta.pooler.dense.bias', 'roberta.pooler.dense.weight']\n",
      "You should probably TRAIN this model on a down-stream task to be able to use it for predictions and inference.\n",
      "Llama.generate: 34 prefix-match hit, remaining 256 prompt tokens to eval\n"
     ]
    },
    {
     "name": "stdout",
     "output_type": "stream",
     "text": [
      "{'generated_response': 'As a new student at Middle East Technical University (METU), you can obtain an email address with the @metu.edu.tr extension by following these steps:\\n\\n1. Visit the website: `useraccount.metu', 'response_time': 4.112421035766602, 'precision_at_1': 0, 'bert_score': 0.8353080749511719, 'rouge_l_score': 0.07936507936507936, 'id': 99, 'synthetic_question': 'As a new student, how can I obtain my user code with a @metu.edu.tr extension and set up my account at useraccount.metu.edu.tr?', 'ground_truth_answer': '\\n\\nIn order to recover files deleted from your account by mistake, it ought to be enough just to fill out the form that you will see when you go to https://portal.metu.edu.tr/odtu_bidb/yedekleme/yedekleme.xhtml\\xa0address and choose the date and folder that you want to recover. The system backs up the files in your account every night. You can recover the files that have arrived before back-up time and the files which have been deleted after back-up time. Note: Backup copies are kept for 30 days. \\n\\n', 'link': 'https://faq.cc.metu.edu.tr/faq/how-can-i-recover-files-i-have-mistakenly-deleted-my-user-account'}\n"
     ]
    },
    {
     "name": "stderr",
     "output_type": "stream",
     "text": [
      "llama_perf_context_print:        load time =   19814.44 ms\n",
      "llama_perf_context_print: prompt eval time =       0.00 ms /   256 tokens (    0.00 ms per token,      inf tokens per second)\n",
      "llama_perf_context_print:        eval time =       0.00 ms /    95 runs   (    0.00 ms per token,      inf tokens per second)\n",
      "llama_perf_context_print:       total time =   23302.73 ms /   351 tokens\n",
      "Some weights of RobertaModel were not initialized from the model checkpoint at roberta-large and are newly initialized: ['roberta.pooler.dense.bias', 'roberta.pooler.dense.weight']\n",
      "You should probably TRAIN this model on a down-stream task to be able to use it for predictions and inference.\n"
     ]
    },
    {
     "name": "stdout",
     "output_type": "stream",
     "text": [
      "{'generated_response': \"You have a few alternative FTP programs to choose from to perform file operations on the METU server. Here are a few options:\\n\\n1. **FileZilla**: A popular, user-friendly FTP client available for Windows, macOS, and Linux. It's free and open-source, offering a range of features like SFTP, FTPS, and more.\\n2. **Cyberduck**: A free, open-source FTP client for macOS and Windows, offering an intuitive interface and advanced\", 'response_time': 23.30539083480835, 'precision_at_1': 0, 'bert_score': 0.8400151133537292, 'rouge_l_score': 0.13043478260869565, 'id': 103, 'synthetic_question': 'What alternative FTP programs can I use to perform file operations on the server at Middle East Technical University, and where can I download these programs?', 'ground_truth_answer': '\\n\\nThe version of SSH program you are using may not be supporting one of the encryption algorithms of the server. Therefore, you may get an error like “Algorithm negotiation failed”. For this reason, you can use the newest version of SSH or try a different program. WinSCP is the one of the FTP programs you can use. You can make operations like changing the permissions of your files in the server, copying/moving a files and folders.\\nAdditionally, for users who are more comfortable with command line PuTTY is a free software which enable to make necessary operations.\\nhttps://winscp.net/eng/download.php address can be used to download these two programs.\\n\\n', 'link': 'https://faq.cc.metu.edu.tr/faq/i-get-algorithm-negotiation-failed-error-when-i-try-connect-servers-ssh-secure-shell-program'}\n"
     ]
    },
    {
     "name": "stderr",
     "output_type": "stream",
     "text": [
      "Llama.generate: 34 prefix-match hit, remaining 416 prompt tokens to eval\n",
      "llama_perf_context_print:        load time =   19814.44 ms\n",
      "llama_perf_context_print: prompt eval time =       0.00 ms /   416 tokens (    0.00 ms per token,      inf tokens per second)\n",
      "llama_perf_context_print:        eval time =       0.00 ms /    61 runs   (    0.00 ms per token,      inf tokens per second)\n",
      "llama_perf_context_print:       total time =   26685.92 ms /   477 tokens\n",
      "Some weights of RobertaModel were not initialized from the model checkpoint at roberta-large and are newly initialized: ['roberta.pooler.dense.bias', 'roberta.pooler.dense.weight']\n",
      "You should probably TRAIN this model on a down-stream task to be able to use it for predictions and inference.\n"
     ]
    },
    {
     "name": "stdout",
     "output_type": "stream",
     "text": [
      "{'generated_response': \"I'm happy to help you with your email backup concerns at METU. Don't worry if your account has been closed due to a suspended or expired student status – you can still access your email backups.\\n\\nTo get your email backups, please follow these steps:\\n\\n1. **Check for email forwarding**: If your\", 'response_time': 26.68871021270752, 'precision_at_1': 1, 'bert_score': 0.8176469206809998, 'rouge_l_score': 0.06282722513089006, 'id': 105, 'synthetic_question': 'What are the steps to download and forward my e-mails from my METU account after it has been closed due to the end of my studentship, and how can I access the attachments of these e-mails?', 'ground_truth_answer': '\\n\\nUser accounts of our students whose studentships are suspended or over for\\xa0any reason are closed after one (1) school term. Our users whose user\\xa0accounts will be closed are notified about it with an e-mail at particular times.\\nAlumni’s e-mail addresses in exxxxxxmetu.edu.tr format identified by METU\\xa0Computer Center central servers can be directed to another e-mail address\\xa0requested. Information related to forwarding service can be found in\\xa0https://faq.cc.metu.edu.tr/faq/how-can-i-use-metu-e-mail-forwarding\\xa0address.\\nIf you are not forwarded, since e-mails sent from other addresses won’t\\xa0arrive after your user account is closed, there aren’t backups for sent\\xa0e-mails after the closure date.\\nBy logging into the e-mail account before the closure date, you can download\\xa0your backups as a .mbox file to your computer as written on\\xa0http://faq.cc.metu.edu.tr/faq/how-can-i-download-all-my-e-mails-horde\\nYou can apply the methods below to see the e-mails sent to you via .mbox\\xa0or tar.gz extended files and send it to another e-mail address of yours.\\xa0As there is an extended tar.gz file that you downloaded to your computer,\\xa0you can use 7-zip program to open it https://www.7-zip.org/ you don’t\\xa0need such an opening program for .mbox file\\nIn order to see the e-mails, you need to set up the Thunderbird program. You\\xa0can follow the steps on https://www.thunderbird.net address for\\xa0installation.\\nAfter you set up and open Thunderbird program, you must click Add-ons\\xa0option from Settings part Add-ons section and set up ImportExportTools NG\\xa0attachment on the pop-up window, by finding it from the search section.\\xa0After the setup, Thunderbird client must be restarted. After it is\\xa0restarted, create a new folder by right-clicking Local Folders at the left\\xa0section and choosing New Folder. You can name it as you like.\\nIn the sample below, we created a local folder named imported_mails.\\n\\nRight-click the folder we have just created, from ImportExportTools NG menu:\\xa0\\nA) If you have a .mbox, by choosing Import mbox file, you can show your\\xa0mbox extended file’s place and thus; reach your e-mails and direct it to\\xa0another e-mail address, if you wish.\\n\\nB) If you opened .tar.gz file with a zip program like 7-zip on a folder\\xa0on your computer, you can continue with Import messages option.\\xa0When you click Import messages option, first of all, you need to choose\\xa0All files (*.*) as file type to display on the screen.\\nBy choosing all files in related e-mail folders inside the taz.gz folder\\xa0that you opened on the screen, you can make it visible on the Thunderbird\\xa0client.\\nFor example,>> Your e-mails that are in the Inbox are mails > INBOX > it’s inside of\\xa0the cur folder. You may also access e-mail attachments seen on\\xa0Thunderbird client from attachment section via this client and save on\\xa0your computer.\\n\\n\\n\\n', 'link': 'https://faq.cc.metu.edu.tr/faq/my-user-account-closed-how-can-i-get-my-e-mail-backups-if-there-are-any-and-open-them'}\n"
     ]
    },
    {
     "name": "stderr",
     "output_type": "stream",
     "text": [
      "Llama.generate: 34 prefix-match hit, remaining 224 prompt tokens to eval\n",
      "llama_perf_context_print:        load time =   19814.44 ms\n",
      "llama_perf_context_print: prompt eval time =       0.00 ms /   224 tokens (    0.00 ms per token,      inf tokens per second)\n",
      "llama_perf_context_print:        eval time =       0.00 ms /   124 runs   (    0.00 ms per token,      inf tokens per second)\n",
      "llama_perf_context_print:       total time =   23588.64 ms /   348 tokens\n",
      "Some weights of RobertaModel were not initialized from the model checkpoint at roberta-large and are newly initialized: ['roberta.pooler.dense.bias', 'roberta.pooler.dense.weight']\n",
      "You should probably TRAIN this model on a down-stream task to be able to use it for predictions and inference.\n"
     ]
    },
    {
     "name": "stdout",
     "output_type": "stream",
     "text": [
      "{'generated_response': \"Congratulations on your decision to join the Middle East Technical University (METU) community! As a new student, setting up your permanent password, recovery email address, and METU email address is a crucial step. Here's a step-by-step guide to help you through the process:\\n\\n1. **Access the METU User Account Management page**: Visit the METU User Account Management page at https://useraccount.metu.edu.tr/. You can access this page from any web browser.\\n2. **Log in with your temporary password**: As a new student, you should have received an email with a temporary password from METU.\", 'response_time': 23.591373682022095, 'precision_at_1': 1, 'bert_score': 0.8810153007507324, 'rouge_l_score': 0.25882352941176473, 'id': 108, 'synthetic_question': 'What is the process for setting up my permanent password, recovery email address, and METU email address as a new student at Middle East Technical University (METU)?', 'ground_truth_answer': \"\\n\\nYou can change your user account's password and define your recovery e-mail address to which your new password will be sent when you forget your password from the METU User Account Management page (https://useraccount.metu.edu.tr/).\\nIn addition, the students who have newly registered to our University, should select their permanent password, recovery e-mail address and METU e-mail address before signing in central server systems.\\n\\n\", 'link': 'https://faq.cc.metu.edu.tr/faq/what-can-i-do-metu-user-account-management-page'}\n"
     ]
    },
    {
     "name": "stderr",
     "output_type": "stream",
     "text": [
      "Llama.generate: 34 prefix-match hit, remaining 434 prompt tokens to eval\n",
      "llama_perf_context_print:        load time =   19814.44 ms\n",
      "llama_perf_context_print: prompt eval time =       0.00 ms /   434 tokens (    0.00 ms per token,      inf tokens per second)\n",
      "llama_perf_context_print:        eval time =       0.00 ms /    43 runs   (    0.00 ms per token,      inf tokens per second)\n",
      "llama_perf_context_print:       total time =   25690.02 ms /   477 tokens\n",
      "Some weights of RobertaModel were not initialized from the model checkpoint at roberta-large and are newly initialized: ['roberta.pooler.dense.bias', 'roberta.pooler.dense.weight']\n",
      "You should probably TRAIN this model on a down-stream task to be able to use it for predictions and inference.\n"
     ]
    },
    {
     "name": "stdout",
     "output_type": "stream",
     "text": [
      "{'generated_response': \"The process for obtaining a user account with an @metu.edu.tr extension at the Middle East Technical University (METU) depends on whether you're a student or a personnel member.\\n\\n**METU Students:**\\n\\nIf\", 'response_time': 25.693657159805298, 'precision_at_1': 0, 'bert_score': 0.8174168467521667, 'rouge_l_score': 0.08064516129032258, 'id': 110, 'synthetic_question': 'What is the process for extending the access to my user account beyond the standard 3-month period at Middle East Technical University (METU), and how can I request this extension?', 'ground_truth_answer': '\\n\\nUser accounts, which are closed due to reasons other than retirement or expired due to end of assignment, will be closed at the end of 3 months after the personnel leaves office. Back-up is available up to 1 year. The users should apply to METU CC IT Support Service (https://itsupport.metu.edu.tr/\\xa0with an ID card after specifying the date for back-up in order to getting the back-ups.\\nUser accounts of the leaving personnel can be forwarded to another e-mail address. You can get more information via\\xa0https://faq.cc.metu.edu.tr/faq/how-can-i-use-metu-e-mail-forwarding\\xa0\\nIf valid reasons are stated, the user code can be prolonged for an extra 3 months. You can request prolongation via\\xa0IT Support Service (https://itsupport.metu.edu.tr/)\\nThe demands for more than 3 months (User code can be prolonged for 1 year up to approval of the head of the department/unit) should be approved by the head of department/unit by filling the\\xa0F3 form.\\xa0The form must be taken to the Computer Center B-14 office.\\nResearch assistants whose duty term is over but the MS or Phd program persists, will be given 1 year prolongation until their education period is over.\\n\\n', 'link': 'https://faq.cc.metu.edu.tr/faq/when-does-personnel-user-code-expire-and-closed'}\n"
     ]
    },
    {
     "name": "stderr",
     "output_type": "stream",
     "text": [
      "Llama.generate: 34 prefix-match hit, remaining 312 prompt tokens to eval\n",
      "llama_perf_context_print:        load time =   19814.44 ms\n",
      "llama_perf_context_print: prompt eval time =       0.00 ms /   312 tokens (    0.00 ms per token,      inf tokens per second)\n",
      "llama_perf_context_print:        eval time =       0.00 ms /    58 runs   (    0.00 ms per token,      inf tokens per second)\n",
      "llama_perf_context_print:       total time =   20807.14 ms /   370 tokens\n",
      "Some weights of RobertaModel were not initialized from the model checkpoint at roberta-large and are newly initialized: ['roberta.pooler.dense.bias', 'roberta.pooler.dense.weight']\n",
      "You should probably TRAIN this model on a down-stream task to be able to use it for predictions and inference.\n"
     ]
    },
    {
     "name": "stdout",
     "output_type": "stream",
     "text": [
      "{'generated_response': \"I'd be happy to walk you through the process of registering a recovery e-mail address and resetting your METU password. Here's a step-by-step guide:\\n\\n**Registering a Recovery E-mail Address:**\\n\\n1. **Log in to METU User Account Management**: Go to the METU\", 'response_time': 20.809669971466064, 'precision_at_1': 0, 'bert_score': 0.8523181676864624, 'rouge_l_score': 0.2727272727272727, 'id': 112, 'synthetic_question': 'What steps should I follow to register a recovery e-mail address for my Middle East Technical University (METU) user account, and how can I reset my password if I forget it in the future? >', 'ground_truth_answer': '\\n\\n\\n\\nYou can get your new password if you add an alternate e-mail adress (password recovery/reset e-mail adress) using METU Alumni User Account Management https://alumniaccount.metu.edu.tr/ web page. To do so, you need to have a registered recovery e-mail.\\xa0\\nIf you have a registered e-mail address, click on \"Forgot password?” link\\nAfter filling the form, click on the “send e-mail” link. You should click the link sent to your e-mail address to reset and activate your new password.\\nIf you remember your password and want to register a recovery e-mail address please log on to METU User Account Management page, click \"REGISTER RECOVERY E-MAIL\" link to register an e-mail address (other than your @metu.edu.tr address).\\n\\n\\n\\n', 'link': 'https://faq.cc.metu.edu.tr/faq/i-forgot-my-metu-alumni-user-code-password-where-can-i-apply'}\n"
     ]
    },
    {
     "name": "stderr",
     "output_type": "stream",
     "text": [
      "Llama.generate: 115 prefix-match hit, remaining 200 prompt tokens to eval\n",
      "llama_perf_context_print:        load time =   19814.44 ms\n",
      "llama_perf_context_print: prompt eval time =       0.00 ms /   200 tokens (    0.00 ms per token,      inf tokens per second)\n",
      "llama_perf_context_print:        eval time =       0.00 ms /    66 runs   (    0.00 ms per token,      inf tokens per second)\n",
      "llama_perf_context_print:       total time =   16243.56 ms /   266 tokens\n",
      "Some weights of RobertaModel were not initialized from the model checkpoint at roberta-large and are newly initialized: ['roberta.pooler.dense.bias', 'roberta.pooler.dense.weight']\n",
      "You should probably TRAIN this model on a down-stream task to be able to use it for predictions and inference.\n",
      "Llama.generate: 34 prefix-match hit, remaining 394 prompt tokens to eval\n"
     ]
    },
    {
     "name": "stdout",
     "output_type": "stream",
     "text": [
      "{'generated_response': 'You can transfer files between the central server systems and your personal computer at METU using the Horde File Manager by following these steps:\\n\\n1. Access the Horde File Manager by logging in to your METU account.\\n2. Once you are in the Horde dashboard, click on the \"File Manager\" option.\\n3. From the File Manager', 'response_time': 16.24613118171692, 'precision_at_1': 1, 'bert_score': 0.8913103938102722, 'rouge_l_score': 0.3448275862068965, 'id': 116, 'synthetic_question': 'How can I transfer files between the central server systems and my personal computer using the Horde File Manager at METU?', 'ground_truth_answer': '\\n\\nIt is possible to transfer files between the central server systems and your personal computer by making use of the Horde File Manager. Once Horde is run, to perform the process you will have to choose the \"File Manager\" and \"METU\" under the \"Others\" menu.\\n\\nIn order to download a file resident on the central servers to your personal computer it is only necessary to click on the \\xa0icon. \\nIn the case of uploading a file in your personal computer to the central servers, using the section below the page, you should find the file you want to upload by clicking on the \"Browse\" button and once the file is chosen, click on the \"Upload File(s)\" button.\\n\\n', 'link': 'https://faq.cc.metu.edu.tr/faq/how-can-i-transfer-files-and-folders-between-my-metu-user-account-and-my-computer-using-horde'}\n"
     ]
    },
    {
     "name": "stderr",
     "output_type": "stream",
     "text": [
      "llama_perf_context_print:        load time =   19814.44 ms\n",
      "llama_perf_context_print: prompt eval time =       0.00 ms /   394 tokens (    0.00 ms per token,      inf tokens per second)\n",
      "llama_perf_context_print:        eval time =       0.00 ms /    83 runs   (    0.00 ms per token,      inf tokens per second)\n",
      "llama_perf_context_print:       total time =   33566.06 ms /   477 tokens\n",
      "Some weights of RobertaModel were not initialized from the model checkpoint at roberta-large and are newly initialized: ['roberta.pooler.dense.bias', 'roberta.pooler.dense.weight']\n",
      "You should probably TRAIN this model on a down-stream task to be able to use it for predictions and inference.\n"
     ]
    },
    {
     "name": "stdout",
     "output_type": "stream",
     "text": [
      "{'generated_response': \"Hello and welcome to the Middle East Technical University (METU)! I'm excited to help you navigate the IT services at our university.\\n\\nAs a new student at METU, you'll want to familiarize yourself with our IT services to make the most of your academic experience. Here's a brief overview to get you started:\\n\\n**Interactive Map**: You can explore our campus and locate various facilities using our interactive map at http\", 'response_time': 33.56882405281067, 'precision_at_1': 0, 'bert_score': 0.8247549533843994, 'rouge_l_score': 0.15819209039548024, 'id': 122, 'synthetic_question': 'As a newly registering student, where can I find the information to access my user account at Middle East Technical University (METU)?', 'ground_truth_answer': '\\n\\nIf you are a newly registering student, please\\xa0refer to\\xa0usercode.cc.metu.edu.tr and useraccount.metu.edu.tr\\nIf you are a special student, you may apply at room B-14 in the\\xa0 Computer Center with your temporary ID card and sign in to get your new password.\\nIf you are faculty or admin staff, you should first get a UserCode Application Form from your unit or departmental computer coordinator and fill it out. After getting the approval of the computer coordinator, you can apply, with your personnel ID, to room B-14 in the Computer Center and get your new password.\\n\\n', 'link': 'https://faq.cc.metu.edu.tr/faq/how-can-i-obtain-new-password'}\n"
     ]
    },
    {
     "name": "stderr",
     "output_type": "stream",
     "text": [
      "Llama.generate: 114 prefix-match hit, remaining 300 prompt tokens to eval\n",
      "llama_perf_context_print:        load time =   19814.44 ms\n",
      "llama_perf_context_print: prompt eval time =       0.00 ms /   300 tokens (    0.00 ms per token,      inf tokens per second)\n",
      "llama_perf_context_print:        eval time =       0.00 ms /    97 runs   (    0.00 ms per token,      inf tokens per second)\n",
      "llama_perf_context_print:       total time =   28002.15 ms /   397 tokens\n",
      "Some weights of RobertaModel were not initialized from the model checkpoint at roberta-large and are newly initialized: ['roberta.pooler.dense.bias', 'roberta.pooler.dense.weight']\n",
      "You should probably TRAIN this model on a down-stream task to be able to use it for predictions and inference.\n"
     ]
    },
    {
     "name": "stdout",
     "output_type": "stream",
     "text": [
      "{'generated_response': 'To use METU\\'s email forwarding service, follow these steps:\\n\\n1.  You will receive a reminder email from METU 1 month before your user code is to be terminated. This email will guide you on the necessary steps for email forwarding.\\n2.  Visit the METU Portal or use the link https://forward.metu.edu.tr to activate email forwarding. \\n3.  Log in with your METU user code and password.\\n4.  Fill in the \"Forward e', 'response_time': 28.005181074142456, 'precision_at_1': 0, 'bert_score': 0.8516899943351746, 'rouge_l_score': 0.17592592592592593, 'id': 154, 'synthetic_question': 'What is the process for setting up email forwarding for my METU email account after graduation, and how long will it remain active?', 'ground_truth_answer': '\\n\\nIn the scope of the Forwarding Service, the e-mail addresses of graduated students in the e100001metu.edu.tr format are left active for a term after graduation (for Spring term graduates till the March of the next year and for Fall graduates till November of the same year) and terminated and directed to an indicated e-mail address forever, at the end of that duration .\\nFor prospective graduate students, a warning message is sent 6 months before, stating that their account will be terminated, followed by a reminding message 1 month before the termination. The students can do the forwarding after the reminding message before the termination or whenever they want after their account is terminated.\\nFor more information on e-mail forwarding, please visit https://faq.cc.metu.edu.tr/faq/how-can-i-use-metu-e-mail-forwarding\\n\\n', 'link': 'https://faq.cc.metu.edu.tr/faq/can-i-forward-my-e-mails-arrive-my-metu-user-account-after-i-graduate'}\n"
     ]
    },
    {
     "name": "stderr",
     "output_type": "stream",
     "text": [
      "Llama.generate: 413 prefix-match hit, remaining 1 prompt tokens to eval\n",
      "llama_perf_context_print:        load time =   19814.44 ms\n",
      "llama_perf_context_print: prompt eval time =       0.00 ms /     1 tokens (    0.00 ms per token,      inf tokens per second)\n",
      "llama_perf_context_print:        eval time =       0.00 ms /    98 runs   (    0.00 ms per token,      inf tokens per second)\n",
      "llama_perf_context_print:       total time =   10056.68 ms /    99 tokens\n",
      "Some weights of RobertaModel were not initialized from the model checkpoint at roberta-large and are newly initialized: ['roberta.pooler.dense.bias', 'roberta.pooler.dense.weight']\n",
      "You should probably TRAIN this model on a down-stream task to be able to use it for predictions and inference.\n"
     ]
    },
    {
     "name": "stdout",
     "output_type": "stream",
     "text": [
      "{'generated_response': \"To use METU e-mail forwarding, you'll need to follow these steps:\\n\\n1. **Check your eligibility**: If you're a METU Alumni or a former METU staff, you can activate email forwarding. If your user code has been terminated more than 4 weeks ago, you can apply for backup and then activate email forwarding.\\n\\n2. **Log in to METU Portal**: Go to the METU Portal to activate email forwarding. Alternatively, you can visit the email forwarding website\", 'response_time': 10.060545921325684, 'precision_at_1': 1, 'bert_score': 0.8628767728805542, 'rouge_l_score': 0.17067833698030632, 'id': 160, 'synthetic_question': ' What should I do if I cannot access my METU user code to activate e-mail forwarding?', 'ground_truth_answer': '\\n\\nMETU Alumni and former METU staff can continue to receive e-mails sent to their METU e-mail addresses by activating the\\xa0e-mail forwarding to another e-mail address they have.\\n\\nUsers will receive reminder e-mails 1 month before their user codes are to be terminated, informing them about the user code termination and the necessary steps for e-mail forwarding. After receiving this e-mail, they can activate e-mail forwarding\\xa0with the last password they use. To activate \"e-mail forwarding\" service, please visit METU Portal. You can also activate forwarding via https://forward.metu.edu.tr.\\n\\nAfter the activation of e-mail forwarding, new e-mails sent to your METU e-mail address will be automatically forwarded to the e-mail address you indicated. E-mail forwarding is not valid for already received e-mails in your inbox. If you want to archive those e-mails, please visit this link. If your METU user code has been terminated in the last 4 weeks, you can apply for backup.\\nTo activate e-mail forwarding, you need to log in with your METU user code and password. After logging in, you can type in the e-mail address you want your METU e-mail address to be redirected to, in the Forward e-mail to text box and click Update. Then, your e-mail forwarding is activated. To deactivate e-mail forwarding, please click Forwarding on or off button.\\n\\nWhat should you do if you cannot access your usercode?\\n\\nIf your user code had been terminated and you do not remember your password, please send a photo of your identity card (only the front side) and indicate your student number / staff ID number and the forwarding address you prefer via the IT Support Form. (allowed file types in the form are: pdf, png, jpeg, gif and maximum file upload size: 2MB ) Then, Computer Center IT Support Team will activate your e-mail forwarding service. You will receive an automatic e-mail once your e-mail forwarding is activated.\\nE-mail forwarding serves only the purpose to forward the e-mails sent to your METU e-mail address to another e-mail address you specify. No e-mails can be sent via your METU e-mail address.\\n\\n\\n', 'link': 'https://faq.cc.metu.edu.tr/faq/how-can-i-use-metu-e-mail-forwarding'}\n"
     ]
    },
    {
     "name": "stderr",
     "output_type": "stream",
     "text": [
      "Llama.generate: 34 prefix-match hit, remaining 378 prompt tokens to eval\n",
      "llama_perf_context_print:        load time =   19814.44 ms\n",
      "llama_perf_context_print: prompt eval time =       0.00 ms /   378 tokens (    0.00 ms per token,      inf tokens per second)\n",
      "llama_perf_context_print:        eval time =       0.00 ms /    11 runs   (    0.00 ms per token,      inf tokens per second)\n",
      "llama_perf_context_print:       total time =   24953.76 ms /   389 tokens\n",
      "Some weights of RobertaModel were not initialized from the model checkpoint at roberta-large and are newly initialized: ['roberta.pooler.dense.bias', 'roberta.pooler.dense.weight']\n",
      "You should probably TRAIN this model on a down-stream task to be able to use it for predictions and inference.\n"
     ]
    },
    {
     "name": "stdout",
     "output_type": "stream",
     "text": [
      "{'generated_response': \"To avoid having your emails blocked by METU's email servers\", 'response_time': 24.957498788833618, 'precision_at_1': 1, 'bert_score': 0.8405001759529114, 'rouge_l_score': 0.05319148936170213, 'id': 164, 'synthetic_question': 'How can I ensure that e-mails I send from an email service provider outside of METU to my METU email address are not blocked, since they are sent from a server outside of campus?', 'ground_truth_answer': '\\n\\nE-mail messages sent from a usermetu.edu.tr structured e-mail address to an e-mail address with the same structure; in other words, e-mail messages with \"usermetu.edu.tr\" for both the \"To:\" and \"From:\" fields (the sender and the recipient are the same) are blocked unless they are sent via \"mail.metu.edu.tr\" server.\\nThis procedure is applied in order to block the unwanted messages from out of campus sources, like fake and/or spam messages, to be distributed.\\nFor this reason, when you direct the e-mail account provided by an email service provider from outside of METU to the e-mail address with the METU central user code, e-mail messages sent from an account with a METU field name will be classified as fake/spam e-mail and blocked by the central servers since it will be conveyed through a server which is out of campus.\\nImportant: Directing from departmental e-mail accounts (e.g. xxxxx.metu.edu.tr) is not within the scope and therefore is not blocked.\\n\\n', 'link': 'https://faq.cc.metu.edu.tr/faq/i-cannot-send-message-my-metu-account-external-e-mail-address-which-has-been-directed-address'}\n"
     ]
    },
    {
     "name": "stderr",
     "output_type": "stream",
     "text": [
      "Llama.generate: 116 prefix-match hit, remaining 192 prompt tokens to eval\n",
      "llama_perf_context_print:        load time =   19814.44 ms\n",
      "llama_perf_context_print: prompt eval time =       0.00 ms /   192 tokens (    0.00 ms per token,      inf tokens per second)\n",
      "llama_perf_context_print:        eval time =       0.00 ms /    99 runs   (    0.00 ms per token,      inf tokens per second)\n",
      "llama_perf_context_print:       total time =   21280.06 ms /   291 tokens\n",
      "Some weights of RobertaModel were not initialized from the model checkpoint at roberta-large and are newly initialized: ['roberta.pooler.dense.bias', 'roberta.pooler.dense.weight']\n",
      "You should probably TRAIN this model on a down-stream task to be able to use it for predictions and inference.\n"
     ]
    },
    {
     "name": "stdout",
     "output_type": "stream",
     "text": [
      "{'generated_response': \"It's frustrating when emails don't reach your inbox. Let's troubleshoot the issue together. \\n\\nThere are a few possible reasons why your METU email might not be receiving emails:\\n\\n1. **Email Forwarding Issue**: One potential reason could be that the email forwarding feature is still active, but you need to re-enable it. This happens when you restart your studies or work at METU and the forwarding settings don't automatically get reset.\\n2. **Technical Issues**: There could be technical problems\", 'response_time': 21.2832989692688, 'precision_at_1': 1, 'bert_score': 0.8539592027664185, 'rouge_l_score': 0.15706806282722513, 'id': 165, 'synthetic_question': 'Why isnt my METU email receiving emails, and how can I check if the email forwarding is still active and how to reactivate it if necessary.', 'ground_truth_answer': \"\\n\\nIf you don't receive any e-mails sent to your METU e-mail address, please check the following:\\nIf you use METU e-mail forwarding and you restart to work or to study at METU, the e-mail forwarding stays active as long as you disable it. For more information, please visit\\xa0https://faq.cc.metu.edu.tr/faq/how-can-i-use-metu-e-mail-forwarding\\xa0\\nIf possible, please check the sender whether the e-mail returned to them. If the e-mail returns to them, the possible reasons why the e-mail could not be delivered to you will be listed in that e-mail.\\n \\n\", 'link': 'https://faq.cc.metu.edu.tr/faq/i-dont-receive-e-mails-sent-my-metu-e-mail-address-what-can-be-wrong'}\n"
     ]
    },
    {
     "name": "stderr",
     "output_type": "stream",
     "text": [
      "Llama.generate: 34 prefix-match hit, remaining 368 prompt tokens to eval\n",
      "llama_perf_context_print:        load time =   19814.44 ms\n",
      "llama_perf_context_print: prompt eval time =       0.00 ms /   368 tokens (    0.00 ms per token,      inf tokens per second)\n",
      "llama_perf_context_print:        eval time =       0.00 ms /   109 runs   (    0.00 ms per token,      inf tokens per second)\n",
      "llama_perf_context_print:       total time =   34867.29 ms /   477 tokens\n",
      "Some weights of RobertaModel were not initialized from the model checkpoint at roberta-large and are newly initialized: ['roberta.pooler.dense.bias', 'roberta.pooler.dense.weight']\n",
      "You should probably TRAIN this model on a down-stream task to be able to use it for predictions and inference.\n"
     ]
    },
    {
     "name": "stdout",
     "output_type": "stream",
     "text": [
      "{'generated_response': 'I\\'d be happy to help you configure METU E-Mail Services on your iPhone or iPad. Here\\'s a step-by-step guide to set it up correctly:\\n\\n**Setting up METU E-Mail on iPhone or iPad:**\\n\\n1.  First, navigate to the \"Settings\" app on your device.\\n2.  Scroll down and select \"Mail, Contacts, Calendars.\"\\n3.  Tap \"Add Account\" and then select \"Other.\"\\n4.  Choose \"Add Mail Account\" from the options.\\n5.  Enter your name,', 'response_time': 34.87094688415527, 'precision_at_1': 1, 'bert_score': 0.8298008441925049, 'rouge_l_score': 0.13861386138613863, 'id': 175, 'synthetic_question': ' How can I set up my iPhone or iPad to read and send emails from Middle East Technical Universitys central email server?', 'ground_truth_answer': '\\n\\nYou should configure the settings on the central e-mail server in order to read and send e-mail via your iPhone or iPad.\\nSelect Settings > Mail, Contacts, Calendars and tap Add Account.\\n\\n\\xa0\\n\\nOn \"Add Account\" screen select Other and on the next screen tap Add Mail Account.\\n\\n\\xa0\\n\\nOn \"New Account\" screen write down your name, e-mail address and password and tap Next. Wait until your account is verified.\\n\\n\\xa0\\n\\nIf you want to access your folders on the server and messages from multiple devices such as computer, mobile phone etc. choose \"IMAP\". Write down the incoming mail server as imap.metu.edu.tr. If you want to download your inbox onto your device, access your messages only locally and you do not need to access your folders on the server choose \"POP\". Write down the incoming mail server as pop3.metu.edu.tr.\\nFor both options, write down the outgoing mail server as smtp.metu.edu.tr. Enter your user name and password for both servers and tap Next.\\n\\n\\xa0\\n\\nWhile your user name and password are being verified, tap Continue on the warning on the screen. If you have chosen IMAP, make sure that \"Mail\" switch is ON to be able to send and receive e-mails. Tap Save to save the settings.\\n\\n\\xa0\\n\\nIf you want to check or change the settings later, select Settings > Mail, Contacts, Calendars. Choose your account under \"Accounts\". On the next screen tap your e-mail address.\\n\\n\\xa0\\n\\nIn order to check or change outgoing mail server settings, tap \"SMTP\" on \"Account\" screen. You can see the settings when you tap \"smtp.metu.edu.tr\" address. \"Use SSL\" option should be ON, \"Authentication\" should be Password and the port number should be 587.\\n\\n\\xa0\\n\\nIn order to check or change incoming mail server settings, tap \"Advanced\" on \"Account\" screen. Port numbers should be 993 for IMAP and 995 for POP. For both options \"Use SSL\" option should be ON and \"Authentication\" should be Password.\\n\\n\\xa0\\n\\n \\n', 'link': 'https://faq.cc.metu.edu.tr/faq/how-can-i-use-metu-e-mail-services-iphone-or-ipad'}\n"
     ]
    },
    {
     "name": "stderr",
     "output_type": "stream",
     "text": [
      "Llama.generate: 124 prefix-match hit, remaining 274 prompt tokens to eval\n",
      "llama_perf_context_print:        load time =   19814.44 ms\n",
      "llama_perf_context_print: prompt eval time =       0.00 ms /   274 tokens (    0.00 ms per token,      inf tokens per second)\n",
      "llama_perf_context_print:        eval time =       0.00 ms /   113 runs   (    0.00 ms per token,      inf tokens per second)\n",
      "llama_perf_context_print:       total time =   29692.03 ms /   387 tokens\n",
      "Some weights of RobertaModel were not initialized from the model checkpoint at roberta-large and are newly initialized: ['roberta.pooler.dense.bias', 'roberta.pooler.dense.weight']\n",
      "You should probably TRAIN this model on a down-stream task to be able to use it for predictions and inference.\n"
     ]
    },
    {
     "name": "stdout",
     "output_type": "stream",
     "text": [
      "{'generated_response': \"Setting up your METU email account in Mozilla Thunderbird is a straightforward process. I'll guide you through the steps to ensure you can access your email account efficiently.\\n\\n**Step 1: Open Mozilla Thunderbird and configure the settings**\\n\\n1. Open Mozilla Thunderbird on your computer.\\n2. Select `Tools` from the top menu, then choose `Account Settings`.\\n3. Click on `Account Actions` and select `Add Mail Account` from the dropdown list. This will open the `Mail Account Setup` window.\\n\\n**Step 2: Enter your account information\", 'response_time': 29.69504189491272, 'precision_at_1': 1, 'bert_score': 0.8462369441986084, 'rouge_l_score': 0.1468354430379747, 'id': 176, 'synthetic_question': ' How can I set up Mozilla Thunderbird to read and send emails securely using IMAP or POP3 at Middle East Technical University (METU)?', 'ground_truth_answer': '\\n\\nYou should configure the settings on the central e-mail server in order to read and send e-mail via Mozilla Thunderbird.\\nOpen \"Account Settings\" window by selecting Tools > Account Settings from the menu. Then click Account Actions, select Add Mail Account from the drop down list in order to open \"Mail Account Setup\" window (This window will automatically appear when you initially start Mozilla Thunderbird).\\nWrite down your name, e-mail address and password to the boxes in the window and click Continue. If you want your password to be remembered on later entries, tick \"Remember password\" check box.\\n\\nMozilla Thunderbird defines default server settings automatically. Click Create Account to use these settings.\\nTo change the default settings click Manual config. If you want to access your folders on the server and messages from multiple computers, choose \"IMAP\". If you want to download your inbox onto one single computer, access your messages only locally and you do not need to access your folders on the server, choose \"POP3\".\\nIn order to use secure IMAP connection the port number should be 993, connection security (SSL) should be SSL/TLS and authentication method should be Normal Password.\\nIn order to use secure POP3 connection the port number should be 995, connection security (SSL) should be SSL/TLS and authentication method should be Normal Password.\\nFor both options, the outgoing server name should be smtp.metu.edu.tr, port number should be 465, connection security (SSL) should be SSL/TLS\\xa0and authentication method should be Normal Password. \\n\\nIf you want to check or change the settings later, open \"Account Settings\" window by selecting Tools > Account Settings from the menu. Then select \"Server Settings\" under your account from the list on the left frame.\\n\\nNote: This document is based on Mozilla Thunderbird 7.0 version. Menus and options may vary with the previous versions.\\n\\n', 'link': 'https://faq.cc.metu.edu.tr/faq/how-can-i-use-metu-e-mail-services-mozilla-thunderbird'}\n"
     ]
    },
    {
     "name": "stderr",
     "output_type": "stream",
     "text": [
      "Llama.generate: 124 prefix-match hit, remaining 274 prompt tokens to eval\n",
      "llama_perf_context_print:        load time =   19814.44 ms\n",
      "llama_perf_context_print: prompt eval time =       0.00 ms /   274 tokens (    0.00 ms per token,      inf tokens per second)\n",
      "llama_perf_context_print:        eval time =       0.00 ms /   113 runs   (    0.00 ms per token,      inf tokens per second)\n",
      "llama_perf_context_print:       total time =   30745.18 ms /   387 tokens\n",
      "Some weights of RobertaModel were not initialized from the model checkpoint at roberta-large and are newly initialized: ['roberta.pooler.dense.bias', 'roberta.pooler.dense.weight']\n",
      "You should probably TRAIN this model on a down-stream task to be able to use it for predictions and inference.\n"
     ]
    },
    {
     "name": "stdout",
     "output_type": "stream",
     "text": [
      "{'generated_response': 'I\\'d be happy to help you set up your METU email account in Windows Mail on Windows Vista.\\n\\nTo configure your METU email account on Windows Mail, follow these steps:\\n\\n1. **Open Windows Mail**: First, open Windows Mail by clicking on the Windows button and searching for \"Mail\" in the search bar. Alternatively, you can also find it in the Start menu.\\n2. **Open the Accounts window**: Click on \"Tools\" from the menu at the top of the window, then select \"Accounts.\" This will open the \"Internet Accounts\" window', 'response_time': 30.74829864501953, 'precision_at_1': 1, 'bert_score': 0.834740400314331, 'rouge_l_score': 0.16521739130434782, 'id': 178, 'synthetic_question': ' How do I set up Windows Mail on Windows Vista to read and send emails using the central server at Middle East Technical University (METU), with secure IMAP or POP3 connections?', 'ground_truth_answer': '\\n\\nYou should configure the settings on the central e-mail server in order to read and send e-mail via Windows Mail which is installed on Windows Vista.\\nOpen \"Internet Accounts\" window by selecting Tools > Accounts from the menu. Then click Add and select E-mail Account.\\n\\nWrite down your name and click Next  on the next window (This window will automatically appear when you initially start Windows Mail).\\nWrite down your e-mail address and click Next  in order to open the server settings window. If you want to access your folders on the server and messages from multiple computers, choose \"IMAP\". Write down the incoming mail server as imap.metu.edu.tr.\\n\\nIf you want to download your inbox onto one single computer, access your messages only locally and you do not need to access your folders on the server, choose \"POP3\". Write down the incoming mail server as pop3.metu.edu.tr.\\n\\nFor both options, write down the outgoing e-mail server as smtp.metu.edu.tr, tick \"Outgoing server requires authentication\" check box and click Next .\\nWrite down your user name and password on the next window. If you want your password to be remembered on later entries, tick \"Remember password\" check box. Click Next  in order to finish the configuration on the next window.\\n\\nIn order to use secure IMAP connection click Properties on \"Internet Accounts\" window. Select  Advanced tab, write down the port numbers 587 for \"Outgoing mail (SMTP)\" and 993 for \"Incoming mail (IMAP)\". Tick the both \"This server requires a secure connection (SSL)\" check boxes.\\n\\nIn order to use secure POP3 connection click Properties on \"Internet Accounts\" window. Select  Advanced tab, write down the port numbers 587 for \"Outgoing mail (SMTP)\" and 995 for \"Incoming mail (POP3)\". Tick the both \"This server requires a secure connection (SSL)\" check boxes. If you don\\'t want to download all messages at this time, tick \"Leave a copy of messages on server\" check box.\\n\\n\\nIf you want to check or change the settings later, open \"Internet Accounts\" window by selecting Tools > Accounts and click Properties.\\nNote: This document is based on Windows Mail 6.0 version. Menus and options may vary with the previous versions.\\n\\n', 'link': 'https://faq.cc.metu.edu.tr/faq/how-can-i-use-metu-e-mail-services-windows-mail'}\n"
     ]
    },
    {
     "name": "stderr",
     "output_type": "stream",
     "text": [
      "Llama.generate: 34 prefix-match hit, remaining 313 prompt tokens to eval\n",
      "llama_perf_context_print:        load time =   19814.44 ms\n",
      "llama_perf_context_print: prompt eval time =       0.00 ms /   313 tokens (    0.00 ms per token,      inf tokens per second)\n",
      "llama_perf_context_print:        eval time =       0.00 ms /    46 runs   (    0.00 ms per token,      inf tokens per second)\n",
      "llama_perf_context_print:       total time =   24413.40 ms /   359 tokens\n",
      "Some weights of RobertaModel were not initialized from the model checkpoint at roberta-large and are newly initialized: ['roberta.pooler.dense.bias', 'roberta.pooler.dense.weight']\n",
      "You should probably TRAIN this model on a down-stream task to be able to use it for predictions and inference.\n"
     ]
    },
    {
     "name": "stdout",
     "output_type": "stream",
     "text": [
      "{'generated_response': \"I completely understand your concern. Managing email filters in Roundcube and Horde can be a bit tricky, but don't worry, I'm here to help.\\n\\nTo prevent losing your filters when editing them in Horde, you can follow these steps\", 'response_time': 24.416728973388672, 'precision_at_1': 1, 'bert_score': 0.8564343452453613, 'rouge_l_score': 0.13402061855670103, 'id': 191, 'synthetic_question': 'How can I manage my email filters in Roundcube without losing them when I edit filters in the Horde interface?', 'ground_truth_answer': '\\n\\nRoundcube\\'s \"Filters\" feature can be used to prevent spam from taking up space in the \"Inbox\" folder or to automatically move e-mails from certain people and/or certain topics to certain folders.\\nTo use this feature, after entering Roundcube, first click the \"Settings\" button on the main panel and then the \"Filters\" button.\\nWarning: The filters defined in the Horde, one of the METU webmail interfaces, can also be viewed and used from the Roundcube interface. New filters to be defined in Roundcube are added to the filter set previously defined in the Horde interface. On the other hand, filters created in Roundcube are deleted when filters are edited by logging into the Horde interface again after the filter is created in Roundcube. Although it is planned to eliminate this problem when the testing phase of the Roundcube interface is completed, we recommend our users to be careful about this issue.\\n\\n', 'link': 'https://faq.cc.metu.edu.tr/faq/how-can-i-filter-incoming-e-mails-roundcube'}\n"
     ]
    },
    {
     "name": "stderr",
     "output_type": "stream",
     "text": [
      "Llama.generate: 118 prefix-match hit, remaining 215 prompt tokens to eval\n",
      "llama_perf_context_print:        load time =   19814.44 ms\n",
      "llama_perf_context_print: prompt eval time =       0.00 ms /   215 tokens (    0.00 ms per token,      inf tokens per second)\n",
      "llama_perf_context_print:        eval time =       0.00 ms /    69 runs   (    0.00 ms per token,      inf tokens per second)\n",
      "llama_perf_context_print:       total time =   20843.08 ms /   284 tokens\n",
      "Some weights of RobertaModel were not initialized from the model checkpoint at roberta-large and are newly initialized: ['roberta.pooler.dense.bias', 'roberta.pooler.dense.weight']\n",
      "You should probably TRAIN this model on a down-stream task to be able to use it for predictions and inference.\n"
     ]
    },
    {
     "name": "stdout",
     "output_type": "stream",
     "text": [
      "{'generated_response': \"Configuring the Safe Exam Browser (SEB) for use in your course at Middle East Technical University (METU) is a straightforward process after you've installed it on your Windows computer. Here's a step-by-step guide to help you:\\n\\n1.  **Access the SEB Configuration Tool**: Once you've installed the SEB, you can\", 'response_time': 20.846763372421265, 'precision_at_1': 1, 'bert_score': 0.8419745564460754, 'rouge_l_score': 0.17341040462427745, 'id': 199, 'synthetic_question': 'How do I configure the Safe Exam Browser (SEB) for use in my course, after installing it on my Windows computer, using the provided settings file from my instructor?', 'ground_truth_answer': '\\n\\nYou can download the SEB for Windows Installation setup program (also containing the SEB Windows configuration tool) from SEB\\xa0website. After download is completed, start\\xa0SafeExamBrowserInstaller.exe\\xa0and follow the steps in the installation program. The installation is straighforward.\\nAfter the installation, you need to configure the software with SEB Config Tool shortcut in the start menu or the SEBConfigTool.exe file located in the SEB application folder (usually C:\\\\Program Files or C:\\\\Program Files (x86)).\\n\\nYou can provide the settings file provided by your instructor either by\\nentering the URL in the Start URL text box\\nlocating the configuration file via File / Open Settings\\xa0\\xa0\\nAfter this step, please close the Config Tool and start Safe Exam Browser.\\n\\n', 'link': 'https://faq.cc.metu.edu.tr/faq/how-can-i-join-exam-safe-exam-browser'}\n"
     ]
    },
    {
     "name": "stderr",
     "output_type": "stream",
     "text": [
      "Llama.generate: 118 prefix-match hit, remaining 200 prompt tokens to eval\n",
      "llama_perf_context_print:        load time =   19814.44 ms\n",
      "llama_perf_context_print: prompt eval time =       0.00 ms /   200 tokens (    0.00 ms per token,      inf tokens per second)\n",
      "llama_perf_context_print:        eval time =       0.00 ms /    77 runs   (    0.00 ms per token,      inf tokens per second)\n",
      "llama_perf_context_print:       total time =   20552.79 ms /   277 tokens\n",
      "Some weights of RobertaModel were not initialized from the model checkpoint at roberta-large and are newly initialized: ['roberta.pooler.dense.bias', 'roberta.pooler.dense.weight']\n",
      "You should probably TRAIN this model on a down-stream task to be able to use it for predictions and inference.\n"
     ]
    },
    {
     "name": "stdout",
     "output_type": "stream",
     "text": [
      "{'generated_response': 'Updating your personal information on the METU Phonebook is a straightforward process. Here are the step-by-step instructions to update your personal web address and phone number:\\n\\n1. **Login to the METU Phonebook**: Go to [https://phonebook.metu.edu.tr](https://phonebook.metu.edu.tr) and enter your username and password.\\n2. **Click on the Control', 'response_time': 20.55680227279663, 'precision_at_1': 1, 'bert_score': 0.8775209188461304, 'rouge_l_score': 0.26589595375722547, 'id': 200, 'synthetic_question': 'How can I update my personal web address and phone number on the METU Phonebook, and where can I find the fields to enter the new information?', 'ground_truth_answer': '\\n\\nTo update your personal web address and phone number in the Phonebook (https://phonebook.metu.edu.tr) you must first login to the system with your user name and password:\\n\\nBy clicking on the \"Control Panel\" (Kontrol Paneli) link on the screen after logging in, you can enter your personal web address and phone number from the fields that appear below; or if you have previously added information, you can change it. \"Güncelle\" (Update) button should be clicked to save the information.\\n\\nThe information viewed on this screen belonging to you, other than your personal web address and phone number, is automatically transferred from the Human Resources Management System (IKYS) under the Directorate of Personnel.\\n\\n', 'link': 'https://faq.cc.metu.edu.tr/faq/how-can-i-update-my-information-in-the-phonebook'}\n"
     ]
    },
    {
     "name": "stderr",
     "output_type": "stream",
     "text": [
      "Llama.generate: 34 prefix-match hit, remaining 361 prompt tokens to eval\n",
      "llama_perf_context_print:        load time =   19814.44 ms\n",
      "llama_perf_context_print: prompt eval time =       0.00 ms /   361 tokens (    0.00 ms per token,      inf tokens per second)\n",
      "llama_perf_context_print:        eval time =       0.00 ms /   116 runs   (    0.00 ms per token,      inf tokens per second)\n",
      "llama_perf_context_print:       total time =   34798.79 ms /   477 tokens\n",
      "Some weights of RobertaModel were not initialized from the model checkpoint at roberta-large and are newly initialized: ['roberta.pooler.dense.bias', 'roberta.pooler.dense.weight']\n",
      "You should probably TRAIN this model on a down-stream task to be able to use it for predictions and inference.\n"
     ]
    },
    {
     "name": "stdout",
     "output_type": "stream",
     "text": [
      "{'generated_response': \"I'm here to help with any questions you have about Middle East Technical University (METU). However, I can also address the issue you mentioned about ReCaptcha image validation. \\n\\nThe information you're looking for is not specific to METU, but I can provide a general answer. The ReCaptcha image validation is a security measure implemented on the registration page to verify that you're not a robot. It is a third-party service provided by Google, and you can learn more about how it works by visiting the URL I'll provide.\\n\\nIf you're experiencing issues with the Re\", 'response_time': 34.80190420150757, 'precision_at_1': 1, 'bert_score': 0.8361526727676392, 'rouge_l_score': 0.15151515151515152, 'id': 201, 'synthetic_question': 'Why might I be asked to complete multiple Google ReCaptcha verifications during the registration process at Middle East Technical University (METU), and how can I test the service beforehand?', 'ground_truth_answer': \"\\n\\nGoogle ReCaptcha service is added to the user's browser automatically and verified by Google. In addition, since this service has a timeout, the verification may time out by itself when the correct ones are selected from the images shown on the screen and waiting for a while.\\nIn addition to these, accesses from different IP addresses, some extension used in the browser, opening many pages in the incognito tab, wrong selections in the images provided by the ReCaptcha service may cause more information to be requested and verification images to be shown in order to prove that you are not a robot in subsequent verifications.\\nYou can experience how the Google ReCaptcha service works outside the registration page by\\xa0accessing https://www.google.com/recaptcha/api2/demo?invisible=false and experience the image verification service that will appear on the screen by opening the same address in an incognito tab.\\nIn some cases, there are inconsistencies between the information requested by the ReCaptcha\\xa0verification service and the images displayed on the screen. For example, when the service requests you to select a fire hydrant in verification, there may not be a fire hydrant in the pictures shown. In such a case, it is necessary to proceed to the next verification by clicking skip. We do not interfere with the Google ReCaptcha verification service used on our registration page.\\n\\n\", 'link': 'https://faq.cc.metu.edu.tr/faq/where-can-i-find-information-about-recaptcha-image-validation-im-not-robot-registration-page'}\n"
     ]
    },
    {
     "name": "stderr",
     "output_type": "stream",
     "text": [
      "Llama.generate: 34 prefix-match hit, remaining 148 prompt tokens to eval\n",
      "llama_perf_context_print:        load time =   19814.44 ms\n",
      "llama_perf_context_print: prompt eval time =       0.00 ms /   148 tokens (    0.00 ms per token,      inf tokens per second)\n",
      "llama_perf_context_print:        eval time =       0.00 ms /   178 runs   (    0.00 ms per token,      inf tokens per second)\n",
      "llama_perf_context_print:       total time =   25239.83 ms /   326 tokens\n",
      "Some weights of RobertaModel were not initialized from the model checkpoint at roberta-large and are newly initialized: ['roberta.pooler.dense.bias', 'roberta.pooler.dense.weight']\n",
      "You should probably TRAIN this model on a down-stream task to be able to use it for predictions and inference.\n"
     ]
    },
    {
     "name": "stdout",
     "output_type": "stream",
     "text": [
      "{'generated_response': \"When applying to Middle East Technical University (METU), certain departments require a portfolio in addition to the online application. Here's a step-by-step guide on how to submit your portfolio for the departments that require it:\\n\\n**Departments that require a portfolio:**\\n\\n1. Faculty of Architecture\\n2. Faculty of Fine Arts and Design\\n3. Faculty of Fine Arts and Design (Graphic Design, Painting, Printmaking, and Photography programs)\\n4. Department of Industrial Design\\n5. Department of Visual Communication Design\\n\\n**Submitting your portfolio:**\\n\\n1. **Online Application**: First, ensure you have submitted your online application through the METU website.\\n2. **Additional Documents**: Once you have submitted your online application, you will be able to upload additional documents, including your portfolio, through the Additional Document Module.\\n3. **Portfolio Format**: The required format for the portfolio varies depending on the\", 'response_time': 25.24319291114807, 'precision_at_1': 1, 'bert_score': 0.8289458751678467, 'rouge_l_score': 0.0958904109589041, 'id': 204, 'synthetic_question': 'What is the process for submitting my portfolio to the additional document module for the Middle East Technical University (METU) application?', 'ground_truth_answer': '\\n\\nYou can add your portfolio to the additional document module.\\n\\n', 'link': 'https://faq.cc.metu.edu.tr/faq/which-department-applications-portfolio-required-and-when-and-where-those-should-be-submitted'}\n"
     ]
    },
    {
     "name": "stderr",
     "output_type": "stream",
     "text": [
      "Llama.generate: 115 prefix-match hit, remaining 70 prompt tokens to eval\n",
      "llama_perf_context_print:        load time =   19814.44 ms\n",
      "llama_perf_context_print: prompt eval time =       0.00 ms /    70 tokens (    0.00 ms per token,      inf tokens per second)\n",
      "llama_perf_context_print:        eval time =       0.00 ms /    31 runs   (    0.00 ms per token,      inf tokens per second)\n",
      "llama_perf_context_print:       total time =    6138.43 ms /   101 tokens\n",
      "Some weights of RobertaModel were not initialized from the model checkpoint at roberta-large and are newly initialized: ['roberta.pooler.dense.bias', 'roberta.pooler.dense.weight']\n",
      "You should probably TRAIN this model on a down-stream task to be able to use it for predictions and inference.\n",
      "Llama.generate: 115 prefix-match hit, remaining 84 prompt tokens to eval\n"
     ]
    },
    {
     "name": "stdout",
     "output_type": "stream",
     "text": [
      "{'generated_response': 'You can submit your questions or problems about the application process for METU\\'s graduate programs through the \"Information Request about METU Graduate Programs Application\" form.', 'response_time': 6.142359972000122, 'precision_at_1': 1, 'bert_score': 0.9561099410057068, 'rouge_l_score': 0.6956521739130435, 'id': 206, 'synthetic_question': 'What is the proper method for submitting questions or issues regarding the application process for METUs graduate programs?', 'ground_truth_answer': '\\n\\nPlease send your questions or problems about application to graduate programs via Information Request about METU Graduate Programs Application form.\\n\\n', 'link': 'https://faq.cc.metu.edu.tr/faq/how-can-i-get-help-technical-errors-encountered-during-application'}\n"
     ]
    },
    {
     "name": "stderr",
     "output_type": "stream",
     "text": [
      "llama_perf_context_print:        load time =   19814.44 ms\n",
      "llama_perf_context_print: prompt eval time =       0.00 ms /    84 tokens (    0.00 ms per token,      inf tokens per second)\n",
      "llama_perf_context_print:        eval time =       0.00 ms /   162 runs   (    0.00 ms per token,      inf tokens per second)\n",
      "llama_perf_context_print:       total time =   20214.87 ms /   246 tokens\n",
      "Some weights of RobertaModel were not initialized from the model checkpoint at roberta-large and are newly initialized: ['roberta.pooler.dense.bias', 'roberta.pooler.dense.weight']\n",
      "You should probably TRAIN this model on a down-stream task to be able to use it for predictions and inference.\n"
     ]
    },
    {
     "name": "stdout",
     "output_type": "stream",
     "text": [
      "{'generated_response': 'As a foreign applicant who is also a Turkish citizen, I completely understand the potential issue you might face.\\n\\nTo avoid having your application rejected due to providing incorrect information, you should ensure you apply as a domestic applicant when submitting your application to the Middle East Technical University (METU). Here\\'s how:\\n\\n1.  **Check your nationality and citizenship status**: Confirm that you are a Turkish citizen. As a Turkish citizen, you are considered a domestic applicant.\\n2.  **Apply as a domestic student**: Choose the \"Domestic Student\" option when you\\'re asked about your status. This will allow you to proceed with the application process as a Turkish citizen.\\n3.  **Be prepared to provide required documents**: As a domestic student, you might need to provide additional documents such as your TRNC ID (T', 'response_time': 20.22139573097229, 'precision_at_1': 1, 'bert_score': 0.8633741140365601, 'rouge_l_score': 0.15483870967741933, 'id': 210, 'synthetic_question': 'What should I do if I am a foreign applicant and I am a Turkish citizen, to ensure my application is not rejected due to misinformation?', 'ground_truth_answer': '\\n\\nIf you are a Turkish candidate entering the system as a foreign applicant, your application will be rejected due to providing misinformation.\\n\\n', 'link': 'https://faq.cc.metu.edu.tr/faq/i-do-not-prefer-enter-my-tck-no-what-will-be-consequences'}\n"
     ]
    },
    {
     "name": "stderr",
     "output_type": "stream",
     "text": [
      "Llama.generate: 116 prefix-match hit, remaining 98 prompt tokens to eval\n",
      "llama_perf_context_print:        load time =   19814.44 ms\n",
      "llama_perf_context_print: prompt eval time =       0.00 ms /    98 tokens (    0.00 ms per token,      inf tokens per second)\n",
      "llama_perf_context_print:        eval time =       0.00 ms /   155 runs   (    0.00 ms per token,      inf tokens per second)\n",
      "llama_perf_context_print:       total time =   20082.81 ms /   253 tokens\n",
      "Some weights of RobertaModel were not initialized from the model checkpoint at roberta-large and are newly initialized: ['roberta.pooler.dense.bias', 'roberta.pooler.dense.weight']\n",
      "You should probably TRAIN this model on a down-stream task to be able to use it for predictions and inference.\n",
      "Llama.generate: 116 prefix-match hit, remaining 83 prompt tokens to eval\n"
     ]
    },
    {
     "name": "stdout",
     "output_type": "stream",
     "text": [
      "{'generated_response': 'At Middle East Technical University (METU), students have the option to update their ALES score manually if they wish to replace a lower grade.\\n\\nTo manually update your ALES score, please follow these steps:\\n\\n1.  You can visit the METU Online Application System (OAS) to initiate the process. You can access the system via the METU website.\\n\\n2.  Once logged in, click on \"Personal Information\" or a similar tab, and then select the \"Exam Scores\" or \"ALES Scores\" option. From there, you should see an option to delete your current ALES score or replace it.\\n\\n3.  If you are unable to find these options in the system, or need help navigating the process, I recommend reaching out to METU\\'s', 'response_time': 20.086702823638916, 'precision_at_1': 1, 'bert_score': 0.8423941731452942, 'rouge_l_score': 0.1285714285714286, 'id': 211, 'synthetic_question': 'Can I manually update my ALES score at Middle East Technical University (METU) if I wish to replace a lower grade?', 'ground_truth_answer': '\\n\\nBy deleting the ALES grade you do not want, you can enter the high grade ALES result you want yourself.\\n\\n', 'link': 'https://faq.cc.metu.edu.tr/faq/i-want-use-most-date-highest-grade-i-entered-later-instead-my-ales-result-withdrawn-system-what'}\n"
     ]
    },
    {
     "name": "stderr",
     "output_type": "stream",
     "text": [
      "llama_perf_context_print:        load time =   19814.44 ms\n",
      "llama_perf_context_print: prompt eval time =       0.00 ms /    83 tokens (    0.00 ms per token,      inf tokens per second)\n",
      "llama_perf_context_print:        eval time =       0.00 ms /   162 runs   (    0.00 ms per token,      inf tokens per second)\n",
      "llama_perf_context_print:       total time =   19390.07 ms /   245 tokens\n",
      "Some weights of RobertaModel were not initialized from the model checkpoint at roberta-large and are newly initialized: ['roberta.pooler.dense.bias', 'roberta.pooler.dense.weight']\n",
      "You should probably TRAIN this model on a down-stream task to be able to use it for predictions and inference.\n"
     ]
    },
    {
     "name": "stdout",
     "output_type": "stream",
     "text": [
      "{'generated_response': \"As a foreign applicant who is a Turkish citizen, you're required to apply as a Turkish citizen, not as a foreign applicant. Here's what you should do:\\n\\nWhen applying to Middle East Technical University (METU), you'll be asked to provide your Turkish citizen identity number (TCKN), which is equivalent to your ID card number. \\n\\nTo avoid any potential issues, make sure to apply with your TCKN number, not as a foreign applicant. If you're unsure about your application type or how to apply, I recommend checking the METU's website or contacting their admissions office for clarification.\\n\\nKeep in mind that providing incorrect or incomplete information can lead to application rejection, so it's essential to accurately select your application type. \\n\\nYou can check your TCKN number on your Turkish ID card,\", 'response_time': 19.393590927124023, 'precision_at_1': 0, 'bert_score': 0.8407827615737915, 'rouge_l_score': 0.09696969696969697, 'id': 212, 'synthetic_question': 'What should I do if I am a foreign applicant and I am a Turkish citizen, to ensure my application is not rejected due to misinformation?', 'ground_truth_answer': '\\n\\nIf you are graduated/not registered METU student,\\xa0you should follow the \"STEP.2: Choose Applicant Type\" step from \"Application for Admission to Graduate Programs at METU\" mailn page.\\n\\n', 'link': 'https://faq.cc.metu.edu.tr/faq/i-was-graduatednot-registered-metu-student-and-i-didnt-apply-how-can-i-apply'}\n"
     ]
    },
    {
     "name": "stderr",
     "output_type": "stream",
     "text": [
      "Llama.generate: 115 prefix-match hit, remaining 84 prompt tokens to eval\n",
      "llama_perf_context_print:        load time =   19814.44 ms\n",
      "llama_perf_context_print: prompt eval time =       0.00 ms /    84 tokens (    0.00 ms per token,      inf tokens per second)\n",
      "llama_perf_context_print:        eval time =       0.00 ms /   169 runs   (    0.00 ms per token,      inf tokens per second)\n",
      "llama_perf_context_print:       total time =   21433.62 ms /   253 tokens\n",
      "Some weights of RobertaModel were not initialized from the model checkpoint at roberta-large and are newly initialized: ['roberta.pooler.dense.bias', 'roberta.pooler.dense.weight']\n",
      "You should probably TRAIN this model on a down-stream task to be able to use it for predictions and inference.\n",
      "Llama.generate: 115 prefix-match hit, remaining 97 prompt tokens to eval\n"
     ]
    },
    {
     "name": "stdout",
     "output_type": "stream",
     "text": [
      "{'generated_response': \"When it comes to submitting ALES or GRE scores for your application to Middle East Technical University (METU), the following requirements apply:\\n\\n1. **ALES (Academik Lise Diplomasi ve Lisans Mezunu Sınavı)**: If you are a Turkish citizen, you must take the ALES exam, which is a Turkish test that measures verbal comprehension and mathematical skills. The required ALES score varies depending on the program you're applying to. Please check the specific requirements for your desired program.\\n\\n2. **GRE (Graduate Record Examination)**: If you are an international student or a non-Turkish citizen, you may need to provide your GRE scores. However, please note that the GRE is not compulsory for all programs at METU. Some graduate programs might accept alternative English proficiency tests like TOEFL or IEL\", 'response_time': 21.436448097229004, 'precision_at_1': 1, 'bert_score': 0.8364459276199341, 'rouge_l_score': 0.10256410256410256, 'id': 213, 'synthetic_question': 'What are the specific requirements for submitting ALES/GRE scores for my application to Middle East Technical University?', 'ground_truth_answer': '\\n\\nA valid and recognized ALES/GRE exam result must be submitted with the application.\\xa0Please refer to the related institute web page for information on these exams.\\n\\n', 'link': 'https://faq.cc.metu.edu.tr/faq/it-possible-apply-graduate-program-without-alesgre-exam-information'}\n"
     ]
    },
    {
     "name": "stderr",
     "output_type": "stream",
     "text": [
      "llama_perf_context_print:        load time =   19814.44 ms\n",
      "llama_perf_context_print: prompt eval time =       0.00 ms /    97 tokens (    0.00 ms per token,      inf tokens per second)\n",
      "llama_perf_context_print:        eval time =       0.00 ms /   164 runs   (    0.00 ms per token,      inf tokens per second)\n",
      "llama_perf_context_print:       total time =   20842.59 ms /   261 tokens\n",
      "Some weights of RobertaModel were not initialized from the model checkpoint at roberta-large and are newly initialized: ['roberta.pooler.dense.bias', 'roberta.pooler.dense.weight']\n",
      "You should probably TRAIN this model on a down-stream task to be able to use it for predictions and inference.\n"
     ]
    },
    {
     "name": "stdout",
     "output_type": "stream",
     "text": [
      "{'generated_response': \"As a prospective student, it's great that you're planning to apply to Middle East Technical University (METU).\\n\\nFor graduate programs, the exams required to be submitted with the application may vary depending on the department and program you're applying to. However, I can give you a general idea of the common exams that are usually requested:\\n\\n1. **GRE (Graduate Record Examination)**: Many departments in METU require GRE scores for graduate programs. The General Test or Subject Test (or both) may be requested.\\n2. **TOEFL (Test of English as a Foreign Language)** or **IELTS (International English Language Testing System)**: English proficiency exams are required for international students or students whose first language is not English.\\n3. **YDS (Yabancı dillerden yeterlilik sınavı\", 'response_time': 20.846243619918823, 'precision_at_1': 0, 'bert_score': 0.8254745006561279, 'rouge_l_score': 0.1610738255033557, 'id': 214, 'synthetic_question': 'What specific exams are required to be submitted with the application to Middle East Technical University (METU)?', 'ground_truth_answer': '\\n\\nA valid and recognized exam is required to be submitted with application. Please refer to the related institute web page for information on these exams.\\n\\n', 'link': 'https://faq.cc.metu.edu.tr/faq/it-possible-apply-graduate-program-without-english-proficiency-exam-result'}\n"
     ]
    },
    {
     "name": "stderr",
     "output_type": "stream",
     "text": [
      "Llama.generate: 115 prefix-match hit, remaining 77 prompt tokens to eval\n",
      "llama_perf_context_print:        load time =   19814.44 ms\n",
      "llama_perf_context_print: prompt eval time =       0.00 ms /    77 tokens (    0.00 ms per token,      inf tokens per second)\n",
      "llama_perf_context_print:        eval time =       0.00 ms /   175 runs   (    0.00 ms per token,      inf tokens per second)\n",
      "llama_perf_context_print:       total time =   21453.14 ms /   252 tokens\n",
      "Some weights of RobertaModel were not initialized from the model checkpoint at roberta-large and are newly initialized: ['roberta.pooler.dense.bias', 'roberta.pooler.dense.weight']\n",
      "You should probably TRAIN this model on a down-stream task to be able to use it for predictions and inference.\n"
     ]
    },
    {
     "name": "stdout",
     "output_type": "stream",
     "text": [
      "{'generated_response': \"Applying to Middle East Technical University (METU) can be a bit of a process, but don't worry, I'm here to guide you through it.\\n\\nAccording to METU's official website, here are the general steps to apply to METU's undergraduate programs, including the Mechanical Engineering program:\\n\\n**Application Steps:**\\n\\n1. **Choose your program**: Select the undergraduate program you're interested in, in this case, Mechanical Engineering. Make sure to check the program's prerequisites and requirements.\\n2. **Eligibility**: Check the admission requirements, including academic background, language proficiency, and other conditions.\\n3. **Apply to the Turkish Language and Culture Course (TLC)**: If you're a foreign student, you'll need to take the TLC course, which is a one-year program that prepares international students for university studies in Turkey.\\n4. **YDS\", 'response_time': 21.456538915634155, 'precision_at_1': 0, 'bert_score': 0.8220611214637756, 'rouge_l_score': 0.028985507246376812, 'id': 217, 'synthetic_question': 'What are the specific requirements for the undergraduate programs in Mechanical Engineering at Middle East Technical University (METU)?', 'ground_truth_answer': '\\n\\nYou can start your application.\\n\\n', 'link': 'https://faq.cc.metu.edu.tr/faq/my-activation-process-was-completed-successfully-what-can-i-do-next-step'}\n"
     ]
    },
    {
     "name": "stderr",
     "output_type": "stream",
     "text": [
      "Llama.generate: 115 prefix-match hit, remaining 74 prompt tokens to eval\n",
      "llama_perf_context_print:        load time =   19814.44 ms\n",
      "llama_perf_context_print: prompt eval time =       0.00 ms /    74 tokens (    0.00 ms per token,      inf tokens per second)\n",
      "llama_perf_context_print:        eval time =       0.00 ms /   179 runs   (    0.00 ms per token,      inf tokens per second)\n",
      "llama_perf_context_print:       total time =   20737.18 ms /   253 tokens\n",
      "Some weights of RobertaModel were not initialized from the model checkpoint at roberta-large and are newly initialized: ['roberta.pooler.dense.bias', 'roberta.pooler.dense.weight']\n",
      "You should probably TRAIN this model on a down-stream task to be able to use it for predictions and inference.\n",
      "Llama.generate: 115 prefix-match hit, remaining 64 prompt tokens to eval\n"
     ]
    },
    {
     "name": "stdout",
     "output_type": "stream",
     "text": [
      "{'generated_response': \"Middle East Technical University (METU) has a convenient application process. However, if you're asking whether a letter of recommendation is required for admission, I'm happy to help clarify things for you. \\n\\nTypically, METU does require a letter of recommendation as part of the admission process, but it may vary depending on the program you're applying to. It's great that you're checking ahead of time.\\n\\nTo confirm, you can check the official METU website or the specific requirements for your desired program. But just in case, I can give you a general hint: For some programs, METU does not require a letter of recommendation, and you can indeed check that on the application form. However, it's always best to double-check the requirements for your specific program to ensure you don't miss any crucial details.\\n\\nSo, what you said is correct - If your program does not require\", 'response_time': 20.740073919296265, 'precision_at_1': 1, 'bert_score': 0.831813395023346, 'rouge_l_score': 0.10714285714285714, 'id': 220, 'synthetic_question': 'Does Middle East Technical University (METU) require a letter of recommendation for admission?', 'ground_truth_answer': '\\n\\nYou can check \"Institute does not require recomendation letter.\" \\xa0in the ‘Letter of Recommendation’ page.\\n\\n', 'link': 'https://faq.cc.metu.edu.tr/faq/program-i-want-apply-does-not-require-letter-recommendation-how-can-i-proceed'}\n"
     ]
    },
    {
     "name": "stderr",
     "output_type": "stream",
     "text": [
      "llama_perf_context_print:        load time =   19814.44 ms\n",
      "llama_perf_context_print: prompt eval time =       0.00 ms /    64 tokens (    0.00 ms per token,      inf tokens per second)\n",
      "llama_perf_context_print:        eval time =       0.00 ms /   189 runs   (    0.00 ms per token,      inf tokens per second)\n",
      "llama_perf_context_print:       total time =   22343.79 ms /   253 tokens\n",
      "Some weights of RobertaModel were not initialized from the model checkpoint at roberta-large and are newly initialized: ['roberta.pooler.dense.bias', 'roberta.pooler.dense.weight']\n",
      "You should probably TRAIN this model on a down-stream task to be able to use it for predictions and inference.\n"
     ]
    },
    {
     "name": "stdout",
     "output_type": "stream",
     "text": [
      "{'generated_response': \"If the program you are interested in is not listed on the METU website, it's possible that it's a new or lesser-known program, or it might be offered by a department that doesn't have a dedicated coordinator listed online.\\n\\nHere are a few steps you can take:\\n\\n1. **General Information Office**: You can contact the General Information Office at METU. They might have more information about the program or can guide you on who to contact.\\n   Phone: +90 (312) 222 53 64 / 54\\n   Email: info@metu.edu.tr\\n   They can also be reached via the METU website's Contact Us page.\\n\\n2. **Department of the College**: Try reaching out to the Department of the relevant college where the program could be located. They may be able to provide you with more information about the program or direct you to a contact person.\\n\\n3. **Email to the department directly**:\", 'response_time': 22.34647226333618, 'precision_at_1': 0, 'bert_score': 0.8451069593429565, 'rouge_l_score': 0.12790697674418605, 'id': 223, 'synthetic_question': 'What department should I contact if the program I am interested in is not listed on the METU website?', 'ground_truth_answer': '\\n\\nIf the program information you want to apply was not listed, you must consult the related institute of the program.\\n\\n', 'link': 'https://faq.cc.metu.edu.tr/faq/program-information-i-want-apply-was-not-listed-what-can-i-do'}\n"
     ]
    },
    {
     "name": "stderr",
     "output_type": "stream",
     "text": [
      "Llama.generate: 115 prefix-match hit, remaining 85 prompt tokens to eval\n",
      "llama_perf_context_print:        load time =   19814.44 ms\n",
      "llama_perf_context_print: prompt eval time =       0.00 ms /    85 tokens (    0.00 ms per token,      inf tokens per second)\n",
      "llama_perf_context_print:        eval time =       0.00 ms /   164 runs   (    0.00 ms per token,      inf tokens per second)\n",
      "llama_perf_context_print:       total time =   20222.44 ms /   249 tokens\n",
      "Some weights of RobertaModel were not initialized from the model checkpoint at roberta-large and are newly initialized: ['roberta.pooler.dense.bias', 'roberta.pooler.dense.weight']\n",
      "You should probably TRAIN this model on a down-stream task to be able to use it for predictions and inference.\n"
     ]
    },
    {
     "name": "stdout",
     "output_type": "stream",
     "text": [
      "{'generated_response': 'It can be quite frustrating when you don\\'t receive the activation mail you need. If you haven\\'t received the activation mail after clicking the \"Send Activation\" button, don\\'t worry, there are some steps you can take to resolve the issue.\\n\\nFirstly, let\\'s try the most straightforward solution: **Check your spam folder**. Sometimes, the activation email might get filtered into your spam folder, so make sure to check there as well.\\n\\nIf the email is not in your spam folder, here are a few things you can do:\\n\\n1. **Wait a bit**: It\\'s possible that the email is just taking a bit longer to arrive. Try waiting for a few hours and see if you receive it then.\\n2. **Check your email account**: Double-check that you\\'ve entered your email address correctly and that it', 'response_time': 20.22580337524414, 'precision_at_1': 1, 'bert_score': 0.8362761735916138, 'rouge_l_score': 0.12790697674418605, 'id': 224, 'synthetic_question': 'If I havent received the activation mail after clicking the Send Activation button, what should I do?', 'ground_truth_answer': '\\n\\nTo get a new activation mail, \"\\'Send Activation \" button must be clicked and the required information must be filled in. The activation link provided for you will be e-mailed to you.\\n\\n', 'link': 'https://faq.cc.metu.edu.tr/faq/what-can-be-done-if-activation-mail-does-not-arrive'}\n"
     ]
    },
    {
     "name": "stderr",
     "output_type": "stream",
     "text": [
      "Llama.generate: 115 prefix-match hit, remaining 78 prompt tokens to eval\n",
      "llama_perf_context_print:        load time =   19814.44 ms\n",
      "llama_perf_context_print: prompt eval time =       0.00 ms /    78 tokens (    0.00 ms per token,      inf tokens per second)\n",
      "llama_perf_context_print:        eval time =       0.00 ms /   174 runs   (    0.00 ms per token,      inf tokens per second)\n",
      "llama_perf_context_print:       total time =   20352.76 ms /   252 tokens\n",
      "Some weights of RobertaModel were not initialized from the model checkpoint at roberta-large and are newly initialized: ['roberta.pooler.dense.bias', 'roberta.pooler.dense.weight']\n",
      "You should probably TRAIN this model on a down-stream task to be able to use it for predictions and inference.\n"
     ]
    },
    {
     "name": "stdout",
     "output_type": "stream",
     "text": [
      "{'generated_response': \"You can access and review the responses to your survey at Middle East Technical University by following these steps:\\n\\n1. Go to the METU Survey Service website: [www.surveys.metu.edu.tr](http://www.surveys.metu.edu.tr)\\n2. Click on the 'Participant Login' tab at the top of the page.\\n3. Enter the survey code and password given to you when you started the survey.\\n4. Click on 'Login' to access your survey.\\n\\nTo stop the survey when you want to, you can follow these steps:\\n\\n1. If you're currently taking the survey, click the 'Save and Exit' button.\\n2. If you're taking the survey on a computer or laptop, you can close the browser window to end the session.\\n3. If you're taking the survey on a mobile device, you can close the survey\", 'response_time': 20.355912685394287, 'precision_at_1': 0, 'bert_score': 0.8568519949913025, 'rouge_l_score': 0.1637426900584795, 'id': 234, 'synthetic_question': 'How can I access and review the responses to my survey at Middle Technical University, and how do I stop the survey when I want to?', 'ground_truth_answer': '\\n\\nUsing the \"Responses\" option on the \"Survey menu\", you can review all the complete and incomplete responses. When your survey expires or when you want to withdraw it, you must \"stop\" it.\\n\\n', 'link': 'https://faq.cc.metu.edu.tr/faq/how-can-i-see-responses-my-surveys'}\n"
     ]
    },
    {
     "name": "stderr",
     "output_type": "stream",
     "text": [
      "Llama.generate: 34 prefix-match hit, remaining 380 prompt tokens to eval\n",
      "llama_perf_context_print:        load time =   19814.44 ms\n",
      "llama_perf_context_print: prompt eval time =       0.00 ms /   380 tokens (    0.00 ms per token,      inf tokens per second)\n",
      "llama_perf_context_print:        eval time =       0.00 ms /    97 runs   (    0.00 ms per token,      inf tokens per second)\n",
      "llama_perf_context_print:       total time =   30675.74 ms /   477 tokens\n",
      "Some weights of RobertaModel were not initialized from the model checkpoint at roberta-large and are newly initialized: ['roberta.pooler.dense.bias', 'roberta.pooler.dense.weight']\n",
      "You should probably TRAIN this model on a down-stream task to be able to use it for predictions and inference.\n",
      "Llama.generate: 117 prefix-match hit, remaining 289 prompt tokens to eval\n"
     ]
    },
    {
     "name": "stdout",
     "output_type": "stream",
     "text": [
      "{'generated_response': \"You can use METU e-mail forwarding by following these easy steps:\\n\\n1. **Visit the METU Portal**: First, log in to the METU Portal using your user code and password.\\n\\n2. **Or, visit https://forward.metu.edu.tr**: Alternatively, you can directly visit this webpage to activate e-mail forwarding.\\n\\n3. **Log in with your user code and password**: Once you're on either the METU Portal or the forwarding webpage, log in with your MET\", 'response_time': 30.678922653198242, 'precision_at_1': 0, 'bert_score': 0.8314192295074463, 'rouge_l_score': 0.15384615384615383, 'id': 236, 'synthetic_question': 'What is the email address for sending questions, comments, and suggestions to Middle East Technical University?', 'ground_truth_answer': '\\n\\nYou can send your questions, comments and suggestions via e-mail to wwwsurvymetu.edu.tr.\\n\\n', 'link': 'https://faq.cc.metu.edu.tr/faq/where-can-i-direct-my-questions-and-problems-regarding-metu-survey-service'}\n"
     ]
    },
    {
     "name": "stderr",
     "output_type": "stream",
     "text": [
      "llama_perf_context_print:        load time =   19814.44 ms\n",
      "llama_perf_context_print: prompt eval time =       0.00 ms /   289 tokens (    0.00 ms per token,      inf tokens per second)\n",
      "llama_perf_context_print:        eval time =       0.00 ms /   105 runs   (    0.00 ms per token,      inf tokens per second)\n",
      "llama_perf_context_print:       total time =   25567.34 ms /   394 tokens\n",
      "Some weights of RobertaModel were not initialized from the model checkpoint at roberta-large and are newly initialized: ['roberta.pooler.dense.bias', 'roberta.pooler.dense.weight']\n",
      "You should probably TRAIN this model on a down-stream task to be able to use it for predictions and inference.\n"
     ]
    },
    {
     "name": "stdout",
     "output_type": "stream",
     "text": [
      "{'generated_response': \"To access the computers in the PC rooms from off-campus, you can follow these steps:\\n\\n1. If you're not connected to the campus network, connect to the VPN (Virtual Private Network) first. You can find the instructions for installing the VPN software for your operating system at http://faq.cc.metu.edu.tr/groups/vpn-service.\\n2. If you're using a Windows computer, you should already have the Remote Desktop Client application installed. \\n3. Visit https://pcrooms.cc.metu.edu.tr using your web\", 'response_time': 25.570095539093018, 'precision_at_1': 1, 'bert_score': 0.8686690926551819, 'rouge_l_score': 0.15588723051409617, 'id': 241, 'synthetic_question': ' How can I remotely access the computers in Middle East Technical Universitys PC rooms and use licensed software, and what precautions should I take to avoid losing my work due to network or electrical issues?', 'ground_truth_answer': '\\n\\nOur students can access the computers in our PC rooms remotely to use licensed software. You can follow the below steps to connect to the PC room computers and access licensed software.\\nConsidering that your access may be interrupted due to possible network and electrical problems / outages, it is important to save your work files on the J: drive of the computer regularly and copy and paste them to your own computer.\\nIf you leave your session idle for 15 minutes, you will be automatically logged out. For this reason, when your work is finished, you need to transfer your files to your computer and log off.\\nIn order to connect to the PC room computers\\nYou need to connect to VPN first if you are not connected to the campus network. Detailed information is available from http://faq.cc.metu.edu.tr/groups/vpn-service where\\xa0you can access the instructions to install the appropriate version for your operating system. VPN is not required for in campus connections.\\nThe Remote Desktop Client application required for access is installed on Windows computers. Students using MAC OS should install the Microsoft Remote Desktop application at https://apps.apple.com/us/app/microsoft-remote-desktop/id1295203466?mt=12.\\nVisit https://pcrooms.cc.metu.edu.tr and login with your METU user code - password. A list of PC rooms ready for connection will be displayed.\\nChoose one of the PC rooms. A list of PCs that are available will be displayed. Then click the Request link of a computer.\\nAfter selecting the computer, press the Download & run the file to connect button. You will have 5 minutes to connect to the computer.\\nOpen the location of the downloaded connect.rdp file on your computer and double click the file and run it.\\nPress the CONNECT and YES buttons on the warning messages that may appear on the screen.\\n\\nYou can log in to the PC room computer by entering your METU password on the Windows login screen that will come up after a while. If your user code is not automatically typed in, you need to type it, too.\\n\\nIf you get an \"authentication error\" error at this stage, double click the connect.rdp file again, check the keyboard layout in the lower right part of the login screen and type your usercode - password again.\\nIf your 5-minute connection time has expired, you may receive a message that your connection time has expired. In this case, you have to make a new request.\\nYou can see the list of available software from the Program Shortcuts folder on the desktop.\\n\\nWhen your work is finished, you can log off with the Log off button in the Windows Start menu.\\n\\nIf you leave your session open idle for 15 minutes, you will be automatically logged out. For this reason, when your work is finished, you need to transfer your files to your computer and log off.\\nYou can submit your opinions and suggestions about our application and any problems you encounter via support form at https://itsupport.metu.edu.tr.\\n\\n', 'link': 'https://faq.cc.metu.edu.tr/faq/how-can-i-access-computers-pc-rooms-campus'}\n"
     ]
    },
    {
     "name": "stderr",
     "output_type": "stream",
     "text": [
      "Llama.generate: 34 prefix-match hit, remaining 273 prompt tokens to eval\n",
      "llama_perf_context_print:        load time =   19814.44 ms\n",
      "llama_perf_context_print: prompt eval time =       0.00 ms /   273 tokens (    0.00 ms per token,      inf tokens per second)\n",
      "llama_perf_context_print:        eval time =       0.00 ms /    92 runs   (    0.00 ms per token,      inf tokens per second)\n",
      "llama_perf_context_print:       total time =   22875.66 ms /   365 tokens\n",
      "Some weights of RobertaModel were not initialized from the model checkpoint at roberta-large and are newly initialized: ['roberta.pooler.dense.bias', 'roberta.pooler.dense.weight']\n",
      "You should probably TRAIN this model on a down-stream task to be able to use it for predictions and inference.\n",
      "Llama.generate: 115 prefix-match hit, remaining 265 prompt tokens to eval\n"
     ]
    },
    {
     "name": "stdout",
     "output_type": "stream",
     "text": [
      "{'generated_response': 'You can use the Safe Exam Browser for your IS100 online exam in the PC Rooms operated by the Computer Center at Middle East Technical University (METU) as follows:\\n\\n1. **Before the Exam:** Before using the Safe Exam Browser, make sure you have your METU login credentials (username and password).\\n2. **Entering the PC Room:** Go to the designated PC Room and login to the computer using your METU username and password.\\n3. **Launching', 'response_time': 22.877991199493408, 'precision_at_1': 1, 'bert_score': 0.8421964645385742, 'rouge_l_score': 0.20454545454545459, 'id': 243, 'synthetic_question': 'How can I use Safe Exam Browser for my IS100 online exam in the PC Rooms operated by Computer Center at Middle East Technical University (METU)? And where can I find the installation and configuration instructions for this software?', 'ground_truth_answer': '\\n\\nSafe Exam Browser is a web browser environment to carry out e-assessments safely. The software turns any computer temporarily into a secure workstation. It controls access to resources like system functions, other websites and applications and prevents unauthorized resources being used during an exam. For the features available in this software, you can visit SEB web site.\\nThis software is available in PC Rooms operated by Computer Center for IS100 online exams. For more information on installing and configuring the software, please visit\\xa0https://faq.cc.metu.edu.tr/faq/how-can-i-install-safe-exam-browser-computers-my-pc-room\\n\\n', 'link': 'https://faq.cc.metu.edu.tr/faq/how-can-i-secure-my-exams-pc-rooms'}\n"
     ]
    },
    {
     "name": "stderr",
     "output_type": "stream",
     "text": [
      "llama_perf_context_print:        load time =   19814.44 ms\n",
      "llama_perf_context_print: prompt eval time =       0.00 ms /   265 tokens (    0.00 ms per token,      inf tokens per second)\n",
      "llama_perf_context_print:        eval time =       0.00 ms /    34 runs   (    0.00 ms per token,      inf tokens per second)\n",
      "llama_perf_context_print:       total time =   16846.53 ms /   299 tokens\n",
      "Some weights of RobertaModel were not initialized from the model checkpoint at roberta-large and are newly initialized: ['roberta.pooler.dense.bias', 'roberta.pooler.dense.weight']\n",
      "You should probably TRAIN this model on a down-stream task to be able to use it for predictions and inference.\n"
     ]
    },
    {
     "name": "stdout",
     "output_type": "stream",
     "text": [
      "{'generated_response': \"It sounds like you're experiencing some issues with the computer rooms at METU. If you're unable to login and then get logged out a minute later, there are a few\", 'response_time': 16.849055290222168, 'precision_at_1': 1, 'bert_score': 0.8442658185958862, 'rouge_l_score': 0.1782178217821782, 'id': 244, 'synthetic_question': 'What should I do if I cannot login to the computers in the computer rooms at Middle East Technical University and get logged out a minute later?', 'ground_truth_answer': '\\n\\nIf you cannot login to the computers in the computer rooms operated by Computer Center:\\n1. First, please try to login https://useraccount.metu.edu.tr with your usercode and password. If you cannot login either, please follow the instructions on http://faq.cc.metu.edu.tr/faq/i-forgot-my-password-where-can-i-apply to obtain a new password.2. Please check the language icon on the lower right corner of the screen. If it is something other than TUR, then the keyboard layout is different than it is seen. Select TUR in the available options and try entering your password again.\\nIf you can login to the computers and get logged out a minute later:\\n1. You might be prohibited to use the computers due to a violation of PC Room Use Regulations. Please contact with the IT Support Team via\\xa0https://itsupport.metu.edu.tr/\\n2. There might be a temporary malfunction record of the computer you are using. Please try to login to another computer.\\n\\n', 'link': 'https://faq.cc.metu.edu.tr/faq/i-cannot-login-computers-pc-rooms-my-user-code-what-should-i-do'}\n"
     ]
    },
    {
     "name": "stderr",
     "output_type": "stream",
     "text": [
      "Llama.generate: 115 prefix-match hit, remaining 384 prompt tokens to eval\n",
      "llama_perf_context_print:        load time =   19814.44 ms\n",
      "llama_perf_context_print: prompt eval time =       0.00 ms /   384 tokens (    0.00 ms per token,      inf tokens per second)\n",
      "llama_perf_context_print:        eval time =       0.00 ms /    12 runs   (    0.00 ms per token,      inf tokens per second)\n",
      "llama_perf_context_print:       total time =   20218.65 ms /   396 tokens\n",
      "Some weights of RobertaModel were not initialized from the model checkpoint at roberta-large and are newly initialized: ['roberta.pooler.dense.bias', 'roberta.pooler.dense.weight']\n",
      "You should probably TRAIN this model on a down-stream task to be able to use it for predictions and inference.\n"
     ]
    },
    {
     "name": "stdout",
     "output_type": "stream",
     "text": [
      "{'generated_response': 'Here are the specific hours and cleaning schedules for each PC room in', 'response_time': 20.222172498703003, 'precision_at_1': 1, 'bert_score': 0.7915754914283752, 'rouge_l_score': 0.07106598984771574, 'id': 248, 'synthetic_question': ' What are the specific hours and cleaning schedules for each PC room in the dormitories at Middle East Technical University (METU)?', 'ground_truth_answer': '\\n\\nAll labs are available for public use during regular working hours except for the indicated times.\\nLocation\\nHours\\nDays\\nCleaning and Infrastructure Maintenance Hours\\nHumanities PC Room\\n\\n09:00 - 17:00Course Schedules are\\xa0announced at the PC Room.\\n\\nMonday - Friday\\nCleaningTuesday 09:00 - 10:00\\nDormitory 1 PC Room\\n09:00 - 06:00\\n\\nEveryday during classes carry on\\n09:00 - 17:00 during semester breaks\\n\\nEverydayCleaning 07:00-09:00\\nDormitory 2 PC Room - 2\\n09:00 - 06:00\\n\\nEveryday during classes carry on\\n09:00 - 17:00 during semester breaks\\n\\nEverydayCleaning 07:00-09:00\\nDormitory 2 PC Room - 3\\nThis room is reserved fortraining and seminars\\nEveryday\\nEverydayCleaning 07:00-09:00\\nIsa Demiray Dormitory PC Room\\n09:00 - 01:00\\nEveryday during classes carry on\\nEverydayCleaning 07:00-09:00\\nFaika Demiray Dormitory PC Room\\n09:00 - 01:00\\nEveryday during classes carry on\\nEverydayCleaning 07:00-09:00\\nRefika Aksoy Dormitory PC Room\\n09:00 - 01:00\\nEveryday during classes carry on\\nEverydayCleaning 07:00-09:00\\n\\xa0\\n\\xa0\\n\\xa0\\n\\xa0\\nDuring summer, the PC rooms are open if the dormitory building is open.\\n\\n', 'link': 'https://faq.cc.metu.edu.tr/faq/pc-rooms-working-hours'}\n"
     ]
    },
    {
     "name": "stderr",
     "output_type": "stream",
     "text": [
      "Llama.generate: 115 prefix-match hit, remaining 206 prompt tokens to eval\n",
      "llama_perf_context_print:        load time =   19814.44 ms\n",
      "llama_perf_context_print: prompt eval time =       0.00 ms /   206 tokens (    0.00 ms per token,      inf tokens per second)\n",
      "llama_perf_context_print:        eval time =       0.00 ms /    97 runs   (    0.00 ms per token,      inf tokens per second)\n",
      "llama_perf_context_print:       total time =   19804.21 ms /   303 tokens\n",
      "Some weights of RobertaModel were not initialized from the model checkpoint at roberta-large and are newly initialized: ['roberta.pooler.dense.bias', 'roberta.pooler.dense.weight']\n",
      "You should probably TRAIN this model on a down-stream task to be able to use it for predictions and inference.\n"
     ]
    },
    {
     "name": "stdout",
     "output_type": "stream",
     "text": [
      "{'generated_response': \"Renewing your expired electronic signature at the Middle East Technical University (METU) can be a bit of a process, but I'm here to guide you through the steps. \\n\\nTo renew your expired electronic signature, follow these steps:\\n\\n1. **Access the renewal page**: Log in to the electronic signature system at [https://e-imza.metu.edu.tr](https://e-imza.metu.edu.tr). \\n2. **Use the VPN service**: As you're outside the\", 'response_time': 19.806828498840332, 'precision_at_1': 1, 'bert_score': 0.8580690622329712, 'rouge_l_score': 0.21164021164021163, 'id': 260, 'synthetic_question': ' How can I renew my expired electronic signature at METU using the VPN service?', 'ground_truth_answer': '\\n\\n1. To renew your electronic signature that has expired or will expire, you must make a RENEWAL application by logging into https://e-imza.metu.edu.tr\\n*** IMPORTANT: Use the VPN service to access relevant addresses from outside the campus.\\n\\xa0You can visit https://faq.cc.metu.edu.tr/groups/vpn-service to get information about VPN service and its installation.\\n2. After your application is approved by TÜBİTAK KamuSM, a renewal application an e-mail sent to user\\'s METU e-mail address from KamuSM.\\n3.\\xa0After receiving the e-mail from KamuSM, the \"Completing the e-Signature Applications of the Persons with Pre-Application\" processes specified in the link must be completed.\\n\\n', 'link': 'https://faq.cc.metu.edu.tr/faq/how-can-i-apply-renewal-if-my-e-signature-certificate-has-expired-about-expire'}\n"
     ]
    },
    {
     "name": "stderr",
     "output_type": "stream",
     "text": [
      "Llama.generate: 118 prefix-match hit, remaining 219 prompt tokens to eval\n",
      "llama_perf_context_print:        load time =   19814.44 ms\n",
      "llama_perf_context_print: prompt eval time =       0.00 ms /   219 tokens (    0.00 ms per token,      inf tokens per second)\n",
      "llama_perf_context_print:        eval time =       0.00 ms /    69 runs   (    0.00 ms per token,      inf tokens per second)\n",
      "llama_perf_context_print:       total time =   17630.97 ms /   288 tokens\n",
      "Some weights of RobertaModel were not initialized from the model checkpoint at roberta-large and are newly initialized: ['roberta.pooler.dense.bias', 'roberta.pooler.dense.weight']\n",
      "You should probably TRAIN this model on a down-stream task to be able to use it for predictions and inference.\n"
     ]
    },
    {
     "name": "stdout",
     "output_type": "stream",
     "text": [
      "{'generated_response': 'As a foreign national, the validity period of your electronic signature certificate is 1 year.\\n\\nYou can check the validity period of your electronic signature certificate in the EBYS application by following these steps:\\n\\n1. Open the EBYS application.\\n2. When the PIN entry window is opened on the electronic signature or e-signature screens, a section will be', 'response_time': 17.633869409561157, 'precision_at_1': 1, 'bert_score': 0.8826850652694702, 'rouge_l_score': 0.3769633507853403, 'id': 261, 'synthetic_question': 'What is the validity period of my electronic signature certificate if I am a foreign national using the EBYS application, and how can I check it?}', 'ground_truth_answer': '\\n\\nElectronic signature certificates are valid for 3 years for Turkish citizens and 1 year for foreign nationals.\\nYou can learn the validity period of your electronic signature in 5 different ways.\\nTwo of the most practical are described below:\\n1. Connect to the http://eimza.metu.edu.tr page with your user code / password pair. The validity dates of all the certificates produced so far are shown on the relevant page.\\n\\nNot: VPN service should be used to access this page outside of the campus. (for more information http://faq.cc.metu.edu.tr/groups/vpn-service)\\n2. In the EBYS application, when the PIN entry window is opened on the electronic signature or e-signature screens, \"Valid\" or \"Expired\" information is displayed in the \"Validity period:\" section under your user information.\\n\\n\\n', 'link': 'https://faq.cc.metu.edu.tr/faq/how-can-i-find-out-e-signature-validity-period'}\n"
     ]
    },
    {
     "name": "stderr",
     "output_type": "stream",
     "text": [
      "Llama.generate: 116 prefix-match hit, remaining 266 prompt tokens to eval\n",
      "llama_perf_context_print:        load time =   19814.44 ms\n",
      "llama_perf_context_print: prompt eval time =       0.00 ms /   266 tokens (    0.00 ms per token,      inf tokens per second)\n",
      "llama_perf_context_print:        eval time =       0.00 ms /    68 runs   (    0.00 ms per token,      inf tokens per second)\n",
      "llama_perf_context_print:       total time =   19498.08 ms /   334 tokens\n",
      "Some weights of RobertaModel were not initialized from the model checkpoint at roberta-large and are newly initialized: ['roberta.pooler.dense.bias', 'roberta.pooler.dense.weight']\n",
      "You should probably TRAIN this model on a down-stream task to be able to use it for predictions and inference.\n"
     ]
    },
    {
     "name": "stdout",
     "output_type": "stream",
     "text": [
      "{'generated_response': \"As a prospective student of Middle East Technical University (METU) studying outside of the campus, I'm happy to guide you through the KAMUSM Certified Electronic Signature (CES) application process.\\n\\nTo complete the process while outside the METU campus, you'll need to access the necessary websites and follow the steps below:\\n\\n1.  **\", 'response_time': 19.500756978988647, 'precision_at_1': 1, 'bert_score': 0.8412270545959473, 'rouge_l_score': 0.17, 'id': 265, 'synthetic_question': 'How do I complete the KAMUSM Certified Electronic Signature (CES) application process if I am a student studying outside of the METU campus?', 'ground_truth_answer': '\\n\\nKAMUSM Certified Electronic Signature (CES) Application Process\\nThe user has to login http://eimza.metu.edu.tr page with METU usercode and password. The appropriate choice should be chosen (First Application/Renewal/ID update) and the application must be submitted.\\n*** IMPORTANT: Use the VPN service to access relevant addresses from outside the campus.\\n\\xa0(You can visit\\xa0https://faq.cc.metu.edu.tr/groups/vpn-service\\xa0to get information about VPN service and its installation.)\\nThe list of personnel requesting CES is sent to TÜBİTAK KamuSM by METU E-Signature Officer\\nAn e-mail\\xa0is sent to user\\'s METU e-mail address by KamuSM.\\nAfter receiving the e-mail from TÜBİTAK KamuSM, the \"Completing the e-Signature Applications with Pre-Application\" processes specified in the link must be completed.\\nCES will be produced and delivered to the user by means of special courier.\\n \\n', 'link': 'https://faq.cc.metu.edu.tr/faq/how-kamusm-certified-electronic-signature-e-signature-application-process'}\n"
     ]
    },
    {
     "name": "stderr",
     "output_type": "stream",
     "text": [
      "Llama.generate: 115 prefix-match hit, remaining 150 prompt tokens to eval\n",
      "llama_perf_context_print:        load time =   19814.44 ms\n",
      "llama_perf_context_print: prompt eval time =       0.00 ms /   150 tokens (    0.00 ms per token,      inf tokens per second)\n",
      "llama_perf_context_print:        eval time =       0.00 ms /   129 runs   (    0.00 ms per token,      inf tokens per second)\n",
      "llama_perf_context_print:       total time =   19630.54 ms /   279 tokens\n",
      "Some weights of RobertaModel were not initialized from the model checkpoint at roberta-large and are newly initialized: ['roberta.pooler.dense.bias', 'roberta.pooler.dense.weight']\n",
      "You should probably TRAIN this model on a down-stream task to be able to use it for predictions and inference.\n"
     ]
    },
    {
     "name": "stdout",
     "output_type": "stream",
     "text": [
      "{'generated_response': \"I'd be happy to help you with renewing your Certified Electronic Signature (CES/NES) application password at METU.\\n\\nTo renew your password, please follow these steps:\\n\\n1. **Visit the E-signature Renewal Page**: You can find the login page at: http://eimza.metu.edu.tr. This is the official website for METU's e-signature renewal process.\\n2. **Log in with your METU User Code and Password**: Once you're on the website, log in with your METU user code and password. Make sure you use your correct credentials to avoid any issues.\\n3. **Submit the Application\", 'response_time': 19.633030891418457, 'precision_at_1': 1, 'bert_score': 0.8962287902832031, 'rouge_l_score': 0.36129032258064514, 'id': 268, 'synthetic_question': ' What is the process for renewing my Certified Electronic Signature (CES/NES) application password at METU after 6 months, and where can I find the login page for this?', 'ground_truth_answer': '\\n\\nCertified Electronic Signature (CES/NES) application access password validity period is 6 months.\\nAfter 6 months, the application must be renewed by the Institution E-signature Officer.\\nTo do this, go to http://eimza.metu.edu.tr and log in with your METU user code&password and submit your application to the METU Institution E-signature Officer.\\n\\n', 'link': 'https://faq.cc.metu.edu.tr/faq/i-cannot-access-it-nes-application-access-password-come-kamu-sm-what-should-i-do'}\n"
     ]
    },
    {
     "name": "stderr",
     "output_type": "stream",
     "text": [
      "Llama.generate: 116 prefix-match hit, remaining 197 prompt tokens to eval\n",
      "llama_perf_context_print:        load time =   19814.44 ms\n",
      "llama_perf_context_print: prompt eval time =       0.00 ms /   197 tokens (    0.00 ms per token,      inf tokens per second)\n",
      "llama_perf_context_print:        eval time =       0.00 ms /   127 runs   (    0.00 ms per token,      inf tokens per second)\n",
      "llama_perf_context_print:       total time =   21877.10 ms /   324 tokens\n",
      "Some weights of RobertaModel were not initialized from the model checkpoint at roberta-large and are newly initialized: ['roberta.pooler.dense.bias', 'roberta.pooler.dense.weight']\n",
      "You should probably TRAIN this model on a down-stream task to be able to use it for predictions and inference.\n"
     ]
    },
    {
     "name": "stdout",
     "output_type": "stream",
     "text": [
      "{'generated_response': \"As a prospective student at the Middle East Technical University (METU), you might wonder why you'd need an e-signature certificate. At METU, an e-signature certificate is not typically required for students. However, there might be certain situations where you may need one:\\n\\n1.  **Research and academic projects**: If you participate in research projects, internships, or academic studies that require an e-signature, you might need a certificate. This is usually the case for graduate students, researchers, or students working on special projects.\\n2.  **Industry and business collaborations**: If you're working with private companies or organizations as\", 'response_time': 21.8797767162323, 'precision_at_1': 0, 'bert_score': 0.8330866098403931, 'rouge_l_score': 0.13414634146341464, 'id': 277, 'synthetic_question': 'What is the necessity of obtaining an e-signature certificate for students at METU, and under what circumstances would it be required?', 'ground_truth_answer': '\\n\\nIt should be used in internal processes such as Electronic Document Management System (EBYS), Financial Management System v2 or inter-institutional processes such as TÜBİTAK applications.\\nIt is predicted that the use of electronic certificates will become widespread in the future.\\nIt is not mandatory to obtain an e-signature certificate if you will not use it for the above-mentioned purposes.\\n\\n', 'link': 'https://faq.cc.metu.edu.tr/faq/where-will-i-use-e-signature-it-compulsory'}\n"
     ]
    },
    {
     "name": "stderr",
     "output_type": "stream",
     "text": [
      "Llama.generate: 115 prefix-match hit, remaining 187 prompt tokens to eval\n",
      "llama_perf_context_print:        load time =   19814.44 ms\n",
      "llama_perf_context_print: prompt eval time =       0.00 ms /   187 tokens (    0.00 ms per token,      inf tokens per second)\n",
      "llama_perf_context_print:        eval time =       0.00 ms /   111 runs   (    0.00 ms per token,      inf tokens per second)\n",
      "llama_perf_context_print:       total time =   19885.77 ms /   298 tokens\n",
      "Some weights of RobertaModel were not initialized from the model checkpoint at roberta-large and are newly initialized: ['roberta.pooler.dense.bias', 'roberta.pooler.dense.weight']\n",
      "You should probably TRAIN this model on a down-stream task to be able to use it for predictions and inference.\n"
     ]
    },
    {
     "name": "stdout",
     "output_type": "stream",
     "text": [
      "{'generated_response': \"According to the information I have, the recommended antivirus software to download from software.cc.metu.edu.tr is Symantec Antivirus. This software is licensed and used throughout the METU campus, and it's designed to help you scan and remove any viruses from your computer. Simply log in to the website using your user code and password, and you can access the Symantec software for download.\\n\\nOnce you have downloaded and installed Symantec Antivirus, you can use it to scan your computer for any potential threats, and it will take care of removing\", 'response_time': 19.88913655281067, 'precision_at_1': 0, 'bert_score': 0.8835902214050293, 'rouge_l_score': 0.1917808219178082, 'id': 279, 'synthetic_question': 'What is the recommended antivirus software to download from software.metu.edu.tr for scanning and removing viruses from my computer?', 'ground_truth_answer': '\\n\\nAntivirus software programs, once installed, are the the most effective detection and deletion means, as long as they are actively and regularly updated. (Symantec Norton, McAfee etc.)\\xa0\\nFollowing the link below, you can freely download Symantec virus scan software from software.metu.edu.tr and scan your computer. Delete the viruses detected.\\n\\n', 'link': 'https://faq.cc.metu.edu.tr/faq/how-do-i-find-out-my-pc-infected-virus'}\n"
     ]
    },
    {
     "name": "stderr",
     "output_type": "stream",
     "text": [
      "Llama.generate: 115 prefix-match hit, remaining 161 prompt tokens to eval\n",
      "llama_perf_context_print:        load time =   19814.44 ms\n",
      "llama_perf_context_print: prompt eval time =       0.00 ms /   161 tokens (    0.00 ms per token,      inf tokens per second)\n",
      "llama_perf_context_print:        eval time =       0.00 ms /   101 runs   (    0.00 ms per token,      inf tokens per second)\n",
      "llama_perf_context_print:       total time =   18329.29 ms /   262 tokens\n",
      "Some weights of RobertaModel were not initialized from the model checkpoint at roberta-large and are newly initialized: ['roberta.pooler.dense.bias', 'roberta.pooler.dense.weight']\n",
      "You should probably TRAIN this model on a down-stream task to be able to use it for predictions and inference.\n",
      "Llama.generate: 115 prefix-match hit, remaining 186 prompt tokens to eval\n"
     ]
    },
    {
     "name": "stdout",
     "output_type": "stream",
     "text": [
      "{'generated_response': \"Reporting spam emails at METU is quite straightforward and helps the university's spam filter improve over time. Here's how you can do it:\\n\\n**Method 1: Forward the email to the IT Support team**\\n\\n1. If you receive a spam email, forward it to the IT Support team at METU by creating a support ticket via [https://itsupport.metu.edu.tr](https://itsupport.metu.edu.tr).\\n2. When forwarding the email, make sure to include the full header information and\", 'response_time': 18.332749128341675, 'precision_at_1': 1, 'bert_score': 0.8636999726295471, 'rouge_l_score': 0.2111111111111111, 'id': 290, 'synthetic_question': ' How can I report a spam email to the spam filter at Middle East Technical University (METU) and help improve the spam filters effectiveness?', 'ground_truth_answer': '\\n\\nForward the e-mail with full header information and the body part by opening a support ticket via\\xa0https://itsupport.metu.edu.tr in order to have the e-mail be defined as spam to the spam filter. You can get information about how to view the full header of a message from this link.\\nIf you are using Horde, mark the spam e-mails and click Report as Spam in order to define them as spam to spam filter.\\nWith the help of the feedback from users, spam filter will be able to differentiate spam messages more effectively.\\n\\n', 'link': 'https://faq.cc.metu.edu.tr/faq/what-should-i-do-spam-e-mail'}\n"
     ]
    },
    {
     "name": "stderr",
     "output_type": "stream",
     "text": [
      "llama_perf_context_print:        load time =   19814.44 ms\n",
      "llama_perf_context_print: prompt eval time =       0.00 ms /   186 tokens (    0.00 ms per token,      inf tokens per second)\n",
      "llama_perf_context_print:        eval time =       0.00 ms /   105 runs   (    0.00 ms per token,      inf tokens per second)\n",
      "llama_perf_context_print:       total time =   21912.75 ms /   291 tokens\n",
      "Some weights of RobertaModel were not initialized from the model checkpoint at roberta-large and are newly initialized: ['roberta.pooler.dense.bias', 'roberta.pooler.dense.weight']\n",
      "You should probably TRAIN this model on a down-stream task to be able to use it for predictions and inference.\n"
     ]
    },
    {
     "name": "stdout",
     "output_type": "stream",
     "text": [
      "{'generated_response': \"To ensure that you receive all messages to your email address at Middle East Technical University (METU), I've got some helpful tips for you.\\n\\n1. **Activate your METU email**: Make sure your METU email account is activated. You can do this by going to the METU website, clicking on the 'Student' tab, and then selecting the 'Student Mail' option. If you're having trouble, you can try resetting your password through the password reset portal.\\n\\n2. **Set up your email forwarding (if\", 'response_time': 21.916669845581055, 'precision_at_1': 0, 'bert_score': 0.721345067024231, 'rouge_l_score': 0.009478672985781991, 'id': 304, 'synthetic_question': 'How can I ensure that I receive list messages to the correct email address at Middle East Technical University (METU)?', 'ground_truth_answer': '\\n\\nBüyük olasılıkla girdiğiniz e-posta adresi listeye üye bir adres değildir. E-posta adresinizle listeye üye olmadiğınız halde liste mesajlarını alıyorsanız bunun sebebi mesaj yönlendirme olabilir. Yani eğer mesajlarınızı birden fazla e-posta adresi ile takip ediyor ve bu adresler arasında yönlendirme kullanıyorsanız, liste mesajlarının gönderildiği e-posta adresiniz ile listeye üyelik için kullandığıniz e-posta adresi farklı olabilir. Bu konuyla ilgili olarak listenin yöneticisiyle görüşebilirsiniz.\\nListe yöneticisinin e-posta adresini bilmiyorsanız xyz-l-ownermetu.edu.tr adresinden liste yöneticisine ulaşabilirsiniz.\\n(Yukarıda geçen \"xyz-l\" ifadesi liste ismi için örnek olarak verilmiştir)\\n\\n', 'link': 'https://faq.cc.metu.edu.tr/faq/i-am-member-xyz-l-list-i-clicked-password-reminder-button-obtain-my-list-membership-password-i'}\n"
     ]
    },
    {
     "ename": "ValueError",
     "evalue": "Requested tokens (576) exceed context window of 512",
     "output_type": "error",
     "traceback": [
      "\u001b[0;31m---------------------------------------------------------------------------\u001b[0m",
      "\u001b[0;31mValueError\u001b[0m                                Traceback (most recent call last)",
      "Cell \u001b[0;32mIn[4], line 7\u001b[0m\n\u001b[1;32m      5\u001b[0m ground_truth_answer \u001b[38;5;241m=\u001b[39m row[\u001b[38;5;124m'\u001b[39m\u001b[38;5;124manswer\u001b[39m\u001b[38;5;124m'\u001b[39m]\n\u001b[1;32m      6\u001b[0m ground_truth_id \u001b[38;5;241m=\u001b[39m row[\u001b[38;5;124m'\u001b[39m\u001b[38;5;124mid\u001b[39m\u001b[38;5;124m'\u001b[39m] \u001b[38;5;66;03m# Document id\u001b[39;00m\n\u001b[0;32m----> 7\u001b[0m result \u001b[38;5;241m=\u001b[39m \u001b[43mevaluate_performance\u001b[49m\u001b[43m(\u001b[49m\u001b[43mretriever\u001b[49m\u001b[43m,\u001b[49m\u001b[43m \u001b[49m\u001b[43mwrapped_llm\u001b[49m\u001b[43m,\u001b[49m\u001b[43m \u001b[49m\u001b[43msynthetic_question\u001b[49m\u001b[43m,\u001b[49m\u001b[43m \u001b[49m\u001b[43mground_truth_answer\u001b[49m\u001b[43m,\u001b[49m\u001b[43m \u001b[49m\u001b[43mground_truth_id\u001b[49m\u001b[43m)\u001b[49m\n\u001b[1;32m      9\u001b[0m result[\u001b[38;5;124m\"\u001b[39m\u001b[38;5;124mid\u001b[39m\u001b[38;5;124m\"\u001b[39m] \u001b[38;5;241m=\u001b[39m ground_truth_id\n\u001b[1;32m     10\u001b[0m result[\u001b[38;5;124m\"\u001b[39m\u001b[38;5;124msynthetic_question\u001b[39m\u001b[38;5;124m\"\u001b[39m] \u001b[38;5;241m=\u001b[39m synthetic_question\n",
      "File \u001b[0;32m~/Desktop/MeETU/RAG_Model/model.py:128\u001b[0m, in \u001b[0;36mevaluate_performance\u001b[0;34m(retriever, wrapped_llm, synthetic_question, ground_truth_answer, ground_truth_id)\u001b[0m\n\u001b[1;32m    125\u001b[0m prompt \u001b[38;5;241m=\u001b[39m prompt_template\u001b[38;5;241m.\u001b[39mformat(context\u001b[38;5;241m=\u001b[39mcontext, question\u001b[38;5;241m=\u001b[39msynthetic_question)\n\u001b[1;32m    127\u001b[0m start_time \u001b[38;5;241m=\u001b[39m time\u001b[38;5;241m.\u001b[39mtime()\n\u001b[0;32m--> 128\u001b[0m generated_response \u001b[38;5;241m=\u001b[39m \u001b[43mwrapped_llm\u001b[49m\u001b[43m(\u001b[49m\u001b[43mprompt\u001b[49m\u001b[43m)\u001b[49m\n\u001b[1;32m    129\u001b[0m response_time \u001b[38;5;241m=\u001b[39m time\u001b[38;5;241m.\u001b[39mtime() \u001b[38;5;241m-\u001b[39m start_time\n\u001b[1;32m    131\u001b[0m response_text \u001b[38;5;241m=\u001b[39m generated_response[\u001b[38;5;124m'\u001b[39m\u001b[38;5;124mchoices\u001b[39m\u001b[38;5;124m'\u001b[39m][\u001b[38;5;241m0\u001b[39m][\u001b[38;5;124m'\u001b[39m\u001b[38;5;124mmessage\u001b[39m\u001b[38;5;124m'\u001b[39m][\u001b[38;5;124m'\u001b[39m\u001b[38;5;124mcontent\u001b[39m\u001b[38;5;124m'\u001b[39m] \u001b[38;5;28;01mif\u001b[39;00m \u001b[38;5;28misinstance\u001b[39m(generated_response, \u001b[38;5;28mdict\u001b[39m) \u001b[38;5;28;01melse\u001b[39;00m \u001b[38;5;28mstr\u001b[39m(generated_response)\n",
      "File \u001b[0;32m~/Desktop/MeETU/RAG_Model/model.py:50\u001b[0m, in \u001b[0;36mLlamaWrapper.__call__\u001b[0;34m(self, prompt, stream)\u001b[0m\n\u001b[1;32m     47\u001b[0m truncated_prompt \u001b[38;5;241m=\u001b[39m \u001b[38;5;28mself\u001b[39m\u001b[38;5;241m.\u001b[39m_truncate_prompt(prompt)\n\u001b[1;32m     48\u001b[0m available_tokens_for_response \u001b[38;5;241m=\u001b[39m \u001b[38;5;28mself\u001b[39m\u001b[38;5;241m.\u001b[39mmax_tokens \u001b[38;5;241m-\u001b[39m \u001b[38;5;28mself\u001b[39m\u001b[38;5;241m.\u001b[39m_count_tokens(truncated_prompt)\n\u001b[0;32m---> 50\u001b[0m \u001b[38;5;28;01mreturn\u001b[39;00m \u001b[38;5;28;43mself\u001b[39;49m\u001b[38;5;241;43m.\u001b[39;49m\u001b[43mmodel\u001b[49m\u001b[38;5;241;43m.\u001b[39;49m\u001b[43mcreate_chat_completion\u001b[49m\u001b[43m(\u001b[49m\n\u001b[1;32m     51\u001b[0m \u001b[43m    \u001b[49m\u001b[43mmessages\u001b[49m\u001b[38;5;241;43m=\u001b[39;49m\u001b[43m[\u001b[49m\u001b[43m{\u001b[49m\u001b[38;5;124;43m\"\u001b[39;49m\u001b[38;5;124;43mrole\u001b[39;49m\u001b[38;5;124;43m\"\u001b[39;49m\u001b[43m:\u001b[49m\u001b[43m \u001b[49m\u001b[38;5;124;43m\"\u001b[39;49m\u001b[38;5;124;43muser\u001b[39;49m\u001b[38;5;124;43m\"\u001b[39;49m\u001b[43m,\u001b[49m\u001b[43m \u001b[49m\u001b[38;5;124;43m\"\u001b[39;49m\u001b[38;5;124;43mcontent\u001b[39;49m\u001b[38;5;124;43m\"\u001b[39;49m\u001b[43m:\u001b[49m\u001b[43m \u001b[49m\u001b[43mtruncated_prompt\u001b[49m\u001b[43m}\u001b[49m\u001b[43m]\u001b[49m\u001b[43m,\u001b[49m\n\u001b[1;32m     52\u001b[0m \u001b[43m    \u001b[49m\u001b[43mstream\u001b[49m\u001b[38;5;241;43m=\u001b[39;49m\u001b[43mstream\u001b[49m\u001b[43m,\u001b[49m\n\u001b[1;32m     53\u001b[0m \u001b[43m    \u001b[49m\u001b[43mmax_tokens\u001b[49m\u001b[38;5;241;43m=\u001b[39;49m\u001b[43mavailable_tokens_for_response\u001b[49m\n\u001b[1;32m     54\u001b[0m \u001b[43m\u001b[49m\u001b[43m)\u001b[49m\n",
      "File \u001b[0;32m~/.pyenv/versions/DI502/lib/python3.10/site-packages/llama_cpp/llama.py:1999\u001b[0m, in \u001b[0;36mLlama.create_chat_completion\u001b[0;34m(self, messages, functions, function_call, tools, tool_choice, temperature, top_p, top_k, min_p, typical_p, stream, stop, seed, response_format, max_tokens, presence_penalty, frequency_penalty, repeat_penalty, tfs_z, mirostat_mode, mirostat_tau, mirostat_eta, model, logits_processor, grammar, logit_bias, logprobs, top_logprobs)\u001b[0m\n\u001b[1;32m   1961\u001b[0m \u001b[38;5;250m\u001b[39m\u001b[38;5;124;03m\"\"\"Generate a chat completion from a list of messages.\u001b[39;00m\n\u001b[1;32m   1962\u001b[0m \n\u001b[1;32m   1963\u001b[0m \u001b[38;5;124;03mArgs:\u001b[39;00m\n\u001b[0;32m   (...)\u001b[0m\n\u001b[1;32m   1992\u001b[0m \u001b[38;5;124;03m    Generated chat completion or a stream of chat completion chunks.\u001b[39;00m\n\u001b[1;32m   1993\u001b[0m \u001b[38;5;124;03m\"\"\"\u001b[39;00m\n\u001b[1;32m   1994\u001b[0m handler \u001b[38;5;241m=\u001b[39m (\n\u001b[1;32m   1995\u001b[0m     \u001b[38;5;28mself\u001b[39m\u001b[38;5;241m.\u001b[39mchat_handler\n\u001b[1;32m   1996\u001b[0m     \u001b[38;5;129;01mor\u001b[39;00m \u001b[38;5;28mself\u001b[39m\u001b[38;5;241m.\u001b[39m_chat_handlers\u001b[38;5;241m.\u001b[39mget(\u001b[38;5;28mself\u001b[39m\u001b[38;5;241m.\u001b[39mchat_format)\n\u001b[1;32m   1997\u001b[0m     \u001b[38;5;129;01mor\u001b[39;00m llama_chat_format\u001b[38;5;241m.\u001b[39mget_chat_completion_handler(\u001b[38;5;28mself\u001b[39m\u001b[38;5;241m.\u001b[39mchat_format)\n\u001b[1;32m   1998\u001b[0m )\n\u001b[0;32m-> 1999\u001b[0m \u001b[38;5;28;01mreturn\u001b[39;00m \u001b[43mhandler\u001b[49m\u001b[43m(\u001b[49m\n\u001b[1;32m   2000\u001b[0m \u001b[43m    \u001b[49m\u001b[43mllama\u001b[49m\u001b[38;5;241;43m=\u001b[39;49m\u001b[38;5;28;43mself\u001b[39;49m\u001b[43m,\u001b[49m\n\u001b[1;32m   2001\u001b[0m \u001b[43m    \u001b[49m\u001b[43mmessages\u001b[49m\u001b[38;5;241;43m=\u001b[39;49m\u001b[43mmessages\u001b[49m\u001b[43m,\u001b[49m\n\u001b[1;32m   2002\u001b[0m \u001b[43m    \u001b[49m\u001b[43mfunctions\u001b[49m\u001b[38;5;241;43m=\u001b[39;49m\u001b[43mfunctions\u001b[49m\u001b[43m,\u001b[49m\n\u001b[1;32m   2003\u001b[0m \u001b[43m    \u001b[49m\u001b[43mfunction_call\u001b[49m\u001b[38;5;241;43m=\u001b[39;49m\u001b[43mfunction_call\u001b[49m\u001b[43m,\u001b[49m\n\u001b[1;32m   2004\u001b[0m \u001b[43m    \u001b[49m\u001b[43mtools\u001b[49m\u001b[38;5;241;43m=\u001b[39;49m\u001b[43mtools\u001b[49m\u001b[43m,\u001b[49m\n\u001b[1;32m   2005\u001b[0m \u001b[43m    \u001b[49m\u001b[43mtool_choice\u001b[49m\u001b[38;5;241;43m=\u001b[39;49m\u001b[43mtool_choice\u001b[49m\u001b[43m,\u001b[49m\n\u001b[1;32m   2006\u001b[0m \u001b[43m    \u001b[49m\u001b[43mtemperature\u001b[49m\u001b[38;5;241;43m=\u001b[39;49m\u001b[43mtemperature\u001b[49m\u001b[43m,\u001b[49m\n\u001b[1;32m   2007\u001b[0m \u001b[43m    \u001b[49m\u001b[43mtop_p\u001b[49m\u001b[38;5;241;43m=\u001b[39;49m\u001b[43mtop_p\u001b[49m\u001b[43m,\u001b[49m\n\u001b[1;32m   2008\u001b[0m \u001b[43m    \u001b[49m\u001b[43mtop_k\u001b[49m\u001b[38;5;241;43m=\u001b[39;49m\u001b[43mtop_k\u001b[49m\u001b[43m,\u001b[49m\n\u001b[1;32m   2009\u001b[0m \u001b[43m    \u001b[49m\u001b[43mmin_p\u001b[49m\u001b[38;5;241;43m=\u001b[39;49m\u001b[43mmin_p\u001b[49m\u001b[43m,\u001b[49m\n\u001b[1;32m   2010\u001b[0m \u001b[43m    \u001b[49m\u001b[43mtypical_p\u001b[49m\u001b[38;5;241;43m=\u001b[39;49m\u001b[43mtypical_p\u001b[49m\u001b[43m,\u001b[49m\n\u001b[1;32m   2011\u001b[0m \u001b[43m    \u001b[49m\u001b[43mlogprobs\u001b[49m\u001b[38;5;241;43m=\u001b[39;49m\u001b[43mlogprobs\u001b[49m\u001b[43m,\u001b[49m\n\u001b[1;32m   2012\u001b[0m \u001b[43m    \u001b[49m\u001b[43mtop_logprobs\u001b[49m\u001b[38;5;241;43m=\u001b[39;49m\u001b[43mtop_logprobs\u001b[49m\u001b[43m,\u001b[49m\n\u001b[1;32m   2013\u001b[0m \u001b[43m    \u001b[49m\u001b[43mstream\u001b[49m\u001b[38;5;241;43m=\u001b[39;49m\u001b[43mstream\u001b[49m\u001b[43m,\u001b[49m\n\u001b[1;32m   2014\u001b[0m \u001b[43m    \u001b[49m\u001b[43mstop\u001b[49m\u001b[38;5;241;43m=\u001b[39;49m\u001b[43mstop\u001b[49m\u001b[43m,\u001b[49m\n\u001b[1;32m   2015\u001b[0m \u001b[43m    \u001b[49m\u001b[43mseed\u001b[49m\u001b[38;5;241;43m=\u001b[39;49m\u001b[43mseed\u001b[49m\u001b[43m,\u001b[49m\n\u001b[1;32m   2016\u001b[0m \u001b[43m    \u001b[49m\u001b[43mresponse_format\u001b[49m\u001b[38;5;241;43m=\u001b[39;49m\u001b[43mresponse_format\u001b[49m\u001b[43m,\u001b[49m\n\u001b[1;32m   2017\u001b[0m \u001b[43m    \u001b[49m\u001b[43mmax_tokens\u001b[49m\u001b[38;5;241;43m=\u001b[39;49m\u001b[43mmax_tokens\u001b[49m\u001b[43m,\u001b[49m\n\u001b[1;32m   2018\u001b[0m \u001b[43m    \u001b[49m\u001b[43mpresence_penalty\u001b[49m\u001b[38;5;241;43m=\u001b[39;49m\u001b[43mpresence_penalty\u001b[49m\u001b[43m,\u001b[49m\n\u001b[1;32m   2019\u001b[0m \u001b[43m    \u001b[49m\u001b[43mfrequency_penalty\u001b[49m\u001b[38;5;241;43m=\u001b[39;49m\u001b[43mfrequency_penalty\u001b[49m\u001b[43m,\u001b[49m\n\u001b[1;32m   2020\u001b[0m \u001b[43m    \u001b[49m\u001b[43mrepeat_penalty\u001b[49m\u001b[38;5;241;43m=\u001b[39;49m\u001b[43mrepeat_penalty\u001b[49m\u001b[43m,\u001b[49m\n\u001b[1;32m   2021\u001b[0m \u001b[43m    \u001b[49m\u001b[43mtfs_z\u001b[49m\u001b[38;5;241;43m=\u001b[39;49m\u001b[43mtfs_z\u001b[49m\u001b[43m,\u001b[49m\n\u001b[1;32m   2022\u001b[0m \u001b[43m    \u001b[49m\u001b[43mmirostat_mode\u001b[49m\u001b[38;5;241;43m=\u001b[39;49m\u001b[43mmirostat_mode\u001b[49m\u001b[43m,\u001b[49m\n\u001b[1;32m   2023\u001b[0m \u001b[43m    \u001b[49m\u001b[43mmirostat_tau\u001b[49m\u001b[38;5;241;43m=\u001b[39;49m\u001b[43mmirostat_tau\u001b[49m\u001b[43m,\u001b[49m\n\u001b[1;32m   2024\u001b[0m \u001b[43m    \u001b[49m\u001b[43mmirostat_eta\u001b[49m\u001b[38;5;241;43m=\u001b[39;49m\u001b[43mmirostat_eta\u001b[49m\u001b[43m,\u001b[49m\n\u001b[1;32m   2025\u001b[0m \u001b[43m    \u001b[49m\u001b[43mmodel\u001b[49m\u001b[38;5;241;43m=\u001b[39;49m\u001b[43mmodel\u001b[49m\u001b[43m,\u001b[49m\n\u001b[1;32m   2026\u001b[0m \u001b[43m    \u001b[49m\u001b[43mlogits_processor\u001b[49m\u001b[38;5;241;43m=\u001b[39;49m\u001b[43mlogits_processor\u001b[49m\u001b[43m,\u001b[49m\n\u001b[1;32m   2027\u001b[0m \u001b[43m    \u001b[49m\u001b[43mgrammar\u001b[49m\u001b[38;5;241;43m=\u001b[39;49m\u001b[43mgrammar\u001b[49m\u001b[43m,\u001b[49m\n\u001b[1;32m   2028\u001b[0m \u001b[43m    \u001b[49m\u001b[43mlogit_bias\u001b[49m\u001b[38;5;241;43m=\u001b[39;49m\u001b[43mlogit_bias\u001b[49m\u001b[43m,\u001b[49m\n\u001b[1;32m   2029\u001b[0m \u001b[43m\u001b[49m\u001b[43m)\u001b[49m\n",
      "File \u001b[0;32m~/.pyenv/versions/DI502/lib/python3.10/site-packages/llama_cpp/llama_chat_format.py:637\u001b[0m, in \u001b[0;36mchat_formatter_to_chat_completion_handler.<locals>.chat_completion_handler\u001b[0;34m(llama, messages, functions, function_call, tools, tool_choice, temperature, top_p, top_k, min_p, typical_p, stream, stop, seed, response_format, max_tokens, presence_penalty, frequency_penalty, repeat_penalty, tfs_z, mirostat_mode, mirostat_tau, mirostat_eta, model, logits_processor, grammar, logit_bias, logprobs, top_logprobs, **kwargs)\u001b[0m\n\u001b[1;32m    632\u001b[0m             \u001b[38;5;28mprint\u001b[39m(\u001b[38;5;28mstr\u001b[39m(e), file\u001b[38;5;241m=\u001b[39msys\u001b[38;5;241m.\u001b[39mstderr)\n\u001b[1;32m    633\u001b[0m         grammar \u001b[38;5;241m=\u001b[39m llama_grammar\u001b[38;5;241m.\u001b[39mLlamaGrammar\u001b[38;5;241m.\u001b[39mfrom_string(\n\u001b[1;32m    634\u001b[0m             llama_grammar\u001b[38;5;241m.\u001b[39mJSON_GBNF, verbose\u001b[38;5;241m=\u001b[39mllama\u001b[38;5;241m.\u001b[39mverbose\n\u001b[1;32m    635\u001b[0m         )\n\u001b[0;32m--> 637\u001b[0m completion_or_chunks \u001b[38;5;241m=\u001b[39m \u001b[43mllama\u001b[49m\u001b[38;5;241;43m.\u001b[39;49m\u001b[43mcreate_completion\u001b[49m\u001b[43m(\u001b[49m\n\u001b[1;32m    638\u001b[0m \u001b[43m    \u001b[49m\u001b[43mprompt\u001b[49m\u001b[38;5;241;43m=\u001b[39;49m\u001b[43mprompt\u001b[49m\u001b[43m,\u001b[49m\n\u001b[1;32m    639\u001b[0m \u001b[43m    \u001b[49m\u001b[43mtemperature\u001b[49m\u001b[38;5;241;43m=\u001b[39;49m\u001b[43mtemperature\u001b[49m\u001b[43m,\u001b[49m\n\u001b[1;32m    640\u001b[0m \u001b[43m    \u001b[49m\u001b[43mtop_p\u001b[49m\u001b[38;5;241;43m=\u001b[39;49m\u001b[43mtop_p\u001b[49m\u001b[43m,\u001b[49m\n\u001b[1;32m    641\u001b[0m \u001b[43m    \u001b[49m\u001b[43mtop_k\u001b[49m\u001b[38;5;241;43m=\u001b[39;49m\u001b[43mtop_k\u001b[49m\u001b[43m,\u001b[49m\n\u001b[1;32m    642\u001b[0m \u001b[43m    \u001b[49m\u001b[43mmin_p\u001b[49m\u001b[38;5;241;43m=\u001b[39;49m\u001b[43mmin_p\u001b[49m\u001b[43m,\u001b[49m\n\u001b[1;32m    643\u001b[0m \u001b[43m    \u001b[49m\u001b[43mtypical_p\u001b[49m\u001b[38;5;241;43m=\u001b[39;49m\u001b[43mtypical_p\u001b[49m\u001b[43m,\u001b[49m\n\u001b[1;32m    644\u001b[0m \u001b[43m    \u001b[49m\u001b[43mlogprobs\u001b[49m\u001b[38;5;241;43m=\u001b[39;49m\u001b[43mtop_logprobs\u001b[49m\u001b[43m \u001b[49m\u001b[38;5;28;43;01mif\u001b[39;49;00m\u001b[43m \u001b[49m\u001b[43mlogprobs\u001b[49m\u001b[43m \u001b[49m\u001b[38;5;28;43;01melse\u001b[39;49;00m\u001b[43m \u001b[49m\u001b[38;5;28;43;01mNone\u001b[39;49;00m\u001b[43m,\u001b[49m\n\u001b[1;32m    645\u001b[0m \u001b[43m    \u001b[49m\u001b[43mstream\u001b[49m\u001b[38;5;241;43m=\u001b[39;49m\u001b[43mstream\u001b[49m\u001b[43m,\u001b[49m\n\u001b[1;32m    646\u001b[0m \u001b[43m    \u001b[49m\u001b[43mstop\u001b[49m\u001b[38;5;241;43m=\u001b[39;49m\u001b[43mstop\u001b[49m\u001b[43m,\u001b[49m\n\u001b[1;32m    647\u001b[0m \u001b[43m    \u001b[49m\u001b[43mseed\u001b[49m\u001b[38;5;241;43m=\u001b[39;49m\u001b[43mseed\u001b[49m\u001b[43m,\u001b[49m\n\u001b[1;32m    648\u001b[0m \u001b[43m    \u001b[49m\u001b[43mmax_tokens\u001b[49m\u001b[38;5;241;43m=\u001b[39;49m\u001b[43mmax_tokens\u001b[49m\u001b[43m,\u001b[49m\n\u001b[1;32m    649\u001b[0m \u001b[43m    \u001b[49m\u001b[43mpresence_penalty\u001b[49m\u001b[38;5;241;43m=\u001b[39;49m\u001b[43mpresence_penalty\u001b[49m\u001b[43m,\u001b[49m\n\u001b[1;32m    650\u001b[0m \u001b[43m    \u001b[49m\u001b[43mfrequency_penalty\u001b[49m\u001b[38;5;241;43m=\u001b[39;49m\u001b[43mfrequency_penalty\u001b[49m\u001b[43m,\u001b[49m\n\u001b[1;32m    651\u001b[0m \u001b[43m    \u001b[49m\u001b[43mrepeat_penalty\u001b[49m\u001b[38;5;241;43m=\u001b[39;49m\u001b[43mrepeat_penalty\u001b[49m\u001b[43m,\u001b[49m\n\u001b[1;32m    652\u001b[0m \u001b[43m    \u001b[49m\u001b[43mtfs_z\u001b[49m\u001b[38;5;241;43m=\u001b[39;49m\u001b[43mtfs_z\u001b[49m\u001b[43m,\u001b[49m\n\u001b[1;32m    653\u001b[0m \u001b[43m    \u001b[49m\u001b[43mmirostat_mode\u001b[49m\u001b[38;5;241;43m=\u001b[39;49m\u001b[43mmirostat_mode\u001b[49m\u001b[43m,\u001b[49m\n\u001b[1;32m    654\u001b[0m \u001b[43m    \u001b[49m\u001b[43mmirostat_tau\u001b[49m\u001b[38;5;241;43m=\u001b[39;49m\u001b[43mmirostat_tau\u001b[49m\u001b[43m,\u001b[49m\n\u001b[1;32m    655\u001b[0m \u001b[43m    \u001b[49m\u001b[43mmirostat_eta\u001b[49m\u001b[38;5;241;43m=\u001b[39;49m\u001b[43mmirostat_eta\u001b[49m\u001b[43m,\u001b[49m\n\u001b[1;32m    656\u001b[0m \u001b[43m    \u001b[49m\u001b[43mmodel\u001b[49m\u001b[38;5;241;43m=\u001b[39;49m\u001b[43mmodel\u001b[49m\u001b[43m,\u001b[49m\n\u001b[1;32m    657\u001b[0m \u001b[43m    \u001b[49m\u001b[43mlogits_processor\u001b[49m\u001b[38;5;241;43m=\u001b[39;49m\u001b[43mlogits_processor\u001b[49m\u001b[43m,\u001b[49m\n\u001b[1;32m    658\u001b[0m \u001b[43m    \u001b[49m\u001b[43mstopping_criteria\u001b[49m\u001b[38;5;241;43m=\u001b[39;49m\u001b[43mstopping_criteria\u001b[49m\u001b[43m,\u001b[49m\n\u001b[1;32m    659\u001b[0m \u001b[43m    \u001b[49m\u001b[43mgrammar\u001b[49m\u001b[38;5;241;43m=\u001b[39;49m\u001b[43mgrammar\u001b[49m\u001b[43m,\u001b[49m\n\u001b[1;32m    660\u001b[0m \u001b[43m    \u001b[49m\u001b[43mlogit_bias\u001b[49m\u001b[38;5;241;43m=\u001b[39;49m\u001b[43mlogit_bias\u001b[49m\u001b[43m,\u001b[49m\n\u001b[1;32m    661\u001b[0m \u001b[43m\u001b[49m\u001b[43m)\u001b[49m\n\u001b[1;32m    662\u001b[0m \u001b[38;5;28;01mif\u001b[39;00m tool \u001b[38;5;129;01mis\u001b[39;00m \u001b[38;5;129;01mnot\u001b[39;00m \u001b[38;5;28;01mNone\u001b[39;00m:\n\u001b[1;32m    663\u001b[0m     tool_name \u001b[38;5;241m=\u001b[39m tool[\u001b[38;5;124m\"\u001b[39m\u001b[38;5;124mfunction\u001b[39m\u001b[38;5;124m\"\u001b[39m][\u001b[38;5;124m\"\u001b[39m\u001b[38;5;124mname\u001b[39m\u001b[38;5;124m\"\u001b[39m]\n",
      "File \u001b[0;32m~/.pyenv/versions/DI502/lib/python3.10/site-packages/llama_cpp/llama.py:1833\u001b[0m, in \u001b[0;36mLlama.create_completion\u001b[0;34m(self, prompt, suffix, max_tokens, temperature, top_p, min_p, typical_p, logprobs, echo, stop, frequency_penalty, presence_penalty, repeat_penalty, top_k, stream, seed, tfs_z, mirostat_mode, mirostat_tau, mirostat_eta, model, stopping_criteria, logits_processor, grammar, logit_bias)\u001b[0m\n\u001b[1;32m   1831\u001b[0m     chunks: Iterator[CreateCompletionStreamResponse] \u001b[38;5;241m=\u001b[39m completion_or_chunks\n\u001b[1;32m   1832\u001b[0m     \u001b[38;5;28;01mreturn\u001b[39;00m chunks\n\u001b[0;32m-> 1833\u001b[0m completion: Completion \u001b[38;5;241m=\u001b[39m \u001b[38;5;28;43mnext\u001b[39;49m\u001b[43m(\u001b[49m\u001b[43mcompletion_or_chunks\u001b[49m\u001b[43m)\u001b[49m  \u001b[38;5;66;03m# type: ignore\u001b[39;00m\n\u001b[1;32m   1834\u001b[0m \u001b[38;5;28;01mreturn\u001b[39;00m completion\n",
      "File \u001b[0;32m~/.pyenv/versions/DI502/lib/python3.10/site-packages/llama_cpp/llama.py:1269\u001b[0m, in \u001b[0;36mLlama._create_completion\u001b[0;34m(self, prompt, suffix, max_tokens, temperature, top_p, min_p, typical_p, logprobs, echo, stop, frequency_penalty, presence_penalty, repeat_penalty, top_k, stream, seed, tfs_z, mirostat_mode, mirostat_tau, mirostat_eta, model, stopping_criteria, logits_processor, grammar, logit_bias)\u001b[0m\n\u001b[1;32m   1266\u001b[0m     \u001b[38;5;28mself\u001b[39m\u001b[38;5;241m.\u001b[39m_ctx\u001b[38;5;241m.\u001b[39mreset_timings()\n\u001b[1;32m   1268\u001b[0m \u001b[38;5;28;01mif\u001b[39;00m \u001b[38;5;28mlen\u001b[39m(prompt_tokens) \u001b[38;5;241m>\u001b[39m\u001b[38;5;241m=\u001b[39m \u001b[38;5;28mself\u001b[39m\u001b[38;5;241m.\u001b[39m_n_ctx:\n\u001b[0;32m-> 1269\u001b[0m     \u001b[38;5;28;01mraise\u001b[39;00m \u001b[38;5;167;01mValueError\u001b[39;00m(\n\u001b[1;32m   1270\u001b[0m         \u001b[38;5;124mf\u001b[39m\u001b[38;5;124m\"\u001b[39m\u001b[38;5;124mRequested tokens (\u001b[39m\u001b[38;5;132;01m{\u001b[39;00m\u001b[38;5;28mlen\u001b[39m(prompt_tokens)\u001b[38;5;132;01m}\u001b[39;00m\u001b[38;5;124m) exceed context window of \u001b[39m\u001b[38;5;132;01m{\u001b[39;00mllama_cpp\u001b[38;5;241m.\u001b[39mllama_n_ctx(\u001b[38;5;28mself\u001b[39m\u001b[38;5;241m.\u001b[39mctx)\u001b[38;5;132;01m}\u001b[39;00m\u001b[38;5;124m\"\u001b[39m\n\u001b[1;32m   1271\u001b[0m     )\n\u001b[1;32m   1273\u001b[0m \u001b[38;5;28;01mif\u001b[39;00m max_tokens \u001b[38;5;129;01mis\u001b[39;00m \u001b[38;5;28;01mNone\u001b[39;00m \u001b[38;5;129;01mor\u001b[39;00m max_tokens \u001b[38;5;241m<\u001b[39m\u001b[38;5;241m=\u001b[39m \u001b[38;5;241m0\u001b[39m:\n\u001b[1;32m   1274\u001b[0m     \u001b[38;5;66;03m# Unlimited, depending on n_ctx.\u001b[39;00m\n\u001b[1;32m   1275\u001b[0m     max_tokens \u001b[38;5;241m=\u001b[39m \u001b[38;5;28mself\u001b[39m\u001b[38;5;241m.\u001b[39m_n_ctx \u001b[38;5;241m-\u001b[39m \u001b[38;5;28mlen\u001b[39m(prompt_tokens)\n",
      "\u001b[0;31mValueError\u001b[0m: Requested tokens (576) exceed context window of 512"
     ]
    }
   ],
   "source": [
    "evaluation_results = []\n",
    "\n",
    "for index, row in df.iterrows():\n",
    "    synthetic_question = row['synthetic_question']\n",
    "    ground_truth_answer = row['answer']\n",
    "    ground_truth_id = row['id'] # Document id\n",
    "    result = evaluate_performance(retriever, wrapped_llm, synthetic_question, ground_truth_answer, ground_truth_id)\n",
    "    \n",
    "    result[\"id\"] = ground_truth_id\n",
    "    result[\"synthetic_question\"] = synthetic_question\n",
    "    result[\"ground_truth_answer\"] = ground_truth_answer\n",
    "    result[\"link\"] = row['link']\n",
    "    print(result)\n",
    "    evaluation_results.append(result)\n",
    "\n",
    "results_df = pd.DataFrame(evaluation_results)\n"
   ]
  },
  {
   "cell_type": "code",
   "execution_count": 5,
   "metadata": {},
   "outputs": [],
   "source": [
    "results_df = pd.DataFrame(evaluation_results)"
   ]
  },
  {
   "cell_type": "code",
   "execution_count": 7,
   "metadata": {},
   "outputs": [
    {
     "data": {
      "text/html": [
       "<div>\n",
       "<style scoped>\n",
       "    .dataframe tbody tr th:only-of-type {\n",
       "        vertical-align: middle;\n",
       "    }\n",
       "\n",
       "    .dataframe tbody tr th {\n",
       "        vertical-align: top;\n",
       "    }\n",
       "\n",
       "    .dataframe thead th {\n",
       "        text-align: right;\n",
       "    }\n",
       "</style>\n",
       "<table border=\"1\" class=\"dataframe\">\n",
       "  <thead>\n",
       "    <tr style=\"text-align: right;\">\n",
       "      <th></th>\n",
       "      <th>generated_response</th>\n",
       "      <th>response_time</th>\n",
       "      <th>precision_at_1</th>\n",
       "      <th>bert_score</th>\n",
       "      <th>rouge_l_score</th>\n",
       "      <th>id</th>\n",
       "      <th>synthetic_question</th>\n",
       "      <th>ground_truth_answer</th>\n",
       "      <th>link</th>\n",
       "    </tr>\n",
       "  </thead>\n",
       "  <tbody>\n",
       "    <tr>\n",
       "      <th>0</th>\n",
       "      <td>To connect to the eduroam network at METU usin...</td>\n",
       "      <td>32.016301</td>\n",
       "      <td>1</td>\n",
       "      <td>0.845115</td>\n",
       "      <td>0.176871</td>\n",
       "      <td>0</td>\n",
       "      <td>How do I connect to the eduroam network at MET...</td>\n",
       "      <td>\\n\\nIf you are using Windows 10, then you do n...</td>\n",
       "      <td>https://faq.cc.metu.edu.tr/faq/how-can-i-conne...</td>\n",
       "    </tr>\n",
       "    <tr>\n",
       "      <th>1</th>\n",
       "      <td>I'm here to help. You're experiencing some tro...</td>\n",
       "      <td>35.103695</td>\n",
       "      <td>1</td>\n",
       "      <td>0.846941</td>\n",
       "      <td>0.128079</td>\n",
       "      <td>5</td>\n",
       "      <td>Why cant I connect to my computer at METU remo...</td>\n",
       "      <td>\\n\\nIf you are having trouble setting up a rem...</td>\n",
       "      <td>https://faq.cc.metu.edu.tr/faq/i-cannot-make-r...</td>\n",
       "    </tr>\n",
       "    <tr>\n",
       "      <th>2</th>\n",
       "      <td>The File Transfer Protocol (FTP) Service of ME...</td>\n",
       "      <td>26.606327</td>\n",
       "      <td>1</td>\n",
       "      <td>0.813516</td>\n",
       "      <td>0.059524</td>\n",
       "      <td>9</td>\n",
       "      <td>What is the FTP Service of METU Computer Cente...</td>\n",
       "      <td>\\n\\nFor more information about FTP Service of ...</td>\n",
       "      <td>https://faq.cc.metu.edu.tr/faq/there-ftp-servi...</td>\n",
       "    </tr>\n",
       "    <tr>\n",
       "      <th>3</th>\n",
       "      <td>You're referring to METU-NET, which is the wir...</td>\n",
       "      <td>25.897529</td>\n",
       "      <td>0</td>\n",
       "      <td>0.832110</td>\n",
       "      <td>0.071856</td>\n",
       "      <td>11</td>\n",
       "      <td>What is METU-NET and where can I find more in...</td>\n",
       "      <td>\\n\\nFor more information about METU Campus Bac...</td>\n",
       "      <td>https://faq.cc.metu.edu.tr/faq/what-about-metu...</td>\n",
       "    </tr>\n",
       "    <tr>\n",
       "      <th>4</th>\n",
       "      <td>Hello there! I'm excited to help you find the ...</td>\n",
       "      <td>37.648028</td>\n",
       "      <td>1</td>\n",
       "      <td>0.834497</td>\n",
       "      <td>0.183544</td>\n",
       "      <td>17</td>\n",
       "      <td>What command should I use in Windows or Mac OS...</td>\n",
       "      <td>\\n\\nMAC (Media Access Control) address defines...</td>\n",
       "      <td>https://faq.cc.metu.edu.tr/faq/how-can-i-find-...</td>\n",
       "    </tr>\n",
       "    <tr>\n",
       "      <th>...</th>\n",
       "      <td>...</td>\n",
       "      <td>...</td>\n",
       "      <td>...</td>\n",
       "      <td>...</td>\n",
       "      <td>...</td>\n",
       "      <td>...</td>\n",
       "      <td>...</td>\n",
       "      <td>...</td>\n",
       "      <td>...</td>\n",
       "    </tr>\n",
       "    <tr>\n",
       "      <th>67</th>\n",
       "      <td>I'd be happy to help you with renewing your Ce...</td>\n",
       "      <td>19.633031</td>\n",
       "      <td>1</td>\n",
       "      <td>0.896229</td>\n",
       "      <td>0.361290</td>\n",
       "      <td>268</td>\n",
       "      <td>What is the process for renewing my Certified...</td>\n",
       "      <td>\\n\\nCertified Electronic Signature (CES/NES) a...</td>\n",
       "      <td>https://faq.cc.metu.edu.tr/faq/i-cannot-access...</td>\n",
       "    </tr>\n",
       "    <tr>\n",
       "      <th>68</th>\n",
       "      <td>As a prospective student at the Middle East Te...</td>\n",
       "      <td>21.879777</td>\n",
       "      <td>0</td>\n",
       "      <td>0.833087</td>\n",
       "      <td>0.134146</td>\n",
       "      <td>277</td>\n",
       "      <td>What is the necessity of obtaining an e-signat...</td>\n",
       "      <td>\\n\\nIt should be used in internal processes su...</td>\n",
       "      <td>https://faq.cc.metu.edu.tr/faq/where-will-i-us...</td>\n",
       "    </tr>\n",
       "    <tr>\n",
       "      <th>69</th>\n",
       "      <td>According to the information I have, the recom...</td>\n",
       "      <td>19.889137</td>\n",
       "      <td>0</td>\n",
       "      <td>0.883590</td>\n",
       "      <td>0.191781</td>\n",
       "      <td>279</td>\n",
       "      <td>What is the recommended antivirus software to ...</td>\n",
       "      <td>\\n\\nAntivirus software programs, once installe...</td>\n",
       "      <td>https://faq.cc.metu.edu.tr/faq/how-do-i-find-o...</td>\n",
       "    </tr>\n",
       "    <tr>\n",
       "      <th>70</th>\n",
       "      <td>Reporting spam emails at METU is quite straigh...</td>\n",
       "      <td>18.332749</td>\n",
       "      <td>1</td>\n",
       "      <td>0.863700</td>\n",
       "      <td>0.211111</td>\n",
       "      <td>290</td>\n",
       "      <td>How can I report a spam email to the spam fil...</td>\n",
       "      <td>\\n\\nForward the e-mail with full header inform...</td>\n",
       "      <td>https://faq.cc.metu.edu.tr/faq/what-should-i-d...</td>\n",
       "    </tr>\n",
       "    <tr>\n",
       "      <th>71</th>\n",
       "      <td>To ensure that you receive all messages to you...</td>\n",
       "      <td>21.916670</td>\n",
       "      <td>0</td>\n",
       "      <td>0.721345</td>\n",
       "      <td>0.009479</td>\n",
       "      <td>304</td>\n",
       "      <td>How can I ensure that I receive list messages ...</td>\n",
       "      <td>\\n\\nBüyük olasılıkla girdiğiniz e-posta adresi...</td>\n",
       "      <td>https://faq.cc.metu.edu.tr/faq/i-am-member-xyz...</td>\n",
       "    </tr>\n",
       "  </tbody>\n",
       "</table>\n",
       "<p>72 rows × 9 columns</p>\n",
       "</div>"
      ],
      "text/plain": [
       "                                   generated_response  response_time  \\\n",
       "0   To connect to the eduroam network at METU usin...      32.016301   \n",
       "1   I'm here to help. You're experiencing some tro...      35.103695   \n",
       "2   The File Transfer Protocol (FTP) Service of ME...      26.606327   \n",
       "3   You're referring to METU-NET, which is the wir...      25.897529   \n",
       "4   Hello there! I'm excited to help you find the ...      37.648028   \n",
       "..                                                ...            ...   \n",
       "67  I'd be happy to help you with renewing your Ce...      19.633031   \n",
       "68  As a prospective student at the Middle East Te...      21.879777   \n",
       "69  According to the information I have, the recom...      19.889137   \n",
       "70  Reporting spam emails at METU is quite straigh...      18.332749   \n",
       "71  To ensure that you receive all messages to you...      21.916670   \n",
       "\n",
       "    precision_at_1  bert_score  rouge_l_score   id  \\\n",
       "0                1    0.845115       0.176871    0   \n",
       "1                1    0.846941       0.128079    5   \n",
       "2                1    0.813516       0.059524    9   \n",
       "3                0    0.832110       0.071856   11   \n",
       "4                1    0.834497       0.183544   17   \n",
       "..             ...         ...            ...  ...   \n",
       "67               1    0.896229       0.361290  268   \n",
       "68               0    0.833087       0.134146  277   \n",
       "69               0    0.883590       0.191781  279   \n",
       "70               1    0.863700       0.211111  290   \n",
       "71               0    0.721345       0.009479  304   \n",
       "\n",
       "                                   synthetic_question  \\\n",
       "0   How do I connect to the eduroam network at MET...   \n",
       "1   Why cant I connect to my computer at METU remo...   \n",
       "2   What is the FTP Service of METU Computer Cente...   \n",
       "3    What is METU-NET and where can I find more in...   \n",
       "4   What command should I use in Windows or Mac OS...   \n",
       "..                                                ...   \n",
       "67   What is the process for renewing my Certified...   \n",
       "68  What is the necessity of obtaining an e-signat...   \n",
       "69  What is the recommended antivirus software to ...   \n",
       "70   How can I report a spam email to the spam fil...   \n",
       "71  How can I ensure that I receive list messages ...   \n",
       "\n",
       "                                  ground_truth_answer  \\\n",
       "0   \\n\\nIf you are using Windows 10, then you do n...   \n",
       "1   \\n\\nIf you are having trouble setting up a rem...   \n",
       "2   \\n\\nFor more information about FTP Service of ...   \n",
       "3   \\n\\nFor more information about METU Campus Bac...   \n",
       "4   \\n\\nMAC (Media Access Control) address defines...   \n",
       "..                                                ...   \n",
       "67  \\n\\nCertified Electronic Signature (CES/NES) a...   \n",
       "68  \\n\\nIt should be used in internal processes su...   \n",
       "69  \\n\\nAntivirus software programs, once installe...   \n",
       "70  \\n\\nForward the e-mail with full header inform...   \n",
       "71  \\n\\nBüyük olasılıkla girdiğiniz e-posta adresi...   \n",
       "\n",
       "                                                 link  \n",
       "0   https://faq.cc.metu.edu.tr/faq/how-can-i-conne...  \n",
       "1   https://faq.cc.metu.edu.tr/faq/i-cannot-make-r...  \n",
       "2   https://faq.cc.metu.edu.tr/faq/there-ftp-servi...  \n",
       "3   https://faq.cc.metu.edu.tr/faq/what-about-metu...  \n",
       "4   https://faq.cc.metu.edu.tr/faq/how-can-i-find-...  \n",
       "..                                                ...  \n",
       "67  https://faq.cc.metu.edu.tr/faq/i-cannot-access...  \n",
       "68  https://faq.cc.metu.edu.tr/faq/where-will-i-us...  \n",
       "69  https://faq.cc.metu.edu.tr/faq/how-do-i-find-o...  \n",
       "70  https://faq.cc.metu.edu.tr/faq/what-should-i-d...  \n",
       "71  https://faq.cc.metu.edu.tr/faq/i-am-member-xyz...  \n",
       "\n",
       "[72 rows x 9 columns]"
      ]
     },
     "execution_count": 7,
     "metadata": {},
     "output_type": "execute_result"
    }
   ],
   "source": [
    "results_df"
   ]
  },
  {
   "cell_type": "code",
   "execution_count": 9,
   "metadata": {},
   "outputs": [
    {
     "name": "stdout",
     "output_type": "stream",
     "text": [
      "Precision@1: 73.61%\n",
      "BERT Score: 85.04%\n",
      "ROUGE-L: 18.57%\n",
      "Response Time: 22.78 seconds\n"
     ]
    }
   ],
   "source": [
    "precision_success_rate = results_df['precision_at_1'].mean() * 100\n",
    "bert_score_success_rate = results_df['bert_score'].mean() * 100\n",
    "rouge_l_success_rate = results_df['rouge_l_score'].mean() * 100\n",
    "response_time_success_rate = results_df['response_time'].mean()\n",
    "\n",
    "print(f\"Precision@1: {precision_success_rate:.2f}%\")\n",
    "print(f\"BERT Score: {bert_score_success_rate:.2f}%\")\n",
    "print(f\"ROUGE-L: {rouge_l_success_rate:.2f}%\")\n",
    "print(f\"Response Time: {response_time_success_rate:.2f} seconds\")\n",
    "\n"
   ]
  },
  {
   "cell_type": "code",
   "execution_count": null,
   "metadata": {},
   "outputs": [],
   "source": []
  }
 ],
 "metadata": {
  "kernelspec": {
   "display_name": "DI502",
   "language": "python",
   "name": "python3"
  },
  "language_info": {
   "codemirror_mode": {
    "name": "ipython",
    "version": 3
   },
   "file_extension": ".py",
   "mimetype": "text/x-python",
   "name": "python",
   "nbconvert_exporter": "python",
   "pygments_lexer": "ipython3",
   "version": "3.10.4"
  }
 },
 "nbformat": 4,
 "nbformat_minor": 2
}
