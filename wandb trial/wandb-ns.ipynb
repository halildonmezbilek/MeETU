{
 "cells": [
  {
   "cell_type": "code",
   "execution_count": 1,
   "metadata": {},
   "outputs": [
    {
     "name": "stderr",
     "output_type": "stream",
     "text": [
      "\u001b[34m\u001b[1mwandb\u001b[0m: Using wandb-core as the SDK backend.  Please refer to https://wandb.me/wandb-core for more information.\n",
      "\u001b[34m\u001b[1mwandb\u001b[0m: Currently logged in as: \u001b[33mnilsusahin\u001b[0m (\u001b[33mnilsusahin-middle-east-technical-university\u001b[0m). Use \u001b[1m`wandb login --relogin`\u001b[0m to force relogin\n",
      "\u001b[34m\u001b[1mwandb\u001b[0m: \u001b[33mWARNING\u001b[0m If you're specifying your api key in code, ensure this code is not shared publicly.\n",
      "\u001b[34m\u001b[1mwandb\u001b[0m: \u001b[33mWARNING\u001b[0m Consider setting the WANDB_API_KEY environment variable, or running `wandb login` from the command line.\n",
      "\u001b[34m\u001b[1mwandb\u001b[0m: Appending key for api.wandb.ai to your netrc file: C:\\Users\\Nilsu.Sahin\\_netrc\n"
     ]
    },
    {
     "data": {
      "text/plain": [
       "True"
      ]
     },
     "execution_count": 1,
     "metadata": {},
     "output_type": "execute_result"
    }
   ],
   "source": [
    "import wandb\n",
    "\n",
    "# Replace with your API key\n",
    "wandb.login(key=\"WANDB-KEY\")"
   ]
  },
  {
   "cell_type": "code",
   "execution_count": 2,
   "metadata": {},
   "outputs": [
    {
     "name": "stdout",
     "output_type": "stream",
     "text": [
      "Create sweep with ID: 12zc357u\n",
      "Sweep URL: https://wandb.ai/nilsusahin-middle-east-technical-university/rag_basic_experiment/sweeps/12zc357u\n"
     ]
    },
    {
     "name": "stderr",
     "output_type": "stream",
     "text": [
      "\u001b[34m\u001b[1mwandb\u001b[0m: Agent Starting Run: 5mu4fmbe with config:\n",
      "\u001b[34m\u001b[1mwandb\u001b[0m: \tchunk_overlap: 0\n",
      "\u001b[34m\u001b[1mwandb\u001b[0m: \tchunk_size: 200\n",
      "\u001b[34m\u001b[1mwandb\u001b[0m: \ttemperature: 0.975368596400811\n",
      "\u001b[34m\u001b[1mwandb\u001b[0m: \ttop_k: 2\n"
     ]
    },
    {
     "data": {
      "text/html": [
       "Tracking run with wandb version 0.19.1"
      ],
      "text/plain": [
       "<IPython.core.display.HTML object>"
      ]
     },
     "metadata": {},
     "output_type": "display_data"
    },
    {
     "data": {
      "text/html": [
       "Run data is saved locally in <code>c:\\Users\\Nilsu.Sahin\\Desktop\\ns_trial\\RAG_Model\\wandb\\run-20241217_193431-5mu4fmbe</code>"
      ],
      "text/plain": [
       "<IPython.core.display.HTML object>"
      ]
     },
     "metadata": {},
     "output_type": "display_data"
    },
    {
     "data": {
      "text/html": [
       "Syncing run <strong><a href='https://wandb.ai/nilsusahin-middle-east-technical-university/rag_basic_experiment/runs/5mu4fmbe' target=\"_blank\">treasured-sweep-1</a></strong> to <a href='https://wandb.ai/nilsusahin-middle-east-technical-university/rag_basic_experiment' target=\"_blank\">Weights & Biases</a> (<a href='https://wandb.me/developer-guide' target=\"_blank\">docs</a>)<br>Sweep page: <a href='https://wandb.ai/nilsusahin-middle-east-technical-university/rag_basic_experiment/sweeps/12zc357u' target=\"_blank\">https://wandb.ai/nilsusahin-middle-east-technical-university/rag_basic_experiment/sweeps/12zc357u</a>"
      ],
      "text/plain": [
       "<IPython.core.display.HTML object>"
      ]
     },
     "metadata": {},
     "output_type": "display_data"
    },
    {
     "data": {
      "text/html": [
       " View project at <a href='https://wandb.ai/nilsusahin-middle-east-technical-university/rag_basic_experiment' target=\"_blank\">https://wandb.ai/nilsusahin-middle-east-technical-university/rag_basic_experiment</a>"
      ],
      "text/plain": [
       "<IPython.core.display.HTML object>"
      ]
     },
     "metadata": {},
     "output_type": "display_data"
    },
    {
     "data": {
      "text/html": [
       " View sweep at <a href='https://wandb.ai/nilsusahin-middle-east-technical-university/rag_basic_experiment/sweeps/12zc357u' target=\"_blank\">https://wandb.ai/nilsusahin-middle-east-technical-university/rag_basic_experiment/sweeps/12zc357u</a>"
      ],
      "text/plain": [
       "<IPython.core.display.HTML object>"
      ]
     },
     "metadata": {},
     "output_type": "display_data"
    },
    {
     "data": {
      "text/html": [
       " View run at <a href='https://wandb.ai/nilsusahin-middle-east-technical-university/rag_basic_experiment/runs/5mu4fmbe' target=\"_blank\">https://wandb.ai/nilsusahin-middle-east-technical-university/rag_basic_experiment/runs/5mu4fmbe</a>"
      ],
      "text/plain": [
       "<IPython.core.display.HTML object>"
      ]
     },
     "metadata": {},
     "output_type": "display_data"
    },
    {
     "name": "stderr",
     "output_type": "stream",
     "text": [
      "c:\\Users\\Nilsu.Sahin\\Desktop\\ns_trial\\RAG_Model\\venv\\Lib\\site-packages\\tqdm\\auto.py:21: TqdmWarning: IProgress not found. Please update jupyter and ipywidgets. See https://ipywidgets.readthedocs.io/en/stable/user_install.html\n",
      "  from .autonotebook import tqdm as notebook_tqdm\n"
     ]
    },
    {
     "name": "stdout",
     "output_type": "stream",
     "text": [
      "The token has not been saved to the git credentials helper. Pass `add_to_git_credential=True` in this function directly or `--add-to-git-credential` if using via `huggingface-cli` if you want to set the git credential as well.\n",
      "Token is valid (permission: fineGrained).\n",
      "Your token has been saved to C:\\Users\\Nilsu.Sahin\\.cache\\huggingface\\token\n",
      "Login successful\n",
      "Mean Score: 1.0\n"
     ]
    },
    {
     "data": {
      "text/html": [],
      "text/plain": [
       "<IPython.core.display.HTML object>"
      ]
     },
     "metadata": {},
     "output_type": "display_data"
    },
    {
     "data": {
      "text/html": [
       "<br>    <style><br>        .wandb-row {<br>            display: flex;<br>            flex-direction: row;<br>            flex-wrap: wrap;<br>            justify-content: flex-start;<br>            width: 100%;<br>        }<br>        .wandb-col {<br>            display: flex;<br>            flex-direction: column;<br>            flex-basis: 100%;<br>            flex: 1;<br>            padding: 10px;<br>        }<br>    </style><br><div class=\"wandb-row\"><div class=\"wandb-col\"><h3>Run history:</h3><br/><table class=\"wandb\"><tr><td>chunk_overlap</td><td>▁</td></tr><tr><td>chunk_size</td><td>▁</td></tr><tr><td>mean_score</td><td>▁</td></tr><tr><td>temperature</td><td>▁</td></tr><tr><td>top_k</td><td>▁</td></tr></table><br/></div><div class=\"wandb-col\"><h3>Run summary:</h3><br/><table class=\"wandb\"><tr><td>chunk_overlap</td><td>0</td></tr><tr><td>chunk_size</td><td>200</td></tr><tr><td>mean_score</td><td>1</td></tr><tr><td>temperature</td><td>0.97537</td></tr><tr><td>top_k</td><td>2</td></tr></table><br/></div></div>"
      ],
      "text/plain": [
       "<IPython.core.display.HTML object>"
      ]
     },
     "metadata": {},
     "output_type": "display_data"
    },
    {
     "data": {
      "text/html": [
       " View run <strong style=\"color:#cdcd00\">treasured-sweep-1</strong> at: <a href='https://wandb.ai/nilsusahin-middle-east-technical-university/rag_basic_experiment/runs/5mu4fmbe' target=\"_blank\">https://wandb.ai/nilsusahin-middle-east-technical-university/rag_basic_experiment/runs/5mu4fmbe</a><br> View project at: <a href='https://wandb.ai/nilsusahin-middle-east-technical-university/rag_basic_experiment' target=\"_blank\">https://wandb.ai/nilsusahin-middle-east-technical-university/rag_basic_experiment</a><br>Synced 5 W&B file(s), 0 media file(s), 0 artifact file(s) and 0 other file(s)"
      ],
      "text/plain": [
       "<IPython.core.display.HTML object>"
      ]
     },
     "metadata": {},
     "output_type": "display_data"
    },
    {
     "data": {
      "text/html": [
       "Find logs at: <code>.\\wandb\\run-20241217_193431-5mu4fmbe\\logs</code>"
      ],
      "text/plain": [
       "<IPython.core.display.HTML object>"
      ]
     },
     "metadata": {},
     "output_type": "display_data"
    },
    {
     "name": "stderr",
     "output_type": "stream",
     "text": [
      "\u001b[34m\u001b[1mwandb\u001b[0m: Agent Starting Run: y20z7rza with config:\n",
      "\u001b[34m\u001b[1mwandb\u001b[0m: \tchunk_overlap: 0\n",
      "\u001b[34m\u001b[1mwandb\u001b[0m: \tchunk_size: 200\n",
      "\u001b[34m\u001b[1mwandb\u001b[0m: \ttemperature: 0.6329425553340373\n",
      "\u001b[34m\u001b[1mwandb\u001b[0m: \ttop_k: 3\n"
     ]
    },
    {
     "data": {
      "text/html": [
       "Tracking run with wandb version 0.19.1"
      ],
      "text/plain": [
       "<IPython.core.display.HTML object>"
      ]
     },
     "metadata": {},
     "output_type": "display_data"
    },
    {
     "data": {
      "text/html": [
       "Run data is saved locally in <code>c:\\Users\\Nilsu.Sahin\\Desktop\\ns_trial\\RAG_Model\\wandb\\run-20241217_193627-y20z7rza</code>"
      ],
      "text/plain": [
       "<IPython.core.display.HTML object>"
      ]
     },
     "metadata": {},
     "output_type": "display_data"
    },
    {
     "data": {
      "text/html": [
       "Syncing run <strong><a href='https://wandb.ai/nilsusahin-middle-east-technical-university/rag_basic_experiment/runs/y20z7rza' target=\"_blank\">super-sweep-2</a></strong> to <a href='https://wandb.ai/nilsusahin-middle-east-technical-university/rag_basic_experiment' target=\"_blank\">Weights & Biases</a> (<a href='https://wandb.me/developer-guide' target=\"_blank\">docs</a>)<br>Sweep page: <a href='https://wandb.ai/nilsusahin-middle-east-technical-university/rag_basic_experiment/sweeps/12zc357u' target=\"_blank\">https://wandb.ai/nilsusahin-middle-east-technical-university/rag_basic_experiment/sweeps/12zc357u</a>"
      ],
      "text/plain": [
       "<IPython.core.display.HTML object>"
      ]
     },
     "metadata": {},
     "output_type": "display_data"
    },
    {
     "data": {
      "text/html": [
       " View project at <a href='https://wandb.ai/nilsusahin-middle-east-technical-university/rag_basic_experiment' target=\"_blank\">https://wandb.ai/nilsusahin-middle-east-technical-university/rag_basic_experiment</a>"
      ],
      "text/plain": [
       "<IPython.core.display.HTML object>"
      ]
     },
     "metadata": {},
     "output_type": "display_data"
    },
    {
     "data": {
      "text/html": [
       " View sweep at <a href='https://wandb.ai/nilsusahin-middle-east-technical-university/rag_basic_experiment/sweeps/12zc357u' target=\"_blank\">https://wandb.ai/nilsusahin-middle-east-technical-university/rag_basic_experiment/sweeps/12zc357u</a>"
      ],
      "text/plain": [
       "<IPython.core.display.HTML object>"
      ]
     },
     "metadata": {},
     "output_type": "display_data"
    },
    {
     "data": {
      "text/html": [
       " View run at <a href='https://wandb.ai/nilsusahin-middle-east-technical-university/rag_basic_experiment/runs/y20z7rza' target=\"_blank\">https://wandb.ai/nilsusahin-middle-east-technical-university/rag_basic_experiment/runs/y20z7rza</a>"
      ],
      "text/plain": [
       "<IPython.core.display.HTML object>"
      ]
     },
     "metadata": {},
     "output_type": "display_data"
    },
    {
     "name": "stdout",
     "output_type": "stream",
     "text": [
      "The token has not been saved to the git credentials helper. Pass `add_to_git_credential=True` in this function directly or `--add-to-git-credential` if using via `huggingface-cli` if you want to set the git credential as well.\n",
      "Token is valid (permission: fineGrained).\n",
      "Your token has been saved to C:\\Users\\Nilsu.Sahin\\.cache\\huggingface\\token\n",
      "Login successful\n",
      "Mean Score: 1.0\n"
     ]
    },
    {
     "data": {
      "text/html": [],
      "text/plain": [
       "<IPython.core.display.HTML object>"
      ]
     },
     "metadata": {},
     "output_type": "display_data"
    },
    {
     "data": {
      "text/html": [
       "<br>    <style><br>        .wandb-row {<br>            display: flex;<br>            flex-direction: row;<br>            flex-wrap: wrap;<br>            justify-content: flex-start;<br>            width: 100%;<br>        }<br>        .wandb-col {<br>            display: flex;<br>            flex-direction: column;<br>            flex-basis: 100%;<br>            flex: 1;<br>            padding: 10px;<br>        }<br>    </style><br><div class=\"wandb-row\"><div class=\"wandb-col\"><h3>Run history:</h3><br/><table class=\"wandb\"><tr><td>chunk_overlap</td><td>▁</td></tr><tr><td>chunk_size</td><td>▁</td></tr><tr><td>mean_score</td><td>▁</td></tr><tr><td>temperature</td><td>▁</td></tr><tr><td>top_k</td><td>▁</td></tr></table><br/></div><div class=\"wandb-col\"><h3>Run summary:</h3><br/><table class=\"wandb\"><tr><td>chunk_overlap</td><td>0</td></tr><tr><td>chunk_size</td><td>200</td></tr><tr><td>mean_score</td><td>1</td></tr><tr><td>temperature</td><td>0.63294</td></tr><tr><td>top_k</td><td>3</td></tr></table><br/></div></div>"
      ],
      "text/plain": [
       "<IPython.core.display.HTML object>"
      ]
     },
     "metadata": {},
     "output_type": "display_data"
    },
    {
     "data": {
      "text/html": [
       " View run <strong style=\"color:#cdcd00\">super-sweep-2</strong> at: <a href='https://wandb.ai/nilsusahin-middle-east-technical-university/rag_basic_experiment/runs/y20z7rza' target=\"_blank\">https://wandb.ai/nilsusahin-middle-east-technical-university/rag_basic_experiment/runs/y20z7rza</a><br> View project at: <a href='https://wandb.ai/nilsusahin-middle-east-technical-university/rag_basic_experiment' target=\"_blank\">https://wandb.ai/nilsusahin-middle-east-technical-university/rag_basic_experiment</a><br>Synced 5 W&B file(s), 0 media file(s), 0 artifact file(s) and 0 other file(s)"
      ],
      "text/plain": [
       "<IPython.core.display.HTML object>"
      ]
     },
     "metadata": {},
     "output_type": "display_data"
    },
    {
     "data": {
      "text/html": [
       "Find logs at: <code>.\\wandb\\run-20241217_193627-y20z7rza\\logs</code>"
      ],
      "text/plain": [
       "<IPython.core.display.HTML object>"
      ]
     },
     "metadata": {},
     "output_type": "display_data"
    },
    {
     "name": "stderr",
     "output_type": "stream",
     "text": [
      "\u001b[34m\u001b[1mwandb\u001b[0m: Agent Starting Run: 8l9xgmqt with config:\n",
      "\u001b[34m\u001b[1mwandb\u001b[0m: \tchunk_overlap: 0\n",
      "\u001b[34m\u001b[1mwandb\u001b[0m: \tchunk_size: 200\n",
      "\u001b[34m\u001b[1mwandb\u001b[0m: \ttemperature: 0.3428772433413224\n",
      "\u001b[34m\u001b[1mwandb\u001b[0m: \ttop_k: 1\n"
     ]
    },
    {
     "data": {
      "text/html": [
       "Tracking run with wandb version 0.19.1"
      ],
      "text/plain": [
       "<IPython.core.display.HTML object>"
      ]
     },
     "metadata": {},
     "output_type": "display_data"
    },
    {
     "data": {
      "text/html": [
       "Run data is saved locally in <code>c:\\Users\\Nilsu.Sahin\\Desktop\\ns_trial\\RAG_Model\\wandb\\run-20241217_193648-8l9xgmqt</code>"
      ],
      "text/plain": [
       "<IPython.core.display.HTML object>"
      ]
     },
     "metadata": {},
     "output_type": "display_data"
    },
    {
     "data": {
      "text/html": [
       "Syncing run <strong><a href='https://wandb.ai/nilsusahin-middle-east-technical-university/rag_basic_experiment/runs/8l9xgmqt' target=\"_blank\">jumping-sweep-3</a></strong> to <a href='https://wandb.ai/nilsusahin-middle-east-technical-university/rag_basic_experiment' target=\"_blank\">Weights & Biases</a> (<a href='https://wandb.me/developer-guide' target=\"_blank\">docs</a>)<br>Sweep page: <a href='https://wandb.ai/nilsusahin-middle-east-technical-university/rag_basic_experiment/sweeps/12zc357u' target=\"_blank\">https://wandb.ai/nilsusahin-middle-east-technical-university/rag_basic_experiment/sweeps/12zc357u</a>"
      ],
      "text/plain": [
       "<IPython.core.display.HTML object>"
      ]
     },
     "metadata": {},
     "output_type": "display_data"
    },
    {
     "data": {
      "text/html": [
       " View project at <a href='https://wandb.ai/nilsusahin-middle-east-technical-university/rag_basic_experiment' target=\"_blank\">https://wandb.ai/nilsusahin-middle-east-technical-university/rag_basic_experiment</a>"
      ],
      "text/plain": [
       "<IPython.core.display.HTML object>"
      ]
     },
     "metadata": {},
     "output_type": "display_data"
    },
    {
     "data": {
      "text/html": [
       " View sweep at <a href='https://wandb.ai/nilsusahin-middle-east-technical-university/rag_basic_experiment/sweeps/12zc357u' target=\"_blank\">https://wandb.ai/nilsusahin-middle-east-technical-university/rag_basic_experiment/sweeps/12zc357u</a>"
      ],
      "text/plain": [
       "<IPython.core.display.HTML object>"
      ]
     },
     "metadata": {},
     "output_type": "display_data"
    },
    {
     "data": {
      "text/html": [
       " View run at <a href='https://wandb.ai/nilsusahin-middle-east-technical-university/rag_basic_experiment/runs/8l9xgmqt' target=\"_blank\">https://wandb.ai/nilsusahin-middle-east-technical-university/rag_basic_experiment/runs/8l9xgmqt</a>"
      ],
      "text/plain": [
       "<IPython.core.display.HTML object>"
      ]
     },
     "metadata": {},
     "output_type": "display_data"
    },
    {
     "name": "stdout",
     "output_type": "stream",
     "text": [
      "The token has not been saved to the git credentials helper. Pass `add_to_git_credential=True` in this function directly or `--add-to-git-credential` if using via `huggingface-cli` if you want to set the git credential as well.\n",
      "Token is valid (permission: fineGrained).\n",
      "Your token has been saved to C:\\Users\\Nilsu.Sahin\\.cache\\huggingface\\token\n",
      "Login successful\n",
      "Mean Score: 1.0\n"
     ]
    },
    {
     "data": {
      "text/html": [],
      "text/plain": [
       "<IPython.core.display.HTML object>"
      ]
     },
     "metadata": {},
     "output_type": "display_data"
    },
    {
     "data": {
      "text/html": [
       "<br>    <style><br>        .wandb-row {<br>            display: flex;<br>            flex-direction: row;<br>            flex-wrap: wrap;<br>            justify-content: flex-start;<br>            width: 100%;<br>        }<br>        .wandb-col {<br>            display: flex;<br>            flex-direction: column;<br>            flex-basis: 100%;<br>            flex: 1;<br>            padding: 10px;<br>        }<br>    </style><br><div class=\"wandb-row\"><div class=\"wandb-col\"><h3>Run history:</h3><br/><table class=\"wandb\"><tr><td>chunk_overlap</td><td>▁</td></tr><tr><td>chunk_size</td><td>▁</td></tr><tr><td>mean_score</td><td>▁</td></tr><tr><td>temperature</td><td>▁</td></tr><tr><td>top_k</td><td>▁</td></tr></table><br/></div><div class=\"wandb-col\"><h3>Run summary:</h3><br/><table class=\"wandb\"><tr><td>chunk_overlap</td><td>0</td></tr><tr><td>chunk_size</td><td>200</td></tr><tr><td>mean_score</td><td>1</td></tr><tr><td>temperature</td><td>0.34288</td></tr><tr><td>top_k</td><td>1</td></tr></table><br/></div></div>"
      ],
      "text/plain": [
       "<IPython.core.display.HTML object>"
      ]
     },
     "metadata": {},
     "output_type": "display_data"
    },
    {
     "data": {
      "text/html": [
       " View run <strong style=\"color:#cdcd00\">jumping-sweep-3</strong> at: <a href='https://wandb.ai/nilsusahin-middle-east-technical-university/rag_basic_experiment/runs/8l9xgmqt' target=\"_blank\">https://wandb.ai/nilsusahin-middle-east-technical-university/rag_basic_experiment/runs/8l9xgmqt</a><br> View project at: <a href='https://wandb.ai/nilsusahin-middle-east-technical-university/rag_basic_experiment' target=\"_blank\">https://wandb.ai/nilsusahin-middle-east-technical-university/rag_basic_experiment</a><br>Synced 5 W&B file(s), 0 media file(s), 0 artifact file(s) and 0 other file(s)"
      ],
      "text/plain": [
       "<IPython.core.display.HTML object>"
      ]
     },
     "metadata": {},
     "output_type": "display_data"
    },
    {
     "data": {
      "text/html": [
       "Find logs at: <code>.\\wandb\\run-20241217_193648-8l9xgmqt\\logs</code>"
      ],
      "text/plain": [
       "<IPython.core.display.HTML object>"
      ]
     },
     "metadata": {},
     "output_type": "display_data"
    },
    {
     "name": "stderr",
     "output_type": "stream",
     "text": [
      "\u001b[34m\u001b[1mwandb\u001b[0m: Agent Starting Run: 3gd1gatc with config:\n",
      "\u001b[34m\u001b[1mwandb\u001b[0m: \tchunk_overlap: 50\n",
      "\u001b[34m\u001b[1mwandb\u001b[0m: \tchunk_size: 100\n",
      "\u001b[34m\u001b[1mwandb\u001b[0m: \ttemperature: 0.2662510602760218\n",
      "\u001b[34m\u001b[1mwandb\u001b[0m: \ttop_k: 8\n"
     ]
    },
    {
     "data": {
      "text/html": [
       "Tracking run with wandb version 0.19.1"
      ],
      "text/plain": [
       "<IPython.core.display.HTML object>"
      ]
     },
     "metadata": {},
     "output_type": "display_data"
    },
    {
     "data": {
      "text/html": [
       "Run data is saved locally in <code>c:\\Users\\Nilsu.Sahin\\Desktop\\ns_trial\\RAG_Model\\wandb\\run-20241217_193709-3gd1gatc</code>"
      ],
      "text/plain": [
       "<IPython.core.display.HTML object>"
      ]
     },
     "metadata": {},
     "output_type": "display_data"
    },
    {
     "data": {
      "text/html": [
       "Syncing run <strong><a href='https://wandb.ai/nilsusahin-middle-east-technical-university/rag_basic_experiment/runs/3gd1gatc' target=\"_blank\">solar-sweep-4</a></strong> to <a href='https://wandb.ai/nilsusahin-middle-east-technical-university/rag_basic_experiment' target=\"_blank\">Weights & Biases</a> (<a href='https://wandb.me/developer-guide' target=\"_blank\">docs</a>)<br>Sweep page: <a href='https://wandb.ai/nilsusahin-middle-east-technical-university/rag_basic_experiment/sweeps/12zc357u' target=\"_blank\">https://wandb.ai/nilsusahin-middle-east-technical-university/rag_basic_experiment/sweeps/12zc357u</a>"
      ],
      "text/plain": [
       "<IPython.core.display.HTML object>"
      ]
     },
     "metadata": {},
     "output_type": "display_data"
    },
    {
     "data": {
      "text/html": [
       " View project at <a href='https://wandb.ai/nilsusahin-middle-east-technical-university/rag_basic_experiment' target=\"_blank\">https://wandb.ai/nilsusahin-middle-east-technical-university/rag_basic_experiment</a>"
      ],
      "text/plain": [
       "<IPython.core.display.HTML object>"
      ]
     },
     "metadata": {},
     "output_type": "display_data"
    },
    {
     "data": {
      "text/html": [
       " View sweep at <a href='https://wandb.ai/nilsusahin-middle-east-technical-university/rag_basic_experiment/sweeps/12zc357u' target=\"_blank\">https://wandb.ai/nilsusahin-middle-east-technical-university/rag_basic_experiment/sweeps/12zc357u</a>"
      ],
      "text/plain": [
       "<IPython.core.display.HTML object>"
      ]
     },
     "metadata": {},
     "output_type": "display_data"
    },
    {
     "data": {
      "text/html": [
       " View run at <a href='https://wandb.ai/nilsusahin-middle-east-technical-university/rag_basic_experiment/runs/3gd1gatc' target=\"_blank\">https://wandb.ai/nilsusahin-middle-east-technical-university/rag_basic_experiment/runs/3gd1gatc</a>"
      ],
      "text/plain": [
       "<IPython.core.display.HTML object>"
      ]
     },
     "metadata": {},
     "output_type": "display_data"
    },
    {
     "name": "stdout",
     "output_type": "stream",
     "text": [
      "The token has not been saved to the git credentials helper. Pass `add_to_git_credential=True` in this function directly or `--add-to-git-credential` if using via `huggingface-cli` if you want to set the git credential as well.\n",
      "Token is valid (permission: fineGrained).\n",
      "Your token has been saved to C:\\Users\\Nilsu.Sahin\\.cache\\huggingface\\token\n",
      "Login successful\n",
      "Mean Score: 1.0\n"
     ]
    },
    {
     "data": {
      "text/html": [],
      "text/plain": [
       "<IPython.core.display.HTML object>"
      ]
     },
     "metadata": {},
     "output_type": "display_data"
    },
    {
     "data": {
      "text/html": [
       "<br>    <style><br>        .wandb-row {<br>            display: flex;<br>            flex-direction: row;<br>            flex-wrap: wrap;<br>            justify-content: flex-start;<br>            width: 100%;<br>        }<br>        .wandb-col {<br>            display: flex;<br>            flex-direction: column;<br>            flex-basis: 100%;<br>            flex: 1;<br>            padding: 10px;<br>        }<br>    </style><br><div class=\"wandb-row\"><div class=\"wandb-col\"><h3>Run history:</h3><br/><table class=\"wandb\"><tr><td>chunk_overlap</td><td>▁</td></tr><tr><td>chunk_size</td><td>▁</td></tr><tr><td>mean_score</td><td>▁</td></tr><tr><td>temperature</td><td>▁</td></tr><tr><td>top_k</td><td>▁</td></tr></table><br/></div><div class=\"wandb-col\"><h3>Run summary:</h3><br/><table class=\"wandb\"><tr><td>chunk_overlap</td><td>50</td></tr><tr><td>chunk_size</td><td>100</td></tr><tr><td>mean_score</td><td>1</td></tr><tr><td>temperature</td><td>0.26625</td></tr><tr><td>top_k</td><td>8</td></tr></table><br/></div></div>"
      ],
      "text/plain": [
       "<IPython.core.display.HTML object>"
      ]
     },
     "metadata": {},
     "output_type": "display_data"
    },
    {
     "data": {
      "text/html": [
       " View run <strong style=\"color:#cdcd00\">solar-sweep-4</strong> at: <a href='https://wandb.ai/nilsusahin-middle-east-technical-university/rag_basic_experiment/runs/3gd1gatc' target=\"_blank\">https://wandb.ai/nilsusahin-middle-east-technical-university/rag_basic_experiment/runs/3gd1gatc</a><br> View project at: <a href='https://wandb.ai/nilsusahin-middle-east-technical-university/rag_basic_experiment' target=\"_blank\">https://wandb.ai/nilsusahin-middle-east-technical-university/rag_basic_experiment</a><br>Synced 5 W&B file(s), 0 media file(s), 0 artifact file(s) and 0 other file(s)"
      ],
      "text/plain": [
       "<IPython.core.display.HTML object>"
      ]
     },
     "metadata": {},
     "output_type": "display_data"
    },
    {
     "data": {
      "text/html": [
       "Find logs at: <code>.\\wandb\\run-20241217_193709-3gd1gatc\\logs</code>"
      ],
      "text/plain": [
       "<IPython.core.display.HTML object>"
      ]
     },
     "metadata": {},
     "output_type": "display_data"
    },
    {
     "name": "stderr",
     "output_type": "stream",
     "text": [
      "\u001b[34m\u001b[1mwandb\u001b[0m: Sweep Agent: Waiting for job.\n",
      "\u001b[34m\u001b[1mwandb\u001b[0m: Job received.\n",
      "\u001b[34m\u001b[1mwandb\u001b[0m: Agent Starting Run: bmn8txqu with config:\n",
      "\u001b[34m\u001b[1mwandb\u001b[0m: \tchunk_overlap: 0\n",
      "\u001b[34m\u001b[1mwandb\u001b[0m: \tchunk_size: 100\n",
      "\u001b[34m\u001b[1mwandb\u001b[0m: \ttemperature: 0.47025751443642894\n",
      "\u001b[34m\u001b[1mwandb\u001b[0m: \ttop_k: 4\n"
     ]
    },
    {
     "data": {
      "text/html": [
       "Tracking run with wandb version 0.19.1"
      ],
      "text/plain": [
       "<IPython.core.display.HTML object>"
      ]
     },
     "metadata": {},
     "output_type": "display_data"
    },
    {
     "data": {
      "text/html": [
       "Run data is saved locally in <code>c:\\Users\\Nilsu.Sahin\\Desktop\\ns_trial\\RAG_Model\\wandb\\run-20241217_193739-bmn8txqu</code>"
      ],
      "text/plain": [
       "<IPython.core.display.HTML object>"
      ]
     },
     "metadata": {},
     "output_type": "display_data"
    },
    {
     "data": {
      "text/html": [
       "Syncing run <strong><a href='https://wandb.ai/nilsusahin-middle-east-technical-university/rag_basic_experiment/runs/bmn8txqu' target=\"_blank\">trim-sweep-5</a></strong> to <a href='https://wandb.ai/nilsusahin-middle-east-technical-university/rag_basic_experiment' target=\"_blank\">Weights & Biases</a> (<a href='https://wandb.me/developer-guide' target=\"_blank\">docs</a>)<br>Sweep page: <a href='https://wandb.ai/nilsusahin-middle-east-technical-university/rag_basic_experiment/sweeps/12zc357u' target=\"_blank\">https://wandb.ai/nilsusahin-middle-east-technical-university/rag_basic_experiment/sweeps/12zc357u</a>"
      ],
      "text/plain": [
       "<IPython.core.display.HTML object>"
      ]
     },
     "metadata": {},
     "output_type": "display_data"
    },
    {
     "data": {
      "text/html": [
       " View project at <a href='https://wandb.ai/nilsusahin-middle-east-technical-university/rag_basic_experiment' target=\"_blank\">https://wandb.ai/nilsusahin-middle-east-technical-university/rag_basic_experiment</a>"
      ],
      "text/plain": [
       "<IPython.core.display.HTML object>"
      ]
     },
     "metadata": {},
     "output_type": "display_data"
    },
    {
     "data": {
      "text/html": [
       " View sweep at <a href='https://wandb.ai/nilsusahin-middle-east-technical-university/rag_basic_experiment/sweeps/12zc357u' target=\"_blank\">https://wandb.ai/nilsusahin-middle-east-technical-university/rag_basic_experiment/sweeps/12zc357u</a>"
      ],
      "text/plain": [
       "<IPython.core.display.HTML object>"
      ]
     },
     "metadata": {},
     "output_type": "display_data"
    },
    {
     "data": {
      "text/html": [
       " View run at <a href='https://wandb.ai/nilsusahin-middle-east-technical-university/rag_basic_experiment/runs/bmn8txqu' target=\"_blank\">https://wandb.ai/nilsusahin-middle-east-technical-university/rag_basic_experiment/runs/bmn8txqu</a>"
      ],
      "text/plain": [
       "<IPython.core.display.HTML object>"
      ]
     },
     "metadata": {},
     "output_type": "display_data"
    },
    {
     "name": "stdout",
     "output_type": "stream",
     "text": [
      "The token has not been saved to the git credentials helper. Pass `add_to_git_credential=True` in this function directly or `--add-to-git-credential` if using via `huggingface-cli` if you want to set the git credential as well.\n",
      "Token is valid (permission: fineGrained).\n",
      "Your token has been saved to C:\\Users\\Nilsu.Sahin\\.cache\\huggingface\\token\n",
      "Login successful\n",
      "Mean Score: 1.0\n"
     ]
    },
    {
     "data": {
      "text/html": [],
      "text/plain": [
       "<IPython.core.display.HTML object>"
      ]
     },
     "metadata": {},
     "output_type": "display_data"
    },
    {
     "data": {
      "text/html": [
       "<br>    <style><br>        .wandb-row {<br>            display: flex;<br>            flex-direction: row;<br>            flex-wrap: wrap;<br>            justify-content: flex-start;<br>            width: 100%;<br>        }<br>        .wandb-col {<br>            display: flex;<br>            flex-direction: column;<br>            flex-basis: 100%;<br>            flex: 1;<br>            padding: 10px;<br>        }<br>    </style><br><div class=\"wandb-row\"><div class=\"wandb-col\"><h3>Run history:</h3><br/><table class=\"wandb\"><tr><td>chunk_overlap</td><td>▁</td></tr><tr><td>chunk_size</td><td>▁</td></tr><tr><td>mean_score</td><td>▁</td></tr><tr><td>temperature</td><td>▁</td></tr><tr><td>top_k</td><td>▁</td></tr></table><br/></div><div class=\"wandb-col\"><h3>Run summary:</h3><br/><table class=\"wandb\"><tr><td>chunk_overlap</td><td>0</td></tr><tr><td>chunk_size</td><td>100</td></tr><tr><td>mean_score</td><td>1</td></tr><tr><td>temperature</td><td>0.47026</td></tr><tr><td>top_k</td><td>4</td></tr></table><br/></div></div>"
      ],
      "text/plain": [
       "<IPython.core.display.HTML object>"
      ]
     },
     "metadata": {},
     "output_type": "display_data"
    },
    {
     "data": {
      "text/html": [
       " View run <strong style=\"color:#cdcd00\">trim-sweep-5</strong> at: <a href='https://wandb.ai/nilsusahin-middle-east-technical-university/rag_basic_experiment/runs/bmn8txqu' target=\"_blank\">https://wandb.ai/nilsusahin-middle-east-technical-university/rag_basic_experiment/runs/bmn8txqu</a><br> View project at: <a href='https://wandb.ai/nilsusahin-middle-east-technical-university/rag_basic_experiment' target=\"_blank\">https://wandb.ai/nilsusahin-middle-east-technical-university/rag_basic_experiment</a><br>Synced 5 W&B file(s), 0 media file(s), 0 artifact file(s) and 0 other file(s)"
      ],
      "text/plain": [
       "<IPython.core.display.HTML object>"
      ]
     },
     "metadata": {},
     "output_type": "display_data"
    },
    {
     "data": {
      "text/html": [
       "Find logs at: <code>.\\wandb\\run-20241217_193739-bmn8txqu\\logs</code>"
      ],
      "text/plain": [
       "<IPython.core.display.HTML object>"
      ]
     },
     "metadata": {},
     "output_type": "display_data"
    },
    {
     "name": "stderr",
     "output_type": "stream",
     "text": [
      "\u001b[34m\u001b[1mwandb\u001b[0m: Agent Starting Run: uhg738xt with config:\n",
      "\u001b[34m\u001b[1mwandb\u001b[0m: \tchunk_overlap: 0\n",
      "\u001b[34m\u001b[1mwandb\u001b[0m: \tchunk_size: 200\n",
      "\u001b[34m\u001b[1mwandb\u001b[0m: \ttemperature: 0.3520296628460733\n",
      "\u001b[34m\u001b[1mwandb\u001b[0m: \ttop_k: 3\n"
     ]
    },
    {
     "data": {
      "text/html": [
       "Tracking run with wandb version 0.19.1"
      ],
      "text/plain": [
       "<IPython.core.display.HTML object>"
      ]
     },
     "metadata": {},
     "output_type": "display_data"
    },
    {
     "data": {
      "text/html": [
       "Run data is saved locally in <code>c:\\Users\\Nilsu.Sahin\\Desktop\\ns_trial\\RAG_Model\\wandb\\run-20241217_193801-uhg738xt</code>"
      ],
      "text/plain": [
       "<IPython.core.display.HTML object>"
      ]
     },
     "metadata": {},
     "output_type": "display_data"
    },
    {
     "data": {
      "text/html": [
       "Syncing run <strong><a href='https://wandb.ai/nilsusahin-middle-east-technical-university/rag_basic_experiment/runs/uhg738xt' target=\"_blank\">earnest-sweep-6</a></strong> to <a href='https://wandb.ai/nilsusahin-middle-east-technical-university/rag_basic_experiment' target=\"_blank\">Weights & Biases</a> (<a href='https://wandb.me/developer-guide' target=\"_blank\">docs</a>)<br>Sweep page: <a href='https://wandb.ai/nilsusahin-middle-east-technical-university/rag_basic_experiment/sweeps/12zc357u' target=\"_blank\">https://wandb.ai/nilsusahin-middle-east-technical-university/rag_basic_experiment/sweeps/12zc357u</a>"
      ],
      "text/plain": [
       "<IPython.core.display.HTML object>"
      ]
     },
     "metadata": {},
     "output_type": "display_data"
    },
    {
     "data": {
      "text/html": [
       " View project at <a href='https://wandb.ai/nilsusahin-middle-east-technical-university/rag_basic_experiment' target=\"_blank\">https://wandb.ai/nilsusahin-middle-east-technical-university/rag_basic_experiment</a>"
      ],
      "text/plain": [
       "<IPython.core.display.HTML object>"
      ]
     },
     "metadata": {},
     "output_type": "display_data"
    },
    {
     "data": {
      "text/html": [
       " View sweep at <a href='https://wandb.ai/nilsusahin-middle-east-technical-university/rag_basic_experiment/sweeps/12zc357u' target=\"_blank\">https://wandb.ai/nilsusahin-middle-east-technical-university/rag_basic_experiment/sweeps/12zc357u</a>"
      ],
      "text/plain": [
       "<IPython.core.display.HTML object>"
      ]
     },
     "metadata": {},
     "output_type": "display_data"
    },
    {
     "data": {
      "text/html": [
       " View run at <a href='https://wandb.ai/nilsusahin-middle-east-technical-university/rag_basic_experiment/runs/uhg738xt' target=\"_blank\">https://wandb.ai/nilsusahin-middle-east-technical-university/rag_basic_experiment/runs/uhg738xt</a>"
      ],
      "text/plain": [
       "<IPython.core.display.HTML object>"
      ]
     },
     "metadata": {},
     "output_type": "display_data"
    },
    {
     "name": "stdout",
     "output_type": "stream",
     "text": [
      "The token has not been saved to the git credentials helper. Pass `add_to_git_credential=True` in this function directly or `--add-to-git-credential` if using via `huggingface-cli` if you want to set the git credential as well.\n",
      "Token is valid (permission: fineGrained).\n",
      "Your token has been saved to C:\\Users\\Nilsu.Sahin\\.cache\\huggingface\\token\n",
      "Login successful\n",
      "Mean Score: 1.0\n"
     ]
    },
    {
     "data": {
      "text/html": [],
      "text/plain": [
       "<IPython.core.display.HTML object>"
      ]
     },
     "metadata": {},
     "output_type": "display_data"
    },
    {
     "data": {
      "text/html": [
       "<br>    <style><br>        .wandb-row {<br>            display: flex;<br>            flex-direction: row;<br>            flex-wrap: wrap;<br>            justify-content: flex-start;<br>            width: 100%;<br>        }<br>        .wandb-col {<br>            display: flex;<br>            flex-direction: column;<br>            flex-basis: 100%;<br>            flex: 1;<br>            padding: 10px;<br>        }<br>    </style><br><div class=\"wandb-row\"><div class=\"wandb-col\"><h3>Run history:</h3><br/><table class=\"wandb\"><tr><td>chunk_overlap</td><td>▁</td></tr><tr><td>chunk_size</td><td>▁</td></tr><tr><td>mean_score</td><td>▁</td></tr><tr><td>temperature</td><td>▁</td></tr><tr><td>top_k</td><td>▁</td></tr></table><br/></div><div class=\"wandb-col\"><h3>Run summary:</h3><br/><table class=\"wandb\"><tr><td>chunk_overlap</td><td>0</td></tr><tr><td>chunk_size</td><td>200</td></tr><tr><td>mean_score</td><td>1</td></tr><tr><td>temperature</td><td>0.35203</td></tr><tr><td>top_k</td><td>3</td></tr></table><br/></div></div>"
      ],
      "text/plain": [
       "<IPython.core.display.HTML object>"
      ]
     },
     "metadata": {},
     "output_type": "display_data"
    },
    {
     "data": {
      "text/html": [
       " View run <strong style=\"color:#cdcd00\">earnest-sweep-6</strong> at: <a href='https://wandb.ai/nilsusahin-middle-east-technical-university/rag_basic_experiment/runs/uhg738xt' target=\"_blank\">https://wandb.ai/nilsusahin-middle-east-technical-university/rag_basic_experiment/runs/uhg738xt</a><br> View project at: <a href='https://wandb.ai/nilsusahin-middle-east-technical-university/rag_basic_experiment' target=\"_blank\">https://wandb.ai/nilsusahin-middle-east-technical-university/rag_basic_experiment</a><br>Synced 5 W&B file(s), 0 media file(s), 0 artifact file(s) and 0 other file(s)"
      ],
      "text/plain": [
       "<IPython.core.display.HTML object>"
      ]
     },
     "metadata": {},
     "output_type": "display_data"
    },
    {
     "data": {
      "text/html": [
       "Find logs at: <code>.\\wandb\\run-20241217_193801-uhg738xt\\logs</code>"
      ],
      "text/plain": [
       "<IPython.core.display.HTML object>"
      ]
     },
     "metadata": {},
     "output_type": "display_data"
    },
    {
     "name": "stderr",
     "output_type": "stream",
     "text": [
      "\u001b[34m\u001b[1mwandb\u001b[0m: Agent Starting Run: hw2ncpr2 with config:\n",
      "\u001b[34m\u001b[1mwandb\u001b[0m: \tchunk_overlap: 50\n",
      "\u001b[34m\u001b[1mwandb\u001b[0m: \tchunk_size: 200\n",
      "\u001b[34m\u001b[1mwandb\u001b[0m: \ttemperature: 0.7537690403062839\n",
      "\u001b[34m\u001b[1mwandb\u001b[0m: \ttop_k: 3\n"
     ]
    },
    {
     "data": {
      "text/html": [
       "Tracking run with wandb version 0.19.1"
      ],
      "text/plain": [
       "<IPython.core.display.HTML object>"
      ]
     },
     "metadata": {},
     "output_type": "display_data"
    },
    {
     "data": {
      "text/html": [
       "Run data is saved locally in <code>c:\\Users\\Nilsu.Sahin\\Desktop\\ns_trial\\RAG_Model\\wandb\\run-20241217_193822-hw2ncpr2</code>"
      ],
      "text/plain": [
       "<IPython.core.display.HTML object>"
      ]
     },
     "metadata": {},
     "output_type": "display_data"
    },
    {
     "data": {
      "text/html": [
       "Syncing run <strong><a href='https://wandb.ai/nilsusahin-middle-east-technical-university/rag_basic_experiment/runs/hw2ncpr2' target=\"_blank\">clean-sweep-7</a></strong> to <a href='https://wandb.ai/nilsusahin-middle-east-technical-university/rag_basic_experiment' target=\"_blank\">Weights & Biases</a> (<a href='https://wandb.me/developer-guide' target=\"_blank\">docs</a>)<br>Sweep page: <a href='https://wandb.ai/nilsusahin-middle-east-technical-university/rag_basic_experiment/sweeps/12zc357u' target=\"_blank\">https://wandb.ai/nilsusahin-middle-east-technical-university/rag_basic_experiment/sweeps/12zc357u</a>"
      ],
      "text/plain": [
       "<IPython.core.display.HTML object>"
      ]
     },
     "metadata": {},
     "output_type": "display_data"
    },
    {
     "data": {
      "text/html": [
       " View project at <a href='https://wandb.ai/nilsusahin-middle-east-technical-university/rag_basic_experiment' target=\"_blank\">https://wandb.ai/nilsusahin-middle-east-technical-university/rag_basic_experiment</a>"
      ],
      "text/plain": [
       "<IPython.core.display.HTML object>"
      ]
     },
     "metadata": {},
     "output_type": "display_data"
    },
    {
     "data": {
      "text/html": [
       " View sweep at <a href='https://wandb.ai/nilsusahin-middle-east-technical-university/rag_basic_experiment/sweeps/12zc357u' target=\"_blank\">https://wandb.ai/nilsusahin-middle-east-technical-university/rag_basic_experiment/sweeps/12zc357u</a>"
      ],
      "text/plain": [
       "<IPython.core.display.HTML object>"
      ]
     },
     "metadata": {},
     "output_type": "display_data"
    },
    {
     "data": {
      "text/html": [
       " View run at <a href='https://wandb.ai/nilsusahin-middle-east-technical-university/rag_basic_experiment/runs/hw2ncpr2' target=\"_blank\">https://wandb.ai/nilsusahin-middle-east-technical-university/rag_basic_experiment/runs/hw2ncpr2</a>"
      ],
      "text/plain": [
       "<IPython.core.display.HTML object>"
      ]
     },
     "metadata": {},
     "output_type": "display_data"
    },
    {
     "name": "stdout",
     "output_type": "stream",
     "text": [
      "The token has not been saved to the git credentials helper. Pass `add_to_git_credential=True` in this function directly or `--add-to-git-credential` if using via `huggingface-cli` if you want to set the git credential as well.\n",
      "Token is valid (permission: fineGrained).\n",
      "Your token has been saved to C:\\Users\\Nilsu.Sahin\\.cache\\huggingface\\token\n",
      "Login successful\n",
      "Mean Score: 1.0\n"
     ]
    },
    {
     "data": {
      "text/html": [],
      "text/plain": [
       "<IPython.core.display.HTML object>"
      ]
     },
     "metadata": {},
     "output_type": "display_data"
    },
    {
     "data": {
      "text/html": [
       "<br>    <style><br>        .wandb-row {<br>            display: flex;<br>            flex-direction: row;<br>            flex-wrap: wrap;<br>            justify-content: flex-start;<br>            width: 100%;<br>        }<br>        .wandb-col {<br>            display: flex;<br>            flex-direction: column;<br>            flex-basis: 100%;<br>            flex: 1;<br>            padding: 10px;<br>        }<br>    </style><br><div class=\"wandb-row\"><div class=\"wandb-col\"><h3>Run history:</h3><br/><table class=\"wandb\"><tr><td>chunk_overlap</td><td>▁</td></tr><tr><td>chunk_size</td><td>▁</td></tr><tr><td>mean_score</td><td>▁</td></tr><tr><td>temperature</td><td>▁</td></tr><tr><td>top_k</td><td>▁</td></tr></table><br/></div><div class=\"wandb-col\"><h3>Run summary:</h3><br/><table class=\"wandb\"><tr><td>chunk_overlap</td><td>50</td></tr><tr><td>chunk_size</td><td>200</td></tr><tr><td>mean_score</td><td>1</td></tr><tr><td>temperature</td><td>0.75377</td></tr><tr><td>top_k</td><td>3</td></tr></table><br/></div></div>"
      ],
      "text/plain": [
       "<IPython.core.display.HTML object>"
      ]
     },
     "metadata": {},
     "output_type": "display_data"
    },
    {
     "data": {
      "text/html": [
       " View run <strong style=\"color:#cdcd00\">clean-sweep-7</strong> at: <a href='https://wandb.ai/nilsusahin-middle-east-technical-university/rag_basic_experiment/runs/hw2ncpr2' target=\"_blank\">https://wandb.ai/nilsusahin-middle-east-technical-university/rag_basic_experiment/runs/hw2ncpr2</a><br> View project at: <a href='https://wandb.ai/nilsusahin-middle-east-technical-university/rag_basic_experiment' target=\"_blank\">https://wandb.ai/nilsusahin-middle-east-technical-university/rag_basic_experiment</a><br>Synced 5 W&B file(s), 0 media file(s), 0 artifact file(s) and 0 other file(s)"
      ],
      "text/plain": [
       "<IPython.core.display.HTML object>"
      ]
     },
     "metadata": {},
     "output_type": "display_data"
    },
    {
     "data": {
      "text/html": [
       "Find logs at: <code>.\\wandb\\run-20241217_193822-hw2ncpr2\\logs</code>"
      ],
      "text/plain": [
       "<IPython.core.display.HTML object>"
      ]
     },
     "metadata": {},
     "output_type": "display_data"
    },
    {
     "name": "stderr",
     "output_type": "stream",
     "text": [
      "\u001b[34m\u001b[1mwandb\u001b[0m: Agent Starting Run: wp29c9f0 with config:\n",
      "\u001b[34m\u001b[1mwandb\u001b[0m: \tchunk_overlap: 50\n",
      "\u001b[34m\u001b[1mwandb\u001b[0m: \tchunk_size: 200\n",
      "\u001b[34m\u001b[1mwandb\u001b[0m: \ttemperature: 0.9424424060979394\n",
      "\u001b[34m\u001b[1mwandb\u001b[0m: \ttop_k: 6\n"
     ]
    },
    {
     "data": {
      "text/html": [
       "Tracking run with wandb version 0.19.1"
      ],
      "text/plain": [
       "<IPython.core.display.HTML object>"
      ]
     },
     "metadata": {},
     "output_type": "display_data"
    },
    {
     "data": {
      "text/html": [
       "Run data is saved locally in <code>c:\\Users\\Nilsu.Sahin\\Desktop\\ns_trial\\RAG_Model\\wandb\\run-20241217_193848-wp29c9f0</code>"
      ],
      "text/plain": [
       "<IPython.core.display.HTML object>"
      ]
     },
     "metadata": {},
     "output_type": "display_data"
    },
    {
     "data": {
      "text/html": [
       "Syncing run <strong><a href='https://wandb.ai/nilsusahin-middle-east-technical-university/rag_basic_experiment/runs/wp29c9f0' target=\"_blank\">eager-sweep-8</a></strong> to <a href='https://wandb.ai/nilsusahin-middle-east-technical-university/rag_basic_experiment' target=\"_blank\">Weights & Biases</a> (<a href='https://wandb.me/developer-guide' target=\"_blank\">docs</a>)<br>Sweep page: <a href='https://wandb.ai/nilsusahin-middle-east-technical-university/rag_basic_experiment/sweeps/12zc357u' target=\"_blank\">https://wandb.ai/nilsusahin-middle-east-technical-university/rag_basic_experiment/sweeps/12zc357u</a>"
      ],
      "text/plain": [
       "<IPython.core.display.HTML object>"
      ]
     },
     "metadata": {},
     "output_type": "display_data"
    },
    {
     "data": {
      "text/html": [
       " View project at <a href='https://wandb.ai/nilsusahin-middle-east-technical-university/rag_basic_experiment' target=\"_blank\">https://wandb.ai/nilsusahin-middle-east-technical-university/rag_basic_experiment</a>"
      ],
      "text/plain": [
       "<IPython.core.display.HTML object>"
      ]
     },
     "metadata": {},
     "output_type": "display_data"
    },
    {
     "data": {
      "text/html": [
       " View sweep at <a href='https://wandb.ai/nilsusahin-middle-east-technical-university/rag_basic_experiment/sweeps/12zc357u' target=\"_blank\">https://wandb.ai/nilsusahin-middle-east-technical-university/rag_basic_experiment/sweeps/12zc357u</a>"
      ],
      "text/plain": [
       "<IPython.core.display.HTML object>"
      ]
     },
     "metadata": {},
     "output_type": "display_data"
    },
    {
     "data": {
      "text/html": [
       " View run at <a href='https://wandb.ai/nilsusahin-middle-east-technical-university/rag_basic_experiment/runs/wp29c9f0' target=\"_blank\">https://wandb.ai/nilsusahin-middle-east-technical-university/rag_basic_experiment/runs/wp29c9f0</a>"
      ],
      "text/plain": [
       "<IPython.core.display.HTML object>"
      ]
     },
     "metadata": {},
     "output_type": "display_data"
    },
    {
     "name": "stdout",
     "output_type": "stream",
     "text": [
      "The token has not been saved to the git credentials helper. Pass `add_to_git_credential=True` in this function directly or `--add-to-git-credential` if using via `huggingface-cli` if you want to set the git credential as well.\n",
      "Token is valid (permission: fineGrained).\n",
      "Your token has been saved to C:\\Users\\Nilsu.Sahin\\.cache\\huggingface\\token\n",
      "Login successful\n",
      "Mean Score: 1.0\n"
     ]
    },
    {
     "data": {
      "text/html": [],
      "text/plain": [
       "<IPython.core.display.HTML object>"
      ]
     },
     "metadata": {},
     "output_type": "display_data"
    },
    {
     "data": {
      "text/html": [
       "<br>    <style><br>        .wandb-row {<br>            display: flex;<br>            flex-direction: row;<br>            flex-wrap: wrap;<br>            justify-content: flex-start;<br>            width: 100%;<br>        }<br>        .wandb-col {<br>            display: flex;<br>            flex-direction: column;<br>            flex-basis: 100%;<br>            flex: 1;<br>            padding: 10px;<br>        }<br>    </style><br><div class=\"wandb-row\"><div class=\"wandb-col\"><h3>Run history:</h3><br/><table class=\"wandb\"><tr><td>chunk_overlap</td><td>▁</td></tr><tr><td>chunk_size</td><td>▁</td></tr><tr><td>mean_score</td><td>▁</td></tr><tr><td>temperature</td><td>▁</td></tr><tr><td>top_k</td><td>▁</td></tr></table><br/></div><div class=\"wandb-col\"><h3>Run summary:</h3><br/><table class=\"wandb\"><tr><td>chunk_overlap</td><td>50</td></tr><tr><td>chunk_size</td><td>200</td></tr><tr><td>mean_score</td><td>1</td></tr><tr><td>temperature</td><td>0.94244</td></tr><tr><td>top_k</td><td>6</td></tr></table><br/></div></div>"
      ],
      "text/plain": [
       "<IPython.core.display.HTML object>"
      ]
     },
     "metadata": {},
     "output_type": "display_data"
    },
    {
     "data": {
      "text/html": [
       " View run <strong style=\"color:#cdcd00\">eager-sweep-8</strong> at: <a href='https://wandb.ai/nilsusahin-middle-east-technical-university/rag_basic_experiment/runs/wp29c9f0' target=\"_blank\">https://wandb.ai/nilsusahin-middle-east-technical-university/rag_basic_experiment/runs/wp29c9f0</a><br> View project at: <a href='https://wandb.ai/nilsusahin-middle-east-technical-university/rag_basic_experiment' target=\"_blank\">https://wandb.ai/nilsusahin-middle-east-technical-university/rag_basic_experiment</a><br>Synced 5 W&B file(s), 0 media file(s), 0 artifact file(s) and 0 other file(s)"
      ],
      "text/plain": [
       "<IPython.core.display.HTML object>"
      ]
     },
     "metadata": {},
     "output_type": "display_data"
    },
    {
     "data": {
      "text/html": [
       "Find logs at: <code>.\\wandb\\run-20241217_193848-wp29c9f0\\logs</code>"
      ],
      "text/plain": [
       "<IPython.core.display.HTML object>"
      ]
     },
     "metadata": {},
     "output_type": "display_data"
    },
    {
     "name": "stderr",
     "output_type": "stream",
     "text": [
      "\u001b[34m\u001b[1mwandb\u001b[0m: Agent Starting Run: jw81znlk with config:\n",
      "\u001b[34m\u001b[1mwandb\u001b[0m: \tchunk_overlap: 0\n",
      "\u001b[34m\u001b[1mwandb\u001b[0m: \tchunk_size: 200\n",
      "\u001b[34m\u001b[1mwandb\u001b[0m: \ttemperature: 0.58175414295718\n",
      "\u001b[34m\u001b[1mwandb\u001b[0m: \ttop_k: 5\n"
     ]
    },
    {
     "data": {
      "text/html": [
       "Tracking run with wandb version 0.19.1"
      ],
      "text/plain": [
       "<IPython.core.display.HTML object>"
      ]
     },
     "metadata": {},
     "output_type": "display_data"
    },
    {
     "data": {
      "text/html": [
       "Run data is saved locally in <code>c:\\Users\\Nilsu.Sahin\\Desktop\\ns_trial\\RAG_Model\\wandb\\run-20241217_193925-jw81znlk</code>"
      ],
      "text/plain": [
       "<IPython.core.display.HTML object>"
      ]
     },
     "metadata": {},
     "output_type": "display_data"
    },
    {
     "data": {
      "text/html": [
       "Syncing run <strong><a href='https://wandb.ai/nilsusahin-middle-east-technical-university/rag_basic_experiment/runs/jw81znlk' target=\"_blank\">usual-sweep-9</a></strong> to <a href='https://wandb.ai/nilsusahin-middle-east-technical-university/rag_basic_experiment' target=\"_blank\">Weights & Biases</a> (<a href='https://wandb.me/developer-guide' target=\"_blank\">docs</a>)<br>Sweep page: <a href='https://wandb.ai/nilsusahin-middle-east-technical-university/rag_basic_experiment/sweeps/12zc357u' target=\"_blank\">https://wandb.ai/nilsusahin-middle-east-technical-university/rag_basic_experiment/sweeps/12zc357u</a>"
      ],
      "text/plain": [
       "<IPython.core.display.HTML object>"
      ]
     },
     "metadata": {},
     "output_type": "display_data"
    },
    {
     "data": {
      "text/html": [
       " View project at <a href='https://wandb.ai/nilsusahin-middle-east-technical-university/rag_basic_experiment' target=\"_blank\">https://wandb.ai/nilsusahin-middle-east-technical-university/rag_basic_experiment</a>"
      ],
      "text/plain": [
       "<IPython.core.display.HTML object>"
      ]
     },
     "metadata": {},
     "output_type": "display_data"
    },
    {
     "data": {
      "text/html": [
       " View sweep at <a href='https://wandb.ai/nilsusahin-middle-east-technical-university/rag_basic_experiment/sweeps/12zc357u' target=\"_blank\">https://wandb.ai/nilsusahin-middle-east-technical-university/rag_basic_experiment/sweeps/12zc357u</a>"
      ],
      "text/plain": [
       "<IPython.core.display.HTML object>"
      ]
     },
     "metadata": {},
     "output_type": "display_data"
    },
    {
     "data": {
      "text/html": [
       " View run at <a href='https://wandb.ai/nilsusahin-middle-east-technical-university/rag_basic_experiment/runs/jw81znlk' target=\"_blank\">https://wandb.ai/nilsusahin-middle-east-technical-university/rag_basic_experiment/runs/jw81znlk</a>"
      ],
      "text/plain": [
       "<IPython.core.display.HTML object>"
      ]
     },
     "metadata": {},
     "output_type": "display_data"
    },
    {
     "name": "stdout",
     "output_type": "stream",
     "text": [
      "The token has not been saved to the git credentials helper. Pass `add_to_git_credential=True` in this function directly or `--add-to-git-credential` if using via `huggingface-cli` if you want to set the git credential as well.\n",
      "Token is valid (permission: fineGrained).\n",
      "Your token has been saved to C:\\Users\\Nilsu.Sahin\\.cache\\huggingface\\token\n",
      "Login successful\n",
      "Mean Score: 1.0\n"
     ]
    },
    {
     "data": {
      "text/html": [],
      "text/plain": [
       "<IPython.core.display.HTML object>"
      ]
     },
     "metadata": {},
     "output_type": "display_data"
    },
    {
     "data": {
      "text/html": [
       "<br>    <style><br>        .wandb-row {<br>            display: flex;<br>            flex-direction: row;<br>            flex-wrap: wrap;<br>            justify-content: flex-start;<br>            width: 100%;<br>        }<br>        .wandb-col {<br>            display: flex;<br>            flex-direction: column;<br>            flex-basis: 100%;<br>            flex: 1;<br>            padding: 10px;<br>        }<br>    </style><br><div class=\"wandb-row\"><div class=\"wandb-col\"><h3>Run history:</h3><br/><table class=\"wandb\"><tr><td>chunk_overlap</td><td>▁</td></tr><tr><td>chunk_size</td><td>▁</td></tr><tr><td>mean_score</td><td>▁</td></tr><tr><td>temperature</td><td>▁</td></tr><tr><td>top_k</td><td>▁</td></tr></table><br/></div><div class=\"wandb-col\"><h3>Run summary:</h3><br/><table class=\"wandb\"><tr><td>chunk_overlap</td><td>0</td></tr><tr><td>chunk_size</td><td>200</td></tr><tr><td>mean_score</td><td>1</td></tr><tr><td>temperature</td><td>0.58175</td></tr><tr><td>top_k</td><td>5</td></tr></table><br/></div></div>"
      ],
      "text/plain": [
       "<IPython.core.display.HTML object>"
      ]
     },
     "metadata": {},
     "output_type": "display_data"
    },
    {
     "data": {
      "text/html": [
       " View run <strong style=\"color:#cdcd00\">usual-sweep-9</strong> at: <a href='https://wandb.ai/nilsusahin-middle-east-technical-university/rag_basic_experiment/runs/jw81znlk' target=\"_blank\">https://wandb.ai/nilsusahin-middle-east-technical-university/rag_basic_experiment/runs/jw81znlk</a><br> View project at: <a href='https://wandb.ai/nilsusahin-middle-east-technical-university/rag_basic_experiment' target=\"_blank\">https://wandb.ai/nilsusahin-middle-east-technical-university/rag_basic_experiment</a><br>Synced 5 W&B file(s), 0 media file(s), 0 artifact file(s) and 0 other file(s)"
      ],
      "text/plain": [
       "<IPython.core.display.HTML object>"
      ]
     },
     "metadata": {},
     "output_type": "display_data"
    },
    {
     "data": {
      "text/html": [
       "Find logs at: <code>.\\wandb\\run-20241217_193925-jw81znlk\\logs</code>"
      ],
      "text/plain": [
       "<IPython.core.display.HTML object>"
      ]
     },
     "metadata": {},
     "output_type": "display_data"
    },
    {
     "name": "stderr",
     "output_type": "stream",
     "text": [
      "\u001b[34m\u001b[1mwandb\u001b[0m: Agent Starting Run: f7el012u with config:\n",
      "\u001b[34m\u001b[1mwandb\u001b[0m: \tchunk_overlap: 50\n",
      "\u001b[34m\u001b[1mwandb\u001b[0m: \tchunk_size: 100\n",
      "\u001b[34m\u001b[1mwandb\u001b[0m: \ttemperature: 0.1951518192631262\n",
      "\u001b[34m\u001b[1mwandb\u001b[0m: \ttop_k: 2\n"
     ]
    },
    {
     "data": {
      "text/html": [
       "Tracking run with wandb version 0.19.1"
      ],
      "text/plain": [
       "<IPython.core.display.HTML object>"
      ]
     },
     "metadata": {},
     "output_type": "display_data"
    },
    {
     "data": {
      "text/html": [
       "Run data is saved locally in <code>c:\\Users\\Nilsu.Sahin\\Desktop\\ns_trial\\RAG_Model\\wandb\\run-20241217_193947-f7el012u</code>"
      ],
      "text/plain": [
       "<IPython.core.display.HTML object>"
      ]
     },
     "metadata": {},
     "output_type": "display_data"
    },
    {
     "data": {
      "text/html": [
       "Syncing run <strong><a href='https://wandb.ai/nilsusahin-middle-east-technical-university/rag_basic_experiment/runs/f7el012u' target=\"_blank\">leafy-sweep-10</a></strong> to <a href='https://wandb.ai/nilsusahin-middle-east-technical-university/rag_basic_experiment' target=\"_blank\">Weights & Biases</a> (<a href='https://wandb.me/developer-guide' target=\"_blank\">docs</a>)<br>Sweep page: <a href='https://wandb.ai/nilsusahin-middle-east-technical-university/rag_basic_experiment/sweeps/12zc357u' target=\"_blank\">https://wandb.ai/nilsusahin-middle-east-technical-university/rag_basic_experiment/sweeps/12zc357u</a>"
      ],
      "text/plain": [
       "<IPython.core.display.HTML object>"
      ]
     },
     "metadata": {},
     "output_type": "display_data"
    },
    {
     "data": {
      "text/html": [
       " View project at <a href='https://wandb.ai/nilsusahin-middle-east-technical-university/rag_basic_experiment' target=\"_blank\">https://wandb.ai/nilsusahin-middle-east-technical-university/rag_basic_experiment</a>"
      ],
      "text/plain": [
       "<IPython.core.display.HTML object>"
      ]
     },
     "metadata": {},
     "output_type": "display_data"
    },
    {
     "data": {
      "text/html": [
       " View sweep at <a href='https://wandb.ai/nilsusahin-middle-east-technical-university/rag_basic_experiment/sweeps/12zc357u' target=\"_blank\">https://wandb.ai/nilsusahin-middle-east-technical-university/rag_basic_experiment/sweeps/12zc357u</a>"
      ],
      "text/plain": [
       "<IPython.core.display.HTML object>"
      ]
     },
     "metadata": {},
     "output_type": "display_data"
    },
    {
     "data": {
      "text/html": [
       " View run at <a href='https://wandb.ai/nilsusahin-middle-east-technical-university/rag_basic_experiment/runs/f7el012u' target=\"_blank\">https://wandb.ai/nilsusahin-middle-east-technical-university/rag_basic_experiment/runs/f7el012u</a>"
      ],
      "text/plain": [
       "<IPython.core.display.HTML object>"
      ]
     },
     "metadata": {},
     "output_type": "display_data"
    },
    {
     "name": "stdout",
     "output_type": "stream",
     "text": [
      "The token has not been saved to the git credentials helper. Pass `add_to_git_credential=True` in this function directly or `--add-to-git-credential` if using via `huggingface-cli` if you want to set the git credential as well.\n",
      "Token is valid (permission: fineGrained).\n",
      "Your token has been saved to C:\\Users\\Nilsu.Sahin\\.cache\\huggingface\\token\n",
      "Login successful\n",
      "Mean Score: 1.0\n"
     ]
    },
    {
     "data": {
      "text/html": [],
      "text/plain": [
       "<IPython.core.display.HTML object>"
      ]
     },
     "metadata": {},
     "output_type": "display_data"
    },
    {
     "data": {
      "text/html": [
       "<br>    <style><br>        .wandb-row {<br>            display: flex;<br>            flex-direction: row;<br>            flex-wrap: wrap;<br>            justify-content: flex-start;<br>            width: 100%;<br>        }<br>        .wandb-col {<br>            display: flex;<br>            flex-direction: column;<br>            flex-basis: 100%;<br>            flex: 1;<br>            padding: 10px;<br>        }<br>    </style><br><div class=\"wandb-row\"><div class=\"wandb-col\"><h3>Run history:</h3><br/><table class=\"wandb\"><tr><td>chunk_overlap</td><td>▁</td></tr><tr><td>chunk_size</td><td>▁</td></tr><tr><td>mean_score</td><td>▁</td></tr><tr><td>temperature</td><td>▁</td></tr><tr><td>top_k</td><td>▁</td></tr></table><br/></div><div class=\"wandb-col\"><h3>Run summary:</h3><br/><table class=\"wandb\"><tr><td>chunk_overlap</td><td>50</td></tr><tr><td>chunk_size</td><td>100</td></tr><tr><td>mean_score</td><td>1</td></tr><tr><td>temperature</td><td>0.19515</td></tr><tr><td>top_k</td><td>2</td></tr></table><br/></div></div>"
      ],
      "text/plain": [
       "<IPython.core.display.HTML object>"
      ]
     },
     "metadata": {},
     "output_type": "display_data"
    },
    {
     "data": {
      "text/html": [
       " View run <strong style=\"color:#cdcd00\">leafy-sweep-10</strong> at: <a href='https://wandb.ai/nilsusahin-middle-east-technical-university/rag_basic_experiment/runs/f7el012u' target=\"_blank\">https://wandb.ai/nilsusahin-middle-east-technical-university/rag_basic_experiment/runs/f7el012u</a><br> View project at: <a href='https://wandb.ai/nilsusahin-middle-east-technical-university/rag_basic_experiment' target=\"_blank\">https://wandb.ai/nilsusahin-middle-east-technical-university/rag_basic_experiment</a><br>Synced 5 W&B file(s), 0 media file(s), 0 artifact file(s) and 0 other file(s)"
      ],
      "text/plain": [
       "<IPython.core.display.HTML object>"
      ]
     },
     "metadata": {},
     "output_type": "display_data"
    },
    {
     "data": {
      "text/html": [
       "Find logs at: <code>.\\wandb\\run-20241217_193947-f7el012u\\logs</code>"
      ],
      "text/plain": [
       "<IPython.core.display.HTML object>"
      ]
     },
     "metadata": {},
     "output_type": "display_data"
    },
    {
     "name": "stderr",
     "output_type": "stream",
     "text": [
      "\u001b[34m\u001b[1mwandb\u001b[0m: Sweep Agent: Waiting for job.\n",
      "\u001b[34m\u001b[1mwandb\u001b[0m: Job received.\n",
      "\u001b[34m\u001b[1mwandb\u001b[0m: Agent Starting Run: 9zaknpk1 with config:\n",
      "\u001b[34m\u001b[1mwandb\u001b[0m: \tchunk_overlap: 0\n",
      "\u001b[34m\u001b[1mwandb\u001b[0m: \tchunk_size: 100\n",
      "\u001b[34m\u001b[1mwandb\u001b[0m: \ttemperature: 0.5033620083361554\n",
      "\u001b[34m\u001b[1mwandb\u001b[0m: \ttop_k: 3\n"
     ]
    },
    {
     "data": {
      "text/html": [
       "Tracking run with wandb version 0.19.1"
      ],
      "text/plain": [
       "<IPython.core.display.HTML object>"
      ]
     },
     "metadata": {},
     "output_type": "display_data"
    },
    {
     "data": {
      "text/html": [
       "Run data is saved locally in <code>c:\\Users\\Nilsu.Sahin\\Desktop\\ns_trial\\RAG_Model\\wandb\\run-20241217_194018-9zaknpk1</code>"
      ],
      "text/plain": [
       "<IPython.core.display.HTML object>"
      ]
     },
     "metadata": {},
     "output_type": "display_data"
    },
    {
     "data": {
      "text/html": [
       "Syncing run <strong><a href='https://wandb.ai/nilsusahin-middle-east-technical-university/rag_basic_experiment/runs/9zaknpk1' target=\"_blank\">stoic-sweep-11</a></strong> to <a href='https://wandb.ai/nilsusahin-middle-east-technical-university/rag_basic_experiment' target=\"_blank\">Weights & Biases</a> (<a href='https://wandb.me/developer-guide' target=\"_blank\">docs</a>)<br>Sweep page: <a href='https://wandb.ai/nilsusahin-middle-east-technical-university/rag_basic_experiment/sweeps/12zc357u' target=\"_blank\">https://wandb.ai/nilsusahin-middle-east-technical-university/rag_basic_experiment/sweeps/12zc357u</a>"
      ],
      "text/plain": [
       "<IPython.core.display.HTML object>"
      ]
     },
     "metadata": {},
     "output_type": "display_data"
    },
    {
     "data": {
      "text/html": [
       " View project at <a href='https://wandb.ai/nilsusahin-middle-east-technical-university/rag_basic_experiment' target=\"_blank\">https://wandb.ai/nilsusahin-middle-east-technical-university/rag_basic_experiment</a>"
      ],
      "text/plain": [
       "<IPython.core.display.HTML object>"
      ]
     },
     "metadata": {},
     "output_type": "display_data"
    },
    {
     "data": {
      "text/html": [
       " View sweep at <a href='https://wandb.ai/nilsusahin-middle-east-technical-university/rag_basic_experiment/sweeps/12zc357u' target=\"_blank\">https://wandb.ai/nilsusahin-middle-east-technical-university/rag_basic_experiment/sweeps/12zc357u</a>"
      ],
      "text/plain": [
       "<IPython.core.display.HTML object>"
      ]
     },
     "metadata": {},
     "output_type": "display_data"
    },
    {
     "data": {
      "text/html": [
       " View run at <a href='https://wandb.ai/nilsusahin-middle-east-technical-university/rag_basic_experiment/runs/9zaknpk1' target=\"_blank\">https://wandb.ai/nilsusahin-middle-east-technical-university/rag_basic_experiment/runs/9zaknpk1</a>"
      ],
      "text/plain": [
       "<IPython.core.display.HTML object>"
      ]
     },
     "metadata": {},
     "output_type": "display_data"
    },
    {
     "name": "stdout",
     "output_type": "stream",
     "text": [
      "The token has not been saved to the git credentials helper. Pass `add_to_git_credential=True` in this function directly or `--add-to-git-credential` if using via `huggingface-cli` if you want to set the git credential as well.\n",
      "Token is valid (permission: fineGrained).\n",
      "Your token has been saved to C:\\Users\\Nilsu.Sahin\\.cache\\huggingface\\token\n",
      "Login successful\n",
      "Mean Score: 1.0\n"
     ]
    },
    {
     "data": {
      "text/html": [],
      "text/plain": [
       "<IPython.core.display.HTML object>"
      ]
     },
     "metadata": {},
     "output_type": "display_data"
    },
    {
     "data": {
      "text/html": [
       "<br>    <style><br>        .wandb-row {<br>            display: flex;<br>            flex-direction: row;<br>            flex-wrap: wrap;<br>            justify-content: flex-start;<br>            width: 100%;<br>        }<br>        .wandb-col {<br>            display: flex;<br>            flex-direction: column;<br>            flex-basis: 100%;<br>            flex: 1;<br>            padding: 10px;<br>        }<br>    </style><br><div class=\"wandb-row\"><div class=\"wandb-col\"><h3>Run history:</h3><br/><table class=\"wandb\"><tr><td>chunk_overlap</td><td>▁</td></tr><tr><td>chunk_size</td><td>▁</td></tr><tr><td>mean_score</td><td>▁</td></tr><tr><td>temperature</td><td>▁</td></tr><tr><td>top_k</td><td>▁</td></tr></table><br/></div><div class=\"wandb-col\"><h3>Run summary:</h3><br/><table class=\"wandb\"><tr><td>chunk_overlap</td><td>0</td></tr><tr><td>chunk_size</td><td>100</td></tr><tr><td>mean_score</td><td>1</td></tr><tr><td>temperature</td><td>0.50336</td></tr><tr><td>top_k</td><td>3</td></tr></table><br/></div></div>"
      ],
      "text/plain": [
       "<IPython.core.display.HTML object>"
      ]
     },
     "metadata": {},
     "output_type": "display_data"
    },
    {
     "data": {
      "text/html": [
       " View run <strong style=\"color:#cdcd00\">stoic-sweep-11</strong> at: <a href='https://wandb.ai/nilsusahin-middle-east-technical-university/rag_basic_experiment/runs/9zaknpk1' target=\"_blank\">https://wandb.ai/nilsusahin-middle-east-technical-university/rag_basic_experiment/runs/9zaknpk1</a><br> View project at: <a href='https://wandb.ai/nilsusahin-middle-east-technical-university/rag_basic_experiment' target=\"_blank\">https://wandb.ai/nilsusahin-middle-east-technical-university/rag_basic_experiment</a><br>Synced 5 W&B file(s), 0 media file(s), 0 artifact file(s) and 0 other file(s)"
      ],
      "text/plain": [
       "<IPython.core.display.HTML object>"
      ]
     },
     "metadata": {},
     "output_type": "display_data"
    },
    {
     "data": {
      "text/html": [
       "Find logs at: <code>.\\wandb\\run-20241217_194018-9zaknpk1\\logs</code>"
      ],
      "text/plain": [
       "<IPython.core.display.HTML object>"
      ]
     },
     "metadata": {},
     "output_type": "display_data"
    },
    {
     "name": "stderr",
     "output_type": "stream",
     "text": [
      "\u001b[34m\u001b[1mwandb\u001b[0m: Agent Starting Run: 5m4tzor1 with config:\n",
      "\u001b[34m\u001b[1mwandb\u001b[0m: \tchunk_overlap: 50\n",
      "\u001b[34m\u001b[1mwandb\u001b[0m: \tchunk_size: 200\n",
      "\u001b[34m\u001b[1mwandb\u001b[0m: \ttemperature: 0.19609152274208225\n",
      "\u001b[34m\u001b[1mwandb\u001b[0m: \ttop_k: 4\n"
     ]
    },
    {
     "data": {
      "text/html": [
       "Tracking run with wandb version 0.19.1"
      ],
      "text/plain": [
       "<IPython.core.display.HTML object>"
      ]
     },
     "metadata": {},
     "output_type": "display_data"
    },
    {
     "data": {
      "text/html": [
       "Run data is saved locally in <code>c:\\Users\\Nilsu.Sahin\\Desktop\\ns_trial\\RAG_Model\\wandb\\run-20241217_194045-5m4tzor1</code>"
      ],
      "text/plain": [
       "<IPython.core.display.HTML object>"
      ]
     },
     "metadata": {},
     "output_type": "display_data"
    },
    {
     "data": {
      "text/html": [
       "Syncing run <strong><a href='https://wandb.ai/nilsusahin-middle-east-technical-university/rag_basic_experiment/runs/5m4tzor1' target=\"_blank\">gallant-sweep-12</a></strong> to <a href='https://wandb.ai/nilsusahin-middle-east-technical-university/rag_basic_experiment' target=\"_blank\">Weights & Biases</a> (<a href='https://wandb.me/developer-guide' target=\"_blank\">docs</a>)<br>Sweep page: <a href='https://wandb.ai/nilsusahin-middle-east-technical-university/rag_basic_experiment/sweeps/12zc357u' target=\"_blank\">https://wandb.ai/nilsusahin-middle-east-technical-university/rag_basic_experiment/sweeps/12zc357u</a>"
      ],
      "text/plain": [
       "<IPython.core.display.HTML object>"
      ]
     },
     "metadata": {},
     "output_type": "display_data"
    },
    {
     "data": {
      "text/html": [
       " View project at <a href='https://wandb.ai/nilsusahin-middle-east-technical-university/rag_basic_experiment' target=\"_blank\">https://wandb.ai/nilsusahin-middle-east-technical-university/rag_basic_experiment</a>"
      ],
      "text/plain": [
       "<IPython.core.display.HTML object>"
      ]
     },
     "metadata": {},
     "output_type": "display_data"
    },
    {
     "data": {
      "text/html": [
       " View sweep at <a href='https://wandb.ai/nilsusahin-middle-east-technical-university/rag_basic_experiment/sweeps/12zc357u' target=\"_blank\">https://wandb.ai/nilsusahin-middle-east-technical-university/rag_basic_experiment/sweeps/12zc357u</a>"
      ],
      "text/plain": [
       "<IPython.core.display.HTML object>"
      ]
     },
     "metadata": {},
     "output_type": "display_data"
    },
    {
     "data": {
      "text/html": [
       " View run at <a href='https://wandb.ai/nilsusahin-middle-east-technical-university/rag_basic_experiment/runs/5m4tzor1' target=\"_blank\">https://wandb.ai/nilsusahin-middle-east-technical-university/rag_basic_experiment/runs/5m4tzor1</a>"
      ],
      "text/plain": [
       "<IPython.core.display.HTML object>"
      ]
     },
     "metadata": {},
     "output_type": "display_data"
    },
    {
     "name": "stdout",
     "output_type": "stream",
     "text": [
      "The token has not been saved to the git credentials helper. Pass `add_to_git_credential=True` in this function directly or `--add-to-git-credential` if using via `huggingface-cli` if you want to set the git credential as well.\n",
      "Token is valid (permission: fineGrained).\n",
      "Your token has been saved to C:\\Users\\Nilsu.Sahin\\.cache\\huggingface\\token\n",
      "Login successful\n",
      "Mean Score: 1.0\n"
     ]
    },
    {
     "data": {
      "text/html": [],
      "text/plain": [
       "<IPython.core.display.HTML object>"
      ]
     },
     "metadata": {},
     "output_type": "display_data"
    },
    {
     "data": {
      "text/html": [
       "<br>    <style><br>        .wandb-row {<br>            display: flex;<br>            flex-direction: row;<br>            flex-wrap: wrap;<br>            justify-content: flex-start;<br>            width: 100%;<br>        }<br>        .wandb-col {<br>            display: flex;<br>            flex-direction: column;<br>            flex-basis: 100%;<br>            flex: 1;<br>            padding: 10px;<br>        }<br>    </style><br><div class=\"wandb-row\"><div class=\"wandb-col\"><h3>Run history:</h3><br/><table class=\"wandb\"><tr><td>chunk_overlap</td><td>▁</td></tr><tr><td>chunk_size</td><td>▁</td></tr><tr><td>mean_score</td><td>▁</td></tr><tr><td>temperature</td><td>▁</td></tr><tr><td>top_k</td><td>▁</td></tr></table><br/></div><div class=\"wandb-col\"><h3>Run summary:</h3><br/><table class=\"wandb\"><tr><td>chunk_overlap</td><td>50</td></tr><tr><td>chunk_size</td><td>200</td></tr><tr><td>mean_score</td><td>1</td></tr><tr><td>temperature</td><td>0.19609</td></tr><tr><td>top_k</td><td>4</td></tr></table><br/></div></div>"
      ],
      "text/plain": [
       "<IPython.core.display.HTML object>"
      ]
     },
     "metadata": {},
     "output_type": "display_data"
    },
    {
     "data": {
      "text/html": [
       " View run <strong style=\"color:#cdcd00\">gallant-sweep-12</strong> at: <a href='https://wandb.ai/nilsusahin-middle-east-technical-university/rag_basic_experiment/runs/5m4tzor1' target=\"_blank\">https://wandb.ai/nilsusahin-middle-east-technical-university/rag_basic_experiment/runs/5m4tzor1</a><br> View project at: <a href='https://wandb.ai/nilsusahin-middle-east-technical-university/rag_basic_experiment' target=\"_blank\">https://wandb.ai/nilsusahin-middle-east-technical-university/rag_basic_experiment</a><br>Synced 5 W&B file(s), 0 media file(s), 0 artifact file(s) and 0 other file(s)"
      ],
      "text/plain": [
       "<IPython.core.display.HTML object>"
      ]
     },
     "metadata": {},
     "output_type": "display_data"
    },
    {
     "data": {
      "text/html": [
       "Find logs at: <code>.\\wandb\\run-20241217_194045-5m4tzor1\\logs</code>"
      ],
      "text/plain": [
       "<IPython.core.display.HTML object>"
      ]
     },
     "metadata": {},
     "output_type": "display_data"
    },
    {
     "name": "stderr",
     "output_type": "stream",
     "text": [
      "\u001b[34m\u001b[1mwandb\u001b[0m: Agent Starting Run: jid1cgoj with config:\n",
      "\u001b[34m\u001b[1mwandb\u001b[0m: \tchunk_overlap: 0\n",
      "\u001b[34m\u001b[1mwandb\u001b[0m: \tchunk_size: 200\n",
      "\u001b[34m\u001b[1mwandb\u001b[0m: \ttemperature: 0.39783129091544833\n",
      "\u001b[34m\u001b[1mwandb\u001b[0m: \ttop_k: 8\n"
     ]
    },
    {
     "data": {
      "text/html": [
       "Tracking run with wandb version 0.19.1"
      ],
      "text/plain": [
       "<IPython.core.display.HTML object>"
      ]
     },
     "metadata": {},
     "output_type": "display_data"
    },
    {
     "data": {
      "text/html": [
       "Run data is saved locally in <code>c:\\Users\\Nilsu.Sahin\\Desktop\\ns_trial\\RAG_Model\\wandb\\run-20241217_194106-jid1cgoj</code>"
      ],
      "text/plain": [
       "<IPython.core.display.HTML object>"
      ]
     },
     "metadata": {},
     "output_type": "display_data"
    },
    {
     "data": {
      "text/html": [
       "Syncing run <strong><a href='https://wandb.ai/nilsusahin-middle-east-technical-university/rag_basic_experiment/runs/jid1cgoj' target=\"_blank\">graceful-sweep-13</a></strong> to <a href='https://wandb.ai/nilsusahin-middle-east-technical-university/rag_basic_experiment' target=\"_blank\">Weights & Biases</a> (<a href='https://wandb.me/developer-guide' target=\"_blank\">docs</a>)<br>Sweep page: <a href='https://wandb.ai/nilsusahin-middle-east-technical-university/rag_basic_experiment/sweeps/12zc357u' target=\"_blank\">https://wandb.ai/nilsusahin-middle-east-technical-university/rag_basic_experiment/sweeps/12zc357u</a>"
      ],
      "text/plain": [
       "<IPython.core.display.HTML object>"
      ]
     },
     "metadata": {},
     "output_type": "display_data"
    },
    {
     "data": {
      "text/html": [
       " View project at <a href='https://wandb.ai/nilsusahin-middle-east-technical-university/rag_basic_experiment' target=\"_blank\">https://wandb.ai/nilsusahin-middle-east-technical-university/rag_basic_experiment</a>"
      ],
      "text/plain": [
       "<IPython.core.display.HTML object>"
      ]
     },
     "metadata": {},
     "output_type": "display_data"
    },
    {
     "data": {
      "text/html": [
       " View sweep at <a href='https://wandb.ai/nilsusahin-middle-east-technical-university/rag_basic_experiment/sweeps/12zc357u' target=\"_blank\">https://wandb.ai/nilsusahin-middle-east-technical-university/rag_basic_experiment/sweeps/12zc357u</a>"
      ],
      "text/plain": [
       "<IPython.core.display.HTML object>"
      ]
     },
     "metadata": {},
     "output_type": "display_data"
    },
    {
     "data": {
      "text/html": [
       " View run at <a href='https://wandb.ai/nilsusahin-middle-east-technical-university/rag_basic_experiment/runs/jid1cgoj' target=\"_blank\">https://wandb.ai/nilsusahin-middle-east-technical-university/rag_basic_experiment/runs/jid1cgoj</a>"
      ],
      "text/plain": [
       "<IPython.core.display.HTML object>"
      ]
     },
     "metadata": {},
     "output_type": "display_data"
    },
    {
     "name": "stdout",
     "output_type": "stream",
     "text": [
      "The token has not been saved to the git credentials helper. Pass `add_to_git_credential=True` in this function directly or `--add-to-git-credential` if using via `huggingface-cli` if you want to set the git credential as well.\n",
      "Token is valid (permission: fineGrained).\n",
      "Your token has been saved to C:\\Users\\Nilsu.Sahin\\.cache\\huggingface\\token\n",
      "Login successful\n",
      "Mean Score: 0.75\n"
     ]
    },
    {
     "data": {
      "text/html": [],
      "text/plain": [
       "<IPython.core.display.HTML object>"
      ]
     },
     "metadata": {},
     "output_type": "display_data"
    },
    {
     "data": {
      "text/html": [
       "<br>    <style><br>        .wandb-row {<br>            display: flex;<br>            flex-direction: row;<br>            flex-wrap: wrap;<br>            justify-content: flex-start;<br>            width: 100%;<br>        }<br>        .wandb-col {<br>            display: flex;<br>            flex-direction: column;<br>            flex-basis: 100%;<br>            flex: 1;<br>            padding: 10px;<br>        }<br>    </style><br><div class=\"wandb-row\"><div class=\"wandb-col\"><h3>Run history:</h3><br/><table class=\"wandb\"><tr><td>chunk_overlap</td><td>▁</td></tr><tr><td>chunk_size</td><td>▁</td></tr><tr><td>mean_score</td><td>▁</td></tr><tr><td>temperature</td><td>▁</td></tr><tr><td>top_k</td><td>▁</td></tr></table><br/></div><div class=\"wandb-col\"><h3>Run summary:</h3><br/><table class=\"wandb\"><tr><td>chunk_overlap</td><td>0</td></tr><tr><td>chunk_size</td><td>200</td></tr><tr><td>mean_score</td><td>0.75</td></tr><tr><td>temperature</td><td>0.39783</td></tr><tr><td>top_k</td><td>8</td></tr></table><br/></div></div>"
      ],
      "text/plain": [
       "<IPython.core.display.HTML object>"
      ]
     },
     "metadata": {},
     "output_type": "display_data"
    },
    {
     "data": {
      "text/html": [
       " View run <strong style=\"color:#cdcd00\">graceful-sweep-13</strong> at: <a href='https://wandb.ai/nilsusahin-middle-east-technical-university/rag_basic_experiment/runs/jid1cgoj' target=\"_blank\">https://wandb.ai/nilsusahin-middle-east-technical-university/rag_basic_experiment/runs/jid1cgoj</a><br> View project at: <a href='https://wandb.ai/nilsusahin-middle-east-technical-university/rag_basic_experiment' target=\"_blank\">https://wandb.ai/nilsusahin-middle-east-technical-university/rag_basic_experiment</a><br>Synced 5 W&B file(s), 0 media file(s), 0 artifact file(s) and 0 other file(s)"
      ],
      "text/plain": [
       "<IPython.core.display.HTML object>"
      ]
     },
     "metadata": {},
     "output_type": "display_data"
    },
    {
     "data": {
      "text/html": [
       "Find logs at: <code>.\\wandb\\run-20241217_194106-jid1cgoj\\logs</code>"
      ],
      "text/plain": [
       "<IPython.core.display.HTML object>"
      ]
     },
     "metadata": {},
     "output_type": "display_data"
    },
    {
     "name": "stderr",
     "output_type": "stream",
     "text": [
      "\u001b[34m\u001b[1mwandb\u001b[0m: Agent Starting Run: baxnbgpv with config:\n",
      "\u001b[34m\u001b[1mwandb\u001b[0m: \tchunk_overlap: 50\n",
      "\u001b[34m\u001b[1mwandb\u001b[0m: \tchunk_size: 100\n",
      "\u001b[34m\u001b[1mwandb\u001b[0m: \ttemperature: 0.5031222343873321\n",
      "\u001b[34m\u001b[1mwandb\u001b[0m: \ttop_k: 8\n"
     ]
    },
    {
     "data": {
      "text/html": [
       "Tracking run with wandb version 0.19.1"
      ],
      "text/plain": [
       "<IPython.core.display.HTML object>"
      ]
     },
     "metadata": {},
     "output_type": "display_data"
    },
    {
     "data": {
      "text/html": [
       "Run data is saved locally in <code>c:\\Users\\Nilsu.Sahin\\Desktop\\ns_trial\\RAG_Model\\wandb\\run-20241217_194132-baxnbgpv</code>"
      ],
      "text/plain": [
       "<IPython.core.display.HTML object>"
      ]
     },
     "metadata": {},
     "output_type": "display_data"
    },
    {
     "data": {
      "text/html": [
       "Syncing run <strong><a href='https://wandb.ai/nilsusahin-middle-east-technical-university/rag_basic_experiment/runs/baxnbgpv' target=\"_blank\">crimson-sweep-14</a></strong> to <a href='https://wandb.ai/nilsusahin-middle-east-technical-university/rag_basic_experiment' target=\"_blank\">Weights & Biases</a> (<a href='https://wandb.me/developer-guide' target=\"_blank\">docs</a>)<br>Sweep page: <a href='https://wandb.ai/nilsusahin-middle-east-technical-university/rag_basic_experiment/sweeps/12zc357u' target=\"_blank\">https://wandb.ai/nilsusahin-middle-east-technical-university/rag_basic_experiment/sweeps/12zc357u</a>"
      ],
      "text/plain": [
       "<IPython.core.display.HTML object>"
      ]
     },
     "metadata": {},
     "output_type": "display_data"
    },
    {
     "data": {
      "text/html": [
       " View project at <a href='https://wandb.ai/nilsusahin-middle-east-technical-university/rag_basic_experiment' target=\"_blank\">https://wandb.ai/nilsusahin-middle-east-technical-university/rag_basic_experiment</a>"
      ],
      "text/plain": [
       "<IPython.core.display.HTML object>"
      ]
     },
     "metadata": {},
     "output_type": "display_data"
    },
    {
     "data": {
      "text/html": [
       " View sweep at <a href='https://wandb.ai/nilsusahin-middle-east-technical-university/rag_basic_experiment/sweeps/12zc357u' target=\"_blank\">https://wandb.ai/nilsusahin-middle-east-technical-university/rag_basic_experiment/sweeps/12zc357u</a>"
      ],
      "text/plain": [
       "<IPython.core.display.HTML object>"
      ]
     },
     "metadata": {},
     "output_type": "display_data"
    },
    {
     "data": {
      "text/html": [
       " View run at <a href='https://wandb.ai/nilsusahin-middle-east-technical-university/rag_basic_experiment/runs/baxnbgpv' target=\"_blank\">https://wandb.ai/nilsusahin-middle-east-technical-university/rag_basic_experiment/runs/baxnbgpv</a>"
      ],
      "text/plain": [
       "<IPython.core.display.HTML object>"
      ]
     },
     "metadata": {},
     "output_type": "display_data"
    },
    {
     "name": "stdout",
     "output_type": "stream",
     "text": [
      "The token has not been saved to the git credentials helper. Pass `add_to_git_credential=True` in this function directly or `--add-to-git-credential` if using via `huggingface-cli` if you want to set the git credential as well.\n",
      "Token is valid (permission: fineGrained).\n",
      "Your token has been saved to C:\\Users\\Nilsu.Sahin\\.cache\\huggingface\\token\n",
      "Login successful\n",
      "Mean Score: 0.75\n"
     ]
    },
    {
     "data": {
      "text/html": [],
      "text/plain": [
       "<IPython.core.display.HTML object>"
      ]
     },
     "metadata": {},
     "output_type": "display_data"
    },
    {
     "data": {
      "text/html": [
       "<br>    <style><br>        .wandb-row {<br>            display: flex;<br>            flex-direction: row;<br>            flex-wrap: wrap;<br>            justify-content: flex-start;<br>            width: 100%;<br>        }<br>        .wandb-col {<br>            display: flex;<br>            flex-direction: column;<br>            flex-basis: 100%;<br>            flex: 1;<br>            padding: 10px;<br>        }<br>    </style><br><div class=\"wandb-row\"><div class=\"wandb-col\"><h3>Run history:</h3><br/><table class=\"wandb\"><tr><td>chunk_overlap</td><td>▁</td></tr><tr><td>chunk_size</td><td>▁</td></tr><tr><td>mean_score</td><td>▁</td></tr><tr><td>temperature</td><td>▁</td></tr><tr><td>top_k</td><td>▁</td></tr></table><br/></div><div class=\"wandb-col\"><h3>Run summary:</h3><br/><table class=\"wandb\"><tr><td>chunk_overlap</td><td>50</td></tr><tr><td>chunk_size</td><td>100</td></tr><tr><td>mean_score</td><td>0.75</td></tr><tr><td>temperature</td><td>0.50312</td></tr><tr><td>top_k</td><td>8</td></tr></table><br/></div></div>"
      ],
      "text/plain": [
       "<IPython.core.display.HTML object>"
      ]
     },
     "metadata": {},
     "output_type": "display_data"
    },
    {
     "data": {
      "text/html": [
       " View run <strong style=\"color:#cdcd00\">crimson-sweep-14</strong> at: <a href='https://wandb.ai/nilsusahin-middle-east-technical-university/rag_basic_experiment/runs/baxnbgpv' target=\"_blank\">https://wandb.ai/nilsusahin-middle-east-technical-university/rag_basic_experiment/runs/baxnbgpv</a><br> View project at: <a href='https://wandb.ai/nilsusahin-middle-east-technical-university/rag_basic_experiment' target=\"_blank\">https://wandb.ai/nilsusahin-middle-east-technical-university/rag_basic_experiment</a><br>Synced 5 W&B file(s), 0 media file(s), 0 artifact file(s) and 0 other file(s)"
      ],
      "text/plain": [
       "<IPython.core.display.HTML object>"
      ]
     },
     "metadata": {},
     "output_type": "display_data"
    },
    {
     "data": {
      "text/html": [
       "Find logs at: <code>.\\wandb\\run-20241217_194132-baxnbgpv\\logs</code>"
      ],
      "text/plain": [
       "<IPython.core.display.HTML object>"
      ]
     },
     "metadata": {},
     "output_type": "display_data"
    },
    {
     "name": "stderr",
     "output_type": "stream",
     "text": [
      "\u001b[34m\u001b[1mwandb\u001b[0m: Agent Starting Run: 92tountx with config:\n",
      "\u001b[34m\u001b[1mwandb\u001b[0m: \tchunk_overlap: 50\n",
      "\u001b[34m\u001b[1mwandb\u001b[0m: \tchunk_size: 100\n",
      "\u001b[34m\u001b[1mwandb\u001b[0m: \ttemperature: 0.26004933041311706\n",
      "\u001b[34m\u001b[1mwandb\u001b[0m: \ttop_k: 1\n"
     ]
    },
    {
     "data": {
      "text/html": [
       "Tracking run with wandb version 0.19.1"
      ],
      "text/plain": [
       "<IPython.core.display.HTML object>"
      ]
     },
     "metadata": {},
     "output_type": "display_data"
    },
    {
     "data": {
      "text/html": [
       "Run data is saved locally in <code>c:\\Users\\Nilsu.Sahin\\Desktop\\ns_trial\\RAG_Model\\wandb\\run-20241217_194159-92tountx</code>"
      ],
      "text/plain": [
       "<IPython.core.display.HTML object>"
      ]
     },
     "metadata": {},
     "output_type": "display_data"
    },
    {
     "data": {
      "text/html": [
       "Syncing run <strong><a href='https://wandb.ai/nilsusahin-middle-east-technical-university/rag_basic_experiment/runs/92tountx' target=\"_blank\">magic-sweep-15</a></strong> to <a href='https://wandb.ai/nilsusahin-middle-east-technical-university/rag_basic_experiment' target=\"_blank\">Weights & Biases</a> (<a href='https://wandb.me/developer-guide' target=\"_blank\">docs</a>)<br>Sweep page: <a href='https://wandb.ai/nilsusahin-middle-east-technical-university/rag_basic_experiment/sweeps/12zc357u' target=\"_blank\">https://wandb.ai/nilsusahin-middle-east-technical-university/rag_basic_experiment/sweeps/12zc357u</a>"
      ],
      "text/plain": [
       "<IPython.core.display.HTML object>"
      ]
     },
     "metadata": {},
     "output_type": "display_data"
    },
    {
     "data": {
      "text/html": [
       " View project at <a href='https://wandb.ai/nilsusahin-middle-east-technical-university/rag_basic_experiment' target=\"_blank\">https://wandb.ai/nilsusahin-middle-east-technical-university/rag_basic_experiment</a>"
      ],
      "text/plain": [
       "<IPython.core.display.HTML object>"
      ]
     },
     "metadata": {},
     "output_type": "display_data"
    },
    {
     "data": {
      "text/html": [
       " View sweep at <a href='https://wandb.ai/nilsusahin-middle-east-technical-university/rag_basic_experiment/sweeps/12zc357u' target=\"_blank\">https://wandb.ai/nilsusahin-middle-east-technical-university/rag_basic_experiment/sweeps/12zc357u</a>"
      ],
      "text/plain": [
       "<IPython.core.display.HTML object>"
      ]
     },
     "metadata": {},
     "output_type": "display_data"
    },
    {
     "data": {
      "text/html": [
       " View run at <a href='https://wandb.ai/nilsusahin-middle-east-technical-university/rag_basic_experiment/runs/92tountx' target=\"_blank\">https://wandb.ai/nilsusahin-middle-east-technical-university/rag_basic_experiment/runs/92tountx</a>"
      ],
      "text/plain": [
       "<IPython.core.display.HTML object>"
      ]
     },
     "metadata": {},
     "output_type": "display_data"
    },
    {
     "name": "stdout",
     "output_type": "stream",
     "text": [
      "The token has not been saved to the git credentials helper. Pass `add_to_git_credential=True` in this function directly or `--add-to-git-credential` if using via `huggingface-cli` if you want to set the git credential as well.\n",
      "Token is valid (permission: fineGrained).\n",
      "Your token has been saved to C:\\Users\\Nilsu.Sahin\\.cache\\huggingface\\token\n",
      "Login successful\n",
      "Mean Score: 1.0\n"
     ]
    },
    {
     "data": {
      "text/html": [],
      "text/plain": [
       "<IPython.core.display.HTML object>"
      ]
     },
     "metadata": {},
     "output_type": "display_data"
    },
    {
     "data": {
      "text/html": [
       "<br>    <style><br>        .wandb-row {<br>            display: flex;<br>            flex-direction: row;<br>            flex-wrap: wrap;<br>            justify-content: flex-start;<br>            width: 100%;<br>        }<br>        .wandb-col {<br>            display: flex;<br>            flex-direction: column;<br>            flex-basis: 100%;<br>            flex: 1;<br>            padding: 10px;<br>        }<br>    </style><br><div class=\"wandb-row\"><div class=\"wandb-col\"><h3>Run history:</h3><br/><table class=\"wandb\"><tr><td>chunk_overlap</td><td>▁</td></tr><tr><td>chunk_size</td><td>▁</td></tr><tr><td>mean_score</td><td>▁</td></tr><tr><td>temperature</td><td>▁</td></tr><tr><td>top_k</td><td>▁</td></tr></table><br/></div><div class=\"wandb-col\"><h3>Run summary:</h3><br/><table class=\"wandb\"><tr><td>chunk_overlap</td><td>50</td></tr><tr><td>chunk_size</td><td>100</td></tr><tr><td>mean_score</td><td>1</td></tr><tr><td>temperature</td><td>0.26005</td></tr><tr><td>top_k</td><td>1</td></tr></table><br/></div></div>"
      ],
      "text/plain": [
       "<IPython.core.display.HTML object>"
      ]
     },
     "metadata": {},
     "output_type": "display_data"
    },
    {
     "data": {
      "text/html": [
       " View run <strong style=\"color:#cdcd00\">magic-sweep-15</strong> at: <a href='https://wandb.ai/nilsusahin-middle-east-technical-university/rag_basic_experiment/runs/92tountx' target=\"_blank\">https://wandb.ai/nilsusahin-middle-east-technical-university/rag_basic_experiment/runs/92tountx</a><br> View project at: <a href='https://wandb.ai/nilsusahin-middle-east-technical-university/rag_basic_experiment' target=\"_blank\">https://wandb.ai/nilsusahin-middle-east-technical-university/rag_basic_experiment</a><br>Synced 5 W&B file(s), 0 media file(s), 0 artifact file(s) and 0 other file(s)"
      ],
      "text/plain": [
       "<IPython.core.display.HTML object>"
      ]
     },
     "metadata": {},
     "output_type": "display_data"
    },
    {
     "data": {
      "text/html": [
       "Find logs at: <code>.\\wandb\\run-20241217_194159-92tountx\\logs</code>"
      ],
      "text/plain": [
       "<IPython.core.display.HTML object>"
      ]
     },
     "metadata": {},
     "output_type": "display_data"
    },
    {
     "name": "stderr",
     "output_type": "stream",
     "text": [
      "\u001b[34m\u001b[1mwandb\u001b[0m: Agent Starting Run: wep1ri1z with config:\n",
      "\u001b[34m\u001b[1mwandb\u001b[0m: \tchunk_overlap: 50\n",
      "\u001b[34m\u001b[1mwandb\u001b[0m: \tchunk_size: 100\n",
      "\u001b[34m\u001b[1mwandb\u001b[0m: \ttemperature: 0.6426929716188415\n",
      "\u001b[34m\u001b[1mwandb\u001b[0m: \ttop_k: 7\n"
     ]
    },
    {
     "data": {
      "text/html": [
       "Tracking run with wandb version 0.19.1"
      ],
      "text/plain": [
       "<IPython.core.display.HTML object>"
      ]
     },
     "metadata": {},
     "output_type": "display_data"
    },
    {
     "data": {
      "text/html": [
       "Run data is saved locally in <code>c:\\Users\\Nilsu.Sahin\\Desktop\\ns_trial\\RAG_Model\\wandb\\run-20241217_194240-wep1ri1z</code>"
      ],
      "text/plain": [
       "<IPython.core.display.HTML object>"
      ]
     },
     "metadata": {},
     "output_type": "display_data"
    },
    {
     "data": {
      "text/html": [
       "Syncing run <strong><a href='https://wandb.ai/nilsusahin-middle-east-technical-university/rag_basic_experiment/runs/wep1ri1z' target=\"_blank\">denim-sweep-16</a></strong> to <a href='https://wandb.ai/nilsusahin-middle-east-technical-university/rag_basic_experiment' target=\"_blank\">Weights & Biases</a> (<a href='https://wandb.me/developer-guide' target=\"_blank\">docs</a>)<br>Sweep page: <a href='https://wandb.ai/nilsusahin-middle-east-technical-university/rag_basic_experiment/sweeps/12zc357u' target=\"_blank\">https://wandb.ai/nilsusahin-middle-east-technical-university/rag_basic_experiment/sweeps/12zc357u</a>"
      ],
      "text/plain": [
       "<IPython.core.display.HTML object>"
      ]
     },
     "metadata": {},
     "output_type": "display_data"
    },
    {
     "data": {
      "text/html": [
       " View project at <a href='https://wandb.ai/nilsusahin-middle-east-technical-university/rag_basic_experiment' target=\"_blank\">https://wandb.ai/nilsusahin-middle-east-technical-university/rag_basic_experiment</a>"
      ],
      "text/plain": [
       "<IPython.core.display.HTML object>"
      ]
     },
     "metadata": {},
     "output_type": "display_data"
    },
    {
     "data": {
      "text/html": [
       " View sweep at <a href='https://wandb.ai/nilsusahin-middle-east-technical-university/rag_basic_experiment/sweeps/12zc357u' target=\"_blank\">https://wandb.ai/nilsusahin-middle-east-technical-university/rag_basic_experiment/sweeps/12zc357u</a>"
      ],
      "text/plain": [
       "<IPython.core.display.HTML object>"
      ]
     },
     "metadata": {},
     "output_type": "display_data"
    },
    {
     "data": {
      "text/html": [
       " View run at <a href='https://wandb.ai/nilsusahin-middle-east-technical-university/rag_basic_experiment/runs/wep1ri1z' target=\"_blank\">https://wandb.ai/nilsusahin-middle-east-technical-university/rag_basic_experiment/runs/wep1ri1z</a>"
      ],
      "text/plain": [
       "<IPython.core.display.HTML object>"
      ]
     },
     "metadata": {},
     "output_type": "display_data"
    },
    {
     "name": "stdout",
     "output_type": "stream",
     "text": [
      "The token has not been saved to the git credentials helper. Pass `add_to_git_credential=True` in this function directly or `--add-to-git-credential` if using via `huggingface-cli` if you want to set the git credential as well.\n",
      "Token is valid (permission: fineGrained).\n",
      "Your token has been saved to C:\\Users\\Nilsu.Sahin\\.cache\\huggingface\\token\n",
      "Login successful\n",
      "Mean Score: 0.75\n"
     ]
    },
    {
     "data": {
      "text/html": [],
      "text/plain": [
       "<IPython.core.display.HTML object>"
      ]
     },
     "metadata": {},
     "output_type": "display_data"
    },
    {
     "data": {
      "text/html": [
       "<br>    <style><br>        .wandb-row {<br>            display: flex;<br>            flex-direction: row;<br>            flex-wrap: wrap;<br>            justify-content: flex-start;<br>            width: 100%;<br>        }<br>        .wandb-col {<br>            display: flex;<br>            flex-direction: column;<br>            flex-basis: 100%;<br>            flex: 1;<br>            padding: 10px;<br>        }<br>    </style><br><div class=\"wandb-row\"><div class=\"wandb-col\"><h3>Run history:</h3><br/><table class=\"wandb\"><tr><td>chunk_overlap</td><td>▁</td></tr><tr><td>chunk_size</td><td>▁</td></tr><tr><td>mean_score</td><td>▁</td></tr><tr><td>temperature</td><td>▁</td></tr><tr><td>top_k</td><td>▁</td></tr></table><br/></div><div class=\"wandb-col\"><h3>Run summary:</h3><br/><table class=\"wandb\"><tr><td>chunk_overlap</td><td>50</td></tr><tr><td>chunk_size</td><td>100</td></tr><tr><td>mean_score</td><td>0.75</td></tr><tr><td>temperature</td><td>0.64269</td></tr><tr><td>top_k</td><td>7</td></tr></table><br/></div></div>"
      ],
      "text/plain": [
       "<IPython.core.display.HTML object>"
      ]
     },
     "metadata": {},
     "output_type": "display_data"
    },
    {
     "data": {
      "text/html": [
       " View run <strong style=\"color:#cdcd00\">denim-sweep-16</strong> at: <a href='https://wandb.ai/nilsusahin-middle-east-technical-university/rag_basic_experiment/runs/wep1ri1z' target=\"_blank\">https://wandb.ai/nilsusahin-middle-east-technical-university/rag_basic_experiment/runs/wep1ri1z</a><br> View project at: <a href='https://wandb.ai/nilsusahin-middle-east-technical-university/rag_basic_experiment' target=\"_blank\">https://wandb.ai/nilsusahin-middle-east-technical-university/rag_basic_experiment</a><br>Synced 5 W&B file(s), 0 media file(s), 0 artifact file(s) and 0 other file(s)"
      ],
      "text/plain": [
       "<IPython.core.display.HTML object>"
      ]
     },
     "metadata": {},
     "output_type": "display_data"
    },
    {
     "data": {
      "text/html": [
       "Find logs at: <code>.\\wandb\\run-20241217_194240-wep1ri1z\\logs</code>"
      ],
      "text/plain": [
       "<IPython.core.display.HTML object>"
      ]
     },
     "metadata": {},
     "output_type": "display_data"
    },
    {
     "name": "stderr",
     "output_type": "stream",
     "text": [
      "\u001b[34m\u001b[1mwandb\u001b[0m: Agent Starting Run: hzisbm0d with config:\n",
      "\u001b[34m\u001b[1mwandb\u001b[0m: \tchunk_overlap: 50\n",
      "\u001b[34m\u001b[1mwandb\u001b[0m: \tchunk_size: 200\n",
      "\u001b[34m\u001b[1mwandb\u001b[0m: \ttemperature: 0.9029000909497772\n",
      "\u001b[34m\u001b[1mwandb\u001b[0m: \ttop_k: 1\n"
     ]
    },
    {
     "data": {
      "text/html": [
       "Tracking run with wandb version 0.19.1"
      ],
      "text/plain": [
       "<IPython.core.display.HTML object>"
      ]
     },
     "metadata": {},
     "output_type": "display_data"
    },
    {
     "data": {
      "text/html": [
       "Run data is saved locally in <code>c:\\Users\\Nilsu.Sahin\\Desktop\\ns_trial\\RAG_Model\\wandb\\run-20241217_194306-hzisbm0d</code>"
      ],
      "text/plain": [
       "<IPython.core.display.HTML object>"
      ]
     },
     "metadata": {},
     "output_type": "display_data"
    },
    {
     "data": {
      "text/html": [
       "Syncing run <strong><a href='https://wandb.ai/nilsusahin-middle-east-technical-university/rag_basic_experiment/runs/hzisbm0d' target=\"_blank\">solar-sweep-17</a></strong> to <a href='https://wandb.ai/nilsusahin-middle-east-technical-university/rag_basic_experiment' target=\"_blank\">Weights & Biases</a> (<a href='https://wandb.me/developer-guide' target=\"_blank\">docs</a>)<br>Sweep page: <a href='https://wandb.ai/nilsusahin-middle-east-technical-university/rag_basic_experiment/sweeps/12zc357u' target=\"_blank\">https://wandb.ai/nilsusahin-middle-east-technical-university/rag_basic_experiment/sweeps/12zc357u</a>"
      ],
      "text/plain": [
       "<IPython.core.display.HTML object>"
      ]
     },
     "metadata": {},
     "output_type": "display_data"
    },
    {
     "data": {
      "text/html": [
       " View project at <a href='https://wandb.ai/nilsusahin-middle-east-technical-university/rag_basic_experiment' target=\"_blank\">https://wandb.ai/nilsusahin-middle-east-technical-university/rag_basic_experiment</a>"
      ],
      "text/plain": [
       "<IPython.core.display.HTML object>"
      ]
     },
     "metadata": {},
     "output_type": "display_data"
    },
    {
     "data": {
      "text/html": [
       " View sweep at <a href='https://wandb.ai/nilsusahin-middle-east-technical-university/rag_basic_experiment/sweeps/12zc357u' target=\"_blank\">https://wandb.ai/nilsusahin-middle-east-technical-university/rag_basic_experiment/sweeps/12zc357u</a>"
      ],
      "text/plain": [
       "<IPython.core.display.HTML object>"
      ]
     },
     "metadata": {},
     "output_type": "display_data"
    },
    {
     "data": {
      "text/html": [
       " View run at <a href='https://wandb.ai/nilsusahin-middle-east-technical-university/rag_basic_experiment/runs/hzisbm0d' target=\"_blank\">https://wandb.ai/nilsusahin-middle-east-technical-university/rag_basic_experiment/runs/hzisbm0d</a>"
      ],
      "text/plain": [
       "<IPython.core.display.HTML object>"
      ]
     },
     "metadata": {},
     "output_type": "display_data"
    },
    {
     "name": "stdout",
     "output_type": "stream",
     "text": [
      "The token has not been saved to the git credentials helper. Pass `add_to_git_credential=True` in this function directly or `--add-to-git-credential` if using via `huggingface-cli` if you want to set the git credential as well.\n",
      "Token is valid (permission: fineGrained).\n",
      "Your token has been saved to C:\\Users\\Nilsu.Sahin\\.cache\\huggingface\\token\n",
      "Login successful\n",
      "Mean Score: 1.0\n"
     ]
    },
    {
     "data": {
      "text/html": [],
      "text/plain": [
       "<IPython.core.display.HTML object>"
      ]
     },
     "metadata": {},
     "output_type": "display_data"
    },
    {
     "data": {
      "text/html": [
       "<br>    <style><br>        .wandb-row {<br>            display: flex;<br>            flex-direction: row;<br>            flex-wrap: wrap;<br>            justify-content: flex-start;<br>            width: 100%;<br>        }<br>        .wandb-col {<br>            display: flex;<br>            flex-direction: column;<br>            flex-basis: 100%;<br>            flex: 1;<br>            padding: 10px;<br>        }<br>    </style><br><div class=\"wandb-row\"><div class=\"wandb-col\"><h3>Run history:</h3><br/><table class=\"wandb\"><tr><td>chunk_overlap</td><td>▁</td></tr><tr><td>chunk_size</td><td>▁</td></tr><tr><td>mean_score</td><td>▁</td></tr><tr><td>temperature</td><td>▁</td></tr><tr><td>top_k</td><td>▁</td></tr></table><br/></div><div class=\"wandb-col\"><h3>Run summary:</h3><br/><table class=\"wandb\"><tr><td>chunk_overlap</td><td>50</td></tr><tr><td>chunk_size</td><td>200</td></tr><tr><td>mean_score</td><td>1</td></tr><tr><td>temperature</td><td>0.9029</td></tr><tr><td>top_k</td><td>1</td></tr></table><br/></div></div>"
      ],
      "text/plain": [
       "<IPython.core.display.HTML object>"
      ]
     },
     "metadata": {},
     "output_type": "display_data"
    },
    {
     "data": {
      "text/html": [
       " View run <strong style=\"color:#cdcd00\">solar-sweep-17</strong> at: <a href='https://wandb.ai/nilsusahin-middle-east-technical-university/rag_basic_experiment/runs/hzisbm0d' target=\"_blank\">https://wandb.ai/nilsusahin-middle-east-technical-university/rag_basic_experiment/runs/hzisbm0d</a><br> View project at: <a href='https://wandb.ai/nilsusahin-middle-east-technical-university/rag_basic_experiment' target=\"_blank\">https://wandb.ai/nilsusahin-middle-east-technical-university/rag_basic_experiment</a><br>Synced 5 W&B file(s), 0 media file(s), 0 artifact file(s) and 0 other file(s)"
      ],
      "text/plain": [
       "<IPython.core.display.HTML object>"
      ]
     },
     "metadata": {},
     "output_type": "display_data"
    },
    {
     "data": {
      "text/html": [
       "Find logs at: <code>.\\wandb\\run-20241217_194306-hzisbm0d\\logs</code>"
      ],
      "text/plain": [
       "<IPython.core.display.HTML object>"
      ]
     },
     "metadata": {},
     "output_type": "display_data"
    },
    {
     "name": "stderr",
     "output_type": "stream",
     "text": [
      "\u001b[34m\u001b[1mwandb\u001b[0m: Agent Starting Run: 2fvw41qb with config:\n",
      "\u001b[34m\u001b[1mwandb\u001b[0m: \tchunk_overlap: 0\n",
      "\u001b[34m\u001b[1mwandb\u001b[0m: \tchunk_size: 200\n",
      "\u001b[34m\u001b[1mwandb\u001b[0m: \ttemperature: 0.8205534049840765\n",
      "\u001b[34m\u001b[1mwandb\u001b[0m: \ttop_k: 2\n"
     ]
    },
    {
     "data": {
      "text/html": [
       "Tracking run with wandb version 0.19.1"
      ],
      "text/plain": [
       "<IPython.core.display.HTML object>"
      ]
     },
     "metadata": {},
     "output_type": "display_data"
    },
    {
     "data": {
      "text/html": [
       "Run data is saved locally in <code>c:\\Users\\Nilsu.Sahin\\Desktop\\ns_trial\\RAG_Model\\wandb\\run-20241217_194327-2fvw41qb</code>"
      ],
      "text/plain": [
       "<IPython.core.display.HTML object>"
      ]
     },
     "metadata": {},
     "output_type": "display_data"
    },
    {
     "data": {
      "text/html": [
       "Syncing run <strong><a href='https://wandb.ai/nilsusahin-middle-east-technical-university/rag_basic_experiment/runs/2fvw41qb' target=\"_blank\">royal-sweep-18</a></strong> to <a href='https://wandb.ai/nilsusahin-middle-east-technical-university/rag_basic_experiment' target=\"_blank\">Weights & Biases</a> (<a href='https://wandb.me/developer-guide' target=\"_blank\">docs</a>)<br>Sweep page: <a href='https://wandb.ai/nilsusahin-middle-east-technical-university/rag_basic_experiment/sweeps/12zc357u' target=\"_blank\">https://wandb.ai/nilsusahin-middle-east-technical-university/rag_basic_experiment/sweeps/12zc357u</a>"
      ],
      "text/plain": [
       "<IPython.core.display.HTML object>"
      ]
     },
     "metadata": {},
     "output_type": "display_data"
    },
    {
     "data": {
      "text/html": [
       " View project at <a href='https://wandb.ai/nilsusahin-middle-east-technical-university/rag_basic_experiment' target=\"_blank\">https://wandb.ai/nilsusahin-middle-east-technical-university/rag_basic_experiment</a>"
      ],
      "text/plain": [
       "<IPython.core.display.HTML object>"
      ]
     },
     "metadata": {},
     "output_type": "display_data"
    },
    {
     "data": {
      "text/html": [
       " View sweep at <a href='https://wandb.ai/nilsusahin-middle-east-technical-university/rag_basic_experiment/sweeps/12zc357u' target=\"_blank\">https://wandb.ai/nilsusahin-middle-east-technical-university/rag_basic_experiment/sweeps/12zc357u</a>"
      ],
      "text/plain": [
       "<IPython.core.display.HTML object>"
      ]
     },
     "metadata": {},
     "output_type": "display_data"
    },
    {
     "data": {
      "text/html": [
       " View run at <a href='https://wandb.ai/nilsusahin-middle-east-technical-university/rag_basic_experiment/runs/2fvw41qb' target=\"_blank\">https://wandb.ai/nilsusahin-middle-east-technical-university/rag_basic_experiment/runs/2fvw41qb</a>"
      ],
      "text/plain": [
       "<IPython.core.display.HTML object>"
      ]
     },
     "metadata": {},
     "output_type": "display_data"
    },
    {
     "name": "stdout",
     "output_type": "stream",
     "text": [
      "The token has not been saved to the git credentials helper. Pass `add_to_git_credential=True` in this function directly or `--add-to-git-credential` if using via `huggingface-cli` if you want to set the git credential as well.\n",
      "Token is valid (permission: fineGrained).\n",
      "Your token has been saved to C:\\Users\\Nilsu.Sahin\\.cache\\huggingface\\token\n",
      "Login successful\n",
      "Mean Score: 1.0\n"
     ]
    },
    {
     "data": {
      "text/html": [],
      "text/plain": [
       "<IPython.core.display.HTML object>"
      ]
     },
     "metadata": {},
     "output_type": "display_data"
    },
    {
     "data": {
      "text/html": [
       "<br>    <style><br>        .wandb-row {<br>            display: flex;<br>            flex-direction: row;<br>            flex-wrap: wrap;<br>            justify-content: flex-start;<br>            width: 100%;<br>        }<br>        .wandb-col {<br>            display: flex;<br>            flex-direction: column;<br>            flex-basis: 100%;<br>            flex: 1;<br>            padding: 10px;<br>        }<br>    </style><br><div class=\"wandb-row\"><div class=\"wandb-col\"><h3>Run history:</h3><br/><table class=\"wandb\"><tr><td>chunk_overlap</td><td>▁</td></tr><tr><td>chunk_size</td><td>▁</td></tr><tr><td>mean_score</td><td>▁</td></tr><tr><td>temperature</td><td>▁</td></tr><tr><td>top_k</td><td>▁</td></tr></table><br/></div><div class=\"wandb-col\"><h3>Run summary:</h3><br/><table class=\"wandb\"><tr><td>chunk_overlap</td><td>0</td></tr><tr><td>chunk_size</td><td>200</td></tr><tr><td>mean_score</td><td>1</td></tr><tr><td>temperature</td><td>0.82055</td></tr><tr><td>top_k</td><td>2</td></tr></table><br/></div></div>"
      ],
      "text/plain": [
       "<IPython.core.display.HTML object>"
      ]
     },
     "metadata": {},
     "output_type": "display_data"
    },
    {
     "data": {
      "text/html": [
       " View run <strong style=\"color:#cdcd00\">royal-sweep-18</strong> at: <a href='https://wandb.ai/nilsusahin-middle-east-technical-university/rag_basic_experiment/runs/2fvw41qb' target=\"_blank\">https://wandb.ai/nilsusahin-middle-east-technical-university/rag_basic_experiment/runs/2fvw41qb</a><br> View project at: <a href='https://wandb.ai/nilsusahin-middle-east-technical-university/rag_basic_experiment' target=\"_blank\">https://wandb.ai/nilsusahin-middle-east-technical-university/rag_basic_experiment</a><br>Synced 5 W&B file(s), 0 media file(s), 0 artifact file(s) and 0 other file(s)"
      ],
      "text/plain": [
       "<IPython.core.display.HTML object>"
      ]
     },
     "metadata": {},
     "output_type": "display_data"
    },
    {
     "data": {
      "text/html": [
       "Find logs at: <code>.\\wandb\\run-20241217_194327-2fvw41qb\\logs</code>"
      ],
      "text/plain": [
       "<IPython.core.display.HTML object>"
      ]
     },
     "metadata": {},
     "output_type": "display_data"
    },
    {
     "name": "stderr",
     "output_type": "stream",
     "text": [
      "\u001b[34m\u001b[1mwandb\u001b[0m: Agent Starting Run: 8lib9sbf with config:\n",
      "\u001b[34m\u001b[1mwandb\u001b[0m: \tchunk_overlap: 50\n",
      "\u001b[34m\u001b[1mwandb\u001b[0m: \tchunk_size: 100\n",
      "\u001b[34m\u001b[1mwandb\u001b[0m: \ttemperature: 0.10688236139392272\n",
      "\u001b[34m\u001b[1mwandb\u001b[0m: \ttop_k: 5\n"
     ]
    },
    {
     "data": {
      "text/html": [
       "Tracking run with wandb version 0.19.1"
      ],
      "text/plain": [
       "<IPython.core.display.HTML object>"
      ]
     },
     "metadata": {},
     "output_type": "display_data"
    },
    {
     "data": {
      "text/html": [
       "Run data is saved locally in <code>c:\\Users\\Nilsu.Sahin\\Desktop\\ns_trial\\RAG_Model\\wandb\\run-20241217_194349-8lib9sbf</code>"
      ],
      "text/plain": [
       "<IPython.core.display.HTML object>"
      ]
     },
     "metadata": {},
     "output_type": "display_data"
    },
    {
     "data": {
      "text/html": [
       "Syncing run <strong><a href='https://wandb.ai/nilsusahin-middle-east-technical-university/rag_basic_experiment/runs/8lib9sbf' target=\"_blank\">firm-sweep-19</a></strong> to <a href='https://wandb.ai/nilsusahin-middle-east-technical-university/rag_basic_experiment' target=\"_blank\">Weights & Biases</a> (<a href='https://wandb.me/developer-guide' target=\"_blank\">docs</a>)<br>Sweep page: <a href='https://wandb.ai/nilsusahin-middle-east-technical-university/rag_basic_experiment/sweeps/12zc357u' target=\"_blank\">https://wandb.ai/nilsusahin-middle-east-technical-university/rag_basic_experiment/sweeps/12zc357u</a>"
      ],
      "text/plain": [
       "<IPython.core.display.HTML object>"
      ]
     },
     "metadata": {},
     "output_type": "display_data"
    },
    {
     "data": {
      "text/html": [
       " View project at <a href='https://wandb.ai/nilsusahin-middle-east-technical-university/rag_basic_experiment' target=\"_blank\">https://wandb.ai/nilsusahin-middle-east-technical-university/rag_basic_experiment</a>"
      ],
      "text/plain": [
       "<IPython.core.display.HTML object>"
      ]
     },
     "metadata": {},
     "output_type": "display_data"
    },
    {
     "data": {
      "text/html": [
       " View sweep at <a href='https://wandb.ai/nilsusahin-middle-east-technical-university/rag_basic_experiment/sweeps/12zc357u' target=\"_blank\">https://wandb.ai/nilsusahin-middle-east-technical-university/rag_basic_experiment/sweeps/12zc357u</a>"
      ],
      "text/plain": [
       "<IPython.core.display.HTML object>"
      ]
     },
     "metadata": {},
     "output_type": "display_data"
    },
    {
     "data": {
      "text/html": [
       " View run at <a href='https://wandb.ai/nilsusahin-middle-east-technical-university/rag_basic_experiment/runs/8lib9sbf' target=\"_blank\">https://wandb.ai/nilsusahin-middle-east-technical-university/rag_basic_experiment/runs/8lib9sbf</a>"
      ],
      "text/plain": [
       "<IPython.core.display.HTML object>"
      ]
     },
     "metadata": {},
     "output_type": "display_data"
    },
    {
     "name": "stdout",
     "output_type": "stream",
     "text": [
      "The token has not been saved to the git credentials helper. Pass `add_to_git_credential=True` in this function directly or `--add-to-git-credential` if using via `huggingface-cli` if you want to set the git credential as well.\n",
      "Token is valid (permission: fineGrained).\n",
      "Your token has been saved to C:\\Users\\Nilsu.Sahin\\.cache\\huggingface\\token\n",
      "Login successful\n",
      "Mean Score: 1.0\n"
     ]
    },
    {
     "data": {
      "text/html": [],
      "text/plain": [
       "<IPython.core.display.HTML object>"
      ]
     },
     "metadata": {},
     "output_type": "display_data"
    },
    {
     "data": {
      "text/html": [
       "<br>    <style><br>        .wandb-row {<br>            display: flex;<br>            flex-direction: row;<br>            flex-wrap: wrap;<br>            justify-content: flex-start;<br>            width: 100%;<br>        }<br>        .wandb-col {<br>            display: flex;<br>            flex-direction: column;<br>            flex-basis: 100%;<br>            flex: 1;<br>            padding: 10px;<br>        }<br>    </style><br><div class=\"wandb-row\"><div class=\"wandb-col\"><h3>Run history:</h3><br/><table class=\"wandb\"><tr><td>chunk_overlap</td><td>▁</td></tr><tr><td>chunk_size</td><td>▁</td></tr><tr><td>mean_score</td><td>▁</td></tr><tr><td>temperature</td><td>▁</td></tr><tr><td>top_k</td><td>▁</td></tr></table><br/></div><div class=\"wandb-col\"><h3>Run summary:</h3><br/><table class=\"wandb\"><tr><td>chunk_overlap</td><td>50</td></tr><tr><td>chunk_size</td><td>100</td></tr><tr><td>mean_score</td><td>1</td></tr><tr><td>temperature</td><td>0.10688</td></tr><tr><td>top_k</td><td>5</td></tr></table><br/></div></div>"
      ],
      "text/plain": [
       "<IPython.core.display.HTML object>"
      ]
     },
     "metadata": {},
     "output_type": "display_data"
    },
    {
     "data": {
      "text/html": [
       " View run <strong style=\"color:#cdcd00\">firm-sweep-19</strong> at: <a href='https://wandb.ai/nilsusahin-middle-east-technical-university/rag_basic_experiment/runs/8lib9sbf' target=\"_blank\">https://wandb.ai/nilsusahin-middle-east-technical-university/rag_basic_experiment/runs/8lib9sbf</a><br> View project at: <a href='https://wandb.ai/nilsusahin-middle-east-technical-university/rag_basic_experiment' target=\"_blank\">https://wandb.ai/nilsusahin-middle-east-technical-university/rag_basic_experiment</a><br>Synced 5 W&B file(s), 0 media file(s), 0 artifact file(s) and 0 other file(s)"
      ],
      "text/plain": [
       "<IPython.core.display.HTML object>"
      ]
     },
     "metadata": {},
     "output_type": "display_data"
    },
    {
     "data": {
      "text/html": [
       "Find logs at: <code>.\\wandb\\run-20241217_194349-8lib9sbf\\logs</code>"
      ],
      "text/plain": [
       "<IPython.core.display.HTML object>"
      ]
     },
     "metadata": {},
     "output_type": "display_data"
    },
    {
     "name": "stderr",
     "output_type": "stream",
     "text": [
      "\u001b[34m\u001b[1mwandb\u001b[0m: Agent Starting Run: ccxiiq9f with config:\n",
      "\u001b[34m\u001b[1mwandb\u001b[0m: \tchunk_overlap: 50\n",
      "\u001b[34m\u001b[1mwandb\u001b[0m: \tchunk_size: 100\n",
      "\u001b[34m\u001b[1mwandb\u001b[0m: \ttemperature: 0.10674447228289612\n",
      "\u001b[34m\u001b[1mwandb\u001b[0m: \ttop_k: 6\n"
     ]
    },
    {
     "data": {
      "text/html": [
       "Tracking run with wandb version 0.19.1"
      ],
      "text/plain": [
       "<IPython.core.display.HTML object>"
      ]
     },
     "metadata": {},
     "output_type": "display_data"
    },
    {
     "data": {
      "text/html": [
       "Run data is saved locally in <code>c:\\Users\\Nilsu.Sahin\\Desktop\\ns_trial\\RAG_Model\\wandb\\run-20241217_194415-ccxiiq9f</code>"
      ],
      "text/plain": [
       "<IPython.core.display.HTML object>"
      ]
     },
     "metadata": {},
     "output_type": "display_data"
    },
    {
     "data": {
      "text/html": [
       "Syncing run <strong><a href='https://wandb.ai/nilsusahin-middle-east-technical-university/rag_basic_experiment/runs/ccxiiq9f' target=\"_blank\">eternal-sweep-20</a></strong> to <a href='https://wandb.ai/nilsusahin-middle-east-technical-university/rag_basic_experiment' target=\"_blank\">Weights & Biases</a> (<a href='https://wandb.me/developer-guide' target=\"_blank\">docs</a>)<br>Sweep page: <a href='https://wandb.ai/nilsusahin-middle-east-technical-university/rag_basic_experiment/sweeps/12zc357u' target=\"_blank\">https://wandb.ai/nilsusahin-middle-east-technical-university/rag_basic_experiment/sweeps/12zc357u</a>"
      ],
      "text/plain": [
       "<IPython.core.display.HTML object>"
      ]
     },
     "metadata": {},
     "output_type": "display_data"
    },
    {
     "data": {
      "text/html": [
       " View project at <a href='https://wandb.ai/nilsusahin-middle-east-technical-university/rag_basic_experiment' target=\"_blank\">https://wandb.ai/nilsusahin-middle-east-technical-university/rag_basic_experiment</a>"
      ],
      "text/plain": [
       "<IPython.core.display.HTML object>"
      ]
     },
     "metadata": {},
     "output_type": "display_data"
    },
    {
     "data": {
      "text/html": [
       " View sweep at <a href='https://wandb.ai/nilsusahin-middle-east-technical-university/rag_basic_experiment/sweeps/12zc357u' target=\"_blank\">https://wandb.ai/nilsusahin-middle-east-technical-university/rag_basic_experiment/sweeps/12zc357u</a>"
      ],
      "text/plain": [
       "<IPython.core.display.HTML object>"
      ]
     },
     "metadata": {},
     "output_type": "display_data"
    },
    {
     "data": {
      "text/html": [
       " View run at <a href='https://wandb.ai/nilsusahin-middle-east-technical-university/rag_basic_experiment/runs/ccxiiq9f' target=\"_blank\">https://wandb.ai/nilsusahin-middle-east-technical-university/rag_basic_experiment/runs/ccxiiq9f</a>"
      ],
      "text/plain": [
       "<IPython.core.display.HTML object>"
      ]
     },
     "metadata": {},
     "output_type": "display_data"
    },
    {
     "name": "stdout",
     "output_type": "stream",
     "text": [
      "The token has not been saved to the git credentials helper. Pass `add_to_git_credential=True` in this function directly or `--add-to-git-credential` if using via `huggingface-cli` if you want to set the git credential as well.\n",
      "Token is valid (permission: fineGrained).\n",
      "Your token has been saved to C:\\Users\\Nilsu.Sahin\\.cache\\huggingface\\token\n",
      "Login successful\n",
      "Mean Score: 1.0\n"
     ]
    },
    {
     "data": {
      "text/html": [],
      "text/plain": [
       "<IPython.core.display.HTML object>"
      ]
     },
     "metadata": {},
     "output_type": "display_data"
    },
    {
     "data": {
      "text/html": [
       "<br>    <style><br>        .wandb-row {<br>            display: flex;<br>            flex-direction: row;<br>            flex-wrap: wrap;<br>            justify-content: flex-start;<br>            width: 100%;<br>        }<br>        .wandb-col {<br>            display: flex;<br>            flex-direction: column;<br>            flex-basis: 100%;<br>            flex: 1;<br>            padding: 10px;<br>        }<br>    </style><br><div class=\"wandb-row\"><div class=\"wandb-col\"><h3>Run history:</h3><br/><table class=\"wandb\"><tr><td>chunk_overlap</td><td>▁</td></tr><tr><td>chunk_size</td><td>▁</td></tr><tr><td>mean_score</td><td>▁</td></tr><tr><td>temperature</td><td>▁</td></tr><tr><td>top_k</td><td>▁</td></tr></table><br/></div><div class=\"wandb-col\"><h3>Run summary:</h3><br/><table class=\"wandb\"><tr><td>chunk_overlap</td><td>50</td></tr><tr><td>chunk_size</td><td>100</td></tr><tr><td>mean_score</td><td>1</td></tr><tr><td>temperature</td><td>0.10674</td></tr><tr><td>top_k</td><td>6</td></tr></table><br/></div></div>"
      ],
      "text/plain": [
       "<IPython.core.display.HTML object>"
      ]
     },
     "metadata": {},
     "output_type": "display_data"
    },
    {
     "data": {
      "text/html": [
       " View run <strong style=\"color:#cdcd00\">eternal-sweep-20</strong> at: <a href='https://wandb.ai/nilsusahin-middle-east-technical-university/rag_basic_experiment/runs/ccxiiq9f' target=\"_blank\">https://wandb.ai/nilsusahin-middle-east-technical-university/rag_basic_experiment/runs/ccxiiq9f</a><br> View project at: <a href='https://wandb.ai/nilsusahin-middle-east-technical-university/rag_basic_experiment' target=\"_blank\">https://wandb.ai/nilsusahin-middle-east-technical-university/rag_basic_experiment</a><br>Synced 5 W&B file(s), 0 media file(s), 0 artifact file(s) and 0 other file(s)"
      ],
      "text/plain": [
       "<IPython.core.display.HTML object>"
      ]
     },
     "metadata": {},
     "output_type": "display_data"
    },
    {
     "data": {
      "text/html": [
       "Find logs at: <code>.\\wandb\\run-20241217_194415-ccxiiq9f\\logs</code>"
      ],
      "text/plain": [
       "<IPython.core.display.HTML object>"
      ]
     },
     "metadata": {},
     "output_type": "display_data"
    },
    {
     "name": "stderr",
     "output_type": "stream",
     "text": [
      "\u001b[34m\u001b[1mwandb\u001b[0m: Agent Starting Run: vvdy58y8 with config:\n",
      "\u001b[34m\u001b[1mwandb\u001b[0m: \tchunk_overlap: 50\n",
      "\u001b[34m\u001b[1mwandb\u001b[0m: \tchunk_size: 200\n",
      "\u001b[34m\u001b[1mwandb\u001b[0m: \ttemperature: 0.9368667760128716\n",
      "\u001b[34m\u001b[1mwandb\u001b[0m: \ttop_k: 7\n"
     ]
    },
    {
     "data": {
      "text/html": [
       "Tracking run with wandb version 0.19.1"
      ],
      "text/plain": [
       "<IPython.core.display.HTML object>"
      ]
     },
     "metadata": {},
     "output_type": "display_data"
    },
    {
     "data": {
      "text/html": [
       "Run data is saved locally in <code>c:\\Users\\Nilsu.Sahin\\Desktop\\ns_trial\\RAG_Model\\wandb\\run-20241217_194436-vvdy58y8</code>"
      ],
      "text/plain": [
       "<IPython.core.display.HTML object>"
      ]
     },
     "metadata": {},
     "output_type": "display_data"
    },
    {
     "data": {
      "text/html": [
       "Syncing run <strong><a href='https://wandb.ai/nilsusahin-middle-east-technical-university/rag_basic_experiment/runs/vvdy58y8' target=\"_blank\">pleasant-sweep-21</a></strong> to <a href='https://wandb.ai/nilsusahin-middle-east-technical-university/rag_basic_experiment' target=\"_blank\">Weights & Biases</a> (<a href='https://wandb.me/developer-guide' target=\"_blank\">docs</a>)<br>Sweep page: <a href='https://wandb.ai/nilsusahin-middle-east-technical-university/rag_basic_experiment/sweeps/12zc357u' target=\"_blank\">https://wandb.ai/nilsusahin-middle-east-technical-university/rag_basic_experiment/sweeps/12zc357u</a>"
      ],
      "text/plain": [
       "<IPython.core.display.HTML object>"
      ]
     },
     "metadata": {},
     "output_type": "display_data"
    },
    {
     "data": {
      "text/html": [
       " View project at <a href='https://wandb.ai/nilsusahin-middle-east-technical-university/rag_basic_experiment' target=\"_blank\">https://wandb.ai/nilsusahin-middle-east-technical-university/rag_basic_experiment</a>"
      ],
      "text/plain": [
       "<IPython.core.display.HTML object>"
      ]
     },
     "metadata": {},
     "output_type": "display_data"
    },
    {
     "data": {
      "text/html": [
       " View sweep at <a href='https://wandb.ai/nilsusahin-middle-east-technical-university/rag_basic_experiment/sweeps/12zc357u' target=\"_blank\">https://wandb.ai/nilsusahin-middle-east-technical-university/rag_basic_experiment/sweeps/12zc357u</a>"
      ],
      "text/plain": [
       "<IPython.core.display.HTML object>"
      ]
     },
     "metadata": {},
     "output_type": "display_data"
    },
    {
     "data": {
      "text/html": [
       " View run at <a href='https://wandb.ai/nilsusahin-middle-east-technical-university/rag_basic_experiment/runs/vvdy58y8' target=\"_blank\">https://wandb.ai/nilsusahin-middle-east-technical-university/rag_basic_experiment/runs/vvdy58y8</a>"
      ],
      "text/plain": [
       "<IPython.core.display.HTML object>"
      ]
     },
     "metadata": {},
     "output_type": "display_data"
    },
    {
     "name": "stdout",
     "output_type": "stream",
     "text": [
      "The token has not been saved to the git credentials helper. Pass `add_to_git_credential=True` in this function directly or `--add-to-git-credential` if using via `huggingface-cli` if you want to set the git credential as well.\n",
      "Token is valid (permission: fineGrained).\n",
      "Your token has been saved to C:\\Users\\Nilsu.Sahin\\.cache\\huggingface\\token\n",
      "Login successful\n",
      "Mean Score: 1.0\n"
     ]
    },
    {
     "data": {
      "text/html": [],
      "text/plain": [
       "<IPython.core.display.HTML object>"
      ]
     },
     "metadata": {},
     "output_type": "display_data"
    },
    {
     "data": {
      "text/html": [
       "<br>    <style><br>        .wandb-row {<br>            display: flex;<br>            flex-direction: row;<br>            flex-wrap: wrap;<br>            justify-content: flex-start;<br>            width: 100%;<br>        }<br>        .wandb-col {<br>            display: flex;<br>            flex-direction: column;<br>            flex-basis: 100%;<br>            flex: 1;<br>            padding: 10px;<br>        }<br>    </style><br><div class=\"wandb-row\"><div class=\"wandb-col\"><h3>Run history:</h3><br/><table class=\"wandb\"><tr><td>chunk_overlap</td><td>▁</td></tr><tr><td>chunk_size</td><td>▁</td></tr><tr><td>mean_score</td><td>▁</td></tr><tr><td>temperature</td><td>▁</td></tr><tr><td>top_k</td><td>▁</td></tr></table><br/></div><div class=\"wandb-col\"><h3>Run summary:</h3><br/><table class=\"wandb\"><tr><td>chunk_overlap</td><td>50</td></tr><tr><td>chunk_size</td><td>200</td></tr><tr><td>mean_score</td><td>1</td></tr><tr><td>temperature</td><td>0.93687</td></tr><tr><td>top_k</td><td>7</td></tr></table><br/></div></div>"
      ],
      "text/plain": [
       "<IPython.core.display.HTML object>"
      ]
     },
     "metadata": {},
     "output_type": "display_data"
    },
    {
     "data": {
      "text/html": [
       " View run <strong style=\"color:#cdcd00\">pleasant-sweep-21</strong> at: <a href='https://wandb.ai/nilsusahin-middle-east-technical-university/rag_basic_experiment/runs/vvdy58y8' target=\"_blank\">https://wandb.ai/nilsusahin-middle-east-technical-university/rag_basic_experiment/runs/vvdy58y8</a><br> View project at: <a href='https://wandb.ai/nilsusahin-middle-east-technical-university/rag_basic_experiment' target=\"_blank\">https://wandb.ai/nilsusahin-middle-east-technical-university/rag_basic_experiment</a><br>Synced 5 W&B file(s), 0 media file(s), 0 artifact file(s) and 0 other file(s)"
      ],
      "text/plain": [
       "<IPython.core.display.HTML object>"
      ]
     },
     "metadata": {},
     "output_type": "display_data"
    },
    {
     "data": {
      "text/html": [
       "Find logs at: <code>.\\wandb\\run-20241217_194436-vvdy58y8\\logs</code>"
      ],
      "text/plain": [
       "<IPython.core.display.HTML object>"
      ]
     },
     "metadata": {},
     "output_type": "display_data"
    },
    {
     "name": "stderr",
     "output_type": "stream",
     "text": [
      "\u001b[34m\u001b[1mwandb\u001b[0m: Agent Starting Run: 0ktxi29h with config:\n",
      "\u001b[34m\u001b[1mwandb\u001b[0m: \tchunk_overlap: 50\n",
      "\u001b[34m\u001b[1mwandb\u001b[0m: \tchunk_size: 100\n",
      "\u001b[34m\u001b[1mwandb\u001b[0m: \ttemperature: 0.9263834116509496\n",
      "\u001b[34m\u001b[1mwandb\u001b[0m: \ttop_k: 2\n"
     ]
    },
    {
     "data": {
      "text/html": [
       "Tracking run with wandb version 0.19.1"
      ],
      "text/plain": [
       "<IPython.core.display.HTML object>"
      ]
     },
     "metadata": {},
     "output_type": "display_data"
    },
    {
     "data": {
      "text/html": [
       "Run data is saved locally in <code>c:\\Users\\Nilsu.Sahin\\Desktop\\ns_trial\\RAG_Model\\wandb\\run-20241217_194457-0ktxi29h</code>"
      ],
      "text/plain": [
       "<IPython.core.display.HTML object>"
      ]
     },
     "metadata": {},
     "output_type": "display_data"
    },
    {
     "data": {
      "text/html": [
       "Syncing run <strong><a href='https://wandb.ai/nilsusahin-middle-east-technical-university/rag_basic_experiment/runs/0ktxi29h' target=\"_blank\">eager-sweep-22</a></strong> to <a href='https://wandb.ai/nilsusahin-middle-east-technical-university/rag_basic_experiment' target=\"_blank\">Weights & Biases</a> (<a href='https://wandb.me/developer-guide' target=\"_blank\">docs</a>)<br>Sweep page: <a href='https://wandb.ai/nilsusahin-middle-east-technical-university/rag_basic_experiment/sweeps/12zc357u' target=\"_blank\">https://wandb.ai/nilsusahin-middle-east-technical-university/rag_basic_experiment/sweeps/12zc357u</a>"
      ],
      "text/plain": [
       "<IPython.core.display.HTML object>"
      ]
     },
     "metadata": {},
     "output_type": "display_data"
    },
    {
     "data": {
      "text/html": [
       " View project at <a href='https://wandb.ai/nilsusahin-middle-east-technical-university/rag_basic_experiment' target=\"_blank\">https://wandb.ai/nilsusahin-middle-east-technical-university/rag_basic_experiment</a>"
      ],
      "text/plain": [
       "<IPython.core.display.HTML object>"
      ]
     },
     "metadata": {},
     "output_type": "display_data"
    },
    {
     "data": {
      "text/html": [
       " View sweep at <a href='https://wandb.ai/nilsusahin-middle-east-technical-university/rag_basic_experiment/sweeps/12zc357u' target=\"_blank\">https://wandb.ai/nilsusahin-middle-east-technical-university/rag_basic_experiment/sweeps/12zc357u</a>"
      ],
      "text/plain": [
       "<IPython.core.display.HTML object>"
      ]
     },
     "metadata": {},
     "output_type": "display_data"
    },
    {
     "data": {
      "text/html": [
       " View run at <a href='https://wandb.ai/nilsusahin-middle-east-technical-university/rag_basic_experiment/runs/0ktxi29h' target=\"_blank\">https://wandb.ai/nilsusahin-middle-east-technical-university/rag_basic_experiment/runs/0ktxi29h</a>"
      ],
      "text/plain": [
       "<IPython.core.display.HTML object>"
      ]
     },
     "metadata": {},
     "output_type": "display_data"
    },
    {
     "name": "stdout",
     "output_type": "stream",
     "text": [
      "The token has not been saved to the git credentials helper. Pass `add_to_git_credential=True` in this function directly or `--add-to-git-credential` if using via `huggingface-cli` if you want to set the git credential as well.\n",
      "Token is valid (permission: fineGrained).\n",
      "Your token has been saved to C:\\Users\\Nilsu.Sahin\\.cache\\huggingface\\token\n",
      "Login successful\n",
      "Mean Score: 1.0\n"
     ]
    },
    {
     "data": {
      "text/html": [],
      "text/plain": [
       "<IPython.core.display.HTML object>"
      ]
     },
     "metadata": {},
     "output_type": "display_data"
    },
    {
     "data": {
      "text/html": [
       "<br>    <style><br>        .wandb-row {<br>            display: flex;<br>            flex-direction: row;<br>            flex-wrap: wrap;<br>            justify-content: flex-start;<br>            width: 100%;<br>        }<br>        .wandb-col {<br>            display: flex;<br>            flex-direction: column;<br>            flex-basis: 100%;<br>            flex: 1;<br>            padding: 10px;<br>        }<br>    </style><br><div class=\"wandb-row\"><div class=\"wandb-col\"><h3>Run history:</h3><br/><table class=\"wandb\"><tr><td>chunk_overlap</td><td>▁</td></tr><tr><td>chunk_size</td><td>▁</td></tr><tr><td>mean_score</td><td>▁</td></tr><tr><td>temperature</td><td>▁</td></tr><tr><td>top_k</td><td>▁</td></tr></table><br/></div><div class=\"wandb-col\"><h3>Run summary:</h3><br/><table class=\"wandb\"><tr><td>chunk_overlap</td><td>50</td></tr><tr><td>chunk_size</td><td>100</td></tr><tr><td>mean_score</td><td>1</td></tr><tr><td>temperature</td><td>0.92638</td></tr><tr><td>top_k</td><td>2</td></tr></table><br/></div></div>"
      ],
      "text/plain": [
       "<IPython.core.display.HTML object>"
      ]
     },
     "metadata": {},
     "output_type": "display_data"
    },
    {
     "data": {
      "text/html": [
       " View run <strong style=\"color:#cdcd00\">eager-sweep-22</strong> at: <a href='https://wandb.ai/nilsusahin-middle-east-technical-university/rag_basic_experiment/runs/0ktxi29h' target=\"_blank\">https://wandb.ai/nilsusahin-middle-east-technical-university/rag_basic_experiment/runs/0ktxi29h</a><br> View project at: <a href='https://wandb.ai/nilsusahin-middle-east-technical-university/rag_basic_experiment' target=\"_blank\">https://wandb.ai/nilsusahin-middle-east-technical-university/rag_basic_experiment</a><br>Synced 5 W&B file(s), 0 media file(s), 0 artifact file(s) and 0 other file(s)"
      ],
      "text/plain": [
       "<IPython.core.display.HTML object>"
      ]
     },
     "metadata": {},
     "output_type": "display_data"
    },
    {
     "data": {
      "text/html": [
       "Find logs at: <code>.\\wandb\\run-20241217_194457-0ktxi29h\\logs</code>"
      ],
      "text/plain": [
       "<IPython.core.display.HTML object>"
      ]
     },
     "metadata": {},
     "output_type": "display_data"
    },
    {
     "name": "stderr",
     "output_type": "stream",
     "text": [
      "\u001b[34m\u001b[1mwandb\u001b[0m: Agent Starting Run: jczb479m with config:\n",
      "\u001b[34m\u001b[1mwandb\u001b[0m: \tchunk_overlap: 0\n",
      "\u001b[34m\u001b[1mwandb\u001b[0m: \tchunk_size: 200\n",
      "\u001b[34m\u001b[1mwandb\u001b[0m: \ttemperature: 0.6969799664868264\n",
      "\u001b[34m\u001b[1mwandb\u001b[0m: \ttop_k: 1\n"
     ]
    },
    {
     "data": {
      "text/html": [
       "Tracking run with wandb version 0.19.1"
      ],
      "text/plain": [
       "<IPython.core.display.HTML object>"
      ]
     },
     "metadata": {},
     "output_type": "display_data"
    },
    {
     "data": {
      "text/html": [
       "Run data is saved locally in <code>c:\\Users\\Nilsu.Sahin\\Desktop\\ns_trial\\RAG_Model\\wandb\\run-20241217_194518-jczb479m</code>"
      ],
      "text/plain": [
       "<IPython.core.display.HTML object>"
      ]
     },
     "metadata": {},
     "output_type": "display_data"
    },
    {
     "data": {
      "text/html": [
       "Syncing run <strong><a href='https://wandb.ai/nilsusahin-middle-east-technical-university/rag_basic_experiment/runs/jczb479m' target=\"_blank\">azure-sweep-23</a></strong> to <a href='https://wandb.ai/nilsusahin-middle-east-technical-university/rag_basic_experiment' target=\"_blank\">Weights & Biases</a> (<a href='https://wandb.me/developer-guide' target=\"_blank\">docs</a>)<br>Sweep page: <a href='https://wandb.ai/nilsusahin-middle-east-technical-university/rag_basic_experiment/sweeps/12zc357u' target=\"_blank\">https://wandb.ai/nilsusahin-middle-east-technical-university/rag_basic_experiment/sweeps/12zc357u</a>"
      ],
      "text/plain": [
       "<IPython.core.display.HTML object>"
      ]
     },
     "metadata": {},
     "output_type": "display_data"
    },
    {
     "data": {
      "text/html": [
       " View project at <a href='https://wandb.ai/nilsusahin-middle-east-technical-university/rag_basic_experiment' target=\"_blank\">https://wandb.ai/nilsusahin-middle-east-technical-university/rag_basic_experiment</a>"
      ],
      "text/plain": [
       "<IPython.core.display.HTML object>"
      ]
     },
     "metadata": {},
     "output_type": "display_data"
    },
    {
     "data": {
      "text/html": [
       " View sweep at <a href='https://wandb.ai/nilsusahin-middle-east-technical-university/rag_basic_experiment/sweeps/12zc357u' target=\"_blank\">https://wandb.ai/nilsusahin-middle-east-technical-university/rag_basic_experiment/sweeps/12zc357u</a>"
      ],
      "text/plain": [
       "<IPython.core.display.HTML object>"
      ]
     },
     "metadata": {},
     "output_type": "display_data"
    },
    {
     "data": {
      "text/html": [
       " View run at <a href='https://wandb.ai/nilsusahin-middle-east-technical-university/rag_basic_experiment/runs/jczb479m' target=\"_blank\">https://wandb.ai/nilsusahin-middle-east-technical-university/rag_basic_experiment/runs/jczb479m</a>"
      ],
      "text/plain": [
       "<IPython.core.display.HTML object>"
      ]
     },
     "metadata": {},
     "output_type": "display_data"
    },
    {
     "name": "stdout",
     "output_type": "stream",
     "text": [
      "The token has not been saved to the git credentials helper. Pass `add_to_git_credential=True` in this function directly or `--add-to-git-credential` if using via `huggingface-cli` if you want to set the git credential as well.\n",
      "Token is valid (permission: fineGrained).\n",
      "Your token has been saved to C:\\Users\\Nilsu.Sahin\\.cache\\huggingface\\token\n",
      "Login successful\n",
      "Mean Score: 1.0\n"
     ]
    },
    {
     "data": {
      "text/html": [],
      "text/plain": [
       "<IPython.core.display.HTML object>"
      ]
     },
     "metadata": {},
     "output_type": "display_data"
    },
    {
     "data": {
      "text/html": [
       "<br>    <style><br>        .wandb-row {<br>            display: flex;<br>            flex-direction: row;<br>            flex-wrap: wrap;<br>            justify-content: flex-start;<br>            width: 100%;<br>        }<br>        .wandb-col {<br>            display: flex;<br>            flex-direction: column;<br>            flex-basis: 100%;<br>            flex: 1;<br>            padding: 10px;<br>        }<br>    </style><br><div class=\"wandb-row\"><div class=\"wandb-col\"><h3>Run history:</h3><br/><table class=\"wandb\"><tr><td>chunk_overlap</td><td>▁</td></tr><tr><td>chunk_size</td><td>▁</td></tr><tr><td>mean_score</td><td>▁</td></tr><tr><td>temperature</td><td>▁</td></tr><tr><td>top_k</td><td>▁</td></tr></table><br/></div><div class=\"wandb-col\"><h3>Run summary:</h3><br/><table class=\"wandb\"><tr><td>chunk_overlap</td><td>0</td></tr><tr><td>chunk_size</td><td>200</td></tr><tr><td>mean_score</td><td>1</td></tr><tr><td>temperature</td><td>0.69698</td></tr><tr><td>top_k</td><td>1</td></tr></table><br/></div></div>"
      ],
      "text/plain": [
       "<IPython.core.display.HTML object>"
      ]
     },
     "metadata": {},
     "output_type": "display_data"
    },
    {
     "data": {
      "text/html": [
       " View run <strong style=\"color:#cdcd00\">azure-sweep-23</strong> at: <a href='https://wandb.ai/nilsusahin-middle-east-technical-university/rag_basic_experiment/runs/jczb479m' target=\"_blank\">https://wandb.ai/nilsusahin-middle-east-technical-university/rag_basic_experiment/runs/jczb479m</a><br> View project at: <a href='https://wandb.ai/nilsusahin-middle-east-technical-university/rag_basic_experiment' target=\"_blank\">https://wandb.ai/nilsusahin-middle-east-technical-university/rag_basic_experiment</a><br>Synced 5 W&B file(s), 0 media file(s), 0 artifact file(s) and 0 other file(s)"
      ],
      "text/plain": [
       "<IPython.core.display.HTML object>"
      ]
     },
     "metadata": {},
     "output_type": "display_data"
    },
    {
     "data": {
      "text/html": [
       "Find logs at: <code>.\\wandb\\run-20241217_194518-jczb479m\\logs</code>"
      ],
      "text/plain": [
       "<IPython.core.display.HTML object>"
      ]
     },
     "metadata": {},
     "output_type": "display_data"
    },
    {
     "name": "stderr",
     "output_type": "stream",
     "text": [
      "\u001b[34m\u001b[1mwandb\u001b[0m: Agent Starting Run: 62j2vb55 with config:\n",
      "\u001b[34m\u001b[1mwandb\u001b[0m: \tchunk_overlap: 0\n",
      "\u001b[34m\u001b[1mwandb\u001b[0m: \tchunk_size: 100\n",
      "\u001b[34m\u001b[1mwandb\u001b[0m: \ttemperature: 0.7202096295419739\n",
      "\u001b[34m\u001b[1mwandb\u001b[0m: \ttop_k: 6\n"
     ]
    },
    {
     "data": {
      "text/html": [
       "Tracking run with wandb version 0.19.1"
      ],
      "text/plain": [
       "<IPython.core.display.HTML object>"
      ]
     },
     "metadata": {},
     "output_type": "display_data"
    },
    {
     "data": {
      "text/html": [
       "Run data is saved locally in <code>c:\\Users\\Nilsu.Sahin\\Desktop\\ns_trial\\RAG_Model\\wandb\\run-20241217_194539-62j2vb55</code>"
      ],
      "text/plain": [
       "<IPython.core.display.HTML object>"
      ]
     },
     "metadata": {},
     "output_type": "display_data"
    },
    {
     "data": {
      "text/html": [
       "Syncing run <strong><a href='https://wandb.ai/nilsusahin-middle-east-technical-university/rag_basic_experiment/runs/62j2vb55' target=\"_blank\">balmy-sweep-24</a></strong> to <a href='https://wandb.ai/nilsusahin-middle-east-technical-university/rag_basic_experiment' target=\"_blank\">Weights & Biases</a> (<a href='https://wandb.me/developer-guide' target=\"_blank\">docs</a>)<br>Sweep page: <a href='https://wandb.ai/nilsusahin-middle-east-technical-university/rag_basic_experiment/sweeps/12zc357u' target=\"_blank\">https://wandb.ai/nilsusahin-middle-east-technical-university/rag_basic_experiment/sweeps/12zc357u</a>"
      ],
      "text/plain": [
       "<IPython.core.display.HTML object>"
      ]
     },
     "metadata": {},
     "output_type": "display_data"
    },
    {
     "data": {
      "text/html": [
       " View project at <a href='https://wandb.ai/nilsusahin-middle-east-technical-university/rag_basic_experiment' target=\"_blank\">https://wandb.ai/nilsusahin-middle-east-technical-university/rag_basic_experiment</a>"
      ],
      "text/plain": [
       "<IPython.core.display.HTML object>"
      ]
     },
     "metadata": {},
     "output_type": "display_data"
    },
    {
     "data": {
      "text/html": [
       " View sweep at <a href='https://wandb.ai/nilsusahin-middle-east-technical-university/rag_basic_experiment/sweeps/12zc357u' target=\"_blank\">https://wandb.ai/nilsusahin-middle-east-technical-university/rag_basic_experiment/sweeps/12zc357u</a>"
      ],
      "text/plain": [
       "<IPython.core.display.HTML object>"
      ]
     },
     "metadata": {},
     "output_type": "display_data"
    },
    {
     "data": {
      "text/html": [
       " View run at <a href='https://wandb.ai/nilsusahin-middle-east-technical-university/rag_basic_experiment/runs/62j2vb55' target=\"_blank\">https://wandb.ai/nilsusahin-middle-east-technical-university/rag_basic_experiment/runs/62j2vb55</a>"
      ],
      "text/plain": [
       "<IPython.core.display.HTML object>"
      ]
     },
     "metadata": {},
     "output_type": "display_data"
    },
    {
     "name": "stdout",
     "output_type": "stream",
     "text": [
      "The token has not been saved to the git credentials helper. Pass `add_to_git_credential=True` in this function directly or `--add-to-git-credential` if using via `huggingface-cli` if you want to set the git credential as well.\n",
      "Token is valid (permission: fineGrained).\n",
      "Your token has been saved to C:\\Users\\Nilsu.Sahin\\.cache\\huggingface\\token\n",
      "Login successful\n",
      "Mean Score: 1.0\n"
     ]
    },
    {
     "data": {
      "text/html": [],
      "text/plain": [
       "<IPython.core.display.HTML object>"
      ]
     },
     "metadata": {},
     "output_type": "display_data"
    },
    {
     "data": {
      "text/html": [
       "<br>    <style><br>        .wandb-row {<br>            display: flex;<br>            flex-direction: row;<br>            flex-wrap: wrap;<br>            justify-content: flex-start;<br>            width: 100%;<br>        }<br>        .wandb-col {<br>            display: flex;<br>            flex-direction: column;<br>            flex-basis: 100%;<br>            flex: 1;<br>            padding: 10px;<br>        }<br>    </style><br><div class=\"wandb-row\"><div class=\"wandb-col\"><h3>Run history:</h3><br/><table class=\"wandb\"><tr><td>chunk_overlap</td><td>▁</td></tr><tr><td>chunk_size</td><td>▁</td></tr><tr><td>mean_score</td><td>▁</td></tr><tr><td>temperature</td><td>▁</td></tr><tr><td>top_k</td><td>▁</td></tr></table><br/></div><div class=\"wandb-col\"><h3>Run summary:</h3><br/><table class=\"wandb\"><tr><td>chunk_overlap</td><td>0</td></tr><tr><td>chunk_size</td><td>100</td></tr><tr><td>mean_score</td><td>1</td></tr><tr><td>temperature</td><td>0.72021</td></tr><tr><td>top_k</td><td>6</td></tr></table><br/></div></div>"
      ],
      "text/plain": [
       "<IPython.core.display.HTML object>"
      ]
     },
     "metadata": {},
     "output_type": "display_data"
    },
    {
     "data": {
      "text/html": [
       " View run <strong style=\"color:#cdcd00\">balmy-sweep-24</strong> at: <a href='https://wandb.ai/nilsusahin-middle-east-technical-university/rag_basic_experiment/runs/62j2vb55' target=\"_blank\">https://wandb.ai/nilsusahin-middle-east-technical-university/rag_basic_experiment/runs/62j2vb55</a><br> View project at: <a href='https://wandb.ai/nilsusahin-middle-east-technical-university/rag_basic_experiment' target=\"_blank\">https://wandb.ai/nilsusahin-middle-east-technical-university/rag_basic_experiment</a><br>Synced 5 W&B file(s), 0 media file(s), 0 artifact file(s) and 0 other file(s)"
      ],
      "text/plain": [
       "<IPython.core.display.HTML object>"
      ]
     },
     "metadata": {},
     "output_type": "display_data"
    },
    {
     "data": {
      "text/html": [
       "Find logs at: <code>.\\wandb\\run-20241217_194539-62j2vb55\\logs</code>"
      ],
      "text/plain": [
       "<IPython.core.display.HTML object>"
      ]
     },
     "metadata": {},
     "output_type": "display_data"
    },
    {
     "name": "stderr",
     "output_type": "stream",
     "text": [
      "\u001b[34m\u001b[1mwandb\u001b[0m: Agent Starting Run: tbs10q7m with config:\n",
      "\u001b[34m\u001b[1mwandb\u001b[0m: \tchunk_overlap: 50\n",
      "\u001b[34m\u001b[1mwandb\u001b[0m: \tchunk_size: 100\n",
      "\u001b[34m\u001b[1mwandb\u001b[0m: \ttemperature: 0.6367249480418253\n",
      "\u001b[34m\u001b[1mwandb\u001b[0m: \ttop_k: 7\n"
     ]
    },
    {
     "data": {
      "text/html": [
       "Tracking run with wandb version 0.19.1"
      ],
      "text/plain": [
       "<IPython.core.display.HTML object>"
      ]
     },
     "metadata": {},
     "output_type": "display_data"
    },
    {
     "data": {
      "text/html": [
       "Run data is saved locally in <code>c:\\Users\\Nilsu.Sahin\\Desktop\\ns_trial\\RAG_Model\\wandb\\run-20241217_194611-tbs10q7m</code>"
      ],
      "text/plain": [
       "<IPython.core.display.HTML object>"
      ]
     },
     "metadata": {},
     "output_type": "display_data"
    },
    {
     "data": {
      "text/html": [
       "Syncing run <strong><a href='https://wandb.ai/nilsusahin-middle-east-technical-university/rag_basic_experiment/runs/tbs10q7m' target=\"_blank\">super-sweep-25</a></strong> to <a href='https://wandb.ai/nilsusahin-middle-east-technical-university/rag_basic_experiment' target=\"_blank\">Weights & Biases</a> (<a href='https://wandb.me/developer-guide' target=\"_blank\">docs</a>)<br>Sweep page: <a href='https://wandb.ai/nilsusahin-middle-east-technical-university/rag_basic_experiment/sweeps/12zc357u' target=\"_blank\">https://wandb.ai/nilsusahin-middle-east-technical-university/rag_basic_experiment/sweeps/12zc357u</a>"
      ],
      "text/plain": [
       "<IPython.core.display.HTML object>"
      ]
     },
     "metadata": {},
     "output_type": "display_data"
    },
    {
     "data": {
      "text/html": [
       " View project at <a href='https://wandb.ai/nilsusahin-middle-east-technical-university/rag_basic_experiment' target=\"_blank\">https://wandb.ai/nilsusahin-middle-east-technical-university/rag_basic_experiment</a>"
      ],
      "text/plain": [
       "<IPython.core.display.HTML object>"
      ]
     },
     "metadata": {},
     "output_type": "display_data"
    },
    {
     "data": {
      "text/html": [
       " View sweep at <a href='https://wandb.ai/nilsusahin-middle-east-technical-university/rag_basic_experiment/sweeps/12zc357u' target=\"_blank\">https://wandb.ai/nilsusahin-middle-east-technical-university/rag_basic_experiment/sweeps/12zc357u</a>"
      ],
      "text/plain": [
       "<IPython.core.display.HTML object>"
      ]
     },
     "metadata": {},
     "output_type": "display_data"
    },
    {
     "data": {
      "text/html": [
       " View run at <a href='https://wandb.ai/nilsusahin-middle-east-technical-university/rag_basic_experiment/runs/tbs10q7m' target=\"_blank\">https://wandb.ai/nilsusahin-middle-east-technical-university/rag_basic_experiment/runs/tbs10q7m</a>"
      ],
      "text/plain": [
       "<IPython.core.display.HTML object>"
      ]
     },
     "metadata": {},
     "output_type": "display_data"
    },
    {
     "name": "stdout",
     "output_type": "stream",
     "text": [
      "The token has not been saved to the git credentials helper. Pass `add_to_git_credential=True` in this function directly or `--add-to-git-credential` if using via `huggingface-cli` if you want to set the git credential as well.\n",
      "Token is valid (permission: fineGrained).\n",
      "Your token has been saved to C:\\Users\\Nilsu.Sahin\\.cache\\huggingface\\token\n",
      "Login successful\n",
      "Mean Score: 1.0\n"
     ]
    },
    {
     "data": {
      "text/html": [],
      "text/plain": [
       "<IPython.core.display.HTML object>"
      ]
     },
     "metadata": {},
     "output_type": "display_data"
    },
    {
     "data": {
      "text/html": [
       "<br>    <style><br>        .wandb-row {<br>            display: flex;<br>            flex-direction: row;<br>            flex-wrap: wrap;<br>            justify-content: flex-start;<br>            width: 100%;<br>        }<br>        .wandb-col {<br>            display: flex;<br>            flex-direction: column;<br>            flex-basis: 100%;<br>            flex: 1;<br>            padding: 10px;<br>        }<br>    </style><br><div class=\"wandb-row\"><div class=\"wandb-col\"><h3>Run history:</h3><br/><table class=\"wandb\"><tr><td>chunk_overlap</td><td>▁</td></tr><tr><td>chunk_size</td><td>▁</td></tr><tr><td>mean_score</td><td>▁</td></tr><tr><td>temperature</td><td>▁</td></tr><tr><td>top_k</td><td>▁</td></tr></table><br/></div><div class=\"wandb-col\"><h3>Run summary:</h3><br/><table class=\"wandb\"><tr><td>chunk_overlap</td><td>50</td></tr><tr><td>chunk_size</td><td>100</td></tr><tr><td>mean_score</td><td>1</td></tr><tr><td>temperature</td><td>0.63672</td></tr><tr><td>top_k</td><td>7</td></tr></table><br/></div></div>"
      ],
      "text/plain": [
       "<IPython.core.display.HTML object>"
      ]
     },
     "metadata": {},
     "output_type": "display_data"
    },
    {
     "data": {
      "text/html": [
       " View run <strong style=\"color:#cdcd00\">super-sweep-25</strong> at: <a href='https://wandb.ai/nilsusahin-middle-east-technical-university/rag_basic_experiment/runs/tbs10q7m' target=\"_blank\">https://wandb.ai/nilsusahin-middle-east-technical-university/rag_basic_experiment/runs/tbs10q7m</a><br> View project at: <a href='https://wandb.ai/nilsusahin-middle-east-technical-university/rag_basic_experiment' target=\"_blank\">https://wandb.ai/nilsusahin-middle-east-technical-university/rag_basic_experiment</a><br>Synced 5 W&B file(s), 0 media file(s), 0 artifact file(s) and 0 other file(s)"
      ],
      "text/plain": [
       "<IPython.core.display.HTML object>"
      ]
     },
     "metadata": {},
     "output_type": "display_data"
    },
    {
     "data": {
      "text/html": [
       "Find logs at: <code>.\\wandb\\run-20241217_194611-tbs10q7m\\logs</code>"
      ],
      "text/plain": [
       "<IPython.core.display.HTML object>"
      ]
     },
     "metadata": {},
     "output_type": "display_data"
    },
    {
     "name": "stderr",
     "output_type": "stream",
     "text": [
      "\u001b[34m\u001b[1mwandb\u001b[0m: Agent Starting Run: sca7c8t8 with config:\n",
      "\u001b[34m\u001b[1mwandb\u001b[0m: \tchunk_overlap: 50\n",
      "\u001b[34m\u001b[1mwandb\u001b[0m: \tchunk_size: 200\n",
      "\u001b[34m\u001b[1mwandb\u001b[0m: \ttemperature: 0.3409157697344899\n",
      "\u001b[34m\u001b[1mwandb\u001b[0m: \ttop_k: 8\n"
     ]
    },
    {
     "data": {
      "text/html": [
       "Tracking run with wandb version 0.19.1"
      ],
      "text/plain": [
       "<IPython.core.display.HTML object>"
      ]
     },
     "metadata": {},
     "output_type": "display_data"
    },
    {
     "data": {
      "text/html": [
       "Run data is saved locally in <code>c:\\Users\\Nilsu.Sahin\\Desktop\\ns_trial\\RAG_Model\\wandb\\run-20241217_194643-sca7c8t8</code>"
      ],
      "text/plain": [
       "<IPython.core.display.HTML object>"
      ]
     },
     "metadata": {},
     "output_type": "display_data"
    },
    {
     "data": {
      "text/html": [
       "Syncing run <strong><a href='https://wandb.ai/nilsusahin-middle-east-technical-university/rag_basic_experiment/runs/sca7c8t8' target=\"_blank\">lilac-sweep-26</a></strong> to <a href='https://wandb.ai/nilsusahin-middle-east-technical-university/rag_basic_experiment' target=\"_blank\">Weights & Biases</a> (<a href='https://wandb.me/developer-guide' target=\"_blank\">docs</a>)<br>Sweep page: <a href='https://wandb.ai/nilsusahin-middle-east-technical-university/rag_basic_experiment/sweeps/12zc357u' target=\"_blank\">https://wandb.ai/nilsusahin-middle-east-technical-university/rag_basic_experiment/sweeps/12zc357u</a>"
      ],
      "text/plain": [
       "<IPython.core.display.HTML object>"
      ]
     },
     "metadata": {},
     "output_type": "display_data"
    },
    {
     "data": {
      "text/html": [
       " View project at <a href='https://wandb.ai/nilsusahin-middle-east-technical-university/rag_basic_experiment' target=\"_blank\">https://wandb.ai/nilsusahin-middle-east-technical-university/rag_basic_experiment</a>"
      ],
      "text/plain": [
       "<IPython.core.display.HTML object>"
      ]
     },
     "metadata": {},
     "output_type": "display_data"
    },
    {
     "data": {
      "text/html": [
       " View sweep at <a href='https://wandb.ai/nilsusahin-middle-east-technical-university/rag_basic_experiment/sweeps/12zc357u' target=\"_blank\">https://wandb.ai/nilsusahin-middle-east-technical-university/rag_basic_experiment/sweeps/12zc357u</a>"
      ],
      "text/plain": [
       "<IPython.core.display.HTML object>"
      ]
     },
     "metadata": {},
     "output_type": "display_data"
    },
    {
     "data": {
      "text/html": [
       " View run at <a href='https://wandb.ai/nilsusahin-middle-east-technical-university/rag_basic_experiment/runs/sca7c8t8' target=\"_blank\">https://wandb.ai/nilsusahin-middle-east-technical-university/rag_basic_experiment/runs/sca7c8t8</a>"
      ],
      "text/plain": [
       "<IPython.core.display.HTML object>"
      ]
     },
     "metadata": {},
     "output_type": "display_data"
    },
    {
     "name": "stdout",
     "output_type": "stream",
     "text": [
      "The token has not been saved to the git credentials helper. Pass `add_to_git_credential=True` in this function directly or `--add-to-git-credential` if using via `huggingface-cli` if you want to set the git credential as well.\n",
      "Token is valid (permission: fineGrained).\n",
      "Your token has been saved to C:\\Users\\Nilsu.Sahin\\.cache\\huggingface\\token\n",
      "Login successful\n",
      "Mean Score: 0.75\n"
     ]
    },
    {
     "data": {
      "text/html": [],
      "text/plain": [
       "<IPython.core.display.HTML object>"
      ]
     },
     "metadata": {},
     "output_type": "display_data"
    },
    {
     "data": {
      "text/html": [
       "<br>    <style><br>        .wandb-row {<br>            display: flex;<br>            flex-direction: row;<br>            flex-wrap: wrap;<br>            justify-content: flex-start;<br>            width: 100%;<br>        }<br>        .wandb-col {<br>            display: flex;<br>            flex-direction: column;<br>            flex-basis: 100%;<br>            flex: 1;<br>            padding: 10px;<br>        }<br>    </style><br><div class=\"wandb-row\"><div class=\"wandb-col\"><h3>Run history:</h3><br/><table class=\"wandb\"><tr><td>chunk_overlap</td><td>▁</td></tr><tr><td>chunk_size</td><td>▁</td></tr><tr><td>mean_score</td><td>▁</td></tr><tr><td>temperature</td><td>▁</td></tr><tr><td>top_k</td><td>▁</td></tr></table><br/></div><div class=\"wandb-col\"><h3>Run summary:</h3><br/><table class=\"wandb\"><tr><td>chunk_overlap</td><td>50</td></tr><tr><td>chunk_size</td><td>200</td></tr><tr><td>mean_score</td><td>0.75</td></tr><tr><td>temperature</td><td>0.34092</td></tr><tr><td>top_k</td><td>8</td></tr></table><br/></div></div>"
      ],
      "text/plain": [
       "<IPython.core.display.HTML object>"
      ]
     },
     "metadata": {},
     "output_type": "display_data"
    },
    {
     "data": {
      "text/html": [
       " View run <strong style=\"color:#cdcd00\">lilac-sweep-26</strong> at: <a href='https://wandb.ai/nilsusahin-middle-east-technical-university/rag_basic_experiment/runs/sca7c8t8' target=\"_blank\">https://wandb.ai/nilsusahin-middle-east-technical-university/rag_basic_experiment/runs/sca7c8t8</a><br> View project at: <a href='https://wandb.ai/nilsusahin-middle-east-technical-university/rag_basic_experiment' target=\"_blank\">https://wandb.ai/nilsusahin-middle-east-technical-university/rag_basic_experiment</a><br>Synced 5 W&B file(s), 0 media file(s), 0 artifact file(s) and 0 other file(s)"
      ],
      "text/plain": [
       "<IPython.core.display.HTML object>"
      ]
     },
     "metadata": {},
     "output_type": "display_data"
    },
    {
     "data": {
      "text/html": [
       "Find logs at: <code>.\\wandb\\run-20241217_194643-sca7c8t8\\logs</code>"
      ],
      "text/plain": [
       "<IPython.core.display.HTML object>"
      ]
     },
     "metadata": {},
     "output_type": "display_data"
    },
    {
     "name": "stderr",
     "output_type": "stream",
     "text": [
      "\u001b[34m\u001b[1mwandb\u001b[0m: Agent Starting Run: fgnv17l9 with config:\n",
      "\u001b[34m\u001b[1mwandb\u001b[0m: \tchunk_overlap: 0\n",
      "\u001b[34m\u001b[1mwandb\u001b[0m: \tchunk_size: 100\n",
      "\u001b[34m\u001b[1mwandb\u001b[0m: \ttemperature: 0.6120925567499464\n",
      "\u001b[34m\u001b[1mwandb\u001b[0m: \ttop_k: 6\n"
     ]
    },
    {
     "data": {
      "text/html": [
       "Tracking run with wandb version 0.19.1"
      ],
      "text/plain": [
       "<IPython.core.display.HTML object>"
      ]
     },
     "metadata": {},
     "output_type": "display_data"
    },
    {
     "data": {
      "text/html": [
       "Run data is saved locally in <code>c:\\Users\\Nilsu.Sahin\\Desktop\\ns_trial\\RAG_Model\\wandb\\run-20241217_194751-fgnv17l9</code>"
      ],
      "text/plain": [
       "<IPython.core.display.HTML object>"
      ]
     },
     "metadata": {},
     "output_type": "display_data"
    },
    {
     "data": {
      "text/html": [
       "Syncing run <strong><a href='https://wandb.ai/nilsusahin-middle-east-technical-university/rag_basic_experiment/runs/fgnv17l9' target=\"_blank\">comfy-sweep-27</a></strong> to <a href='https://wandb.ai/nilsusahin-middle-east-technical-university/rag_basic_experiment' target=\"_blank\">Weights & Biases</a> (<a href='https://wandb.me/developer-guide' target=\"_blank\">docs</a>)<br>Sweep page: <a href='https://wandb.ai/nilsusahin-middle-east-technical-university/rag_basic_experiment/sweeps/12zc357u' target=\"_blank\">https://wandb.ai/nilsusahin-middle-east-technical-university/rag_basic_experiment/sweeps/12zc357u</a>"
      ],
      "text/plain": [
       "<IPython.core.display.HTML object>"
      ]
     },
     "metadata": {},
     "output_type": "display_data"
    },
    {
     "data": {
      "text/html": [
       " View project at <a href='https://wandb.ai/nilsusahin-middle-east-technical-university/rag_basic_experiment' target=\"_blank\">https://wandb.ai/nilsusahin-middle-east-technical-university/rag_basic_experiment</a>"
      ],
      "text/plain": [
       "<IPython.core.display.HTML object>"
      ]
     },
     "metadata": {},
     "output_type": "display_data"
    },
    {
     "data": {
      "text/html": [
       " View sweep at <a href='https://wandb.ai/nilsusahin-middle-east-technical-university/rag_basic_experiment/sweeps/12zc357u' target=\"_blank\">https://wandb.ai/nilsusahin-middle-east-technical-university/rag_basic_experiment/sweeps/12zc357u</a>"
      ],
      "text/plain": [
       "<IPython.core.display.HTML object>"
      ]
     },
     "metadata": {},
     "output_type": "display_data"
    },
    {
     "data": {
      "text/html": [
       " View run at <a href='https://wandb.ai/nilsusahin-middle-east-technical-university/rag_basic_experiment/runs/fgnv17l9' target=\"_blank\">https://wandb.ai/nilsusahin-middle-east-technical-university/rag_basic_experiment/runs/fgnv17l9</a>"
      ],
      "text/plain": [
       "<IPython.core.display.HTML object>"
      ]
     },
     "metadata": {},
     "output_type": "display_data"
    },
    {
     "name": "stdout",
     "output_type": "stream",
     "text": [
      "The token has not been saved to the git credentials helper. Pass `add_to_git_credential=True` in this function directly or `--add-to-git-credential` if using via `huggingface-cli` if you want to set the git credential as well.\n",
      "Token is valid (permission: fineGrained).\n",
      "Your token has been saved to C:\\Users\\Nilsu.Sahin\\.cache\\huggingface\\token\n",
      "Login successful\n",
      "Mean Score: 1.0\n"
     ]
    },
    {
     "data": {
      "text/html": [],
      "text/plain": [
       "<IPython.core.display.HTML object>"
      ]
     },
     "metadata": {},
     "output_type": "display_data"
    },
    {
     "data": {
      "text/html": [
       "<br>    <style><br>        .wandb-row {<br>            display: flex;<br>            flex-direction: row;<br>            flex-wrap: wrap;<br>            justify-content: flex-start;<br>            width: 100%;<br>        }<br>        .wandb-col {<br>            display: flex;<br>            flex-direction: column;<br>            flex-basis: 100%;<br>            flex: 1;<br>            padding: 10px;<br>        }<br>    </style><br><div class=\"wandb-row\"><div class=\"wandb-col\"><h3>Run history:</h3><br/><table class=\"wandb\"><tr><td>chunk_overlap</td><td>▁</td></tr><tr><td>chunk_size</td><td>▁</td></tr><tr><td>mean_score</td><td>▁</td></tr><tr><td>temperature</td><td>▁</td></tr><tr><td>top_k</td><td>▁</td></tr></table><br/></div><div class=\"wandb-col\"><h3>Run summary:</h3><br/><table class=\"wandb\"><tr><td>chunk_overlap</td><td>0</td></tr><tr><td>chunk_size</td><td>100</td></tr><tr><td>mean_score</td><td>1</td></tr><tr><td>temperature</td><td>0.61209</td></tr><tr><td>top_k</td><td>6</td></tr></table><br/></div></div>"
      ],
      "text/plain": [
       "<IPython.core.display.HTML object>"
      ]
     },
     "metadata": {},
     "output_type": "display_data"
    },
    {
     "data": {
      "text/html": [
       " View run <strong style=\"color:#cdcd00\">comfy-sweep-27</strong> at: <a href='https://wandb.ai/nilsusahin-middle-east-technical-university/rag_basic_experiment/runs/fgnv17l9' target=\"_blank\">https://wandb.ai/nilsusahin-middle-east-technical-university/rag_basic_experiment/runs/fgnv17l9</a><br> View project at: <a href='https://wandb.ai/nilsusahin-middle-east-technical-university/rag_basic_experiment' target=\"_blank\">https://wandb.ai/nilsusahin-middle-east-technical-university/rag_basic_experiment</a><br>Synced 5 W&B file(s), 0 media file(s), 0 artifact file(s) and 0 other file(s)"
      ],
      "text/plain": [
       "<IPython.core.display.HTML object>"
      ]
     },
     "metadata": {},
     "output_type": "display_data"
    },
    {
     "data": {
      "text/html": [
       "Find logs at: <code>.\\wandb\\run-20241217_194751-fgnv17l9\\logs</code>"
      ],
      "text/plain": [
       "<IPython.core.display.HTML object>"
      ]
     },
     "metadata": {},
     "output_type": "display_data"
    },
    {
     "name": "stderr",
     "output_type": "stream",
     "text": [
      "\u001b[34m\u001b[1mwandb\u001b[0m: Agent Starting Run: ab7r9a5g with config:\n",
      "\u001b[34m\u001b[1mwandb\u001b[0m: \tchunk_overlap: 50\n",
      "\u001b[34m\u001b[1mwandb\u001b[0m: \tchunk_size: 100\n",
      "\u001b[34m\u001b[1mwandb\u001b[0m: \ttemperature: 0.9395947053064342\n",
      "\u001b[34m\u001b[1mwandb\u001b[0m: \ttop_k: 6\n"
     ]
    },
    {
     "data": {
      "text/html": [
       "Tracking run with wandb version 0.19.1"
      ],
      "text/plain": [
       "<IPython.core.display.HTML object>"
      ]
     },
     "metadata": {},
     "output_type": "display_data"
    },
    {
     "data": {
      "text/html": [
       "Run data is saved locally in <code>c:\\Users\\Nilsu.Sahin\\Desktop\\ns_trial\\RAG_Model\\wandb\\run-20241217_194817-ab7r9a5g</code>"
      ],
      "text/plain": [
       "<IPython.core.display.HTML object>"
      ]
     },
     "metadata": {},
     "output_type": "display_data"
    },
    {
     "data": {
      "text/html": [
       "Syncing run <strong><a href='https://wandb.ai/nilsusahin-middle-east-technical-university/rag_basic_experiment/runs/ab7r9a5g' target=\"_blank\">vague-sweep-28</a></strong> to <a href='https://wandb.ai/nilsusahin-middle-east-technical-university/rag_basic_experiment' target=\"_blank\">Weights & Biases</a> (<a href='https://wandb.me/developer-guide' target=\"_blank\">docs</a>)<br>Sweep page: <a href='https://wandb.ai/nilsusahin-middle-east-technical-university/rag_basic_experiment/sweeps/12zc357u' target=\"_blank\">https://wandb.ai/nilsusahin-middle-east-technical-university/rag_basic_experiment/sweeps/12zc357u</a>"
      ],
      "text/plain": [
       "<IPython.core.display.HTML object>"
      ]
     },
     "metadata": {},
     "output_type": "display_data"
    },
    {
     "data": {
      "text/html": [
       " View project at <a href='https://wandb.ai/nilsusahin-middle-east-technical-university/rag_basic_experiment' target=\"_blank\">https://wandb.ai/nilsusahin-middle-east-technical-university/rag_basic_experiment</a>"
      ],
      "text/plain": [
       "<IPython.core.display.HTML object>"
      ]
     },
     "metadata": {},
     "output_type": "display_data"
    },
    {
     "data": {
      "text/html": [
       " View sweep at <a href='https://wandb.ai/nilsusahin-middle-east-technical-university/rag_basic_experiment/sweeps/12zc357u' target=\"_blank\">https://wandb.ai/nilsusahin-middle-east-technical-university/rag_basic_experiment/sweeps/12zc357u</a>"
      ],
      "text/plain": [
       "<IPython.core.display.HTML object>"
      ]
     },
     "metadata": {},
     "output_type": "display_data"
    },
    {
     "data": {
      "text/html": [
       " View run at <a href='https://wandb.ai/nilsusahin-middle-east-technical-university/rag_basic_experiment/runs/ab7r9a5g' target=\"_blank\">https://wandb.ai/nilsusahin-middle-east-technical-university/rag_basic_experiment/runs/ab7r9a5g</a>"
      ],
      "text/plain": [
       "<IPython.core.display.HTML object>"
      ]
     },
     "metadata": {},
     "output_type": "display_data"
    },
    {
     "name": "stdout",
     "output_type": "stream",
     "text": [
      "The token has not been saved to the git credentials helper. Pass `add_to_git_credential=True` in this function directly or `--add-to-git-credential` if using via `huggingface-cli` if you want to set the git credential as well.\n",
      "Token is valid (permission: fineGrained).\n",
      "Your token has been saved to C:\\Users\\Nilsu.Sahin\\.cache\\huggingface\\token\n",
      "Login successful\n",
      "Mean Score: 1.0\n"
     ]
    },
    {
     "data": {
      "text/html": [],
      "text/plain": [
       "<IPython.core.display.HTML object>"
      ]
     },
     "metadata": {},
     "output_type": "display_data"
    },
    {
     "data": {
      "text/html": [
       "<br>    <style><br>        .wandb-row {<br>            display: flex;<br>            flex-direction: row;<br>            flex-wrap: wrap;<br>            justify-content: flex-start;<br>            width: 100%;<br>        }<br>        .wandb-col {<br>            display: flex;<br>            flex-direction: column;<br>            flex-basis: 100%;<br>            flex: 1;<br>            padding: 10px;<br>        }<br>    </style><br><div class=\"wandb-row\"><div class=\"wandb-col\"><h3>Run history:</h3><br/><table class=\"wandb\"><tr><td>chunk_overlap</td><td>▁</td></tr><tr><td>chunk_size</td><td>▁</td></tr><tr><td>mean_score</td><td>▁</td></tr><tr><td>temperature</td><td>▁</td></tr><tr><td>top_k</td><td>▁</td></tr></table><br/></div><div class=\"wandb-col\"><h3>Run summary:</h3><br/><table class=\"wandb\"><tr><td>chunk_overlap</td><td>50</td></tr><tr><td>chunk_size</td><td>100</td></tr><tr><td>mean_score</td><td>1</td></tr><tr><td>temperature</td><td>0.93959</td></tr><tr><td>top_k</td><td>6</td></tr></table><br/></div></div>"
      ],
      "text/plain": [
       "<IPython.core.display.HTML object>"
      ]
     },
     "metadata": {},
     "output_type": "display_data"
    },
    {
     "data": {
      "text/html": [
       " View run <strong style=\"color:#cdcd00\">vague-sweep-28</strong> at: <a href='https://wandb.ai/nilsusahin-middle-east-technical-university/rag_basic_experiment/runs/ab7r9a5g' target=\"_blank\">https://wandb.ai/nilsusahin-middle-east-technical-university/rag_basic_experiment/runs/ab7r9a5g</a><br> View project at: <a href='https://wandb.ai/nilsusahin-middle-east-technical-university/rag_basic_experiment' target=\"_blank\">https://wandb.ai/nilsusahin-middle-east-technical-university/rag_basic_experiment</a><br>Synced 5 W&B file(s), 0 media file(s), 0 artifact file(s) and 0 other file(s)"
      ],
      "text/plain": [
       "<IPython.core.display.HTML object>"
      ]
     },
     "metadata": {},
     "output_type": "display_data"
    },
    {
     "data": {
      "text/html": [
       "Find logs at: <code>.\\wandb\\run-20241217_194817-ab7r9a5g\\logs</code>"
      ],
      "text/plain": [
       "<IPython.core.display.HTML object>"
      ]
     },
     "metadata": {},
     "output_type": "display_data"
    },
    {
     "name": "stderr",
     "output_type": "stream",
     "text": [
      "\u001b[34m\u001b[1mwandb\u001b[0m: Agent Starting Run: sokxi4mh with config:\n",
      "\u001b[34m\u001b[1mwandb\u001b[0m: \tchunk_overlap: 0\n",
      "\u001b[34m\u001b[1mwandb\u001b[0m: \tchunk_size: 100\n",
      "\u001b[34m\u001b[1mwandb\u001b[0m: \ttemperature: 0.7065127967876655\n",
      "\u001b[34m\u001b[1mwandb\u001b[0m: \ttop_k: 6\n"
     ]
    },
    {
     "data": {
      "text/html": [
       "Tracking run with wandb version 0.19.1"
      ],
      "text/plain": [
       "<IPython.core.display.HTML object>"
      ]
     },
     "metadata": {},
     "output_type": "display_data"
    },
    {
     "data": {
      "text/html": [
       "Run data is saved locally in <code>c:\\Users\\Nilsu.Sahin\\Desktop\\ns_trial\\RAG_Model\\wandb\\run-20241217_194843-sokxi4mh</code>"
      ],
      "text/plain": [
       "<IPython.core.display.HTML object>"
      ]
     },
     "metadata": {},
     "output_type": "display_data"
    },
    {
     "data": {
      "text/html": [
       "Syncing run <strong><a href='https://wandb.ai/nilsusahin-middle-east-technical-university/rag_basic_experiment/runs/sokxi4mh' target=\"_blank\">vocal-sweep-29</a></strong> to <a href='https://wandb.ai/nilsusahin-middle-east-technical-university/rag_basic_experiment' target=\"_blank\">Weights & Biases</a> (<a href='https://wandb.me/developer-guide' target=\"_blank\">docs</a>)<br>Sweep page: <a href='https://wandb.ai/nilsusahin-middle-east-technical-university/rag_basic_experiment/sweeps/12zc357u' target=\"_blank\">https://wandb.ai/nilsusahin-middle-east-technical-university/rag_basic_experiment/sweeps/12zc357u</a>"
      ],
      "text/plain": [
       "<IPython.core.display.HTML object>"
      ]
     },
     "metadata": {},
     "output_type": "display_data"
    },
    {
     "data": {
      "text/html": [
       " View project at <a href='https://wandb.ai/nilsusahin-middle-east-technical-university/rag_basic_experiment' target=\"_blank\">https://wandb.ai/nilsusahin-middle-east-technical-university/rag_basic_experiment</a>"
      ],
      "text/plain": [
       "<IPython.core.display.HTML object>"
      ]
     },
     "metadata": {},
     "output_type": "display_data"
    },
    {
     "data": {
      "text/html": [
       " View sweep at <a href='https://wandb.ai/nilsusahin-middle-east-technical-university/rag_basic_experiment/sweeps/12zc357u' target=\"_blank\">https://wandb.ai/nilsusahin-middle-east-technical-university/rag_basic_experiment/sweeps/12zc357u</a>"
      ],
      "text/plain": [
       "<IPython.core.display.HTML object>"
      ]
     },
     "metadata": {},
     "output_type": "display_data"
    },
    {
     "data": {
      "text/html": [
       " View run at <a href='https://wandb.ai/nilsusahin-middle-east-technical-university/rag_basic_experiment/runs/sokxi4mh' target=\"_blank\">https://wandb.ai/nilsusahin-middle-east-technical-university/rag_basic_experiment/runs/sokxi4mh</a>"
      ],
      "text/plain": [
       "<IPython.core.display.HTML object>"
      ]
     },
     "metadata": {},
     "output_type": "display_data"
    },
    {
     "name": "stdout",
     "output_type": "stream",
     "text": [
      "The token has not been saved to the git credentials helper. Pass `add_to_git_credential=True` in this function directly or `--add-to-git-credential` if using via `huggingface-cli` if you want to set the git credential as well.\n",
      "Token is valid (permission: fineGrained).\n",
      "Your token has been saved to C:\\Users\\Nilsu.Sahin\\.cache\\huggingface\\token\n",
      "Login successful\n",
      "Mean Score: 1.0\n"
     ]
    },
    {
     "data": {
      "text/html": [],
      "text/plain": [
       "<IPython.core.display.HTML object>"
      ]
     },
     "metadata": {},
     "output_type": "display_data"
    },
    {
     "data": {
      "text/html": [
       "<br>    <style><br>        .wandb-row {<br>            display: flex;<br>            flex-direction: row;<br>            flex-wrap: wrap;<br>            justify-content: flex-start;<br>            width: 100%;<br>        }<br>        .wandb-col {<br>            display: flex;<br>            flex-direction: column;<br>            flex-basis: 100%;<br>            flex: 1;<br>            padding: 10px;<br>        }<br>    </style><br><div class=\"wandb-row\"><div class=\"wandb-col\"><h3>Run history:</h3><br/><table class=\"wandb\"><tr><td>chunk_overlap</td><td>▁</td></tr><tr><td>chunk_size</td><td>▁</td></tr><tr><td>mean_score</td><td>▁</td></tr><tr><td>temperature</td><td>▁</td></tr><tr><td>top_k</td><td>▁</td></tr></table><br/></div><div class=\"wandb-col\"><h3>Run summary:</h3><br/><table class=\"wandb\"><tr><td>chunk_overlap</td><td>0</td></tr><tr><td>chunk_size</td><td>100</td></tr><tr><td>mean_score</td><td>1</td></tr><tr><td>temperature</td><td>0.70651</td></tr><tr><td>top_k</td><td>6</td></tr></table><br/></div></div>"
      ],
      "text/plain": [
       "<IPython.core.display.HTML object>"
      ]
     },
     "metadata": {},
     "output_type": "display_data"
    },
    {
     "data": {
      "text/html": [
       " View run <strong style=\"color:#cdcd00\">vocal-sweep-29</strong> at: <a href='https://wandb.ai/nilsusahin-middle-east-technical-university/rag_basic_experiment/runs/sokxi4mh' target=\"_blank\">https://wandb.ai/nilsusahin-middle-east-technical-university/rag_basic_experiment/runs/sokxi4mh</a><br> View project at: <a href='https://wandb.ai/nilsusahin-middle-east-technical-university/rag_basic_experiment' target=\"_blank\">https://wandb.ai/nilsusahin-middle-east-technical-university/rag_basic_experiment</a><br>Synced 5 W&B file(s), 0 media file(s), 0 artifact file(s) and 0 other file(s)"
      ],
      "text/plain": [
       "<IPython.core.display.HTML object>"
      ]
     },
     "metadata": {},
     "output_type": "display_data"
    },
    {
     "data": {
      "text/html": [
       "Find logs at: <code>.\\wandb\\run-20241217_194843-sokxi4mh\\logs</code>"
      ],
      "text/plain": [
       "<IPython.core.display.HTML object>"
      ]
     },
     "metadata": {},
     "output_type": "display_data"
    },
    {
     "name": "stderr",
     "output_type": "stream",
     "text": [
      "\u001b[34m\u001b[1mwandb\u001b[0m: Agent Starting Run: 4kwpt2i9 with config:\n",
      "\u001b[34m\u001b[1mwandb\u001b[0m: \tchunk_overlap: 50\n",
      "\u001b[34m\u001b[1mwandb\u001b[0m: \tchunk_size: 100\n",
      "\u001b[34m\u001b[1mwandb\u001b[0m: \ttemperature: 0.5402881733800723\n",
      "\u001b[34m\u001b[1mwandb\u001b[0m: \ttop_k: 6\n"
     ]
    },
    {
     "data": {
      "text/html": [
       "Tracking run with wandb version 0.19.1"
      ],
      "text/plain": [
       "<IPython.core.display.HTML object>"
      ]
     },
     "metadata": {},
     "output_type": "display_data"
    },
    {
     "data": {
      "text/html": [
       "Run data is saved locally in <code>c:\\Users\\Nilsu.Sahin\\Desktop\\ns_trial\\RAG_Model\\wandb\\run-20241217_195002-4kwpt2i9</code>"
      ],
      "text/plain": [
       "<IPython.core.display.HTML object>"
      ]
     },
     "metadata": {},
     "output_type": "display_data"
    },
    {
     "data": {
      "text/html": [
       "Syncing run <strong><a href='https://wandb.ai/nilsusahin-middle-east-technical-university/rag_basic_experiment/runs/4kwpt2i9' target=\"_blank\">spring-sweep-30</a></strong> to <a href='https://wandb.ai/nilsusahin-middle-east-technical-university/rag_basic_experiment' target=\"_blank\">Weights & Biases</a> (<a href='https://wandb.me/developer-guide' target=\"_blank\">docs</a>)<br>Sweep page: <a href='https://wandb.ai/nilsusahin-middle-east-technical-university/rag_basic_experiment/sweeps/12zc357u' target=\"_blank\">https://wandb.ai/nilsusahin-middle-east-technical-university/rag_basic_experiment/sweeps/12zc357u</a>"
      ],
      "text/plain": [
       "<IPython.core.display.HTML object>"
      ]
     },
     "metadata": {},
     "output_type": "display_data"
    },
    {
     "data": {
      "text/html": [
       " View project at <a href='https://wandb.ai/nilsusahin-middle-east-technical-university/rag_basic_experiment' target=\"_blank\">https://wandb.ai/nilsusahin-middle-east-technical-university/rag_basic_experiment</a>"
      ],
      "text/plain": [
       "<IPython.core.display.HTML object>"
      ]
     },
     "metadata": {},
     "output_type": "display_data"
    },
    {
     "data": {
      "text/html": [
       " View sweep at <a href='https://wandb.ai/nilsusahin-middle-east-technical-university/rag_basic_experiment/sweeps/12zc357u' target=\"_blank\">https://wandb.ai/nilsusahin-middle-east-technical-university/rag_basic_experiment/sweeps/12zc357u</a>"
      ],
      "text/plain": [
       "<IPython.core.display.HTML object>"
      ]
     },
     "metadata": {},
     "output_type": "display_data"
    },
    {
     "data": {
      "text/html": [
       " View run at <a href='https://wandb.ai/nilsusahin-middle-east-technical-university/rag_basic_experiment/runs/4kwpt2i9' target=\"_blank\">https://wandb.ai/nilsusahin-middle-east-technical-university/rag_basic_experiment/runs/4kwpt2i9</a>"
      ],
      "text/plain": [
       "<IPython.core.display.HTML object>"
      ]
     },
     "metadata": {},
     "output_type": "display_data"
    },
    {
     "name": "stdout",
     "output_type": "stream",
     "text": [
      "The token has not been saved to the git credentials helper. Pass `add_to_git_credential=True` in this function directly or `--add-to-git-credential` if using via `huggingface-cli` if you want to set the git credential as well.\n",
      "Token is valid (permission: fineGrained).\n",
      "Your token has been saved to C:\\Users\\Nilsu.Sahin\\.cache\\huggingface\\token\n",
      "Login successful\n",
      "Mean Score: 1.0\n"
     ]
    },
    {
     "data": {
      "text/html": [],
      "text/plain": [
       "<IPython.core.display.HTML object>"
      ]
     },
     "metadata": {},
     "output_type": "display_data"
    },
    {
     "data": {
      "text/html": [
       "<br>    <style><br>        .wandb-row {<br>            display: flex;<br>            flex-direction: row;<br>            flex-wrap: wrap;<br>            justify-content: flex-start;<br>            width: 100%;<br>        }<br>        .wandb-col {<br>            display: flex;<br>            flex-direction: column;<br>            flex-basis: 100%;<br>            flex: 1;<br>            padding: 10px;<br>        }<br>    </style><br><div class=\"wandb-row\"><div class=\"wandb-col\"><h3>Run history:</h3><br/><table class=\"wandb\"><tr><td>chunk_overlap</td><td>▁</td></tr><tr><td>chunk_size</td><td>▁</td></tr><tr><td>mean_score</td><td>▁</td></tr><tr><td>temperature</td><td>▁</td></tr><tr><td>top_k</td><td>▁</td></tr></table><br/></div><div class=\"wandb-col\"><h3>Run summary:</h3><br/><table class=\"wandb\"><tr><td>chunk_overlap</td><td>50</td></tr><tr><td>chunk_size</td><td>100</td></tr><tr><td>mean_score</td><td>1</td></tr><tr><td>temperature</td><td>0.54029</td></tr><tr><td>top_k</td><td>6</td></tr></table><br/></div></div>"
      ],
      "text/plain": [
       "<IPython.core.display.HTML object>"
      ]
     },
     "metadata": {},
     "output_type": "display_data"
    },
    {
     "data": {
      "text/html": [
       " View run <strong style=\"color:#cdcd00\">spring-sweep-30</strong> at: <a href='https://wandb.ai/nilsusahin-middle-east-technical-university/rag_basic_experiment/runs/4kwpt2i9' target=\"_blank\">https://wandb.ai/nilsusahin-middle-east-technical-university/rag_basic_experiment/runs/4kwpt2i9</a><br> View project at: <a href='https://wandb.ai/nilsusahin-middle-east-technical-university/rag_basic_experiment' target=\"_blank\">https://wandb.ai/nilsusahin-middle-east-technical-university/rag_basic_experiment</a><br>Synced 5 W&B file(s), 0 media file(s), 0 artifact file(s) and 0 other file(s)"
      ],
      "text/plain": [
       "<IPython.core.display.HTML object>"
      ]
     },
     "metadata": {},
     "output_type": "display_data"
    },
    {
     "data": {
      "text/html": [
       "Find logs at: <code>.\\wandb\\run-20241217_195002-4kwpt2i9\\logs</code>"
      ],
      "text/plain": [
       "<IPython.core.display.HTML object>"
      ]
     },
     "metadata": {},
     "output_type": "display_data"
    },
    {
     "name": "stderr",
     "output_type": "stream",
     "text": [
      "\u001b[34m\u001b[1mwandb\u001b[0m: Agent Starting Run: aauciuwu with config:\n",
      "\u001b[34m\u001b[1mwandb\u001b[0m: \tchunk_overlap: 0\n",
      "\u001b[34m\u001b[1mwandb\u001b[0m: \tchunk_size: 100\n",
      "\u001b[34m\u001b[1mwandb\u001b[0m: \ttemperature: 0.7456423330788149\n",
      "\u001b[34m\u001b[1mwandb\u001b[0m: \ttop_k: 2\n"
     ]
    },
    {
     "data": {
      "text/html": [
       "Tracking run with wandb version 0.19.1"
      ],
      "text/plain": [
       "<IPython.core.display.HTML object>"
      ]
     },
     "metadata": {},
     "output_type": "display_data"
    },
    {
     "data": {
      "text/html": [
       "Run data is saved locally in <code>c:\\Users\\Nilsu.Sahin\\Desktop\\ns_trial\\RAG_Model\\wandb\\run-20241217_195023-aauciuwu</code>"
      ],
      "text/plain": [
       "<IPython.core.display.HTML object>"
      ]
     },
     "metadata": {},
     "output_type": "display_data"
    },
    {
     "data": {
      "text/html": [
       "Syncing run <strong><a href='https://wandb.ai/nilsusahin-middle-east-technical-university/rag_basic_experiment/runs/aauciuwu' target=\"_blank\">fanciful-sweep-31</a></strong> to <a href='https://wandb.ai/nilsusahin-middle-east-technical-university/rag_basic_experiment' target=\"_blank\">Weights & Biases</a> (<a href='https://wandb.me/developer-guide' target=\"_blank\">docs</a>)<br>Sweep page: <a href='https://wandb.ai/nilsusahin-middle-east-technical-university/rag_basic_experiment/sweeps/12zc357u' target=\"_blank\">https://wandb.ai/nilsusahin-middle-east-technical-university/rag_basic_experiment/sweeps/12zc357u</a>"
      ],
      "text/plain": [
       "<IPython.core.display.HTML object>"
      ]
     },
     "metadata": {},
     "output_type": "display_data"
    },
    {
     "data": {
      "text/html": [
       " View project at <a href='https://wandb.ai/nilsusahin-middle-east-technical-university/rag_basic_experiment' target=\"_blank\">https://wandb.ai/nilsusahin-middle-east-technical-university/rag_basic_experiment</a>"
      ],
      "text/plain": [
       "<IPython.core.display.HTML object>"
      ]
     },
     "metadata": {},
     "output_type": "display_data"
    },
    {
     "data": {
      "text/html": [
       " View sweep at <a href='https://wandb.ai/nilsusahin-middle-east-technical-university/rag_basic_experiment/sweeps/12zc357u' target=\"_blank\">https://wandb.ai/nilsusahin-middle-east-technical-university/rag_basic_experiment/sweeps/12zc357u</a>"
      ],
      "text/plain": [
       "<IPython.core.display.HTML object>"
      ]
     },
     "metadata": {},
     "output_type": "display_data"
    },
    {
     "data": {
      "text/html": [
       " View run at <a href='https://wandb.ai/nilsusahin-middle-east-technical-university/rag_basic_experiment/runs/aauciuwu' target=\"_blank\">https://wandb.ai/nilsusahin-middle-east-technical-university/rag_basic_experiment/runs/aauciuwu</a>"
      ],
      "text/plain": [
       "<IPython.core.display.HTML object>"
      ]
     },
     "metadata": {},
     "output_type": "display_data"
    },
    {
     "name": "stdout",
     "output_type": "stream",
     "text": [
      "The token has not been saved to the git credentials helper. Pass `add_to_git_credential=True` in this function directly or `--add-to-git-credential` if using via `huggingface-cli` if you want to set the git credential as well.\n",
      "Token is valid (permission: fineGrained).\n",
      "Your token has been saved to C:\\Users\\Nilsu.Sahin\\.cache\\huggingface\\token\n",
      "Login successful\n",
      "Mean Score: 1.0\n"
     ]
    },
    {
     "data": {
      "text/html": [],
      "text/plain": [
       "<IPython.core.display.HTML object>"
      ]
     },
     "metadata": {},
     "output_type": "display_data"
    },
    {
     "data": {
      "text/html": [
       "<br>    <style><br>        .wandb-row {<br>            display: flex;<br>            flex-direction: row;<br>            flex-wrap: wrap;<br>            justify-content: flex-start;<br>            width: 100%;<br>        }<br>        .wandb-col {<br>            display: flex;<br>            flex-direction: column;<br>            flex-basis: 100%;<br>            flex: 1;<br>            padding: 10px;<br>        }<br>    </style><br><div class=\"wandb-row\"><div class=\"wandb-col\"><h3>Run history:</h3><br/><table class=\"wandb\"><tr><td>chunk_overlap</td><td>▁</td></tr><tr><td>chunk_size</td><td>▁</td></tr><tr><td>mean_score</td><td>▁</td></tr><tr><td>temperature</td><td>▁</td></tr><tr><td>top_k</td><td>▁</td></tr></table><br/></div><div class=\"wandb-col\"><h3>Run summary:</h3><br/><table class=\"wandb\"><tr><td>chunk_overlap</td><td>0</td></tr><tr><td>chunk_size</td><td>100</td></tr><tr><td>mean_score</td><td>1</td></tr><tr><td>temperature</td><td>0.74564</td></tr><tr><td>top_k</td><td>2</td></tr></table><br/></div></div>"
      ],
      "text/plain": [
       "<IPython.core.display.HTML object>"
      ]
     },
     "metadata": {},
     "output_type": "display_data"
    },
    {
     "data": {
      "text/html": [
       " View run <strong style=\"color:#cdcd00\">fanciful-sweep-31</strong> at: <a href='https://wandb.ai/nilsusahin-middle-east-technical-university/rag_basic_experiment/runs/aauciuwu' target=\"_blank\">https://wandb.ai/nilsusahin-middle-east-technical-university/rag_basic_experiment/runs/aauciuwu</a><br> View project at: <a href='https://wandb.ai/nilsusahin-middle-east-technical-university/rag_basic_experiment' target=\"_blank\">https://wandb.ai/nilsusahin-middle-east-technical-university/rag_basic_experiment</a><br>Synced 5 W&B file(s), 0 media file(s), 0 artifact file(s) and 0 other file(s)"
      ],
      "text/plain": [
       "<IPython.core.display.HTML object>"
      ]
     },
     "metadata": {},
     "output_type": "display_data"
    },
    {
     "data": {
      "text/html": [
       "Find logs at: <code>.\\wandb\\run-20241217_195023-aauciuwu\\logs</code>"
      ],
      "text/plain": [
       "<IPython.core.display.HTML object>"
      ]
     },
     "metadata": {},
     "output_type": "display_data"
    },
    {
     "name": "stderr",
     "output_type": "stream",
     "text": [
      "\u001b[34m\u001b[1mwandb\u001b[0m: Agent Starting Run: ggcf6mx5 with config:\n",
      "\u001b[34m\u001b[1mwandb\u001b[0m: \tchunk_overlap: 50\n",
      "\u001b[34m\u001b[1mwandb\u001b[0m: \tchunk_size: 100\n",
      "\u001b[34m\u001b[1mwandb\u001b[0m: \ttemperature: 0.5528642113616394\n",
      "\u001b[34m\u001b[1mwandb\u001b[0m: \ttop_k: 9\n"
     ]
    },
    {
     "data": {
      "text/html": [
       "Tracking run with wandb version 0.19.1"
      ],
      "text/plain": [
       "<IPython.core.display.HTML object>"
      ]
     },
     "metadata": {},
     "output_type": "display_data"
    },
    {
     "data": {
      "text/html": [
       "Run data is saved locally in <code>c:\\Users\\Nilsu.Sahin\\Desktop\\ns_trial\\RAG_Model\\wandb\\run-20241217_195050-ggcf6mx5</code>"
      ],
      "text/plain": [
       "<IPython.core.display.HTML object>"
      ]
     },
     "metadata": {},
     "output_type": "display_data"
    },
    {
     "data": {
      "text/html": [
       "Syncing run <strong><a href='https://wandb.ai/nilsusahin-middle-east-technical-university/rag_basic_experiment/runs/ggcf6mx5' target=\"_blank\">good-sweep-32</a></strong> to <a href='https://wandb.ai/nilsusahin-middle-east-technical-university/rag_basic_experiment' target=\"_blank\">Weights & Biases</a> (<a href='https://wandb.me/developer-guide' target=\"_blank\">docs</a>)<br>Sweep page: <a href='https://wandb.ai/nilsusahin-middle-east-technical-university/rag_basic_experiment/sweeps/12zc357u' target=\"_blank\">https://wandb.ai/nilsusahin-middle-east-technical-university/rag_basic_experiment/sweeps/12zc357u</a>"
      ],
      "text/plain": [
       "<IPython.core.display.HTML object>"
      ]
     },
     "metadata": {},
     "output_type": "display_data"
    },
    {
     "data": {
      "text/html": [
       " View project at <a href='https://wandb.ai/nilsusahin-middle-east-technical-university/rag_basic_experiment' target=\"_blank\">https://wandb.ai/nilsusahin-middle-east-technical-university/rag_basic_experiment</a>"
      ],
      "text/plain": [
       "<IPython.core.display.HTML object>"
      ]
     },
     "metadata": {},
     "output_type": "display_data"
    },
    {
     "data": {
      "text/html": [
       " View sweep at <a href='https://wandb.ai/nilsusahin-middle-east-technical-university/rag_basic_experiment/sweeps/12zc357u' target=\"_blank\">https://wandb.ai/nilsusahin-middle-east-technical-university/rag_basic_experiment/sweeps/12zc357u</a>"
      ],
      "text/plain": [
       "<IPython.core.display.HTML object>"
      ]
     },
     "metadata": {},
     "output_type": "display_data"
    },
    {
     "data": {
      "text/html": [
       " View run at <a href='https://wandb.ai/nilsusahin-middle-east-technical-university/rag_basic_experiment/runs/ggcf6mx5' target=\"_blank\">https://wandb.ai/nilsusahin-middle-east-technical-university/rag_basic_experiment/runs/ggcf6mx5</a>"
      ],
      "text/plain": [
       "<IPython.core.display.HTML object>"
      ]
     },
     "metadata": {},
     "output_type": "display_data"
    },
    {
     "name": "stdout",
     "output_type": "stream",
     "text": [
      "The token has not been saved to the git credentials helper. Pass `add_to_git_credential=True` in this function directly or `--add-to-git-credential` if using via `huggingface-cli` if you want to set the git credential as well.\n",
      "Token is valid (permission: fineGrained).\n",
      "Your token has been saved to C:\\Users\\Nilsu.Sahin\\.cache\\huggingface\\token\n",
      "Login successful\n",
      "Mean Score: 1.0\n"
     ]
    },
    {
     "data": {
      "text/html": [],
      "text/plain": [
       "<IPython.core.display.HTML object>"
      ]
     },
     "metadata": {},
     "output_type": "display_data"
    },
    {
     "data": {
      "text/html": [
       "<br>    <style><br>        .wandb-row {<br>            display: flex;<br>            flex-direction: row;<br>            flex-wrap: wrap;<br>            justify-content: flex-start;<br>            width: 100%;<br>        }<br>        .wandb-col {<br>            display: flex;<br>            flex-direction: column;<br>            flex-basis: 100%;<br>            flex: 1;<br>            padding: 10px;<br>        }<br>    </style><br><div class=\"wandb-row\"><div class=\"wandb-col\"><h3>Run history:</h3><br/><table class=\"wandb\"><tr><td>chunk_overlap</td><td>▁</td></tr><tr><td>chunk_size</td><td>▁</td></tr><tr><td>mean_score</td><td>▁</td></tr><tr><td>temperature</td><td>▁</td></tr><tr><td>top_k</td><td>▁</td></tr></table><br/></div><div class=\"wandb-col\"><h3>Run summary:</h3><br/><table class=\"wandb\"><tr><td>chunk_overlap</td><td>50</td></tr><tr><td>chunk_size</td><td>100</td></tr><tr><td>mean_score</td><td>1</td></tr><tr><td>temperature</td><td>0.55286</td></tr><tr><td>top_k</td><td>9</td></tr></table><br/></div></div>"
      ],
      "text/plain": [
       "<IPython.core.display.HTML object>"
      ]
     },
     "metadata": {},
     "output_type": "display_data"
    },
    {
     "data": {
      "text/html": [
       " View run <strong style=\"color:#cdcd00\">good-sweep-32</strong> at: <a href='https://wandb.ai/nilsusahin-middle-east-technical-university/rag_basic_experiment/runs/ggcf6mx5' target=\"_blank\">https://wandb.ai/nilsusahin-middle-east-technical-university/rag_basic_experiment/runs/ggcf6mx5</a><br> View project at: <a href='https://wandb.ai/nilsusahin-middle-east-technical-university/rag_basic_experiment' target=\"_blank\">https://wandb.ai/nilsusahin-middle-east-technical-university/rag_basic_experiment</a><br>Synced 5 W&B file(s), 0 media file(s), 0 artifact file(s) and 0 other file(s)"
      ],
      "text/plain": [
       "<IPython.core.display.HTML object>"
      ]
     },
     "metadata": {},
     "output_type": "display_data"
    },
    {
     "data": {
      "text/html": [
       "Find logs at: <code>.\\wandb\\run-20241217_195050-ggcf6mx5\\logs</code>"
      ],
      "text/plain": [
       "<IPython.core.display.HTML object>"
      ]
     },
     "metadata": {},
     "output_type": "display_data"
    },
    {
     "name": "stderr",
     "output_type": "stream",
     "text": [
      "\u001b[34m\u001b[1mwandb\u001b[0m: Agent Starting Run: 02apngfb with config:\n",
      "\u001b[34m\u001b[1mwandb\u001b[0m: \tchunk_overlap: 0\n",
      "\u001b[34m\u001b[1mwandb\u001b[0m: \tchunk_size: 200\n",
      "\u001b[34m\u001b[1mwandb\u001b[0m: \ttemperature: 0.16110435312416083\n",
      "\u001b[34m\u001b[1mwandb\u001b[0m: \ttop_k: 1\n"
     ]
    },
    {
     "data": {
      "text/html": [
       "Tracking run with wandb version 0.19.1"
      ],
      "text/plain": [
       "<IPython.core.display.HTML object>"
      ]
     },
     "metadata": {},
     "output_type": "display_data"
    },
    {
     "data": {
      "text/html": [
       "Run data is saved locally in <code>c:\\Users\\Nilsu.Sahin\\Desktop\\ns_trial\\RAG_Model\\wandb\\run-20241217_195116-02apngfb</code>"
      ],
      "text/plain": [
       "<IPython.core.display.HTML object>"
      ]
     },
     "metadata": {},
     "output_type": "display_data"
    },
    {
     "data": {
      "text/html": [
       "Syncing run <strong><a href='https://wandb.ai/nilsusahin-middle-east-technical-university/rag_basic_experiment/runs/02apngfb' target=\"_blank\">eager-sweep-33</a></strong> to <a href='https://wandb.ai/nilsusahin-middle-east-technical-university/rag_basic_experiment' target=\"_blank\">Weights & Biases</a> (<a href='https://wandb.me/developer-guide' target=\"_blank\">docs</a>)<br>Sweep page: <a href='https://wandb.ai/nilsusahin-middle-east-technical-university/rag_basic_experiment/sweeps/12zc357u' target=\"_blank\">https://wandb.ai/nilsusahin-middle-east-technical-university/rag_basic_experiment/sweeps/12zc357u</a>"
      ],
      "text/plain": [
       "<IPython.core.display.HTML object>"
      ]
     },
     "metadata": {},
     "output_type": "display_data"
    },
    {
     "data": {
      "text/html": [
       " View project at <a href='https://wandb.ai/nilsusahin-middle-east-technical-university/rag_basic_experiment' target=\"_blank\">https://wandb.ai/nilsusahin-middle-east-technical-university/rag_basic_experiment</a>"
      ],
      "text/plain": [
       "<IPython.core.display.HTML object>"
      ]
     },
     "metadata": {},
     "output_type": "display_data"
    },
    {
     "data": {
      "text/html": [
       " View sweep at <a href='https://wandb.ai/nilsusahin-middle-east-technical-university/rag_basic_experiment/sweeps/12zc357u' target=\"_blank\">https://wandb.ai/nilsusahin-middle-east-technical-university/rag_basic_experiment/sweeps/12zc357u</a>"
      ],
      "text/plain": [
       "<IPython.core.display.HTML object>"
      ]
     },
     "metadata": {},
     "output_type": "display_data"
    },
    {
     "data": {
      "text/html": [
       " View run at <a href='https://wandb.ai/nilsusahin-middle-east-technical-university/rag_basic_experiment/runs/02apngfb' target=\"_blank\">https://wandb.ai/nilsusahin-middle-east-technical-university/rag_basic_experiment/runs/02apngfb</a>"
      ],
      "text/plain": [
       "<IPython.core.display.HTML object>"
      ]
     },
     "metadata": {},
     "output_type": "display_data"
    },
    {
     "name": "stdout",
     "output_type": "stream",
     "text": [
      "The token has not been saved to the git credentials helper. Pass `add_to_git_credential=True` in this function directly or `--add-to-git-credential` if using via `huggingface-cli` if you want to set the git credential as well.\n",
      "Token is valid (permission: fineGrained).\n",
      "Your token has been saved to C:\\Users\\Nilsu.Sahin\\.cache\\huggingface\\token\n",
      "Login successful\n",
      "Mean Score: 1.0\n"
     ]
    },
    {
     "data": {
      "text/html": [],
      "text/plain": [
       "<IPython.core.display.HTML object>"
      ]
     },
     "metadata": {},
     "output_type": "display_data"
    },
    {
     "data": {
      "text/html": [
       "<br>    <style><br>        .wandb-row {<br>            display: flex;<br>            flex-direction: row;<br>            flex-wrap: wrap;<br>            justify-content: flex-start;<br>            width: 100%;<br>        }<br>        .wandb-col {<br>            display: flex;<br>            flex-direction: column;<br>            flex-basis: 100%;<br>            flex: 1;<br>            padding: 10px;<br>        }<br>    </style><br><div class=\"wandb-row\"><div class=\"wandb-col\"><h3>Run history:</h3><br/><table class=\"wandb\"><tr><td>chunk_overlap</td><td>▁</td></tr><tr><td>chunk_size</td><td>▁</td></tr><tr><td>mean_score</td><td>▁</td></tr><tr><td>temperature</td><td>▁</td></tr><tr><td>top_k</td><td>▁</td></tr></table><br/></div><div class=\"wandb-col\"><h3>Run summary:</h3><br/><table class=\"wandb\"><tr><td>chunk_overlap</td><td>0</td></tr><tr><td>chunk_size</td><td>200</td></tr><tr><td>mean_score</td><td>1</td></tr><tr><td>temperature</td><td>0.1611</td></tr><tr><td>top_k</td><td>1</td></tr></table><br/></div></div>"
      ],
      "text/plain": [
       "<IPython.core.display.HTML object>"
      ]
     },
     "metadata": {},
     "output_type": "display_data"
    },
    {
     "data": {
      "text/html": [
       " View run <strong style=\"color:#cdcd00\">eager-sweep-33</strong> at: <a href='https://wandb.ai/nilsusahin-middle-east-technical-university/rag_basic_experiment/runs/02apngfb' target=\"_blank\">https://wandb.ai/nilsusahin-middle-east-technical-university/rag_basic_experiment/runs/02apngfb</a><br> View project at: <a href='https://wandb.ai/nilsusahin-middle-east-technical-university/rag_basic_experiment' target=\"_blank\">https://wandb.ai/nilsusahin-middle-east-technical-university/rag_basic_experiment</a><br>Synced 5 W&B file(s), 0 media file(s), 0 artifact file(s) and 0 other file(s)"
      ],
      "text/plain": [
       "<IPython.core.display.HTML object>"
      ]
     },
     "metadata": {},
     "output_type": "display_data"
    },
    {
     "data": {
      "text/html": [
       "Find logs at: <code>.\\wandb\\run-20241217_195116-02apngfb\\logs</code>"
      ],
      "text/plain": [
       "<IPython.core.display.HTML object>"
      ]
     },
     "metadata": {},
     "output_type": "display_data"
    },
    {
     "name": "stderr",
     "output_type": "stream",
     "text": [
      "\u001b[34m\u001b[1mwandb\u001b[0m: Agent Starting Run: 4n08d42l with config:\n",
      "\u001b[34m\u001b[1mwandb\u001b[0m: \tchunk_overlap: 50\n",
      "\u001b[34m\u001b[1mwandb\u001b[0m: \tchunk_size: 200\n",
      "\u001b[34m\u001b[1mwandb\u001b[0m: \ttemperature: 0.637200758802325\n",
      "\u001b[34m\u001b[1mwandb\u001b[0m: \ttop_k: 2\n"
     ]
    },
    {
     "data": {
      "text/html": [
       "Tracking run with wandb version 0.19.1"
      ],
      "text/plain": [
       "<IPython.core.display.HTML object>"
      ]
     },
     "metadata": {},
     "output_type": "display_data"
    },
    {
     "data": {
      "text/html": [
       "Run data is saved locally in <code>c:\\Users\\Nilsu.Sahin\\Desktop\\ns_trial\\RAG_Model\\wandb\\run-20241217_195137-4n08d42l</code>"
      ],
      "text/plain": [
       "<IPython.core.display.HTML object>"
      ]
     },
     "metadata": {},
     "output_type": "display_data"
    },
    {
     "data": {
      "text/html": [
       "Syncing run <strong><a href='https://wandb.ai/nilsusahin-middle-east-technical-university/rag_basic_experiment/runs/4n08d42l' target=\"_blank\">prime-sweep-34</a></strong> to <a href='https://wandb.ai/nilsusahin-middle-east-technical-university/rag_basic_experiment' target=\"_blank\">Weights & Biases</a> (<a href='https://wandb.me/developer-guide' target=\"_blank\">docs</a>)<br>Sweep page: <a href='https://wandb.ai/nilsusahin-middle-east-technical-university/rag_basic_experiment/sweeps/12zc357u' target=\"_blank\">https://wandb.ai/nilsusahin-middle-east-technical-university/rag_basic_experiment/sweeps/12zc357u</a>"
      ],
      "text/plain": [
       "<IPython.core.display.HTML object>"
      ]
     },
     "metadata": {},
     "output_type": "display_data"
    },
    {
     "data": {
      "text/html": [
       " View project at <a href='https://wandb.ai/nilsusahin-middle-east-technical-university/rag_basic_experiment' target=\"_blank\">https://wandb.ai/nilsusahin-middle-east-technical-university/rag_basic_experiment</a>"
      ],
      "text/plain": [
       "<IPython.core.display.HTML object>"
      ]
     },
     "metadata": {},
     "output_type": "display_data"
    },
    {
     "data": {
      "text/html": [
       " View sweep at <a href='https://wandb.ai/nilsusahin-middle-east-technical-university/rag_basic_experiment/sweeps/12zc357u' target=\"_blank\">https://wandb.ai/nilsusahin-middle-east-technical-university/rag_basic_experiment/sweeps/12zc357u</a>"
      ],
      "text/plain": [
       "<IPython.core.display.HTML object>"
      ]
     },
     "metadata": {},
     "output_type": "display_data"
    },
    {
     "data": {
      "text/html": [
       " View run at <a href='https://wandb.ai/nilsusahin-middle-east-technical-university/rag_basic_experiment/runs/4n08d42l' target=\"_blank\">https://wandb.ai/nilsusahin-middle-east-technical-university/rag_basic_experiment/runs/4n08d42l</a>"
      ],
      "text/plain": [
       "<IPython.core.display.HTML object>"
      ]
     },
     "metadata": {},
     "output_type": "display_data"
    },
    {
     "name": "stdout",
     "output_type": "stream",
     "text": [
      "The token has not been saved to the git credentials helper. Pass `add_to_git_credential=True` in this function directly or `--add-to-git-credential` if using via `huggingface-cli` if you want to set the git credential as well.\n",
      "Token is valid (permission: fineGrained).\n",
      "Your token has been saved to C:\\Users\\Nilsu.Sahin\\.cache\\huggingface\\token\n",
      "Login successful\n",
      "Mean Score: 1.0\n"
     ]
    },
    {
     "data": {
      "text/html": [],
      "text/plain": [
       "<IPython.core.display.HTML object>"
      ]
     },
     "metadata": {},
     "output_type": "display_data"
    },
    {
     "data": {
      "text/html": [
       "<br>    <style><br>        .wandb-row {<br>            display: flex;<br>            flex-direction: row;<br>            flex-wrap: wrap;<br>            justify-content: flex-start;<br>            width: 100%;<br>        }<br>        .wandb-col {<br>            display: flex;<br>            flex-direction: column;<br>            flex-basis: 100%;<br>            flex: 1;<br>            padding: 10px;<br>        }<br>    </style><br><div class=\"wandb-row\"><div class=\"wandb-col\"><h3>Run history:</h3><br/><table class=\"wandb\"><tr><td>chunk_overlap</td><td>▁</td></tr><tr><td>chunk_size</td><td>▁</td></tr><tr><td>mean_score</td><td>▁</td></tr><tr><td>temperature</td><td>▁</td></tr><tr><td>top_k</td><td>▁</td></tr></table><br/></div><div class=\"wandb-col\"><h3>Run summary:</h3><br/><table class=\"wandb\"><tr><td>chunk_overlap</td><td>50</td></tr><tr><td>chunk_size</td><td>200</td></tr><tr><td>mean_score</td><td>1</td></tr><tr><td>temperature</td><td>0.6372</td></tr><tr><td>top_k</td><td>2</td></tr></table><br/></div></div>"
      ],
      "text/plain": [
       "<IPython.core.display.HTML object>"
      ]
     },
     "metadata": {},
     "output_type": "display_data"
    },
    {
     "data": {
      "text/html": [
       " View run <strong style=\"color:#cdcd00\">prime-sweep-34</strong> at: <a href='https://wandb.ai/nilsusahin-middle-east-technical-university/rag_basic_experiment/runs/4n08d42l' target=\"_blank\">https://wandb.ai/nilsusahin-middle-east-technical-university/rag_basic_experiment/runs/4n08d42l</a><br> View project at: <a href='https://wandb.ai/nilsusahin-middle-east-technical-university/rag_basic_experiment' target=\"_blank\">https://wandb.ai/nilsusahin-middle-east-technical-university/rag_basic_experiment</a><br>Synced 5 W&B file(s), 0 media file(s), 0 artifact file(s) and 0 other file(s)"
      ],
      "text/plain": [
       "<IPython.core.display.HTML object>"
      ]
     },
     "metadata": {},
     "output_type": "display_data"
    },
    {
     "data": {
      "text/html": [
       "Find logs at: <code>.\\wandb\\run-20241217_195137-4n08d42l\\logs</code>"
      ],
      "text/plain": [
       "<IPython.core.display.HTML object>"
      ]
     },
     "metadata": {},
     "output_type": "display_data"
    },
    {
     "name": "stderr",
     "output_type": "stream",
     "text": [
      "\u001b[34m\u001b[1mwandb\u001b[0m: Agent Starting Run: b93dujsy with config:\n",
      "\u001b[34m\u001b[1mwandb\u001b[0m: \tchunk_overlap: 0\n",
      "\u001b[34m\u001b[1mwandb\u001b[0m: \tchunk_size: 200\n",
      "\u001b[34m\u001b[1mwandb\u001b[0m: \ttemperature: 0.6614381340730832\n",
      "\u001b[34m\u001b[1mwandb\u001b[0m: \ttop_k: 1\n"
     ]
    },
    {
     "data": {
      "text/html": [
       "Tracking run with wandb version 0.19.1"
      ],
      "text/plain": [
       "<IPython.core.display.HTML object>"
      ]
     },
     "metadata": {},
     "output_type": "display_data"
    },
    {
     "data": {
      "text/html": [
       "Run data is saved locally in <code>c:\\Users\\Nilsu.Sahin\\Desktop\\ns_trial\\RAG_Model\\wandb\\run-20241217_195158-b93dujsy</code>"
      ],
      "text/plain": [
       "<IPython.core.display.HTML object>"
      ]
     },
     "metadata": {},
     "output_type": "display_data"
    },
    {
     "data": {
      "text/html": [
       "Syncing run <strong><a href='https://wandb.ai/nilsusahin-middle-east-technical-university/rag_basic_experiment/runs/b93dujsy' target=\"_blank\">glad-sweep-35</a></strong> to <a href='https://wandb.ai/nilsusahin-middle-east-technical-university/rag_basic_experiment' target=\"_blank\">Weights & Biases</a> (<a href='https://wandb.me/developer-guide' target=\"_blank\">docs</a>)<br>Sweep page: <a href='https://wandb.ai/nilsusahin-middle-east-technical-university/rag_basic_experiment/sweeps/12zc357u' target=\"_blank\">https://wandb.ai/nilsusahin-middle-east-technical-university/rag_basic_experiment/sweeps/12zc357u</a>"
      ],
      "text/plain": [
       "<IPython.core.display.HTML object>"
      ]
     },
     "metadata": {},
     "output_type": "display_data"
    },
    {
     "data": {
      "text/html": [
       " View project at <a href='https://wandb.ai/nilsusahin-middle-east-technical-university/rag_basic_experiment' target=\"_blank\">https://wandb.ai/nilsusahin-middle-east-technical-university/rag_basic_experiment</a>"
      ],
      "text/plain": [
       "<IPython.core.display.HTML object>"
      ]
     },
     "metadata": {},
     "output_type": "display_data"
    },
    {
     "data": {
      "text/html": [
       " View sweep at <a href='https://wandb.ai/nilsusahin-middle-east-technical-university/rag_basic_experiment/sweeps/12zc357u' target=\"_blank\">https://wandb.ai/nilsusahin-middle-east-technical-university/rag_basic_experiment/sweeps/12zc357u</a>"
      ],
      "text/plain": [
       "<IPython.core.display.HTML object>"
      ]
     },
     "metadata": {},
     "output_type": "display_data"
    },
    {
     "data": {
      "text/html": [
       " View run at <a href='https://wandb.ai/nilsusahin-middle-east-technical-university/rag_basic_experiment/runs/b93dujsy' target=\"_blank\">https://wandb.ai/nilsusahin-middle-east-technical-university/rag_basic_experiment/runs/b93dujsy</a>"
      ],
      "text/plain": [
       "<IPython.core.display.HTML object>"
      ]
     },
     "metadata": {},
     "output_type": "display_data"
    },
    {
     "name": "stdout",
     "output_type": "stream",
     "text": [
      "The token has not been saved to the git credentials helper. Pass `add_to_git_credential=True` in this function directly or `--add-to-git-credential` if using via `huggingface-cli` if you want to set the git credential as well.\n",
      "Token is valid (permission: fineGrained).\n",
      "Your token has been saved to C:\\Users\\Nilsu.Sahin\\.cache\\huggingface\\token\n",
      "Login successful\n",
      "Mean Score: 1.0\n"
     ]
    },
    {
     "data": {
      "text/html": [],
      "text/plain": [
       "<IPython.core.display.HTML object>"
      ]
     },
     "metadata": {},
     "output_type": "display_data"
    },
    {
     "data": {
      "text/html": [
       "<br>    <style><br>        .wandb-row {<br>            display: flex;<br>            flex-direction: row;<br>            flex-wrap: wrap;<br>            justify-content: flex-start;<br>            width: 100%;<br>        }<br>        .wandb-col {<br>            display: flex;<br>            flex-direction: column;<br>            flex-basis: 100%;<br>            flex: 1;<br>            padding: 10px;<br>        }<br>    </style><br><div class=\"wandb-row\"><div class=\"wandb-col\"><h3>Run history:</h3><br/><table class=\"wandb\"><tr><td>chunk_overlap</td><td>▁</td></tr><tr><td>chunk_size</td><td>▁</td></tr><tr><td>mean_score</td><td>▁</td></tr><tr><td>temperature</td><td>▁</td></tr><tr><td>top_k</td><td>▁</td></tr></table><br/></div><div class=\"wandb-col\"><h3>Run summary:</h3><br/><table class=\"wandb\"><tr><td>chunk_overlap</td><td>0</td></tr><tr><td>chunk_size</td><td>200</td></tr><tr><td>mean_score</td><td>1</td></tr><tr><td>temperature</td><td>0.66144</td></tr><tr><td>top_k</td><td>1</td></tr></table><br/></div></div>"
      ],
      "text/plain": [
       "<IPython.core.display.HTML object>"
      ]
     },
     "metadata": {},
     "output_type": "display_data"
    },
    {
     "data": {
      "text/html": [
       " View run <strong style=\"color:#cdcd00\">glad-sweep-35</strong> at: <a href='https://wandb.ai/nilsusahin-middle-east-technical-university/rag_basic_experiment/runs/b93dujsy' target=\"_blank\">https://wandb.ai/nilsusahin-middle-east-technical-university/rag_basic_experiment/runs/b93dujsy</a><br> View project at: <a href='https://wandb.ai/nilsusahin-middle-east-technical-university/rag_basic_experiment' target=\"_blank\">https://wandb.ai/nilsusahin-middle-east-technical-university/rag_basic_experiment</a><br>Synced 5 W&B file(s), 0 media file(s), 0 artifact file(s) and 0 other file(s)"
      ],
      "text/plain": [
       "<IPython.core.display.HTML object>"
      ]
     },
     "metadata": {},
     "output_type": "display_data"
    },
    {
     "data": {
      "text/html": [
       "Find logs at: <code>.\\wandb\\run-20241217_195158-b93dujsy\\logs</code>"
      ],
      "text/plain": [
       "<IPython.core.display.HTML object>"
      ]
     },
     "metadata": {},
     "output_type": "display_data"
    },
    {
     "name": "stderr",
     "output_type": "stream",
     "text": [
      "\u001b[34m\u001b[1mwandb\u001b[0m: Agent Starting Run: jaccurar with config:\n",
      "\u001b[34m\u001b[1mwandb\u001b[0m: \tchunk_overlap: 0\n",
      "\u001b[34m\u001b[1mwandb\u001b[0m: \tchunk_size: 100\n",
      "\u001b[34m\u001b[1mwandb\u001b[0m: \ttemperature: 0.9373531451687016\n",
      "\u001b[34m\u001b[1mwandb\u001b[0m: \ttop_k: 2\n"
     ]
    },
    {
     "data": {
      "text/html": [
       "Tracking run with wandb version 0.19.1"
      ],
      "text/plain": [
       "<IPython.core.display.HTML object>"
      ]
     },
     "metadata": {},
     "output_type": "display_data"
    },
    {
     "data": {
      "text/html": [
       "Run data is saved locally in <code>c:\\Users\\Nilsu.Sahin\\Desktop\\ns_trial\\RAG_Model\\wandb\\run-20241217_195230-jaccurar</code>"
      ],
      "text/plain": [
       "<IPython.core.display.HTML object>"
      ]
     },
     "metadata": {},
     "output_type": "display_data"
    },
    {
     "data": {
      "text/html": [
       "Syncing run <strong><a href='https://wandb.ai/nilsusahin-middle-east-technical-university/rag_basic_experiment/runs/jaccurar' target=\"_blank\">effortless-sweep-36</a></strong> to <a href='https://wandb.ai/nilsusahin-middle-east-technical-university/rag_basic_experiment' target=\"_blank\">Weights & Biases</a> (<a href='https://wandb.me/developer-guide' target=\"_blank\">docs</a>)<br>Sweep page: <a href='https://wandb.ai/nilsusahin-middle-east-technical-university/rag_basic_experiment/sweeps/12zc357u' target=\"_blank\">https://wandb.ai/nilsusahin-middle-east-technical-university/rag_basic_experiment/sweeps/12zc357u</a>"
      ],
      "text/plain": [
       "<IPython.core.display.HTML object>"
      ]
     },
     "metadata": {},
     "output_type": "display_data"
    },
    {
     "data": {
      "text/html": [
       " View project at <a href='https://wandb.ai/nilsusahin-middle-east-technical-university/rag_basic_experiment' target=\"_blank\">https://wandb.ai/nilsusahin-middle-east-technical-university/rag_basic_experiment</a>"
      ],
      "text/plain": [
       "<IPython.core.display.HTML object>"
      ]
     },
     "metadata": {},
     "output_type": "display_data"
    },
    {
     "data": {
      "text/html": [
       " View sweep at <a href='https://wandb.ai/nilsusahin-middle-east-technical-university/rag_basic_experiment/sweeps/12zc357u' target=\"_blank\">https://wandb.ai/nilsusahin-middle-east-technical-university/rag_basic_experiment/sweeps/12zc357u</a>"
      ],
      "text/plain": [
       "<IPython.core.display.HTML object>"
      ]
     },
     "metadata": {},
     "output_type": "display_data"
    },
    {
     "data": {
      "text/html": [
       " View run at <a href='https://wandb.ai/nilsusahin-middle-east-technical-university/rag_basic_experiment/runs/jaccurar' target=\"_blank\">https://wandb.ai/nilsusahin-middle-east-technical-university/rag_basic_experiment/runs/jaccurar</a>"
      ],
      "text/plain": [
       "<IPython.core.display.HTML object>"
      ]
     },
     "metadata": {},
     "output_type": "display_data"
    },
    {
     "name": "stdout",
     "output_type": "stream",
     "text": [
      "The token has not been saved to the git credentials helper. Pass `add_to_git_credential=True` in this function directly or `--add-to-git-credential` if using via `huggingface-cli` if you want to set the git credential as well.\n",
      "Token is valid (permission: fineGrained).\n",
      "Your token has been saved to C:\\Users\\Nilsu.Sahin\\.cache\\huggingface\\token\n",
      "Login successful\n",
      "Mean Score: 1.0\n"
     ]
    },
    {
     "data": {
      "text/html": [],
      "text/plain": [
       "<IPython.core.display.HTML object>"
      ]
     },
     "metadata": {},
     "output_type": "display_data"
    },
    {
     "data": {
      "text/html": [
       "<br>    <style><br>        .wandb-row {<br>            display: flex;<br>            flex-direction: row;<br>            flex-wrap: wrap;<br>            justify-content: flex-start;<br>            width: 100%;<br>        }<br>        .wandb-col {<br>            display: flex;<br>            flex-direction: column;<br>            flex-basis: 100%;<br>            flex: 1;<br>            padding: 10px;<br>        }<br>    </style><br><div class=\"wandb-row\"><div class=\"wandb-col\"><h3>Run history:</h3><br/><table class=\"wandb\"><tr><td>chunk_overlap</td><td>▁</td></tr><tr><td>chunk_size</td><td>▁</td></tr><tr><td>mean_score</td><td>▁</td></tr><tr><td>temperature</td><td>▁</td></tr><tr><td>top_k</td><td>▁</td></tr></table><br/></div><div class=\"wandb-col\"><h3>Run summary:</h3><br/><table class=\"wandb\"><tr><td>chunk_overlap</td><td>0</td></tr><tr><td>chunk_size</td><td>100</td></tr><tr><td>mean_score</td><td>1</td></tr><tr><td>temperature</td><td>0.93735</td></tr><tr><td>top_k</td><td>2</td></tr></table><br/></div></div>"
      ],
      "text/plain": [
       "<IPython.core.display.HTML object>"
      ]
     },
     "metadata": {},
     "output_type": "display_data"
    },
    {
     "data": {
      "text/html": [
       " View run <strong style=\"color:#cdcd00\">effortless-sweep-36</strong> at: <a href='https://wandb.ai/nilsusahin-middle-east-technical-university/rag_basic_experiment/runs/jaccurar' target=\"_blank\">https://wandb.ai/nilsusahin-middle-east-technical-university/rag_basic_experiment/runs/jaccurar</a><br> View project at: <a href='https://wandb.ai/nilsusahin-middle-east-technical-university/rag_basic_experiment' target=\"_blank\">https://wandb.ai/nilsusahin-middle-east-technical-university/rag_basic_experiment</a><br>Synced 5 W&B file(s), 0 media file(s), 0 artifact file(s) and 0 other file(s)"
      ],
      "text/plain": [
       "<IPython.core.display.HTML object>"
      ]
     },
     "metadata": {},
     "output_type": "display_data"
    },
    {
     "data": {
      "text/html": [
       "Find logs at: <code>.\\wandb\\run-20241217_195230-jaccurar\\logs</code>"
      ],
      "text/plain": [
       "<IPython.core.display.HTML object>"
      ]
     },
     "metadata": {},
     "output_type": "display_data"
    },
    {
     "name": "stderr",
     "output_type": "stream",
     "text": [
      "\u001b[34m\u001b[1mwandb\u001b[0m: Sweep Agent: Waiting for job.\n",
      "\u001b[34m\u001b[1mwandb\u001b[0m: Job received.\n",
      "\u001b[34m\u001b[1mwandb\u001b[0m: Agent Starting Run: n02e22l0 with config:\n",
      "\u001b[34m\u001b[1mwandb\u001b[0m: \tchunk_overlap: 0\n",
      "\u001b[34m\u001b[1mwandb\u001b[0m: \tchunk_size: 100\n",
      "\u001b[34m\u001b[1mwandb\u001b[0m: \ttemperature: 0.34084306955726984\n",
      "\u001b[34m\u001b[1mwandb\u001b[0m: \ttop_k: 3\n"
     ]
    },
    {
     "data": {
      "text/html": [
       "Tracking run with wandb version 0.19.1"
      ],
      "text/plain": [
       "<IPython.core.display.HTML object>"
      ]
     },
     "metadata": {},
     "output_type": "display_data"
    },
    {
     "data": {
      "text/html": [
       "Run data is saved locally in <code>c:\\Users\\Nilsu.Sahin\\Desktop\\ns_trial\\RAG_Model\\wandb\\run-20241217_195306-n02e22l0</code>"
      ],
      "text/plain": [
       "<IPython.core.display.HTML object>"
      ]
     },
     "metadata": {},
     "output_type": "display_data"
    },
    {
     "data": {
      "text/html": [
       "Syncing run <strong><a href='https://wandb.ai/nilsusahin-middle-east-technical-university/rag_basic_experiment/runs/n02e22l0' target=\"_blank\">still-sweep-37</a></strong> to <a href='https://wandb.ai/nilsusahin-middle-east-technical-university/rag_basic_experiment' target=\"_blank\">Weights & Biases</a> (<a href='https://wandb.me/developer-guide' target=\"_blank\">docs</a>)<br>Sweep page: <a href='https://wandb.ai/nilsusahin-middle-east-technical-university/rag_basic_experiment/sweeps/12zc357u' target=\"_blank\">https://wandb.ai/nilsusahin-middle-east-technical-university/rag_basic_experiment/sweeps/12zc357u</a>"
      ],
      "text/plain": [
       "<IPython.core.display.HTML object>"
      ]
     },
     "metadata": {},
     "output_type": "display_data"
    },
    {
     "data": {
      "text/html": [
       " View project at <a href='https://wandb.ai/nilsusahin-middle-east-technical-university/rag_basic_experiment' target=\"_blank\">https://wandb.ai/nilsusahin-middle-east-technical-university/rag_basic_experiment</a>"
      ],
      "text/plain": [
       "<IPython.core.display.HTML object>"
      ]
     },
     "metadata": {},
     "output_type": "display_data"
    },
    {
     "data": {
      "text/html": [
       " View sweep at <a href='https://wandb.ai/nilsusahin-middle-east-technical-university/rag_basic_experiment/sweeps/12zc357u' target=\"_blank\">https://wandb.ai/nilsusahin-middle-east-technical-university/rag_basic_experiment/sweeps/12zc357u</a>"
      ],
      "text/plain": [
       "<IPython.core.display.HTML object>"
      ]
     },
     "metadata": {},
     "output_type": "display_data"
    },
    {
     "data": {
      "text/html": [
       " View run at <a href='https://wandb.ai/nilsusahin-middle-east-technical-university/rag_basic_experiment/runs/n02e22l0' target=\"_blank\">https://wandb.ai/nilsusahin-middle-east-technical-university/rag_basic_experiment/runs/n02e22l0</a>"
      ],
      "text/plain": [
       "<IPython.core.display.HTML object>"
      ]
     },
     "metadata": {},
     "output_type": "display_data"
    },
    {
     "name": "stdout",
     "output_type": "stream",
     "text": [
      "The token has not been saved to the git credentials helper. Pass `add_to_git_credential=True` in this function directly or `--add-to-git-credential` if using via `huggingface-cli` if you want to set the git credential as well.\n",
      "Token is valid (permission: fineGrained).\n",
      "Your token has been saved to C:\\Users\\Nilsu.Sahin\\.cache\\huggingface\\token\n",
      "Login successful\n",
      "Mean Score: 1.0\n"
     ]
    },
    {
     "data": {
      "text/html": [],
      "text/plain": [
       "<IPython.core.display.HTML object>"
      ]
     },
     "metadata": {},
     "output_type": "display_data"
    },
    {
     "data": {
      "text/html": [
       "<br>    <style><br>        .wandb-row {<br>            display: flex;<br>            flex-direction: row;<br>            flex-wrap: wrap;<br>            justify-content: flex-start;<br>            width: 100%;<br>        }<br>        .wandb-col {<br>            display: flex;<br>            flex-direction: column;<br>            flex-basis: 100%;<br>            flex: 1;<br>            padding: 10px;<br>        }<br>    </style><br><div class=\"wandb-row\"><div class=\"wandb-col\"><h3>Run history:</h3><br/><table class=\"wandb\"><tr><td>chunk_overlap</td><td>▁</td></tr><tr><td>chunk_size</td><td>▁</td></tr><tr><td>mean_score</td><td>▁</td></tr><tr><td>temperature</td><td>▁</td></tr><tr><td>top_k</td><td>▁</td></tr></table><br/></div><div class=\"wandb-col\"><h3>Run summary:</h3><br/><table class=\"wandb\"><tr><td>chunk_overlap</td><td>0</td></tr><tr><td>chunk_size</td><td>100</td></tr><tr><td>mean_score</td><td>1</td></tr><tr><td>temperature</td><td>0.34084</td></tr><tr><td>top_k</td><td>3</td></tr></table><br/></div></div>"
      ],
      "text/plain": [
       "<IPython.core.display.HTML object>"
      ]
     },
     "metadata": {},
     "output_type": "display_data"
    },
    {
     "data": {
      "text/html": [
       " View run <strong style=\"color:#cdcd00\">still-sweep-37</strong> at: <a href='https://wandb.ai/nilsusahin-middle-east-technical-university/rag_basic_experiment/runs/n02e22l0' target=\"_blank\">https://wandb.ai/nilsusahin-middle-east-technical-university/rag_basic_experiment/runs/n02e22l0</a><br> View project at: <a href='https://wandb.ai/nilsusahin-middle-east-technical-university/rag_basic_experiment' target=\"_blank\">https://wandb.ai/nilsusahin-middle-east-technical-university/rag_basic_experiment</a><br>Synced 5 W&B file(s), 0 media file(s), 0 artifact file(s) and 0 other file(s)"
      ],
      "text/plain": [
       "<IPython.core.display.HTML object>"
      ]
     },
     "metadata": {},
     "output_type": "display_data"
    },
    {
     "data": {
      "text/html": [
       "Find logs at: <code>.\\wandb\\run-20241217_195306-n02e22l0\\logs</code>"
      ],
      "text/plain": [
       "<IPython.core.display.HTML object>"
      ]
     },
     "metadata": {},
     "output_type": "display_data"
    },
    {
     "name": "stderr",
     "output_type": "stream",
     "text": [
      "\u001b[34m\u001b[1mwandb\u001b[0m: Agent Starting Run: i4qqsvod with config:\n",
      "\u001b[34m\u001b[1mwandb\u001b[0m: \tchunk_overlap: 50\n",
      "\u001b[34m\u001b[1mwandb\u001b[0m: \tchunk_size: 200\n",
      "\u001b[34m\u001b[1mwandb\u001b[0m: \ttemperature: 0.9480499713058356\n",
      "\u001b[34m\u001b[1mwandb\u001b[0m: \ttop_k: 9\n"
     ]
    },
    {
     "data": {
      "text/html": [
       "Tracking run with wandb version 0.19.1"
      ],
      "text/plain": [
       "<IPython.core.display.HTML object>"
      ]
     },
     "metadata": {},
     "output_type": "display_data"
    },
    {
     "data": {
      "text/html": [
       "Run data is saved locally in <code>c:\\Users\\Nilsu.Sahin\\Desktop\\ns_trial\\RAG_Model\\wandb\\run-20241217_195418-i4qqsvod</code>"
      ],
      "text/plain": [
       "<IPython.core.display.HTML object>"
      ]
     },
     "metadata": {},
     "output_type": "display_data"
    },
    {
     "data": {
      "text/html": [
       "Syncing run <strong><a href='https://wandb.ai/nilsusahin-middle-east-technical-university/rag_basic_experiment/runs/i4qqsvod' target=\"_blank\">sweepy-sweep-38</a></strong> to <a href='https://wandb.ai/nilsusahin-middle-east-technical-university/rag_basic_experiment' target=\"_blank\">Weights & Biases</a> (<a href='https://wandb.me/developer-guide' target=\"_blank\">docs</a>)<br>Sweep page: <a href='https://wandb.ai/nilsusahin-middle-east-technical-university/rag_basic_experiment/sweeps/12zc357u' target=\"_blank\">https://wandb.ai/nilsusahin-middle-east-technical-university/rag_basic_experiment/sweeps/12zc357u</a>"
      ],
      "text/plain": [
       "<IPython.core.display.HTML object>"
      ]
     },
     "metadata": {},
     "output_type": "display_data"
    },
    {
     "data": {
      "text/html": [
       " View project at <a href='https://wandb.ai/nilsusahin-middle-east-technical-university/rag_basic_experiment' target=\"_blank\">https://wandb.ai/nilsusahin-middle-east-technical-university/rag_basic_experiment</a>"
      ],
      "text/plain": [
       "<IPython.core.display.HTML object>"
      ]
     },
     "metadata": {},
     "output_type": "display_data"
    },
    {
     "data": {
      "text/html": [
       " View sweep at <a href='https://wandb.ai/nilsusahin-middle-east-technical-university/rag_basic_experiment/sweeps/12zc357u' target=\"_blank\">https://wandb.ai/nilsusahin-middle-east-technical-university/rag_basic_experiment/sweeps/12zc357u</a>"
      ],
      "text/plain": [
       "<IPython.core.display.HTML object>"
      ]
     },
     "metadata": {},
     "output_type": "display_data"
    },
    {
     "data": {
      "text/html": [
       " View run at <a href='https://wandb.ai/nilsusahin-middle-east-technical-university/rag_basic_experiment/runs/i4qqsvod' target=\"_blank\">https://wandb.ai/nilsusahin-middle-east-technical-university/rag_basic_experiment/runs/i4qqsvod</a>"
      ],
      "text/plain": [
       "<IPython.core.display.HTML object>"
      ]
     },
     "metadata": {},
     "output_type": "display_data"
    },
    {
     "name": "stdout",
     "output_type": "stream",
     "text": [
      "The token has not been saved to the git credentials helper. Pass `add_to_git_credential=True` in this function directly or `--add-to-git-credential` if using via `huggingface-cli` if you want to set the git credential as well.\n",
      "Token is valid (permission: fineGrained).\n",
      "Your token has been saved to C:\\Users\\Nilsu.Sahin\\.cache\\huggingface\\token\n",
      "Login successful\n",
      "Mean Score: 1.0\n"
     ]
    },
    {
     "data": {
      "text/html": [],
      "text/plain": [
       "<IPython.core.display.HTML object>"
      ]
     },
     "metadata": {},
     "output_type": "display_data"
    },
    {
     "data": {
      "text/html": [
       "<br>    <style><br>        .wandb-row {<br>            display: flex;<br>            flex-direction: row;<br>            flex-wrap: wrap;<br>            justify-content: flex-start;<br>            width: 100%;<br>        }<br>        .wandb-col {<br>            display: flex;<br>            flex-direction: column;<br>            flex-basis: 100%;<br>            flex: 1;<br>            padding: 10px;<br>        }<br>    </style><br><div class=\"wandb-row\"><div class=\"wandb-col\"><h3>Run history:</h3><br/><table class=\"wandb\"><tr><td>chunk_overlap</td><td>▁</td></tr><tr><td>chunk_size</td><td>▁</td></tr><tr><td>mean_score</td><td>▁</td></tr><tr><td>temperature</td><td>▁</td></tr><tr><td>top_k</td><td>▁</td></tr></table><br/></div><div class=\"wandb-col\"><h3>Run summary:</h3><br/><table class=\"wandb\"><tr><td>chunk_overlap</td><td>50</td></tr><tr><td>chunk_size</td><td>200</td></tr><tr><td>mean_score</td><td>1</td></tr><tr><td>temperature</td><td>0.94805</td></tr><tr><td>top_k</td><td>9</td></tr></table><br/></div></div>"
      ],
      "text/plain": [
       "<IPython.core.display.HTML object>"
      ]
     },
     "metadata": {},
     "output_type": "display_data"
    },
    {
     "data": {
      "text/html": [
       " View run <strong style=\"color:#cdcd00\">sweepy-sweep-38</strong> at: <a href='https://wandb.ai/nilsusahin-middle-east-technical-university/rag_basic_experiment/runs/i4qqsvod' target=\"_blank\">https://wandb.ai/nilsusahin-middle-east-technical-university/rag_basic_experiment/runs/i4qqsvod</a><br> View project at: <a href='https://wandb.ai/nilsusahin-middle-east-technical-university/rag_basic_experiment' target=\"_blank\">https://wandb.ai/nilsusahin-middle-east-technical-university/rag_basic_experiment</a><br>Synced 5 W&B file(s), 0 media file(s), 0 artifact file(s) and 0 other file(s)"
      ],
      "text/plain": [
       "<IPython.core.display.HTML object>"
      ]
     },
     "metadata": {},
     "output_type": "display_data"
    },
    {
     "data": {
      "text/html": [
       "Find logs at: <code>.\\wandb\\run-20241217_195418-i4qqsvod\\logs</code>"
      ],
      "text/plain": [
       "<IPython.core.display.HTML object>"
      ]
     },
     "metadata": {},
     "output_type": "display_data"
    },
    {
     "name": "stderr",
     "output_type": "stream",
     "text": [
      "\u001b[34m\u001b[1mwandb\u001b[0m: Agent Starting Run: qtorntlf with config:\n",
      "\u001b[34m\u001b[1mwandb\u001b[0m: \tchunk_overlap: 50\n",
      "\u001b[34m\u001b[1mwandb\u001b[0m: \tchunk_size: 100\n",
      "\u001b[34m\u001b[1mwandb\u001b[0m: \ttemperature: 0.29033853921690866\n",
      "\u001b[34m\u001b[1mwandb\u001b[0m: \ttop_k: 7\n"
     ]
    },
    {
     "data": {
      "text/html": [
       "Tracking run with wandb version 0.19.1"
      ],
      "text/plain": [
       "<IPython.core.display.HTML object>"
      ]
     },
     "metadata": {},
     "output_type": "display_data"
    },
    {
     "data": {
      "text/html": [
       "Run data is saved locally in <code>c:\\Users\\Nilsu.Sahin\\Desktop\\ns_trial\\RAG_Model\\wandb\\run-20241217_195453-qtorntlf</code>"
      ],
      "text/plain": [
       "<IPython.core.display.HTML object>"
      ]
     },
     "metadata": {},
     "output_type": "display_data"
    },
    {
     "data": {
      "text/html": [
       "Syncing run <strong><a href='https://wandb.ai/nilsusahin-middle-east-technical-university/rag_basic_experiment/runs/qtorntlf' target=\"_blank\">devoted-sweep-39</a></strong> to <a href='https://wandb.ai/nilsusahin-middle-east-technical-university/rag_basic_experiment' target=\"_blank\">Weights & Biases</a> (<a href='https://wandb.me/developer-guide' target=\"_blank\">docs</a>)<br>Sweep page: <a href='https://wandb.ai/nilsusahin-middle-east-technical-university/rag_basic_experiment/sweeps/12zc357u' target=\"_blank\">https://wandb.ai/nilsusahin-middle-east-technical-university/rag_basic_experiment/sweeps/12zc357u</a>"
      ],
      "text/plain": [
       "<IPython.core.display.HTML object>"
      ]
     },
     "metadata": {},
     "output_type": "display_data"
    },
    {
     "data": {
      "text/html": [
       " View project at <a href='https://wandb.ai/nilsusahin-middle-east-technical-university/rag_basic_experiment' target=\"_blank\">https://wandb.ai/nilsusahin-middle-east-technical-university/rag_basic_experiment</a>"
      ],
      "text/plain": [
       "<IPython.core.display.HTML object>"
      ]
     },
     "metadata": {},
     "output_type": "display_data"
    },
    {
     "data": {
      "text/html": [
       " View sweep at <a href='https://wandb.ai/nilsusahin-middle-east-technical-university/rag_basic_experiment/sweeps/12zc357u' target=\"_blank\">https://wandb.ai/nilsusahin-middle-east-technical-university/rag_basic_experiment/sweeps/12zc357u</a>"
      ],
      "text/plain": [
       "<IPython.core.display.HTML object>"
      ]
     },
     "metadata": {},
     "output_type": "display_data"
    },
    {
     "data": {
      "text/html": [
       " View run at <a href='https://wandb.ai/nilsusahin-middle-east-technical-university/rag_basic_experiment/runs/qtorntlf' target=\"_blank\">https://wandb.ai/nilsusahin-middle-east-technical-university/rag_basic_experiment/runs/qtorntlf</a>"
      ],
      "text/plain": [
       "<IPython.core.display.HTML object>"
      ]
     },
     "metadata": {},
     "output_type": "display_data"
    },
    {
     "name": "stdout",
     "output_type": "stream",
     "text": [
      "The token has not been saved to the git credentials helper. Pass `add_to_git_credential=True` in this function directly or `--add-to-git-credential` if using via `huggingface-cli` if you want to set the git credential as well.\n",
      "Token is valid (permission: fineGrained).\n",
      "Your token has been saved to C:\\Users\\Nilsu.Sahin\\.cache\\huggingface\\token\n",
      "Login successful\n",
      "Mean Score: 1.0\n"
     ]
    },
    {
     "data": {
      "text/html": [],
      "text/plain": [
       "<IPython.core.display.HTML object>"
      ]
     },
     "metadata": {},
     "output_type": "display_data"
    },
    {
     "data": {
      "text/html": [
       "<br>    <style><br>        .wandb-row {<br>            display: flex;<br>            flex-direction: row;<br>            flex-wrap: wrap;<br>            justify-content: flex-start;<br>            width: 100%;<br>        }<br>        .wandb-col {<br>            display: flex;<br>            flex-direction: column;<br>            flex-basis: 100%;<br>            flex: 1;<br>            padding: 10px;<br>        }<br>    </style><br><div class=\"wandb-row\"><div class=\"wandb-col\"><h3>Run history:</h3><br/><table class=\"wandb\"><tr><td>chunk_overlap</td><td>▁</td></tr><tr><td>chunk_size</td><td>▁</td></tr><tr><td>mean_score</td><td>▁</td></tr><tr><td>temperature</td><td>▁</td></tr><tr><td>top_k</td><td>▁</td></tr></table><br/></div><div class=\"wandb-col\"><h3>Run summary:</h3><br/><table class=\"wandb\"><tr><td>chunk_overlap</td><td>50</td></tr><tr><td>chunk_size</td><td>100</td></tr><tr><td>mean_score</td><td>1</td></tr><tr><td>temperature</td><td>0.29034</td></tr><tr><td>top_k</td><td>7</td></tr></table><br/></div></div>"
      ],
      "text/plain": [
       "<IPython.core.display.HTML object>"
      ]
     },
     "metadata": {},
     "output_type": "display_data"
    },
    {
     "data": {
      "text/html": [
       " View run <strong style=\"color:#cdcd00\">devoted-sweep-39</strong> at: <a href='https://wandb.ai/nilsusahin-middle-east-technical-university/rag_basic_experiment/runs/qtorntlf' target=\"_blank\">https://wandb.ai/nilsusahin-middle-east-technical-university/rag_basic_experiment/runs/qtorntlf</a><br> View project at: <a href='https://wandb.ai/nilsusahin-middle-east-technical-university/rag_basic_experiment' target=\"_blank\">https://wandb.ai/nilsusahin-middle-east-technical-university/rag_basic_experiment</a><br>Synced 5 W&B file(s), 0 media file(s), 0 artifact file(s) and 0 other file(s)"
      ],
      "text/plain": [
       "<IPython.core.display.HTML object>"
      ]
     },
     "metadata": {},
     "output_type": "display_data"
    },
    {
     "data": {
      "text/html": [
       "Find logs at: <code>.\\wandb\\run-20241217_195453-qtorntlf\\logs</code>"
      ],
      "text/plain": [
       "<IPython.core.display.HTML object>"
      ]
     },
     "metadata": {},
     "output_type": "display_data"
    },
    {
     "name": "stderr",
     "output_type": "stream",
     "text": [
      "\u001b[34m\u001b[1mwandb\u001b[0m: Sweep Agent: Waiting for job.\n",
      "\u001b[34m\u001b[1mwandb\u001b[0m: Job received.\n",
      "\u001b[34m\u001b[1mwandb\u001b[0m: Agent Starting Run: p6lqylzg with config:\n",
      "\u001b[34m\u001b[1mwandb\u001b[0m: \tchunk_overlap: 0\n",
      "\u001b[34m\u001b[1mwandb\u001b[0m: \tchunk_size: 100\n",
      "\u001b[34m\u001b[1mwandb\u001b[0m: \ttemperature: 0.7458270383298126\n",
      "\u001b[34m\u001b[1mwandb\u001b[0m: \ttop_k: 2\n"
     ]
    },
    {
     "data": {
      "text/html": [
       "Tracking run with wandb version 0.19.1"
      ],
      "text/plain": [
       "<IPython.core.display.HTML object>"
      ]
     },
     "metadata": {},
     "output_type": "display_data"
    },
    {
     "data": {
      "text/html": [
       "Run data is saved locally in <code>c:\\Users\\Nilsu.Sahin\\Desktop\\ns_trial\\RAG_Model\\wandb\\run-20241217_195528-p6lqylzg</code>"
      ],
      "text/plain": [
       "<IPython.core.display.HTML object>"
      ]
     },
     "metadata": {},
     "output_type": "display_data"
    },
    {
     "data": {
      "text/html": [
       "Syncing run <strong><a href='https://wandb.ai/nilsusahin-middle-east-technical-university/rag_basic_experiment/runs/p6lqylzg' target=\"_blank\">driven-sweep-40</a></strong> to <a href='https://wandb.ai/nilsusahin-middle-east-technical-university/rag_basic_experiment' target=\"_blank\">Weights & Biases</a> (<a href='https://wandb.me/developer-guide' target=\"_blank\">docs</a>)<br>Sweep page: <a href='https://wandb.ai/nilsusahin-middle-east-technical-university/rag_basic_experiment/sweeps/12zc357u' target=\"_blank\">https://wandb.ai/nilsusahin-middle-east-technical-university/rag_basic_experiment/sweeps/12zc357u</a>"
      ],
      "text/plain": [
       "<IPython.core.display.HTML object>"
      ]
     },
     "metadata": {},
     "output_type": "display_data"
    },
    {
     "data": {
      "text/html": [
       " View project at <a href='https://wandb.ai/nilsusahin-middle-east-technical-university/rag_basic_experiment' target=\"_blank\">https://wandb.ai/nilsusahin-middle-east-technical-university/rag_basic_experiment</a>"
      ],
      "text/plain": [
       "<IPython.core.display.HTML object>"
      ]
     },
     "metadata": {},
     "output_type": "display_data"
    },
    {
     "data": {
      "text/html": [
       " View sweep at <a href='https://wandb.ai/nilsusahin-middle-east-technical-university/rag_basic_experiment/sweeps/12zc357u' target=\"_blank\">https://wandb.ai/nilsusahin-middle-east-technical-university/rag_basic_experiment/sweeps/12zc357u</a>"
      ],
      "text/plain": [
       "<IPython.core.display.HTML object>"
      ]
     },
     "metadata": {},
     "output_type": "display_data"
    },
    {
     "data": {
      "text/html": [
       " View run at <a href='https://wandb.ai/nilsusahin-middle-east-technical-university/rag_basic_experiment/runs/p6lqylzg' target=\"_blank\">https://wandb.ai/nilsusahin-middle-east-technical-university/rag_basic_experiment/runs/p6lqylzg</a>"
      ],
      "text/plain": [
       "<IPython.core.display.HTML object>"
      ]
     },
     "metadata": {},
     "output_type": "display_data"
    },
    {
     "name": "stdout",
     "output_type": "stream",
     "text": [
      "The token has not been saved to the git credentials helper. Pass `add_to_git_credential=True` in this function directly or `--add-to-git-credential` if using via `huggingface-cli` if you want to set the git credential as well.\n",
      "Token is valid (permission: fineGrained).\n",
      "Your token has been saved to C:\\Users\\Nilsu.Sahin\\.cache\\huggingface\\token\n",
      "Login successful\n",
      "Mean Score: 1.0\n"
     ]
    },
    {
     "data": {
      "text/html": [],
      "text/plain": [
       "<IPython.core.display.HTML object>"
      ]
     },
     "metadata": {},
     "output_type": "display_data"
    },
    {
     "data": {
      "text/html": [
       "<br>    <style><br>        .wandb-row {<br>            display: flex;<br>            flex-direction: row;<br>            flex-wrap: wrap;<br>            justify-content: flex-start;<br>            width: 100%;<br>        }<br>        .wandb-col {<br>            display: flex;<br>            flex-direction: column;<br>            flex-basis: 100%;<br>            flex: 1;<br>            padding: 10px;<br>        }<br>    </style><br><div class=\"wandb-row\"><div class=\"wandb-col\"><h3>Run history:</h3><br/><table class=\"wandb\"><tr><td>chunk_overlap</td><td>▁</td></tr><tr><td>chunk_size</td><td>▁</td></tr><tr><td>mean_score</td><td>▁</td></tr><tr><td>temperature</td><td>▁</td></tr><tr><td>top_k</td><td>▁</td></tr></table><br/></div><div class=\"wandb-col\"><h3>Run summary:</h3><br/><table class=\"wandb\"><tr><td>chunk_overlap</td><td>0</td></tr><tr><td>chunk_size</td><td>100</td></tr><tr><td>mean_score</td><td>1</td></tr><tr><td>temperature</td><td>0.74583</td></tr><tr><td>top_k</td><td>2</td></tr></table><br/></div></div>"
      ],
      "text/plain": [
       "<IPython.core.display.HTML object>"
      ]
     },
     "metadata": {},
     "output_type": "display_data"
    },
    {
     "data": {
      "text/html": [
       " View run <strong style=\"color:#cdcd00\">driven-sweep-40</strong> at: <a href='https://wandb.ai/nilsusahin-middle-east-technical-university/rag_basic_experiment/runs/p6lqylzg' target=\"_blank\">https://wandb.ai/nilsusahin-middle-east-technical-university/rag_basic_experiment/runs/p6lqylzg</a><br> View project at: <a href='https://wandb.ai/nilsusahin-middle-east-technical-university/rag_basic_experiment' target=\"_blank\">https://wandb.ai/nilsusahin-middle-east-technical-university/rag_basic_experiment</a><br>Synced 5 W&B file(s), 0 media file(s), 0 artifact file(s) and 0 other file(s)"
      ],
      "text/plain": [
       "<IPython.core.display.HTML object>"
      ]
     },
     "metadata": {},
     "output_type": "display_data"
    },
    {
     "data": {
      "text/html": [
       "Find logs at: <code>.\\wandb\\run-20241217_195528-p6lqylzg\\logs</code>"
      ],
      "text/plain": [
       "<IPython.core.display.HTML object>"
      ]
     },
     "metadata": {},
     "output_type": "display_data"
    },
    {
     "name": "stderr",
     "output_type": "stream",
     "text": [
      "\u001b[34m\u001b[1mwandb\u001b[0m: Agent Starting Run: 6khetb9s with config:\n",
      "\u001b[34m\u001b[1mwandb\u001b[0m: \tchunk_overlap: 50\n",
      "\u001b[34m\u001b[1mwandb\u001b[0m: \tchunk_size: 100\n",
      "\u001b[34m\u001b[1mwandb\u001b[0m: \ttemperature: 0.5719971440964469\n",
      "\u001b[34m\u001b[1mwandb\u001b[0m: \ttop_k: 7\n"
     ]
    },
    {
     "data": {
      "text/html": [
       "Tracking run with wandb version 0.19.1"
      ],
      "text/plain": [
       "<IPython.core.display.HTML object>"
      ]
     },
     "metadata": {},
     "output_type": "display_data"
    },
    {
     "data": {
      "text/html": [
       "Run data is saved locally in <code>c:\\Users\\Nilsu.Sahin\\Desktop\\ns_trial\\RAG_Model\\wandb\\run-20241217_195551-6khetb9s</code>"
      ],
      "text/plain": [
       "<IPython.core.display.HTML object>"
      ]
     },
     "metadata": {},
     "output_type": "display_data"
    },
    {
     "data": {
      "text/html": [
       "Syncing run <strong><a href='https://wandb.ai/nilsusahin-middle-east-technical-university/rag_basic_experiment/runs/6khetb9s' target=\"_blank\">deep-sweep-41</a></strong> to <a href='https://wandb.ai/nilsusahin-middle-east-technical-university/rag_basic_experiment' target=\"_blank\">Weights & Biases</a> (<a href='https://wandb.me/developer-guide' target=\"_blank\">docs</a>)<br>Sweep page: <a href='https://wandb.ai/nilsusahin-middle-east-technical-university/rag_basic_experiment/sweeps/12zc357u' target=\"_blank\">https://wandb.ai/nilsusahin-middle-east-technical-university/rag_basic_experiment/sweeps/12zc357u</a>"
      ],
      "text/plain": [
       "<IPython.core.display.HTML object>"
      ]
     },
     "metadata": {},
     "output_type": "display_data"
    },
    {
     "data": {
      "text/html": [
       " View project at <a href='https://wandb.ai/nilsusahin-middle-east-technical-university/rag_basic_experiment' target=\"_blank\">https://wandb.ai/nilsusahin-middle-east-technical-university/rag_basic_experiment</a>"
      ],
      "text/plain": [
       "<IPython.core.display.HTML object>"
      ]
     },
     "metadata": {},
     "output_type": "display_data"
    },
    {
     "data": {
      "text/html": [
       " View sweep at <a href='https://wandb.ai/nilsusahin-middle-east-technical-university/rag_basic_experiment/sweeps/12zc357u' target=\"_blank\">https://wandb.ai/nilsusahin-middle-east-technical-university/rag_basic_experiment/sweeps/12zc357u</a>"
      ],
      "text/plain": [
       "<IPython.core.display.HTML object>"
      ]
     },
     "metadata": {},
     "output_type": "display_data"
    },
    {
     "data": {
      "text/html": [
       " View run at <a href='https://wandb.ai/nilsusahin-middle-east-technical-university/rag_basic_experiment/runs/6khetb9s' target=\"_blank\">https://wandb.ai/nilsusahin-middle-east-technical-university/rag_basic_experiment/runs/6khetb9s</a>"
      ],
      "text/plain": [
       "<IPython.core.display.HTML object>"
      ]
     },
     "metadata": {},
     "output_type": "display_data"
    },
    {
     "name": "stdout",
     "output_type": "stream",
     "text": [
      "The token has not been saved to the git credentials helper. Pass `add_to_git_credential=True` in this function directly or `--add-to-git-credential` if using via `huggingface-cli` if you want to set the git credential as well.\n",
      "Token is valid (permission: fineGrained).\n",
      "Your token has been saved to C:\\Users\\Nilsu.Sahin\\.cache\\huggingface\\token\n",
      "Login successful\n",
      "Mean Score: 1.0\n"
     ]
    },
    {
     "data": {
      "text/html": [],
      "text/plain": [
       "<IPython.core.display.HTML object>"
      ]
     },
     "metadata": {},
     "output_type": "display_data"
    },
    {
     "data": {
      "text/html": [
       "<br>    <style><br>        .wandb-row {<br>            display: flex;<br>            flex-direction: row;<br>            flex-wrap: wrap;<br>            justify-content: flex-start;<br>            width: 100%;<br>        }<br>        .wandb-col {<br>            display: flex;<br>            flex-direction: column;<br>            flex-basis: 100%;<br>            flex: 1;<br>            padding: 10px;<br>        }<br>    </style><br><div class=\"wandb-row\"><div class=\"wandb-col\"><h3>Run history:</h3><br/><table class=\"wandb\"><tr><td>chunk_overlap</td><td>▁</td></tr><tr><td>chunk_size</td><td>▁</td></tr><tr><td>mean_score</td><td>▁</td></tr><tr><td>temperature</td><td>▁</td></tr><tr><td>top_k</td><td>▁</td></tr></table><br/></div><div class=\"wandb-col\"><h3>Run summary:</h3><br/><table class=\"wandb\"><tr><td>chunk_overlap</td><td>50</td></tr><tr><td>chunk_size</td><td>100</td></tr><tr><td>mean_score</td><td>1</td></tr><tr><td>temperature</td><td>0.572</td></tr><tr><td>top_k</td><td>7</td></tr></table><br/></div></div>"
      ],
      "text/plain": [
       "<IPython.core.display.HTML object>"
      ]
     },
     "metadata": {},
     "output_type": "display_data"
    },
    {
     "data": {
      "text/html": [
       " View run <strong style=\"color:#cdcd00\">deep-sweep-41</strong> at: <a href='https://wandb.ai/nilsusahin-middle-east-technical-university/rag_basic_experiment/runs/6khetb9s' target=\"_blank\">https://wandb.ai/nilsusahin-middle-east-technical-university/rag_basic_experiment/runs/6khetb9s</a><br> View project at: <a href='https://wandb.ai/nilsusahin-middle-east-technical-university/rag_basic_experiment' target=\"_blank\">https://wandb.ai/nilsusahin-middle-east-technical-university/rag_basic_experiment</a><br>Synced 5 W&B file(s), 0 media file(s), 0 artifact file(s) and 0 other file(s)"
      ],
      "text/plain": [
       "<IPython.core.display.HTML object>"
      ]
     },
     "metadata": {},
     "output_type": "display_data"
    },
    {
     "data": {
      "text/html": [
       "Find logs at: <code>.\\wandb\\run-20241217_195551-6khetb9s\\logs</code>"
      ],
      "text/plain": [
       "<IPython.core.display.HTML object>"
      ]
     },
     "metadata": {},
     "output_type": "display_data"
    },
    {
     "name": "stderr",
     "output_type": "stream",
     "text": [
      "\u001b[34m\u001b[1mwandb\u001b[0m: Sweep Agent: Waiting for job.\n",
      "\u001b[34m\u001b[1mwandb\u001b[0m: Job received.\n",
      "\u001b[34m\u001b[1mwandb\u001b[0m: Agent Starting Run: 0dihwntr with config:\n",
      "\u001b[34m\u001b[1mwandb\u001b[0m: \tchunk_overlap: 0\n",
      "\u001b[34m\u001b[1mwandb\u001b[0m: \tchunk_size: 100\n",
      "\u001b[34m\u001b[1mwandb\u001b[0m: \ttemperature: 0.2502536788703294\n",
      "\u001b[34m\u001b[1mwandb\u001b[0m: \ttop_k: 9\n"
     ]
    },
    {
     "data": {
      "text/html": [
       "Tracking run with wandb version 0.19.1"
      ],
      "text/plain": [
       "<IPython.core.display.HTML object>"
      ]
     },
     "metadata": {},
     "output_type": "display_data"
    },
    {
     "data": {
      "text/html": [
       "Run data is saved locally in <code>c:\\Users\\Nilsu.Sahin\\Desktop\\ns_trial\\RAG_Model\\wandb\\run-20241217_195623-0dihwntr</code>"
      ],
      "text/plain": [
       "<IPython.core.display.HTML object>"
      ]
     },
     "metadata": {},
     "output_type": "display_data"
    },
    {
     "data": {
      "text/html": [
       "Syncing run <strong><a href='https://wandb.ai/nilsusahin-middle-east-technical-university/rag_basic_experiment/runs/0dihwntr' target=\"_blank\">eager-sweep-42</a></strong> to <a href='https://wandb.ai/nilsusahin-middle-east-technical-university/rag_basic_experiment' target=\"_blank\">Weights & Biases</a> (<a href='https://wandb.me/developer-guide' target=\"_blank\">docs</a>)<br>Sweep page: <a href='https://wandb.ai/nilsusahin-middle-east-technical-university/rag_basic_experiment/sweeps/12zc357u' target=\"_blank\">https://wandb.ai/nilsusahin-middle-east-technical-university/rag_basic_experiment/sweeps/12zc357u</a>"
      ],
      "text/plain": [
       "<IPython.core.display.HTML object>"
      ]
     },
     "metadata": {},
     "output_type": "display_data"
    },
    {
     "data": {
      "text/html": [
       " View project at <a href='https://wandb.ai/nilsusahin-middle-east-technical-university/rag_basic_experiment' target=\"_blank\">https://wandb.ai/nilsusahin-middle-east-technical-university/rag_basic_experiment</a>"
      ],
      "text/plain": [
       "<IPython.core.display.HTML object>"
      ]
     },
     "metadata": {},
     "output_type": "display_data"
    },
    {
     "data": {
      "text/html": [
       " View sweep at <a href='https://wandb.ai/nilsusahin-middle-east-technical-university/rag_basic_experiment/sweeps/12zc357u' target=\"_blank\">https://wandb.ai/nilsusahin-middle-east-technical-university/rag_basic_experiment/sweeps/12zc357u</a>"
      ],
      "text/plain": [
       "<IPython.core.display.HTML object>"
      ]
     },
     "metadata": {},
     "output_type": "display_data"
    },
    {
     "data": {
      "text/html": [
       " View run at <a href='https://wandb.ai/nilsusahin-middle-east-technical-university/rag_basic_experiment/runs/0dihwntr' target=\"_blank\">https://wandb.ai/nilsusahin-middle-east-technical-university/rag_basic_experiment/runs/0dihwntr</a>"
      ],
      "text/plain": [
       "<IPython.core.display.HTML object>"
      ]
     },
     "metadata": {},
     "output_type": "display_data"
    },
    {
     "name": "stdout",
     "output_type": "stream",
     "text": [
      "The token has not been saved to the git credentials helper. Pass `add_to_git_credential=True` in this function directly or `--add-to-git-credential` if using via `huggingface-cli` if you want to set the git credential as well.\n",
      "Token is valid (permission: fineGrained).\n",
      "Your token has been saved to C:\\Users\\Nilsu.Sahin\\.cache\\huggingface\\token\n",
      "Login successful\n",
      "Mean Score: 1.0\n"
     ]
    },
    {
     "data": {
      "text/html": [],
      "text/plain": [
       "<IPython.core.display.HTML object>"
      ]
     },
     "metadata": {},
     "output_type": "display_data"
    },
    {
     "data": {
      "text/html": [
       "<br>    <style><br>        .wandb-row {<br>            display: flex;<br>            flex-direction: row;<br>            flex-wrap: wrap;<br>            justify-content: flex-start;<br>            width: 100%;<br>        }<br>        .wandb-col {<br>            display: flex;<br>            flex-direction: column;<br>            flex-basis: 100%;<br>            flex: 1;<br>            padding: 10px;<br>        }<br>    </style><br><div class=\"wandb-row\"><div class=\"wandb-col\"><h3>Run history:</h3><br/><table class=\"wandb\"><tr><td>chunk_overlap</td><td>▁</td></tr><tr><td>chunk_size</td><td>▁</td></tr><tr><td>mean_score</td><td>▁</td></tr><tr><td>temperature</td><td>▁</td></tr><tr><td>top_k</td><td>▁</td></tr></table><br/></div><div class=\"wandb-col\"><h3>Run summary:</h3><br/><table class=\"wandb\"><tr><td>chunk_overlap</td><td>0</td></tr><tr><td>chunk_size</td><td>100</td></tr><tr><td>mean_score</td><td>1</td></tr><tr><td>temperature</td><td>0.25025</td></tr><tr><td>top_k</td><td>9</td></tr></table><br/></div></div>"
      ],
      "text/plain": [
       "<IPython.core.display.HTML object>"
      ]
     },
     "metadata": {},
     "output_type": "display_data"
    },
    {
     "data": {
      "text/html": [
       " View run <strong style=\"color:#cdcd00\">eager-sweep-42</strong> at: <a href='https://wandb.ai/nilsusahin-middle-east-technical-university/rag_basic_experiment/runs/0dihwntr' target=\"_blank\">https://wandb.ai/nilsusahin-middle-east-technical-university/rag_basic_experiment/runs/0dihwntr</a><br> View project at: <a href='https://wandb.ai/nilsusahin-middle-east-technical-university/rag_basic_experiment' target=\"_blank\">https://wandb.ai/nilsusahin-middle-east-technical-university/rag_basic_experiment</a><br>Synced 5 W&B file(s), 0 media file(s), 0 artifact file(s) and 0 other file(s)"
      ],
      "text/plain": [
       "<IPython.core.display.HTML object>"
      ]
     },
     "metadata": {},
     "output_type": "display_data"
    },
    {
     "data": {
      "text/html": [
       "Find logs at: <code>.\\wandb\\run-20241217_195623-0dihwntr\\logs</code>"
      ],
      "text/plain": [
       "<IPython.core.display.HTML object>"
      ]
     },
     "metadata": {},
     "output_type": "display_data"
    },
    {
     "name": "stderr",
     "output_type": "stream",
     "text": [
      "\u001b[34m\u001b[1mwandb\u001b[0m: Sweep Agent: Waiting for job.\n",
      "\u001b[34m\u001b[1mwandb\u001b[0m: Job received.\n",
      "\u001b[34m\u001b[1mwandb\u001b[0m: Agent Starting Run: k1qnw57r with config:\n",
      "\u001b[34m\u001b[1mwandb\u001b[0m: \tchunk_overlap: 50\n",
      "\u001b[34m\u001b[1mwandb\u001b[0m: \tchunk_size: 200\n",
      "\u001b[34m\u001b[1mwandb\u001b[0m: \ttemperature: 0.4868669974330453\n",
      "\u001b[34m\u001b[1mwandb\u001b[0m: \ttop_k: 9\n"
     ]
    },
    {
     "data": {
      "text/html": [
       "Tracking run with wandb version 0.19.1"
      ],
      "text/plain": [
       "<IPython.core.display.HTML object>"
      ]
     },
     "metadata": {},
     "output_type": "display_data"
    },
    {
     "data": {
      "text/html": [
       "Run data is saved locally in <code>c:\\Users\\Nilsu.Sahin\\Desktop\\ns_trial\\RAG_Model\\wandb\\run-20241217_195700-k1qnw57r</code>"
      ],
      "text/plain": [
       "<IPython.core.display.HTML object>"
      ]
     },
     "metadata": {},
     "output_type": "display_data"
    },
    {
     "data": {
      "text/html": [
       "Syncing run <strong><a href='https://wandb.ai/nilsusahin-middle-east-technical-university/rag_basic_experiment/runs/k1qnw57r' target=\"_blank\">ethereal-sweep-43</a></strong> to <a href='https://wandb.ai/nilsusahin-middle-east-technical-university/rag_basic_experiment' target=\"_blank\">Weights & Biases</a> (<a href='https://wandb.me/developer-guide' target=\"_blank\">docs</a>)<br>Sweep page: <a href='https://wandb.ai/nilsusahin-middle-east-technical-university/rag_basic_experiment/sweeps/12zc357u' target=\"_blank\">https://wandb.ai/nilsusahin-middle-east-technical-university/rag_basic_experiment/sweeps/12zc357u</a>"
      ],
      "text/plain": [
       "<IPython.core.display.HTML object>"
      ]
     },
     "metadata": {},
     "output_type": "display_data"
    },
    {
     "data": {
      "text/html": [
       " View project at <a href='https://wandb.ai/nilsusahin-middle-east-technical-university/rag_basic_experiment' target=\"_blank\">https://wandb.ai/nilsusahin-middle-east-technical-university/rag_basic_experiment</a>"
      ],
      "text/plain": [
       "<IPython.core.display.HTML object>"
      ]
     },
     "metadata": {},
     "output_type": "display_data"
    },
    {
     "data": {
      "text/html": [
       " View sweep at <a href='https://wandb.ai/nilsusahin-middle-east-technical-university/rag_basic_experiment/sweeps/12zc357u' target=\"_blank\">https://wandb.ai/nilsusahin-middle-east-technical-university/rag_basic_experiment/sweeps/12zc357u</a>"
      ],
      "text/plain": [
       "<IPython.core.display.HTML object>"
      ]
     },
     "metadata": {},
     "output_type": "display_data"
    },
    {
     "data": {
      "text/html": [
       " View run at <a href='https://wandb.ai/nilsusahin-middle-east-technical-university/rag_basic_experiment/runs/k1qnw57r' target=\"_blank\">https://wandb.ai/nilsusahin-middle-east-technical-university/rag_basic_experiment/runs/k1qnw57r</a>"
      ],
      "text/plain": [
       "<IPython.core.display.HTML object>"
      ]
     },
     "metadata": {},
     "output_type": "display_data"
    },
    {
     "name": "stdout",
     "output_type": "stream",
     "text": [
      "The token has not been saved to the git credentials helper. Pass `add_to_git_credential=True` in this function directly or `--add-to-git-credential` if using via `huggingface-cli` if you want to set the git credential as well.\n",
      "Token is valid (permission: fineGrained).\n",
      "Your token has been saved to C:\\Users\\Nilsu.Sahin\\.cache\\huggingface\\token\n",
      "Login successful\n",
      "Mean Score: 1.0\n"
     ]
    },
    {
     "data": {
      "text/html": [],
      "text/plain": [
       "<IPython.core.display.HTML object>"
      ]
     },
     "metadata": {},
     "output_type": "display_data"
    },
    {
     "data": {
      "text/html": [
       "<br>    <style><br>        .wandb-row {<br>            display: flex;<br>            flex-direction: row;<br>            flex-wrap: wrap;<br>            justify-content: flex-start;<br>            width: 100%;<br>        }<br>        .wandb-col {<br>            display: flex;<br>            flex-direction: column;<br>            flex-basis: 100%;<br>            flex: 1;<br>            padding: 10px;<br>        }<br>    </style><br><div class=\"wandb-row\"><div class=\"wandb-col\"><h3>Run history:</h3><br/><table class=\"wandb\"><tr><td>chunk_overlap</td><td>▁</td></tr><tr><td>chunk_size</td><td>▁</td></tr><tr><td>mean_score</td><td>▁</td></tr><tr><td>temperature</td><td>▁</td></tr><tr><td>top_k</td><td>▁</td></tr></table><br/></div><div class=\"wandb-col\"><h3>Run summary:</h3><br/><table class=\"wandb\"><tr><td>chunk_overlap</td><td>50</td></tr><tr><td>chunk_size</td><td>200</td></tr><tr><td>mean_score</td><td>1</td></tr><tr><td>temperature</td><td>0.48687</td></tr><tr><td>top_k</td><td>9</td></tr></table><br/></div></div>"
      ],
      "text/plain": [
       "<IPython.core.display.HTML object>"
      ]
     },
     "metadata": {},
     "output_type": "display_data"
    },
    {
     "data": {
      "text/html": [
       " View run <strong style=\"color:#cdcd00\">ethereal-sweep-43</strong> at: <a href='https://wandb.ai/nilsusahin-middle-east-technical-university/rag_basic_experiment/runs/k1qnw57r' target=\"_blank\">https://wandb.ai/nilsusahin-middle-east-technical-university/rag_basic_experiment/runs/k1qnw57r</a><br> View project at: <a href='https://wandb.ai/nilsusahin-middle-east-technical-university/rag_basic_experiment' target=\"_blank\">https://wandb.ai/nilsusahin-middle-east-technical-university/rag_basic_experiment</a><br>Synced 5 W&B file(s), 0 media file(s), 0 artifact file(s) and 0 other file(s)"
      ],
      "text/plain": [
       "<IPython.core.display.HTML object>"
      ]
     },
     "metadata": {},
     "output_type": "display_data"
    },
    {
     "data": {
      "text/html": [
       "Find logs at: <code>.\\wandb\\run-20241217_195700-k1qnw57r\\logs</code>"
      ],
      "text/plain": [
       "<IPython.core.display.HTML object>"
      ]
     },
     "metadata": {},
     "output_type": "display_data"
    },
    {
     "name": "stderr",
     "output_type": "stream",
     "text": [
      "\u001b[34m\u001b[1mwandb\u001b[0m: Agent Starting Run: c35m824l with config:\n",
      "\u001b[34m\u001b[1mwandb\u001b[0m: \tchunk_overlap: 0\n",
      "\u001b[34m\u001b[1mwandb\u001b[0m: \tchunk_size: 100\n",
      "\u001b[34m\u001b[1mwandb\u001b[0m: \ttemperature: 0.32311671534530334\n",
      "\u001b[34m\u001b[1mwandb\u001b[0m: \ttop_k: 10\n"
     ]
    },
    {
     "data": {
      "text/html": [
       "Tracking run with wandb version 0.19.1"
      ],
      "text/plain": [
       "<IPython.core.display.HTML object>"
      ]
     },
     "metadata": {},
     "output_type": "display_data"
    },
    {
     "data": {
      "text/html": [
       "Run data is saved locally in <code>c:\\Users\\Nilsu.Sahin\\Desktop\\ns_trial\\RAG_Model\\wandb\\run-20241217_195727-c35m824l</code>"
      ],
      "text/plain": [
       "<IPython.core.display.HTML object>"
      ]
     },
     "metadata": {},
     "output_type": "display_data"
    },
    {
     "data": {
      "text/html": [
       "Syncing run <strong><a href='https://wandb.ai/nilsusahin-middle-east-technical-university/rag_basic_experiment/runs/c35m824l' target=\"_blank\">cool-sweep-44</a></strong> to <a href='https://wandb.ai/nilsusahin-middle-east-technical-university/rag_basic_experiment' target=\"_blank\">Weights & Biases</a> (<a href='https://wandb.me/developer-guide' target=\"_blank\">docs</a>)<br>Sweep page: <a href='https://wandb.ai/nilsusahin-middle-east-technical-university/rag_basic_experiment/sweeps/12zc357u' target=\"_blank\">https://wandb.ai/nilsusahin-middle-east-technical-university/rag_basic_experiment/sweeps/12zc357u</a>"
      ],
      "text/plain": [
       "<IPython.core.display.HTML object>"
      ]
     },
     "metadata": {},
     "output_type": "display_data"
    },
    {
     "data": {
      "text/html": [
       " View project at <a href='https://wandb.ai/nilsusahin-middle-east-technical-university/rag_basic_experiment' target=\"_blank\">https://wandb.ai/nilsusahin-middle-east-technical-university/rag_basic_experiment</a>"
      ],
      "text/plain": [
       "<IPython.core.display.HTML object>"
      ]
     },
     "metadata": {},
     "output_type": "display_data"
    },
    {
     "data": {
      "text/html": [
       " View sweep at <a href='https://wandb.ai/nilsusahin-middle-east-technical-university/rag_basic_experiment/sweeps/12zc357u' target=\"_blank\">https://wandb.ai/nilsusahin-middle-east-technical-university/rag_basic_experiment/sweeps/12zc357u</a>"
      ],
      "text/plain": [
       "<IPython.core.display.HTML object>"
      ]
     },
     "metadata": {},
     "output_type": "display_data"
    },
    {
     "data": {
      "text/html": [
       " View run at <a href='https://wandb.ai/nilsusahin-middle-east-technical-university/rag_basic_experiment/runs/c35m824l' target=\"_blank\">https://wandb.ai/nilsusahin-middle-east-technical-university/rag_basic_experiment/runs/c35m824l</a>"
      ],
      "text/plain": [
       "<IPython.core.display.HTML object>"
      ]
     },
     "metadata": {},
     "output_type": "display_data"
    },
    {
     "name": "stdout",
     "output_type": "stream",
     "text": [
      "The token has not been saved to the git credentials helper. Pass `add_to_git_credential=True` in this function directly or `--add-to-git-credential` if using via `huggingface-cli` if you want to set the git credential as well.\n",
      "Token is valid (permission: fineGrained).\n",
      "Your token has been saved to C:\\Users\\Nilsu.Sahin\\.cache\\huggingface\\token\n",
      "Login successful\n",
      "Mean Score: 1.0\n"
     ]
    },
    {
     "data": {
      "text/html": [],
      "text/plain": [
       "<IPython.core.display.HTML object>"
      ]
     },
     "metadata": {},
     "output_type": "display_data"
    },
    {
     "data": {
      "text/html": [
       "<br>    <style><br>        .wandb-row {<br>            display: flex;<br>            flex-direction: row;<br>            flex-wrap: wrap;<br>            justify-content: flex-start;<br>            width: 100%;<br>        }<br>        .wandb-col {<br>            display: flex;<br>            flex-direction: column;<br>            flex-basis: 100%;<br>            flex: 1;<br>            padding: 10px;<br>        }<br>    </style><br><div class=\"wandb-row\"><div class=\"wandb-col\"><h3>Run history:</h3><br/><table class=\"wandb\"><tr><td>chunk_overlap</td><td>▁</td></tr><tr><td>chunk_size</td><td>▁</td></tr><tr><td>mean_score</td><td>▁</td></tr><tr><td>temperature</td><td>▁</td></tr><tr><td>top_k</td><td>▁</td></tr></table><br/></div><div class=\"wandb-col\"><h3>Run summary:</h3><br/><table class=\"wandb\"><tr><td>chunk_overlap</td><td>0</td></tr><tr><td>chunk_size</td><td>100</td></tr><tr><td>mean_score</td><td>1</td></tr><tr><td>temperature</td><td>0.32312</td></tr><tr><td>top_k</td><td>10</td></tr></table><br/></div></div>"
      ],
      "text/plain": [
       "<IPython.core.display.HTML object>"
      ]
     },
     "metadata": {},
     "output_type": "display_data"
    },
    {
     "data": {
      "text/html": [
       " View run <strong style=\"color:#cdcd00\">cool-sweep-44</strong> at: <a href='https://wandb.ai/nilsusahin-middle-east-technical-university/rag_basic_experiment/runs/c35m824l' target=\"_blank\">https://wandb.ai/nilsusahin-middle-east-technical-university/rag_basic_experiment/runs/c35m824l</a><br> View project at: <a href='https://wandb.ai/nilsusahin-middle-east-technical-university/rag_basic_experiment' target=\"_blank\">https://wandb.ai/nilsusahin-middle-east-technical-university/rag_basic_experiment</a><br>Synced 5 W&B file(s), 0 media file(s), 0 artifact file(s) and 0 other file(s)"
      ],
      "text/plain": [
       "<IPython.core.display.HTML object>"
      ]
     },
     "metadata": {},
     "output_type": "display_data"
    },
    {
     "data": {
      "text/html": [
       "Find logs at: <code>.\\wandb\\run-20241217_195727-c35m824l\\logs</code>"
      ],
      "text/plain": [
       "<IPython.core.display.HTML object>"
      ]
     },
     "metadata": {},
     "output_type": "display_data"
    },
    {
     "name": "stderr",
     "output_type": "stream",
     "text": [
      "\u001b[34m\u001b[1mwandb\u001b[0m: Agent Starting Run: 1nxzs6mn with config:\n",
      "\u001b[34m\u001b[1mwandb\u001b[0m: \tchunk_overlap: 0\n",
      "\u001b[34m\u001b[1mwandb\u001b[0m: \tchunk_size: 200\n",
      "\u001b[34m\u001b[1mwandb\u001b[0m: \ttemperature: 0.37884566114158313\n",
      "\u001b[34m\u001b[1mwandb\u001b[0m: \ttop_k: 1\n"
     ]
    },
    {
     "data": {
      "text/html": [
       "Tracking run with wandb version 0.19.1"
      ],
      "text/plain": [
       "<IPython.core.display.HTML object>"
      ]
     },
     "metadata": {},
     "output_type": "display_data"
    },
    {
     "data": {
      "text/html": [
       "Run data is saved locally in <code>c:\\Users\\Nilsu.Sahin\\Desktop\\ns_trial\\RAG_Model\\wandb\\run-20241217_195754-1nxzs6mn</code>"
      ],
      "text/plain": [
       "<IPython.core.display.HTML object>"
      ]
     },
     "metadata": {},
     "output_type": "display_data"
    },
    {
     "data": {
      "text/html": [
       "Syncing run <strong><a href='https://wandb.ai/nilsusahin-middle-east-technical-university/rag_basic_experiment/runs/1nxzs6mn' target=\"_blank\">solar-sweep-45</a></strong> to <a href='https://wandb.ai/nilsusahin-middle-east-technical-university/rag_basic_experiment' target=\"_blank\">Weights & Biases</a> (<a href='https://wandb.me/developer-guide' target=\"_blank\">docs</a>)<br>Sweep page: <a href='https://wandb.ai/nilsusahin-middle-east-technical-university/rag_basic_experiment/sweeps/12zc357u' target=\"_blank\">https://wandb.ai/nilsusahin-middle-east-technical-university/rag_basic_experiment/sweeps/12zc357u</a>"
      ],
      "text/plain": [
       "<IPython.core.display.HTML object>"
      ]
     },
     "metadata": {},
     "output_type": "display_data"
    },
    {
     "data": {
      "text/html": [
       " View project at <a href='https://wandb.ai/nilsusahin-middle-east-technical-university/rag_basic_experiment' target=\"_blank\">https://wandb.ai/nilsusahin-middle-east-technical-university/rag_basic_experiment</a>"
      ],
      "text/plain": [
       "<IPython.core.display.HTML object>"
      ]
     },
     "metadata": {},
     "output_type": "display_data"
    },
    {
     "data": {
      "text/html": [
       " View sweep at <a href='https://wandb.ai/nilsusahin-middle-east-technical-university/rag_basic_experiment/sweeps/12zc357u' target=\"_blank\">https://wandb.ai/nilsusahin-middle-east-technical-university/rag_basic_experiment/sweeps/12zc357u</a>"
      ],
      "text/plain": [
       "<IPython.core.display.HTML object>"
      ]
     },
     "metadata": {},
     "output_type": "display_data"
    },
    {
     "data": {
      "text/html": [
       " View run at <a href='https://wandb.ai/nilsusahin-middle-east-technical-university/rag_basic_experiment/runs/1nxzs6mn' target=\"_blank\">https://wandb.ai/nilsusahin-middle-east-technical-university/rag_basic_experiment/runs/1nxzs6mn</a>"
      ],
      "text/plain": [
       "<IPython.core.display.HTML object>"
      ]
     },
     "metadata": {},
     "output_type": "display_data"
    },
    {
     "name": "stdout",
     "output_type": "stream",
     "text": [
      "The token has not been saved to the git credentials helper. Pass `add_to_git_credential=True` in this function directly or `--add-to-git-credential` if using via `huggingface-cli` if you want to set the git credential as well.\n",
      "Token is valid (permission: fineGrained).\n",
      "Your token has been saved to C:\\Users\\Nilsu.Sahin\\.cache\\huggingface\\token\n",
      "Login successful\n",
      "Mean Score: 1.0\n"
     ]
    },
    {
     "data": {
      "text/html": [],
      "text/plain": [
       "<IPython.core.display.HTML object>"
      ]
     },
     "metadata": {},
     "output_type": "display_data"
    },
    {
     "data": {
      "text/html": [
       "<br>    <style><br>        .wandb-row {<br>            display: flex;<br>            flex-direction: row;<br>            flex-wrap: wrap;<br>            justify-content: flex-start;<br>            width: 100%;<br>        }<br>        .wandb-col {<br>            display: flex;<br>            flex-direction: column;<br>            flex-basis: 100%;<br>            flex: 1;<br>            padding: 10px;<br>        }<br>    </style><br><div class=\"wandb-row\"><div class=\"wandb-col\"><h3>Run history:</h3><br/><table class=\"wandb\"><tr><td>chunk_overlap</td><td>▁</td></tr><tr><td>chunk_size</td><td>▁</td></tr><tr><td>mean_score</td><td>▁</td></tr><tr><td>temperature</td><td>▁</td></tr><tr><td>top_k</td><td>▁</td></tr></table><br/></div><div class=\"wandb-col\"><h3>Run summary:</h3><br/><table class=\"wandb\"><tr><td>chunk_overlap</td><td>0</td></tr><tr><td>chunk_size</td><td>200</td></tr><tr><td>mean_score</td><td>1</td></tr><tr><td>temperature</td><td>0.37885</td></tr><tr><td>top_k</td><td>1</td></tr></table><br/></div></div>"
      ],
      "text/plain": [
       "<IPython.core.display.HTML object>"
      ]
     },
     "metadata": {},
     "output_type": "display_data"
    },
    {
     "data": {
      "text/html": [
       " View run <strong style=\"color:#cdcd00\">solar-sweep-45</strong> at: <a href='https://wandb.ai/nilsusahin-middle-east-technical-university/rag_basic_experiment/runs/1nxzs6mn' target=\"_blank\">https://wandb.ai/nilsusahin-middle-east-technical-university/rag_basic_experiment/runs/1nxzs6mn</a><br> View project at: <a href='https://wandb.ai/nilsusahin-middle-east-technical-university/rag_basic_experiment' target=\"_blank\">https://wandb.ai/nilsusahin-middle-east-technical-university/rag_basic_experiment</a><br>Synced 5 W&B file(s), 0 media file(s), 0 artifact file(s) and 0 other file(s)"
      ],
      "text/plain": [
       "<IPython.core.display.HTML object>"
      ]
     },
     "metadata": {},
     "output_type": "display_data"
    },
    {
     "data": {
      "text/html": [
       "Find logs at: <code>.\\wandb\\run-20241217_195754-1nxzs6mn\\logs</code>"
      ],
      "text/plain": [
       "<IPython.core.display.HTML object>"
      ]
     },
     "metadata": {},
     "output_type": "display_data"
    },
    {
     "name": "stderr",
     "output_type": "stream",
     "text": [
      "\u001b[34m\u001b[1mwandb\u001b[0m: Agent Starting Run: msvowig9 with config:\n",
      "\u001b[34m\u001b[1mwandb\u001b[0m: \tchunk_overlap: 50\n",
      "\u001b[34m\u001b[1mwandb\u001b[0m: \tchunk_size: 100\n",
      "\u001b[34m\u001b[1mwandb\u001b[0m: \ttemperature: 0.917994194848924\n",
      "\u001b[34m\u001b[1mwandb\u001b[0m: \ttop_k: 7\n"
     ]
    },
    {
     "data": {
      "text/html": [
       "Tracking run with wandb version 0.19.1"
      ],
      "text/plain": [
       "<IPython.core.display.HTML object>"
      ]
     },
     "metadata": {},
     "output_type": "display_data"
    },
    {
     "data": {
      "text/html": [
       "Run data is saved locally in <code>c:\\Users\\Nilsu.Sahin\\Desktop\\ns_trial\\RAG_Model\\wandb\\run-20241217_195815-msvowig9</code>"
      ],
      "text/plain": [
       "<IPython.core.display.HTML object>"
      ]
     },
     "metadata": {},
     "output_type": "display_data"
    },
    {
     "data": {
      "text/html": [
       "Syncing run <strong><a href='https://wandb.ai/nilsusahin-middle-east-technical-university/rag_basic_experiment/runs/msvowig9' target=\"_blank\">magic-sweep-46</a></strong> to <a href='https://wandb.ai/nilsusahin-middle-east-technical-university/rag_basic_experiment' target=\"_blank\">Weights & Biases</a> (<a href='https://wandb.me/developer-guide' target=\"_blank\">docs</a>)<br>Sweep page: <a href='https://wandb.ai/nilsusahin-middle-east-technical-university/rag_basic_experiment/sweeps/12zc357u' target=\"_blank\">https://wandb.ai/nilsusahin-middle-east-technical-university/rag_basic_experiment/sweeps/12zc357u</a>"
      ],
      "text/plain": [
       "<IPython.core.display.HTML object>"
      ]
     },
     "metadata": {},
     "output_type": "display_data"
    },
    {
     "data": {
      "text/html": [
       " View project at <a href='https://wandb.ai/nilsusahin-middle-east-technical-university/rag_basic_experiment' target=\"_blank\">https://wandb.ai/nilsusahin-middle-east-technical-university/rag_basic_experiment</a>"
      ],
      "text/plain": [
       "<IPython.core.display.HTML object>"
      ]
     },
     "metadata": {},
     "output_type": "display_data"
    },
    {
     "data": {
      "text/html": [
       " View sweep at <a href='https://wandb.ai/nilsusahin-middle-east-technical-university/rag_basic_experiment/sweeps/12zc357u' target=\"_blank\">https://wandb.ai/nilsusahin-middle-east-technical-university/rag_basic_experiment/sweeps/12zc357u</a>"
      ],
      "text/plain": [
       "<IPython.core.display.HTML object>"
      ]
     },
     "metadata": {},
     "output_type": "display_data"
    },
    {
     "data": {
      "text/html": [
       " View run at <a href='https://wandb.ai/nilsusahin-middle-east-technical-university/rag_basic_experiment/runs/msvowig9' target=\"_blank\">https://wandb.ai/nilsusahin-middle-east-technical-university/rag_basic_experiment/runs/msvowig9</a>"
      ],
      "text/plain": [
       "<IPython.core.display.HTML object>"
      ]
     },
     "metadata": {},
     "output_type": "display_data"
    },
    {
     "name": "stdout",
     "output_type": "stream",
     "text": [
      "The token has not been saved to the git credentials helper. Pass `add_to_git_credential=True` in this function directly or `--add-to-git-credential` if using via `huggingface-cli` if you want to set the git credential as well.\n",
      "Token is valid (permission: fineGrained).\n",
      "Your token has been saved to C:\\Users\\Nilsu.Sahin\\.cache\\huggingface\\token\n",
      "Login successful\n",
      "Mean Score: 1.0\n"
     ]
    },
    {
     "data": {
      "text/html": [],
      "text/plain": [
       "<IPython.core.display.HTML object>"
      ]
     },
     "metadata": {},
     "output_type": "display_data"
    },
    {
     "data": {
      "text/html": [
       "<br>    <style><br>        .wandb-row {<br>            display: flex;<br>            flex-direction: row;<br>            flex-wrap: wrap;<br>            justify-content: flex-start;<br>            width: 100%;<br>        }<br>        .wandb-col {<br>            display: flex;<br>            flex-direction: column;<br>            flex-basis: 100%;<br>            flex: 1;<br>            padding: 10px;<br>        }<br>    </style><br><div class=\"wandb-row\"><div class=\"wandb-col\"><h3>Run history:</h3><br/><table class=\"wandb\"><tr><td>chunk_overlap</td><td>▁</td></tr><tr><td>chunk_size</td><td>▁</td></tr><tr><td>mean_score</td><td>▁</td></tr><tr><td>temperature</td><td>▁</td></tr><tr><td>top_k</td><td>▁</td></tr></table><br/></div><div class=\"wandb-col\"><h3>Run summary:</h3><br/><table class=\"wandb\"><tr><td>chunk_overlap</td><td>50</td></tr><tr><td>chunk_size</td><td>100</td></tr><tr><td>mean_score</td><td>1</td></tr><tr><td>temperature</td><td>0.91799</td></tr><tr><td>top_k</td><td>7</td></tr></table><br/></div></div>"
      ],
      "text/plain": [
       "<IPython.core.display.HTML object>"
      ]
     },
     "metadata": {},
     "output_type": "display_data"
    },
    {
     "data": {
      "text/html": [
       " View run <strong style=\"color:#cdcd00\">magic-sweep-46</strong> at: <a href='https://wandb.ai/nilsusahin-middle-east-technical-university/rag_basic_experiment/runs/msvowig9' target=\"_blank\">https://wandb.ai/nilsusahin-middle-east-technical-university/rag_basic_experiment/runs/msvowig9</a><br> View project at: <a href='https://wandb.ai/nilsusahin-middle-east-technical-university/rag_basic_experiment' target=\"_blank\">https://wandb.ai/nilsusahin-middle-east-technical-university/rag_basic_experiment</a><br>Synced 5 W&B file(s), 0 media file(s), 0 artifact file(s) and 0 other file(s)"
      ],
      "text/plain": [
       "<IPython.core.display.HTML object>"
      ]
     },
     "metadata": {},
     "output_type": "display_data"
    },
    {
     "data": {
      "text/html": [
       "Find logs at: <code>.\\wandb\\run-20241217_195815-msvowig9\\logs</code>"
      ],
      "text/plain": [
       "<IPython.core.display.HTML object>"
      ]
     },
     "metadata": {},
     "output_type": "display_data"
    },
    {
     "name": "stderr",
     "output_type": "stream",
     "text": [
      "\u001b[34m\u001b[1mwandb\u001b[0m: Agent Starting Run: v1rrvovn with config:\n",
      "\u001b[34m\u001b[1mwandb\u001b[0m: \tchunk_overlap: 50\n",
      "\u001b[34m\u001b[1mwandb\u001b[0m: \tchunk_size: 100\n",
      "\u001b[34m\u001b[1mwandb\u001b[0m: \ttemperature: 0.412995926542187\n",
      "\u001b[34m\u001b[1mwandb\u001b[0m: \ttop_k: 4\n"
     ]
    },
    {
     "data": {
      "text/html": [
       "Tracking run with wandb version 0.19.1"
      ],
      "text/plain": [
       "<IPython.core.display.HTML object>"
      ]
     },
     "metadata": {},
     "output_type": "display_data"
    },
    {
     "data": {
      "text/html": [
       "Run data is saved locally in <code>c:\\Users\\Nilsu.Sahin\\Desktop\\ns_trial\\RAG_Model\\wandb\\run-20241217_195836-v1rrvovn</code>"
      ],
      "text/plain": [
       "<IPython.core.display.HTML object>"
      ]
     },
     "metadata": {},
     "output_type": "display_data"
    },
    {
     "data": {
      "text/html": [
       "Syncing run <strong><a href='https://wandb.ai/nilsusahin-middle-east-technical-university/rag_basic_experiment/runs/v1rrvovn' target=\"_blank\">decent-sweep-47</a></strong> to <a href='https://wandb.ai/nilsusahin-middle-east-technical-university/rag_basic_experiment' target=\"_blank\">Weights & Biases</a> (<a href='https://wandb.me/developer-guide' target=\"_blank\">docs</a>)<br>Sweep page: <a href='https://wandb.ai/nilsusahin-middle-east-technical-university/rag_basic_experiment/sweeps/12zc357u' target=\"_blank\">https://wandb.ai/nilsusahin-middle-east-technical-university/rag_basic_experiment/sweeps/12zc357u</a>"
      ],
      "text/plain": [
       "<IPython.core.display.HTML object>"
      ]
     },
     "metadata": {},
     "output_type": "display_data"
    },
    {
     "data": {
      "text/html": [
       " View project at <a href='https://wandb.ai/nilsusahin-middle-east-technical-university/rag_basic_experiment' target=\"_blank\">https://wandb.ai/nilsusahin-middle-east-technical-university/rag_basic_experiment</a>"
      ],
      "text/plain": [
       "<IPython.core.display.HTML object>"
      ]
     },
     "metadata": {},
     "output_type": "display_data"
    },
    {
     "data": {
      "text/html": [
       " View sweep at <a href='https://wandb.ai/nilsusahin-middle-east-technical-university/rag_basic_experiment/sweeps/12zc357u' target=\"_blank\">https://wandb.ai/nilsusahin-middle-east-technical-university/rag_basic_experiment/sweeps/12zc357u</a>"
      ],
      "text/plain": [
       "<IPython.core.display.HTML object>"
      ]
     },
     "metadata": {},
     "output_type": "display_data"
    },
    {
     "data": {
      "text/html": [
       " View run at <a href='https://wandb.ai/nilsusahin-middle-east-technical-university/rag_basic_experiment/runs/v1rrvovn' target=\"_blank\">https://wandb.ai/nilsusahin-middle-east-technical-university/rag_basic_experiment/runs/v1rrvovn</a>"
      ],
      "text/plain": [
       "<IPython.core.display.HTML object>"
      ]
     },
     "metadata": {},
     "output_type": "display_data"
    },
    {
     "name": "stdout",
     "output_type": "stream",
     "text": [
      "The token has not been saved to the git credentials helper. Pass `add_to_git_credential=True` in this function directly or `--add-to-git-credential` if using via `huggingface-cli` if you want to set the git credential as well.\n",
      "Token is valid (permission: fineGrained).\n",
      "Your token has been saved to C:\\Users\\Nilsu.Sahin\\.cache\\huggingface\\token\n",
      "Login successful\n",
      "Mean Score: 1.0\n"
     ]
    },
    {
     "data": {
      "text/html": [],
      "text/plain": [
       "<IPython.core.display.HTML object>"
      ]
     },
     "metadata": {},
     "output_type": "display_data"
    },
    {
     "data": {
      "text/html": [
       "<br>    <style><br>        .wandb-row {<br>            display: flex;<br>            flex-direction: row;<br>            flex-wrap: wrap;<br>            justify-content: flex-start;<br>            width: 100%;<br>        }<br>        .wandb-col {<br>            display: flex;<br>            flex-direction: column;<br>            flex-basis: 100%;<br>            flex: 1;<br>            padding: 10px;<br>        }<br>    </style><br><div class=\"wandb-row\"><div class=\"wandb-col\"><h3>Run history:</h3><br/><table class=\"wandb\"><tr><td>chunk_overlap</td><td>▁</td></tr><tr><td>chunk_size</td><td>▁</td></tr><tr><td>mean_score</td><td>▁</td></tr><tr><td>temperature</td><td>▁</td></tr><tr><td>top_k</td><td>▁</td></tr></table><br/></div><div class=\"wandb-col\"><h3>Run summary:</h3><br/><table class=\"wandb\"><tr><td>chunk_overlap</td><td>50</td></tr><tr><td>chunk_size</td><td>100</td></tr><tr><td>mean_score</td><td>1</td></tr><tr><td>temperature</td><td>0.413</td></tr><tr><td>top_k</td><td>4</td></tr></table><br/></div></div>"
      ],
      "text/plain": [
       "<IPython.core.display.HTML object>"
      ]
     },
     "metadata": {},
     "output_type": "display_data"
    },
    {
     "data": {
      "text/html": [
       " View run <strong style=\"color:#cdcd00\">decent-sweep-47</strong> at: <a href='https://wandb.ai/nilsusahin-middle-east-technical-university/rag_basic_experiment/runs/v1rrvovn' target=\"_blank\">https://wandb.ai/nilsusahin-middle-east-technical-university/rag_basic_experiment/runs/v1rrvovn</a><br> View project at: <a href='https://wandb.ai/nilsusahin-middle-east-technical-university/rag_basic_experiment' target=\"_blank\">https://wandb.ai/nilsusahin-middle-east-technical-university/rag_basic_experiment</a><br>Synced 5 W&B file(s), 0 media file(s), 0 artifact file(s) and 0 other file(s)"
      ],
      "text/plain": [
       "<IPython.core.display.HTML object>"
      ]
     },
     "metadata": {},
     "output_type": "display_data"
    },
    {
     "data": {
      "text/html": [
       "Find logs at: <code>.\\wandb\\run-20241217_195836-v1rrvovn\\logs</code>"
      ],
      "text/plain": [
       "<IPython.core.display.HTML object>"
      ]
     },
     "metadata": {},
     "output_type": "display_data"
    },
    {
     "name": "stderr",
     "output_type": "stream",
     "text": [
      "\u001b[34m\u001b[1mwandb\u001b[0m: Agent Starting Run: kietohua with config:\n",
      "\u001b[34m\u001b[1mwandb\u001b[0m: \tchunk_overlap: 50\n",
      "\u001b[34m\u001b[1mwandb\u001b[0m: \tchunk_size: 200\n",
      "\u001b[34m\u001b[1mwandb\u001b[0m: \ttemperature: 0.7381039990057049\n",
      "\u001b[34m\u001b[1mwandb\u001b[0m: \ttop_k: 1\n"
     ]
    },
    {
     "data": {
      "text/html": [
       "Tracking run with wandb version 0.19.1"
      ],
      "text/plain": [
       "<IPython.core.display.HTML object>"
      ]
     },
     "metadata": {},
     "output_type": "display_data"
    },
    {
     "data": {
      "text/html": [
       "Run data is saved locally in <code>c:\\Users\\Nilsu.Sahin\\Desktop\\ns_trial\\RAG_Model\\wandb\\run-20241217_195914-kietohua</code>"
      ],
      "text/plain": [
       "<IPython.core.display.HTML object>"
      ]
     },
     "metadata": {},
     "output_type": "display_data"
    },
    {
     "data": {
      "text/html": [
       "Syncing run <strong><a href='https://wandb.ai/nilsusahin-middle-east-technical-university/rag_basic_experiment/runs/kietohua' target=\"_blank\">usual-sweep-48</a></strong> to <a href='https://wandb.ai/nilsusahin-middle-east-technical-university/rag_basic_experiment' target=\"_blank\">Weights & Biases</a> (<a href='https://wandb.me/developer-guide' target=\"_blank\">docs</a>)<br>Sweep page: <a href='https://wandb.ai/nilsusahin-middle-east-technical-university/rag_basic_experiment/sweeps/12zc357u' target=\"_blank\">https://wandb.ai/nilsusahin-middle-east-technical-university/rag_basic_experiment/sweeps/12zc357u</a>"
      ],
      "text/plain": [
       "<IPython.core.display.HTML object>"
      ]
     },
     "metadata": {},
     "output_type": "display_data"
    },
    {
     "data": {
      "text/html": [
       " View project at <a href='https://wandb.ai/nilsusahin-middle-east-technical-university/rag_basic_experiment' target=\"_blank\">https://wandb.ai/nilsusahin-middle-east-technical-university/rag_basic_experiment</a>"
      ],
      "text/plain": [
       "<IPython.core.display.HTML object>"
      ]
     },
     "metadata": {},
     "output_type": "display_data"
    },
    {
     "data": {
      "text/html": [
       " View sweep at <a href='https://wandb.ai/nilsusahin-middle-east-technical-university/rag_basic_experiment/sweeps/12zc357u' target=\"_blank\">https://wandb.ai/nilsusahin-middle-east-technical-university/rag_basic_experiment/sweeps/12zc357u</a>"
      ],
      "text/plain": [
       "<IPython.core.display.HTML object>"
      ]
     },
     "metadata": {},
     "output_type": "display_data"
    },
    {
     "data": {
      "text/html": [
       " View run at <a href='https://wandb.ai/nilsusahin-middle-east-technical-university/rag_basic_experiment/runs/kietohua' target=\"_blank\">https://wandb.ai/nilsusahin-middle-east-technical-university/rag_basic_experiment/runs/kietohua</a>"
      ],
      "text/plain": [
       "<IPython.core.display.HTML object>"
      ]
     },
     "metadata": {},
     "output_type": "display_data"
    },
    {
     "name": "stdout",
     "output_type": "stream",
     "text": [
      "The token has not been saved to the git credentials helper. Pass `add_to_git_credential=True` in this function directly or `--add-to-git-credential` if using via `huggingface-cli` if you want to set the git credential as well.\n",
      "Token is valid (permission: fineGrained).\n",
      "Your token has been saved to C:\\Users\\Nilsu.Sahin\\.cache\\huggingface\\token\n",
      "Login successful\n",
      "Mean Score: 1.0\n"
     ]
    },
    {
     "data": {
      "text/html": [],
      "text/plain": [
       "<IPython.core.display.HTML object>"
      ]
     },
     "metadata": {},
     "output_type": "display_data"
    },
    {
     "data": {
      "text/html": [
       "<br>    <style><br>        .wandb-row {<br>            display: flex;<br>            flex-direction: row;<br>            flex-wrap: wrap;<br>            justify-content: flex-start;<br>            width: 100%;<br>        }<br>        .wandb-col {<br>            display: flex;<br>            flex-direction: column;<br>            flex-basis: 100%;<br>            flex: 1;<br>            padding: 10px;<br>        }<br>    </style><br><div class=\"wandb-row\"><div class=\"wandb-col\"><h3>Run history:</h3><br/><table class=\"wandb\"><tr><td>chunk_overlap</td><td>▁</td></tr><tr><td>chunk_size</td><td>▁</td></tr><tr><td>mean_score</td><td>▁</td></tr><tr><td>temperature</td><td>▁</td></tr><tr><td>top_k</td><td>▁</td></tr></table><br/></div><div class=\"wandb-col\"><h3>Run summary:</h3><br/><table class=\"wandb\"><tr><td>chunk_overlap</td><td>50</td></tr><tr><td>chunk_size</td><td>200</td></tr><tr><td>mean_score</td><td>1</td></tr><tr><td>temperature</td><td>0.7381</td></tr><tr><td>top_k</td><td>1</td></tr></table><br/></div></div>"
      ],
      "text/plain": [
       "<IPython.core.display.HTML object>"
      ]
     },
     "metadata": {},
     "output_type": "display_data"
    },
    {
     "data": {
      "text/html": [
       " View run <strong style=\"color:#cdcd00\">usual-sweep-48</strong> at: <a href='https://wandb.ai/nilsusahin-middle-east-technical-university/rag_basic_experiment/runs/kietohua' target=\"_blank\">https://wandb.ai/nilsusahin-middle-east-technical-university/rag_basic_experiment/runs/kietohua</a><br> View project at: <a href='https://wandb.ai/nilsusahin-middle-east-technical-university/rag_basic_experiment' target=\"_blank\">https://wandb.ai/nilsusahin-middle-east-technical-university/rag_basic_experiment</a><br>Synced 5 W&B file(s), 0 media file(s), 0 artifact file(s) and 0 other file(s)"
      ],
      "text/plain": [
       "<IPython.core.display.HTML object>"
      ]
     },
     "metadata": {},
     "output_type": "display_data"
    },
    {
     "data": {
      "text/html": [
       "Find logs at: <code>.\\wandb\\run-20241217_195914-kietohua\\logs</code>"
      ],
      "text/plain": [
       "<IPython.core.display.HTML object>"
      ]
     },
     "metadata": {},
     "output_type": "display_data"
    },
    {
     "name": "stderr",
     "output_type": "stream",
     "text": [
      "\u001b[34m\u001b[1mwandb\u001b[0m: Agent Starting Run: eg5iw9je with config:\n",
      "\u001b[34m\u001b[1mwandb\u001b[0m: \tchunk_overlap: 0\n",
      "\u001b[34m\u001b[1mwandb\u001b[0m: \tchunk_size: 200\n",
      "\u001b[34m\u001b[1mwandb\u001b[0m: \ttemperature: 0.6360266921241445\n",
      "\u001b[34m\u001b[1mwandb\u001b[0m: \ttop_k: 7\n"
     ]
    },
    {
     "data": {
      "text/html": [
       "Tracking run with wandb version 0.19.1"
      ],
      "text/plain": [
       "<IPython.core.display.HTML object>"
      ]
     },
     "metadata": {},
     "output_type": "display_data"
    },
    {
     "data": {
      "text/html": [
       "Run data is saved locally in <code>c:\\Users\\Nilsu.Sahin\\Desktop\\ns_trial\\RAG_Model\\wandb\\run-20241217_195940-eg5iw9je</code>"
      ],
      "text/plain": [
       "<IPython.core.display.HTML object>"
      ]
     },
     "metadata": {},
     "output_type": "display_data"
    },
    {
     "data": {
      "text/html": [
       "Syncing run <strong><a href='https://wandb.ai/nilsusahin-middle-east-technical-university/rag_basic_experiment/runs/eg5iw9je' target=\"_blank\">firm-sweep-49</a></strong> to <a href='https://wandb.ai/nilsusahin-middle-east-technical-university/rag_basic_experiment' target=\"_blank\">Weights & Biases</a> (<a href='https://wandb.me/developer-guide' target=\"_blank\">docs</a>)<br>Sweep page: <a href='https://wandb.ai/nilsusahin-middle-east-technical-university/rag_basic_experiment/sweeps/12zc357u' target=\"_blank\">https://wandb.ai/nilsusahin-middle-east-technical-university/rag_basic_experiment/sweeps/12zc357u</a>"
      ],
      "text/plain": [
       "<IPython.core.display.HTML object>"
      ]
     },
     "metadata": {},
     "output_type": "display_data"
    },
    {
     "data": {
      "text/html": [
       " View project at <a href='https://wandb.ai/nilsusahin-middle-east-technical-university/rag_basic_experiment' target=\"_blank\">https://wandb.ai/nilsusahin-middle-east-technical-university/rag_basic_experiment</a>"
      ],
      "text/plain": [
       "<IPython.core.display.HTML object>"
      ]
     },
     "metadata": {},
     "output_type": "display_data"
    },
    {
     "data": {
      "text/html": [
       " View sweep at <a href='https://wandb.ai/nilsusahin-middle-east-technical-university/rag_basic_experiment/sweeps/12zc357u' target=\"_blank\">https://wandb.ai/nilsusahin-middle-east-technical-university/rag_basic_experiment/sweeps/12zc357u</a>"
      ],
      "text/plain": [
       "<IPython.core.display.HTML object>"
      ]
     },
     "metadata": {},
     "output_type": "display_data"
    },
    {
     "data": {
      "text/html": [
       " View run at <a href='https://wandb.ai/nilsusahin-middle-east-technical-university/rag_basic_experiment/runs/eg5iw9je' target=\"_blank\">https://wandb.ai/nilsusahin-middle-east-technical-university/rag_basic_experiment/runs/eg5iw9je</a>"
      ],
      "text/plain": [
       "<IPython.core.display.HTML object>"
      ]
     },
     "metadata": {},
     "output_type": "display_data"
    },
    {
     "name": "stdout",
     "output_type": "stream",
     "text": [
      "The token has not been saved to the git credentials helper. Pass `add_to_git_credential=True` in this function directly or `--add-to-git-credential` if using via `huggingface-cli` if you want to set the git credential as well.\n",
      "Token is valid (permission: fineGrained).\n",
      "Your token has been saved to C:\\Users\\Nilsu.Sahin\\.cache\\huggingface\\token\n",
      "Login successful\n",
      "Mean Score: 1.0\n"
     ]
    },
    {
     "data": {
      "text/html": [],
      "text/plain": [
       "<IPython.core.display.HTML object>"
      ]
     },
     "metadata": {},
     "output_type": "display_data"
    },
    {
     "data": {
      "text/html": [
       "<br>    <style><br>        .wandb-row {<br>            display: flex;<br>            flex-direction: row;<br>            flex-wrap: wrap;<br>            justify-content: flex-start;<br>            width: 100%;<br>        }<br>        .wandb-col {<br>            display: flex;<br>            flex-direction: column;<br>            flex-basis: 100%;<br>            flex: 1;<br>            padding: 10px;<br>        }<br>    </style><br><div class=\"wandb-row\"><div class=\"wandb-col\"><h3>Run history:</h3><br/><table class=\"wandb\"><tr><td>chunk_overlap</td><td>▁</td></tr><tr><td>chunk_size</td><td>▁</td></tr><tr><td>mean_score</td><td>▁</td></tr><tr><td>temperature</td><td>▁</td></tr><tr><td>top_k</td><td>▁</td></tr></table><br/></div><div class=\"wandb-col\"><h3>Run summary:</h3><br/><table class=\"wandb\"><tr><td>chunk_overlap</td><td>0</td></tr><tr><td>chunk_size</td><td>200</td></tr><tr><td>mean_score</td><td>1</td></tr><tr><td>temperature</td><td>0.63603</td></tr><tr><td>top_k</td><td>7</td></tr></table><br/></div></div>"
      ],
      "text/plain": [
       "<IPython.core.display.HTML object>"
      ]
     },
     "metadata": {},
     "output_type": "display_data"
    },
    {
     "data": {
      "text/html": [
       " View run <strong style=\"color:#cdcd00\">firm-sweep-49</strong> at: <a href='https://wandb.ai/nilsusahin-middle-east-technical-university/rag_basic_experiment/runs/eg5iw9je' target=\"_blank\">https://wandb.ai/nilsusahin-middle-east-technical-university/rag_basic_experiment/runs/eg5iw9je</a><br> View project at: <a href='https://wandb.ai/nilsusahin-middle-east-technical-university/rag_basic_experiment' target=\"_blank\">https://wandb.ai/nilsusahin-middle-east-technical-university/rag_basic_experiment</a><br>Synced 5 W&B file(s), 0 media file(s), 0 artifact file(s) and 0 other file(s)"
      ],
      "text/plain": [
       "<IPython.core.display.HTML object>"
      ]
     },
     "metadata": {},
     "output_type": "display_data"
    },
    {
     "data": {
      "text/html": [
       "Find logs at: <code>.\\wandb\\run-20241217_195940-eg5iw9je\\logs</code>"
      ],
      "text/plain": [
       "<IPython.core.display.HTML object>"
      ]
     },
     "metadata": {},
     "output_type": "display_data"
    },
    {
     "name": "stderr",
     "output_type": "stream",
     "text": [
      "\u001b[34m\u001b[1mwandb\u001b[0m: Agent Starting Run: lwjl5vnt with config:\n",
      "\u001b[34m\u001b[1mwandb\u001b[0m: \tchunk_overlap: 0\n",
      "\u001b[34m\u001b[1mwandb\u001b[0m: \tchunk_size: 100\n",
      "\u001b[34m\u001b[1mwandb\u001b[0m: \ttemperature: 0.6837886265453256\n",
      "\u001b[34m\u001b[1mwandb\u001b[0m: \ttop_k: 4\n"
     ]
    },
    {
     "data": {
      "text/html": [
       "Tracking run with wandb version 0.19.1"
      ],
      "text/plain": [
       "<IPython.core.display.HTML object>"
      ]
     },
     "metadata": {},
     "output_type": "display_data"
    },
    {
     "data": {
      "text/html": [
       "Run data is saved locally in <code>c:\\Users\\Nilsu.Sahin\\Desktop\\ns_trial\\RAG_Model\\wandb\\run-20241217_200006-lwjl5vnt</code>"
      ],
      "text/plain": [
       "<IPython.core.display.HTML object>"
      ]
     },
     "metadata": {},
     "output_type": "display_data"
    },
    {
     "data": {
      "text/html": [
       "Syncing run <strong><a href='https://wandb.ai/nilsusahin-middle-east-technical-university/rag_basic_experiment/runs/lwjl5vnt' target=\"_blank\">frosty-sweep-50</a></strong> to <a href='https://wandb.ai/nilsusahin-middle-east-technical-university/rag_basic_experiment' target=\"_blank\">Weights & Biases</a> (<a href='https://wandb.me/developer-guide' target=\"_blank\">docs</a>)<br>Sweep page: <a href='https://wandb.ai/nilsusahin-middle-east-technical-university/rag_basic_experiment/sweeps/12zc357u' target=\"_blank\">https://wandb.ai/nilsusahin-middle-east-technical-university/rag_basic_experiment/sweeps/12zc357u</a>"
      ],
      "text/plain": [
       "<IPython.core.display.HTML object>"
      ]
     },
     "metadata": {},
     "output_type": "display_data"
    },
    {
     "data": {
      "text/html": [
       " View project at <a href='https://wandb.ai/nilsusahin-middle-east-technical-university/rag_basic_experiment' target=\"_blank\">https://wandb.ai/nilsusahin-middle-east-technical-university/rag_basic_experiment</a>"
      ],
      "text/plain": [
       "<IPython.core.display.HTML object>"
      ]
     },
     "metadata": {},
     "output_type": "display_data"
    },
    {
     "data": {
      "text/html": [
       " View sweep at <a href='https://wandb.ai/nilsusahin-middle-east-technical-university/rag_basic_experiment/sweeps/12zc357u' target=\"_blank\">https://wandb.ai/nilsusahin-middle-east-technical-university/rag_basic_experiment/sweeps/12zc357u</a>"
      ],
      "text/plain": [
       "<IPython.core.display.HTML object>"
      ]
     },
     "metadata": {},
     "output_type": "display_data"
    },
    {
     "data": {
      "text/html": [
       " View run at <a href='https://wandb.ai/nilsusahin-middle-east-technical-university/rag_basic_experiment/runs/lwjl5vnt' target=\"_blank\">https://wandb.ai/nilsusahin-middle-east-technical-university/rag_basic_experiment/runs/lwjl5vnt</a>"
      ],
      "text/plain": [
       "<IPython.core.display.HTML object>"
      ]
     },
     "metadata": {},
     "output_type": "display_data"
    },
    {
     "name": "stdout",
     "output_type": "stream",
     "text": [
      "The token has not been saved to the git credentials helper. Pass `add_to_git_credential=True` in this function directly or `--add-to-git-credential` if using via `huggingface-cli` if you want to set the git credential as well.\n",
      "Token is valid (permission: fineGrained).\n",
      "Your token has been saved to C:\\Users\\Nilsu.Sahin\\.cache\\huggingface\\token\n",
      "Login successful\n",
      "Mean Score: 1.0\n"
     ]
    },
    {
     "data": {
      "text/html": [],
      "text/plain": [
       "<IPython.core.display.HTML object>"
      ]
     },
     "metadata": {},
     "output_type": "display_data"
    },
    {
     "data": {
      "text/html": [
       "<br>    <style><br>        .wandb-row {<br>            display: flex;<br>            flex-direction: row;<br>            flex-wrap: wrap;<br>            justify-content: flex-start;<br>            width: 100%;<br>        }<br>        .wandb-col {<br>            display: flex;<br>            flex-direction: column;<br>            flex-basis: 100%;<br>            flex: 1;<br>            padding: 10px;<br>        }<br>    </style><br><div class=\"wandb-row\"><div class=\"wandb-col\"><h3>Run history:</h3><br/><table class=\"wandb\"><tr><td>chunk_overlap</td><td>▁</td></tr><tr><td>chunk_size</td><td>▁</td></tr><tr><td>mean_score</td><td>▁</td></tr><tr><td>temperature</td><td>▁</td></tr><tr><td>top_k</td><td>▁</td></tr></table><br/></div><div class=\"wandb-col\"><h3>Run summary:</h3><br/><table class=\"wandb\"><tr><td>chunk_overlap</td><td>0</td></tr><tr><td>chunk_size</td><td>100</td></tr><tr><td>mean_score</td><td>1</td></tr><tr><td>temperature</td><td>0.68379</td></tr><tr><td>top_k</td><td>4</td></tr></table><br/></div></div>"
      ],
      "text/plain": [
       "<IPython.core.display.HTML object>"
      ]
     },
     "metadata": {},
     "output_type": "display_data"
    },
    {
     "data": {
      "text/html": [
       " View run <strong style=\"color:#cdcd00\">frosty-sweep-50</strong> at: <a href='https://wandb.ai/nilsusahin-middle-east-technical-university/rag_basic_experiment/runs/lwjl5vnt' target=\"_blank\">https://wandb.ai/nilsusahin-middle-east-technical-university/rag_basic_experiment/runs/lwjl5vnt</a><br> View project at: <a href='https://wandb.ai/nilsusahin-middle-east-technical-university/rag_basic_experiment' target=\"_blank\">https://wandb.ai/nilsusahin-middle-east-technical-university/rag_basic_experiment</a><br>Synced 5 W&B file(s), 0 media file(s), 0 artifact file(s) and 0 other file(s)"
      ],
      "text/plain": [
       "<IPython.core.display.HTML object>"
      ]
     },
     "metadata": {},
     "output_type": "display_data"
    },
    {
     "data": {
      "text/html": [
       "Find logs at: <code>.\\wandb\\run-20241217_200006-lwjl5vnt\\logs</code>"
      ],
      "text/plain": [
       "<IPython.core.display.HTML object>"
      ]
     },
     "metadata": {},
     "output_type": "display_data"
    },
    {
     "name": "stderr",
     "output_type": "stream",
     "text": [
      "\u001b[34m\u001b[1mwandb\u001b[0m: Agent Starting Run: vfnsk5r3 with config:\n",
      "\u001b[34m\u001b[1mwandb\u001b[0m: \tchunk_overlap: 0\n",
      "\u001b[34m\u001b[1mwandb\u001b[0m: \tchunk_size: 200\n",
      "\u001b[34m\u001b[1mwandb\u001b[0m: \ttemperature: 0.7756272984444773\n",
      "\u001b[34m\u001b[1mwandb\u001b[0m: \ttop_k: 10\n"
     ]
    },
    {
     "data": {
      "text/html": [
       "Tracking run with wandb version 0.19.1"
      ],
      "text/plain": [
       "<IPython.core.display.HTML object>"
      ]
     },
     "metadata": {},
     "output_type": "display_data"
    },
    {
     "data": {
      "text/html": [
       "Run data is saved locally in <code>c:\\Users\\Nilsu.Sahin\\Desktop\\ns_trial\\RAG_Model\\wandb\\run-20241217_200027-vfnsk5r3</code>"
      ],
      "text/plain": [
       "<IPython.core.display.HTML object>"
      ]
     },
     "metadata": {},
     "output_type": "display_data"
    },
    {
     "data": {
      "text/html": [
       "Syncing run <strong><a href='https://wandb.ai/nilsusahin-middle-east-technical-university/rag_basic_experiment/runs/vfnsk5r3' target=\"_blank\">soft-sweep-51</a></strong> to <a href='https://wandb.ai/nilsusahin-middle-east-technical-university/rag_basic_experiment' target=\"_blank\">Weights & Biases</a> (<a href='https://wandb.me/developer-guide' target=\"_blank\">docs</a>)<br>Sweep page: <a href='https://wandb.ai/nilsusahin-middle-east-technical-university/rag_basic_experiment/sweeps/12zc357u' target=\"_blank\">https://wandb.ai/nilsusahin-middle-east-technical-university/rag_basic_experiment/sweeps/12zc357u</a>"
      ],
      "text/plain": [
       "<IPython.core.display.HTML object>"
      ]
     },
     "metadata": {},
     "output_type": "display_data"
    },
    {
     "data": {
      "text/html": [
       " View project at <a href='https://wandb.ai/nilsusahin-middle-east-technical-university/rag_basic_experiment' target=\"_blank\">https://wandb.ai/nilsusahin-middle-east-technical-university/rag_basic_experiment</a>"
      ],
      "text/plain": [
       "<IPython.core.display.HTML object>"
      ]
     },
     "metadata": {},
     "output_type": "display_data"
    },
    {
     "data": {
      "text/html": [
       " View sweep at <a href='https://wandb.ai/nilsusahin-middle-east-technical-university/rag_basic_experiment/sweeps/12zc357u' target=\"_blank\">https://wandb.ai/nilsusahin-middle-east-technical-university/rag_basic_experiment/sweeps/12zc357u</a>"
      ],
      "text/plain": [
       "<IPython.core.display.HTML object>"
      ]
     },
     "metadata": {},
     "output_type": "display_data"
    },
    {
     "data": {
      "text/html": [
       " View run at <a href='https://wandb.ai/nilsusahin-middle-east-technical-university/rag_basic_experiment/runs/vfnsk5r3' target=\"_blank\">https://wandb.ai/nilsusahin-middle-east-technical-university/rag_basic_experiment/runs/vfnsk5r3</a>"
      ],
      "text/plain": [
       "<IPython.core.display.HTML object>"
      ]
     },
     "metadata": {},
     "output_type": "display_data"
    },
    {
     "name": "stdout",
     "output_type": "stream",
     "text": [
      "The token has not been saved to the git credentials helper. Pass `add_to_git_credential=True` in this function directly or `--add-to-git-credential` if using via `huggingface-cli` if you want to set the git credential as well.\n",
      "Token is valid (permission: fineGrained).\n",
      "Your token has been saved to C:\\Users\\Nilsu.Sahin\\.cache\\huggingface\\token\n",
      "Login successful\n",
      "Mean Score: 1.0\n"
     ]
    },
    {
     "data": {
      "text/html": [],
      "text/plain": [
       "<IPython.core.display.HTML object>"
      ]
     },
     "metadata": {},
     "output_type": "display_data"
    },
    {
     "data": {
      "text/html": [
       "<br>    <style><br>        .wandb-row {<br>            display: flex;<br>            flex-direction: row;<br>            flex-wrap: wrap;<br>            justify-content: flex-start;<br>            width: 100%;<br>        }<br>        .wandb-col {<br>            display: flex;<br>            flex-direction: column;<br>            flex-basis: 100%;<br>            flex: 1;<br>            padding: 10px;<br>        }<br>    </style><br><div class=\"wandb-row\"><div class=\"wandb-col\"><h3>Run history:</h3><br/><table class=\"wandb\"><tr><td>chunk_overlap</td><td>▁</td></tr><tr><td>chunk_size</td><td>▁</td></tr><tr><td>mean_score</td><td>▁</td></tr><tr><td>temperature</td><td>▁</td></tr><tr><td>top_k</td><td>▁</td></tr></table><br/></div><div class=\"wandb-col\"><h3>Run summary:</h3><br/><table class=\"wandb\"><tr><td>chunk_overlap</td><td>0</td></tr><tr><td>chunk_size</td><td>200</td></tr><tr><td>mean_score</td><td>1</td></tr><tr><td>temperature</td><td>0.77563</td></tr><tr><td>top_k</td><td>10</td></tr></table><br/></div></div>"
      ],
      "text/plain": [
       "<IPython.core.display.HTML object>"
      ]
     },
     "metadata": {},
     "output_type": "display_data"
    },
    {
     "data": {
      "text/html": [
       " View run <strong style=\"color:#cdcd00\">soft-sweep-51</strong> at: <a href='https://wandb.ai/nilsusahin-middle-east-technical-university/rag_basic_experiment/runs/vfnsk5r3' target=\"_blank\">https://wandb.ai/nilsusahin-middle-east-technical-university/rag_basic_experiment/runs/vfnsk5r3</a><br> View project at: <a href='https://wandb.ai/nilsusahin-middle-east-technical-university/rag_basic_experiment' target=\"_blank\">https://wandb.ai/nilsusahin-middle-east-technical-university/rag_basic_experiment</a><br>Synced 5 W&B file(s), 0 media file(s), 0 artifact file(s) and 0 other file(s)"
      ],
      "text/plain": [
       "<IPython.core.display.HTML object>"
      ]
     },
     "metadata": {},
     "output_type": "display_data"
    },
    {
     "data": {
      "text/html": [
       "Find logs at: <code>.\\wandb\\run-20241217_200027-vfnsk5r3\\logs</code>"
      ],
      "text/plain": [
       "<IPython.core.display.HTML object>"
      ]
     },
     "metadata": {},
     "output_type": "display_data"
    },
    {
     "name": "stderr",
     "output_type": "stream",
     "text": [
      "\u001b[34m\u001b[1mwandb\u001b[0m: Agent Starting Run: 66i3067w with config:\n",
      "\u001b[34m\u001b[1mwandb\u001b[0m: \tchunk_overlap: 50\n",
      "\u001b[34m\u001b[1mwandb\u001b[0m: \tchunk_size: 200\n",
      "\u001b[34m\u001b[1mwandb\u001b[0m: \ttemperature: 0.1911503747970678\n",
      "\u001b[34m\u001b[1mwandb\u001b[0m: \ttop_k: 1\n"
     ]
    },
    {
     "data": {
      "text/html": [
       "Tracking run with wandb version 0.19.1"
      ],
      "text/plain": [
       "<IPython.core.display.HTML object>"
      ]
     },
     "metadata": {},
     "output_type": "display_data"
    },
    {
     "data": {
      "text/html": [
       "Run data is saved locally in <code>c:\\Users\\Nilsu.Sahin\\Desktop\\ns_trial\\RAG_Model\\wandb\\run-20241217_200059-66i3067w</code>"
      ],
      "text/plain": [
       "<IPython.core.display.HTML object>"
      ]
     },
     "metadata": {},
     "output_type": "display_data"
    },
    {
     "data": {
      "text/html": [
       "Syncing run <strong><a href='https://wandb.ai/nilsusahin-middle-east-technical-university/rag_basic_experiment/runs/66i3067w' target=\"_blank\">eternal-sweep-52</a></strong> to <a href='https://wandb.ai/nilsusahin-middle-east-technical-university/rag_basic_experiment' target=\"_blank\">Weights & Biases</a> (<a href='https://wandb.me/developer-guide' target=\"_blank\">docs</a>)<br>Sweep page: <a href='https://wandb.ai/nilsusahin-middle-east-technical-university/rag_basic_experiment/sweeps/12zc357u' target=\"_blank\">https://wandb.ai/nilsusahin-middle-east-technical-university/rag_basic_experiment/sweeps/12zc357u</a>"
      ],
      "text/plain": [
       "<IPython.core.display.HTML object>"
      ]
     },
     "metadata": {},
     "output_type": "display_data"
    },
    {
     "data": {
      "text/html": [
       " View project at <a href='https://wandb.ai/nilsusahin-middle-east-technical-university/rag_basic_experiment' target=\"_blank\">https://wandb.ai/nilsusahin-middle-east-technical-university/rag_basic_experiment</a>"
      ],
      "text/plain": [
       "<IPython.core.display.HTML object>"
      ]
     },
     "metadata": {},
     "output_type": "display_data"
    },
    {
     "data": {
      "text/html": [
       " View sweep at <a href='https://wandb.ai/nilsusahin-middle-east-technical-university/rag_basic_experiment/sweeps/12zc357u' target=\"_blank\">https://wandb.ai/nilsusahin-middle-east-technical-university/rag_basic_experiment/sweeps/12zc357u</a>"
      ],
      "text/plain": [
       "<IPython.core.display.HTML object>"
      ]
     },
     "metadata": {},
     "output_type": "display_data"
    },
    {
     "data": {
      "text/html": [
       " View run at <a href='https://wandb.ai/nilsusahin-middle-east-technical-university/rag_basic_experiment/runs/66i3067w' target=\"_blank\">https://wandb.ai/nilsusahin-middle-east-technical-university/rag_basic_experiment/runs/66i3067w</a>"
      ],
      "text/plain": [
       "<IPython.core.display.HTML object>"
      ]
     },
     "metadata": {},
     "output_type": "display_data"
    },
    {
     "name": "stdout",
     "output_type": "stream",
     "text": [
      "The token has not been saved to the git credentials helper. Pass `add_to_git_credential=True` in this function directly or `--add-to-git-credential` if using via `huggingface-cli` if you want to set the git credential as well.\n",
      "Token is valid (permission: fineGrained).\n",
      "Your token has been saved to C:\\Users\\Nilsu.Sahin\\.cache\\huggingface\\token\n",
      "Login successful\n",
      "Mean Score: 1.0\n"
     ]
    },
    {
     "data": {
      "text/html": [],
      "text/plain": [
       "<IPython.core.display.HTML object>"
      ]
     },
     "metadata": {},
     "output_type": "display_data"
    },
    {
     "data": {
      "text/html": [
       "<br>    <style><br>        .wandb-row {<br>            display: flex;<br>            flex-direction: row;<br>            flex-wrap: wrap;<br>            justify-content: flex-start;<br>            width: 100%;<br>        }<br>        .wandb-col {<br>            display: flex;<br>            flex-direction: column;<br>            flex-basis: 100%;<br>            flex: 1;<br>            padding: 10px;<br>        }<br>    </style><br><div class=\"wandb-row\"><div class=\"wandb-col\"><h3>Run history:</h3><br/><table class=\"wandb\"><tr><td>chunk_overlap</td><td>▁</td></tr><tr><td>chunk_size</td><td>▁</td></tr><tr><td>mean_score</td><td>▁</td></tr><tr><td>temperature</td><td>▁</td></tr><tr><td>top_k</td><td>▁</td></tr></table><br/></div><div class=\"wandb-col\"><h3>Run summary:</h3><br/><table class=\"wandb\"><tr><td>chunk_overlap</td><td>50</td></tr><tr><td>chunk_size</td><td>200</td></tr><tr><td>mean_score</td><td>1</td></tr><tr><td>temperature</td><td>0.19115</td></tr><tr><td>top_k</td><td>1</td></tr></table><br/></div></div>"
      ],
      "text/plain": [
       "<IPython.core.display.HTML object>"
      ]
     },
     "metadata": {},
     "output_type": "display_data"
    },
    {
     "data": {
      "text/html": [
       " View run <strong style=\"color:#cdcd00\">eternal-sweep-52</strong> at: <a href='https://wandb.ai/nilsusahin-middle-east-technical-university/rag_basic_experiment/runs/66i3067w' target=\"_blank\">https://wandb.ai/nilsusahin-middle-east-technical-university/rag_basic_experiment/runs/66i3067w</a><br> View project at: <a href='https://wandb.ai/nilsusahin-middle-east-technical-university/rag_basic_experiment' target=\"_blank\">https://wandb.ai/nilsusahin-middle-east-technical-university/rag_basic_experiment</a><br>Synced 5 W&B file(s), 0 media file(s), 0 artifact file(s) and 0 other file(s)"
      ],
      "text/plain": [
       "<IPython.core.display.HTML object>"
      ]
     },
     "metadata": {},
     "output_type": "display_data"
    },
    {
     "data": {
      "text/html": [
       "Find logs at: <code>.\\wandb\\run-20241217_200059-66i3067w\\logs</code>"
      ],
      "text/plain": [
       "<IPython.core.display.HTML object>"
      ]
     },
     "metadata": {},
     "output_type": "display_data"
    },
    {
     "name": "stderr",
     "output_type": "stream",
     "text": [
      "\u001b[34m\u001b[1mwandb\u001b[0m: Agent Starting Run: 6wfwpnds with config:\n",
      "\u001b[34m\u001b[1mwandb\u001b[0m: \tchunk_overlap: 0\n",
      "\u001b[34m\u001b[1mwandb\u001b[0m: \tchunk_size: 200\n",
      "\u001b[34m\u001b[1mwandb\u001b[0m: \ttemperature: 0.8186719774087615\n",
      "\u001b[34m\u001b[1mwandb\u001b[0m: \ttop_k: 2\n"
     ]
    },
    {
     "data": {
      "text/html": [
       "Tracking run with wandb version 0.19.1"
      ],
      "text/plain": [
       "<IPython.core.display.HTML object>"
      ]
     },
     "metadata": {},
     "output_type": "display_data"
    },
    {
     "data": {
      "text/html": [
       "Run data is saved locally in <code>c:\\Users\\Nilsu.Sahin\\Desktop\\ns_trial\\RAG_Model\\wandb\\run-20241217_200120-6wfwpnds</code>"
      ],
      "text/plain": [
       "<IPython.core.display.HTML object>"
      ]
     },
     "metadata": {},
     "output_type": "display_data"
    },
    {
     "data": {
      "text/html": [
       "Syncing run <strong><a href='https://wandb.ai/nilsusahin-middle-east-technical-university/rag_basic_experiment/runs/6wfwpnds' target=\"_blank\">flowing-sweep-53</a></strong> to <a href='https://wandb.ai/nilsusahin-middle-east-technical-university/rag_basic_experiment' target=\"_blank\">Weights & Biases</a> (<a href='https://wandb.me/developer-guide' target=\"_blank\">docs</a>)<br>Sweep page: <a href='https://wandb.ai/nilsusahin-middle-east-technical-university/rag_basic_experiment/sweeps/12zc357u' target=\"_blank\">https://wandb.ai/nilsusahin-middle-east-technical-university/rag_basic_experiment/sweeps/12zc357u</a>"
      ],
      "text/plain": [
       "<IPython.core.display.HTML object>"
      ]
     },
     "metadata": {},
     "output_type": "display_data"
    },
    {
     "data": {
      "text/html": [
       " View project at <a href='https://wandb.ai/nilsusahin-middle-east-technical-university/rag_basic_experiment' target=\"_blank\">https://wandb.ai/nilsusahin-middle-east-technical-university/rag_basic_experiment</a>"
      ],
      "text/plain": [
       "<IPython.core.display.HTML object>"
      ]
     },
     "metadata": {},
     "output_type": "display_data"
    },
    {
     "data": {
      "text/html": [
       " View sweep at <a href='https://wandb.ai/nilsusahin-middle-east-technical-university/rag_basic_experiment/sweeps/12zc357u' target=\"_blank\">https://wandb.ai/nilsusahin-middle-east-technical-university/rag_basic_experiment/sweeps/12zc357u</a>"
      ],
      "text/plain": [
       "<IPython.core.display.HTML object>"
      ]
     },
     "metadata": {},
     "output_type": "display_data"
    },
    {
     "data": {
      "text/html": [
       " View run at <a href='https://wandb.ai/nilsusahin-middle-east-technical-university/rag_basic_experiment/runs/6wfwpnds' target=\"_blank\">https://wandb.ai/nilsusahin-middle-east-technical-university/rag_basic_experiment/runs/6wfwpnds</a>"
      ],
      "text/plain": [
       "<IPython.core.display.HTML object>"
      ]
     },
     "metadata": {},
     "output_type": "display_data"
    },
    {
     "name": "stdout",
     "output_type": "stream",
     "text": [
      "The token has not been saved to the git credentials helper. Pass `add_to_git_credential=True` in this function directly or `--add-to-git-credential` if using via `huggingface-cli` if you want to set the git credential as well.\n",
      "Token is valid (permission: fineGrained).\n",
      "Your token has been saved to C:\\Users\\Nilsu.Sahin\\.cache\\huggingface\\token\n",
      "Login successful\n",
      "Mean Score: 1.0\n"
     ]
    },
    {
     "data": {
      "text/html": [],
      "text/plain": [
       "<IPython.core.display.HTML object>"
      ]
     },
     "metadata": {},
     "output_type": "display_data"
    },
    {
     "data": {
      "text/html": [
       "<br>    <style><br>        .wandb-row {<br>            display: flex;<br>            flex-direction: row;<br>            flex-wrap: wrap;<br>            justify-content: flex-start;<br>            width: 100%;<br>        }<br>        .wandb-col {<br>            display: flex;<br>            flex-direction: column;<br>            flex-basis: 100%;<br>            flex: 1;<br>            padding: 10px;<br>        }<br>    </style><br><div class=\"wandb-row\"><div class=\"wandb-col\"><h3>Run history:</h3><br/><table class=\"wandb\"><tr><td>chunk_overlap</td><td>▁</td></tr><tr><td>chunk_size</td><td>▁</td></tr><tr><td>mean_score</td><td>▁</td></tr><tr><td>temperature</td><td>▁</td></tr><tr><td>top_k</td><td>▁</td></tr></table><br/></div><div class=\"wandb-col\"><h3>Run summary:</h3><br/><table class=\"wandb\"><tr><td>chunk_overlap</td><td>0</td></tr><tr><td>chunk_size</td><td>200</td></tr><tr><td>mean_score</td><td>1</td></tr><tr><td>temperature</td><td>0.81867</td></tr><tr><td>top_k</td><td>2</td></tr></table><br/></div></div>"
      ],
      "text/plain": [
       "<IPython.core.display.HTML object>"
      ]
     },
     "metadata": {},
     "output_type": "display_data"
    },
    {
     "data": {
      "text/html": [
       " View run <strong style=\"color:#cdcd00\">flowing-sweep-53</strong> at: <a href='https://wandb.ai/nilsusahin-middle-east-technical-university/rag_basic_experiment/runs/6wfwpnds' target=\"_blank\">https://wandb.ai/nilsusahin-middle-east-technical-university/rag_basic_experiment/runs/6wfwpnds</a><br> View project at: <a href='https://wandb.ai/nilsusahin-middle-east-technical-university/rag_basic_experiment' target=\"_blank\">https://wandb.ai/nilsusahin-middle-east-technical-university/rag_basic_experiment</a><br>Synced 5 W&B file(s), 0 media file(s), 0 artifact file(s) and 0 other file(s)"
      ],
      "text/plain": [
       "<IPython.core.display.HTML object>"
      ]
     },
     "metadata": {},
     "output_type": "display_data"
    },
    {
     "data": {
      "text/html": [
       "Find logs at: <code>.\\wandb\\run-20241217_200120-6wfwpnds\\logs</code>"
      ],
      "text/plain": [
       "<IPython.core.display.HTML object>"
      ]
     },
     "metadata": {},
     "output_type": "display_data"
    },
    {
     "name": "stderr",
     "output_type": "stream",
     "text": [
      "\u001b[34m\u001b[1mwandb\u001b[0m: Sweep Agent: Waiting for job.\n",
      "\u001b[34m\u001b[1mwandb\u001b[0m: Job received.\n",
      "\u001b[34m\u001b[1mwandb\u001b[0m: Agent Starting Run: 600aemc8 with config:\n",
      "\u001b[34m\u001b[1mwandb\u001b[0m: \tchunk_overlap: 0\n",
      "\u001b[34m\u001b[1mwandb\u001b[0m: \tchunk_size: 100\n",
      "\u001b[34m\u001b[1mwandb\u001b[0m: \ttemperature: 0.26235269638407965\n",
      "\u001b[34m\u001b[1mwandb\u001b[0m: \ttop_k: 1\n"
     ]
    },
    {
     "data": {
      "text/html": [
       "Tracking run with wandb version 0.19.1"
      ],
      "text/plain": [
       "<IPython.core.display.HTML object>"
      ]
     },
     "metadata": {},
     "output_type": "display_data"
    },
    {
     "data": {
      "text/html": [
       "Run data is saved locally in <code>c:\\Users\\Nilsu.Sahin\\Desktop\\ns_trial\\RAG_Model\\wandb\\run-20241217_200146-600aemc8</code>"
      ],
      "text/plain": [
       "<IPython.core.display.HTML object>"
      ]
     },
     "metadata": {},
     "output_type": "display_data"
    },
    {
     "data": {
      "text/html": [
       "Syncing run <strong><a href='https://wandb.ai/nilsusahin-middle-east-technical-university/rag_basic_experiment/runs/600aemc8' target=\"_blank\">dashing-sweep-54</a></strong> to <a href='https://wandb.ai/nilsusahin-middle-east-technical-university/rag_basic_experiment' target=\"_blank\">Weights & Biases</a> (<a href='https://wandb.me/developer-guide' target=\"_blank\">docs</a>)<br>Sweep page: <a href='https://wandb.ai/nilsusahin-middle-east-technical-university/rag_basic_experiment/sweeps/12zc357u' target=\"_blank\">https://wandb.ai/nilsusahin-middle-east-technical-university/rag_basic_experiment/sweeps/12zc357u</a>"
      ],
      "text/plain": [
       "<IPython.core.display.HTML object>"
      ]
     },
     "metadata": {},
     "output_type": "display_data"
    },
    {
     "data": {
      "text/html": [
       " View project at <a href='https://wandb.ai/nilsusahin-middle-east-technical-university/rag_basic_experiment' target=\"_blank\">https://wandb.ai/nilsusahin-middle-east-technical-university/rag_basic_experiment</a>"
      ],
      "text/plain": [
       "<IPython.core.display.HTML object>"
      ]
     },
     "metadata": {},
     "output_type": "display_data"
    },
    {
     "data": {
      "text/html": [
       " View sweep at <a href='https://wandb.ai/nilsusahin-middle-east-technical-university/rag_basic_experiment/sweeps/12zc357u' target=\"_blank\">https://wandb.ai/nilsusahin-middle-east-technical-university/rag_basic_experiment/sweeps/12zc357u</a>"
      ],
      "text/plain": [
       "<IPython.core.display.HTML object>"
      ]
     },
     "metadata": {},
     "output_type": "display_data"
    },
    {
     "data": {
      "text/html": [
       " View run at <a href='https://wandb.ai/nilsusahin-middle-east-technical-university/rag_basic_experiment/runs/600aemc8' target=\"_blank\">https://wandb.ai/nilsusahin-middle-east-technical-university/rag_basic_experiment/runs/600aemc8</a>"
      ],
      "text/plain": [
       "<IPython.core.display.HTML object>"
      ]
     },
     "metadata": {},
     "output_type": "display_data"
    },
    {
     "name": "stdout",
     "output_type": "stream",
     "text": [
      "The token has not been saved to the git credentials helper. Pass `add_to_git_credential=True` in this function directly or `--add-to-git-credential` if using via `huggingface-cli` if you want to set the git credential as well.\n",
      "Token is valid (permission: fineGrained).\n",
      "Your token has been saved to C:\\Users\\Nilsu.Sahin\\.cache\\huggingface\\token\n",
      "Login successful\n",
      "Mean Score: 1.0\n"
     ]
    },
    {
     "data": {
      "text/html": [],
      "text/plain": [
       "<IPython.core.display.HTML object>"
      ]
     },
     "metadata": {},
     "output_type": "display_data"
    },
    {
     "data": {
      "text/html": [
       "<br>    <style><br>        .wandb-row {<br>            display: flex;<br>            flex-direction: row;<br>            flex-wrap: wrap;<br>            justify-content: flex-start;<br>            width: 100%;<br>        }<br>        .wandb-col {<br>            display: flex;<br>            flex-direction: column;<br>            flex-basis: 100%;<br>            flex: 1;<br>            padding: 10px;<br>        }<br>    </style><br><div class=\"wandb-row\"><div class=\"wandb-col\"><h3>Run history:</h3><br/><table class=\"wandb\"><tr><td>chunk_overlap</td><td>▁</td></tr><tr><td>chunk_size</td><td>▁</td></tr><tr><td>mean_score</td><td>▁</td></tr><tr><td>temperature</td><td>▁</td></tr><tr><td>top_k</td><td>▁</td></tr></table><br/></div><div class=\"wandb-col\"><h3>Run summary:</h3><br/><table class=\"wandb\"><tr><td>chunk_overlap</td><td>0</td></tr><tr><td>chunk_size</td><td>100</td></tr><tr><td>mean_score</td><td>1</td></tr><tr><td>temperature</td><td>0.26235</td></tr><tr><td>top_k</td><td>1</td></tr></table><br/></div></div>"
      ],
      "text/plain": [
       "<IPython.core.display.HTML object>"
      ]
     },
     "metadata": {},
     "output_type": "display_data"
    },
    {
     "data": {
      "text/html": [
       " View run <strong style=\"color:#cdcd00\">dashing-sweep-54</strong> at: <a href='https://wandb.ai/nilsusahin-middle-east-technical-university/rag_basic_experiment/runs/600aemc8' target=\"_blank\">https://wandb.ai/nilsusahin-middle-east-technical-university/rag_basic_experiment/runs/600aemc8</a><br> View project at: <a href='https://wandb.ai/nilsusahin-middle-east-technical-university/rag_basic_experiment' target=\"_blank\">https://wandb.ai/nilsusahin-middle-east-technical-university/rag_basic_experiment</a><br>Synced 5 W&B file(s), 0 media file(s), 0 artifact file(s) and 0 other file(s)"
      ],
      "text/plain": [
       "<IPython.core.display.HTML object>"
      ]
     },
     "metadata": {},
     "output_type": "display_data"
    },
    {
     "data": {
      "text/html": [
       "Find logs at: <code>.\\wandb\\run-20241217_200146-600aemc8\\logs</code>"
      ],
      "text/plain": [
       "<IPython.core.display.HTML object>"
      ]
     },
     "metadata": {},
     "output_type": "display_data"
    },
    {
     "name": "stderr",
     "output_type": "stream",
     "text": [
      "\u001b[34m\u001b[1mwandb\u001b[0m: Agent Starting Run: esb7cecw with config:\n",
      "\u001b[34m\u001b[1mwandb\u001b[0m: \tchunk_overlap: 50\n",
      "\u001b[34m\u001b[1mwandb\u001b[0m: \tchunk_size: 200\n",
      "\u001b[34m\u001b[1mwandb\u001b[0m: \ttemperature: 0.5577707386003723\n",
      "\u001b[34m\u001b[1mwandb\u001b[0m: \ttop_k: 2\n"
     ]
    },
    {
     "data": {
      "text/html": [
       "Tracking run with wandb version 0.19.1"
      ],
      "text/plain": [
       "<IPython.core.display.HTML object>"
      ]
     },
     "metadata": {},
     "output_type": "display_data"
    },
    {
     "data": {
      "text/html": [
       "Run data is saved locally in <code>c:\\Users\\Nilsu.Sahin\\Desktop\\ns_trial\\RAG_Model\\wandb\\run-20241217_200213-esb7cecw</code>"
      ],
      "text/plain": [
       "<IPython.core.display.HTML object>"
      ]
     },
     "metadata": {},
     "output_type": "display_data"
    },
    {
     "data": {
      "text/html": [
       "Syncing run <strong><a href='https://wandb.ai/nilsusahin-middle-east-technical-university/rag_basic_experiment/runs/esb7cecw' target=\"_blank\">lunar-sweep-55</a></strong> to <a href='https://wandb.ai/nilsusahin-middle-east-technical-university/rag_basic_experiment' target=\"_blank\">Weights & Biases</a> (<a href='https://wandb.me/developer-guide' target=\"_blank\">docs</a>)<br>Sweep page: <a href='https://wandb.ai/nilsusahin-middle-east-technical-university/rag_basic_experiment/sweeps/12zc357u' target=\"_blank\">https://wandb.ai/nilsusahin-middle-east-technical-university/rag_basic_experiment/sweeps/12zc357u</a>"
      ],
      "text/plain": [
       "<IPython.core.display.HTML object>"
      ]
     },
     "metadata": {},
     "output_type": "display_data"
    },
    {
     "data": {
      "text/html": [
       " View project at <a href='https://wandb.ai/nilsusahin-middle-east-technical-university/rag_basic_experiment' target=\"_blank\">https://wandb.ai/nilsusahin-middle-east-technical-university/rag_basic_experiment</a>"
      ],
      "text/plain": [
       "<IPython.core.display.HTML object>"
      ]
     },
     "metadata": {},
     "output_type": "display_data"
    },
    {
     "data": {
      "text/html": [
       " View sweep at <a href='https://wandb.ai/nilsusahin-middle-east-technical-university/rag_basic_experiment/sweeps/12zc357u' target=\"_blank\">https://wandb.ai/nilsusahin-middle-east-technical-university/rag_basic_experiment/sweeps/12zc357u</a>"
      ],
      "text/plain": [
       "<IPython.core.display.HTML object>"
      ]
     },
     "metadata": {},
     "output_type": "display_data"
    },
    {
     "data": {
      "text/html": [
       " View run at <a href='https://wandb.ai/nilsusahin-middle-east-technical-university/rag_basic_experiment/runs/esb7cecw' target=\"_blank\">https://wandb.ai/nilsusahin-middle-east-technical-university/rag_basic_experiment/runs/esb7cecw</a>"
      ],
      "text/plain": [
       "<IPython.core.display.HTML object>"
      ]
     },
     "metadata": {},
     "output_type": "display_data"
    },
    {
     "name": "stdout",
     "output_type": "stream",
     "text": [
      "The token has not been saved to the git credentials helper. Pass `add_to_git_credential=True` in this function directly or `--add-to-git-credential` if using via `huggingface-cli` if you want to set the git credential as well.\n",
      "Token is valid (permission: fineGrained).\n",
      "Your token has been saved to C:\\Users\\Nilsu.Sahin\\.cache\\huggingface\\token\n",
      "Login successful\n",
      "Mean Score: 1.0\n"
     ]
    },
    {
     "data": {
      "text/html": [],
      "text/plain": [
       "<IPython.core.display.HTML object>"
      ]
     },
     "metadata": {},
     "output_type": "display_data"
    },
    {
     "data": {
      "text/html": [
       "<br>    <style><br>        .wandb-row {<br>            display: flex;<br>            flex-direction: row;<br>            flex-wrap: wrap;<br>            justify-content: flex-start;<br>            width: 100%;<br>        }<br>        .wandb-col {<br>            display: flex;<br>            flex-direction: column;<br>            flex-basis: 100%;<br>            flex: 1;<br>            padding: 10px;<br>        }<br>    </style><br><div class=\"wandb-row\"><div class=\"wandb-col\"><h3>Run history:</h3><br/><table class=\"wandb\"><tr><td>chunk_overlap</td><td>▁</td></tr><tr><td>chunk_size</td><td>▁</td></tr><tr><td>mean_score</td><td>▁</td></tr><tr><td>temperature</td><td>▁</td></tr><tr><td>top_k</td><td>▁</td></tr></table><br/></div><div class=\"wandb-col\"><h3>Run summary:</h3><br/><table class=\"wandb\"><tr><td>chunk_overlap</td><td>50</td></tr><tr><td>chunk_size</td><td>200</td></tr><tr><td>mean_score</td><td>1</td></tr><tr><td>temperature</td><td>0.55777</td></tr><tr><td>top_k</td><td>2</td></tr></table><br/></div></div>"
      ],
      "text/plain": [
       "<IPython.core.display.HTML object>"
      ]
     },
     "metadata": {},
     "output_type": "display_data"
    },
    {
     "data": {
      "text/html": [
       " View run <strong style=\"color:#cdcd00\">lunar-sweep-55</strong> at: <a href='https://wandb.ai/nilsusahin-middle-east-technical-university/rag_basic_experiment/runs/esb7cecw' target=\"_blank\">https://wandb.ai/nilsusahin-middle-east-technical-university/rag_basic_experiment/runs/esb7cecw</a><br> View project at: <a href='https://wandb.ai/nilsusahin-middle-east-technical-university/rag_basic_experiment' target=\"_blank\">https://wandb.ai/nilsusahin-middle-east-technical-university/rag_basic_experiment</a><br>Synced 5 W&B file(s), 0 media file(s), 0 artifact file(s) and 0 other file(s)"
      ],
      "text/plain": [
       "<IPython.core.display.HTML object>"
      ]
     },
     "metadata": {},
     "output_type": "display_data"
    },
    {
     "data": {
      "text/html": [
       "Find logs at: <code>.\\wandb\\run-20241217_200213-esb7cecw\\logs</code>"
      ],
      "text/plain": [
       "<IPython.core.display.HTML object>"
      ]
     },
     "metadata": {},
     "output_type": "display_data"
    },
    {
     "name": "stderr",
     "output_type": "stream",
     "text": [
      "\u001b[34m\u001b[1mwandb\u001b[0m: Agent Starting Run: ek36escv with config:\n",
      "\u001b[34m\u001b[1mwandb\u001b[0m: \tchunk_overlap: 0\n",
      "\u001b[34m\u001b[1mwandb\u001b[0m: \tchunk_size: 200\n",
      "\u001b[34m\u001b[1mwandb\u001b[0m: \ttemperature: 0.5382141897042431\n",
      "\u001b[34m\u001b[1mwandb\u001b[0m: \ttop_k: 5\n"
     ]
    },
    {
     "data": {
      "text/html": [
       "Tracking run with wandb version 0.19.1"
      ],
      "text/plain": [
       "<IPython.core.display.HTML object>"
      ]
     },
     "metadata": {},
     "output_type": "display_data"
    },
    {
     "data": {
      "text/html": [
       "Run data is saved locally in <code>c:\\Users\\Nilsu.Sahin\\Desktop\\ns_trial\\RAG_Model\\wandb\\run-20241217_200244-ek36escv</code>"
      ],
      "text/plain": [
       "<IPython.core.display.HTML object>"
      ]
     },
     "metadata": {},
     "output_type": "display_data"
    },
    {
     "data": {
      "text/html": [
       "Syncing run <strong><a href='https://wandb.ai/nilsusahin-middle-east-technical-university/rag_basic_experiment/runs/ek36escv' target=\"_blank\">polished-sweep-56</a></strong> to <a href='https://wandb.ai/nilsusahin-middle-east-technical-university/rag_basic_experiment' target=\"_blank\">Weights & Biases</a> (<a href='https://wandb.me/developer-guide' target=\"_blank\">docs</a>)<br>Sweep page: <a href='https://wandb.ai/nilsusahin-middle-east-technical-university/rag_basic_experiment/sweeps/12zc357u' target=\"_blank\">https://wandb.ai/nilsusahin-middle-east-technical-university/rag_basic_experiment/sweeps/12zc357u</a>"
      ],
      "text/plain": [
       "<IPython.core.display.HTML object>"
      ]
     },
     "metadata": {},
     "output_type": "display_data"
    },
    {
     "data": {
      "text/html": [
       " View project at <a href='https://wandb.ai/nilsusahin-middle-east-technical-university/rag_basic_experiment' target=\"_blank\">https://wandb.ai/nilsusahin-middle-east-technical-university/rag_basic_experiment</a>"
      ],
      "text/plain": [
       "<IPython.core.display.HTML object>"
      ]
     },
     "metadata": {},
     "output_type": "display_data"
    },
    {
     "data": {
      "text/html": [
       " View sweep at <a href='https://wandb.ai/nilsusahin-middle-east-technical-university/rag_basic_experiment/sweeps/12zc357u' target=\"_blank\">https://wandb.ai/nilsusahin-middle-east-technical-university/rag_basic_experiment/sweeps/12zc357u</a>"
      ],
      "text/plain": [
       "<IPython.core.display.HTML object>"
      ]
     },
     "metadata": {},
     "output_type": "display_data"
    },
    {
     "data": {
      "text/html": [
       " View run at <a href='https://wandb.ai/nilsusahin-middle-east-technical-university/rag_basic_experiment/runs/ek36escv' target=\"_blank\">https://wandb.ai/nilsusahin-middle-east-technical-university/rag_basic_experiment/runs/ek36escv</a>"
      ],
      "text/plain": [
       "<IPython.core.display.HTML object>"
      ]
     },
     "metadata": {},
     "output_type": "display_data"
    },
    {
     "name": "stdout",
     "output_type": "stream",
     "text": [
      "The token has not been saved to the git credentials helper. Pass `add_to_git_credential=True` in this function directly or `--add-to-git-credential` if using via `huggingface-cli` if you want to set the git credential as well.\n",
      "Token is valid (permission: fineGrained).\n",
      "Your token has been saved to C:\\Users\\Nilsu.Sahin\\.cache\\huggingface\\token\n",
      "Login successful\n",
      "Mean Score: 1.0\n"
     ]
    },
    {
     "data": {
      "text/html": [],
      "text/plain": [
       "<IPython.core.display.HTML object>"
      ]
     },
     "metadata": {},
     "output_type": "display_data"
    },
    {
     "data": {
      "text/html": [
       "<br>    <style><br>        .wandb-row {<br>            display: flex;<br>            flex-direction: row;<br>            flex-wrap: wrap;<br>            justify-content: flex-start;<br>            width: 100%;<br>        }<br>        .wandb-col {<br>            display: flex;<br>            flex-direction: column;<br>            flex-basis: 100%;<br>            flex: 1;<br>            padding: 10px;<br>        }<br>    </style><br><div class=\"wandb-row\"><div class=\"wandb-col\"><h3>Run history:</h3><br/><table class=\"wandb\"><tr><td>chunk_overlap</td><td>▁</td></tr><tr><td>chunk_size</td><td>▁</td></tr><tr><td>mean_score</td><td>▁</td></tr><tr><td>temperature</td><td>▁</td></tr><tr><td>top_k</td><td>▁</td></tr></table><br/></div><div class=\"wandb-col\"><h3>Run summary:</h3><br/><table class=\"wandb\"><tr><td>chunk_overlap</td><td>0</td></tr><tr><td>chunk_size</td><td>200</td></tr><tr><td>mean_score</td><td>1</td></tr><tr><td>temperature</td><td>0.53821</td></tr><tr><td>top_k</td><td>5</td></tr></table><br/></div></div>"
      ],
      "text/plain": [
       "<IPython.core.display.HTML object>"
      ]
     },
     "metadata": {},
     "output_type": "display_data"
    },
    {
     "data": {
      "text/html": [
       " View run <strong style=\"color:#cdcd00\">polished-sweep-56</strong> at: <a href='https://wandb.ai/nilsusahin-middle-east-technical-university/rag_basic_experiment/runs/ek36escv' target=\"_blank\">https://wandb.ai/nilsusahin-middle-east-technical-university/rag_basic_experiment/runs/ek36escv</a><br> View project at: <a href='https://wandb.ai/nilsusahin-middle-east-technical-university/rag_basic_experiment' target=\"_blank\">https://wandb.ai/nilsusahin-middle-east-technical-university/rag_basic_experiment</a><br>Synced 5 W&B file(s), 0 media file(s), 0 artifact file(s) and 0 other file(s)"
      ],
      "text/plain": [
       "<IPython.core.display.HTML object>"
      ]
     },
     "metadata": {},
     "output_type": "display_data"
    },
    {
     "data": {
      "text/html": [
       "Find logs at: <code>.\\wandb\\run-20241217_200244-ek36escv\\logs</code>"
      ],
      "text/plain": [
       "<IPython.core.display.HTML object>"
      ]
     },
     "metadata": {},
     "output_type": "display_data"
    },
    {
     "name": "stderr",
     "output_type": "stream",
     "text": [
      "\u001b[34m\u001b[1mwandb\u001b[0m: Agent Starting Run: 8bumhltr with config:\n",
      "\u001b[34m\u001b[1mwandb\u001b[0m: \tchunk_overlap: 0\n",
      "\u001b[34m\u001b[1mwandb\u001b[0m: \tchunk_size: 200\n",
      "\u001b[34m\u001b[1mwandb\u001b[0m: \ttemperature: 0.232050434263669\n",
      "\u001b[34m\u001b[1mwandb\u001b[0m: \ttop_k: 2\n"
     ]
    },
    {
     "data": {
      "text/html": [
       "Tracking run with wandb version 0.19.1"
      ],
      "text/plain": [
       "<IPython.core.display.HTML object>"
      ]
     },
     "metadata": {},
     "output_type": "display_data"
    },
    {
     "data": {
      "text/html": [
       "Run data is saved locally in <code>c:\\Users\\Nilsu.Sahin\\Desktop\\ns_trial\\RAG_Model\\wandb\\run-20241217_200311-8bumhltr</code>"
      ],
      "text/plain": [
       "<IPython.core.display.HTML object>"
      ]
     },
     "metadata": {},
     "output_type": "display_data"
    },
    {
     "data": {
      "text/html": [
       "Syncing run <strong><a href='https://wandb.ai/nilsusahin-middle-east-technical-university/rag_basic_experiment/runs/8bumhltr' target=\"_blank\">expert-sweep-57</a></strong> to <a href='https://wandb.ai/nilsusahin-middle-east-technical-university/rag_basic_experiment' target=\"_blank\">Weights & Biases</a> (<a href='https://wandb.me/developer-guide' target=\"_blank\">docs</a>)<br>Sweep page: <a href='https://wandb.ai/nilsusahin-middle-east-technical-university/rag_basic_experiment/sweeps/12zc357u' target=\"_blank\">https://wandb.ai/nilsusahin-middle-east-technical-university/rag_basic_experiment/sweeps/12zc357u</a>"
      ],
      "text/plain": [
       "<IPython.core.display.HTML object>"
      ]
     },
     "metadata": {},
     "output_type": "display_data"
    },
    {
     "data": {
      "text/html": [
       " View project at <a href='https://wandb.ai/nilsusahin-middle-east-technical-university/rag_basic_experiment' target=\"_blank\">https://wandb.ai/nilsusahin-middle-east-technical-university/rag_basic_experiment</a>"
      ],
      "text/plain": [
       "<IPython.core.display.HTML object>"
      ]
     },
     "metadata": {},
     "output_type": "display_data"
    },
    {
     "data": {
      "text/html": [
       " View sweep at <a href='https://wandb.ai/nilsusahin-middle-east-technical-university/rag_basic_experiment/sweeps/12zc357u' target=\"_blank\">https://wandb.ai/nilsusahin-middle-east-technical-university/rag_basic_experiment/sweeps/12zc357u</a>"
      ],
      "text/plain": [
       "<IPython.core.display.HTML object>"
      ]
     },
     "metadata": {},
     "output_type": "display_data"
    },
    {
     "data": {
      "text/html": [
       " View run at <a href='https://wandb.ai/nilsusahin-middle-east-technical-university/rag_basic_experiment/runs/8bumhltr' target=\"_blank\">https://wandb.ai/nilsusahin-middle-east-technical-university/rag_basic_experiment/runs/8bumhltr</a>"
      ],
      "text/plain": [
       "<IPython.core.display.HTML object>"
      ]
     },
     "metadata": {},
     "output_type": "display_data"
    },
    {
     "name": "stdout",
     "output_type": "stream",
     "text": [
      "The token has not been saved to the git credentials helper. Pass `add_to_git_credential=True` in this function directly or `--add-to-git-credential` if using via `huggingface-cli` if you want to set the git credential as well.\n",
      "Token is valid (permission: fineGrained).\n",
      "Your token has been saved to C:\\Users\\Nilsu.Sahin\\.cache\\huggingface\\token\n",
      "Login successful\n",
      "Mean Score: 1.0\n"
     ]
    },
    {
     "data": {
      "text/html": [],
      "text/plain": [
       "<IPython.core.display.HTML object>"
      ]
     },
     "metadata": {},
     "output_type": "display_data"
    },
    {
     "data": {
      "text/html": [
       "<br>    <style><br>        .wandb-row {<br>            display: flex;<br>            flex-direction: row;<br>            flex-wrap: wrap;<br>            justify-content: flex-start;<br>            width: 100%;<br>        }<br>        .wandb-col {<br>            display: flex;<br>            flex-direction: column;<br>            flex-basis: 100%;<br>            flex: 1;<br>            padding: 10px;<br>        }<br>    </style><br><div class=\"wandb-row\"><div class=\"wandb-col\"><h3>Run history:</h3><br/><table class=\"wandb\"><tr><td>chunk_overlap</td><td>▁</td></tr><tr><td>chunk_size</td><td>▁</td></tr><tr><td>mean_score</td><td>▁</td></tr><tr><td>temperature</td><td>▁</td></tr><tr><td>top_k</td><td>▁</td></tr></table><br/></div><div class=\"wandb-col\"><h3>Run summary:</h3><br/><table class=\"wandb\"><tr><td>chunk_overlap</td><td>0</td></tr><tr><td>chunk_size</td><td>200</td></tr><tr><td>mean_score</td><td>1</td></tr><tr><td>temperature</td><td>0.23205</td></tr><tr><td>top_k</td><td>2</td></tr></table><br/></div></div>"
      ],
      "text/plain": [
       "<IPython.core.display.HTML object>"
      ]
     },
     "metadata": {},
     "output_type": "display_data"
    },
    {
     "data": {
      "text/html": [
       " View run <strong style=\"color:#cdcd00\">expert-sweep-57</strong> at: <a href='https://wandb.ai/nilsusahin-middle-east-technical-university/rag_basic_experiment/runs/8bumhltr' target=\"_blank\">https://wandb.ai/nilsusahin-middle-east-technical-university/rag_basic_experiment/runs/8bumhltr</a><br> View project at: <a href='https://wandb.ai/nilsusahin-middle-east-technical-university/rag_basic_experiment' target=\"_blank\">https://wandb.ai/nilsusahin-middle-east-technical-university/rag_basic_experiment</a><br>Synced 5 W&B file(s), 0 media file(s), 0 artifact file(s) and 0 other file(s)"
      ],
      "text/plain": [
       "<IPython.core.display.HTML object>"
      ]
     },
     "metadata": {},
     "output_type": "display_data"
    },
    {
     "data": {
      "text/html": [
       "Find logs at: <code>.\\wandb\\run-20241217_200311-8bumhltr\\logs</code>"
      ],
      "text/plain": [
       "<IPython.core.display.HTML object>"
      ]
     },
     "metadata": {},
     "output_type": "display_data"
    },
    {
     "name": "stderr",
     "output_type": "stream",
     "text": [
      "\u001b[34m\u001b[1mwandb\u001b[0m: Agent Starting Run: 7vl9lis8 with config:\n",
      "\u001b[34m\u001b[1mwandb\u001b[0m: \tchunk_overlap: 0\n",
      "\u001b[34m\u001b[1mwandb\u001b[0m: \tchunk_size: 100\n",
      "\u001b[34m\u001b[1mwandb\u001b[0m: \ttemperature: 0.7736655772972906\n",
      "\u001b[34m\u001b[1mwandb\u001b[0m: \ttop_k: 6\n"
     ]
    },
    {
     "data": {
      "text/html": [
       "Tracking run with wandb version 0.19.1"
      ],
      "text/plain": [
       "<IPython.core.display.HTML object>"
      ]
     },
     "metadata": {},
     "output_type": "display_data"
    },
    {
     "data": {
      "text/html": [
       "Run data is saved locally in <code>c:\\Users\\Nilsu.Sahin\\Desktop\\ns_trial\\RAG_Model\\wandb\\run-20241217_200332-7vl9lis8</code>"
      ],
      "text/plain": [
       "<IPython.core.display.HTML object>"
      ]
     },
     "metadata": {},
     "output_type": "display_data"
    },
    {
     "data": {
      "text/html": [
       "Syncing run <strong><a href='https://wandb.ai/nilsusahin-middle-east-technical-university/rag_basic_experiment/runs/7vl9lis8' target=\"_blank\">efficient-sweep-58</a></strong> to <a href='https://wandb.ai/nilsusahin-middle-east-technical-university/rag_basic_experiment' target=\"_blank\">Weights & Biases</a> (<a href='https://wandb.me/developer-guide' target=\"_blank\">docs</a>)<br>Sweep page: <a href='https://wandb.ai/nilsusahin-middle-east-technical-university/rag_basic_experiment/sweeps/12zc357u' target=\"_blank\">https://wandb.ai/nilsusahin-middle-east-technical-university/rag_basic_experiment/sweeps/12zc357u</a>"
      ],
      "text/plain": [
       "<IPython.core.display.HTML object>"
      ]
     },
     "metadata": {},
     "output_type": "display_data"
    },
    {
     "data": {
      "text/html": [
       " View project at <a href='https://wandb.ai/nilsusahin-middle-east-technical-university/rag_basic_experiment' target=\"_blank\">https://wandb.ai/nilsusahin-middle-east-technical-university/rag_basic_experiment</a>"
      ],
      "text/plain": [
       "<IPython.core.display.HTML object>"
      ]
     },
     "metadata": {},
     "output_type": "display_data"
    },
    {
     "data": {
      "text/html": [
       " View sweep at <a href='https://wandb.ai/nilsusahin-middle-east-technical-university/rag_basic_experiment/sweeps/12zc357u' target=\"_blank\">https://wandb.ai/nilsusahin-middle-east-technical-university/rag_basic_experiment/sweeps/12zc357u</a>"
      ],
      "text/plain": [
       "<IPython.core.display.HTML object>"
      ]
     },
     "metadata": {},
     "output_type": "display_data"
    },
    {
     "data": {
      "text/html": [
       " View run at <a href='https://wandb.ai/nilsusahin-middle-east-technical-university/rag_basic_experiment/runs/7vl9lis8' target=\"_blank\">https://wandb.ai/nilsusahin-middle-east-technical-university/rag_basic_experiment/runs/7vl9lis8</a>"
      ],
      "text/plain": [
       "<IPython.core.display.HTML object>"
      ]
     },
     "metadata": {},
     "output_type": "display_data"
    },
    {
     "name": "stdout",
     "output_type": "stream",
     "text": [
      "The token has not been saved to the git credentials helper. Pass `add_to_git_credential=True` in this function directly or `--add-to-git-credential` if using via `huggingface-cli` if you want to set the git credential as well.\n",
      "Token is valid (permission: fineGrained).\n",
      "Your token has been saved to C:\\Users\\Nilsu.Sahin\\.cache\\huggingface\\token\n",
      "Login successful\n",
      "Mean Score: 1.0\n"
     ]
    },
    {
     "data": {
      "text/html": [],
      "text/plain": [
       "<IPython.core.display.HTML object>"
      ]
     },
     "metadata": {},
     "output_type": "display_data"
    },
    {
     "data": {
      "text/html": [
       "<br>    <style><br>        .wandb-row {<br>            display: flex;<br>            flex-direction: row;<br>            flex-wrap: wrap;<br>            justify-content: flex-start;<br>            width: 100%;<br>        }<br>        .wandb-col {<br>            display: flex;<br>            flex-direction: column;<br>            flex-basis: 100%;<br>            flex: 1;<br>            padding: 10px;<br>        }<br>    </style><br><div class=\"wandb-row\"><div class=\"wandb-col\"><h3>Run history:</h3><br/><table class=\"wandb\"><tr><td>chunk_overlap</td><td>▁</td></tr><tr><td>chunk_size</td><td>▁</td></tr><tr><td>mean_score</td><td>▁</td></tr><tr><td>temperature</td><td>▁</td></tr><tr><td>top_k</td><td>▁</td></tr></table><br/></div><div class=\"wandb-col\"><h3>Run summary:</h3><br/><table class=\"wandb\"><tr><td>chunk_overlap</td><td>0</td></tr><tr><td>chunk_size</td><td>100</td></tr><tr><td>mean_score</td><td>1</td></tr><tr><td>temperature</td><td>0.77367</td></tr><tr><td>top_k</td><td>6</td></tr></table><br/></div></div>"
      ],
      "text/plain": [
       "<IPython.core.display.HTML object>"
      ]
     },
     "metadata": {},
     "output_type": "display_data"
    },
    {
     "data": {
      "text/html": [
       " View run <strong style=\"color:#cdcd00\">efficient-sweep-58</strong> at: <a href='https://wandb.ai/nilsusahin-middle-east-technical-university/rag_basic_experiment/runs/7vl9lis8' target=\"_blank\">https://wandb.ai/nilsusahin-middle-east-technical-university/rag_basic_experiment/runs/7vl9lis8</a><br> View project at: <a href='https://wandb.ai/nilsusahin-middle-east-technical-university/rag_basic_experiment' target=\"_blank\">https://wandb.ai/nilsusahin-middle-east-technical-university/rag_basic_experiment</a><br>Synced 5 W&B file(s), 0 media file(s), 0 artifact file(s) and 0 other file(s)"
      ],
      "text/plain": [
       "<IPython.core.display.HTML object>"
      ]
     },
     "metadata": {},
     "output_type": "display_data"
    },
    {
     "data": {
      "text/html": [
       "Find logs at: <code>.\\wandb\\run-20241217_200332-7vl9lis8\\logs</code>"
      ],
      "text/plain": [
       "<IPython.core.display.HTML object>"
      ]
     },
     "metadata": {},
     "output_type": "display_data"
    },
    {
     "name": "stderr",
     "output_type": "stream",
     "text": [
      "\u001b[34m\u001b[1mwandb\u001b[0m: Agent Starting Run: gu28yhv5 with config:\n",
      "\u001b[34m\u001b[1mwandb\u001b[0m: \tchunk_overlap: 50\n",
      "\u001b[34m\u001b[1mwandb\u001b[0m: \tchunk_size: 200\n",
      "\u001b[34m\u001b[1mwandb\u001b[0m: \ttemperature: 0.6691742086903357\n",
      "\u001b[34m\u001b[1mwandb\u001b[0m: \ttop_k: 7\n"
     ]
    },
    {
     "data": {
      "text/html": [
       "Tracking run with wandb version 0.19.1"
      ],
      "text/plain": [
       "<IPython.core.display.HTML object>"
      ]
     },
     "metadata": {},
     "output_type": "display_data"
    },
    {
     "data": {
      "text/html": [
       "Run data is saved locally in <code>c:\\Users\\Nilsu.Sahin\\Desktop\\ns_trial\\RAG_Model\\wandb\\run-20241217_200413-gu28yhv5</code>"
      ],
      "text/plain": [
       "<IPython.core.display.HTML object>"
      ]
     },
     "metadata": {},
     "output_type": "display_data"
    },
    {
     "data": {
      "text/html": [
       "Syncing run <strong><a href='https://wandb.ai/nilsusahin-middle-east-technical-university/rag_basic_experiment/runs/gu28yhv5' target=\"_blank\">legendary-sweep-59</a></strong> to <a href='https://wandb.ai/nilsusahin-middle-east-technical-university/rag_basic_experiment' target=\"_blank\">Weights & Biases</a> (<a href='https://wandb.me/developer-guide' target=\"_blank\">docs</a>)<br>Sweep page: <a href='https://wandb.ai/nilsusahin-middle-east-technical-university/rag_basic_experiment/sweeps/12zc357u' target=\"_blank\">https://wandb.ai/nilsusahin-middle-east-technical-university/rag_basic_experiment/sweeps/12zc357u</a>"
      ],
      "text/plain": [
       "<IPython.core.display.HTML object>"
      ]
     },
     "metadata": {},
     "output_type": "display_data"
    },
    {
     "data": {
      "text/html": [
       " View project at <a href='https://wandb.ai/nilsusahin-middle-east-technical-university/rag_basic_experiment' target=\"_blank\">https://wandb.ai/nilsusahin-middle-east-technical-university/rag_basic_experiment</a>"
      ],
      "text/plain": [
       "<IPython.core.display.HTML object>"
      ]
     },
     "metadata": {},
     "output_type": "display_data"
    },
    {
     "data": {
      "text/html": [
       " View sweep at <a href='https://wandb.ai/nilsusahin-middle-east-technical-university/rag_basic_experiment/sweeps/12zc357u' target=\"_blank\">https://wandb.ai/nilsusahin-middle-east-technical-university/rag_basic_experiment/sweeps/12zc357u</a>"
      ],
      "text/plain": [
       "<IPython.core.display.HTML object>"
      ]
     },
     "metadata": {},
     "output_type": "display_data"
    },
    {
     "data": {
      "text/html": [
       " View run at <a href='https://wandb.ai/nilsusahin-middle-east-technical-university/rag_basic_experiment/runs/gu28yhv5' target=\"_blank\">https://wandb.ai/nilsusahin-middle-east-technical-university/rag_basic_experiment/runs/gu28yhv5</a>"
      ],
      "text/plain": [
       "<IPython.core.display.HTML object>"
      ]
     },
     "metadata": {},
     "output_type": "display_data"
    },
    {
     "name": "stdout",
     "output_type": "stream",
     "text": [
      "The token has not been saved to the git credentials helper. Pass `add_to_git_credential=True` in this function directly or `--add-to-git-credential` if using via `huggingface-cli` if you want to set the git credential as well.\n",
      "Token is valid (permission: fineGrained).\n",
      "Your token has been saved to C:\\Users\\Nilsu.Sahin\\.cache\\huggingface\\token\n",
      "Login successful\n",
      "Mean Score: 1.0\n"
     ]
    },
    {
     "data": {
      "text/html": [],
      "text/plain": [
       "<IPython.core.display.HTML object>"
      ]
     },
     "metadata": {},
     "output_type": "display_data"
    },
    {
     "data": {
      "text/html": [
       "<br>    <style><br>        .wandb-row {<br>            display: flex;<br>            flex-direction: row;<br>            flex-wrap: wrap;<br>            justify-content: flex-start;<br>            width: 100%;<br>        }<br>        .wandb-col {<br>            display: flex;<br>            flex-direction: column;<br>            flex-basis: 100%;<br>            flex: 1;<br>            padding: 10px;<br>        }<br>    </style><br><div class=\"wandb-row\"><div class=\"wandb-col\"><h3>Run history:</h3><br/><table class=\"wandb\"><tr><td>chunk_overlap</td><td>▁</td></tr><tr><td>chunk_size</td><td>▁</td></tr><tr><td>mean_score</td><td>▁</td></tr><tr><td>temperature</td><td>▁</td></tr><tr><td>top_k</td><td>▁</td></tr></table><br/></div><div class=\"wandb-col\"><h3>Run summary:</h3><br/><table class=\"wandb\"><tr><td>chunk_overlap</td><td>50</td></tr><tr><td>chunk_size</td><td>200</td></tr><tr><td>mean_score</td><td>1</td></tr><tr><td>temperature</td><td>0.66917</td></tr><tr><td>top_k</td><td>7</td></tr></table><br/></div></div>"
      ],
      "text/plain": [
       "<IPython.core.display.HTML object>"
      ]
     },
     "metadata": {},
     "output_type": "display_data"
    },
    {
     "data": {
      "text/html": [
       " View run <strong style=\"color:#cdcd00\">legendary-sweep-59</strong> at: <a href='https://wandb.ai/nilsusahin-middle-east-technical-university/rag_basic_experiment/runs/gu28yhv5' target=\"_blank\">https://wandb.ai/nilsusahin-middle-east-technical-university/rag_basic_experiment/runs/gu28yhv5</a><br> View project at: <a href='https://wandb.ai/nilsusahin-middle-east-technical-university/rag_basic_experiment' target=\"_blank\">https://wandb.ai/nilsusahin-middle-east-technical-university/rag_basic_experiment</a><br>Synced 5 W&B file(s), 0 media file(s), 0 artifact file(s) and 0 other file(s)"
      ],
      "text/plain": [
       "<IPython.core.display.HTML object>"
      ]
     },
     "metadata": {},
     "output_type": "display_data"
    },
    {
     "data": {
      "text/html": [
       "Find logs at: <code>.\\wandb\\run-20241217_200413-gu28yhv5\\logs</code>"
      ],
      "text/plain": [
       "<IPython.core.display.HTML object>"
      ]
     },
     "metadata": {},
     "output_type": "display_data"
    },
    {
     "name": "stderr",
     "output_type": "stream",
     "text": [
      "\u001b[34m\u001b[1mwandb\u001b[0m: Agent Starting Run: 8u1z1eqg with config:\n",
      "\u001b[34m\u001b[1mwandb\u001b[0m: \tchunk_overlap: 0\n",
      "\u001b[34m\u001b[1mwandb\u001b[0m: \tchunk_size: 200\n",
      "\u001b[34m\u001b[1mwandb\u001b[0m: \ttemperature: 0.8830128273048805\n",
      "\u001b[34m\u001b[1mwandb\u001b[0m: \ttop_k: 8\n"
     ]
    },
    {
     "data": {
      "text/html": [
       "Tracking run with wandb version 0.19.1"
      ],
      "text/plain": [
       "<IPython.core.display.HTML object>"
      ]
     },
     "metadata": {},
     "output_type": "display_data"
    },
    {
     "data": {
      "text/html": [
       "Run data is saved locally in <code>c:\\Users\\Nilsu.Sahin\\Desktop\\ns_trial\\RAG_Model\\wandb\\run-20241217_200440-8u1z1eqg</code>"
      ],
      "text/plain": [
       "<IPython.core.display.HTML object>"
      ]
     },
     "metadata": {},
     "output_type": "display_data"
    },
    {
     "data": {
      "text/html": [
       "Syncing run <strong><a href='https://wandb.ai/nilsusahin-middle-east-technical-university/rag_basic_experiment/runs/8u1z1eqg' target=\"_blank\">grateful-sweep-60</a></strong> to <a href='https://wandb.ai/nilsusahin-middle-east-technical-university/rag_basic_experiment' target=\"_blank\">Weights & Biases</a> (<a href='https://wandb.me/developer-guide' target=\"_blank\">docs</a>)<br>Sweep page: <a href='https://wandb.ai/nilsusahin-middle-east-technical-university/rag_basic_experiment/sweeps/12zc357u' target=\"_blank\">https://wandb.ai/nilsusahin-middle-east-technical-university/rag_basic_experiment/sweeps/12zc357u</a>"
      ],
      "text/plain": [
       "<IPython.core.display.HTML object>"
      ]
     },
     "metadata": {},
     "output_type": "display_data"
    },
    {
     "data": {
      "text/html": [
       " View project at <a href='https://wandb.ai/nilsusahin-middle-east-technical-university/rag_basic_experiment' target=\"_blank\">https://wandb.ai/nilsusahin-middle-east-technical-university/rag_basic_experiment</a>"
      ],
      "text/plain": [
       "<IPython.core.display.HTML object>"
      ]
     },
     "metadata": {},
     "output_type": "display_data"
    },
    {
     "data": {
      "text/html": [
       " View sweep at <a href='https://wandb.ai/nilsusahin-middle-east-technical-university/rag_basic_experiment/sweeps/12zc357u' target=\"_blank\">https://wandb.ai/nilsusahin-middle-east-technical-university/rag_basic_experiment/sweeps/12zc357u</a>"
      ],
      "text/plain": [
       "<IPython.core.display.HTML object>"
      ]
     },
     "metadata": {},
     "output_type": "display_data"
    },
    {
     "data": {
      "text/html": [
       " View run at <a href='https://wandb.ai/nilsusahin-middle-east-technical-university/rag_basic_experiment/runs/8u1z1eqg' target=\"_blank\">https://wandb.ai/nilsusahin-middle-east-technical-university/rag_basic_experiment/runs/8u1z1eqg</a>"
      ],
      "text/plain": [
       "<IPython.core.display.HTML object>"
      ]
     },
     "metadata": {},
     "output_type": "display_data"
    },
    {
     "name": "stdout",
     "output_type": "stream",
     "text": [
      "The token has not been saved to the git credentials helper. Pass `add_to_git_credential=True` in this function directly or `--add-to-git-credential` if using via `huggingface-cli` if you want to set the git credential as well.\n",
      "Token is valid (permission: fineGrained).\n",
      "Your token has been saved to C:\\Users\\Nilsu.Sahin\\.cache\\huggingface\\token\n",
      "Login successful\n",
      "Mean Score: 0.5\n"
     ]
    },
    {
     "data": {
      "text/html": [],
      "text/plain": [
       "<IPython.core.display.HTML object>"
      ]
     },
     "metadata": {},
     "output_type": "display_data"
    },
    {
     "data": {
      "text/html": [
       "<br>    <style><br>        .wandb-row {<br>            display: flex;<br>            flex-direction: row;<br>            flex-wrap: wrap;<br>            justify-content: flex-start;<br>            width: 100%;<br>        }<br>        .wandb-col {<br>            display: flex;<br>            flex-direction: column;<br>            flex-basis: 100%;<br>            flex: 1;<br>            padding: 10px;<br>        }<br>    </style><br><div class=\"wandb-row\"><div class=\"wandb-col\"><h3>Run history:</h3><br/><table class=\"wandb\"><tr><td>chunk_overlap</td><td>▁</td></tr><tr><td>chunk_size</td><td>▁</td></tr><tr><td>mean_score</td><td>▁</td></tr><tr><td>temperature</td><td>▁</td></tr><tr><td>top_k</td><td>▁</td></tr></table><br/></div><div class=\"wandb-col\"><h3>Run summary:</h3><br/><table class=\"wandb\"><tr><td>chunk_overlap</td><td>0</td></tr><tr><td>chunk_size</td><td>200</td></tr><tr><td>mean_score</td><td>0.5</td></tr><tr><td>temperature</td><td>0.88301</td></tr><tr><td>top_k</td><td>8</td></tr></table><br/></div></div>"
      ],
      "text/plain": [
       "<IPython.core.display.HTML object>"
      ]
     },
     "metadata": {},
     "output_type": "display_data"
    },
    {
     "data": {
      "text/html": [
       " View run <strong style=\"color:#cdcd00\">grateful-sweep-60</strong> at: <a href='https://wandb.ai/nilsusahin-middle-east-technical-university/rag_basic_experiment/runs/8u1z1eqg' target=\"_blank\">https://wandb.ai/nilsusahin-middle-east-technical-university/rag_basic_experiment/runs/8u1z1eqg</a><br> View project at: <a href='https://wandb.ai/nilsusahin-middle-east-technical-university/rag_basic_experiment' target=\"_blank\">https://wandb.ai/nilsusahin-middle-east-technical-university/rag_basic_experiment</a><br>Synced 5 W&B file(s), 0 media file(s), 0 artifact file(s) and 0 other file(s)"
      ],
      "text/plain": [
       "<IPython.core.display.HTML object>"
      ]
     },
     "metadata": {},
     "output_type": "display_data"
    },
    {
     "data": {
      "text/html": [
       "Find logs at: <code>.\\wandb\\run-20241217_200440-8u1z1eqg\\logs</code>"
      ],
      "text/plain": [
       "<IPython.core.display.HTML object>"
      ]
     },
     "metadata": {},
     "output_type": "display_data"
    },
    {
     "name": "stderr",
     "output_type": "stream",
     "text": [
      "\u001b[34m\u001b[1mwandb\u001b[0m: Agent Starting Run: pvwz7u5r with config:\n",
      "\u001b[34m\u001b[1mwandb\u001b[0m: \tchunk_overlap: 50\n",
      "\u001b[34m\u001b[1mwandb\u001b[0m: \tchunk_size: 100\n",
      "\u001b[34m\u001b[1mwandb\u001b[0m: \ttemperature: 0.618169558940655\n",
      "\u001b[34m\u001b[1mwandb\u001b[0m: \ttop_k: 7\n"
     ]
    },
    {
     "data": {
      "text/html": [
       "Tracking run with wandb version 0.19.1"
      ],
      "text/plain": [
       "<IPython.core.display.HTML object>"
      ]
     },
     "metadata": {},
     "output_type": "display_data"
    },
    {
     "data": {
      "text/html": [
       "Run data is saved locally in <code>c:\\Users\\Nilsu.Sahin\\Desktop\\ns_trial\\RAG_Model\\wandb\\run-20241217_200527-pvwz7u5r</code>"
      ],
      "text/plain": [
       "<IPython.core.display.HTML object>"
      ]
     },
     "metadata": {},
     "output_type": "display_data"
    },
    {
     "data": {
      "text/html": [
       "Syncing run <strong><a href='https://wandb.ai/nilsusahin-middle-east-technical-university/rag_basic_experiment/runs/pvwz7u5r' target=\"_blank\">vivid-sweep-61</a></strong> to <a href='https://wandb.ai/nilsusahin-middle-east-technical-university/rag_basic_experiment' target=\"_blank\">Weights & Biases</a> (<a href='https://wandb.me/developer-guide' target=\"_blank\">docs</a>)<br>Sweep page: <a href='https://wandb.ai/nilsusahin-middle-east-technical-university/rag_basic_experiment/sweeps/12zc357u' target=\"_blank\">https://wandb.ai/nilsusahin-middle-east-technical-university/rag_basic_experiment/sweeps/12zc357u</a>"
      ],
      "text/plain": [
       "<IPython.core.display.HTML object>"
      ]
     },
     "metadata": {},
     "output_type": "display_data"
    },
    {
     "data": {
      "text/html": [
       " View project at <a href='https://wandb.ai/nilsusahin-middle-east-technical-university/rag_basic_experiment' target=\"_blank\">https://wandb.ai/nilsusahin-middle-east-technical-university/rag_basic_experiment</a>"
      ],
      "text/plain": [
       "<IPython.core.display.HTML object>"
      ]
     },
     "metadata": {},
     "output_type": "display_data"
    },
    {
     "data": {
      "text/html": [
       " View sweep at <a href='https://wandb.ai/nilsusahin-middle-east-technical-university/rag_basic_experiment/sweeps/12zc357u' target=\"_blank\">https://wandb.ai/nilsusahin-middle-east-technical-university/rag_basic_experiment/sweeps/12zc357u</a>"
      ],
      "text/plain": [
       "<IPython.core.display.HTML object>"
      ]
     },
     "metadata": {},
     "output_type": "display_data"
    },
    {
     "data": {
      "text/html": [
       " View run at <a href='https://wandb.ai/nilsusahin-middle-east-technical-university/rag_basic_experiment/runs/pvwz7u5r' target=\"_blank\">https://wandb.ai/nilsusahin-middle-east-technical-university/rag_basic_experiment/runs/pvwz7u5r</a>"
      ],
      "text/plain": [
       "<IPython.core.display.HTML object>"
      ]
     },
     "metadata": {},
     "output_type": "display_data"
    },
    {
     "name": "stdout",
     "output_type": "stream",
     "text": [
      "The token has not been saved to the git credentials helper. Pass `add_to_git_credential=True` in this function directly or `--add-to-git-credential` if using via `huggingface-cli` if you want to set the git credential as well.\n",
      "Token is valid (permission: fineGrained).\n",
      "Your token has been saved to C:\\Users\\Nilsu.Sahin\\.cache\\huggingface\\token\n",
      "Login successful\n",
      "Mean Score: 1.0\n"
     ]
    },
    {
     "data": {
      "text/html": [],
      "text/plain": [
       "<IPython.core.display.HTML object>"
      ]
     },
     "metadata": {},
     "output_type": "display_data"
    },
    {
     "data": {
      "text/html": [
       "<br>    <style><br>        .wandb-row {<br>            display: flex;<br>            flex-direction: row;<br>            flex-wrap: wrap;<br>            justify-content: flex-start;<br>            width: 100%;<br>        }<br>        .wandb-col {<br>            display: flex;<br>            flex-direction: column;<br>            flex-basis: 100%;<br>            flex: 1;<br>            padding: 10px;<br>        }<br>    </style><br><div class=\"wandb-row\"><div class=\"wandb-col\"><h3>Run history:</h3><br/><table class=\"wandb\"><tr><td>chunk_overlap</td><td>▁</td></tr><tr><td>chunk_size</td><td>▁</td></tr><tr><td>mean_score</td><td>▁</td></tr><tr><td>temperature</td><td>▁</td></tr><tr><td>top_k</td><td>▁</td></tr></table><br/></div><div class=\"wandb-col\"><h3>Run summary:</h3><br/><table class=\"wandb\"><tr><td>chunk_overlap</td><td>50</td></tr><tr><td>chunk_size</td><td>100</td></tr><tr><td>mean_score</td><td>1</td></tr><tr><td>temperature</td><td>0.61817</td></tr><tr><td>top_k</td><td>7</td></tr></table><br/></div></div>"
      ],
      "text/plain": [
       "<IPython.core.display.HTML object>"
      ]
     },
     "metadata": {},
     "output_type": "display_data"
    },
    {
     "data": {
      "text/html": [
       " View run <strong style=\"color:#cdcd00\">vivid-sweep-61</strong> at: <a href='https://wandb.ai/nilsusahin-middle-east-technical-university/rag_basic_experiment/runs/pvwz7u5r' target=\"_blank\">https://wandb.ai/nilsusahin-middle-east-technical-university/rag_basic_experiment/runs/pvwz7u5r</a><br> View project at: <a href='https://wandb.ai/nilsusahin-middle-east-technical-university/rag_basic_experiment' target=\"_blank\">https://wandb.ai/nilsusahin-middle-east-technical-university/rag_basic_experiment</a><br>Synced 5 W&B file(s), 0 media file(s), 0 artifact file(s) and 0 other file(s)"
      ],
      "text/plain": [
       "<IPython.core.display.HTML object>"
      ]
     },
     "metadata": {},
     "output_type": "display_data"
    },
    {
     "data": {
      "text/html": [
       "Find logs at: <code>.\\wandb\\run-20241217_200527-pvwz7u5r\\logs</code>"
      ],
      "text/plain": [
       "<IPython.core.display.HTML object>"
      ]
     },
     "metadata": {},
     "output_type": "display_data"
    },
    {
     "name": "stderr",
     "output_type": "stream",
     "text": [
      "\u001b[34m\u001b[1mwandb\u001b[0m: Agent Starting Run: jefu1vba with config:\n",
      "\u001b[34m\u001b[1mwandb\u001b[0m: \tchunk_overlap: 50\n",
      "\u001b[34m\u001b[1mwandb\u001b[0m: \tchunk_size: 100\n",
      "\u001b[34m\u001b[1mwandb\u001b[0m: \ttemperature: 0.2727961481414478\n",
      "\u001b[34m\u001b[1mwandb\u001b[0m: \ttop_k: 1\n"
     ]
    },
    {
     "data": {
      "text/html": [
       "Tracking run with wandb version 0.19.1"
      ],
      "text/plain": [
       "<IPython.core.display.HTML object>"
      ]
     },
     "metadata": {},
     "output_type": "display_data"
    },
    {
     "data": {
      "text/html": [
       "Run data is saved locally in <code>c:\\Users\\Nilsu.Sahin\\Desktop\\ns_trial\\RAG_Model\\wandb\\run-20241217_200548-jefu1vba</code>"
      ],
      "text/plain": [
       "<IPython.core.display.HTML object>"
      ]
     },
     "metadata": {},
     "output_type": "display_data"
    },
    {
     "data": {
      "text/html": [
       "Syncing run <strong><a href='https://wandb.ai/nilsusahin-middle-east-technical-university/rag_basic_experiment/runs/jefu1vba' target=\"_blank\">autumn-sweep-62</a></strong> to <a href='https://wandb.ai/nilsusahin-middle-east-technical-university/rag_basic_experiment' target=\"_blank\">Weights & Biases</a> (<a href='https://wandb.me/developer-guide' target=\"_blank\">docs</a>)<br>Sweep page: <a href='https://wandb.ai/nilsusahin-middle-east-technical-university/rag_basic_experiment/sweeps/12zc357u' target=\"_blank\">https://wandb.ai/nilsusahin-middle-east-technical-university/rag_basic_experiment/sweeps/12zc357u</a>"
      ],
      "text/plain": [
       "<IPython.core.display.HTML object>"
      ]
     },
     "metadata": {},
     "output_type": "display_data"
    },
    {
     "data": {
      "text/html": [
       " View project at <a href='https://wandb.ai/nilsusahin-middle-east-technical-university/rag_basic_experiment' target=\"_blank\">https://wandb.ai/nilsusahin-middle-east-technical-university/rag_basic_experiment</a>"
      ],
      "text/plain": [
       "<IPython.core.display.HTML object>"
      ]
     },
     "metadata": {},
     "output_type": "display_data"
    },
    {
     "data": {
      "text/html": [
       " View sweep at <a href='https://wandb.ai/nilsusahin-middle-east-technical-university/rag_basic_experiment/sweeps/12zc357u' target=\"_blank\">https://wandb.ai/nilsusahin-middle-east-technical-university/rag_basic_experiment/sweeps/12zc357u</a>"
      ],
      "text/plain": [
       "<IPython.core.display.HTML object>"
      ]
     },
     "metadata": {},
     "output_type": "display_data"
    },
    {
     "data": {
      "text/html": [
       " View run at <a href='https://wandb.ai/nilsusahin-middle-east-technical-university/rag_basic_experiment/runs/jefu1vba' target=\"_blank\">https://wandb.ai/nilsusahin-middle-east-technical-university/rag_basic_experiment/runs/jefu1vba</a>"
      ],
      "text/plain": [
       "<IPython.core.display.HTML object>"
      ]
     },
     "metadata": {},
     "output_type": "display_data"
    },
    {
     "name": "stdout",
     "output_type": "stream",
     "text": [
      "The token has not been saved to the git credentials helper. Pass `add_to_git_credential=True` in this function directly or `--add-to-git-credential` if using via `huggingface-cli` if you want to set the git credential as well.\n",
      "Token is valid (permission: fineGrained).\n",
      "Your token has been saved to C:\\Users\\Nilsu.Sahin\\.cache\\huggingface\\token\n",
      "Login successful\n",
      "Mean Score: 1.0\n"
     ]
    },
    {
     "data": {
      "text/html": [],
      "text/plain": [
       "<IPython.core.display.HTML object>"
      ]
     },
     "metadata": {},
     "output_type": "display_data"
    },
    {
     "data": {
      "text/html": [
       "<br>    <style><br>        .wandb-row {<br>            display: flex;<br>            flex-direction: row;<br>            flex-wrap: wrap;<br>            justify-content: flex-start;<br>            width: 100%;<br>        }<br>        .wandb-col {<br>            display: flex;<br>            flex-direction: column;<br>            flex-basis: 100%;<br>            flex: 1;<br>            padding: 10px;<br>        }<br>    </style><br><div class=\"wandb-row\"><div class=\"wandb-col\"><h3>Run history:</h3><br/><table class=\"wandb\"><tr><td>chunk_overlap</td><td>▁</td></tr><tr><td>chunk_size</td><td>▁</td></tr><tr><td>mean_score</td><td>▁</td></tr><tr><td>temperature</td><td>▁</td></tr><tr><td>top_k</td><td>▁</td></tr></table><br/></div><div class=\"wandb-col\"><h3>Run summary:</h3><br/><table class=\"wandb\"><tr><td>chunk_overlap</td><td>50</td></tr><tr><td>chunk_size</td><td>100</td></tr><tr><td>mean_score</td><td>1</td></tr><tr><td>temperature</td><td>0.2728</td></tr><tr><td>top_k</td><td>1</td></tr></table><br/></div></div>"
      ],
      "text/plain": [
       "<IPython.core.display.HTML object>"
      ]
     },
     "metadata": {},
     "output_type": "display_data"
    },
    {
     "data": {
      "text/html": [
       " View run <strong style=\"color:#cdcd00\">autumn-sweep-62</strong> at: <a href='https://wandb.ai/nilsusahin-middle-east-technical-university/rag_basic_experiment/runs/jefu1vba' target=\"_blank\">https://wandb.ai/nilsusahin-middle-east-technical-university/rag_basic_experiment/runs/jefu1vba</a><br> View project at: <a href='https://wandb.ai/nilsusahin-middle-east-technical-university/rag_basic_experiment' target=\"_blank\">https://wandb.ai/nilsusahin-middle-east-technical-university/rag_basic_experiment</a><br>Synced 5 W&B file(s), 0 media file(s), 0 artifact file(s) and 0 other file(s)"
      ],
      "text/plain": [
       "<IPython.core.display.HTML object>"
      ]
     },
     "metadata": {},
     "output_type": "display_data"
    },
    {
     "data": {
      "text/html": [
       "Find logs at: <code>.\\wandb\\run-20241217_200548-jefu1vba\\logs</code>"
      ],
      "text/plain": [
       "<IPython.core.display.HTML object>"
      ]
     },
     "metadata": {},
     "output_type": "display_data"
    },
    {
     "name": "stderr",
     "output_type": "stream",
     "text": [
      "\u001b[34m\u001b[1mwandb\u001b[0m: Ctrl + C detected. Stopping sweep.\n"
     ]
    }
   ],
   "source": [
    "import wandb\n",
    "from rag_model import MeETUAssistant\n",
    "import random\n",
    "from pathlib import Path\n",
    "\n",
    "# Dummy Question-Answer-Context Pairs\n",
    "dummy_data = [\n",
    "    {\"question\": \"What is the capital of Turkey?\", \n",
    "     \"context\": \"Ankara is the capital of Turkey. It is the second-largest city in Turkey after Istanbul.\", \n",
    "     \"answer\": \"Ankara\"},\n",
    "    {\"question\": \"Where is the Eiffel Tower located?\", \n",
    "     \"context\": \"The Eiffel Tower is located in Paris, France. It is one of the most famous landmarks in the world.\", \n",
    "     \"answer\": \"Paris\"},\n",
    "    {\"question\": \"Who discovered gravity?\", \n",
    "     \"context\": \"Sir Isaac Newton discovered gravity after observing an apple fall from a tree.\", \n",
    "     \"answer\": \"Isaac Newton\"},\n",
    "    {\"question\": \"What is the tallest mountain in the world?\", \n",
    "     \"context\": \"Mount Everest is the tallest mountain in the world, located in the Himalayas.\", \n",
    "     \"answer\": \"Mount Everest\"}\n",
    "]\n",
    "\n",
    "# Define WandB Sweep Config\n",
    "sweep_config = {\n",
    "    \"method\": \"random\",\n",
    "    \"metric\": {\"name\": \"mean_score\", \"goal\": \"maximize\"},\n",
    "    \"parameters\": {\n",
    "        \"top_k\": {\"min\": 1, \"max\": 10},\n",
    "        \"chunk_size\": {\"values\": [100, 200]},\n",
    "        \"chunk_overlap\": {\"values\": [0, 50]},\n",
    "        \"temperature\": {\"min\": 0.1, \"max\": 1.0}\n",
    "    }\n",
    "}\n",
    "\n",
    "# Initialize Sweep\n",
    "sweep_id = wandb.sweep(sweep_config, project=\"rag_basic_experiment\")\n",
    "\n",
    "def evaluate_model():\n",
    "    \"\"\"Simulated experiment to evaluate the RAG model.\"\"\"\n",
    "    # Initialize WandB run\n",
    "    wandb.init()\n",
    "    config = wandb.config\n",
    "\n",
    "    # Initialize the RAG model with hyperparameters\n",
    "    assistant = MeETUAssistant(\n",
    "        isstreamlitapp=False,\n",
    "        embedding_model_name=\"all-MiniLM-L6-v2\",\n",
    "        vectorstore_dir=str(Path(\"vectordatabase\") / \"faiss_index_all-MiniLM-L6-v2\"),\n",
    "        llm_repo_id=\"mistralai/Mistral-7B-Instruct-v0.3\",\n",
    "        llm_api_token=\"HIDDEN\",\n",
    "        max_new_tokens=3500,\n",
    "        search_type=\"mmr\",\n",
    "        top_k=config.top_k,\n",
    "        temperature=config.temperature\n",
    "    )\n",
    "\n",
    "    # Evaluate on dummy data\n",
    "    scores = []\n",
    "    for sample in dummy_data:\n",
    "        question = sample[\"question\"]\n",
    "        context = sample[\"context\"]\n",
    "        true_answer = sample[\"answer\"]\n",
    "\n",
    "        # Simulate generation\n",
    "        response = assistant.generate_response(question)\n",
    "        \n",
    "        # Simulated scoring: if answer is in response, score = 1\n",
    "        score = 1 if true_answer.lower() in response.lower() else 0\n",
    "        scores.append(score)\n",
    "\n",
    "    # Log results\n",
    "    mean_score = sum(scores) / len(scores)\n",
    "    wandb.log({\n",
    "        \"mean_score\": mean_score,\n",
    "        \"top_k\": config.top_k,\n",
    "        \"chunk_size\": config.chunk_size,\n",
    "        \"chunk_overlap\": config.chunk_overlap,\n",
    "        \"temperature\": config.temperature\n",
    "    })\n",
    "\n",
    "    print(f\"Mean Score: {mean_score}\")\n",
    "\n",
    "# Launch WandB Agent\n",
    "wandb.agent(sweep_id, function=evaluate_model)"
   ]
  }
 ],
 "metadata": {
  "kernelspec": {
   "display_name": "venv",
   "language": "python",
   "name": "python3"
  },
  "language_info": {
   "codemirror_mode": {
    "name": "ipython",
    "version": 3
   },
   "file_extension": ".py",
   "mimetype": "text/x-python",
   "name": "python",
   "nbconvert_exporter": "python",
   "pygments_lexer": "ipython3",
   "version": "3.11.9"
  }
 },
 "nbformat": 4,
 "nbformat_minor": 2
}
