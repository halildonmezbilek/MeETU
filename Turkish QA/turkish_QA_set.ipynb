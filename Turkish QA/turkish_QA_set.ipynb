{
  "cells": [
    {
      "cell_type": "code",
      "execution_count": null,
      "metadata": {
        "colab": {
          "base_uri": "https://localhost:8080/"
        },
        "id": "4oQhBGk2Ff6n",
        "outputId": "71a2a4df-993e-43f9-e39c-942d3c2c3f79"
      },
      "outputs": [
        {
          "name": "stdout",
          "output_type": "stream",
          "text": [
            "                                            user_input  \\\n",
            "0    How has the Turkish Standards Institution cont...   \n",
            "1    How does the Rectorate influence the dormitory...   \n",
            "2            What are the operting hurs for transport?   \n",
            "3      What hours buses run from city center to dorms?   \n",
            "4    Can students from outside Ankara apply for dorms?   \n",
            "..                                                 ...   \n",
            "131           Wht is the aim of the FINE ARTS SOCIETY?   \n",
            "132  Wht are the main goals of the CONSTRUCTION CLU...   \n",
            "133  As a Student Organization Coordinator, I am ke...   \n",
            "134  Can you tell me more about the clubs in the De...   \n",
            "135  Can you tell me more about the student clubs r...   \n",
            "\n",
            "                                    reference_contexts  \\\n",
            "0    [General Information: There are 19 dormitory b...   \n",
            "1    [General Information: There are 19 dormitory b...   \n",
            "2    [Transportation: There are buses and minibuses...   \n",
            "3    [Transportation: There are buses and minibuses...   \n",
            "4    [Application for Dormitories: Students whose f...   \n",
            "..                                                 ...   \n",
            "131  [Student Club Name: FOREIGN POLICY AND INTERNA...   \n",
            "132  [Student Club Name: FOREIGN POLICY AND INTERNA...   \n",
            "133  [Student Club Name: FOOD SOCIETY\\nStudent Club...   \n",
            "134  [Student Club Name: TERRESTRIAL ENGINEERINGS S...   \n",
            "135  [Student Club Name: TERRESTRIAL ENGINEERINGS S...   \n",
            "\n",
            "                                             reference  \n",
            "0    The Office of Dormitories obtained the TSE-EN ...  \n",
            "1    Every year, the Executive Board of Dormitories...  \n",
            "2    There are buses and minibuses operating betwee...  \n",
            "3    There are buses and minibuses operating betwee...  \n",
            "4    Students whose family resides outside of Ankar...  \n",
            "..                                                 ...  \n",
            "131  The FINE ARTS SOCIETY (FAS) aims to help the s...  \n",
            "132  The CONSTRUCTION CLUB aims to share experience...  \n",
            "133  The FOOD SOCIETY aims to organize activities f...  \n",
            "134  In the Department of Mining Engineering, there...  \n",
            "135  Sure! There are two notable student clubs asso...  \n",
            "\n",
            "[134 rows x 3 columns]\n"
          ]
        }
      ],
      "source": [
        "import pandas as pd\n",
        "\n",
        "df = pd.read_pickle('controlled_test_data.pkl')\n",
        "\n",
        "print(df)"
      ]
    },
    {
      "cell_type": "code",
      "execution_count": null,
      "metadata": {
        "colab": {
          "base_uri": "https://localhost:8080/",
          "height": 17
        },
        "id": "e_GRQzDCF2BK",
        "outputId": "a8684212-fb88-41d2-8ee3-57fee90f72b0"
      },
      "outputs": [
        {
          "data": {
            "application/javascript": "\n    async function download(id, filename, size) {\n      if (!google.colab.kernel.accessAllowed) {\n        return;\n      }\n      const div = document.createElement('div');\n      const label = document.createElement('label');\n      label.textContent = `Downloading \"${filename}\": `;\n      div.appendChild(label);\n      const progress = document.createElement('progress');\n      progress.max = size;\n      div.appendChild(progress);\n      document.body.appendChild(div);\n\n      const buffers = [];\n      let downloaded = 0;\n\n      const channel = await google.colab.kernel.comms.open(id);\n      // Send a message to notify the kernel that we're ready.\n      channel.send({})\n\n      for await (const message of channel.messages) {\n        // Send a message to notify the kernel that we're ready.\n        channel.send({})\n        if (message.buffers) {\n          for (const buffer of message.buffers) {\n            buffers.push(buffer);\n            downloaded += buffer.byteLength;\n            progress.value = downloaded;\n          }\n        }\n      }\n      const blob = new Blob(buffers, {type: 'application/binary'});\n      const a = document.createElement('a');\n      a.href = window.URL.createObjectURL(blob);\n      a.download = filename;\n      div.appendChild(a);\n      a.click();\n      div.remove();\n    }\n  ",
            "text/plain": [
              "<IPython.core.display.Javascript object>"
            ]
          },
          "metadata": {},
          "output_type": "display_data"
        },
        {
          "data": {
            "application/javascript": "download(\"download_599c72ce-cf83-4bed-ad20-5823248f7645\", \"output2.csv\", 280112)",
            "text/plain": [
              "<IPython.core.display.Javascript object>"
            ]
          },
          "metadata": {},
          "output_type": "display_data"
        }
      ],
      "source": [
        "# Export to CSV\n",
        "df.to_csv('output2.csv', index=False)"
      ]
    },
    {
      "cell_type": "code",
      "execution_count": null,
      "metadata": {
        "colab": {
          "base_uri": "https://localhost:8080/",
          "height": 565
        },
        "id": "JZtN3SiUIVRD",
        "outputId": "de26f7f9-7562-4eb6-bbfa-94d95f96d3a7"
      },
      "outputs": [
        {
          "name": "stdout",
          "output_type": "stream",
          "text": [
            "Collecting openai==0.27.8\n",
            "  Downloading openai-0.27.8-py3-none-any.whl.metadata (13 kB)\n",
            "Requirement already satisfied: requests>=2.20 in /usr/local/lib/python3.10/dist-packages (from openai==0.27.8) (2.32.3)\n",
            "Requirement already satisfied: tqdm in /usr/local/lib/python3.10/dist-packages (from openai==0.27.8) (4.66.6)\n",
            "Requirement already satisfied: aiohttp in /usr/local/lib/python3.10/dist-packages (from openai==0.27.8) (3.11.9)\n",
            "Requirement already satisfied: charset-normalizer<4,>=2 in /usr/local/lib/python3.10/dist-packages (from requests>=2.20->openai==0.27.8) (3.4.0)\n",
            "Requirement already satisfied: idna<4,>=2.5 in /usr/local/lib/python3.10/dist-packages (from requests>=2.20->openai==0.27.8) (3.10)\n",
            "Requirement already satisfied: urllib3<3,>=1.21.1 in /usr/local/lib/python3.10/dist-packages (from requests>=2.20->openai==0.27.8) (2.2.3)\n",
            "Requirement already satisfied: certifi>=2017.4.17 in /usr/local/lib/python3.10/dist-packages (from requests>=2.20->openai==0.27.8) (2024.8.30)\n",
            "Requirement already satisfied: aiohappyeyeballs>=2.3.0 in /usr/local/lib/python3.10/dist-packages (from aiohttp->openai==0.27.8) (2.4.4)\n",
            "Requirement already satisfied: aiosignal>=1.1.2 in /usr/local/lib/python3.10/dist-packages (from aiohttp->openai==0.27.8) (1.3.1)\n",
            "Requirement already satisfied: async-timeout<6.0,>=4.0 in /usr/local/lib/python3.10/dist-packages (from aiohttp->openai==0.27.8) (4.0.3)\n",
            "Requirement already satisfied: attrs>=17.3.0 in /usr/local/lib/python3.10/dist-packages (from aiohttp->openai==0.27.8) (24.2.0)\n",
            "Requirement already satisfied: frozenlist>=1.1.1 in /usr/local/lib/python3.10/dist-packages (from aiohttp->openai==0.27.8) (1.5.0)\n",
            "Requirement already satisfied: multidict<7.0,>=4.5 in /usr/local/lib/python3.10/dist-packages (from aiohttp->openai==0.27.8) (6.1.0)\n",
            "Requirement already satisfied: propcache>=0.2.0 in /usr/local/lib/python3.10/dist-packages (from aiohttp->openai==0.27.8) (0.2.1)\n",
            "Requirement already satisfied: yarl<2.0,>=1.17.0 in /usr/local/lib/python3.10/dist-packages (from aiohttp->openai==0.27.8) (1.18.3)\n",
            "Requirement already satisfied: typing-extensions>=4.1.0 in /usr/local/lib/python3.10/dist-packages (from multidict<7.0,>=4.5->aiohttp->openai==0.27.8) (4.12.2)\n",
            "Downloading openai-0.27.8-py3-none-any.whl (73 kB)\n",
            "\u001b[2K   \u001b[90m━━━━━━━━━━━━━━━━━━━━━━━━━━━━━━━━━━━━━━━━\u001b[0m \u001b[32m73.6/73.6 kB\u001b[0m \u001b[31m2.5 MB/s\u001b[0m eta \u001b[36m0:00:00\u001b[0m\n",
            "\u001b[?25hInstalling collected packages: openai\n",
            "  Attempting uninstall: openai\n",
            "    Found existing installation: openai 1.54.5\n",
            "    Uninstalling openai-1.54.5:\n",
            "      Successfully uninstalled openai-1.54.5\n",
            "Successfully installed openai-0.27.8\n"
          ]
        },
        {
          "data": {
            "application/vnd.colab-display-data+json": {
              "id": "5054c5727a7d414f93d44a77bc4e23b4",
              "pip_warning": {
                "packages": [
                  "openai"
                ]
              }
            }
          },
          "metadata": {},
          "output_type": "display_data"
        }
      ],
      "source": [
        "!pip install openai==0.27.8\n"
      ]
    },
    {
      "cell_type": "code",
      "execution_count": null,
      "metadata": {
        "id": "XlOrR7SjHFHT"
      },
      "outputs": [],
      "source": [
        "import openai\n",
        "\n",
        "openai.api_key = \"HIDDEN\"\n"
      ]
    },
    {
      "cell_type": "code",
      "execution_count": null,
      "metadata": {
        "colab": {
          "base_uri": "https://localhost:8080/"
        },
        "id": "uLlVIF_4kk5M",
        "outputId": "cfd8e5e3-5943-49fd-9b10-6e111a225a03"
      },
      "outputs": [
        {
          "name": "stdout",
          "output_type": "stream",
          "text": [
            "                                            user_input  \\\n",
            "0    The Turkish Standards Institute (TSE) has set ...   \n",
            "1    The text you provided is already in Turkish, s...   \n",
            "2             Taşımacılık için çalışma saatleri nedir?   \n",
            "3    Otobüsler şehir merkezinden yurtlara genellikl...   \n",
            "4    Evet, Ankara dışındaki öğrenciler yurtlara baş...   \n",
            "..                                                 ...   \n",
            "131  FINE ARTS SOCIETY'nin amacı, sanatın farklı da...   \n",
            "132  İnşaat Kulübü'nün ana hedefleri şunlardır:\\n\\n...   \n",
            "133  Yalnızca bir öğrenci örgütü koordinatörü olara...   \n",
            "134  Elbette! Madencilik Mühendisliği ve Endüstri M...   \n",
            "135  Madencilik Mühendisliği ve Endüstri Mühendisli...   \n",
            "\n",
            "                                    reference_contexts  \\\n",
            "0    [General Information: There are 19 dormitory b...   \n",
            "1    [General Information: There are 19 dormitory b...   \n",
            "2    [Transportation: There are buses and minibuses...   \n",
            "3    [Transportation: There are buses and minibuses...   \n",
            "4    [Application for Dormitories: Students whose f...   \n",
            "..                                                 ...   \n",
            "131  [Student Club Name: FOREIGN POLICY AND INTERNA...   \n",
            "132  [Student Club Name: FOREIGN POLICY AND INTERNA...   \n",
            "133  [Student Club Name: FOOD SOCIETY\\nStudent Club...   \n",
            "134  [Student Club Name: TERRESTRIAL ENGINEERINGS S...   \n",
            "135  [Student Club Name: TERRESTRIAL ENGINEERINGS S...   \n",
            "\n",
            "                                             reference  \n",
            "0    The text you provided is already in Turkish. I...  \n",
            "1    Her yıl, Yurtlar İdare Komitesi, yurtların mev...  \n",
            "2    You can find bus and minibus services between ...  \n",
            "3    The central city and the dormitories have bus ...  \n",
            "4    Students residing outside of Ankara can apply ...  \n",
            "..                                                 ...  \n",
            "131  GÜZEL SANATLAR DERNEĞİ (FAS), üyelerinin ve ku...  \n",
            "132  İNŞAAT KULÜBÜ, inşaat sektöründeki farklı mesl...  \n",
            "133  GIDA TOPLULUĞU, ODTÜ'de gıda endüstrisiyle ilg...  \n",
            "134  Maden Mühendisliği Bölümü'nde, kara mühendisli...  \n",
            "135  Sure! There are two important student clubs as...  \n",
            "\n",
            "[134 rows x 3 columns]\n"
          ]
        }
      ],
      "source": [
        "import pandas as pd\n",
        "\n",
        "columns_to_translate = ['user_input', 'reference']  # Translation do not applied to the reference_context column since not needed \n",
        "\n",
        "# Define the translation function to Turkish\n",
        "def translate_text_to_turkish(text):\n",
        "    try:\n",
        "        response = openai.ChatCompletion.create(\n",
        "            model=\"gpt-4o-mini\", \n",
        "            messages=[\n",
        "                {\"role\": \"system\", \"content\": \"You are a translator. Translate the following text to Turkish.\"},\n",
        "                {\"role\": \"user\", \"content\": text},\n",
        "            ]\n",
        "        )\n",
        "        return response['choices'][0]['message']['content']\n",
        "    except Exception as e:\n",
        "        print(f\"Error translating text: {e}\")\n",
        "        return text  # Return the original text if translation fails\n",
        "\n",
        "for column in columns_to_translate:\n",
        "    df[column] = df[column].apply(lambda x: translate_text_to_turkish(str(x)) if pd.notnull(x) else x)\n",
        "\n",
        "print(df)\n",
        "\n",
        "df.to_csv('translated_output_turkish.csv', index=False)\n",
        "\n",
        "\"\"\"This prompt has given very poor results\"\"\""
      ]
    },
    {
      "cell_type": "code",
      "execution_count": null,
      "metadata": {
        "colab": {
          "background_save": true
        },
        "id": "DsPXNf2jqRtF",
        "outputId": "7b35bff3-e8e7-442c-e81e-55e92ed50e78"
      },
      "outputs": [
        {
          "name": "stdout",
          "output_type": "stream",
          "text": [
            "                                            user_input  \\\n",
            "0    Türk Standartları Enstitüsü (TSE), yurt hizmet...   \n",
            "1    Elbette! Size başka bir dilde çeviri yapmamı y...   \n",
            "2    Taşımacılık için çalışma saatleri, ülkeye, sek...   \n",
            "3    Buses generally operate from the city center t...   \n",
            "4    Yes, students from outside Ankara can apply fo...   \n",
            "..                                                 ...   \n",
            "131  FINE ARTS SOCIETY'nin amacı, sanatın farklı di...   \n",
            "132  The main objectives of the Construction Club a...   \n",
            "133  Yalnızca bir öğrenci örgütü koordinatörü olara...   \n",
            "134  Of course! Clubs in the Mining Engineering and...   \n",
            "135  Madencilik Mühendisliği ve Endüstri Mühendisli...   \n",
            "\n",
            "                                    reference_contexts  \\\n",
            "0    [General Information: There are 19 dormitory b...   \n",
            "1    [General Information: There are 19 dormitory b...   \n",
            "2    [Transportation: There are buses and minibuses...   \n",
            "3    [Transportation: There are buses and minibuses...   \n",
            "4    [Application for Dormitories: Students whose f...   \n",
            "..                                                 ...   \n",
            "131  [Student Club Name: FOREIGN POLICY AND INTERNA...   \n",
            "132  [Student Club Name: FOREIGN POLICY AND INTERNA...   \n",
            "133  [Student Club Name: FOOD SOCIETY\\nStudent Club...   \n",
            "134  [Student Club Name: TERRESTRIAL ENGINEERINGS S...   \n",
            "135  [Student Club Name: TERRESTRIAL ENGINEERINGS S...   \n",
            "\n",
            "                                             reference  \n",
            "0    Verdiğiniz metin zaten Türkçe. Eğer onu başka ...  \n",
            "1    Every year, the Dormitory Administration Commi...  \n",
            "2    Şehir merkezi ile yurtlar arasında 07:00'den 2...  \n",
            "3    Merkez şehir ile yurtlar arasında 07:00 ile 24...  \n",
            "4    Ankara dışında ikamet eden öğrenciler yurt baş...  \n",
            "..                                                 ...  \n",
            "131  GÜZEL SANATLAR DERNEĞİ (FAS), üyelerinin ve ku...  \n",
            "132  İNŞAAT KULÜBÜ, inşaat sektöründeki farklı mesl...  \n",
            "133  GIDA TOPLULUĞU, ODTÜ'de gıda endüstrisiyle ilg...  \n",
            "134  Maden Mühendisliği Bölümü'nde, kara mühendisli...  \n",
            "135  Tabii ki! Maden Mühendisliği ve Endüstri Mühen...  \n",
            "\n",
            "[134 rows x 3 columns]\n"
          ]
        }
      ],
      "source": [
        "import pandas as pd\n",
        "\n",
        "columns_to_translate = ['user_input', 'reference']  # Replace with your column names\n",
        "target_language=\"Turkish\"\n",
        "def translate_text_to_turkish(text):\n",
        "    try:\n",
        "        response = openai.ChatCompletion.create(\n",
        "            model=\"gpt-4o-mini\",  # Use the model you're authorized for\n",
        "           messages = [\n",
        "    {\"role\": \"system\", \"content\": f\"You are an expert translator specializing in translating text to {target_language}. Ensure the translation is accurate, contextually appropriate, and maintains the tone and nuances of the original text.\"},\n",
        "    {\"role\": \"user\", \"content\": text},\n",
        "]\n",
        "        )\n",
        "        return response['choices'][0]['message']['content']\n",
        "    except Exception as e:\n",
        "        print(f\"Error translating text: {e}\")\n",
        "        return text \n",
        "\n",
        "for column in columns_to_translate:\n",
        "    df[column] = df[column].apply(lambda x: translate_text_to_turkish(str(x)) if pd.notnull(x) else x)\n",
        "\n",
        "\n",
        "print(df)\n",
        "\n",
        "# Optional: Save the translated DataFrame to a file\n",
        "df.to_csv('translated_output_turkish.csv', index=False)\n",
        "\"\"\"Still very poor reults\"\"\""
      ]
    },
    {
      "cell_type": "code",
      "execution_count": null,
      "metadata": {
        "colab": {
          "base_uri": "https://localhost:8080/"
        },
        "id": "4eOvIahkofQu",
        "outputId": "20079e05-9006-40cd-9849-b67a8f392608"
      },
      "outputs": [
        {
          "name": "stdout",
          "output_type": "stream",
          "text": [
            "                                            user_input  \\\n",
            "0    Türk Standardları Enstitüsü, yurt hizmetlerini...   \n",
            "1    Rektörlük, ODTÜ'deki yurt başvuru sürecini nas...   \n",
            "2          Taşımacılık için çalışma saatleri nelerdir?   \n",
            "3    Otobüsler şehir merkezinden yurtlara hangi saa...   \n",
            "4    Ankara dışındaki öğrenciler yurtlara başvurabi...   \n",
            "..                                                 ...   \n",
            "131            GÜZEL SANATLAR DERNEĞİ'nin amacı nedir?   \n",
            "132  İNŞAAT KULÜBÜ'nün ana hedefleri nelerdir ve ne...   \n",
            "133  Bir Öğrenci Organizasyonu Koordinatörü olarak,...   \n",
            "134  Madencilik Mühendisliği Bölümü ve Endüstri Müh...   \n",
            "135  Madencilik Mühendisliği Bölümü ve Endüstri Müh...   \n",
            "\n",
            "                                    reference_contexts  \\\n",
            "0    [General Information: There are 19 dormitory b...   \n",
            "1    [General Information: There are 19 dormitory b...   \n",
            "2    [Transportation: There are buses and minibuses...   \n",
            "3    [Transportation: There are buses and minibuses...   \n",
            "4    [Application for Dormitories: Students whose f...   \n",
            "..                                                 ...   \n",
            "131  [Student Club Name: FOREIGN POLICY AND INTERNA...   \n",
            "132  [Student Club Name: FOREIGN POLICY AND INTERNA...   \n",
            "133  [Student Club Name: FOOD SOCIETY\\nStudent Club...   \n",
            "134  [Student Club Name: TERRESTRIAL ENGINEERINGS S...   \n",
            "135  [Student Club Name: TERRESTRIAL ENGINEERINGS S...   \n",
            "\n",
            "                                             reference  \n",
            "0    Yurtlar Ofisi, 2005 yılında Türk Standartları ...  \n",
            "1    Her yıl, Yurtlar İdare Kurulu, yurt başvurular...  \n",
            "2    Şehir merkezi ile yurtlar arasında 07.00 ile 2...  \n",
            "3    Şehir merkezi ile yurtlar arasında 07.00 ile 2...  \n",
            "4    Ankara dışında ailesi yaşayan öğrenciler yurtl...  \n",
            "..                                                 ...  \n",
            "131  GÜZEL SANATLAR DERNEĞİ (FAS), üyelerinin ve ku...  \n",
            "132  İNŞAAT KULÜBÜ, inşaat sektöründeki farklı mesl...  \n",
            "133  GIDA TOPLULUĞU, ODTÜ'de gıda endüstrisine ilgi...  \n",
            "134  Maden Mühendisliği Bölümü'nde, kara mühendisli...  \n",
            "135  Tabii! Maden Mühendisliği ve Endüstri Mühendis...  \n",
            "\n",
            "[134 rows x 3 columns]\n"
          ]
        }
      ],
      "source": [
        "import pandas as pd\n",
        "\n",
        "columns_to_translate = ['user_input', 'reference'] \n",
        "target_language=\"Turkish\"\n",
        "# Define the translation function to Turkish\n",
        "def translate_text_to_turkish(text):\n",
        "    try:\n",
        "        response = openai.ChatCompletion.create(\n",
        "            model=\"gpt-4o-mini\",  # Use the model you're authorized for\n",
        "          messages=[\n",
        "                        {\"role\": \"system\", \"content\": \"\"\"Sen Türkçe diline son derece hakim profesyonel bir çevirmensin.\n",
        "                        Çevirilerinde Türkçe karakterleri (ç, ş, ı, ğ, ü, ö, İ) doğru kullanmaya özen göster.\n",
        "                        Çeviri yaparken metnin anlamını ve bağlamını korumaya dikkat et.\"\"\"},\n",
        "                        {\"role\": \"user\", \"content\": f\"\"\"Aşağıdaki metni Türkçeye çevir.\n",
        "                        Metni olduğu gibi çevir, ekstra açıklama ekleme.\n",
        "                        Verilen metin bir soru cevap şeklinde olacak.\n",
        "                        Soruları yanıtlamaya çalışma sadece aşağıda ne varsa olduğu gibi çevir.\n",
        "                        Başka hiçbir ekstra cümle kullanma.\n",
        "                        {text}\"\"\"}\n",
        "                    ],\n",
        "                    temperature=0.3\n",
        "                )\n",
        "\n",
        "        return response['choices'][0]['message']['content']\n",
        "    except Exception as e:\n",
        "        print(f\"Error translating text: {e}\")\n",
        "        return text \n",
        "\n",
        "\n",
        "for column in columns_to_translate:\n",
        "    df[column] = df[column].apply(lambda x: translate_text_to_turkish(str(x)) if pd.notnull(x) else x)\n",
        "\n",
        "print(df)\n",
        "\n",
        "df.to_csv('translated_output_turkish.csv', index=False)\n",
        "\"\"\"Prompt is transfrormed to Turkish & enriched. This prompt has given succesful results\"\"\""
      ]
    }
  ],
  "metadata": {
    "colab": {
      "provenance": []
    },
    "kernelspec": {
      "display_name": "Python 3",
      "name": "python3"
    },
    "language_info": {
      "name": "python"
    }
  },
  "nbformat": 4,
  "nbformat_minor": 0
}
