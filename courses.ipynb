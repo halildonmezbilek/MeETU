{
 "cells": [
  {
   "cell_type": "markdown",
   "metadata": {},
   "source": [
    "Import the libraries"
   ]
  },
  {
   "cell_type": "code",
   "execution_count": 91,
   "metadata": {},
   "outputs": [],
   "source": [
    "import requests\n",
    "from bs4 import BeautifulSoup\n",
    "import pandas as pd"
   ]
  },
  {
   "cell_type": "markdown",
   "metadata": {},
   "source": [
    "#### EXTRACT THE SUBCATEGORIES LINKS IN FAQ WEB PAGE"
   ]
  },
  {
   "cell_type": "code",
   "execution_count": 92,
   "metadata": {},
   "outputs": [],
   "source": [
    "# define the url \n",
    "url = pd.read_csv('C:\\\\Masaüstü\\\\DATA INFORMATICS courses\\\\DI502 - DI Project\\\\kod\\\\courses_link.txt', header = None)"
   ]
  },
  {
   "cell_type": "code",
   "execution_count": 93,
   "metadata": {},
   "outputs": [
    {
     "data": {
      "text/html": [
       "<div>\n",
       "<style scoped>\n",
       "    .dataframe tbody tr th:only-of-type {\n",
       "        vertical-align: middle;\n",
       "    }\n",
       "\n",
       "    .dataframe tbody tr th {\n",
       "        vertical-align: top;\n",
       "    }\n",
       "\n",
       "    .dataframe thead th {\n",
       "        text-align: right;\n",
       "    }\n",
       "</style>\n",
       "<table border=\"1\" class=\"dataframe\">\n",
       "  <thead>\n",
       "    <tr style=\"text-align: right;\">\n",
       "      <th></th>\n",
       "      <th>0</th>\n",
       "    </tr>\n",
       "  </thead>\n",
       "  <tbody>\n",
       "    <tr>\n",
       "      <th>0</th>\n",
       "      <td>https://catalog.metu.edu.tr/prog_courses.php?p...</td>\n",
       "    </tr>\n",
       "  </tbody>\n",
       "</table>\n",
       "</div>"
      ],
      "text/plain": [
       "                                                   0\n",
       "0  https://catalog.metu.edu.tr/prog_courses.php?p..."
      ]
     },
     "execution_count": 93,
     "metadata": {},
     "output_type": "execute_result"
    }
   ],
   "source": [
    "url.head(1)"
   ]
  },
  {
   "cell_type": "code",
   "execution_count": 94,
   "metadata": {},
   "outputs": [],
   "source": [
    "url_list=url[0].tolist()"
   ]
  },
  {
   "cell_type": "code",
   "execution_count": 97,
   "metadata": {},
   "outputs": [],
   "source": [
    "# define the request \n",
    "courses = []\n",
    "for i in url_list:\n",
    "    session_req = requests.session()\n",
    "    response  = session_req.get(i)\n",
    "\n",
    "    # parse the url context\n",
    "    soup = BeautifulSoup(response.text, \"html.parser\")\n",
    "    # and find the all extensions of the FAQ's links \n",
    "    network_section = soup.find(\"table\").find_all(\"a\")\n",
    "\n",
    "    # find the all courses links for each undergraduate department\n",
    "    subcategories_links = []\n",
    "    for k in network_section:\n",
    "        _temp_link = \"https://catalog.metu.edu.tr/\" + str(k.get(\"href\"))\n",
    "        _title = k.text\n",
    "        subcategories_links.append((_temp_link,_title))\n",
    "\n",
    "    # NOW GET THE COURSE INFORMATION FROM THE SUBCATEGORIES\n",
    "    for x in subcategories_links:\n",
    "        # define the request \n",
    "        session_req = requests.session()\n",
    "        response = session_req.get(x[0])\n",
    "\n",
    "        _temp_link = x[0]\n",
    "        _temp_title = x[1]\n",
    "        _temp_soup = BeautifulSoup(response.text,\"html.parser\")\n",
    "\n",
    "        #find course objectives link, because there is a render \n",
    "        _course_objectives_link =[]\n",
    "        for j in _temp_soup.find_all(\"iframe\"):\n",
    "            _course_objectives_link.append(j.get(\"src\"))\n",
    "\n",
    "        _temp_response = session_req.get(_course_objectives_link[0])\n",
    "        _temp_soup2 = BeautifulSoup(_temp_response.text, \"html.parser\")\n",
    "        _temp_course_objective = _temp_soup2.find(\"p\")\n",
    "        if _temp_course_objective:\n",
    "            _temp_courseobjective = _temp_course_objective.text\n",
    "        else: \n",
    "            _temp_courseobjective = \"No objective\"\n",
    "        courses.append({\"link\": _temp_link,\"course\": _temp_title, \"course_objective\": _temp_courseobjective})"
   ]
  },
  {
   "cell_type": "code",
   "execution_count": 101,
   "metadata": {},
   "outputs": [],
   "source": [
    "df = pd.DataFrame(courses)"
   ]
  },
  {
   "cell_type": "code",
   "execution_count": 103,
   "metadata": {},
   "outputs": [],
   "source": [
    "df.to_excel(r'C:\\Users\\merve\\Downloads\\courses_eng.xlsx', index=False)"
   ]
  }
 ],
 "metadata": {
  "kernelspec": {
   "display_name": "Python 3",
   "language": "python",
   "name": "python3"
  },
  "language_info": {
   "codemirror_mode": {
    "name": "ipython",
    "version": 3
   },
   "file_extension": ".py",
   "mimetype": "text/x-python",
   "name": "python",
   "nbconvert_exporter": "python",
   "pygments_lexer": "ipython3",
   "version": "3.10.0"
  }
 },
 "nbformat": 4,
 "nbformat_minor": 2
}
