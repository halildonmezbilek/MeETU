{
 "cells": [
  {
   "cell_type": "markdown",
   "metadata": {},
   "source": [
    "Import the libraries"
   ]
  },
  {
   "cell_type": "code",
   "execution_count": 2,
   "metadata": {},
   "outputs": [],
   "source": [
    "import requests\n",
    "from bs4 import BeautifulSoup\n",
    "import pandas as pd"
   ]
  },
  {
   "cell_type": "markdown",
   "metadata": {},
   "source": [
    "#### EXTRACT THE SUBCATEGORIES LINKS IN FAQ WEB PAGE"
   ]
  },
  {
   "cell_type": "code",
   "execution_count": 3,
   "metadata": {},
   "outputs": [],
   "source": [
    "# define the url \n",
    "url = \"https://spormd.metu.edu.tr/tr/spor-topluluklari\""
   ]
  },
  {
   "cell_type": "code",
   "execution_count": 4,
   "metadata": {},
   "outputs": [],
   "source": [
    "# define the request \n",
    "session_req = requests.session()\n",
    "response  = session_req.get(url)"
   ]
  },
  {
   "cell_type": "code",
   "execution_count": 5,
   "metadata": {},
   "outputs": [],
   "source": [
    "soup = BeautifulSoup(response.text, \"html.parser\")"
   ]
  },
  {
   "cell_type": "code",
   "execution_count": 9,
   "metadata": {},
   "outputs": [],
   "source": [
    "# Find all sections starting with the specific <div> element\n",
    "hr_divs = soup.find_all('div', align=\"center\")"
   ]
  },
  {
   "cell_type": "code",
   "execution_count": 25,
   "metadata": {},
   "outputs": [],
   "source": [
    "clubs_info = []\n",
    "\n",
    "for hr_div in hr_divs:\n",
    "    # Find the next <p> elements containing the club information\n",
    "    club_name_tag = hr_div.find_next('p')\n",
    "    description_heading_tag = club_name_tag.find_next('p')\n",
    "    description_tag_v1 = description_heading_tag.find_next('p')\n",
    "    description_tag_v2 = description_tag_v1.find_next('p')\n",
    "\n",
    "    # Extract texts\n",
    " \n",
    "    club_info = {\n",
    "            \"club_name\": club_name_tag.get_text(strip=True),\n",
    "            \"activity_description_heading\": description_tag_v1.get_text(strip=True),\n",
    "            \"activity_description\": description_tag_v2.get_text(strip=True)\n",
    "        }\n",
    "    clubs_info.append(club_info)\n"
   ]
  },
  {
   "cell_type": "code",
   "execution_count": 27,
   "metadata": {},
   "outputs": [],
   "source": [
    "df = pd.DataFrame(clubs_info)"
   ]
  },
  {
   "cell_type": "code",
   "execution_count": 30,
   "metadata": {},
   "outputs": [],
   "source": [
    "df.to_excel(r'C:\\Users\\merve\\Downloads\\sport_clubs_turk.xlsx', index=False)"
   ]
  }
 ],
 "metadata": {
  "kernelspec": {
   "display_name": "Python 3",
   "language": "python",
   "name": "python3"
  },
  "language_info": {
   "codemirror_mode": {
    "name": "ipython",
    "version": 3
   },
   "file_extension": ".py",
   "mimetype": "text/x-python",
   "name": "python",
   "nbconvert_exporter": "python",
   "pygments_lexer": "ipython3",
   "version": "3.10.0"
  }
 },
 "nbformat": 4,
 "nbformat_minor": 2
}
