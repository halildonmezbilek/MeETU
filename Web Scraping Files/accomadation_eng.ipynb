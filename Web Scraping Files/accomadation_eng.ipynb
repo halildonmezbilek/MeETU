{
 "cells": [
  {
   "cell_type": "markdown",
   "metadata": {},
   "source": [
    "Import the libraries"
   ]
  },
  {
   "cell_type": "code",
   "execution_count": 1,
   "metadata": {},
   "outputs": [],
   "source": [
    "import requests\n",
    "from bs4 import BeautifulSoup\n",
    "import pandas as pd"
   ]
  },
  {
   "cell_type": "markdown",
   "metadata": {},
   "source": [
    "#### EXTRACT THE SUBCATEGORIES"
   ]
  },
  {
   "cell_type": "code",
   "execution_count": 2,
   "metadata": {},
   "outputs": [],
   "source": [
    "# define the url \n",
    "url = \"https://www.metu.edu.tr/accommodation\""
   ]
  },
  {
   "cell_type": "code",
   "execution_count": 3,
   "metadata": {},
   "outputs": [],
   "source": [
    "# define the request \n",
    "session_req = requests.session()\n",
    "response  = session_req.get(url)"
   ]
  },
  {
   "cell_type": "code",
   "execution_count": 4,
   "metadata": {},
   "outputs": [],
   "source": [
    "# parse the url context\n",
    "soup = BeautifulSoup(response.text, \"html.parser\")"
   ]
  },
  {
   "cell_type": "code",
   "execution_count": 55,
   "metadata": {},
   "outputs": [],
   "source": [
    "# and find the all extensions of the FAQ's links \n",
    "accomadation_title = soup.find_all(\"td\",class_='tbleftbold')"
   ]
  },
  {
   "cell_type": "code",
   "execution_count": 56,
   "metadata": {},
   "outputs": [
    {
     "data": {
      "text/plain": [
       "[<td class=\"tbleftbold\" colspan=\"2\"><a id=\"1\" name=\"1\"></a>Dormitories</td>,\n",
       " <td class=\"tbleftbold\" colspan=\"2\">General Information</td>,\n",
       " <td class=\"tbleftbold\" colspan=\"2\"><a id=\"2\" name=\"2\"></a>Facilities in the Dormitories</td>,\n",
       " <td class=\"tbleftbold\" colspan=\"2\"><a id=\"3\" name=\"3\"></a>Transportation</td>,\n",
       " <td class=\"tbleftbold\" colspan=\"2\"><a id=\"4\" name=\"4\"></a>Application for Dormitories</td>,\n",
       " <td class=\"tbleftbold\" colspan=\"2\"><a id=\"5\" name=\"5\"></a>Evaluation of the Applications</td>,\n",
       " <td class=\"tbleftbold\" colspan=\"2\"><a id=\"6\" name=\"6\"></a>Registration for Dormitories</td>,\n",
       " <td class=\"tbleftbold\" colspan=\"2\"><a id=\"7\" name=\"7\"></a>The Right to Stay in the Dormitory</td>,\n",
       " <td class=\"tbleftbold\">Entry to the Dorm</td>,\n",
       " <td class=\"tbleftbold\">The Right To Stay</td>,\n",
       " <td class=\"tbleftbold\" colspan=\"2\"><a id=\"8\" name=\"8\"></a>The Status of The Students Who Did Not Register Within the Specified Dates</td>,\n",
       " <td class=\"tbleftbold\" colspan=\"2\"><a id=\"10\" name=\"10\"></a>The Regulations in the Dorms</td>,\n",
       " <td class=\"tbleftbold\" colspan=\"2\"><a id=\"a11\" name=\"11\"></a>Telephones</td>,\n",
       " <td class=\"tbleftbold\" colspan=\"2\">The Units Subordinate to Office of Social Facilities</td>,\n",
       " <td class=\"tbleftbold\" colspan=\"2\">Office of Social Facilities</td>]"
      ]
     },
     "execution_count": 56,
     "metadata": {},
     "output_type": "execute_result"
    }
   ],
   "source": [
    "accomadation_title"
   ]
  },
  {
   "cell_type": "code",
   "execution_count": 57,
   "metadata": {},
   "outputs": [
    {
     "data": {
      "text/plain": [
       "<td class=\"tbleftbold\" colspan=\"2\"><a id=\"a11\" name=\"11\"></a>Telephones</td>"
      ]
     },
     "execution_count": 57,
     "metadata": {},
     "output_type": "execute_result"
    }
   ],
   "source": [
    "accomadation_title.pop(0)\n",
    "accomadation_title.pop(7)\n",
    "accomadation_title.pop(7)\n",
    "accomadation_title.pop(len(accomadation_title)-1)\n",
    "accomadation_title.pop(-2)"
   ]
  },
  {
   "cell_type": "code",
   "execution_count": 58,
   "metadata": {},
   "outputs": [
    {
     "data": {
      "text/plain": [
       "[<td class=\"tbleftbold\" colspan=\"2\">General Information</td>,\n",
       " <td class=\"tbleftbold\" colspan=\"2\"><a id=\"2\" name=\"2\"></a>Facilities in the Dormitories</td>,\n",
       " <td class=\"tbleftbold\" colspan=\"2\"><a id=\"3\" name=\"3\"></a>Transportation</td>,\n",
       " <td class=\"tbleftbold\" colspan=\"2\"><a id=\"4\" name=\"4\"></a>Application for Dormitories</td>,\n",
       " <td class=\"tbleftbold\" colspan=\"2\"><a id=\"5\" name=\"5\"></a>Evaluation of the Applications</td>,\n",
       " <td class=\"tbleftbold\" colspan=\"2\"><a id=\"6\" name=\"6\"></a>Registration for Dormitories</td>,\n",
       " <td class=\"tbleftbold\" colspan=\"2\"><a id=\"7\" name=\"7\"></a>The Right to Stay in the Dormitory</td>,\n",
       " <td class=\"tbleftbold\" colspan=\"2\"><a id=\"8\" name=\"8\"></a>The Status of The Students Who Did Not Register Within the Specified Dates</td>,\n",
       " <td class=\"tbleftbold\" colspan=\"2\"><a id=\"10\" name=\"10\"></a>The Regulations in the Dorms</td>,\n",
       " <td class=\"tbleftbold\" colspan=\"2\">The Units Subordinate to Office of Social Facilities</td>]"
      ]
     },
     "execution_count": 58,
     "metadata": {},
     "output_type": "execute_result"
    }
   ],
   "source": [
    "accomadation_title"
   ]
  },
  {
   "cell_type": "code",
   "execution_count": 59,
   "metadata": {},
   "outputs": [],
   "source": [
    "accomadation_info = soup.find_all(\"blockquote\")\n",
    "# note that 6 and 7th index of the accomadation info belong to the 6th index \n",
    "# of the accomadation title"
   ]
  },
  {
   "cell_type": "code",
   "execution_count": 82,
   "metadata": {},
   "outputs": [],
   "source": [
    "# concatenate the title and info of the accomadation\n",
    "accomadation = [] \n",
    "for i in range(len(accomadation_title)):\n",
    "    if i<6: \n",
    "        accomadation.append((accomadation_title[i].text,accomadation_info[i].text))\n",
    "    elif i==6:\n",
    "        accomadation.append((accomadation_title[i].text,accomadation_info[i].text + accomadation_info[i+1].text))\n",
    "    else:\n",
    "        accomadation.append((accomadation_title[i].text, accomadation_info[i+1].text))\n",
    "    "
   ]
  },
  {
   "cell_type": "code",
   "execution_count": 84,
   "metadata": {},
   "outputs": [],
   "source": [
    "df = pd.DataFrame(accomadation)"
   ]
  },
  {
   "cell_type": "code",
   "execution_count": 86,
   "metadata": {},
   "outputs": [],
   "source": [
    "df.to_excel(r'C:\\\\Users\\\\merve\\\\Downloads\\\\accomadation_eng.xlsx', index=False)"
   ]
  }
 ],
 "metadata": {
  "kernelspec": {
   "display_name": "Python 3",
   "language": "python",
   "name": "python3"
  },
  "language_info": {
   "codemirror_mode": {
    "name": "ipython",
    "version": 3
   },
   "file_extension": ".py",
   "mimetype": "text/x-python",
   "name": "python",
   "nbconvert_exporter": "python",
   "pygments_lexer": "ipython3",
   "version": "3.10.0"
  }
 },
 "nbformat": 4,
 "nbformat_minor": 2
}
