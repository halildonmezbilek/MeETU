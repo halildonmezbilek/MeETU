{
 "cells": [
  {
   "cell_type": "markdown",
   "metadata": {},
   "source": [
    "Import the libraries"
   ]
  },
  {
   "cell_type": "code",
   "execution_count": 1,
   "metadata": {},
   "outputs": [],
   "source": [
    "import requests\n",
    "from bs4 import BeautifulSoup\n",
    "import pandas as pd"
   ]
  },
  {
   "cell_type": "markdown",
   "metadata": {},
   "source": [
    "#### EXTRACT THE SUBCATEGORIES LINKS IN FAQ WEB PAGE"
   ]
  },
  {
   "cell_type": "code",
   "execution_count": 3,
   "metadata": {},
   "outputs": [],
   "source": [
    "# define the url \n",
    "url = \"https://oidb.metu.edu.tr/en/how-will-you-register\""
   ]
  },
  {
   "cell_type": "code",
   "execution_count": 4,
   "metadata": {},
   "outputs": [],
   "source": [
    "# define the request \n",
    "session_req = requests.session()\n",
    "response  = session_req.get(url)"
   ]
  },
  {
   "cell_type": "code",
   "execution_count": 12,
   "metadata": {},
   "outputs": [],
   "source": [
    "soup = BeautifulSoup(response.text, \"html.parser\")"
   ]
  },
  {
   "cell_type": "code",
   "execution_count": 37,
   "metadata": {},
   "outputs": [],
   "source": [
    "network_section = soup.find(\"section\",class_='block block-ctools-block block-entity-fieldnodebody clearfix')"
   ]
  },
  {
   "cell_type": "code",
   "execution_count": 110,
   "metadata": {},
   "outputs": [],
   "source": [
    "# extract the links\n",
    "links = network_section.find_all('a')"
   ]
  },
  {
   "cell_type": "code",
   "execution_count": 118,
   "metadata": {},
   "outputs": [],
   "source": [
    "# get the complete links\n",
    "LINKS_registerationpage = []\n",
    "for i in links:\n",
    "    _temp_link = 'https://oidb.metu.edu.tr'+ i.get(\"href\")\n",
    "    _title = i.text\n",
    "    LINKS_registerationpage.append((_temp_link,_title))"
   ]
  },
  {
   "cell_type": "code",
   "execution_count": 119,
   "metadata": {},
   "outputs": [],
   "source": [
    "LINKS_registerationpage = LINKS_registerationpage[0:len(LINKS_registerationpage)-2]"
   ]
  },
  {
   "cell_type": "code",
   "execution_count": 120,
   "metadata": {},
   "outputs": [
    {
     "data": {
      "text/plain": [
       "('https://oidb.metu.edu.trhttp://oidb.metu.edu.tr/en/2022-2023-academic-year-registrations-international-students-undergraduate-programs',\n",
       " 'Registrations of International Students to Undergraduate Programs')"
      ]
     },
     "execution_count": 120,
     "metadata": {},
     "output_type": "execute_result"
    }
   ],
   "source": [
    "LINKS_registerationpage.pop(5)\n",
    "LINKS_registerationpage.pop(2)"
   ]
  },
  {
   "cell_type": "code",
   "execution_count": 121,
   "metadata": {},
   "outputs": [],
   "source": [
    "LINKS_registerationpage.append((\"https://oidb.metu.edu.tr/en/2022-2023-academic-year-registrations-international-students-undergraduate-programs\", \"Registrations of International Students to Undergraduate Programs\"))"
   ]
  },
  {
   "cell_type": "code",
   "execution_count": 122,
   "metadata": {},
   "outputs": [
    {
     "data": {
      "text/plain": [
       "[('https://oidb.metu.edu.tr/en/students-basic-english-department',\n",
       "  'Registrations of Students to Basic English Department'),\n",
       " ('https://oidb.metu.edu.tr/en/students-continuing-their-program',\n",
       "  'Registrations of Students Continuing Their Program (Graduate and Undergraduate Programs, the Higher Vocational School)'),\n",
       " ('https://oidb.metu.edu.tr/en/students-double-majorminor-programs',\n",
       "  'Registrations of Students to Double Major/Minor Programs'),\n",
       " ('https://oidb.metu.edu.tr/en/registrations-newly-admitted-international-students-graduate-programs',\n",
       "  'Registrations of Newly Admitted International Students to Graduate Programs'),\n",
       " ('https://oidb.metu.edu.tr/en/registrations-students-suny-programs',\n",
       "  'Registrations of Students of SUNY Programs'),\n",
       " ('https://oidb.metu.edu.tr/en/2022-2023-academic-year-registrations-international-students-undergraduate-programs',\n",
       "  'Registrations of International Students to Undergraduate Programs')]"
      ]
     },
     "execution_count": 122,
     "metadata": {},
     "output_type": "execute_result"
    }
   ],
   "source": [
    "LINKS_registerationpage"
   ]
  },
  {
   "cell_type": "code",
   "execution_count": 123,
   "metadata": {},
   "outputs": [],
   "source": [
    "more_FAQ = []\n",
    "#get the questions, answers, and the link\n",
    "for k in LINKS_registerationpage:\n",
    "    _temp_link = k[0]\n",
    "    _temp_title = k[1]\n",
    "    _temp_response = session_req.get(_temp_link)\n",
    "    _temp_soup = BeautifulSoup(_temp_response.text,\"html.parser\")\n",
    "    _main_body = _temp_soup.find(\"div\", attrs = {\"class\":\"field field--name-body field--type-text-with-summary field--label-hidden field--item\"})\n",
    "    _temp_answer = _main_body.text\n",
    "    more_FAQ.append({\"link\": _temp_link,\"question\": _temp_title, \"answer\": _temp_answer})"
   ]
  },
  {
   "cell_type": "code",
   "execution_count": 126,
   "metadata": {},
   "outputs": [],
   "source": [
    "df = pd.DataFrame(more_FAQ)"
   ]
  },
  {
   "cell_type": "code",
   "execution_count": 127,
   "metadata": {},
   "outputs": [],
   "source": [
    "df.to_excel(r'C:\\\\Users\\\\merve\\\\Downloads\\\\more_FAQ.xlsx', index=False)"
   ]
  }
 ],
 "metadata": {
  "kernelspec": {
   "display_name": "Python 3",
   "language": "python",
   "name": "python3"
  },
  "language_info": {
   "codemirror_mode": {
    "name": "ipython",
    "version": 3
   },
   "file_extension": ".py",
   "mimetype": "text/x-python",
   "name": "python",
   "nbconvert_exporter": "python",
   "pygments_lexer": "ipython3",
   "version": "3.10.0"
  }
 },
 "nbformat": 4,
 "nbformat_minor": 2
}
