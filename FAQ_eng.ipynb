{
 "cells": [
  {
   "cell_type": "markdown",
   "metadata": {},
   "source": [
    "Import the libraries"
   ]
  },
  {
   "cell_type": "code",
   "execution_count": 41,
   "metadata": {},
   "outputs": [],
   "source": [
    "import requests\n",
    "from bs4 import BeautifulSoup\n",
    "import pandas as pd"
   ]
  },
  {
   "cell_type": "markdown",
   "metadata": {},
   "source": [
    "#### EXTRACT THE SUBCATEGORIES LINKS IN FAQ WEB PAGE"
   ]
  },
  {
   "cell_type": "code",
   "execution_count": 42,
   "metadata": {},
   "outputs": [],
   "source": [
    "# define the url \n",
    "url = r\"https://faq.cc.metu.edu.tr\""
   ]
  },
  {
   "cell_type": "code",
   "execution_count": 43,
   "metadata": {},
   "outputs": [],
   "source": [
    "# define the request \n",
    "session_req = requests.session()\n",
    "response  = session_req.get(url)"
   ]
  },
  {
   "cell_type": "code",
   "execution_count": 44,
   "metadata": {},
   "outputs": [],
   "source": [
    "# parse the url context\n",
    "soup = BeautifulSoup(response.text, \"html.parser\")\n",
    "# and find the all extensions of the FAQ's links \n",
    "network_section = soup.find_all(\"a\",class_='menu__link')"
   ]
  },
  {
   "cell_type": "code",
   "execution_count": 45,
   "metadata": {},
   "outputs": [],
   "source": [
    "subcategories_links = []\n",
    "for k in network_section:\n",
    "    _temp_link = \"https://faq.cc.metu.edu.tr\" + str(k.get(\"href\"))\n",
    "    subcategories_links.append(_temp_link)"
   ]
  },
  {
   "cell_type": "code",
   "execution_count": 46,
   "metadata": {},
   "outputs": [
    {
     "data": {
      "text/plain": [
       "['https://faq.cc.metu.edu.trhttp://faq.cc.metu.edu.tr/tr',\n",
       " 'https://faq.cc.metu.edu.trhttp://metu.edu.tr/',\n",
       " 'https://faq.cc.metu.edu.trhttps://faq.cc.metu.edu.tr/faq/cc-faq',\n",
       " 'https://faq.cc.metu.edu.trNone',\n",
       " 'https://faq.cc.metu.edu.tr/groups/network']"
      ]
     },
     "execution_count": 46,
     "metadata": {},
     "output_type": "execute_result"
    }
   ],
   "source": [
    "subcategories_links[:5]"
   ]
  },
  {
   "cell_type": "code",
   "execution_count": 47,
   "metadata": {},
   "outputs": [],
   "source": [
    "subcategories_links = subcategories_links[4:]\n",
    "subcategories_links.remove('https://faq.cc.metu.edu.trhttps://faq.cc.metu.edu.tr/groups/smartcard')\n",
    "subcategories_links.remove('https://faq.cc.metu.edu.tr/groups/exam-evaluation-optical-reader')\n",
    "subcategories_links.remove('https://faq.cc.metu.edu.tr/groups/informatics-services')"
   ]
  },
  {
   "cell_type": "code",
   "execution_count": 48,
   "metadata": {},
   "outputs": [],
   "source": [
    "subcategories_links.append('https://faq.cc.metu.edu.tr/groups/smartcard')"
   ]
  },
  {
   "cell_type": "code",
   "execution_count": 50,
   "metadata": {},
   "outputs": [],
   "source": [
    "subcategories_links.remove('https://faq.cc.metu.edu.tr/groups/exam-evaluation-optical-reader')"
   ]
  },
  {
   "cell_type": "markdown",
   "metadata": {},
   "source": [
    "#### NOW GET THE QUESTIONS FROM THE SUBCATEGORIES"
   ]
  },
  {
   "cell_type": "code",
   "execution_count": 51,
   "metadata": {},
   "outputs": [],
   "source": [
    "FAQs = []\n",
    "for i in subcategories_links:\n",
    "    # define the request \n",
    "    session_req = requests.session()\n",
    "    response  = session_req.get(i)\n",
    "\n",
    "    # parse the url context\n",
    "    soup = BeautifulSoup(response.text, \"html.parser\")\n",
    "    # and find the all extensions of the FAQ's links \n",
    "    a = soup.find(\"table\").find_all(\"a\")\n",
    "\n",
    "    # get the complete links of FAQs\n",
    "    link_FAQ = []\n",
    "    for j in a:\n",
    "        _temp_link = \"https://faq.cc.metu.edu.tr/\" + j.get(\"href\")\n",
    "        _title = j.text\n",
    "        link_FAQ.append((_temp_link,_title))\n",
    "\n",
    "    # get the questions, answers, and the link\n",
    "    for k in link_FAQ:\n",
    "        _temp_link = k[0]\n",
    "        _temp_title = k[1]\n",
    "        _temp_response = session_req.get(_temp_link)\n",
    "        _temp_soup = BeautifulSoup(_temp_response.text,\"html.parser\")\n",
    "        _main_body = _temp_soup.find(\"div\", attrs = {\"id\":\"mainbody\"})\n",
    "        _temp_answer = _main_body.text\n",
    "        FAQs.append({\"link\": _temp_link,\"question\": _temp_title, \"answer\": _temp_answer})\n"
   ]
  },
  {
   "cell_type": "markdown",
   "metadata": {},
   "source": [
    "#### DATA PREPROCESSING"
   ]
  },
  {
   "cell_type": "code",
   "execution_count": 53,
   "metadata": {},
   "outputs": [
    {
     "data": {
      "text/plain": [
       "581"
      ]
     },
     "execution_count": 53,
     "metadata": {},
     "output_type": "execute_result"
    }
   ],
   "source": [
    "len(FAQs)"
   ]
  },
  {
   "cell_type": "markdown",
   "metadata": {},
   "source": [
    "###### Original length of FAQ, so there are 581 questions, and their answers, and their links. However, there might be dublicated questions/answers."
   ]
  },
  {
   "cell_type": "code",
   "execution_count": 69,
   "metadata": {},
   "outputs": [],
   "source": [
    "# remove dublicated questions.\n",
    "unique_faqs = [dict(t) for t in {tuple(d.items()) for d in FAQs}]"
   ]
  },
  {
   "cell_type": "code",
   "execution_count": 70,
   "metadata": {},
   "outputs": [
    {
     "data": {
      "text/plain": [
       "322"
      ]
     },
     "execution_count": 70,
     "metadata": {},
     "output_type": "execute_result"
    }
   ],
   "source": [
    "len(unique_faqs)"
   ]
  },
  {
   "cell_type": "code",
   "execution_count": 74,
   "metadata": {},
   "outputs": [
    {
     "data": {
      "text/html": [
       "<div>\n",
       "<style scoped>\n",
       "    .dataframe tbody tr th:only-of-type {\n",
       "        vertical-align: middle;\n",
       "    }\n",
       "\n",
       "    .dataframe tbody tr th {\n",
       "        vertical-align: top;\n",
       "    }\n",
       "\n",
       "    .dataframe thead th {\n",
       "        text-align: right;\n",
       "    }\n",
       "</style>\n",
       "<table border=\"1\" class=\"dataframe\">\n",
       "  <thead>\n",
       "    <tr style=\"text-align: right;\">\n",
       "      <th></th>\n",
       "      <th>link</th>\n",
       "      <th>question</th>\n",
       "      <th>answer</th>\n",
       "    </tr>\n",
       "  </thead>\n",
       "  <tbody>\n",
       "    <tr>\n",
       "      <th>0</th>\n",
       "      <td>https://faq.cc.metu.edu.tr//faq/how-can-i-conn...</td>\n",
       "      <td>How can I connect to eduroam wireless network ...</td>\n",
       "      <td>\\n\\nIf you are using Windows 10, then you do n...</td>\n",
       "    </tr>\n",
       "    <tr>\n",
       "      <th>1</th>\n",
       "      <td>https://faq.cc.metu.edu.tr//faq/meturoam</td>\n",
       "      <td>How can I connect to meturoam network?</td>\n",
       "      <td>\\n\\nA device must support WPA2 Enterprise with...</td>\n",
       "    </tr>\n",
       "    <tr>\n",
       "      <th>2</th>\n",
       "      <td>https://faq.cc.metu.edu.tr//faq/guest-account-...</td>\n",
       "      <td>A guest account created for me. How can I conn...</td>\n",
       "      <td>\\n\\nA device must support WPA2 Enterprise with...</td>\n",
       "    </tr>\n",
       "  </tbody>\n",
       "</table>\n",
       "</div>"
      ],
      "text/plain": [
       "                                                link  \\\n",
       "0  https://faq.cc.metu.edu.tr//faq/how-can-i-conn...   \n",
       "1           https://faq.cc.metu.edu.tr//faq/meturoam   \n",
       "2  https://faq.cc.metu.edu.tr//faq/guest-account-...   \n",
       "\n",
       "                                            question  \\\n",
       "0  How can I connect to eduroam wireless network ...   \n",
       "1             How can I connect to meturoam network?   \n",
       "2  A guest account created for me. How can I conn...   \n",
       "\n",
       "                                              answer  \n",
       "0  \\n\\nIf you are using Windows 10, then you do n...  \n",
       "1  \\n\\nA device must support WPA2 Enterprise with...  \n",
       "2  \\n\\nA device must support WPA2 Enterprise with...  "
      ]
     },
     "execution_count": 74,
     "metadata": {},
     "output_type": "execute_result"
    }
   ],
   "source": [
    "# import data as excel\n",
    "\n",
    "# Convert the list of dictionaries to a DataFrame\n",
    "df = pd.DataFrame(FAQs)\n",
    "\n",
    "df.head(3)"
   ]
  },
  {
   "cell_type": "code",
   "execution_count": 75,
   "metadata": {},
   "outputs": [],
   "source": [
    "df.to_excel(r'C:\\Users\\merve\\Downloads\\FAQs_eng.xlsx', index=False)"
   ]
  }
 ],
 "metadata": {
  "kernelspec": {
   "display_name": "Python 3",
   "language": "python",
   "name": "python3"
  },
  "language_info": {
   "codemirror_mode": {
    "name": "ipython",
    "version": 3
   },
   "file_extension": ".py",
   "mimetype": "text/x-python",
   "name": "python",
   "nbconvert_exporter": "python",
   "pygments_lexer": "ipython3",
   "version": "3.10.0"
  }
 },
 "nbformat": 4,
 "nbformat_minor": 2
}
