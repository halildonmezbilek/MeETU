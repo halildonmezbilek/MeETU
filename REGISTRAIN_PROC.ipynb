{
 "cells": [
  {
   "cell_type": "markdown",
   "metadata": {},
   "source": [
    "Import the libraries"
   ]
  },
  {
   "cell_type": "code",
   "execution_count": 10,
   "metadata": {},
   "outputs": [],
   "source": [
    "import requests\n",
    "from bs4 import BeautifulSoup\n",
    "import pandas as pd"
   ]
  },
  {
   "cell_type": "markdown",
   "metadata": {},
   "source": [
    "#### EXTRACT THE SUBQUESTIONS FROM THE WEBPAGE"
   ]
  },
  {
   "cell_type": "code",
   "execution_count": 11,
   "metadata": {},
   "outputs": [],
   "source": [
    "# define the url \n",
    "url = \"https://oidb.metu.edu.tr/en/frequently-asked-questions-faq-0\""
   ]
  },
  {
   "cell_type": "code",
   "execution_count": 12,
   "metadata": {},
   "outputs": [],
   "source": [
    "# define the request \n",
    "session_req = requests.session()\n",
    "response  = session_req.get(url)"
   ]
  },
  {
   "cell_type": "code",
   "execution_count": 13,
   "metadata": {},
   "outputs": [],
   "source": [
    "# HTML Parser\n",
    "soup = BeautifulSoup(response.text, \"html.parser\")"
   ]
  },
  {
   "cell_type": "code",
   "execution_count": 14,
   "metadata": {},
   "outputs": [],
   "source": [
    "FAQs_soup = soup.find_all(\"p\",class_='text-align-justify')"
   ]
  },
  {
   "cell_type": "code",
   "execution_count": 15,
   "metadata": {},
   "outputs": [
    {
     "data": {
      "text/plain": [
       "[<p class=\"text-align-justify\">New students who are to enroll in METU can obtain information from the Registration Guide (<a href=\"http://oidb.metu.edu.tr/en/general-information-about-registration\">http://oidb.metu.edu.tr/en/general-information-about-registration</a>) and from the web page of the Department of Basic English (<a href=\"http://dbe.metu.edu.tr/\" target=\"_blank\">http://dbe.metu.edu.tr/</a>).</p>,\n",
       " <p class=\"text-align-justify\"><strong>Is it possible for new students to enroll at the university with missing documents? / Can someone else register on behalf of me?</strong></p>,\n",
       " <p class=\"text-align-justify\">It is possible to register with missing documents; however, the missing documents must be provided by the students until the deadline reported to them by the university.</p>,\n",
       " <p class=\"text-align-justify\">If the student cannot be present in person for enrollment, someone else may complete the enrollment procedures on behalf of him/her provided that a petition is received.</p>,\n",
       " <p class=\"text-align-justify\">International students must be present in person for enrollment at the university.</p>]"
      ]
     },
     "execution_count": 15,
     "metadata": {},
     "output_type": "execute_result"
    }
   ],
   "source": [
    "FAQs_soup[0:5]"
   ]
  },
  {
   "cell_type": "code",
   "execution_count": 16,
   "metadata": {},
   "outputs": [],
   "source": [
    "FAQs_soup = FAQs_soup[1:len(FAQs_soup)]"
   ]
  },
  {
   "cell_type": "code",
   "execution_count": 19,
   "metadata": {},
   "outputs": [],
   "source": [
    "more_FAQs = pd.DataFrame(columns=['Question', 'Answer'])\n",
    "question_mark =\"?\"\n",
    "index = -1\n",
    "Answers = []\n",
    "Questions = []\n",
    "flag=0\n",
    "\n",
    "for i in range(len(FAQs_soup)):\n",
    "    # detect the questions by searching if it includes question mark or not\n",
    "    if question_mark in FAQs_soup[i].text:\n",
    "        Questions.append(FAQs_soup[i].text)\n",
    "        Answers.append(\"\")\n",
    "        flag = 0\n",
    "        index += 1\n",
    "    elif question_mark not in FAQs_soup[i].text and (flag==0):\n",
    "        Answers[index] = FAQs_soup[i].text\n",
    "        flag = 1\n",
    "    elif question_mark not in FAQs_soup[i].text and (flag==1): \n",
    "        Answers[index] += \" \" + FAQs_soup[i].text\n",
    "\n",
    "more_FAQs['Question'] = Questions\n",
    "more_FAQs['Answer'] = Answers\n"
   ]
  }
 ],
 "metadata": {
  "kernelspec": {
   "display_name": "Python 3",
   "language": "python",
   "name": "python3"
  },
  "language_info": {
   "codemirror_mode": {
    "name": "ipython",
    "version": 3
   },
   "file_extension": ".py",
   "mimetype": "text/x-python",
   "name": "python",
   "nbconvert_exporter": "python",
   "pygments_lexer": "ipython3",
   "version": "3.10.0"
  }
 },
 "nbformat": 4,
 "nbformat_minor": 2
}
